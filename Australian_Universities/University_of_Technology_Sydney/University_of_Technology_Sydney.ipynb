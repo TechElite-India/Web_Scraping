{
 "cells": [
  {
   "cell_type": "code",
   "execution_count": 1,
   "metadata": {},
   "outputs": [],
   "source": [
    "import requests\n",
    "import bs4\n",
    "import csv\n",
    "\n",
    "list=[]\n",
    "lis_h=['Course_Name','Course_Level','Course_Type','Cource_Description','University_Name','Link']\n",
    "list.append(lis_h)"
   ]
  },
  {
   "cell_type": "code",
   "execution_count": 39,
   "metadata": {},
   "outputs": [],
   "source": [
    "res1=requests.get('https://www.uts.edu.au/future-students/analytics-and-data-science/data-science-and-innovation')\n",
    "soup1=bs4.BeautifulSoup(res1.text,'lxml')"
   ]
  },
  {
   "cell_type": "code",
   "execution_count": 40,
   "metadata": {},
   "outputs": [
    {
     "name": "stdout",
     "output_type": "stream",
     "text": [
      "Bachelor of Nursing\n",
      "https://www.uts.edu.au/future-students/find-a-course/bachelor-nursing\n",
      "Bachelor of Nursing Bachelor of Arts in International Studies\n",
      "https://www.uts.edu.au/future-students/find-a-course/bachelor-nursing-bachelor-arts-international-studies\n",
      "Bachelor of Nursing Bachelor of Creative Intelligence and Innovation\n",
      "https://www.uts.edu.au/future-students/find-a-course/bachelor-nursing-bachelor-creative-intelligence-and-innovation\n",
      "Bachelor of Nursing (Honours)\n",
      "https://www.uts.edu.au/future-students/find-a-course/bachelor-nursing-honours\n"
     ]
    }
   ],
   "source": [
    "s1=soup1.select('tbody')\n",
    "for i in range(len(s1)):\n",
    "    for j in s1[i].select('a'):\n",
    "        print(j.text)\n",
    "        print('https://www.uts.edu.au'+j.get('href'))"
   ]
  },
  {
   "cell_type": "code",
   "execution_count": 41,
   "metadata": {},
   "outputs": [],
   "source": [
    "res2=requests.get('https://www.uts.edu.au/future-students/engineering')\n",
    "soup2=bs4.BeautifulSoup(res2.text,'lxml')"
   ]
  },
  {
   "cell_type": "code",
   "execution_count": 42,
   "metadata": {},
   "outputs": [
    {
     "name": "stdout",
     "output_type": "stream",
     "text": [
      "Analytics and Data Science\n",
      "https://www.uts.edu.au/future-students/analytics-and-data-science/data-science-and-innovation\n",
      "https://www.uts.edu.au/future-students/analytics-and-data-science/postgraduate-research-course\n",
      "Business\n",
      "https://www.uts.edu.au/future-students/business/undergraduate-programs\n",
      "https://www.uts.edu.au/future-students/business/entrepreneurship\n",
      "https://www.uts.edu.au/future-students/business/postgraduate-programs\n",
      "https://www.uts.edu.au/future-students/business/mba-programs\n",
      "https://www.uts.edu.au/future-students/business/research-programs\n",
      "https://www.uts.edu.au/future-students/business/accounting\n",
      "https://www.uts.edu.au/future-students/business/economics\n",
      "https://www.uts.edu.au/future-students/business/finance\n",
      "https://www.uts.edu.au/future-students/business/management\n",
      "https://www.uts.edu.au/future-students/business/marketing\n",
      "Communication\n",
      "https://www.uts.edu.au/future-students/communication/digital-and-social-media\n",
      "https://www.uts.edu.au/future-students/communication/media-practice-and-industry\n",
      "https://www.uts.edu.au/future-students/communication/strategic-communication\n",
      "https://www.uts.edu.au/future-students/communication/sports-media\n",
      "https://www.uts.edu.au/future-students/communication/digital-information-management\n",
      "https://www.uts.edu.au/future-students/communication/journalism\n",
      "https://www.uts.edu.au/future-students/communication/media-arts-and-production\n",
      "https://www.uts.edu.au/future-students/communication/public-communication\n",
      "https://www.uts.edu.au/future-students/communication/social-and-political-sciences\n",
      "https://www.uts.edu.au/future-students/communication/music-and-sound-design\n",
      "https://www.uts.edu.au/future-students/communication/writing\n",
      "https://www.uts.edu.au/future-students/communication/postgraduate-research-degrees\n",
      "Design, Architecture and Building\n",
      "https://www.uts.edu.au/future-students/design-architecture-and-building/design\n",
      "https://www.uts.edu.au/future-students/design-architecture-and-building/design-innovation\n",
      "https://www.uts.edu.au/future-students/design-architecture-and-building/architecture\n",
      "https://www.uts.edu.au/future-students/design-architecture-and-building/built-environment\n",
      "https://www.uts.edu.au/future-students/design-architecture-and-building/dab-research\n",
      "https://www.uts.edu.au/future-students/design-architecture-and-building/public-policy-and-governance\n",
      "Education\n",
      "https://www.uts.edu.au/future-students/education/primary-education\n",
      "https://www.uts.edu.au/future-students/education/master-education\n",
      "https://www.uts.edu.au/future-students/education/secondary-education\n",
      "https://www.uts.edu.au/future-students/education/tesol\n",
      "https://www.uts.edu.au/future-students/education/postgraduate-research-degrees\n",
      "Engineering\n",
      "https://www.uts.edu.au/future-students/engineering/undergraduate-courses-0\n",
      "https://www.uts.edu.au/future-students/engineering/postgraduate-courses-0\n",
      "https://www.uts.edu.au/future-students/engineering/biomedical\n",
      "https://www.uts.edu.au/future-students/engineering/civil-and-environmental\n",
      "https://www.uts.edu.au/future-students/engineering/computer-systems-and-software\n",
      "https://www.uts.edu.au/future-students/engineering/electrical\n",
      "https://www.uts.edu.au/future-students/engineering/engineering-management\n",
      "https://www.uts.edu.au/future-students/engineering/mechanical-and-mechatronic\n",
      "https://www.uts.edu.au/future-students/engineering/systems-and-operations\n",
      "https://www.uts.edu.au/future-students/engineering/telecommunications\n",
      "Health\n",
      "https://www.uts.edu.au/future-students/health/nursing-undergraduate\n",
      "https://www.uts.edu.au/future-students/health/nursing-postgraduate\n",
      "https://www.uts.edu.au/future-students/health/midwifery\n",
      "https://www.uts.edu.au/future-students/health/sport-and-exercise\n",
      "https://www.uts.edu.au/future-students/health/public-health\n",
      "https://www.uts.edu.au/future-students/health/health-science\n",
      "https://www.uts.edu.au/future-students/health/health-services-management\n",
      "https://www.uts.edu.au/future-students/health/palliative-care\n",
      "https://www.uts.edu.au/future-students/health/health-postgraduate\n",
      "https://www.uts.edu.au/future-students/health/research-and-honours\n",
      "Health (GEM)\n",
      "https://www.uts.edu.au/future-students/health-gem/pharmacy\n",
      "https://www.uts.edu.au/future-students/health-gem/genetic-counselling\n",
      "https://www.uts.edu.au/future-students/health-gem/speech-pathology\n",
      "https://www.uts.edu.au/future-students/health-gem/clinical-psychology\n",
      "https://www.uts.edu.au/future-students/health-gem/orthoptics\n",
      "https://www.uts.edu.au/future-students/health-gem/physiotherapy\n",
      "https://www.uts.edu.au/future-students/health-gem/good-manufacturing-practice\n",
      "https://www.uts.edu.au/future-students/health-gem/health-policy-0\n",
      "https://www.uts.edu.au/future-students/health-gem/pharmaceutical-science\n",
      "https://www.uts.edu.au/future-students/health-gem/coursework-degrees\n",
      "https://www.uts.edu.au/future-students/health-gem/research-degrees\n",
      "Information Technology\n",
      "https://www.uts.edu.au/future-students/information-technology/undergraduate-courses\n",
      "https://www.uts.edu.au/future-students/information-technology/postgraduate-courses\n",
      "https://www.uts.edu.au/future-students/information-technology/business-analysis-and-information-systems\n",
      "https://www.uts.edu.au/future-students/information-technology/computer-science-data-analyticsmining\n",
      "https://www.uts.edu.au/future-students/information-technology/games-graphics-and-multimedia\n",
      "https://www.uts.edu.au/future-students/information-technology/it-management-and-leadership\n",
      "https://www.uts.edu.au/future-students/information-technology/networking-and-security\n",
      "https://www.uts.edu.au/future-students/information-technology/software-development-and-programming\n",
      "https://www.uts.edu.au/future-students/information-technology/systems-design-and-analysis\n",
      "https://www.uts.edu.au/future-students/information-technology/web-and-cloud-computing\n",
      "International Studies\n",
      "https://www.uts.edu.au/future-students/international-studies/global-studies\n",
      "https://www.uts.edu.au/future-students/international-studies/international-studies\n",
      "https://www.uts.edu.au/future-students/international-studies/languages\n",
      "https://www.uts.edu.au/future-students/international-studies/postgraduate-research-degrees\n",
      "Law\n",
      "https://www.uts.edu.au/future-students/law/undergraduate-law-programs\n",
      "https://www.uts.edu.au/future-students/law/juris-doctor\n",
      "https://www.uts.edu.au/future-students/law/legal-studies\n",
      "https://www.uts.edu.au/future-students/law/practical-legal-training\n",
      "https://www.uts.edu.au/future-students/law/intellectual-property\n",
      "https://www.uts.edu.au/future-students/law/master-laws\n",
      "https://www.uts.edu.au/future-students/law/migration-law-and-practice\n",
      "https://www.uts.edu.au/future-students/law/higher-degree-research\n",
      "https://www.uts.edu.au/future-students/law/overseas-qualified-lawyers\n",
      "https://www.uts.edu.au/future-students/law/postgraduate-law-programs\n",
      "Science\n",
      "https://www.uts.edu.au/future-students/science/life-sciences\n",
      "https://www.uts.edu.au/future-students/science/mathematical-and-physical-sciences\n",
      "https://www.uts.edu.au/future-students/science/postgraduate-programs\n",
      "https://www.uts.edu.au/future-students/science/research-programs\n",
      "https://www.uts.edu.au/future-students/science/undergraduate-programs\n",
      "Transdisciplinary Innovation\n",
      "https://www.uts.edu.au/future-students/transdisciplinary-innovation/creative-intelligence-and-innovation\n",
      "https://www.uts.edu.au/future-students/transdisciplinary-innovation/transdisciplinary-research\n",
      "https://www.uts.edu.au/future-students/transdisciplinary-innovation/technology-and-innovation\n",
      "https://www.uts.edu.au/future-students/transdisciplinary-innovation/diploma-innovation\n",
      "https://www.uts.edu.au/future-students/transdisciplinary-innovation/data-science-and-innovation\n",
      "https://www.uts.edu.au/future-students/transdisciplinary-innovation/uts-animal-logic-academy-0\n",
      "https://www.uts.edu.au/future-students/transdisciplinary-innovation/tdl-higher-education\n"
     ]
    }
   ],
   "source": [
    "s2=soup2.select('.site-search__category')\n",
    "for k in range(len(s2)):\n",
    "    print(s2[k].h3.a.text)\n",
    "    for l in s2[k].select('a')[1:]:\n",
    "        print('https://www.uts.edu.au'+l.get('href'))\n",
    "    \n",
    "    "
   ]
  },
  {
   "cell_type": "code",
   "execution_count": null,
   "metadata": {},
   "outputs": [],
   "source": [
    "import requests\n",
    "import bs4\n",
    "import csv\n",
    "\n",
    "list=[]\n",
    "lis_h=['Course_Name','Course_Level','Course_Type','Cource_Description','University_Name','Link']\n",
    "list.append(lis_h)\n",
    "\n",
    "res2=requests.get('https://www.uts.edu.au/future-students/engineering')\n",
    "soup2=bs4.BeautifulSoup(res2.text,'lxml')\n",
    "s2=soup2.select('.site-search__category')\n",
    "for k in range(len(s2)):\n",
    "    for l in s2[k].select('a')[1:]:\n",
    "        res1=requests.get('https://www.uts.edu.au'+l.get('href'))\n",
    "        soup1=bs4.BeautifulSoup(res1.text,'lxml')\n",
    "        s1=soup1.select('tbody')\n",
    "        for i in range(len(s1)):\n",
    "            for j in s1[i].select('a'):\n",
    "                list.append([j.text,'',s2[k].h3.a.text,'','University of Technology Sydney','https://www.uts.edu.au'+j.get('href')])\n",
    "\n",
    "                \n",
    "list"
   ]
  },
  {
   "cell_type": "code",
   "execution_count": 44,
   "metadata": {},
   "outputs": [
    {
     "data": {
      "text/plain": [
       "1266"
      ]
     },
     "execution_count": 44,
     "metadata": {},
     "output_type": "execute_result"
    }
   ],
   "source": [
    "len(list)"
   ]
  },
  {
   "cell_type": "code",
   "execution_count": 45,
   "metadata": {},
   "outputs": [],
   "source": [
    "with open('University_of_Technology_Sydney.csv','w',newline=\"\") as file:\n",
    "    write=csv.writer(file)\n",
    "    for row in list:\n",
    "        write.writerow(row)"
   ]
  },
  {
   "cell_type": "code",
   "execution_count": null,
   "metadata": {},
   "outputs": [],
   "source": []
  }
 ],
 "metadata": {
  "kernelspec": {
   "display_name": "Python 3",
   "language": "python",
   "name": "python3"
  },
  "language_info": {
   "codemirror_mode": {
    "name": "ipython",
    "version": 3
   },
   "file_extension": ".py",
   "mimetype": "text/x-python",
   "name": "python",
   "nbconvert_exporter": "python",
   "pygments_lexer": "ipython3",
   "version": "3.6.5"
  }
 },
 "nbformat": 4,
 "nbformat_minor": 2
}
