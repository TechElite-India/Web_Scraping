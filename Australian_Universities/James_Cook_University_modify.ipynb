{
 "cells": [
  {
   "cell_type": "code",
   "execution_count": 88,
   "metadata": {},
   "outputs": [],
   "source": [
    "res=requests.get('https://www.jcu.edu.au/courses-and-study/study-areas/geoscience')\n",
    "soup=bs4.BeautifulSoup(res.text,'lxml')"
   ]
  },
  {
   "cell_type": "code",
   "execution_count": 89,
   "metadata": {},
   "outputs": [
    {
     "data": {
      "text/plain": [
       "[<div class=\"resp-tabs-container\">\n",
       " <div class=\"panel one\">\n",
       " <p></p>\n",
       " <div class=\"columns is-multiline\"><div class=\"column is-half\">Diploma<br/><a href=\"https://www.jcu.edu.au/courses-and-study/courses/diploma-of-higher-education-in-science\">Diploma of Higher Education, majoring in Science</a></div></div> </div>\n",
       " <div class=\"panel two\">\n",
       " <p></p>\n",
       " <div class=\"columns is-multiline\"><div class=\"column is-half\">Bachelors<br/><a href=\"https://www.jcu.edu.au/courses-and-study/courses/bachelor-of-science\">Bachelor of Science</a></div><div class=\"column is-half\">Bachelors<br/><a href=\"https://www.jcu.edu.au/courses-and-study/courses/bachelor-of-geology\">Bachelor of Geology</a></div></div> </div>\n",
       " <div class=\"panel three\">\n",
       " <p></p>\n",
       " <div class=\"columns is-multiline\"><div class=\"column is-half\">Masters - Coursework<br/><a href=\"https://www.jcu.edu.au/courses-and-study/courses/master-of-science\">Master of Science</a></div><div class=\"column is-half\">Masters - Coursework<br/><a href=\"https://www.jcu.edu.au/courses-and-study/courses/master-of-science-professional\">Master of Science (Professional)</a></div></div> </div>\n",
       " </div>]"
      ]
     },
     "execution_count": 89,
     "metadata": {},
     "output_type": "execute_result"
    }
   ],
   "source": [
    "s=soup.select('.resp-tabs-container')\n",
    "s"
   ]
  },
  {
   "cell_type": "code",
   "execution_count": 90,
   "metadata": {},
   "outputs": [],
   "source": [
    "s1=s[0].select('div')"
   ]
  },
  {
   "cell_type": "code",
   "execution_count": 91,
   "metadata": {},
   "outputs": [
    {
     "name": "stdout",
     "output_type": "stream",
     "text": [
      "Diploma of Higher Education, majoring in Science\n",
      "https://www.jcu.edu.au/courses-and-study/courses/diploma-of-higher-education-in-science\n"
     ]
    }
   ],
   "source": [
    "for i in s1[1].select('a'):\n",
    "    print(i.text)\n",
    "    print(i.get('href'))"
   ]
  },
  {
   "cell_type": "code",
   "execution_count": 92,
   "metadata": {},
   "outputs": [
    {
     "data": {
      "text/plain": [
       "1"
      ]
     },
     "execution_count": 92,
     "metadata": {},
     "output_type": "execute_result"
    }
   ],
   "source": [
    "len(s1[1])"
   ]
  },
  {
   "cell_type": "code",
   "execution_count": 93,
   "metadata": {},
   "outputs": [
    {
     "name": "stdout",
     "output_type": "stream",
     "text": [
      "Bachelor of Science\n",
      "https://www.jcu.edu.au/courses-and-study/courses/bachelor-of-science\n",
      "Bachelor of Geology\n",
      "https://www.jcu.edu.au/courses-and-study/courses/bachelor-of-geology\n"
     ]
    }
   ],
   "source": [
    "x=1+len(s1[1])+2\n",
    "for i in s1[x].select('a'):\n",
    "    print(i.text)\n",
    "    print(i.get('href'))"
   ]
  },
  {
   "cell_type": "code",
   "execution_count": 94,
   "metadata": {},
   "outputs": [
    {
     "data": {
      "text/plain": [
       "2"
      ]
     },
     "execution_count": 94,
     "metadata": {},
     "output_type": "execute_result"
    }
   ],
   "source": [
    "len(s1[x])"
   ]
  },
  {
   "cell_type": "code",
   "execution_count": 95,
   "metadata": {},
   "outputs": [
    {
     "name": "stdout",
     "output_type": "stream",
     "text": [
      "Master of Science\n",
      "https://www.jcu.edu.au/courses-and-study/courses/master-of-science\n",
      "Master of Science (Professional)\n",
      "https://www.jcu.edu.au/courses-and-study/courses/master-of-science-professional\n"
     ]
    }
   ],
   "source": [
    "y=1+len(s1[1])+2+len(s1[x])+2\n",
    "for i in s1[y].select('a'):\n",
    "    print(i.text)\n",
    "    print(i.get('href'))"
   ]
  },
  {
   "cell_type": "code",
   "execution_count": null,
   "metadata": {},
   "outputs": [],
   "source": []
  }
 ],
 "metadata": {
  "kernelspec": {
   "display_name": "Python 3",
   "language": "python",
   "name": "python3"
  },
  "language_info": {
   "codemirror_mode": {
    "name": "ipython",
    "version": 3
   },
   "file_extension": ".py",
   "mimetype": "text/x-python",
   "name": "python",
   "nbconvert_exporter": "python",
   "pygments_lexer": "ipython3",
   "version": "3.6.5"
  }
 },
 "nbformat": 4,
 "nbformat_minor": 2
}
