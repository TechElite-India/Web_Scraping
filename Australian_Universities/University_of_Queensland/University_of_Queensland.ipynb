{
 "cells": [
  {
   "cell_type": "code",
   "execution_count": 1,
   "metadata": {},
   "outputs": [],
   "source": [
    "import requests\n",
    "import bs4\n",
    "import csv\n",
    "\n",
    "list=[]\n",
    "lis_h=['Course_Name','Course_Level','Course_Type','Cource_Description','University_Name','Link']\n",
    "list.append(lis_h)"
   ]
  },
  {
   "cell_type": "code",
   "execution_count": 20,
   "metadata": {},
   "outputs": [],
   "source": [
    "res1=requests.get('https://future-students.uq.edu.au/study/find-a-program/listing/undergraduate')\n",
    "soup1=bs4.BeautifulSoup(res1.text,'lxml')"
   ]
  },
  {
   "cell_type": "code",
   "execution_count": 21,
   "metadata": {},
   "outputs": [
    {
     "name": "stdout",
     "output_type": "stream",
     "text": [
      "Biotechnology\n",
      "https://future-students.uq.edu.au/study/program/Doctor-of-Biotechnology-7601\n",
      "Medical Leadership\n",
      "https://future-students.uq.edu.au/study/program/Doctor-of-Medical-Leadership-7604\n",
      "Philosophy\n",
      "https://future-students.uq.edu.au/study/program/Doctor-of-Philosophy-7501\n",
      "Philosophy\n",
      "https://future-students.uq.edu.au/study/program/Master-of-Philosophy-7500\n",
      "Veterinary Clinical Science\n",
      "https://future-students.uq.edu.au/study/program/Doctor-of-Veterinary-Clinical-Science-7603\n"
     ]
    }
   ],
   "source": [
    "s1=soup1.select('.program__secondary')\n",
    "for i in s1:\n",
    "    print(str(i.a.text)[1:-1])\n",
    "    print('https://future-students.uq.edu.au'+i.a.get('href'))"
   ]
  },
  {
   "cell_type": "code",
   "execution_count": 24,
   "metadata": {},
   "outputs": [],
   "source": [
    "import requests\n",
    "import bs4\n",
    "import csv\n",
    "\n",
    "list=[]\n",
    "lis_h=['Course_Name','Course_Level','Course_Type','Cource_Description','University_Name','Link']\n",
    "list.append(lis_h)\n",
    "\n",
    "lk=['undergraduate','postgraduate','research']\n",
    "\n",
    "for j in range(3):\n",
    "    res1=requests.get('https://future-students.uq.edu.au/study/find-a-program/listing/'+lk[j])\n",
    "    soup1=bs4.BeautifulSoup(res1.text,'lxml')\n",
    "    s1=soup1.select('.program__secondary')\n",
    "    for i in s1:\n",
    "        list.append([str(i.a.text)[1:-1],lk[j],'','','University of Queensland','https://future-students.uq.edu.au'+i.a.get('href')])\n",
    "        \n",
    "list"
   ]
  },
  {
   "cell_type": "code",
   "execution_count": 25,
   "metadata": {},
   "outputs": [
    {
     "data": {
      "text/plain": [
       "385"
      ]
     },
     "execution_count": 25,
     "metadata": {},
     "output_type": "execute_result"
    }
   ],
   "source": [
    "len(list)"
   ]
  },
  {
   "cell_type": "code",
   "execution_count": 26,
   "metadata": {},
   "outputs": [],
   "source": [
    "with open('University_of_Queensland.csv','w',newline=\"\") as file:\n",
    "    write=csv.writer(file)\n",
    "    for row in list:\n",
    "        write.writerow(row)"
   ]
  },
  {
   "cell_type": "code",
   "execution_count": null,
   "metadata": {},
   "outputs": [],
   "source": []
  }
 ],
 "metadata": {
  "kernelspec": {
   "display_name": "Python 3",
   "language": "python",
   "name": "python3"
  },
  "language_info": {
   "codemirror_mode": {
    "name": "ipython",
    "version": 3
   },
   "file_extension": ".py",
   "mimetype": "text/x-python",
   "name": "python",
   "nbconvert_exporter": "python",
   "pygments_lexer": "ipython3",
   "version": "3.6.5"
  }
 },
 "nbformat": 4,
 "nbformat_minor": 2
}
