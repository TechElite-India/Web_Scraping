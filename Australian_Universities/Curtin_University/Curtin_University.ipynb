{
 "cells": [
  {
   "cell_type": "code",
   "execution_count": null,
   "metadata": {},
   "outputs": [],
   "source": [
    "import requests\n",
    "import bs4\n",
    "import csv\n",
    "\n",
    "res1=requests.get('https://bond.edu.au/intl/future-students/study-bond/search-program')\n",
    "soup=bs4.BeautifulSoup(res1.text,'lxml')\n",
    "\n",
    "s=soup.select('.area-blocks__link')\n",
    "\n",
    "list=[]\n",
    "lis_h=['Course_Name','Course_Level','Course_Type','University_Name','Link']\n",
    "list.append(lis_h)\n",
    "\n",
    "for j in s:\n",
    "    res1=requests.get(j.get('href'))\n",
    "    soup=bs4.BeautifulSoup(res1.text,'lxml')\n",
    "    \n",
    "    s1=soup.select('.box-featured__heading-link')\n",
    "    s2=soup.select('.box-featured__level')\n",
    "    s3=soup.select('.box-featured__description')\n",
    "    \n",
    "    \n",
    "    for i in range(len(s1)-1):\n",
    "        lis=[s1[i].text[7:(len(s1[i].text)-6)],s2[i].text,j.text,s3[i].text[1:(len(s3[i].text)-3)],'Bond University',j.get('href')]\n",
    "        list.append(lis)\n",
    "\n",
    "with open('Bond_University.csv','w') as file:\n",
    "    write=csv.writer(file)\n",
    "    for row in list:\n",
    "        write.writerow(row)"
   ]
  },
  {
   "cell_type": "code",
   "execution_count": 34,
   "metadata": {},
   "outputs": [
    {
     "data": {
      "text/plain": [
       "['IoT Networks and Protocols',\n",
       " 'Human Rights and Development',\n",
       " 'Globalisation and Sustainable Development',\n",
       " 'Digital Branding and Engagement',\n",
       " 'Buyer Behaviour and Analysis',\n",
       " 'Strategic Brand Management',\n",
       " 'Online Marketing Strategies',\n",
       " 'Life With Diabetes',\n",
       " 'Information for...',\n",
       " 'Quick links',\n",
       " 'Teaching areas',\n",
       " 'Campuses']"
      ]
     },
     "execution_count": 34,
     "metadata": {},
     "output_type": "execute_result"
    }
   ],
   "source": [
    "import requests\n",
    "import bs4\n",
    "import csv\n",
    "\n",
    "i=387        #i= 1 to 387\n",
    "res1=requests.get('https://study.curtin.edu.au/search/?pageno='+str(i))\n",
    "soup=bs4.BeautifulSoup(res1.text,'lxml')\n",
    "\n",
    "list1=[]\n",
    "s=soup.select('h2')\n",
    "for a in s[1:13]:\n",
    "    list1.append(a.text)\n",
    "list1"
   ]
  },
  {
   "cell_type": "code",
   "execution_count": 35,
   "metadata": {},
   "outputs": [
    {
     "data": {
      "text/plain": [
       "['', '', '', '', '', '', '', '']"
      ]
     },
     "execution_count": 35,
     "metadata": {},
     "output_type": "execute_result"
    }
   ],
   "source": [
    "list2=[]\n",
    "s=soup.select('.offering-cards__card-type')\n",
    "for b in range(len(s)):\n",
    "    list2.append(str(s[b].text)[8:-1])\n",
    "list2"
   ]
  },
  {
   "cell_type": "code",
   "execution_count": 36,
   "metadata": {},
   "outputs": [
    {
     "data": {
      "text/plain": [
       "True"
      ]
     },
     "execution_count": 36,
     "metadata": {},
     "output_type": "execute_result"
    }
   ],
   "source": [
    "str(s[0].text)[8:-1]==''"
   ]
  },
  {
   "cell_type": "code",
   "execution_count": 37,
   "metadata": {},
   "outputs": [
    {
     "data": {
      "text/plain": [
       "['The Internet of Things (IoT) is expanding at a rapid rate, and it is becoming increasingly important for professionals to understand what it is, how it works, and how to harness…',\n",
       " 'This course explores human rights and development by critiquing dominant models of economic development and exploring the relationship of human rights to development issues and…',\n",
       " 'This course offers theoretical and real-world insights into why and how globalisation can be used as a conduit for sustainable development. Globalisation is associated not only…',\n",
       " 'Digital technology has rapidly evolved in the last decade, and so too has the way people communicate. Businesses can no longer rely solely on traditional business models to build…',\n",
       " 'For marketers, an understanding of how a consumer selects, purchases, uses and disposes of products and services is pertinent to successfully managing the marketing function. In…',\n",
       " 'In this course, you will learn how to apply the concepts of advertising and marketing to branding. We will examine topics and various strategies related to building, measuring, and…',\n",
       " 'The Internet has emerged as a platform to facilitate global commerce and communication. Its exponential growth has transformed the value chain of virtually every industry, and…',\n",
       " 'This course will focus on providing skills for individuals and families to manage diabetes. It provides an outline of what diabetes is, the various types, how they are treated and…']"
      ]
     },
     "execution_count": 37,
     "metadata": {},
     "output_type": "execute_result"
    }
   ],
   "source": [
    "list3=[]\n",
    "s=soup.select('.offering-cards__description')\n",
    "for c in range(len(s)):\n",
    "    list3.append(str(s[c].text)[1:-1])\n",
    "list3"
   ]
  },
  {
   "cell_type": "code",
   "execution_count": 38,
   "metadata": {},
   "outputs": [
    {
     "data": {
      "text/plain": [
       "['https://study.curtin.edu.au/offering/mooc-iot-networks-and-protocols--iot3xv1/',\n",
       " 'https://study.curtin.edu.au/offering/mooc-human-rights-and-development--hrig2xv1/',\n",
       " 'https://study.curtin.edu.au/offering/mooc-globalisation-and-sustainable-development--env2xv1/',\n",
       " 'https://study.curtin.edu.au/offering/mooc-digital-branding-and-engagement--mkt1xv1/',\n",
       " 'https://study.curtin.edu.au/offering/mooc-buyer-behaviour-and-analysis--mkt3xv1/',\n",
       " 'https://study.curtin.edu.au/offering/mooc-strategic-brand-management--mkt4xv1/',\n",
       " 'https://study.curtin.edu.au/offering/mooc-online-marketing-strategies--mkt5xv1/',\n",
       " 'https://study.curtin.edu.au/offering/mooc-life-with-diabetes--diab1xv1/']"
      ]
     },
     "execution_count": 38,
     "metadata": {},
     "output_type": "execute_result"
    }
   ],
   "source": [
    "\n",
    "list4=[]\n",
    "s=soup.select('.offering-cards__content-wrapper')\n",
    "\n",
    "for z in range(12):\n",
    "    if(i==387 and z==8):\n",
    "        break\n",
    "    list4.append('https://study.curtin.edu.au'+str(s[z].get('href')))\n",
    "    \n",
    "list4"
   ]
  },
  {
   "cell_type": "code",
   "execution_count": 42,
   "metadata": {},
   "outputs": [
    {
     "data": {
      "text/plain": [
       "8"
      ]
     },
     "execution_count": 42,
     "metadata": {},
     "output_type": "execute_result"
    }
   ],
   "source": [
    "len(list4)"
   ]
  },
  {
   "cell_type": "code",
   "execution_count": null,
   "metadata": {},
   "outputs": [],
   "source": [
    "import requests\n",
    "import bs4\n",
    "import csv\n",
    "\n",
    "list=[]\n",
    "lis_h=['Course_Name','Course_Level','Course_Type','Cource_Description','University_Name','Link']\n",
    "list.append(lis_h)\n",
    "\n",
    "for i in range(1,388):\n",
    "    res1=requests.get('https://study.curtin.edu.au/search/?pageno='+str(i))\n",
    "    soup=bs4.BeautifulSoup(res1.text,'lxml')\n",
    "\n",
    "    list1=[]\n",
    "    s=soup.select('h2')\n",
    "    for a in s[1:13]:\n",
    "        list1.append(a.text)\n",
    "\n",
    "    list2=[]\n",
    "    s=soup.select('.offering-cards__card-type')\n",
    "    for b in range(len(s)):\n",
    "        list2.append(str(s[b].text)[8:-1])\n",
    "\n",
    "    list3=[]\n",
    "    s=soup.select('.offering-cards__description')\n",
    "    for c in range(len(s)):\n",
    "        list3.append(str(s[c].text)[1:-1])\n",
    "        \n",
    "    list4=[]\n",
    "    s=soup.select('.offering-cards__content-wrapper')\n",
    "\n",
    "    for z in range(12):\n",
    "        if(i==387 and z==8):\n",
    "            break\n",
    "        list4.append('https://study.curtin.edu.au'+str(s[z].get('href')))\n",
    "\n",
    "    for j in range(12):\n",
    "        if(i==387 and j==8):\n",
    "            break\n",
    "        if(list2[j]!=''):\n",
    "            list.append([list1[j],list2[j],'',list3[j],'Curtin University',list4[j]])\n",
    "        else:\n",
    "            list.append([list1[j],'MOOC','',list3[j],'Curtin University',list4[j]])\n",
    "    print(i)\n",
    "\n",
    "list"
   ]
  },
  {
   "cell_type": "code",
   "execution_count": 10,
   "metadata": {},
   "outputs": [
    {
     "data": {
      "text/plain": [
       "[]"
      ]
     },
     "execution_count": 10,
     "metadata": {},
     "output_type": "execute_result"
    }
   ],
   "source": [
    "len(list)"
   ]
  },
  {
   "cell_type": "code",
   "execution_count": null,
   "metadata": {},
   "outputs": [],
   "source": [
    "with open('Curtin_University.csv','w',encoding=\"utf-8\",newline=\"\") as file:\n",
    "    write=csv.writer(file)\n",
    "    for row in list:\n",
    "        write.writerow(row)"
   ]
  },
  {
   "cell_type": "code",
   "execution_count": null,
   "metadata": {},
   "outputs": [],
   "source": [
    "import requests\n",
    "import bs4\n",
    "import csv\n",
    "\n",
    "list1=[]\n",
    "lis_h=['Course_Name','Course_Level','Course_Type','Cource_Description','University_Name','Link']\n",
    "list1.append(lis_h)\n",
    "\n",
    "for i in range(1,388):\n",
    "    res1=requests.get('https://study.curtin.edu.au/search/?pageno='+str(i))\n",
    "    soup=bs4.BeautifulSoup(res1.text,'lxml')\n",
    "\n",
    "    list1=[]\n",
    "    s=soup.select('h2')\n",
    "    for a in s[1:13]:\n",
    "        list1.append(a.text)\n",
    "\n",
    "    s1=soup.select('.offering-cards__card-type')\n",
    "    s2=soup.select('.offering-cards__description')\n",
    "    s3=soup.select('.offering-cards__content-wrapper')\n",
    "    for b in range(12):\n",
    "        if(i==387 and b==8):\n",
    "            break\n",
    "        st='https://study.curtin.edu.au'+str(s3[b].get('href'))\n",
    "        if(str(s1[b].text)[8:-1]!=''):\n",
    "            list1.append([list1[b],str(s1[b].text)[8:-1],'',str(s2[b].text)[1:-1],'Curtin University',st])\n",
    "        else:\n",
    "            list1.append([list1[b],'MOOC','',str(s2[b].text)[1:-1],'Curtin University',st])\n",
    "\n",
    "list1"
   ]
  },
  {
   "cell_type": "code",
   "execution_count": 45,
   "metadata": {},
   "outputs": [
    {
     "data": {
      "text/plain": [
       "4641"
      ]
     },
     "execution_count": 45,
     "metadata": {},
     "output_type": "execute_result"
    }
   ],
   "source": [
    "len(list)"
   ]
  },
  {
   "cell_type": "code",
   "execution_count": null,
   "metadata": {},
   "outputs": [],
   "source": [
    "with open('Curtin_University1.csv','w',encoding=\"utf-8\",newline=\"\") as file:\n",
    "    write=csv.writer(file)\n",
    "    for row in list1:\n",
    "        write.writerow(row)"
   ]
  },
  {
   "cell_type": "code",
   "execution_count": null,
   "metadata": {},
   "outputs": [],
   "source": []
  }
 ],
 "metadata": {
  "kernelspec": {
   "display_name": "Python 3",
   "language": "python",
   "name": "python3"
  },
  "language_info": {
   "codemirror_mode": {
    "name": "ipython",
    "version": 3
   },
   "file_extension": ".py",
   "mimetype": "text/x-python",
   "name": "python",
   "nbconvert_exporter": "python",
   "pygments_lexer": "ipython3",
   "version": "3.6.5"
  }
 },
 "nbformat": 4,
 "nbformat_minor": 2
}
