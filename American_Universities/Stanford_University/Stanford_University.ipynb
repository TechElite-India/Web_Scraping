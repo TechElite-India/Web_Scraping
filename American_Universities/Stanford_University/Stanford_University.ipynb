{
 "cells": [
  {
   "cell_type": "markdown",
   "metadata": {},
   "source": [
    "# Part 1"
   ]
  },
  {
   "cell_type": "code",
   "execution_count": 14,
   "metadata": {},
   "outputs": [
    {
     "name": "stderr",
     "output_type": "stream",
     "text": [
      "C:\\ProgramData\\Anaconda3\\lib\\site-packages\\ipykernel_launcher.py:6: DeprecationWarning: use options instead of chrome_options\n",
      "  \n"
     ]
    }
   ],
   "source": [
    "from selenium import webdriver\n",
    "import csv\n",
    "\n",
    "chrome_options = webdriver.ChromeOptions()\n",
    "chrome_options.add_argument('--no-sandbox')\n",
    "driver = webdriver.Chrome(\"C:\\\\Users\\MOHAN KUMAR SAH\\Documents\\My Work\\PakkaIndia\\chromedriver\",chrome_options=chrome_options)"
   ]
  },
  {
   "cell_type": "code",
   "execution_count": 2,
   "metadata": {},
   "outputs": [],
   "source": [
    "driver.get('https://exploredegrees.stanford.edu/coursedescriptions/#')"
   ]
  },
  {
   "cell_type": "code",
   "execution_count": 3,
   "metadata": {},
   "outputs": [
    {
     "data": {
      "text/plain": [
       "[<selenium.webdriver.remote.webelement.WebElement (session=\"f274adc29d1cae3bf9826f91d2493859\", element=\"0.0363374425600369-1\")>]"
      ]
     },
     "execution_count": 3,
     "metadata": {},
     "output_type": "execute_result"
    }
   ],
   "source": [
    "data1=driver.find_elements_by_id('atozindex')\n",
    "data1"
   ]
  },
  {
   "cell_type": "code",
   "execution_count": 5,
   "metadata": {},
   "outputs": [
    {
     "data": {
      "text/plain": [
       "17"
      ]
     },
     "execution_count": 5,
     "metadata": {},
     "output_type": "execute_result"
    }
   ],
   "source": [
    "data2=data1[0].find_elements_by_tag_name('ul')\n",
    "len(data2)"
   ]
  },
  {
   "cell_type": "code",
   "execution_count": 6,
   "metadata": {},
   "outputs": [
    {
     "data": {
      "text/plain": [
       "6"
      ]
     },
     "execution_count": 6,
     "metadata": {},
     "output_type": "execute_result"
    }
   ],
   "source": [
    "data3=data2[0].find_elements_by_tag_name('a')\n",
    "len(data3)"
   ]
  },
  {
   "cell_type": "code",
   "execution_count": 7,
   "metadata": {},
   "outputs": [
    {
     "data": {
      "text/plain": [
       "'Accounting (ACCT)'"
      ]
     },
     "execution_count": 7,
     "metadata": {},
     "output_type": "execute_result"
    }
   ],
   "source": [
    "data3[0].text"
   ]
  },
  {
   "cell_type": "code",
   "execution_count": 8,
   "metadata": {},
   "outputs": [
    {
     "data": {
      "text/plain": [
       "'https://exploredegrees.stanford.edu/coursedescriptions/acct/'"
      ]
     },
     "execution_count": 8,
     "metadata": {},
     "output_type": "execute_result"
    }
   ],
   "source": [
    "data3[0].get_attribute('href')"
   ]
  },
  {
   "cell_type": "markdown",
   "metadata": {},
   "source": [
    "# Full Code"
   ]
  },
  {
   "cell_type": "code",
   "execution_count": 9,
   "metadata": {},
   "outputs": [
    {
     "name": "stderr",
     "output_type": "stream",
     "text": [
      "C:\\ProgramData\\Anaconda3\\lib\\site-packages\\ipykernel_launcher.py:6: DeprecationWarning: use options instead of chrome_options\n",
      "  \n"
     ]
    },
    {
     "name": "stdout",
     "output_type": "stream",
     "text": [
      "Accounting (ACCT) https://exploredegrees.stanford.edu/coursedescriptions/acct/\n",
      "Aeronautics & Astronautics (AA) https://exploredegrees.stanford.edu/coursedescriptions/aa/\n",
      "African Studies (AFRICAST) https://exploredegrees.stanford.edu/coursedescriptions/africast/\n",
      "Anesthesia (ANES) https://exploredegrees.stanford.edu/coursedescriptions/anes/\n",
      "Anthropology (ANTHRO) https://exploredegrees.stanford.edu/coursedescriptions/anthro/\n",
      "Athletics, Phys Ed, Recreation (ATHLETIC) https://exploredegrees.stanford.edu/coursedescriptions/athletic/\n",
      "Bio Hopkins Marine (BIOHOPK) https://exploredegrees.stanford.edu/coursedescriptions/biohopk/\n",
      "Biology (BIO) https://exploredegrees.stanford.edu/coursedescriptions/bio/\n",
      "Cancer Biology (CBIO) https://exploredegrees.stanford.edu/coursedescriptions/cbio/\n",
      "Chemical Engineering (CHEMENG) https://exploredegrees.stanford.edu/coursedescriptions/chemeng/\n",
      "Chemistry (CHEM) https://exploredegrees.stanford.edu/coursedescriptions/chem/\n",
      "Civil & Environ Engineering (CEE) https://exploredegrees.stanford.edu/coursedescriptions/cee/\n",
      "Classics (CLASSICS) https://exploredegrees.stanford.edu/coursedescriptions/classics/\n",
      "Communication (COMM) https://exploredegrees.stanford.edu/coursedescriptions/comm/\n",
      "Comparative Literature (COMPLIT) https://exploredegrees.stanford.edu/coursedescriptions/complit/\n",
      "Comparative Medicine (COMPMED) https://exploredegrees.stanford.edu/coursedescriptions/compmed/\n",
      "Compar Stud in Race & Ethnic (CSRE) https://exploredegrees.stanford.edu/coursedescriptions/csre/\n",
      "Computer Science (CS) https://exploredegrees.stanford.edu/coursedescriptions/cs/\n",
      "Comput & Math Engr (CME) https://exploredegrees.stanford.edu/coursedescriptions/cme/\n",
      "Dance (DANCE) https://exploredegrees.stanford.edu/coursedescriptions/dance/\n",
      "Developmental Biology (DBIO) https://exploredegrees.stanford.edu/coursedescriptions/dbio/\n",
      "Earth, Energy & Env Sciences (EEES) https://exploredegrees.stanford.edu/coursedescriptions/eees/\n",
      "Earth Systems (EARTHSYS) https://exploredegrees.stanford.edu/coursedescriptions/earthsys/\n",
      "Economics (ECON) https://exploredegrees.stanford.edu/coursedescriptions/econ/\n",
      "Education (EDUC) https://exploredegrees.stanford.edu/coursedescriptions/educ/\n",
      "Electrical Engineering (EE) https://exploredegrees.stanford.edu/coursedescriptions/ee/\n",
      "Energy Resources Engineering (ENERGY) https://exploredegrees.stanford.edu/coursedescriptions/energy/\n",
      "Engineering (ENGR) https://exploredegrees.stanford.edu/coursedescriptions/engr/\n",
      "English (ENGLISH) https://exploredegrees.stanford.edu/coursedescriptions/english/\n",
      "Environment and Resources (ENVRES) https://exploredegrees.stanford.edu/coursedescriptions/envres/\n",
      "Ethics in Society (ETHICSOC) https://exploredegrees.stanford.edu/coursedescriptions/ethicsoc/\n",
      "Feminist, Gend, & Sex. Studies (FEMGEN) https://exploredegrees.stanford.edu/coursedescriptions/femgen/\n",
      "Film Production (FILMPROD) https://exploredegrees.stanford.edu/coursedescriptions/filmprod/\n",
      "Finance (FINANCE) https://exploredegrees.stanford.edu/coursedescriptions/finance/\n",
      "French (FRENCH) https://exploredegrees.stanford.edu/coursedescriptions/french/\n",
      "Genetics (GENE) https://exploredegrees.stanford.edu/coursedescriptions/gene/\n",
      "German Language (GERLANG) https://exploredegrees.stanford.edu/coursedescriptions/gerlang/\n",
      "Health Research & Policy (HRP) https://exploredegrees.stanford.edu/coursedescriptions/hrp/\n",
      "History (HISTORY) https://exploredegrees.stanford.edu/coursedescriptions/history/\n",
      "Human Biology (HUMBIO) https://exploredegrees.stanford.edu/coursedescriptions/humbio/\n",
      "Humanities & Sciences (HUMSCI) https://exploredegrees.stanford.edu/coursedescriptions/humsci/\n",
      "International Relations (INTNLREL) https://exploredegrees.stanford.edu/coursedescriptions/intnlrel/\n",
      "Italian (ITALIAN) https://exploredegrees.stanford.edu/coursedescriptions/italian/\n",
      "Jewish Studies (JEWISHST) https://exploredegrees.stanford.edu/coursedescriptions/jewishst/\n",
      "Law (LAW) https://exploredegrees.stanford.edu/coursedescriptions/law/\n",
      "Master of Liberal Arts (MLA) https://exploredegrees.stanford.edu/coursedescriptions/mla/\n",
      "Materials Science & Engineer (MATSCI) https://exploredegrees.stanford.edu/coursedescriptions/matsci/\n",
      "Mathematics (MATH) https://exploredegrees.stanford.edu/coursedescriptions/math/\n",
      "Mechanical Engineering (ME) https://exploredegrees.stanford.edu/coursedescriptions/me/\n",
      "Mgmt Science & Engineering (MS&E) https://exploredegrees.stanford.edu/coursedescriptions/ms_e/\n",
      "Music (MUSIC) https://exploredegrees.stanford.edu/coursedescriptions/music/\n",
      "Neurobiology (NBIO) https://exploredegrees.stanford.edu/coursedescriptions/nbio/\n",
      "Physics (PHYSICS) https://exploredegrees.stanford.edu/coursedescriptions/physics/\n",
      "Political Science (POLISCI) https://exploredegrees.stanford.edu/coursedescriptions/polisci/\n",
      "Program in Writing & Rhetoric (PWR) https://exploredegrees.stanford.edu/coursedescriptions/pwr/\n",
      "Psychology (PSYCH) https://exploredegrees.stanford.edu/coursedescriptions/psych/\n",
      "Public Policy (PUBLPOL) https://exploredegrees.stanford.edu/coursedescriptions/publpol/\n",
      "Religious Studies (RELIGST) https://exploredegrees.stanford.edu/coursedescriptions/religst/\n",
      "Russian E Euro Eurasia Studies (REES) https://exploredegrees.stanford.edu/coursedescriptions/rees/\n",
      "Sci Comput & Comput'l Math (SCCM) https://exploredegrees.stanford.edu/coursedescriptions/sccm/\n",
      "Science, Technology, & Society (STS) https://exploredegrees.stanford.edu/coursedescriptions/sts/\n",
      "Slavic Languages & Literatures (SLAVIC) https://exploredegrees.stanford.edu/coursedescriptions/slavic/\n",
      "Structured Liberal Education (SLE) https://exploredegrees.stanford.edu/coursedescriptions/sle/\n",
      "Surgery (SURG) https://exploredegrees.stanford.edu/coursedescriptions/surg/\n",
      "Theater and Performance Studies (TAPS) https://exploredegrees.stanford.edu/coursedescriptions/taps/\n"
     ]
    }
   ],
   "source": [
    "from selenium import webdriver\n",
    "import csv\n",
    "\n",
    "chrome_options = webdriver.ChromeOptions()\n",
    "chrome_options.add_argument('--no-sandbox')\n",
    "driver = webdriver.Chrome(\"C:\\\\Users\\MOHAN KUMAR SAH\\Documents\\My Work\\PakkaIndia\\chromedriver\",chrome_options=chrome_options)\n",
    "\n",
    "lis=['Course','University','URL']\n",
    "info=[]\n",
    "info.append(lis)\n",
    "\n",
    "driver.get('https://exploredegrees.stanford.edu/coursedescriptions/#')\n",
    "data1=driver.find_elements_by_id('atozindex')\n",
    "data2=data1[0].find_elements_by_tag_name('ul')\n",
    "for i in range(len(data2)):\n",
    "    data3=data2[i].find_elements_by_tag_name('a')\n",
    "    for j in range(len(data3)):\n",
    "        c=data3[j].text\n",
    "        url=data3[j].get_attribute('href')\n",
    "        \n",
    "        info.append([c,'Stanford University',url])\n",
    "        print(c,url)\n",
    "        \n",
    "driver.quit()"
   ]
  },
  {
   "cell_type": "code",
   "execution_count": 10,
   "metadata": {},
   "outputs": [
    {
     "data": {
      "text/plain": [
       "66"
      ]
     },
     "execution_count": 10,
     "metadata": {},
     "output_type": "execute_result"
    }
   ],
   "source": [
    "len(info)"
   ]
  },
  {
   "cell_type": "code",
   "execution_count": 13,
   "metadata": {},
   "outputs": [],
   "source": [
    "with open('Stanford_University-1.csv','w',encoding=\"utf-8\",newline=\"\") as file:\n",
    "    write=csv.writer(file)\n",
    "    for row in info:\n",
    "        write.writerow(row)"
   ]
  },
  {
   "cell_type": "markdown",
   "metadata": {},
   "source": [
    "# Part 2"
   ]
  },
  {
   "cell_type": "code",
   "execution_count": 15,
   "metadata": {},
   "outputs": [
    {
     "name": "stderr",
     "output_type": "stream",
     "text": [
      "C:\\ProgramData\\Anaconda3\\lib\\site-packages\\ipykernel_launcher.py:6: DeprecationWarning: use options instead of chrome_options\n",
      "  \n"
     ]
    }
   ],
   "source": [
    "from selenium import webdriver\n",
    "import csv\n",
    "\n",
    "chrome_options = webdriver.ChromeOptions()\n",
    "chrome_options.add_argument('--no-sandbox')\n",
    "driver = webdriver.Chrome(\"C:\\\\Users\\MOHAN KUMAR SAH\\Documents\\My Work\\PakkaIndia\\chromedriver\",chrome_options=chrome_options)"
   ]
  },
  {
   "cell_type": "code",
   "execution_count": 16,
   "metadata": {},
   "outputs": [],
   "source": [
    "driver.get('https://www.stanford.edu/list/interdisc/')"
   ]
  },
  {
   "cell_type": "code",
   "execution_count": 17,
   "metadata": {},
   "outputs": [
    {
     "data": {
      "text/plain": [
       "16"
      ]
     },
     "execution_count": 17,
     "metadata": {},
     "output_type": "execute_result"
    }
   ],
   "source": [
    "data1=driver.find_elements_by_class_name('alpha-group')\n",
    "len(data1)"
   ]
  },
  {
   "cell_type": "code",
   "execution_count": 18,
   "metadata": {},
   "outputs": [
    {
     "data": {
      "text/plain": [
       "6"
      ]
     },
     "execution_count": 18,
     "metadata": {},
     "output_type": "execute_result"
    }
   ],
   "source": [
    "data2=data1[0].find_elements_by_tag_name('a')\n",
    "len(data2)"
   ]
  },
  {
   "cell_type": "code",
   "execution_count": 19,
   "metadata": {},
   "outputs": [
    {
     "data": {
      "text/plain": [
       "'African and African-American Studies'"
      ]
     },
     "execution_count": 19,
     "metadata": {},
     "output_type": "execute_result"
    }
   ],
   "source": [
    "data2[0].text"
   ]
  },
  {
   "cell_type": "code",
   "execution_count": 21,
   "metadata": {},
   "outputs": [
    {
     "data": {
      "text/plain": [
       "'http://aaas.stanford.edu/'"
      ]
     },
     "execution_count": 21,
     "metadata": {},
     "output_type": "execute_result"
    }
   ],
   "source": [
    "data2[0].get_attribute('href')"
   ]
  },
  {
   "cell_type": "markdown",
   "metadata": {},
   "source": [
    "# Full Code"
   ]
  },
  {
   "cell_type": "code",
   "execution_count": 22,
   "metadata": {},
   "outputs": [
    {
     "name": "stderr",
     "output_type": "stream",
     "text": [
      "C:\\ProgramData\\Anaconda3\\lib\\site-packages\\ipykernel_launcher.py:6: DeprecationWarning: use options instead of chrome_options\n",
      "  \n"
     ]
    },
    {
     "name": "stdout",
     "output_type": "stream",
     "text": [
      "African and African-American Studies http://aaas.stanford.edu/\n",
      "African Studies https://africanstudies.stanford.edu/\n",
      "American Studies https://amstudies.stanford.edu/\n",
      "Archaeology https://archaeology.stanford.edu/\n",
      "Asian American Studies http://aas.stanford.edu/\n",
      "Astronomy Program http://astro.dept.stanford.edu/\n",
      "Biomedical Informatics http://bmi.stanford.edu/\n",
      "Biophysics Program http://med.stanford.edu/biophysics/\n",
      "Cancer Biology Program http://cancerbio.stanford.edu/\n",
      "Chicana/o Studies http://chs.stanford.edu/\n",
      "Comparative Studies in Race & Ethnicity http://ccsre.stanford.edu/\n",
      "Computational and Mathematical Engineering, Institute for (ICME) http://icme.stanford.edu/\n",
      "Creative Writing http://creativewriting.stanford.edu/\n",
      "Earth Systems Program https://earth.stanford.edu/esys\n",
      "East Asian Studies http://ceas.stanford.edu/\n",
      "Emmett Interdisciplinary Program in Environment and Resources (E-IPER) https://earth.stanford.edu/eiper\n",
      "Feminist, Gender, and Sexuality Studies https://feminist.stanford.edu/\n",
      "Global Studies Division https://sgs.stanford.edu/\n",
      "History and Philosophy of Science and Technology http://hpst.stanford.edu/\n",
      "Human Biology https://humanbiology.stanford.edu/\n",
      "Human Computer Interaction Program http://hci.stanford.edu/\n",
      "Immunology Program http://immunol.stanford.edu/\n",
      "International Policy Studies https://ips.stanford.edu/\n",
      "International Relations https://internationalrelations.stanford.edu/\n",
      "Islamic Studies, Abbasi Program in https://islamicstudies.stanford.edu/\n",
      "Latin American Studies http://las.stanford.edu/\n",
      "Master of Liberal Arts Program http://mla.stanford.edu/\n",
      "Mathematical & Computational Science Program https://mcs.stanford.edu/\n",
      "Modern Thought and Literature Program http://modthought.stanford.edu/\n",
      "Native American Studies http://nas.stanford.edu/\n",
      "Neurosciences Program https://med.stanford.edu/neurogradprogram.html\n",
      "Public Policy Program https://publicpolicy.stanford.edu/\n",
      "Russian, East European & Eurasian Studies http://creees.stanford.edu/\n",
      "Science, Technology & Society Program https://sts.stanford.edu/\n",
      "Stem Cell Biology and Regenerative Medicine http://stemcell.stanford.edu/education/phd/\n",
      "Structured Liberal Education https://undergrad.stanford.edu/programs/residential-programs/sle\n",
      "Symbolic Systems Program https://symsys.stanford.edu/\n",
      "Taube Center for Jewish Studies https://jewishstudies.stanford.edu/\n",
      "Urban Studies Program https://urbanstudies.stanford.edu/\n"
     ]
    }
   ],
   "source": [
    "from selenium import webdriver\n",
    "import csv\n",
    "\n",
    "chrome_options = webdriver.ChromeOptions()\n",
    "chrome_options.add_argument('--no-sandbox')\n",
    "driver = webdriver.Chrome(\"C:\\\\Users\\MOHAN KUMAR SAH\\Documents\\My Work\\PakkaIndia\\chromedriver\",chrome_options=chrome_options)\n",
    "\n",
    "lis=['Course','University','URL']\n",
    "info1=[]\n",
    "info.append(lis)\n",
    "\n",
    "driver.get('https://www.stanford.edu/list/interdisc/')\n",
    "data1=driver.find_elements_by_class_name('alpha-group')\n",
    "for i in range(len(data1)):\n",
    "    data2=data1[i].find_elements_by_tag_name('a')\n",
    "    for j in range(len(data2)):\n",
    "        c=data2[j].text\n",
    "        url=data2[j].get_attribute('href')\n",
    "        \n",
    "        info1.append([c,'Stanford_University',url])\n",
    "        print(c,url)\n",
    "        \n",
    "driver.quit()"
   ]
  },
  {
   "cell_type": "code",
   "execution_count": 23,
   "metadata": {},
   "outputs": [
    {
     "data": {
      "text/plain": [
       "39"
      ]
     },
     "execution_count": 23,
     "metadata": {},
     "output_type": "execute_result"
    }
   ],
   "source": [
    "len(info1)"
   ]
  },
  {
   "cell_type": "code",
   "execution_count": 24,
   "metadata": {},
   "outputs": [],
   "source": [
    "with open('Stanford_University-2.csv','w',encoding=\"utf-8\",newline=\"\") as file:\n",
    "    write=csv.writer(file)\n",
    "    for row in info1:\n",
    "        write.writerow(row)"
   ]
  },
  {
   "cell_type": "code",
   "execution_count": null,
   "metadata": {},
   "outputs": [],
   "source": []
  }
 ],
 "metadata": {
  "kernelspec": {
   "display_name": "Python 3",
   "language": "python",
   "name": "python3"
  },
  "language_info": {
   "codemirror_mode": {
    "name": "ipython",
    "version": 3
   },
   "file_extension": ".py",
   "mimetype": "text/x-python",
   "name": "python",
   "nbconvert_exporter": "python",
   "pygments_lexer": "ipython3",
   "version": "3.6.5"
  }
 },
 "nbformat": 4,
 "nbformat_minor": 2
}
