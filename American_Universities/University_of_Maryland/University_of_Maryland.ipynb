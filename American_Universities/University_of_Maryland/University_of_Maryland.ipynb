{
 "cells": [
  {
   "cell_type": "code",
   "execution_count": 1,
   "metadata": {},
   "outputs": [
    {
     "name": "stderr",
     "output_type": "stream",
     "text": [
      "C:\\ProgramData\\Anaconda3\\lib\\site-packages\\ipykernel_launcher.py:6: DeprecationWarning: use options instead of chrome_options\n",
      "  \n"
     ]
    }
   ],
   "source": [
    "from selenium import webdriver\n",
    "import csv\n",
    "\n",
    "chrome_options = webdriver.ChromeOptions()\n",
    "chrome_options.add_argument('--no-sandbox')\n",
    "driver = webdriver.Chrome(\"C:\\\\Users\\MOHAN KUMAR SAH\\Documents\\My Work\\PakkaIndia\\chromedriver\",chrome_options=chrome_options)"
   ]
  },
  {
   "cell_type": "code",
   "execution_count": 3,
   "metadata": {},
   "outputs": [],
   "source": [
    "driver.get('https://academiccatalog.umd.edu/undergraduate/approved-courses/')"
   ]
  },
  {
   "cell_type": "code",
   "execution_count": 4,
   "metadata": {},
   "outputs": [
    {
     "data": {
      "text/plain": [
       "1"
      ]
     },
     "execution_count": 4,
     "metadata": {},
     "output_type": "execute_result"
    }
   ],
   "source": [
    "data1=driver.find_elements_by_id('/undergraduate/approved-courses/')\n",
    "len(data1)"
   ]
  },
  {
   "cell_type": "code",
   "execution_count": 5,
   "metadata": {},
   "outputs": [
    {
     "data": {
      "text/plain": [
       "155"
      ]
     },
     "execution_count": 5,
     "metadata": {},
     "output_type": "execute_result"
    }
   ],
   "source": [
    "data2=data1[0].find_elements_by_tag_name('a')\n",
    "len(data2)"
   ]
  },
  {
   "cell_type": "code",
   "execution_count": 6,
   "metadata": {},
   "outputs": [
    {
     "data": {
      "text/plain": [
       "'AASP - African American Studies'"
      ]
     },
     "execution_count": 6,
     "metadata": {},
     "output_type": "execute_result"
    }
   ],
   "source": [
    "data2[0].text"
   ]
  },
  {
   "cell_type": "code",
   "execution_count": 7,
   "metadata": {},
   "outputs": [
    {
     "data": {
      "text/plain": [
       "'https://academiccatalog.umd.edu/undergraduate/approved-courses/aasp/'"
      ]
     },
     "execution_count": 7,
     "metadata": {},
     "output_type": "execute_result"
    }
   ],
   "source": [
    "data2[0].get_attribute('href')"
   ]
  },
  {
   "cell_type": "code",
   "execution_count": 12,
   "metadata": {},
   "outputs": [],
   "source": [
    "driver.get('https://academiccatalog.umd.edu/graduate/courses/')"
   ]
  },
  {
   "cell_type": "code",
   "execution_count": 13,
   "metadata": {},
   "outputs": [
    {
     "data": {
      "text/plain": [
       "1"
      ]
     },
     "execution_count": 13,
     "metadata": {},
     "output_type": "execute_result"
    }
   ],
   "source": [
    "data1=driver.find_elements_by_id('/graduate/courses/')\n",
    "len(data1)"
   ]
  },
  {
   "cell_type": "code",
   "execution_count": 14,
   "metadata": {},
   "outputs": [
    {
     "data": {
      "text/plain": [
       "162"
      ]
     },
     "execution_count": 14,
     "metadata": {},
     "output_type": "execute_result"
    }
   ],
   "source": [
    "data2=data1[0].find_elements_by_tag_name('a')\n",
    "len(data2)"
   ]
  },
  {
   "cell_type": "code",
   "execution_count": 15,
   "metadata": {},
   "outputs": [
    {
     "data": {
      "text/plain": [
       "'AASP - African American Studies'"
      ]
     },
     "execution_count": 15,
     "metadata": {},
     "output_type": "execute_result"
    }
   ],
   "source": [
    "data2[0].text"
   ]
  },
  {
   "cell_type": "code",
   "execution_count": 16,
   "metadata": {},
   "outputs": [
    {
     "data": {
      "text/plain": [
       "'https://academiccatalog.umd.edu/graduate/courses/aasp/'"
      ]
     },
     "execution_count": 16,
     "metadata": {},
     "output_type": "execute_result"
    }
   ],
   "source": [
    "data2[0].get_attribute('href')"
   ]
  },
  {
   "cell_type": "markdown",
   "metadata": {},
   "source": [
    "# Full Code"
   ]
  },
  {
   "cell_type": "code",
   "execution_count": 17,
   "metadata": {},
   "outputs": [
    {
     "name": "stderr",
     "output_type": "stream",
     "text": [
      "C:\\ProgramData\\Anaconda3\\lib\\site-packages\\ipykernel_launcher.py:6: DeprecationWarning: use options instead of chrome_options\n",
      "  \n"
     ]
    },
    {
     "name": "stdout",
     "output_type": "stream",
     "text": [
      "AASP - African American Studies https://academiccatalog.umd.edu/undergraduate/approved-courses/aasp/\n",
      "AAST - Asian American Studies https://academiccatalog.umd.edu/undergraduate/approved-courses/aast/\n",
      "AGNR - Agriculture and Natural Resources https://academiccatalog.umd.edu/undergraduate/approved-courses/agnr/\n",
      "AMSC - Applied Mathematics & Scientific Computation https://academiccatalog.umd.edu/undergraduate/approved-courses/amsc/\n",
      "AMST - American Studies https://academiccatalog.umd.edu/undergraduate/approved-courses/amst/\n",
      "ANSC - Animal Science https://academiccatalog.umd.edu/undergraduate/approved-courses/ansc/\n",
      "ANTH - Anthropology https://academiccatalog.umd.edu/undergraduate/approved-courses/anth/\n",
      "AOSC - Atmospheric and Oceanic Science https://academiccatalog.umd.edu/undergraduate/approved-courses/aosc/\n",
      "ARAB - Arabic https://academiccatalog.umd.edu/undergraduate/approved-courses/arab/\n",
      "ARCH - Architecture https://academiccatalog.umd.edu/undergraduate/approved-courses/arch/\n",
      "AREC - Agricultural and Resource Economics https://academiccatalog.umd.edu/undergraduate/approved-courses/arec/\n",
      "ARHU - Arts and Humanities https://academiccatalog.umd.edu/undergraduate/approved-courses/arhu/\n",
      "ARMY - Army https://academiccatalog.umd.edu/undergraduate/approved-courses/army/\n",
      "ARSC - Air Science https://academiccatalog.umd.edu/undergraduate/approved-courses/arsc/\n",
      "ARTH - Art History & Archaeology https://academiccatalog.umd.edu/undergraduate/approved-courses/arth/\n",
      "ARTT - Art Studio https://academiccatalog.umd.edu/undergraduate/approved-courses/artt/\n",
      "ASTR - Astronomy https://academiccatalog.umd.edu/undergraduate/approved-courses/astr/\n",
      "BCHM - Biochemistry https://academiccatalog.umd.edu/undergraduate/approved-courses/bchm/\n",
      "BIOE - Bioengineering https://academiccatalog.umd.edu/undergraduate/approved-courses/bioe/\n",
      "BIOM - Biometrics https://academiccatalog.umd.edu/undergraduate/approved-courses/biom/\n",
      "BMGT - Business and Management https://academiccatalog.umd.edu/undergraduate/approved-courses/bmgt/\n",
      "BSCI - Biological Sciences Program https://academiccatalog.umd.edu/undergraduate/approved-courses/bsci/\n",
      "BSCV - CIVICUS https://academiccatalog.umd.edu/undergraduate/approved-courses/bscv/\n",
      "BSGC - Global Communities https://academiccatalog.umd.edu/undergraduate/approved-courses/bsgc/\n",
      "BSOS - Behavioral and Social Sciences https://academiccatalog.umd.edu/undergraduate/approved-courses/bsos/\n",
      "BSST - Terrorism Studies https://academiccatalog.umd.edu/undergraduate/approved-courses/bsst/\n",
      "CCJS - Criminology and Criminal Justice https://academiccatalog.umd.edu/undergraduate/approved-courses/ccjs/\n",
      "CHBE - Chemical and Biomolecular Engineering https://academiccatalog.umd.edu/undergraduate/approved-courses/chbe/\n",
      "CHEM - Chemistry https://academiccatalog.umd.edu/undergraduate/approved-courses/chem/\n",
      "CHIN - Chinese https://academiccatalog.umd.edu/undergraduate/approved-courses/chin/\n",
      "CLAS - Classics https://academiccatalog.umd.edu/undergraduate/approved-courses/clas/\n",
      "CMLT - Comparative Literature https://academiccatalog.umd.edu/undergraduate/approved-courses/cmlt/\n",
      "CMSC - Computer Science https://academiccatalog.umd.edu/undergraduate/approved-courses/cmsc/\n",
      "COMM - Communication https://academiccatalog.umd.edu/undergraduate/approved-courses/comm/\n",
      "CPBE - College Park Scholars-Business, Society, and Economy https://academiccatalog.umd.edu/undergraduate/approved-courses/cpbe/\n",
      "CPET - College Park Scholars-Environment, Technology & Economy https://academiccatalog.umd.edu/undergraduate/approved-courses/cpet/\n",
      "CPGH - College Park Scholars-Global Public Health https://academiccatalog.umd.edu/undergraduate/approved-courses/cpgh/\n",
      "CPJT - College Park Scholars-Justice and Legal Thought https://academiccatalog.umd.edu/undergraduate/approved-courses/cpjt/\n",
      "CPMS - College Park Scholars-Media, Self and Society https://academiccatalog.umd.edu/undergraduate/approved-courses/cpms/\n",
      "CPPL - College Park Scholars-Public Leadership https://academiccatalog.umd.edu/undergraduate/approved-courses/cppl/\n",
      "CPSA - College Park Scholars-Arts https://academiccatalog.umd.edu/undergraduate/approved-courses/cpsa/\n",
      "CPSD - College Park Scholars-Science, Discovery & the Universe https://academiccatalog.umd.edu/undergraduate/approved-courses/cpsd/\n",
      "CPSF - College Park Scholars-Life Sciences https://academiccatalog.umd.edu/undergraduate/approved-courses/cpsf/\n",
      "CPSG - College Park Scholars-Science and Global Change https://academiccatalog.umd.edu/undergraduate/approved-courses/cpsg/\n",
      "CPSN - College Park Scholars-International Studies https://academiccatalog.umd.edu/undergraduate/approved-courses/cpsn/\n",
      "CPSP - College Park Scholars Program https://academiccatalog.umd.edu/undergraduate/approved-courses/cpsp/\n",
      "CPSS - College Park Scholars-Science, Technology and Society https://academiccatalog.umd.edu/undergraduate/approved-courses/cpss/\n",
      "DANC - Dance https://academiccatalog.umd.edu/undergraduate/approved-courses/danc/\n",
      "EALL - East Asian Languages and Literatures https://academiccatalog.umd.edu/undergraduate/approved-courses/eall/\n",
      "ECON - Economics https://academiccatalog.umd.edu/undergraduate/approved-courses/econ/\n",
      "EDCI - Curriculum and Instruction https://academiccatalog.umd.edu/undergraduate/approved-courses/edci/\n",
      "EDCP - Education Counseling and Personnel Services https://academiccatalog.umd.edu/undergraduate/approved-courses/edcp/\n",
      "EDHD - Education, Human Development https://academiccatalog.umd.edu/undergraduate/approved-courses/edhd/\n",
      "EDHI - Education Leadership, Higher Ed and International Ed https://academiccatalog.umd.edu/undergraduate/approved-courses/edhi/\n",
      "EDMS - Measurement, Statistics, and Evaluation https://academiccatalog.umd.edu/undergraduate/approved-courses/edms/\n",
      "EDPS - Education Policy Studies https://academiccatalog.umd.edu/undergraduate/approved-courses/edps/\n",
      "EDSP - Education, Special https://academiccatalog.umd.edu/undergraduate/approved-courses/edsp/\n",
      "EDUC - Education https://academiccatalog.umd.edu/undergraduate/approved-courses/educ/\n",
      "ENAE - Engineering, Aerospace https://academiccatalog.umd.edu/undergraduate/approved-courses/enae/\n",
      "ENCE - Engineering, Civil https://academiccatalog.umd.edu/undergraduate/approved-courses/ence/\n",
      "ENEE - Electrical & Computer Engineering https://academiccatalog.umd.edu/undergraduate/approved-courses/enee/\n",
      "ENES - Engineering Science https://academiccatalog.umd.edu/undergraduate/approved-courses/enes/\n",
      "ENFP - Engineering, Fire Protection https://academiccatalog.umd.edu/undergraduate/approved-courses/enfp/\n",
      "ENGL - English https://academiccatalog.umd.edu/undergraduate/approved-courses/engl/\n",
      "ENMA - Engineering, Materials https://academiccatalog.umd.edu/undergraduate/approved-courses/enma/\n",
      "ENME - Engineering, Mechanical https://academiccatalog.umd.edu/undergraduate/approved-courses/enme/\n",
      "ENNU - Engineering, Nuclear https://academiccatalog.umd.edu/undergraduate/approved-courses/ennu/\n",
      "ENRE - Reliability Engineering https://academiccatalog.umd.edu/undergraduate/approved-courses/enre/\n",
      "ENSP - Environmental Science and Policy https://academiccatalog.umd.edu/undergraduate/approved-courses/ensp/\n",
      "ENST - Environmental Science and Technology https://academiccatalog.umd.edu/undergraduate/approved-courses/enst/\n",
      "EPIB - Epidemiology and Biostatistics https://academiccatalog.umd.edu/undergraduate/approved-courses/epib/\n",
      "FGSM - Federal and Global Semester https://academiccatalog.umd.edu/undergraduate/approved-courses/fgsm/\n",
      "FILM - Film Studies https://academiccatalog.umd.edu/undergraduate/approved-courses/film/\n",
      "FIRE - First-Year Innovation & Research Experience https://academiccatalog.umd.edu/undergraduate/approved-courses/fire/\n",
      "FMSC - Family Science https://academiccatalog.umd.edu/undergraduate/approved-courses/fmsc/\n",
      "FOLA - Foreign Language https://academiccatalog.umd.edu/undergraduate/approved-courses/fola/\n",
      "FREN - French https://academiccatalog.umd.edu/undergraduate/approved-courses/fren/\n",
      "GEMS - Gemstone https://academiccatalog.umd.edu/undergraduate/approved-courses/gems/\n",
      "GEOG - Geographical Sciences https://academiccatalog.umd.edu/undergraduate/approved-courses/geog/\n",
      "GEOL - Geology https://academiccatalog.umd.edu/undergraduate/approved-courses/geol/\n",
      "GERM - Germanic Studies https://academiccatalog.umd.edu/undergraduate/approved-courses/germ/\n",
      "GREK - Greek https://academiccatalog.umd.edu/undergraduate/approved-courses/grek/\n",
      "GVPT - Government and Politics https://academiccatalog.umd.edu/undergraduate/approved-courses/gvpt/\n",
      "HACS - ACES-Cybersecurity https://academiccatalog.umd.edu/undergraduate/approved-courses/hacs/\n",
      "HDCC - Design Cultures and Creativity https://academiccatalog.umd.edu/undergraduate/approved-courses/hdcc/\n",
      "HEBR - Hebrew https://academiccatalog.umd.edu/undergraduate/approved-courses/hebr/\n",
      "HEIP - Entrepreneurship and Innovation https://academiccatalog.umd.edu/undergraduate/approved-courses/heip/\n",
      "HESI - Higher Ed, Student Affairs, and International Ed Policy https://academiccatalog.umd.edu/undergraduate/approved-courses/hesi/\n"
     ]
    },
    {
     "name": "stdout",
     "output_type": "stream",
     "text": [
      "HESP - Hearing and Speech Sciences https://academiccatalog.umd.edu/undergraduate/approved-courses/hesp/\n",
      "HHUM - Honors Humanities https://academiccatalog.umd.edu/undergraduate/approved-courses/hhum/\n",
      "HISP - Historic Preservation https://academiccatalog.umd.edu/undergraduate/approved-courses/hisp/\n",
      "HIST - History https://academiccatalog.umd.edu/undergraduate/approved-courses/hist/\n",
      "HLMN - Hillman Entrepreneurs Program https://academiccatalog.umd.edu/undergraduate/approved-courses/hlmn/\n",
      "HLSA - Health Services Administration https://academiccatalog.umd.edu/undergraduate/approved-courses/hlsa/\n",
      "HLSC - Integrated Life Sciences https://academiccatalog.umd.edu/undergraduate/approved-courses/hlsc/\n",
      "HLTH - Health https://academiccatalog.umd.edu/undergraduate/approved-courses/hlth/\n",
      "HONR - Honors https://academiccatalog.umd.edu/undergraduate/approved-courses/honr/\n",
      "IMMR - Immigration Studies https://academiccatalog.umd.edu/undergraduate/approved-courses/immr/\n",
      "INAG - Institute of Applied Agriculture https://academiccatalog.umd.edu/undergraduate/approved-courses/inag/\n",
      "INST - Information Studies https://academiccatalog.umd.edu/undergraduate/approved-courses/inst/\n",
      "ISRL - Israel Studies https://academiccatalog.umd.edu/undergraduate/approved-courses/isrl/\n",
      "ITAL - Italian https://academiccatalog.umd.edu/undergraduate/approved-courses/ital/\n",
      "IVSP - Individual Studies Program https://academiccatalog.umd.edu/undergraduate/approved-courses/ivsp/\n",
      "JAPN - Japanese https://academiccatalog.umd.edu/undergraduate/approved-courses/japn/\n",
      "JOUR - Journalism https://academiccatalog.umd.edu/undergraduate/approved-courses/jour/\n",
      "JWST - Jewish Studies https://academiccatalog.umd.edu/undergraduate/approved-courses/jwst/\n",
      "KNES - Kinesiology https://academiccatalog.umd.edu/undergraduate/approved-courses/knes/\n",
      "KORA - Korean https://academiccatalog.umd.edu/undergraduate/approved-courses/kora/\n",
      "LARC - Landscape Architecture https://academiccatalog.umd.edu/undergraduate/approved-courses/larc/\n",
      "LASC - Certificate in Latin American Studies https://academiccatalog.umd.edu/undergraduate/approved-courses/lasc/\n",
      "LATN - Latin https://academiccatalog.umd.edu/undergraduate/approved-courses/latn/\n",
      "LBSC - Library Science https://academiccatalog.umd.edu/undergraduate/approved-courses/lbsc/\n",
      "LGBT - Lesbian Gay Bisexual Transgender Studies https://academiccatalog.umd.edu/undergraduate/approved-courses/lgbt/\n",
      "LING - Linguistics https://academiccatalog.umd.edu/undergraduate/approved-courses/ling/\n",
      "MATH - Mathematics https://academiccatalog.umd.edu/undergraduate/approved-courses/math/\n",
      "MEES - Marine-Estuarine-Environmental Sciences https://academiccatalog.umd.edu/undergraduate/approved-courses/mees/\n",
      "MIEH - Maryland Institute for Applied Environmental Health https://academiccatalog.umd.edu/undergraduate/approved-courses/mieh/\n",
      "MITH - Maryland Institute for Technology in the Humanities https://academiccatalog.umd.edu/undergraduate/approved-courses/mith/\n",
      "MLAW - MPower Undergraduate Law Programs https://academiccatalog.umd.edu/undergraduate/approved-courses/mlaw/\n",
      "MLSC - MD Language Science Ctr https://academiccatalog.umd.edu/undergraduate/approved-courses/mlsc/\n",
      "MUED - Music Education https://academiccatalog.umd.edu/undergraduate/approved-courses/mued/\n",
      "MUET - Ethnomusicology https://academiccatalog.umd.edu/undergraduate/approved-courses/muet/\n",
      "MUSC - School of Music https://academiccatalog.umd.edu/undergraduate/approved-courses/musc/\n",
      "MUSP - Music Performance https://academiccatalog.umd.edu/undergraduate/approved-courses/musp/\n",
      "NAVY - Navy https://academiccatalog.umd.edu/undergraduate/approved-courses/navy/\n",
      "NFSC - Nutrition and Food Science https://academiccatalog.umd.edu/undergraduate/approved-courses/nfsc/\n",
      "PEER - Health Center https://academiccatalog.umd.edu/undergraduate/approved-courses/peer/\n",
      "PERS - Persian https://academiccatalog.umd.edu/undergraduate/approved-courses/pers/\n",
      "PHIL - Philosophy https://academiccatalog.umd.edu/undergraduate/approved-courses/phil/\n",
      "PHSC - Public Health Science https://academiccatalog.umd.edu/undergraduate/approved-courses/phsc/\n",
      "PHYS - Physics https://academiccatalog.umd.edu/undergraduate/approved-courses/phys/\n",
      "PLCY - Public Policy https://academiccatalog.umd.edu/undergraduate/approved-courses/plcy/\n",
      "PLSC - Plant Sciences https://academiccatalog.umd.edu/undergraduate/approved-courses/plsc/\n",
      "PORT - Portuguese https://academiccatalog.umd.edu/undergraduate/approved-courses/port/\n",
      "PSYC - Psychology https://academiccatalog.umd.edu/undergraduate/approved-courses/psyc/\n",
      "RDEV - Real Estate Development https://academiccatalog.umd.edu/undergraduate/approved-courses/rdev/\n",
      "RELS - Religious Studies https://academiccatalog.umd.edu/undergraduate/approved-courses/rels/\n",
      "RUSS - Russian https://academiccatalog.umd.edu/undergraduate/approved-courses/russ/\n",
      "SLAA - Second Language Acquisition and Application https://academiccatalog.umd.edu/undergraduate/approved-courses/slaa/\n",
      "SLAV - Slavic https://academiccatalog.umd.edu/undergraduate/approved-courses/slav/\n",
      "SLLC - School of Languages, Literatures and Cultures https://academiccatalog.umd.edu/undergraduate/approved-courses/sllc/\n",
      "SOCY - Sociology https://academiccatalog.umd.edu/undergraduate/approved-courses/socy/\n",
      "SPAN - Spanish https://academiccatalog.umd.edu/undergraduate/approved-courses/span/\n",
      "SPHL - Public Health https://academiccatalog.umd.edu/undergraduate/approved-courses/sphl/\n",
      "STAT - Statistics and Probability https://academiccatalog.umd.edu/undergraduate/approved-courses/stat/\n",
      "SURV - Survey Methodology https://academiccatalog.umd.edu/undergraduate/approved-courses/surv/\n",
      "TDPS - Theatre, Dance and Performance Studies https://academiccatalog.umd.edu/undergraduate/approved-courses/tdps/\n",
      "THET - Theatre https://academiccatalog.umd.edu/undergraduate/approved-courses/thet/\n",
      "TLPL - Teaching and Learning, Policy and Leadership https://academiccatalog.umd.edu/undergraduate/approved-courses/tlpl/\n",
      "TLTC - Teaching and Learning Transformation Center https://academiccatalog.umd.edu/undergraduate/approved-courses/tltc/\n",
      "UMEI - Maryland English Institute https://academiccatalog.umd.edu/undergraduate/approved-courses/umei/\n",
      "UNIV - University Courses https://academiccatalog.umd.edu/undergraduate/approved-courses/univ/\n",
      "URSP - Urban Studies and Planning https://academiccatalog.umd.edu/undergraduate/approved-courses/ursp/\n",
      "USLT - Latina/o Studies https://academiccatalog.umd.edu/undergraduate/approved-courses/uslt/\n",
      "WMST - Women's Studies https://academiccatalog.umd.edu/undergraduate/approved-courses/wmst/\n",
      "AASP - African American Studies https://academiccatalog.umd.edu/graduate/courses/aasp/\n",
      "AAST - Asian American Studies https://academiccatalog.umd.edu/graduate/courses/aast/\n",
      "AGNR - Agriculture and Natural Resources https://academiccatalog.umd.edu/graduate/courses/agnr/\n",
      "AMSC - Applied Mathematics & Scientific Computation https://academiccatalog.umd.edu/graduate/courses/amsc/\n",
      "AMST - American Studies https://academiccatalog.umd.edu/graduate/courses/amst/\n",
      "ANSC - Animal Science https://academiccatalog.umd.edu/graduate/courses/ansc/\n",
      "ANTH - Anthropology https://academiccatalog.umd.edu/graduate/courses/anth/\n",
      "AOSC - Atmospheric and Oceanic Science https://academiccatalog.umd.edu/graduate/courses/aosc/\n",
      "ARAB - Arabic https://academiccatalog.umd.edu/graduate/courses/arab/\n",
      "ARCH - Architecture https://academiccatalog.umd.edu/graduate/courses/arch/\n",
      "AREC - Agricultural and Resource Economics https://academiccatalog.umd.edu/graduate/courses/arec/\n",
      "ARHU - Arts and Humanities https://academiccatalog.umd.edu/graduate/courses/arhu/\n",
      "ARMY - Army https://academiccatalog.umd.edu/graduate/courses/army/\n",
      "ARSC - Air Science https://academiccatalog.umd.edu/graduate/courses/arsc/\n",
      "ARTH - Art History & Archaeology https://academiccatalog.umd.edu/graduate/courses/arth/\n",
      "ARTT - Art Studio https://academiccatalog.umd.edu/graduate/courses/artt/\n",
      "ASTR - Astronomy https://academiccatalog.umd.edu/graduate/courses/astr/\n",
      "BCHM - Biochemistry https://academiccatalog.umd.edu/graduate/courses/bchm/\n",
      "BEES - Behavior, Ecology, Evolution and Systematics https://academiccatalog.umd.edu/graduate/courses/bees/\n",
      "BERC - Ctr for Stdy of Busns,Ethics,Regulatn,Crime https://academiccatalog.umd.edu/graduate/courses/berc/\n",
      "BIOE - Bioengineering https://academiccatalog.umd.edu/graduate/courses/bioe/\n",
      "BIOL - Biology https://academiccatalog.umd.edu/graduate/courses/biol/\n",
      "BIOM - Biometrics https://academiccatalog.umd.edu/graduate/courses/biom/\n",
      "BIPH - Biophysics https://academiccatalog.umd.edu/graduate/courses/biph/\n"
     ]
    },
    {
     "name": "stdout",
     "output_type": "stream",
     "text": [
      "BISI - Biological Sciences https://academiccatalog.umd.edu/graduate/courses/bisi/\n",
      "BMGT - Business and Management https://academiccatalog.umd.edu/graduate/courses/bmgt/\n",
      "BSCI - Biological Sciences Program https://academiccatalog.umd.edu/graduate/courses/bsci/\n",
      "BSOS - Behavioral and Social Sciences https://academiccatalog.umd.edu/graduate/courses/bsos/\n",
      "BSST - Terrorism Studies https://academiccatalog.umd.edu/graduate/courses/bsst/\n",
      "BUAC - Accounting and Information Assurance https://academiccatalog.umd.edu/graduate/courses/buac/\n",
      "BUDT - Decision and Information Technologies https://academiccatalog.umd.edu/graduate/courses/budt/\n",
      "BUFN - Finance https://academiccatalog.umd.edu/graduate/courses/bufn/\n",
      "BULM - Logistics, Business, and Public Policy https://academiccatalog.umd.edu/graduate/courses/bulm/\n",
      "BUMK - Marketing https://academiccatalog.umd.edu/graduate/courses/bumk/\n",
      "BUMO - Management and Organization https://academiccatalog.umd.edu/graduate/courses/bumo/\n",
      "BUSI - Part-Time MBA Program https://academiccatalog.umd.edu/graduate/courses/busi/\n",
      "BUSM - Full-Time MBA Program https://academiccatalog.umd.edu/graduate/courses/busm/\n",
      "CBMG - Cell Biology & Molecular Genetics https://academiccatalog.umd.edu/graduate/courses/cbmg/\n",
      "CCJS - Criminology and Criminal Justice https://academiccatalog.umd.edu/graduate/courses/ccjs/\n",
      "CHBE - Chemical and Biomolecular Engineering https://academiccatalog.umd.edu/graduate/courses/chbe/\n",
      "CHEM - Chemistry https://academiccatalog.umd.edu/graduate/courses/chem/\n",
      "CHIN - Chinese https://academiccatalog.umd.edu/graduate/courses/chin/\n",
      "CHPH - Chemical Physics https://academiccatalog.umd.edu/graduate/courses/chph/\n",
      "CLAS - Classics https://academiccatalog.umd.edu/graduate/courses/clas/\n",
      "CLFS - Chemical and Life Sciences https://academiccatalog.umd.edu/graduate/courses/clfs/\n",
      "CMLT - Comparative Literature https://academiccatalog.umd.edu/graduate/courses/cmlt/\n",
      "CMSC - Computer Science https://academiccatalog.umd.edu/graduate/courses/cmsc/\n",
      "COMM - Communication https://academiccatalog.umd.edu/graduate/courses/comm/\n",
      "CONS - Sustainable Development & Conservation Biology https://academiccatalog.umd.edu/graduate/courses/cons/\n",
      "DANC - Dance https://academiccatalog.umd.edu/graduate/courses/danc/\n",
      "ECON - Economics https://academiccatalog.umd.edu/graduate/courses/econ/\n",
      "EDCI - Curriculum and Instruction https://academiccatalog.umd.edu/graduate/courses/edci/\n",
      "EDCP - Education Counseling and Personnel Services https://academiccatalog.umd.edu/graduate/courses/edcp/\n",
      "EDHD - Education, Human Development https://academiccatalog.umd.edu/graduate/courses/edhd/\n",
      "EDHI - Education Leadership, Higher Ed and International Ed https://academiccatalog.umd.edu/graduate/courses/edhi/\n",
      "EDMS - Measurement, Statistics, and Evaluation https://academiccatalog.umd.edu/graduate/courses/edms/\n",
      "EDPS - Education Policy Studies https://academiccatalog.umd.edu/graduate/courses/edps/\n",
      "EDSP - Education, Special https://academiccatalog.umd.edu/graduate/courses/edsp/\n",
      "EDUC - Education https://academiccatalog.umd.edu/graduate/courses/educ/\n",
      "EMBA - Executive MBA Program https://academiccatalog.umd.edu/graduate/courses/emba/\n",
      "ENAE - Engineering, Aerospace https://academiccatalog.umd.edu/graduate/courses/enae/\n",
      "ENBE - Biological Resources Engineering https://academiccatalog.umd.edu/graduate/courses/enbe/\n",
      "ENCE - Engineering, Civil https://academiccatalog.umd.edu/graduate/courses/ence/\n",
      "ENCH - Engineering, Chemical https://academiccatalog.umd.edu/graduate/courses/ench/\n",
      "ENEE - Electrical & Computer Engineering https://academiccatalog.umd.edu/graduate/courses/enee/\n",
      "ENES - Engineering Science https://academiccatalog.umd.edu/graduate/courses/enes/\n",
      "ENFP - Engineering, Fire Protection https://academiccatalog.umd.edu/graduate/courses/enfp/\n",
      "ENGL - English https://academiccatalog.umd.edu/graduate/courses/engl/\n",
      "ENMA - Engineering, Materials https://academiccatalog.umd.edu/graduate/courses/enma/\n",
      "ENME - Engineering, Mechanical https://academiccatalog.umd.edu/graduate/courses/enme/\n",
      "ENNU - Engineering, Nuclear https://academiccatalog.umd.edu/graduate/courses/ennu/\n",
      "ENPM - Engineering, Professional Masters https://academiccatalog.umd.edu/graduate/courses/enpm/\n",
      "ENPP - Engineering and Public Policy https://academiccatalog.umd.edu/graduate/courses/enpp/\n",
      "ENRE - Reliability Engineering https://academiccatalog.umd.edu/graduate/courses/enre/\n",
      "ENSE - Systems Engineering https://academiccatalog.umd.edu/graduate/courses/ense/\n",
      "ENSP - Environmental Science and Policy https://academiccatalog.umd.edu/graduate/courses/ensp/\n",
      "ENST - Environmental Science and Technology https://academiccatalog.umd.edu/graduate/courses/enst/\n",
      "ENTM - Entomology https://academiccatalog.umd.edu/graduate/courses/entm/\n",
      "ENTS - Telecommunications https://academiccatalog.umd.edu/graduate/courses/ents/\n",
      "EPIB - Epidemiology and Biostatistics https://academiccatalog.umd.edu/graduate/courses/epib/\n",
      "FILM - Film Studies https://academiccatalog.umd.edu/graduate/courses/film/\n",
      "FMSC - Family Science https://academiccatalog.umd.edu/graduate/courses/fmsc/\n",
      "FOLA - Foreign Language https://academiccatalog.umd.edu/graduate/courses/fola/\n",
      "FREN - French https://academiccatalog.umd.edu/graduate/courses/fren/\n",
      "GEOG - Geographical Sciences https://academiccatalog.umd.edu/graduate/courses/geog/\n",
      "GEOL - Geology https://academiccatalog.umd.edu/graduate/courses/geol/\n",
      "GERM - Germanic Studies https://academiccatalog.umd.edu/graduate/courses/germ/\n",
      "GREK - Greek https://academiccatalog.umd.edu/graduate/courses/grek/\n",
      "GVPT - Government and Politics https://academiccatalog.umd.edu/graduate/courses/gvpt/\n",
      "HACS - ACES-Cybersecurity https://academiccatalog.umd.edu/graduate/courses/hacs/\n",
      "HEBR - Hebrew https://academiccatalog.umd.edu/graduate/courses/hebr/\n",
      "HESI - Higher Ed, Student Affairs, and International Ed Policy https://academiccatalog.umd.edu/graduate/courses/hesi/\n",
      "HESP - Hearing and Speech Sciences https://academiccatalog.umd.edu/graduate/courses/hesp/\n",
      "HISP - Historic Preservation https://academiccatalog.umd.edu/graduate/courses/hisp/\n",
      "HIST - History https://academiccatalog.umd.edu/graduate/courses/hist/\n",
      "HLHP - Health and Human Performance https://academiccatalog.umd.edu/graduate/courses/hlhp/\n",
      "HLMN - Hillman Entrepreneurs Program https://academiccatalog.umd.edu/graduate/courses/hlmn/\n",
      "HLSA - Health Services Administration https://academiccatalog.umd.edu/graduate/courses/hlsa/\n",
      "HLTH - Health https://academiccatalog.umd.edu/graduate/courses/hlth/\n",
      "IMMR - Immigration Studies https://academiccatalog.umd.edu/graduate/courses/immr/\n",
      "INFM - Information Management https://academiccatalog.umd.edu/graduate/courses/infm/\n",
      "INST - Information Studies https://academiccatalog.umd.edu/graduate/courses/inst/\n",
      "ISRL - Israel Studies https://academiccatalog.umd.edu/graduate/courses/isrl/\n",
      "ITAL - Italian https://academiccatalog.umd.edu/graduate/courses/ital/\n",
      "JAPN - Japanese https://academiccatalog.umd.edu/graduate/courses/japn/\n",
      "JOUR - Journalism https://academiccatalog.umd.edu/graduate/courses/jour/\n",
      "JWST - Jewish Studies https://academiccatalog.umd.edu/graduate/courses/jwst/\n",
      "KNES - Kinesiology https://academiccatalog.umd.edu/graduate/courses/knes/\n",
      "KORA - Korean https://academiccatalog.umd.edu/graduate/courses/kora/\n",
      "LARC - Landscape Architecture https://academiccatalog.umd.edu/graduate/courses/larc/\n",
      "LASC - Certificate in Latin American Studies https://academiccatalog.umd.edu/graduate/courses/lasc/\n",
      "LATN - Latin https://academiccatalog.umd.edu/graduate/courses/latn/\n",
      "LBSC - Library Science https://academiccatalog.umd.edu/graduate/courses/lbsc/\n",
      "LGBT - Lesbian Gay Bisexual Transgender Studies https://academiccatalog.umd.edu/graduate/courses/lgbt/\n",
      "LING - Linguistics https://academiccatalog.umd.edu/graduate/courses/ling/\n",
      "MAIT - Masters in the Mathematics of Advanced Industrial Tech https://academiccatalog.umd.edu/graduate/courses/mait/\n",
      "MATH - Mathematics https://academiccatalog.umd.edu/graduate/courses/math/\n",
      "MEES - Marine-Estuarine-Environmental Sciences https://academiccatalog.umd.edu/graduate/courses/mees/\n",
      "MIEH - Maryland Institute for Applied Environmental Health https://academiccatalog.umd.edu/graduate/courses/mieh/\n",
      "MITH - Maryland Institute for Technology in the Humanities https://academiccatalog.umd.edu/graduate/courses/mith/\n",
      "MLAW - MPower Undergraduate Law Programs https://academiccatalog.umd.edu/graduate/courses/mlaw/\n",
      "MOCB - Molecular and Cell Biology https://academiccatalog.umd.edu/graduate/courses/mocb/\n",
      "MSMC - Museum Scholarship and Material Culture https://academiccatalog.umd.edu/graduate/courses/msmc/\n",
      "MUED - Music Education https://academiccatalog.umd.edu/graduate/courses/mued/\n",
      "MUET - Ethnomusicology https://academiccatalog.umd.edu/graduate/courses/muet/\n",
      "MUSC - School of Music https://academiccatalog.umd.edu/graduate/courses/musc/\n",
      "MUSP - Music Performance https://academiccatalog.umd.edu/graduate/courses/musp/\n"
     ]
    },
    {
     "name": "stdout",
     "output_type": "stream",
     "text": [
      "NACS - Neuroscience & Cognitive Science https://academiccatalog.umd.edu/graduate/courses/nacs/\n",
      "NAVY - Navy https://academiccatalog.umd.edu/graduate/courses/navy/\n",
      "NFSC - Nutrition and Food Science https://academiccatalog.umd.edu/graduate/courses/nfsc/\n",
      "NRMT - Natural Resources Management https://academiccatalog.umd.edu/graduate/courses/nrmt/\n",
      "PERS - Persian https://academiccatalog.umd.edu/graduate/courses/pers/\n",
      "PHIL - Philosophy https://academiccatalog.umd.edu/graduate/courses/phil/\n",
      "PHSC - Public Health Science https://academiccatalog.umd.edu/graduate/courses/phsc/\n",
      "PHYS - Physics https://academiccatalog.umd.edu/graduate/courses/phys/\n",
      "PLCY - Public Policy https://academiccatalog.umd.edu/graduate/courses/plcy/\n",
      "PLSC - Plant Sciences https://academiccatalog.umd.edu/graduate/courses/plsc/\n",
      "PORT - Portuguese https://academiccatalog.umd.edu/graduate/courses/port/\n",
      "PSYC - Psychology https://academiccatalog.umd.edu/graduate/courses/psyc/\n",
      "PUAF - Public Policy https://academiccatalog.umd.edu/graduate/courses/puaf/\n",
      "RDEV - Real Estate Development https://academiccatalog.umd.edu/graduate/courses/rdev/\n",
      "RELS - Religious Studies https://academiccatalog.umd.edu/graduate/courses/rels/\n",
      "RUSS - Russian https://academiccatalog.umd.edu/graduate/courses/russ/\n",
      "SLAA - Second Language Acquisition and Application https://academiccatalog.umd.edu/graduate/courses/slaa/\n",
      "SLAV - Slavic https://academiccatalog.umd.edu/graduate/courses/slav/\n",
      "SLLC - School of Languages, Literatures and Cultures https://academiccatalog.umd.edu/graduate/courses/sllc/\n",
      "SOCY - Sociology https://academiccatalog.umd.edu/graduate/courses/socy/\n",
      "SPAN - Spanish https://academiccatalog.umd.edu/graduate/courses/span/\n",
      "SPHL - Public Health https://academiccatalog.umd.edu/graduate/courses/sphl/\n",
      "STAT - Statistics and Probability https://academiccatalog.umd.edu/graduate/courses/stat/\n",
      "SURV - Survey Methodology https://academiccatalog.umd.edu/graduate/courses/surv/\n",
      "TDPS - Theatre, Dance and Performance Studies https://academiccatalog.umd.edu/graduate/courses/tdps/\n",
      "THET - Theatre https://academiccatalog.umd.edu/graduate/courses/thet/\n",
      "TLPL - Teaching and Learning, Policy and Leadership https://academiccatalog.umd.edu/graduate/courses/tlpl/\n",
      "TLTC - Teaching and Learning Transformation Center https://academiccatalog.umd.edu/graduate/courses/tltc/\n",
      "TOXI - Toxicology https://academiccatalog.umd.edu/graduate/courses/toxi/\n",
      "UMEI - Maryland English Institute https://academiccatalog.umd.edu/graduate/courses/umei/\n",
      "UNIV - University Courses https://academiccatalog.umd.edu/graduate/courses/univ/\n",
      "URSP - Urban Studies and Planning https://academiccatalog.umd.edu/graduate/courses/ursp/\n",
      "USLT - Latina/o Studies https://academiccatalog.umd.edu/graduate/courses/uslt/\n",
      "VMSC - Veterinary Medical Sciences https://academiccatalog.umd.edu/graduate/courses/vmsc/\n",
      "WMST - Women's Studies https://academiccatalog.umd.edu/graduate/courses/wmst/\n"
     ]
    }
   ],
   "source": [
    "from selenium import webdriver\n",
    "import csv\n",
    "\n",
    "chrome_options = webdriver.ChromeOptions()\n",
    "chrome_options.add_argument('--no-sandbox')\n",
    "driver = webdriver.Chrome(\"C:\\\\Users\\MOHAN KUMAR SAH\\Documents\\My Work\\PakkaIndia\\chromedriver\",chrome_options=chrome_options)\n",
    "\n",
    "lis=['Course','University','URL']\n",
    "info=[]\n",
    "info.append(lis)\n",
    "\n",
    "link=['https://academiccatalog.umd.edu/undergraduate/approved-courses/','https://academiccatalog.umd.edu/graduate/courses/']\n",
    "for lin in range(len(link)):\n",
    "    driver.get(link[lin])\n",
    "    \n",
    "    if(lin==0):\n",
    "        data1=driver.find_elements_by_id('/undergraduate/approved-courses/')\n",
    "    else:\n",
    "        data1=driver.find_elements_by_id('/graduate/courses/')\n",
    "\n",
    "    data2=data1[0].find_elements_by_tag_name('a')\n",
    "    for i in range(len(data2)):\n",
    "        c=data2[i].text\n",
    "        url=data2[i].get_attribute('href')\n",
    "        \n",
    "        info.append([c,'University of Maryland',url])\n",
    "        print(c,url)\n",
    "        \n",
    "driver.quit()"
   ]
  },
  {
   "cell_type": "code",
   "execution_count": 18,
   "metadata": {},
   "outputs": [
    {
     "data": {
      "text/plain": [
       "318"
      ]
     },
     "execution_count": 18,
     "metadata": {},
     "output_type": "execute_result"
    }
   ],
   "source": [
    "len(info)"
   ]
  },
  {
   "cell_type": "code",
   "execution_count": 19,
   "metadata": {},
   "outputs": [],
   "source": [
    "with open('University_of_Maryland.csv','w',encoding=\"utf-8\",newline=\"\") as file:\n",
    "    write=csv.writer(file)\n",
    "    for row in info:\n",
    "        write.writerow(row)"
   ]
  },
  {
   "cell_type": "code",
   "execution_count": null,
   "metadata": {},
   "outputs": [],
   "source": []
  }
 ],
 "metadata": {
  "kernelspec": {
   "display_name": "Python 3",
   "language": "python",
   "name": "python3"
  },
  "language_info": {
   "codemirror_mode": {
    "name": "ipython",
    "version": 3
   },
   "file_extension": ".py",
   "mimetype": "text/x-python",
   "name": "python",
   "nbconvert_exporter": "python",
   "pygments_lexer": "ipython3",
   "version": "3.6.5"
  }
 },
 "nbformat": 4,
 "nbformat_minor": 2
}
