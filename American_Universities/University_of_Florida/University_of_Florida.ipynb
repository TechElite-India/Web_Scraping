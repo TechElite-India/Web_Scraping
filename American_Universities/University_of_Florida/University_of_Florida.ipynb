{
 "cells": [
  {
   "cell_type": "code",
   "execution_count": 1,
   "metadata": {},
   "outputs": [
    {
     "name": "stderr",
     "output_type": "stream",
     "text": [
      "C:\\ProgramData\\Anaconda3\\lib\\site-packages\\ipykernel_launcher.py:6: DeprecationWarning: use options instead of chrome_options\n",
      "  \n"
     ]
    }
   ],
   "source": [
    "from selenium import webdriver\n",
    "import csv\n",
    "\n",
    "chrome_options = webdriver.ChromeOptions()\n",
    "chrome_options.add_argument('--no-sandbox')\n",
    "driver = webdriver.Chrome(\"C:\\\\Users\\MOHAN KUMAR SAH\\Documents\\My Work\\PakkaIndia\\chromedriver\",chrome_options=chrome_options)"
   ]
  },
  {
   "cell_type": "code",
   "execution_count": 2,
   "metadata": {},
   "outputs": [],
   "source": [
    "driver.get('https://catalog.ufl.edu/UGRD/courses/')"
   ]
  },
  {
   "cell_type": "code",
   "execution_count": 3,
   "metadata": {},
   "outputs": [
    {
     "data": {
      "text/plain": [
       "1"
      ]
     },
     "execution_count": 3,
     "metadata": {},
     "output_type": "execute_result"
    }
   ],
   "source": [
    "data1=driver.find_elements_by_id('/UGRD/courses/')\n",
    "len(data1)"
   ]
  },
  {
   "cell_type": "code",
   "execution_count": 4,
   "metadata": {},
   "outputs": [
    {
     "data": {
      "text/plain": [
       "144"
      ]
     },
     "execution_count": 4,
     "metadata": {},
     "output_type": "execute_result"
    }
   ],
   "source": [
    "data2=data1[0].find_elements_by_tag_name('a')\n",
    "len(data2)"
   ]
  },
  {
   "cell_type": "code",
   "execution_count": 5,
   "metadata": {},
   "outputs": [
    {
     "data": {
      "text/plain": [
       "'Accounting'"
      ]
     },
     "execution_count": 5,
     "metadata": {},
     "output_type": "execute_result"
    }
   ],
   "source": [
    "data2[0].text"
   ]
  },
  {
   "cell_type": "code",
   "execution_count": 6,
   "metadata": {},
   "outputs": [
    {
     "data": {
      "text/plain": [
       "'https://catalog.ufl.edu/UGRD/courses/accounting/'"
      ]
     },
     "execution_count": 6,
     "metadata": {},
     "output_type": "execute_result"
    }
   ],
   "source": [
    "data2[0].get_attribute('href')"
   ]
  },
  {
   "cell_type": "code",
   "execution_count": 7,
   "metadata": {},
   "outputs": [],
   "source": [
    "driver.get('http://gradcatalog.ufl.edu/content.php?catoid=10&navoid=2013')"
   ]
  },
  {
   "cell_type": "code",
   "execution_count": 8,
   "metadata": {},
   "outputs": [
    {
     "data": {
      "text/plain": [
       "4"
      ]
     },
     "execution_count": 8,
     "metadata": {},
     "output_type": "execute_result"
    }
   ],
   "source": [
    "data3=driver.find_elements_by_tag_name('h5')\n",
    "len(data3)"
   ]
  },
  {
   "cell_type": "code",
   "execution_count": 9,
   "metadata": {},
   "outputs": [
    {
     "data": {
      "text/plain": [
       "16"
      ]
     },
     "execution_count": 9,
     "metadata": {},
     "output_type": "execute_result"
    }
   ],
   "source": [
    "data4=data3[1].find_elements_by_tag_name('a')\n",
    "len(data4)"
   ]
  },
  {
   "cell_type": "code",
   "execution_count": 10,
   "metadata": {},
   "outputs": [
    {
     "data": {
      "text/plain": [
       "'Agricultural and Life Sciences'"
      ]
     },
     "execution_count": 10,
     "metadata": {},
     "output_type": "execute_result"
    }
   ],
   "source": [
    "data4[0].text"
   ]
  },
  {
   "cell_type": "code",
   "execution_count": 11,
   "metadata": {},
   "outputs": [
    {
     "data": {
      "text/plain": [
       "'http://gradcatalog.ufl.edu/content.php?catoid=10&navoid=1958'"
      ]
     },
     "execution_count": 11,
     "metadata": {},
     "output_type": "execute_result"
    }
   ],
   "source": [
    "data4[0].get_attribute('href')"
   ]
  },
  {
   "cell_type": "markdown",
   "metadata": {},
   "source": [
    "# Full Code"
   ]
  },
  {
   "cell_type": "code",
   "execution_count": 12,
   "metadata": {},
   "outputs": [
    {
     "name": "stderr",
     "output_type": "stream",
     "text": [
      "C:\\ProgramData\\Anaconda3\\lib\\site-packages\\ipykernel_launcher.py:6: DeprecationWarning: use options instead of chrome_options\n",
      "  \n"
     ]
    },
    {
     "name": "stdout",
     "output_type": "stream",
     "text": [
      "Accounting https://catalog.ufl.edu/UGRD/courses/accounting/\n",
      "Advertising https://catalog.ufl.edu/UGRD/courses/advertising/\n",
      "African and Asian | Languages, Literatures, and Cultures https://catalog.ufl.edu/UGRD/courses/african_and_asian/\n",
      "African Studies https://catalog.ufl.edu/UGRD/courses/african_studies/\n",
      "African-American Studies https://catalog.ufl.edu/UGRD/courses/african_american_studies/\n",
      "Agricultural and Biological Engineering https://catalog.ufl.edu/UGRD/courses/agricultural_and_biological_engineering/\n",
      "Agricultural and Life Sciences | General https://catalog.ufl.edu/UGRD/courses/agricultural_and_life_sciences_general/\n",
      "Agricultural Education and Communication https://catalog.ufl.edu/UGRD/courses/agricultural_education_and_communication/\n",
      "Agricultural Operations Management https://catalog.ufl.edu/UGRD/courses/agricultural_operations_management/\n",
      "Agronomy https://catalog.ufl.edu/UGRD/courses/agronomy/\n",
      "Akan | Languages, Literatures, and Cultures https://catalog.ufl.edu/UGRD/courses/las_ls_mod_for_lang_akan/\n",
      "Amharic | Languages, Literatures, and Cultures https://catalog.ufl.edu/UGRD/courses/las_ls_mod_for_lang_amharic/\n",
      "Animal Sciences https://catalog.ufl.edu/UGRD/courses/animal_sciences/\n",
      "Anthropology https://catalog.ufl.edu/UGRD/courses/anthropology/\n",
      "Applied Physiology and Kinesiology https://catalog.ufl.edu/UGRD/courses/applied_physiology_and_kinesiology/\n",
      "Arabic | Languages, Literatures, and Cultures https://catalog.ufl.edu/UGRD/courses/las_ls_mod_for_lang_arabic/\n",
      "Architecture https://catalog.ufl.edu/UGRD/courses/architecture/\n",
      "Art and Art History https://catalog.ufl.edu/UGRD/courses/art_and_art_history/\n",
      "Astronomy and Astrophysics https://catalog.ufl.edu/UGRD/courses/astronomy_and_astrophysics/\n",
      "Biochemistry and Molecular Biology https://catalog.ufl.edu/UGRD/courses/biochemistry-and-molecular-biology/\n",
      "Biology https://catalog.ufl.edu/UGRD/courses/biological_sciences/\n",
      "Biomedical Engineering https://catalog.ufl.edu/UGRD/courses/biomedical_engineering/\n",
      "Botany https://catalog.ufl.edu/UGRD/courses/botany/\n",
      "Business https://catalog.ufl.edu/UGRD/courses/business/\n",
      "Career Development Program https://catalog.ufl.edu/UGRD/courses/career_development_program/\n",
      "Catalan | Spanish and Portuguese Studies https://catalog.ufl.edu/UGRD/courses/catalan/\n",
      "Chemical Engineering https://catalog.ufl.edu/UGRD/courses/chemical_engineering/\n",
      "Chemistry https://catalog.ufl.edu/UGRD/courses/chemistry/\n",
      "Chinese | Languages, Literatures, and Cultures https://catalog.ufl.edu/UGRD/courses/las_ls_mod_for_lang_chinese/\n",
      "Civil and Coastal Engineering https://catalog.ufl.edu/UGRD/courses/civil_and_coastal_engineering/\n",
      "Classics https://catalog.ufl.edu/UGRD/courses/classics/\n",
      "Clinical and Health Psychology https://catalog.ufl.edu/UGRD/courses/clinical_and_health_psychology/\n",
      "Computer and Information Science and Engineering https://catalog.ufl.edu/UGRD/courses/computer_and_information_science_and_engineering/\n",
      "Construction Management https://catalog.ufl.edu/UGRD/courses/construction_management/\n",
      "Criminology https://catalog.ufl.edu/UGRD/courses/criminology/\n",
      "Czech | Languages, Literatures, and Cultures https://catalog.ufl.edu/UGRD/courses/las_ls_mod_for_lang_czech/\n",
      "Dial Center for Written and Oral Communication https://catalog.ufl.edu/UGRD/courses/dial_center_for_written_and_oral_communication/\n",
      "Digital Worlds Institute https://catalog.ufl.edu/UGRD/courses/digital_worlds_institute/\n",
      "Dutch | Languages, Literatures, and Cultures https://catalog.ufl.edu/UGRD/courses/las_ls_mod_for_lang_dutch/\n",
      "Economics https://catalog.ufl.edu/UGRD/courses/economics/\n",
      "Education | School of Human Development and Organizational Studies https://catalog.ufl.edu/UGRD/courses/school_of_human_development/\n",
      "Education | School of Special Education, School Psychology and Early Childhood Studies https://catalog.ufl.edu/UGRD/courses/school_of_special_education/\n",
      "Education | School of Teaching and Learning https://catalog.ufl.edu/UGRD/courses/school_of_teaching_and_learning/\n",
      "Electrical and Computer Engineering https://catalog.ufl.edu/UGRD/courses/electrical_and_computer_engineering/\n",
      "Engineering https://catalog.ufl.edu/UGRD/courses/engineering_/\n",
      "English https://catalog.ufl.edu/UGRD/courses/english/\n",
      "Entomology and Nematology https://catalog.ufl.edu/UGRD/courses/entomology_and_nematology/\n",
      "Environmental Engineering Sciences https://catalog.ufl.edu/UGRD/courses/environmental_engineering_sciences/\n",
      "Environmental Horticulture https://catalog.ufl.edu/UGRD/courses/environmental_horticulture/\n",
      "Environmental Science https://catalog.ufl.edu/UGRD/courses/environmental_science/\n",
      "European Studies https://catalog.ufl.edu/UGRD/courses/european_studies/\n",
      "Family, Youth and Community Sciences https://catalog.ufl.edu/UGRD/courses/family_youth_and_community_sciences/\n",
      "Film and Media Studies https://catalog.ufl.edu/UGRD/courses/film_and_media_studies/\n",
      "Finance, Insurance and Real Estate https://catalog.ufl.edu/UGRD/courses/finance/\n",
      "Fine Arts https://catalog.ufl.edu/UGRD/courses/fine_arts/\n",
      "Fire and Emergency Services https://catalog.ufl.edu/UGRD/courses/fire_and_emergency_services/\n",
      "First Year Florida https://catalog.ufl.edu/UGRD/courses/first_year_florida/\n",
      "Fisheries and Aquatic Sciences https://catalog.ufl.edu/UGRD/courses/fisheries_and_aquatic_sciences/\n",
      "Food and Resource Economics https://catalog.ufl.edu/UGRD/courses/food_and_resource_economics/\n",
      "Food Science and Human Nutrition https://catalog.ufl.edu/UGRD/courses/food_science_and_human_nutrition/\n",
      "Forest Resources and Conservation https://catalog.ufl.edu/UGRD/courses/forest_resources_and_conservation/\n",
      "French | Languages, Literatures, and Cultures https://catalog.ufl.edu/UGRD/courses/las_ls_mod_for_lang_french/\n",
      "Geography https://catalog.ufl.edu/UGRD/courses/geography/\n",
      "Geological Sciences https://catalog.ufl.edu/UGRD/courses/geology/\n",
      "Geomatics https://catalog.ufl.edu/UGRD/courses/agl_ag_sfrc_geomatics/\n",
      "German | Languages, Literatures, and Cultures https://catalog.ufl.edu/UGRD/courses/las_ls_mod_for_lang_german/\n",
      "Greek Studies https://catalog.ufl.edu/UGRD/courses/las_ls_greek_studies/\n",
      "Haitian Creole | Languages, Literatures, and Cultures https://catalog.ufl.edu/UGRD/courses/las_ls_mod_lang_haitiancreole/\n",
      "Health Education and Behavior https://catalog.ufl.edu/UGRD/courses/health_education_and_behavior/\n",
      "Health Professions https://catalog.ufl.edu/UGRD/courses/health_professions/\n",
      "Health Science https://catalog.ufl.edu/UGRD/courses/health_science/\n",
      "Hebrew | Languages, Literatures, and Cultures https://catalog.ufl.edu/UGRD/courses/las_ls_mod_for_lang_hebrew/\n",
      "Hindi-Urdu | Languages, Literatures, and Cultures https://catalog.ufl.edu/UGRD/courses/las_ls_mod_for_lang_hindi/\n",
      "History https://catalog.ufl.edu/UGRD/courses/history/\n",
      "Honors Program https://catalog.ufl.edu/UGRD/courses/honors_program/\n",
      "Horticultural Sciences https://catalog.ufl.edu/UGRD/courses/agl_ag_horticultural_sciences/\n",
      "Hungarian | European Studies https://catalog.ufl.edu/UGRD/courses/hungarian/\n",
      "Industrial and Systems Engineering https://catalog.ufl.edu/UGRD/courses/industrial_and_systems_engineering/\n",
      "Information Systems and Operations Management https://catalog.ufl.edu/UGRD/courses/information_systems/\n",
      "Innovation Academy https://catalog.ufl.edu/UGRD/courses/innovation_academy/\n",
      "Interdisciplinary Studies https://catalog.ufl.edu/UGRD/courses/interdisciplinary_studies/\n",
      "Interior Design https://catalog.ufl.edu/UGRD/courses/interior_design/\n",
      "Italian | Languages, Literatures, and Cultures https://catalog.ufl.edu/UGRD/courses/las_ls_mod_for_lang_italian/\n",
      "Japanese | Languages, Literatures, and Cultures https://catalog.ufl.edu/UGRD/courses/las_ls_mod_for_lang_japanese/\n",
      "Jewish Studies https://catalog.ufl.edu/UGRD/courses/jewish_studies/\n",
      "Journalism https://catalog.ufl.edu/UGRD/courses/journalism/\n",
      "Korean | Languages, Literatures, and Cultures https://catalog.ufl.edu/UGRD/courses/las_ls_mod_for_lang_korean/\n",
      "Landscape Architecture https://catalog.ufl.edu/UGRD/courses/landscape_architecture/\n",
      "Languages, Literatures, and Cultures https://catalog.ufl.edu/UGRD/courses/foreign_languages_and_literatures/\n",
      "Latin American Studies https://catalog.ufl.edu/UGRD/courses/latin_american_studies/\n",
      "Latin | Classics https://catalog.ufl.edu/UGRD/courses/las_ls_latin/\n",
      "Lingala | Languages, Literatures, and Cultures https://catalog.ufl.edu/UGRD/courses/lingala/\n"
     ]
    },
    {
     "name": "stdout",
     "output_type": "stream",
     "text": [
      "Linguistics https://catalog.ufl.edu/UGRD/courses/linguistics/\n",
      "Management https://catalog.ufl.edu/UGRD/courses/management/\n",
      "Marketing https://catalog.ufl.edu/UGRD/courses/marketing/\n",
      "Mass Communication https://catalog.ufl.edu/UGRD/courses/mass_communication/\n",
      "Materials Science and Engineering https://catalog.ufl.edu/UGRD/courses/materials_science_and_engineering/\n",
      "Mathematics https://catalog.ufl.edu/UGRD/courses/mathematics/\n",
      "Mechanical and Aerospace Engineering https://catalog.ufl.edu/UGRD/courses/mechanical_and_aerospace_engineering/\n",
      "Medicine https://catalog.ufl.edu/UGRD/courses/medicine/\n",
      "Medieval and Early Modern Studies https://catalog.ufl.edu/UGRD/courses/medieval_and_early_modern_studies/\n",
      "Microbiology and Cell Science https://catalog.ufl.edu/UGRD/courses/microbiology_and_cell_science/\n",
      "Military Science https://catalog.ufl.edu/UGRD/courses/military_science_/\n",
      "Music https://catalog.ufl.edu/UGRD/courses/music/\n",
      "Nuclear and Radiological Engineering https://catalog.ufl.edu/UGRD/courses/nuclear_and_radiological_engineering/\n",
      "Nursing https://catalog.ufl.edu/UGRD/courses/nursing/\n",
      "Occupational Therapy https://catalog.ufl.edu/UGRD/courses/pbh_hp_occupational_therapy/\n",
      "Packaging Science https://catalog.ufl.edu/UGRD/courses/packaging_science/\n",
      "Pest Management | Plant Protection https://catalog.ufl.edu/UGRD/courses/pest_management_plant_protection/\n",
      "Pharmacy https://catalog.ufl.edu/UGRD/courses/pharmacy/\n",
      "Philosophy https://catalog.ufl.edu/UGRD/courses/philosophy/\n",
      "Physics https://catalog.ufl.edu/UGRD/courses/physics/\n",
      "Plant Pathology https://catalog.ufl.edu/UGRD/courses/plant_pathology/\n",
      "Polish | Languages, Literatures, and Cultures https://catalog.ufl.edu/UGRD/courses/las_ls_mod_for_lang_polish/\n",
      "Political Science https://catalog.ufl.edu/UGRD/courses/political_science/\n",
      "Portuguese | Spanish and Portuguese Studies https://catalog.ufl.edu/UGRD/courses/portuguese/\n",
      "Psychology https://catalog.ufl.edu/UGRD/courses/psychology/\n",
      "Public Relations https://catalog.ufl.edu/UGRD/courses/public_relations/\n",
      "Rehabilitative Services https://catalog.ufl.edu/UGRD/courses/rehabilitative_services/\n",
      "Religion https://catalog.ufl.edu/UGRD/courses/las_ls_religion/\n",
      "Russian | Languages, Literatures, and Cultures https://catalog.ufl.edu/UGRD/courses/las_ls_mod_for_lang_russian/\n",
      "Sociology https://catalog.ufl.edu/UGRD/courses/las_ls_sociology/\n",
      "Soil and Water Sciences https://catalog.ufl.edu/UGRD/courses/soil_and_water_sciences/\n",
      "Spanish and Portuguese Studies https://catalog.ufl.edu/UGRD/courses/hispanic_latin_american_languages_literatures_linguistics/\n",
      "Spanish | Spanish and Portuguese Studies https://catalog.ufl.edu/UGRD/courses/spanish/\n",
      "Speech, Language and Hearing Sciences https://catalog.ufl.edu/UGRD/courses/pbh_hp_spch_lang_hear_sci/\n",
      "Sport and Fitness Program https://catalog.ufl.edu/UGRD/courses/sport_and_fitness_program/\n",
      "Statistics https://catalog.ufl.edu/UGRD/courses/statistics/\n",
      "Sustainability and the Built Environment https://catalog.ufl.edu/UGRD/courses/sustainability_and_the_built_environment/\n",
      "Swahili | Languages, Literatures, and Cultures https://catalog.ufl.edu/UGRD/courses/las_ls_mod_for_lang_swahili/\n",
      "Telecommunication https://catalog.ufl.edu/UGRD/courses/telecommunication/\n",
      "Theatre and Dance https://catalog.ufl.edu/UGRD/courses/theatre_and_dance/\n",
      "Tourism, Recreation and Sport Management https://catalog.ufl.edu/UGRD/courses/tourism_recreation_and_sport_management/\n",
      "Turkish | European Studies https://catalog.ufl.edu/UGRD/courses/turkish/\n",
      "Urban and Regional Planning https://catalog.ufl.edu/UGRD/courses/urban_and_regional_planning/\n",
      "Veterinary Medical Sciences https://catalog.ufl.edu/UGRD/courses/veterinary_medical_sciences/\n",
      "Vietnamese | Languages, Literatures, and Cultures https://catalog.ufl.edu/UGRD/courses/las_ls_mod_for_lang_vietnames/\n",
      "Wildlife Ecology and Conservation https://catalog.ufl.edu/UGRD/courses/wildlife_ecology_and_conservation/\n",
      "Wolof | Languages, Literatures, and Cultures https://catalog.ufl.edu/UGRD/courses/las_ls_mod_for_lang_wolof/\n",
      "Women's Studies https://catalog.ufl.edu/UGRD/courses/womens_studies/\n",
      "Writing Program, University https://catalog.ufl.edu/UGRD/courses/writing_program/\n",
      "Xhosa | Languages, Literatures, and Cultures https://catalog.ufl.edu/UGRD/courses/las_ls_mod_for_lang_xhosa/\n",
      "Yoruba | Languages, Literatures, and Cultures https://catalog.ufl.edu/UGRD/courses/las_ls_mod_for_lang_yoruba/\n",
      "Zoology https://catalog.ufl.edu/UGRD/courses/zoology/\n",
      "Agricultural and Life Sciences http://gradcatalog.ufl.edu/content.php?catoid=10&navoid=1958\n",
      "Arts http://gradcatalog.ufl.edu/content.php?catoid=10&navoid=1964\n",
      "Business http://gradcatalog.ufl.edu/content.php?catoid=10&navoid=1959\n",
      "Dentistry http://gradcatalog.ufl.edu/content.php?catoid=10&navoid=1960\n",
      "Design, Construction, and Planning http://gradcatalog.ufl.edu/content.php?catoid=10&navoid=1962\n",
      "Education http://gradcatalog.ufl.edu/content.php?catoid=10&navoid=1961\n",
      "Engineering http://gradcatalog.ufl.edu/content.php?catoid=10&navoid=1963\n",
      "Health and Human Performance http://gradcatalog.ufl.edu/content.php?catoid=10&navoid=1965\n",
      "Journalism and Mass Communication http://gradcatalog.ufl.edu/content.php?catoid=10&navoid=1966\n",
      "Law http://gradcatalog.ufl.edu/content.php?catoid=10&navoid=1967\n",
      "Liberal Arts and Sciences http://gradcatalog.ufl.edu/content.php?catoid=10&navoid=1968\n",
      "Medicine http://gradcatalog.ufl.edu/content.php?catoid=10&navoid=1969\n",
      "Nursing http://gradcatalog.ufl.edu/content.php?catoid=10&navoid=1970\n",
      "Pharmacy http://gradcatalog.ufl.edu/content.php?catoid=10&navoid=1971\n",
      "Public Health and Health Professions http://gradcatalog.ufl.edu/content.php?catoid=10&navoid=1972\n",
      "Veterinary Medicine http://gradcatalog.ufl.edu/content.php?catoid=10&navoid=1973\n"
     ]
    }
   ],
   "source": [
    "from selenium import webdriver\n",
    "import csv\n",
    "\n",
    "chrome_options = webdriver.ChromeOptions()\n",
    "chrome_options.add_argument('--no-sandbox')\n",
    "driver = webdriver.Chrome(\"C:\\\\Users\\MOHAN KUMAR SAH\\Documents\\My Work\\PakkaIndia\\chromedriver\",chrome_options=chrome_options)\n",
    "\n",
    "lis=['Course','University','URL']\n",
    "info=[]\n",
    "info.append(lis)\n",
    "\n",
    "link=['https://catalog.ufl.edu/UGRD/courses/','http://gradcatalog.ufl.edu/content.php?catoid=10&navoid=2013']\n",
    "for lin in range(len(link)):\n",
    "    driver.get(link[lin])\n",
    "    if(lin==0):\n",
    "        data1=driver.find_elements_by_id('/UGRD/courses/')\n",
    "        data2=data1[0].find_elements_by_tag_name('a')\n",
    "        for i in range(len(data2)):\n",
    "            c=data2[i].text\n",
    "            url=data2[i].get_attribute('href')\n",
    "            \n",
    "            info.append([c,'University of Florida',url])\n",
    "            print(c,url)\n",
    "    else:\n",
    "        data3=driver.find_elements_by_tag_name('h5')\n",
    "        data4=data3[1].find_elements_by_tag_name('a')\n",
    "        for j in range(len(data4)):\n",
    "            c=data4[j].text\n",
    "            url=data4[j].get_attribute('href')\n",
    "            \n",
    "            info.append([c,'University of Florida',url])\n",
    "            print(c,url)\n",
    "            \n",
    "driver.quit()"
   ]
  },
  {
   "cell_type": "code",
   "execution_count": 13,
   "metadata": {},
   "outputs": [
    {
     "data": {
      "text/plain": [
       "161"
      ]
     },
     "execution_count": 13,
     "metadata": {},
     "output_type": "execute_result"
    }
   ],
   "source": [
    "len(info)"
   ]
  },
  {
   "cell_type": "code",
   "execution_count": 14,
   "metadata": {},
   "outputs": [],
   "source": [
    "with open('University_of_Florida.csv','w',encoding=\"utf-8\",newline=\"\") as file:\n",
    "    write=csv.writer(file)\n",
    "    for row in info:\n",
    "        write.writerow(row)"
   ]
  },
  {
   "cell_type": "code",
   "execution_count": null,
   "metadata": {},
   "outputs": [],
   "source": []
  }
 ],
 "metadata": {
  "kernelspec": {
   "display_name": "Python 3",
   "language": "python",
   "name": "python3"
  },
  "language_info": {
   "codemirror_mode": {
    "name": "ipython",
    "version": 3
   },
   "file_extension": ".py",
   "mimetype": "text/x-python",
   "name": "python",
   "nbconvert_exporter": "python",
   "pygments_lexer": "ipython3",
   "version": "3.6.5"
  }
 },
 "nbformat": 4,
 "nbformat_minor": 2
}
