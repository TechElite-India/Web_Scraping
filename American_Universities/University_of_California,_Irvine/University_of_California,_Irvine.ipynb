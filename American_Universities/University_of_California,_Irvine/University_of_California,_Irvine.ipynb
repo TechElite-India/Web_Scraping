{
 "cells": [
  {
   "cell_type": "code",
   "execution_count": 1,
   "metadata": {},
   "outputs": [
    {
     "name": "stderr",
     "output_type": "stream",
     "text": [
      "C:\\ProgramData\\Anaconda3\\lib\\site-packages\\ipykernel_launcher.py:6: DeprecationWarning: use options instead of chrome_options\n",
      "  \n"
     ]
    }
   ],
   "source": [
    "from selenium import webdriver\n",
    "import csv\n",
    "\n",
    "chrome_options = webdriver.ChromeOptions()\n",
    "chrome_options.add_argument('--no-sandbox')\n",
    "driver = webdriver.Chrome(\"C:\\\\Users\\MOHAN KUMAR SAH\\Documents\\My Work\\PakkaIndia\\chromedriver\",chrome_options=chrome_options)"
   ]
  },
  {
   "cell_type": "code",
   "execution_count": 2,
   "metadata": {},
   "outputs": [],
   "source": [
    "driver.get('http://catalogue.uci.edu/allcourses/')"
   ]
  },
  {
   "cell_type": "code",
   "execution_count": 3,
   "metadata": {},
   "outputs": [
    {
     "data": {
      "text/plain": [
       "[<selenium.webdriver.remote.webelement.WebElement (session=\"5fe13acb2f7bcad4187a6852905c811f\", element=\"0.28556508253196244-1\")>]"
      ]
     },
     "execution_count": 3,
     "metadata": {},
     "output_type": "execute_result"
    }
   ],
   "source": [
    "data1=driver.find_elements_by_id('atozindex')\n",
    "data1"
   ]
  },
  {
   "cell_type": "code",
   "execution_count": 4,
   "metadata": {},
   "outputs": [
    {
     "data": {
      "text/plain": [
       "21"
      ]
     },
     "execution_count": 4,
     "metadata": {},
     "output_type": "execute_result"
    }
   ],
   "source": [
    "data2=data1[0].find_elements_by_tag_name('ul')\n",
    "len(data2)"
   ]
  },
  {
   "cell_type": "code",
   "execution_count": 5,
   "metadata": {},
   "outputs": [
    {
     "data": {
      "text/plain": [
       "10"
      ]
     },
     "execution_count": 5,
     "metadata": {},
     "output_type": "execute_result"
    }
   ],
   "source": [
    "data3=data2[0].find_elements_by_tag_name('a')\n",
    "len(data3)"
   ]
  },
  {
   "cell_type": "code",
   "execution_count": 6,
   "metadata": {},
   "outputs": [
    {
     "data": {
      "text/plain": [
       "'Academic English and ESL (AC ENG)'"
      ]
     },
     "execution_count": 6,
     "metadata": {},
     "output_type": "execute_result"
    }
   ],
   "source": [
    "data3[0].text"
   ]
  },
  {
   "cell_type": "code",
   "execution_count": 7,
   "metadata": {},
   "outputs": [
    {
     "data": {
      "text/plain": [
       "'http://catalogue.uci.edu/allcourses/ac_eng/'"
      ]
     },
     "execution_count": 7,
     "metadata": {},
     "output_type": "execute_result"
    }
   ],
   "source": [
    "data3[0].get_attribute('href')"
   ]
  },
  {
   "cell_type": "markdown",
   "metadata": {},
   "source": [
    "# Full Code"
   ]
  },
  {
   "cell_type": "code",
   "execution_count": 8,
   "metadata": {},
   "outputs": [
    {
     "name": "stderr",
     "output_type": "stream",
     "text": [
      "C:\\ProgramData\\Anaconda3\\lib\\site-packages\\ipykernel_launcher.py:6: DeprecationWarning: use options instead of chrome_options\n",
      "  \n"
     ]
    },
    {
     "name": "stdout",
     "output_type": "stream",
     "text": [
      "Academic English and ESL (AC ENG) http://catalogue.uci.edu/allcourses/ac_eng/\n",
      "African American Studies (AFAM) http://catalogue.uci.edu/allcourses/afam/\n",
      "Anatomy and Neurobiology (ANATOMY) http://catalogue.uci.edu/allcourses/anatomy/\n",
      "Anthropology (ANTHRO) http://catalogue.uci.edu/allcourses/anthro/\n",
      "Arabic (ARABIC) http://catalogue.uci.edu/allcourses/arabic/\n",
      "Armenian (ARMN) http://catalogue.uci.edu/allcourses/armn/\n",
      "Art (ART) http://catalogue.uci.edu/allcourses/art/\n",
      "Art History (ART HIS) http://catalogue.uci.edu/allcourses/art_his/\n",
      "Arts (ARTS) http://catalogue.uci.edu/allcourses/arts/\n",
      "Asian American Studies (ASIANAM) http://catalogue.uci.edu/allcourses/asianam/\n",
      "Biological Chemistry (BIOCHEM) http://catalogue.uci.edu/allcourses/biochem/\n",
      "Biological Sciences (BIO SCI) http://catalogue.uci.edu/allcourses/bio_sci/\n",
      "Biomedical and Translational Science (BATS) http://catalogue.uci.edu/allcourses/bats/\n",
      "Biomedical Engineering (BME) http://catalogue.uci.edu/allcourses/bme/\n",
      "Bio Sci & Educational Media Design (BSEMD) http://catalogue.uci.edu/allcourses/bsemd/\n",
      "Business Analytics (BANA) http://catalogue.uci.edu/allcourses/bana/\n",
      "Chemical Engr and Materials Science (CBEMS) http://catalogue.uci.edu/allcourses/cbems/\n",
      "Chemical Engr and Materials Science (grads) (ENGRMSE) http://catalogue.uci.edu/allcourses/engrmse/\n",
      "Chemistry (CHEM) http://catalogue.uci.edu/allcourses/chem/\n",
      "Chicano/Latino Studies (CHC/LAT) http://catalogue.uci.edu/allcourses/chc_lat/\n",
      "Chinese (CHINESE) http://catalogue.uci.edu/allcourses/chinese/\n",
      "Civil and Environmental Engineering (ENGRCEE) http://catalogue.uci.edu/allcourses/engrcee/\n",
      "Classics (CLASSIC) http://catalogue.uci.edu/allcourses/classic/\n",
      "Cognitive Sciences (COGS) http://catalogue.uci.edu/allcourses/cogs/\n",
      "Comparative Literature (COM LIT) http://catalogue.uci.edu/allcourses/com_lit/\n",
      "Computer Science and Engineering (CSE) http://catalogue.uci.edu/allcourses/cse/\n",
      "Computer Science (COMPSCI) http://catalogue.uci.edu/allcourses/compsci/\n",
      "Criminology, Law and Society (CRM/LAW) http://catalogue.uci.edu/allcourses/crm_law/\n",
      "Criticism (CRITISM) http://catalogue.uci.edu/allcourses/critism/\n",
      "Culture and Theory (CLT&THY) http://catalogue.uci.edu/allcourses/clt_thy/\n",
      "Dance (DANCE) http://catalogue.uci.edu/allcourses/dance/\n",
      "Developmental and Cell Biology (DEV BIO) http://catalogue.uci.edu/allcourses/dev_bio/\n",
      "Drama (DRAMA) http://catalogue.uci.edu/allcourses/drama/\n",
      "Earth System Science (EARTHSS) http://catalogue.uci.edu/allcourses/earthss/\n",
      "East Asian Languages and Literatures (E ASIAN) http://catalogue.uci.edu/allcourses/e_asian/\n",
      "Ecology and Evolutionary Biology (ECO EVO) http://catalogue.uci.edu/allcourses/eco_evo/\n",
      "Economics (ECON) http://catalogue.uci.edu/allcourses/econ/\n",
      "Education (EDUC) http://catalogue.uci.edu/allcourses/educ/\n",
      "Electrical Engineering & Computer Science (EECS) http://catalogue.uci.edu/allcourses/eecs/\n",
      "Embedded and Cyber-Physical Systems (ECPS) http://catalogue.uci.edu/allcourses/ecps/\n",
      "Engineering (ENGR) http://catalogue.uci.edu/allcourses/engr/\n",
      "English (ENGLISH) http://catalogue.uci.edu/allcourses/english/\n",
      "Epidemiology (EPIDEM) http://catalogue.uci.edu/allcourses/epidem/\n",
      "European Studies (EURO ST) http://catalogue.uci.edu/allcourses/euro_st/\n",
      "Executive MBA (MGMT EP) http://catalogue.uci.edu/allcourses/mgmt_ep/\n",
      "Film and Media Studies (FLM&MDA) http://catalogue.uci.edu/allcourses/flm_mda/\n",
      "Finance (FIN) http://catalogue.uci.edu/allcourses/fin/\n",
      "French (FRENCH) http://catalogue.uci.edu/allcourses/french/\n",
      "Fully Employed MBA (MGMT FE) http://catalogue.uci.edu/allcourses/mgmt_fe/\n",
      "Gender and Sexuality Studies (GEN&SEX) http://catalogue.uci.edu/allcourses/gen_sex/\n",
      "German (GERMAN) http://catalogue.uci.edu/allcourses/german/\n",
      "Global Cultures (GLBLCLT) http://catalogue.uci.edu/allcourses/glblclt/\n",
      "Global Middle East Studies (GLBL ME) http://catalogue.uci.edu/allcourses/glblme/\n",
      "Greek (GREEK) http://catalogue.uci.edu/allcourses/greek/\n",
      "Health Care MBA (MGMT HC) http://catalogue.uci.edu/allcourses/mgmt_hc/\n",
      "Hebrew (HEBREW) http://catalogue.uci.edu/allcourses/hebrew/\n",
      "History (HISTORY) http://catalogue.uci.edu/allcourses/history/\n",
      "Humanities (HUMAN) http://catalogue.uci.edu/allcourses/human/\n",
      "Informatics (IN4MATX) http://catalogue.uci.edu/allcourses/in4matx/\n",
      "Information and Computer Science (I&C SCI) http://catalogue.uci.edu/allcourses/i_c_sci/\n",
      "International Studies (INTL ST) http://catalogue.uci.edu/allcourses/intl_st/\n",
      "Italian (ITALIAN) http://catalogue.uci.edu/allcourses/italian/\n",
      "Japanese (JAPANSE) http://catalogue.uci.edu/allcourses/japanse/\n",
      "Korean (KOREAN) http://catalogue.uci.edu/allcourses/korean/\n",
      "Latin (LATIN) http://catalogue.uci.edu/allcourses/latin/\n",
      "Linguistics (LINGUIS) http://catalogue.uci.edu/allcourses/linguis/\n",
      "Literary Journalism (LIT JRN) http://catalogue.uci.edu/allcourses/lit_jrn/\n",
      "Logic and Philosophy of Science (LPS) http://catalogue.uci.edu/allcourses/lps/\n",
      "Management MBA (MGMTMBA) http://catalogue.uci.edu/allcourses/mgmtmba/\n",
      "Management (MGMT) http://catalogue.uci.edu/allcourses/mgmt/\n",
      "Management PhD (MGMTPHD) http://catalogue.uci.edu/allcourses/mgmtphd/\n",
      "Master of Professional Accountancy (MPAC) http://catalogue.uci.edu/allcourses/mpac/\n",
      "Mathematics (MATH) http://catalogue.uci.edu/allcourses/math/\n",
      "Mechanical and Aerospace Engineering (ENGRMAE) http://catalogue.uci.edu/allcourses/engrmae/\n",
      "Medical Pharmacology (PHARM) http://catalogue.uci.edu/allcourses/pharm/\n",
      "Microbiology and Molecular Genetics (M&MG) http://catalogue.uci.edu/allcourses/m_mg/\n",
      "Molecular Biology and Biochemistry (MOL BIO) http://catalogue.uci.edu/allcourses/mol_bio/\n",
      "Music (MUSIC) http://catalogue.uci.edu/allcourses/music/\n",
      "Networked Systems (NET SYS) http://catalogue.uci.edu/allcourses/net_sys/\n",
      "Neurobiology and Behavior (NEURBIO) http://catalogue.uci.edu/allcourses/neurbio/\n",
      "Nursing Science (NUR SCI) http://catalogue.uci.edu/allcourses/nur_sci/\n",
      "Pathology and Laboratory Medicine (PATH) http://catalogue.uci.edu/allcourses/path/\n",
      "Pediatrics Genetics (PED GEN) http://catalogue.uci.edu/allcourses/ped_gen/\n",
      "Persian (PERSIAN) http://catalogue.uci.edu/allcourses/persian/\n",
      "Pharmaceutical Sciences (PHRMSCI) http://catalogue.uci.edu/allcourses/phrmsci/\n",
      "Philosophy (PHILOS) http://catalogue.uci.edu/allcourses/philos/\n",
      "Physical Science (PHY SCI) http://catalogue.uci.edu/allcourses/phy_sci/\n",
      "Physics (PHYSICS) http://catalogue.uci.edu/allcourses/physics/\n",
      "Physiology and Biophysics (PHYSIO) http://catalogue.uci.edu/allcourses/physio/\n",
      "Planning, Policy, and Design (PP&D) http://catalogue.uci.edu/allcourses/pp_d/\n",
      "Political Science (POL SCI) http://catalogue.uci.edu/allcourses/pol_sci/\n",
      "Portuguese (PORTUG) http://catalogue.uci.edu/allcourses/portug/\n",
      "Psychology and Social Behavior (PSY BEH) http://catalogue.uci.edu/allcourses/psy_beh/\n",
      "Psychology (PSYCH) http://catalogue.uci.edu/allcourses/psych/\n",
      "Public Health (PUBHLTH) http://catalogue.uci.edu/allcourses/pubhlth/\n",
      "Public Policy (PUB POL) http://catalogue.uci.edu/allcourses/pub_pol/\n",
      "Religious Studies (REL STD) http://catalogue.uci.edu/allcourses/rel_std/\n",
      "Reserve Officers' Training Corps (ROTC) http://catalogue.uci.edu/allcourses/rotc/\n",
      "Russian (RUSSIAN) http://catalogue.uci.edu/allcourses/russian/\n",
      "Social Ecology (SOCECOL) http://catalogue.uci.edu/allcourses/socecol/\n",
      "Social Policy and Public Service (SPPS) http://catalogue.uci.edu/allcourses/spps/\n",
      "Social Science (SOC SCI) http://catalogue.uci.edu/allcourses/soc_sci/\n",
      "Sociology (SOCIOL) http://catalogue.uci.edu/allcourses/sociol/\n",
      "Spanish (SPANISH) http://catalogue.uci.edu/allcourses/spanish/\n",
      "Statistics (STATS) http://catalogue.uci.edu/allcourses/stats/\n",
      "Toxicology (TOX) http://catalogue.uci.edu/allcourses/tox/\n",
      "UC Washington DC (UCDC) http://catalogue.uci.edu/allcourses/ucdc/\n",
      "University Affairs (UNI AFF) http://catalogue.uci.edu/allcourses/uni_aff/\n",
      "University Studies (UNI STU) http://catalogue.uci.edu/allcourses/uni_stu/\n",
      "Urban Planning and Public Policy (UPPP) http://catalogue.uci.edu/allcourses/uppp/\n",
      "Vietnamese (VIETMSE) http://catalogue.uci.edu/allcourses/vietmse/\n",
      "Visual Studies (VIS STD) http://catalogue.uci.edu/allcourses/vis_std/\n",
      "Writing (WRITING) http://catalogue.uci.edu/allcourses/writing/\n"
     ]
    }
   ],
   "source": [
    "from selenium import webdriver\n",
    "import csv\n",
    "\n",
    "chrome_options = webdriver.ChromeOptions()\n",
    "chrome_options.add_argument('--no-sandbox')\n",
    "driver = webdriver.Chrome(\"C:\\\\Users\\MOHAN KUMAR SAH\\Documents\\My Work\\PakkaIndia\\chromedriver\",chrome_options=chrome_options)\n",
    "\n",
    "lis=['Course','University','URL']\n",
    "info=[]\n",
    "info.append(lis)\n",
    "\n",
    "driver.get('http://catalogue.uci.edu/allcourses/')\n",
    "data1=driver.find_elements_by_id('atozindex')\n",
    "data2=data1[0].find_elements_by_tag_name('ul')\n",
    "for i in range(len(data2)):\n",
    "    data3=data2[i].find_elements_by_tag_name('a')\n",
    "    for j in range(len(data3)):\n",
    "        c=data3[j].text\n",
    "        url=data3[j].get_attribute('href')\n",
    "        \n",
    "        info.append([c,'University of California, Irvine',url])\n",
    "        print(c,url)\n",
    "        \n",
    "driver.quit()"
   ]
  },
  {
   "cell_type": "code",
   "execution_count": 9,
   "metadata": {},
   "outputs": [
    {
     "data": {
      "text/plain": [
       "114"
      ]
     },
     "execution_count": 9,
     "metadata": {},
     "output_type": "execute_result"
    }
   ],
   "source": [
    "len(info)"
   ]
  },
  {
   "cell_type": "code",
   "execution_count": 10,
   "metadata": {},
   "outputs": [],
   "source": [
    "with open('University_of_California,_Irvine.csv','w',encoding=\"utf-8\",newline=\"\") as file:\n",
    "    write=csv.writer(file)\n",
    "    for row in info:\n",
    "        write.writerow(row)"
   ]
  },
  {
   "cell_type": "code",
   "execution_count": null,
   "metadata": {},
   "outputs": [],
   "source": []
  }
 ],
 "metadata": {
  "kernelspec": {
   "display_name": "Python 3",
   "language": "python",
   "name": "python3"
  },
  "language_info": {
   "codemirror_mode": {
    "name": "ipython",
    "version": 3
   },
   "file_extension": ".py",
   "mimetype": "text/x-python",
   "name": "python",
   "nbconvert_exporter": "python",
   "pygments_lexer": "ipython3",
   "version": "3.6.5"
  }
 },
 "nbformat": 4,
 "nbformat_minor": 2
}
