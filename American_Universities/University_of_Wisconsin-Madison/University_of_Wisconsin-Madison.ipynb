{
 "cells": [
  {
   "cell_type": "code",
   "execution_count": 43,
   "metadata": {},
   "outputs": [
    {
     "name": "stderr",
     "output_type": "stream",
     "text": [
      "C:\\ProgramData\\Anaconda3\\lib\\site-packages\\ipykernel_launcher.py:6: DeprecationWarning: use options instead of chrome_options\n",
      "  \n"
     ]
    }
   ],
   "source": [
    "from selenium import webdriver\n",
    "import csv\n",
    "\n",
    "chrome_options = webdriver.ChromeOptions()\n",
    "chrome_options.add_argument('--no-sandbox')\n",
    "driver = webdriver.Chrome(\"C:\\\\Users\\MOHAN KUMAR SAH\\Documents\\My Work\\PakkaIndia\\chromedriver\",chrome_options=chrome_options)"
   ]
  },
  {
   "cell_type": "code",
   "execution_count": 44,
   "metadata": {},
   "outputs": [],
   "source": [
    "driver.get('http://guide.wisc.edu/courses/#text')"
   ]
  },
  {
   "cell_type": "code",
   "execution_count": 3,
   "metadata": {},
   "outputs": [
    {
     "data": {
      "text/plain": [
       "[<selenium.webdriver.remote.webelement.WebElement (session=\"eb8893155d3e8091fc618a159f6599d1\", element=\"0.47565129778182746-1\")>]"
      ]
     },
     "execution_count": 3,
     "metadata": {},
     "output_type": "execute_result"
    }
   ],
   "source": [
    "data1=driver.find_elements_by_id('atozindex')\n",
    "data1"
   ]
  },
  {
   "cell_type": "code",
   "execution_count": 31,
   "metadata": {},
   "outputs": [
    {
     "data": {
      "text/plain": [
       "[<selenium.webdriver.remote.webelement.WebElement (session=\"eb8893155d3e8091fc618a159f6599d1\", element=\"0.47565129778182746-5\")>,\n",
       " <selenium.webdriver.remote.webelement.WebElement (session=\"eb8893155d3e8091fc618a159f6599d1\", element=\"0.47565129778182746-6\")>,\n",
       " <selenium.webdriver.remote.webelement.WebElement (session=\"eb8893155d3e8091fc618a159f6599d1\", element=\"0.47565129778182746-7\")>,\n",
       " <selenium.webdriver.remote.webelement.WebElement (session=\"eb8893155d3e8091fc618a159f6599d1\", element=\"0.47565129778182746-8\")>,\n",
       " <selenium.webdriver.remote.webelement.WebElement (session=\"eb8893155d3e8091fc618a159f6599d1\", element=\"0.47565129778182746-9\")>,\n",
       " <selenium.webdriver.remote.webelement.WebElement (session=\"eb8893155d3e8091fc618a159f6599d1\", element=\"0.47565129778182746-10\")>,\n",
       " <selenium.webdriver.remote.webelement.WebElement (session=\"eb8893155d3e8091fc618a159f6599d1\", element=\"0.47565129778182746-11\")>,\n",
       " <selenium.webdriver.remote.webelement.WebElement (session=\"eb8893155d3e8091fc618a159f6599d1\", element=\"0.47565129778182746-12\")>,\n",
       " <selenium.webdriver.remote.webelement.WebElement (session=\"eb8893155d3e8091fc618a159f6599d1\", element=\"0.47565129778182746-13\")>,\n",
       " <selenium.webdriver.remote.webelement.WebElement (session=\"eb8893155d3e8091fc618a159f6599d1\", element=\"0.47565129778182746-14\")>,\n",
       " <selenium.webdriver.remote.webelement.WebElement (session=\"eb8893155d3e8091fc618a159f6599d1\", element=\"0.47565129778182746-15\")>,\n",
       " <selenium.webdriver.remote.webelement.WebElement (session=\"eb8893155d3e8091fc618a159f6599d1\", element=\"0.47565129778182746-16\")>,\n",
       " <selenium.webdriver.remote.webelement.WebElement (session=\"eb8893155d3e8091fc618a159f6599d1\", element=\"0.47565129778182746-17\")>,\n",
       " <selenium.webdriver.remote.webelement.WebElement (session=\"eb8893155d3e8091fc618a159f6599d1\", element=\"0.47565129778182746-18\")>,\n",
       " <selenium.webdriver.remote.webelement.WebElement (session=\"eb8893155d3e8091fc618a159f6599d1\", element=\"0.47565129778182746-19\")>,\n",
       " <selenium.webdriver.remote.webelement.WebElement (session=\"eb8893155d3e8091fc618a159f6599d1\", element=\"0.47565129778182746-20\")>,\n",
       " <selenium.webdriver.remote.webelement.WebElement (session=\"eb8893155d3e8091fc618a159f6599d1\", element=\"0.47565129778182746-21\")>,\n",
       " <selenium.webdriver.remote.webelement.WebElement (session=\"eb8893155d3e8091fc618a159f6599d1\", element=\"0.47565129778182746-22\")>,\n",
       " <selenium.webdriver.remote.webelement.WebElement (session=\"eb8893155d3e8091fc618a159f6599d1\", element=\"0.47565129778182746-23\")>,\n",
       " <selenium.webdriver.remote.webelement.WebElement (session=\"eb8893155d3e8091fc618a159f6599d1\", element=\"0.47565129778182746-24\")>,\n",
       " <selenium.webdriver.remote.webelement.WebElement (session=\"eb8893155d3e8091fc618a159f6599d1\", element=\"0.47565129778182746-25\")>]"
      ]
     },
     "execution_count": 31,
     "metadata": {},
     "output_type": "execute_result"
    }
   ],
   "source": [
    "data2=data1[0].find_elements_by_tag_name('ul')\n",
    "data2"
   ]
  },
  {
   "cell_type": "code",
   "execution_count": 32,
   "metadata": {},
   "outputs": [
    {
     "data": {
      "text/plain": [
       "21"
      ]
     },
     "execution_count": 32,
     "metadata": {},
     "output_type": "execute_result"
    }
   ],
   "source": [
    "len(data2)"
   ]
  },
  {
   "cell_type": "code",
   "execution_count": 37,
   "metadata": {},
   "outputs": [
    {
     "data": {
      "text/plain": [
       "[<selenium.webdriver.remote.webelement.WebElement (session=\"eb8893155d3e8091fc618a159f6599d1\", element=\"0.47565129778182746-56\")>,\n",
       " <selenium.webdriver.remote.webelement.WebElement (session=\"eb8893155d3e8091fc618a159f6599d1\", element=\"0.47565129778182746-57\")>,\n",
       " <selenium.webdriver.remote.webelement.WebElement (session=\"eb8893155d3e8091fc618a159f6599d1\", element=\"0.47565129778182746-58\")>,\n",
       " <selenium.webdriver.remote.webelement.WebElement (session=\"eb8893155d3e8091fc618a159f6599d1\", element=\"0.47565129778182746-59\")>,\n",
       " <selenium.webdriver.remote.webelement.WebElement (session=\"eb8893155d3e8091fc618a159f6599d1\", element=\"0.47565129778182746-60\")>,\n",
       " <selenium.webdriver.remote.webelement.WebElement (session=\"eb8893155d3e8091fc618a159f6599d1\", element=\"0.47565129778182746-61\")>,\n",
       " <selenium.webdriver.remote.webelement.WebElement (session=\"eb8893155d3e8091fc618a159f6599d1\", element=\"0.47565129778182746-62\")>,\n",
       " <selenium.webdriver.remote.webelement.WebElement (session=\"eb8893155d3e8091fc618a159f6599d1\", element=\"0.47565129778182746-63\")>,\n",
       " <selenium.webdriver.remote.webelement.WebElement (session=\"eb8893155d3e8091fc618a159f6599d1\", element=\"0.47565129778182746-64\")>,\n",
       " <selenium.webdriver.remote.webelement.WebElement (session=\"eb8893155d3e8091fc618a159f6599d1\", element=\"0.47565129778182746-65\")>,\n",
       " <selenium.webdriver.remote.webelement.WebElement (session=\"eb8893155d3e8091fc618a159f6599d1\", element=\"0.47565129778182746-66\")>,\n",
       " <selenium.webdriver.remote.webelement.WebElement (session=\"eb8893155d3e8091fc618a159f6599d1\", element=\"0.47565129778182746-67\")>,\n",
       " <selenium.webdriver.remote.webelement.WebElement (session=\"eb8893155d3e8091fc618a159f6599d1\", element=\"0.47565129778182746-68\")>,\n",
       " <selenium.webdriver.remote.webelement.WebElement (session=\"eb8893155d3e8091fc618a159f6599d1\", element=\"0.47565129778182746-69\")>,\n",
       " <selenium.webdriver.remote.webelement.WebElement (session=\"eb8893155d3e8091fc618a159f6599d1\", element=\"0.47565129778182746-70\")>,\n",
       " <selenium.webdriver.remote.webelement.WebElement (session=\"eb8893155d3e8091fc618a159f6599d1\", element=\"0.47565129778182746-71\")>,\n",
       " <selenium.webdriver.remote.webelement.WebElement (session=\"eb8893155d3e8091fc618a159f6599d1\", element=\"0.47565129778182746-72\")>,\n",
       " <selenium.webdriver.remote.webelement.WebElement (session=\"eb8893155d3e8091fc618a159f6599d1\", element=\"0.47565129778182746-73\")>,\n",
       " <selenium.webdriver.remote.webelement.WebElement (session=\"eb8893155d3e8091fc618a159f6599d1\", element=\"0.47565129778182746-74\")>,\n",
       " <selenium.webdriver.remote.webelement.WebElement (session=\"eb8893155d3e8091fc618a159f6599d1\", element=\"0.47565129778182746-75\")>,\n",
       " <selenium.webdriver.remote.webelement.WebElement (session=\"eb8893155d3e8091fc618a159f6599d1\", element=\"0.47565129778182746-76\")>,\n",
       " <selenium.webdriver.remote.webelement.WebElement (session=\"eb8893155d3e8091fc618a159f6599d1\", element=\"0.47565129778182746-77\")>]"
      ]
     },
     "execution_count": 37,
     "metadata": {},
     "output_type": "execute_result"
    }
   ],
   "source": [
    "data3=data2[0].find_elements_by_tag_name('li')\n",
    "data3"
   ]
  },
  {
   "cell_type": "code",
   "execution_count": 38,
   "metadata": {},
   "outputs": [
    {
     "data": {
      "text/plain": [
       "'Accounting and Information Systems (ACCT I S)'"
      ]
     },
     "execution_count": 38,
     "metadata": {},
     "output_type": "execute_result"
    }
   ],
   "source": [
    "data3[0].text"
   ]
  },
  {
   "cell_type": "code",
   "execution_count": 39,
   "metadata": {},
   "outputs": [
    {
     "data": {
      "text/plain": [
       "'http://guide.wisc.edu/courses/acct_i_s/'"
      ]
     },
     "execution_count": 39,
     "metadata": {},
     "output_type": "execute_result"
    }
   ],
   "source": [
    "data3[0].find_element_by_tag_name('a').get_attribute('href')"
   ]
  },
  {
   "cell_type": "markdown",
   "metadata": {},
   "source": [
    "# Full Code"
   ]
  },
  {
   "cell_type": "code",
   "execution_count": 46,
   "metadata": {},
   "outputs": [
    {
     "name": "stderr",
     "output_type": "stream",
     "text": [
      "C:\\ProgramData\\Anaconda3\\lib\\site-packages\\ipykernel_launcher.py:10: DeprecationWarning: use options instead of chrome_options\n",
      "  # Remove the CWD from sys.path while we load stuff.\n"
     ]
    },
    {
     "name": "stdout",
     "output_type": "stream",
     "text": [
      "Accounting and Information Systems (ACCT I S) http://guide.wisc.edu/courses/acct_i_s/\n",
      "Actuarial Science (ACT SCI) http://guide.wisc.edu/courses/act_sci/\n",
      "African Cultural Studies (AFRICAN) http://guide.wisc.edu/courses/african/\n",
      "Afro-American Studies (AFROAMER) http://guide.wisc.edu/courses/afroamer/\n",
      "Agricultural and Applied Economics (A A E) http://guide.wisc.edu/courses/a_a_e/\n",
      "Agroecology (AGROECOL) http://guide.wisc.edu/courses/agroecol/\n",
      "Agronomy (AGRONOMY) http://guide.wisc.edu/courses/agronomy/\n",
      "Air Force Aerospace Studies (A F AERO) http://guide.wisc.edu/courses/a_f_aero/\n",
      "American Indian Studies (AMER IND) http://guide.wisc.edu/courses/amer_ind/\n",
      "Anatomy (ANATOMY) http://guide.wisc.edu/courses/anatomy/\n",
      "Anatomy & Physiology (ANAT&PHY) http://guide.wisc.edu/courses/anat_phy/\n",
      "Anesthesiology (ANESTHES) http://guide.wisc.edu/courses/anesthes/\n",
      "Animal Sciences (AN SCI) http://guide.wisc.edu/courses/an_sci/\n",
      "Anthropology (ANTHRO) http://guide.wisc.edu/courses/anthro/\n",
      "Art Department (ART) http://guide.wisc.edu/courses/art/\n",
      "Art Education (Department of Art) (ART ED) http://guide.wisc.edu/courses/art_ed/\n",
      "Art History (ART HIST) http://guide.wisc.edu/courses/art_hist/\n",
      "Asian American Studies (ASIAN AM) http://guide.wisc.edu/courses/asian_am/\n",
      "Asian Languages and Cultures (ASIAN) http://guide.wisc.edu/courses/asian/\n",
      "Asian Languages and Cultures: Languages (ASIALANG) http://guide.wisc.edu/courses/asialang/\n",
      "Astronomy (ASTRON) http://guide.wisc.edu/courses/astron/\n",
      "Atmospheric and Oceanic Sciences (ATM OCN) http://guide.wisc.edu/courses/atm_ocn/\n",
      "Biochemistry (BIOCHEM) http://guide.wisc.edu/courses/biochem/\n",
      "Biological Systems Engineering (BSE) http://guide.wisc.edu/courses/bse/\n",
      "Biology (BIOLOGY) http://guide.wisc.edu/courses/biology/\n",
      "Biology Core Curriculum (BIOCORE) http://guide.wisc.edu/courses/biocore/\n",
      "Biomedical Engineering (B M E) http://guide.wisc.edu/courses/b_m_e/\n",
      "Biomolecular Chemistry (BMOLCHEM) http://guide.wisc.edu/courses/bmolchem/\n",
      "Biostatistics and Medical Informatics (B M I) http://guide.wisc.edu/courses/b_m_i/\n",
      "Botany (BOTANY) http://guide.wisc.edu/courses/botany/\n",
      "Cell and Regenerative Biology (CRB) http://guide.wisc.edu/courses/crb/\n",
      "Chemical and Biological Engineering (CBE) http://guide.wisc.edu/courses/cbe/\n",
      "Chemistry (CHEM) http://guide.wisc.edu/courses/chem/\n",
      "Chicana/o and Latina/o Studies (CHICLA) http://guide.wisc.edu/courses/chicla/\n",
      "Civil and Environmental Engineering (CIV ENGR) http://guide.wisc.edu/courses/civ_engr/\n",
      "Civil Society and Community Studies (CSCS) http://guide.wisc.edu/courses/cscs/\n",
      "Classics (CLASSICS) http://guide.wisc.edu/courses/classics/\n",
      "Collaborative Nursing Program (CNP) http://guide.wisc.edu/courses/cnp/\n",
      "Communication Arts (COM ARTS) http://guide.wisc.edu/courses/com_arts/\n",
      "Communication Sciences and Disorders (CS&D) http://guide.wisc.edu/courses/cs_d/\n",
      "Community and Environmental Sociology (C&E SOC) http://guide.wisc.edu/courses/c_e_soc/\n",
      "Comparative Biosciences (COMP BIO) http://guide.wisc.edu/courses/comp_bio/\n",
      "Comparative Literature (COMP LIT) http://guide.wisc.edu/courses/comp_lit/\n",
      "Computer Sciences (COMP SCI) http://guide.wisc.edu/courses/comp_sci/\n",
      "Consumer Science (CNSR SCI) http://guide.wisc.edu/courses/cnsr_sci/\n",
      "Counseling Psychology (COUN PSY) http://guide.wisc.edu/courses/coun_psy/\n",
      "Curriculum and Instruction (CURRIC) http://guide.wisc.edu/courses/curric/\n",
      "Dairy Science (DY SCI) http://guide.wisc.edu/courses/dy_sci/\n",
      "Dance (DANCE) http://guide.wisc.edu/courses/dance/\n",
      "Design Studies (DS) http://guide.wisc.edu/courses/ds/\n",
      "East Asian Area Studies (E A STDS) http://guide.wisc.edu/courses/e_a_stds/\n",
      "East Asian Languages and Literature (E ASIAN) http://guide.wisc.edu/courses/e_asian/\n",
      "Economics (ECON) http://guide.wisc.edu/courses/econ/\n",
      "Educational Leadership and Policy Analysis (ELPA) http://guide.wisc.edu/courses/elpa/\n",
      "Educational Psychology (ED PSYCH) http://guide.wisc.edu/courses/ed_psych/\n",
      "Education Policy Studies (ED POL) http://guide.wisc.edu/courses/ed_pol/\n",
      "Electrical and Computer Engineering (E C E) http://guide.wisc.edu/courses/e_c_e/\n",
      "Emergency Medicine (EMER MED) http://guide.wisc.edu/courses/emer_med/\n",
      "Engineering Mechanics and Astronautics (E M A) http://guide.wisc.edu/courses/e_m_a/\n",
      "Engineering Physics (E P) http://guide.wisc.edu/courses/e_p/\n",
      "Engineering Professional Development (E P D) http://guide.wisc.edu/courses/e_p_d/\n",
      "English as a Second Language (ESL) http://guide.wisc.edu/courses/esl/\n",
      "English (ENGL) http://guide.wisc.edu/courses/engl/\n",
      "Entomology (ENTOM) http://guide.wisc.edu/courses/entom/\n",
      "Environmental Studies - Gaylord Nelson Institute (ENVIR ST) http://guide.wisc.edu/courses/envir_st/\n",
      "Family Medicine (FAM MED) http://guide.wisc.edu/courses/fam_med/\n",
      "Farm and Industry Short Course (FISC) http://guide.wisc.edu/courses/fisc/\n",
      "Finance, Investment and Banking (FINANCE) http://guide.wisc.edu/courses/finance/\n",
      "Folklore Program (FOLKLORE) http://guide.wisc.edu/courses/folklore/\n",
      "Food Science (FOOD SCI) http://guide.wisc.edu/courses/food_sci/\n",
      "Forest and Wildlife Ecology (F&W ECOL) http://guide.wisc.edu/courses/f_w_ecol/\n",
      "French (French and Italian) (FRENCH) http://guide.wisc.edu/courses/french/\n",
      "Gender and Womens Studies (GEN&WS) http://guide.wisc.edu/courses/gen_ws/\n",
      "General Business (GEN BUS) http://guide.wisc.edu/courses/gen_bus/\n",
      "Genetics (GENETICS) http://guide.wisc.edu/courses/genetics/\n",
      "Geography (GEOG) http://guide.wisc.edu/courses/geog/\n",
      "Geological Engineering (G L E) http://guide.wisc.edu/courses/g_l_e/\n",
      "Geoscience (GEOSCI) http://guide.wisc.edu/courses/geosci/\n",
      "German (GERMAN) http://guide.wisc.edu/courses/german/\n",
      "German, Nordic, and Slavic (GNS) http://guide.wisc.edu/courses/gns/\n",
      "Greek (Classics) (GREEK) http://guide.wisc.edu/courses/greek/\n",
      "Hebrew-Biblical (HEBR-BIB) http://guide.wisc.edu/courses/hebr_bib/\n",
      "Hebrew-Modern (HEBR-MOD) http://guide.wisc.edu/courses/hebr_mod/\n",
      "History (HISTORY) http://guide.wisc.edu/courses/history/\n",
      "History of Science (HIST SCI) http://guide.wisc.edu/courses/hist_sci/\n",
      "Horticulture (HORT) http://guide.wisc.edu/courses/hort/\n",
      "Human Development and Family Studies (HDFS) http://guide.wisc.edu/courses/hdfs/\n",
      "Human Oncology (H ONCOL) http://guide.wisc.edu/courses/h_oncol/\n",
      "Industrial and Systems Engineering (I SY E) http://guide.wisc.edu/courses/i_sy_e/\n",
      "Information Systems (INFO SYS) http://guide.wisc.edu/courses/info_sys/\n",
      "Integrated Arts (INTEGART) http://guide.wisc.edu/courses/integart/\n",
      "Integrated Liberal Studies (ILS) http://guide.wisc.edu/courses/ils/\n",
      "Integrated Science (INTEGSCI) http://guide.wisc.edu/courses/integsci/\n",
      "Interdisciplinary Courses (C A L S) (INTER-AG) http://guide.wisc.edu/courses/inter_ag/\n",
      "Interdisciplinary Courses (Engineering) (INTEREGR) http://guide.wisc.edu/courses/interegr/\n",
      "Interdisciplinary Courses (L & S) (INTER-LS) http://guide.wisc.edu/courses/inter_ls/\n",
      "Interdisciplinary Courses (SOHE) (INTER-HE) http://guide.wisc.edu/courses/inter_he/\n",
      "International Academic Programs – Study Abroad (STDYABRD) http://guide.wisc.edu/courses/stdyabrd/\n",
      "International Business (INTL BUS) http://guide.wisc.edu/courses/intl_bus/\n",
      "International Studies (INTL ST) http://guide.wisc.edu/courses/intl_st/\n",
      "Italian (French and Italian) (ITALIAN) http://guide.wisc.edu/courses/italian/\n",
      "Jewish Studies (JEWISH) http://guide.wisc.edu/courses/jewish/\n",
      "Journalism and Mass Communication (JOURN) http://guide.wisc.edu/courses/journ/\n",
      "Kinesiology (KINES) http://guide.wisc.edu/courses/kines/\n",
      "La Follette School of Public Affairs (PUB AFFR) http://guide.wisc.edu/courses/pub_affr/\n",
      "Landscape Architecture (LAND ARC) http://guide.wisc.edu/courses/land_arc/\n",
      "Languages and Cultures of Asia - Languages (LCA LANG) http://guide.wisc.edu/courses/lca_lang/\n",
      "Languages and Cultures of Asia (LCA) http://guide.wisc.edu/courses/lca/\n",
      "Latin American, Caribbean, and Iberian Studies (LACIS) http://guide.wisc.edu/courses/lacis/\n",
      "Latin (Classics) (LATIN) http://guide.wisc.edu/courses/latin/\n",
      "Law (LAW) http://guide.wisc.edu/courses/law/\n",
      "Legal Studies (LEGAL ST) http://guide.wisc.edu/courses/legal_st/\n",
      "Library and Information Studies (L I S) http://guide.wisc.edu/courses/l_i_s/\n",
      "Life Sciences Communication (LSC) http://guide.wisc.edu/courses/lsc/\n",
      "Linguistics (LINGUIS) http://guide.wisc.edu/courses/linguis/\n",
      "Literature in Translation (LITTRANS) http://guide.wisc.edu/courses/littrans/\n"
     ]
    },
    {
     "name": "stdout",
     "output_type": "stream",
     "text": [
      "Management and Human Resources (M H R) http://guide.wisc.edu/courses/m_h_r/\n",
      "Marketing (MARKETNG) http://guide.wisc.edu/courses/marketng/\n",
      "Materials Science and Engineering (M S & E) http://guide.wisc.edu/courses/m_s_e/\n",
      "Mathematics (MATH) http://guide.wisc.edu/courses/math/\n",
      "Mechanical Engineering (M E) http://guide.wisc.edu/courses/m_e/\n",
      "Medical Genetics (MD GENET) http://guide.wisc.edu/courses/md_genet/\n",
      "Medical History and Bioethics (MED HIST) http://guide.wisc.edu/courses/med_hist/\n",
      "Medical Microbiology and Immunology (M M & I) http://guide.wisc.edu/courses/m_m_i/\n",
      "Medical Physics (MED PHYS) http://guide.wisc.edu/courses/med_phys/\n",
      "Medical Sciences - Medical School (MED SC-M) http://guide.wisc.edu/courses/med_sc_m/\n",
      "Medical Sciences - Veterinary Medicine (MED SC-V) http://guide.wisc.edu/courses/med_sc_v/\n",
      "Medicine (MEDICINE) http://guide.wisc.edu/courses/medicine/\n",
      "Medieval Studies (MEDIEVAL) http://guide.wisc.edu/courses/medieval/\n",
      "Microbiology (MICROBIO) http://guide.wisc.edu/courses/microbio/\n",
      "Military Science (MIL SCI) http://guide.wisc.edu/courses/mil_sci/\n",
      "Molecular and Environmental Toxicology Center (M&ENVTOX) http://guide.wisc.edu/courses/m_envtox/\n",
      "Molecular Biology (MOL BIOL) http://guide.wisc.edu/courses/mol_biol/\n",
      "Music (MUSIC) http://guide.wisc.edu/courses/music/\n",
      "Music-Performance (MUS PERF) http://guide.wisc.edu/courses/mus_perf/\n",
      "Naval Science (NAV SCI) http://guide.wisc.edu/courses/nav_sci/\n",
      "Neurological Surgery (NEURSURG) http://guide.wisc.edu/courses/neursurg/\n",
      "Neurology (NEUROL) http://guide.wisc.edu/courses/neurol/\n",
      "Neuroscience (NEURODPT) http://guide.wisc.edu/courses/neurodpt/\n",
      "Neuroscience Training Program (NTP) http://guide.wisc.edu/courses/ntp/\n",
      "Nuclear Engineering (N E) http://guide.wisc.edu/courses/n_e/\n",
      "Nursing (NURSING) http://guide.wisc.edu/courses/nursing/\n",
      "Nutritional Sciences (NUTR SCI) http://guide.wisc.edu/courses/nutr_sci/\n",
      "Obstetrics and Gynecology (OBS&GYN) http://guide.wisc.edu/courses/obs_gyn/\n",
      "Occupational Therapy (DEPARTMENT OF KINESIOLOGY) (OCC THER) http://guide.wisc.edu/courses/occ_ther/\n",
      "Oncology (ONCOLOGY) http://guide.wisc.edu/courses/oncology/\n",
      "Operations and Technology Management (OTM) http://guide.wisc.edu/courses/otm/\n",
      "Ophthalmology and Visual Sciences (OPHTHALM) http://guide.wisc.edu/courses/ophthalm/\n",
      "Patho-Biological Sciences (PATH-BIO) http://guide.wisc.edu/courses/path_bio/\n",
      "Pathology and Laboratory Medicine (PATH) http://guide.wisc.edu/courses/path/\n",
      "Pediatrics (PEDIAT) http://guide.wisc.edu/courses/pediat/\n",
      "Pharmaceutical Sciences (PHM SCI) http://guide.wisc.edu/courses/phm_sci/\n",
      "Pharmacology (PHMCOL-M) http://guide.wisc.edu/courses/phmcol_m/\n",
      "Pharmacy (PHARMACY) http://guide.wisc.edu/courses/pharmacy/\n",
      "Pharmacy Practice (PHM PRAC) http://guide.wisc.edu/courses/phm_prac/\n",
      "Philosophy (PHILOS) http://guide.wisc.edu/courses/philos/\n",
      "Physical Therapy (PHY THER) http://guide.wisc.edu/courses/phy_ther/\n",
      "Physician Assistant Program (PHY ASST) http://guide.wisc.edu/courses/phy_asst/\n",
      "Physics (PHYSICS) http://guide.wisc.edu/courses/physics/\n",
      "Physiology (PHYSIOL) http://guide.wisc.edu/courses/physiol/\n",
      "Plant Pathology (PL PATH) http://guide.wisc.edu/courses/pl_path/\n",
      "Political Science (POLI SCI) http://guide.wisc.edu/courses/poli_sci/\n",
      "Population Health Sciences (POP HLTH) http://guide.wisc.edu/courses/pop_hlth/\n",
      "Portuguese (Spanish and Portuguese) (PORTUG) http://guide.wisc.edu/courses/portug/\n",
      "Psychiatry (PSYCHIAT) http://guide.wisc.edu/courses/psychiat/\n",
      "Psychology (PSYCH) http://guide.wisc.edu/courses/psych/\n",
      "Public Health (PUBLHLTH) http://guide.wisc.edu/courses/publhlth/\n",
      "Radiology (RADIOL) http://guide.wisc.edu/courses/radiol/\n",
      "Real Estate and Urban Land Economics (REAL EST) http://guide.wisc.edu/courses/real_est/\n",
      "Rehabilitation Medicine (RHAB MED) http://guide.wisc.edu/courses/rhab_med/\n",
      "Rehabilitation Psychology and Special Education (RP & SE) http://guide.wisc.edu/courses/rp_se/\n",
      "Religious Studies (RELIG ST) http://guide.wisc.edu/courses/relig_st/\n",
      "Risk Management and Insurance (R M I) http://guide.wisc.edu/courses/r_m_i/\n",
      "Scandinavian Studies (SCAND ST) http://guide.wisc.edu/courses/scand_st/\n",
      "Science and Technology Studies (STS) http://guide.wisc.edu/courses/sts/\n",
      "Senior Medical Program (SR MED) http://guide.wisc.edu/courses/sr_med/\n",
      "Slavic (Slavic Languages) (SLAVIC) http://guide.wisc.edu/courses/slavic/\n",
      "Social and Administrative Pharmacy (S&A PHM) http://guide.wisc.edu/courses/s_a_phm/\n",
      "Social Work (SOC WORK) http://guide.wisc.edu/courses/soc_work/\n",
      "Sociology (SOC) http://guide.wisc.edu/courses/soc/\n",
      "Soil Science (SOIL SCI) http://guide.wisc.edu/courses/soil_sci/\n",
      "Spanish (Spanish and Portuguese) (SPANISH) http://guide.wisc.edu/courses/spanish/\n",
      "Statistics (STAT) http://guide.wisc.edu/courses/stat/\n",
      "Surgery (SURGERY) http://guide.wisc.edu/courses/surgery/\n",
      "Surgical Sciences (SURG SCI) http://guide.wisc.edu/courses/surg_sci/\n",
      "Theatre and Drama (THEATRE) http://guide.wisc.edu/courses/theatre/\n",
      "University Forum (UNIV FOR) http://guide.wisc.edu/courses/univ_for/\n",
      "Urban and Regional Planning (URB R PL) http://guide.wisc.edu/courses/urb_r_pl/\n",
      "Zoology (ZOOLOGY) http://guide.wisc.edu/courses/zoology/\n"
     ]
    }
   ],
   "source": [
    "lis=['Course','URL','University']\n",
    "info=[]\n",
    "info.append(lis)\n",
    "\n",
    "from selenium import webdriver\n",
    "import csv\n",
    "\n",
    "chrome_options = webdriver.ChromeOptions()\n",
    "chrome_options.add_argument('--no-sandbox')\n",
    "driver = webdriver.Chrome(\"C:\\\\Users\\MOHAN KUMAR SAH\\Documents\\My Work\\PakkaIndia\\chromedriver\",chrome_options=chrome_options)\n",
    "\n",
    "driver.get('http://guide.wisc.edu/courses/#text')\n",
    "data1=driver.find_elements_by_id('atozindex')\n",
    "data2=data1[0].find_elements_by_tag_name('ul')\n",
    "for i in range(len(data2)):\n",
    "    data3=data2[i].find_elements_by_tag_name('li')\n",
    "    for j in range(len(data3)):\n",
    "        c=data3[j].text\n",
    "        url=data3[j].find_element_by_tag_name('a').get_attribute('href')\n",
    "        \n",
    "        info.append([c,url,'University of Wisconsin-Madison'])\n",
    "        print(c,url)\n",
    "        \n",
    "driver.quit()"
   ]
  },
  {
   "cell_type": "code",
   "execution_count": 47,
   "metadata": {},
   "outputs": [],
   "source": [
    "with open('University_of_Wisconsin-Madison.csv','w',encoding=\"utf-8\",newline=\"\") as file:\n",
    "    write=csv.writer(file)\n",
    "    for row in info:\n",
    "        write.writerow(row)"
   ]
  },
  {
   "cell_type": "code",
   "execution_count": null,
   "metadata": {},
   "outputs": [],
   "source": []
  }
 ],
 "metadata": {
  "kernelspec": {
   "display_name": "Python 3",
   "language": "python",
   "name": "python3"
  },
  "language_info": {
   "codemirror_mode": {
    "name": "ipython",
    "version": 3
   },
   "file_extension": ".py",
   "mimetype": "text/x-python",
   "name": "python",
   "nbconvert_exporter": "python",
   "pygments_lexer": "ipython3",
   "version": "3.6.5"
  }
 },
 "nbformat": 4,
 "nbformat_minor": 2
}
