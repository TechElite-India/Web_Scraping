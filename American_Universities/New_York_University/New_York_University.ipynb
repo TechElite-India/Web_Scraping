{
 "cells": [
  {
   "cell_type": "code",
   "execution_count": 27,
   "metadata": {},
   "outputs": [
    {
     "name": "stderr",
     "output_type": "stream",
     "text": [
      "C:\\ProgramData\\Anaconda3\\lib\\site-packages\\ipykernel_launcher.py:6: DeprecationWarning: use options instead of chrome_options\n",
      "  \n"
     ]
    }
   ],
   "source": [
    "from selenium import webdriver\n",
    "import csv\n",
    "\n",
    "chrome_options = webdriver.ChromeOptions()\n",
    "chrome_options.add_argument('--no-sandbox')\n",
    "driver = webdriver.Chrome(\"C:\\\\Users\\MOHAN KUMAR SAH\\Documents\\My Work\\PakkaIndia\\chromedriver\",chrome_options=chrome_options)"
   ]
  },
  {
   "cell_type": "code",
   "execution_count": 24,
   "metadata": {},
   "outputs": [],
   "source": [
    "driver.get('https://wagner.nyu.edu/education/courses/search?search_api_fulltext=&field_course_semesters_offered=All&page=1')"
   ]
  },
  {
   "cell_type": "code",
   "execution_count": 25,
   "metadata": {},
   "outputs": [
    {
     "data": {
      "text/plain": [
       "[<selenium.webdriver.remote.webelement.WebElement (session=\"6056b633ac03ab3eb9f771e80841908f\", element=\"0.6748526091890028-1\")>,\n",
       " <selenium.webdriver.remote.webelement.WebElement (session=\"6056b633ac03ab3eb9f771e80841908f\", element=\"0.6748526091890028-2\")>,\n",
       " <selenium.webdriver.remote.webelement.WebElement (session=\"6056b633ac03ab3eb9f771e80841908f\", element=\"0.6748526091890028-3\")>,\n",
       " <selenium.webdriver.remote.webelement.WebElement (session=\"6056b633ac03ab3eb9f771e80841908f\", element=\"0.6748526091890028-4\")>,\n",
       " <selenium.webdriver.remote.webelement.WebElement (session=\"6056b633ac03ab3eb9f771e80841908f\", element=\"0.6748526091890028-5\")>,\n",
       " <selenium.webdriver.remote.webelement.WebElement (session=\"6056b633ac03ab3eb9f771e80841908f\", element=\"0.6748526091890028-6\")>,\n",
       " <selenium.webdriver.remote.webelement.WebElement (session=\"6056b633ac03ab3eb9f771e80841908f\", element=\"0.6748526091890028-7\")>,\n",
       " <selenium.webdriver.remote.webelement.WebElement (session=\"6056b633ac03ab3eb9f771e80841908f\", element=\"0.6748526091890028-8\")>,\n",
       " <selenium.webdriver.remote.webelement.WebElement (session=\"6056b633ac03ab3eb9f771e80841908f\", element=\"0.6748526091890028-9\")>,\n",
       " <selenium.webdriver.remote.webelement.WebElement (session=\"6056b633ac03ab3eb9f771e80841908f\", element=\"0.6748526091890028-10\")>,\n",
       " <selenium.webdriver.remote.webelement.WebElement (session=\"6056b633ac03ab3eb9f771e80841908f\", element=\"0.6748526091890028-11\")>,\n",
       " <selenium.webdriver.remote.webelement.WebElement (session=\"6056b633ac03ab3eb9f771e80841908f\", element=\"0.6748526091890028-12\")>,\n",
       " <selenium.webdriver.remote.webelement.WebElement (session=\"6056b633ac03ab3eb9f771e80841908f\", element=\"0.6748526091890028-13\")>,\n",
       " <selenium.webdriver.remote.webelement.WebElement (session=\"6056b633ac03ab3eb9f771e80841908f\", element=\"0.6748526091890028-14\")>,\n",
       " <selenium.webdriver.remote.webelement.WebElement (session=\"6056b633ac03ab3eb9f771e80841908f\", element=\"0.6748526091890028-15\")>,\n",
       " <selenium.webdriver.remote.webelement.WebElement (session=\"6056b633ac03ab3eb9f771e80841908f\", element=\"0.6748526091890028-16\")>,\n",
       " <selenium.webdriver.remote.webelement.WebElement (session=\"6056b633ac03ab3eb9f771e80841908f\", element=\"0.6748526091890028-17\")>,\n",
       " <selenium.webdriver.remote.webelement.WebElement (session=\"6056b633ac03ab3eb9f771e80841908f\", element=\"0.6748526091890028-18\")>,\n",
       " <selenium.webdriver.remote.webelement.WebElement (session=\"6056b633ac03ab3eb9f771e80841908f\", element=\"0.6748526091890028-19\")>,\n",
       " <selenium.webdriver.remote.webelement.WebElement (session=\"6056b633ac03ab3eb9f771e80841908f\", element=\"0.6748526091890028-20\")>,\n",
       " <selenium.webdriver.remote.webelement.WebElement (session=\"6056b633ac03ab3eb9f771e80841908f\", element=\"0.6748526091890028-21\")>,\n",
       " <selenium.webdriver.remote.webelement.WebElement (session=\"6056b633ac03ab3eb9f771e80841908f\", element=\"0.6748526091890028-22\")>,\n",
       " <selenium.webdriver.remote.webelement.WebElement (session=\"6056b633ac03ab3eb9f771e80841908f\", element=\"0.6748526091890028-23\")>,\n",
       " <selenium.webdriver.remote.webelement.WebElement (session=\"6056b633ac03ab3eb9f771e80841908f\", element=\"0.6748526091890028-24\")>]"
      ]
     },
     "execution_count": 25,
     "metadata": {},
     "output_type": "execute_result"
    }
   ],
   "source": [
    "data1=driver.find_elements_by_css_selector('div.views-field.views-field-title')\n",
    "data1"
   ]
  },
  {
   "cell_type": "code",
   "execution_count": 5,
   "metadata": {},
   "outputs": [
    {
     "data": {
      "text/plain": [
       "24"
      ]
     },
     "execution_count": 5,
     "metadata": {},
     "output_type": "execute_result"
    }
   ],
   "source": [
    "len(data1)"
   ]
  },
  {
   "cell_type": "code",
   "execution_count": 14,
   "metadata": {},
   "outputs": [
    {
     "data": {
      "text/plain": [
       "'Leadership and Social Transformation'"
      ]
     },
     "execution_count": 14,
     "metadata": {},
     "output_type": "execute_result"
    }
   ],
   "source": [
    "data1[0].find_element_by_tag_name('a').text"
   ]
  },
  {
   "cell_type": "code",
   "execution_count": 12,
   "metadata": {},
   "outputs": [
    {
     "data": {
      "text/plain": [
       "'https://wagner.nyu.edu/education/courses/leadership-and-social-transformation'"
      ]
     },
     "execution_count": 12,
     "metadata": {},
     "output_type": "execute_result"
    }
   ],
   "source": [
    "data1[0].find_element_by_tag_name('a').get_attribute('href')"
   ]
  },
  {
   "cell_type": "markdown",
   "metadata": {},
   "source": [
    "# Full Code"
   ]
  },
  {
   "cell_type": "code",
   "execution_count": 29,
   "metadata": {},
   "outputs": [
    {
     "name": "stdout",
     "output_type": "stream",
     "text": [
      "Topics in Health: Policy, Politics, and Power https://wagner.nyu.edu/education/courses/topics-health-policy-politics-and-power New_York_University\n",
      "Public Policy and the Arts https://wagner.nyu.edu/education/courses/public-policy-and-arts New_York_University\n",
      "Introduction to Social Impact https://wagner.nyu.edu/education/courses/introduction-social-impact New_York_University\n",
      "Fundamentals of Social Entrepreneurship https://wagner.nyu.edu/education/courses/fundamentals-social-entrepreneurship New_York_University\n",
      "Philanthropy and Social Change https://wagner.nyu.edu/education/courses/philanthropy-and-social-change New_York_University\n",
      "The Politics of New York https://wagner.nyu.edu/education/courses/politics-new-york New_York_University\n",
      "The Business of Nonprofit Management https://wagner.nyu.edu/education/courses/business-nonprofit-management New_York_University\n",
      "Doctoral Research Colloquium II https://wagner.nyu.edu/education/courses/doctoral-research-colloquium-ii New_York_University\n",
      "Doctoral Research Colloquium I https://wagner.nyu.edu/education/courses/doctoral-research-colloquium-i New_York_University\n",
      "Doctoral Seminar in Management: Understanding Organizations https://wagner.nyu.edu/education/courses/doctoral-seminar-management-understanding-organizations New_York_University\n",
      "Seminar in Research in Progress https://wagner.nyu.edu/education/courses/seminar-research-progress New_York_University\n",
      "Doctoral Seminar in Public Policy Analysis https://wagner.nyu.edu/education/courses/doctoral-seminar-public-policy-analysis New_York_University\n",
      "Qualitative Research Methods https://wagner.nyu.edu/education/courses/qualitative-research-methods New_York_University\n",
      "Research Methods https://wagner.nyu.edu/education/courses/research-methods New_York_University\n",
      "Digital Innovation Lab https://wagner.nyu.edu/education/courses/digital-innovation-lab New_York_University\n",
      "Advanced Empirical Methods for Policy Analysis https://wagner.nyu.edu/education/courses/advanced-empirical-methods-for-policy-analysis New_York_University\n",
      "Operations Management for Public, Nonprofit, and Health Contexts https://wagner.nyu.edu/education/courses/operations-management-for-public-nonprofit-and-health-contexts New_York_University\n",
      "Data-Driven Performance https://wagner.nyu.edu/education/courses/data-driven-performance New_York_University\n",
      "Development Assistance, Accountability and Aid Effectiveness https://wagner.nyu.edu/education/courses/development-assistance-accountability-and-aid-effectiveness New_York_University\n",
      "Multi-Sector Partnerships: A Comparative Perspective https://wagner.nyu.edu/education/courses/multi-sector-partnerships-comparative-perspective New_York_University\n",
      "The Legal Context for Policy and Public Management https://wagner.nyu.edu/education/courses/legal-context-for-policy-and-public-management New_York_University\n",
      "Advocacy Lab: How to Make Change Happen https://wagner.nyu.edu/education/courses/advocacy-lab-how-make-change-happen New_York_University\n",
      "Hunger and Food Security in a Global Perspective (meets in New York only) https://wagner.nyu.edu/education/courses/hunger-and-food-security-global-perspective-meets-new-york-only New_York_University\n",
      "Race, Crime, and Incarceration Policy in the United States https://wagner.nyu.edu/education/courses/race-crime-and-incarceration-policy-united-states New_York_University\n",
      "Leadership and Social Transformation https://wagner.nyu.edu/education/courses/leadership-and-social-transformation New_York_University\n",
      "Hunger and Food Security in a Global Perspective (Accra, Ghana) https://wagner.nyu.edu/education/courses/hunger-and-food-security-global-perspective-accra-ghana New_York_University\n",
      "Strategic Philanthropy https://wagner.nyu.edu/education/courses/strategic-philanthropy New_York_University\n",
      "Advocating for International Human Rights: Strategies and Theories of Change https://wagner.nyu.edu/education/courses/advocating-for-international-human-rights-strategies-and-theories-change New_York_University\n",
      "The Arts and Artist in Urban Revitalization https://wagner.nyu.edu/education/courses/arts-and-artist-urban-revitalization New_York_University\n",
      "Institutions, Governance, and International Development https://wagner.nyu.edu/education/courses/institutions-governance-and-international-development New_York_University\n",
      "Macroeconomics, Global Markets, and Policy https://wagner.nyu.edu/education/courses/macroeconomics-global-markets-and-policy New_York_University\n",
      "Cross-Cultural Negotiation and Conflict Management in Multicultural Teams https://wagner.nyu.edu/education/courses/cross-cultural-negotiation-and-conflict-management-multicultural-teams New_York_University\n",
      "Program Development and Management for International Organizations https://wagner.nyu.edu/education/courses/program-development-and-management-for-international-organizations New_York_University\n",
      "Design Thinking: A Creative Approach to Problem Solving and Creating Impact https://wagner.nyu.edu/education/courses/design-thinking-creative-approach-problem-solving-and-creating-impact New_York_University\n",
      "Government Budgeting https://wagner.nyu.edu/education/courses/government-budgeting New_York_University\n",
      "Politics of International Development https://wagner.nyu.edu/education/courses/politics-international-development New_York_University\n",
      "Advanced Negotiation and Mediation Skills for Managers https://wagner.nyu.edu/education/courses/advanced-negotiation-and-mediation-skills-for-managers New_York_University\n",
      "Nonprofit Governance https://wagner.nyu.edu/education/courses/nonprofit-governance New_York_University\n",
      "Fundamentals of Fundraising https://wagner.nyu.edu/education/courses/fundamentals-fundraising New_York_University\n",
      "Participatory Policymaking https://wagner.nyu.edu/education/courses/participatory-policymaking New_York_University\n",
      "Surveys and Interviews https://wagner.nyu.edu/education/courses/surveys-and-interviews New_York_University\n",
      "Building Effective Teams https://wagner.nyu.edu/education/courses/building-effective-teams New_York_University\n",
      "Project Management https://wagner.nyu.edu/education/courses/project-management New_York_University\n",
      "Women and Men in the Workplace https://wagner.nyu.edu/education/courses/women-and-men-workplace New_York_University\n",
      "Taub Seminar: Sustaining Minority Communities - The Jewish Community of 2020 https://wagner.nyu.edu/education/courses/taub-seminar-sustaining-minority-communities-jewish-community-2020 New_York_University\n",
      "Poverty, Inequality, and Policy https://wagner.nyu.edu/education/courses/poverty-inequality-and-policy New_York_University\n",
      "Policy Formation and Policy Analysis https://wagner.nyu.edu/education/courses/policy-formation-and-policy-analysis New_York_University\n",
      "International Economic Development: Governments, Markets, and Communities https://wagner.nyu.edu/education/courses/international-economic-development-governments-markets-and-communities New_York_University\n",
      "Financing Local Government in Developing Countries https://wagner.nyu.edu/education/courses/financing-local-government-developing-countries New_York_University\n",
      "Human Resources: Leading Talent Development https://wagner.nyu.edu/education/courses/human-resources-leading-talent-development New_York_University\n",
      "Foundations of Nonprofit Management https://wagner.nyu.edu/education/courses/foundations-nonprofit-management New_York_University\n",
      "Developing Management and Leadership Skills https://wagner.nyu.edu/education/courses/developing-management-and-leadership-skills New_York_University\n",
      "Strategic Management and Leadership https://wagner.nyu.edu/education/courses/strategic-management-and-leadership New_York_University\n",
      "Community Organizing https://wagner.nyu.edu/education/courses/community-organizing New_York_University\n",
      "Reflective Practice: Learning from Work https://wagner.nyu.edu/education/courses/reflective-practice-learning-work New_York_University\n",
      "Composing Your Career https://wagner.nyu.edu/education/courses/composing-your-career New_York_University\n",
      "Time Management for Setting Goals https://wagner.nyu.edu/education/courses/time-management-for-setting-goals New_York_University\n",
      "Citation and Research Methods https://wagner.nyu.edu/education/courses/citation-and-research-methods New_York_University\n"
     ]
    },
    {
     "name": "stdout",
     "output_type": "stream",
     "text": [
      "Professional Writing https://wagner.nyu.edu/education/courses/professional-writing New_York_University\n",
      "Math Review Session https://wagner.nyu.edu/education/courses/math-review-session New_York_University\n",
      "Excel Computer Module https://wagner.nyu.edu/education/courses/excel-computer-module New_York_University\n",
      "Independent Reading https://wagner.nyu.edu/education/courses/independent-reading New_York_University\n",
      "Health Economics: Principles https://wagner.nyu.edu/education/courses/health-economics-principles New_York_University\n",
      "Principles of Human Resources Management for Healthcare Organizations https://wagner.nyu.edu/education/courses/principles-human-resources-management-for-healthcare-organizations New_York_University\n",
      "The Business of Healthcare https://wagner.nyu.edu/education/courses/business-healthcare New_York_University\n",
      "International Health Policy and Prospects (Geneva, Switzerland) https://wagner.nyu.edu/education/courses/international-health-policy-and-prospects-geneva-switzerland New_York_University\n",
      "Health Systems and Reform: Comparative International Perspectives https://wagner.nyu.edu/education/courses/health-systems-and-reform-comparative-international-perspectives New_York_University\n",
      "Comparative Analysis of Health Systems https://wagner.nyu.edu/education/courses/comparative-analysis-health-systems New_York_University\n",
      "Advanced Health Care Payment Systems https://wagner.nyu.edu/education/courses/advanced-health-care-payment-systems New_York_University\n",
      "Healthcare Information Technology: Public Policy and Management https://wagner.nyu.edu/education/courses/healthcare-information-technology-public-policy-and-management New_York_University\n",
      "Global Health Governance and Management https://wagner.nyu.edu/education/courses/global-health-governance-and-management New_York_University\n",
      "Microeconomics for Public Management, Planning, and Policy Analysis https://wagner.nyu.edu/education/courses/microeconomics-for-public-management-planning-and-policy-analysis New_York_University\n",
      "Statistical Methods for Public, Nonprofit, and Health Management https://wagner.nyu.edu/education/courses/statistical-methods-for-public-nonprofit-and-health-management New_York_University\n",
      "Capstone: Advanced Projects for Healthcare Leaders II https://wagner.nyu.edu/education/courses/capstone-advanced-projects-for-healthcare-leaders-ii New_York_University\n",
      "Capstone: Advanced Projects for Healthcare Leaders I https://wagner.nyu.edu/education/courses/capstone-advanced-projects-for-healthcare-leaders-i New_York_University\n",
      "Capstone: Advanced Research Projects in Quantitative Analysis II https://wagner.nyu.edu/education/courses/capstone-advanced-research-projects-quantitative-analysis-ii New_York_University\n",
      "Capstone: Advanced Research Projects in Quantitative Analysis I https://wagner.nyu.edu/education/courses/capstone-advanced-research-projects-quantitative-analysis-i New_York_University\n",
      "Management and Leadership https://wagner.nyu.edu/education/courses/management-and-leadership New_York_University\n",
      "The Meaning of Leadership https://wagner.nyu.edu/education/courses/meaning-leadership New_York_University\n",
      "Sustainable Urban Development https://wagner.nyu.edu/education/courses/sustainable-urban-development New_York_University\n",
      "The Politics of Public Policy https://wagner.nyu.edu/education/courses/politics-public-policy New_York_University\n",
      "Racial Inequality and Public Policy in the American City https://wagner.nyu.edu/education/courses/racial-inequality-and-public-policy-american-city New_York_University\n",
      "Introduction to Managing Public Service Organizations https://wagner.nyu.edu/education/courses/introduction-managing-public-service-organizations New_York_University\n",
      "Identity, Diversity, and Public Policy https://wagner.nyu.edu/education/courses/identity-diversity-and-public-policy New_York_University\n",
      "How to Change the World: Advocacy Movements and Social Innovation https://wagner.nyu.edu/education/courses/how-change-world-advocacy-movements-and-social-innovation New_York_University\n",
      "Leadership: Women and Public Policy https://wagner.nyu.edu/education/courses/leadership-women-and-public-policy New_York_University\n",
      "LGBTQ Issues in Public Policy https://wagner.nyu.edu/education/courses/lgbtq-issues-public-policy New_York_University\n",
      "Intelligence and National Security Policymaking https://wagner.nyu.edu/education/courses/intelligence-and-national-security-policymaking New_York_University\n",
      "Legal and Ethical Approaches to Islam https://wagner.nyu.edu/education/courses/legal-and-ethical-approaches-islam-0 New_York_University\n",
      "Social Entrepreneurship Incubator & Practicum https://wagner.nyu.edu/education/courses/social-entrepreneurship-incubator-practicum New_York_University\n",
      "Legal and Ethical Approaches to Islam https://wagner.nyu.edu/education/courses/legal-and-ethical-approaches-islam New_York_University\n",
      "Contemporary Approaches to Islamic Law https://wagner.nyu.edu/education/courses/contemporary-approaches-islamic-law New_York_University\n",
      "Multi-Faith Leadership in the 21st Century https://wagner.nyu.edu/education/courses/multi-faith-leadership-21st-century New_York_University\n",
      "Contemporary Approaches to Jewish Law https://wagner.nyu.edu/education/courses/contemporary-approaches-jewish-law New_York_University\n",
      "Urban Planning: Methods and Practice https://wagner.nyu.edu/education/courses/urban-planning-methods-and-practice New_York_University\n",
      "Public Policy and Planning in New York https://wagner.nyu.edu/education/courses/public-policy-and-planning-new-york New_York_University\n",
      "Spatial Analysis and Visualization https://wagner.nyu.edu/education/courses/spatial-analysis-and-visualization New_York_University\n",
      "Urban Economics https://wagner.nyu.edu/education/courses/urban-economics New_York_University\n",
      "Real Estate Finance https://wagner.nyu.edu/education/courses/real-estate-finance New_York_University\n",
      "Urban Transportation Planning https://wagner.nyu.edu/education/courses/urban-transportation-planning New_York_University\n",
      "History and Theory of Planning https://wagner.nyu.edu/education/courses/history-and-theory-planning New_York_University\n",
      "Land Use, Housing and Community Development Seminar https://wagner.nyu.edu/education/courses/land-use-housing-and-community-development-seminar New_York_University\n",
      "Transforming Cities: Public-Private Partnerships, Public Spaces, Politics & the Press https://wagner.nyu.edu/education/courses/transforming-cities-public-private-partnerships-public-spaces-politics-press New_York_University\n",
      "International Development Project Planning https://wagner.nyu.edu/education/courses/international-development-project-planning New_York_University\n",
      "Sustainable Cities in a Comparative Perspective https://wagner.nyu.edu/education/courses/sustainable-cities-comparative-perspective New_York_University\n",
      "Urbanization and Sustainable Development in a Transitional Economy: Experiencing China (Shanghai, China) https://wagner.nyu.edu/education/courses/urbanization-and-sustainable-development-transitional-economy-experiencing-china New_York_University\n",
      "Transportation, Land Use, and Urban Form https://wagner.nyu.edu/education/courses/transportation-land-use-and-urban-form New_York_University\n",
      "Wealth and Inequality: Asset Development and Poverty Reduction Policies in the U.S. https://wagner.nyu.edu/education/courses/wealth-and-inequality-asset-development-and-poverty-reduction-policies-us New_York_University\n",
      "Planning Healthy Neighborhoods https://wagner.nyu.edu/education/courses/planning-healthy-neighborhoods New_York_University\n",
      "Capstone: Independent Research https://wagner.nyu.edu/education/courses/capstone-independent-research New_York_University\n",
      "NGO Accountability https://wagner.nyu.edu/education/courses/ngo-accountability New_York_University\n",
      "Nonprofit Sector Analysis and Evolution: The LGBT Case https://wagner.nyu.edu/education/courses/nonprofit-sector-analysis-and-evolution-lgbt-case New_York_University\n",
      "Healthcare Law and Ethics https://wagner.nyu.edu/education/courses/healthcare-law-and-ethics New_York_University\n",
      "Comparative Land Use Planning https://wagner.nyu.edu/education/courses/comparative-land-use-planning New_York_University\n",
      "Urban Innovations in Latin America https://wagner.nyu.edu/education/courses/urban-innovations-latin-america New_York_University\n"
     ]
    },
    {
     "name": "stdout",
     "output_type": "stream",
     "text": [
      "Education and Social Policy https://wagner.nyu.edu/education/courses/education-and-social-policy New_York_University\n",
      "Race and Class in American Cities https://wagner.nyu.edu/education/courses/race-and-class-american-cities New_York_University\n",
      "Capstone: Advanced Projects for Global Policy Leaders I https://wagner.nyu.edu/education/courses/capstone-advanced-projects-for-global-policy-leaders-i New_York_University\n",
      "Quantitative Analysis for Public Policy https://wagner.nyu.edu/education/courses/quantitative-analysis-for-public-policy New_York_University\n",
      "The Economics of Public Policy https://wagner.nyu.edu/education/courses/economics-public-policy New_York_University\n",
      "Public Policy and Obesity Research https://wagner.nyu.edu/education/courses/public-policy-and-obesity-research New_York_University\n",
      "Multi-Faith Leadership in the 21st Century https://wagner.nyu.edu/education/courses/multi-faith-leadership-21st-century-0 New_York_University\n",
      "Contemporary Approaches to Jewish Law https://wagner.nyu.edu/education/courses/contemporary-approaches-jewish-law-0 New_York_University\n",
      "Capstone: Advanced Projects in Policy, Management, Finance, and Advocacy I https://wagner.nyu.edu/education/courses/capstone-advanced-projects-policy-management-finance-and-advocacy-i New_York_University\n",
      "Capstone: Advanced Projects in Policy, Management, Finance, and Advocacy II https://wagner.nyu.edu/education/courses/capstone-advanced-projects-policy-management-finance-and-advocacy-ii New_York_University\n",
      "Capstone: Advanced Projects in Health Finance, Management, and Policy I https://wagner.nyu.edu/education/courses/capstone-advanced-projects-health-finance-management-and-policy-i New_York_University\n",
      "Capstone: Advanced Projects in Health Finance, Management, and Policy II https://wagner.nyu.edu/education/courses/capstone-advanced-projects-health-finance-management-and-policy-ii New_York_University\n",
      "Corporate Philanthropy and Engagement https://wagner.nyu.edu/education/courses/corporate-philanthropy-and-engagement New_York_University\n",
      "Responsible Governance https://wagner.nyu.edu/education/courses/responsible-governance New_York_University\n",
      "Urban Innovation: New Ideas in Policy Management & Planning https://wagner.nyu.edu/education/courses/urban-innovation-new-ideas-policy-management-planning New_York_University\n",
      "Identity, Policy and Politics https://wagner.nyu.edu/education/courses/identity-policy-and-politics New_York_University\n",
      "LGBTQ Issues in Public Policy https://wagner.nyu.edu/education/courses/lgbtq-issues-public-policy-0 New_York_University\n",
      "Managing Humanitarian Challenges: Delivery and Logistics https://wagner.nyu.edu/education/courses/managing-humanitarian-challenges-delivery-and-logistics New_York_University\n",
      "Public Policy and Obesity Research https://wagner.nyu.edu/education/courses/public-policy-and-obesity-research-0 New_York_University\n",
      "Contracts: What the Non-Lawyer Should Know https://wagner.nyu.edu/education/courses/contracts-what-non-lawyer-should-know New_York_University\n",
      "Online Engagement: Making Your Nonprofit Matter in the Digital Space https://wagner.nyu.edu/education/courses/online-engagement-making-your-nonprofit-matter-digital-space New_York_University\n",
      "Marketing for Nonprofit Organizations https://wagner.nyu.edu/education/courses/marketing-nonprofit-organizations New_York_University\n",
      "Conflict Management and Negotiation (EMPA) https://wagner.nyu.edu/education/courses/conflict-management-and-negotiation-empa New_York_University\n",
      "Communications and Branding for Nonprofits (EMPA) https://wagner.nyu.edu/education/courses/communications-and-branding-for-nonprofits-empa New_York_University\n",
      "The Politics of Islam https://wagner.nyu.edu/education/courses/politics-islam New_York_University\n",
      "American Presidential Campaigns https://wagner.nyu.edu/education/courses/american-presidential-campaigns New_York_University\n",
      "Normative Issues in Public Policy https://wagner.nyu.edu/education/courses/normative-issues-public-policy New_York_University\n",
      "Race, Identity, and Inclusion in Organizations (EMPA) https://wagner.nyu.edu/education/courses/race-identity-and-inclusion-organizations-empa New_York_University\n",
      "Strategic Philanthropy (EMPA) https://wagner.nyu.edu/education/courses/strategic-philanthropy-empa New_York_University\n",
      "Multi-Sector Partnerships (EMPA) https://wagner.nyu.edu/education/courses/multi-sector-partnerships-empa New_York_University\n",
      "Political Participation and Policy https://wagner.nyu.edu/education/courses/political-participation-and-policy New_York_University\n",
      "Advanced GIS: Interactive Web Mapping and Spatial Data Visualization https://wagner.nyu.edu/education/courses/advanced-gis-interactive-web-mapping-and-spatial-data-visualization New_York_University\n",
      "Advanced GIS: Topics in Spatial Analysis https://wagner.nyu.edu/education/courses/advanced-gis-topics-spatial-analysis New_York_University\n",
      "Building Effective Teams (EMPA) https://wagner.nyu.edu/education/courses/building-effective-teams-empa New_York_University\n",
      "Corporate Social Responsibility: Social Finance Partnerships and Models https://wagner.nyu.edu/education/courses/corporate-social-responsibility-social-finance-partnerships-and-models New_York_University\n",
      "Terrorism and Counterterrorism Policy https://wagner.nyu.edu/education/courses/terrorism-and-counterterrorism-policy New_York_University\n",
      "Organizing for Success in a Value-Based Payment World https://wagner.nyu.edu/education/courses/organizing-for-success-value-based-payment-world New_York_University\n",
      "The Making of a Healthcare Entrepreneur https://wagner.nyu.edu/education/courses/making-healthcare-entrepreneur New_York_University\n",
      "Behavioral Economics and Public Policy Design https://wagner.nyu.edu/education/courses/behavioral-economics-and-public-policy-design New_York_University\n",
      "Immigration Politics and Policy -- Past and Present https://wagner.nyu.edu/education/courses/immigration-politics-and-policy-past-and-present New_York_University\n",
      "Large Scale Data Analysis II https://wagner.nyu.edu/education/courses/large-scale-data-analysis-ii New_York_University\n",
      "Data for Social Innovation https://wagner.nyu.edu/education/courses/data-for-social-innovation New_York_University\n",
      "Markets, Design and the City https://wagner.nyu.edu/education/courses/markets-design-and-city New_York_University\n",
      "Large Scale Data Analysis I https://wagner.nyu.edu/education/courses/large-scale-data-analysis-i New_York_University\n",
      "Risk Management: Nonprofit Leadership in a High Stakes Environment (EMPA) https://wagner.nyu.edu/education/courses/risk-management-nonprofit-leadership-high-stakes-environment-empa New_York_University\n",
      "Risk Management: Nonprofit Leadership in a High Stakes Environment https://wagner.nyu.edu/education/courses/risk-management-nonprofit-leadership-high-stakes-environment New_York_University\n",
      "Leading Change in Healthcare Organizations: Practical Strategies https://wagner.nyu.edu/education/courses/leading-change-healthcare-organizations-practical-strategies New_York_University\n",
      "Fundamentals of Fundraising (EMPA) https://wagner.nyu.edu/education/courses/fundamentals-fundraising-empa New_York_University\n",
      "Excel Computer Module II https://wagner.nyu.edu/education/courses/excel-computer-module-ii New_York_University\n",
      "Public Space and Urban Identity: Theory, Policy, Politics, and Design https://wagner.nyu.edu/education/courses/public-space-and-urban-identity-theory-policy-politics-and-design New_York_University\n",
      "Segregation and Public Policy https://wagner.nyu.edu/education/courses/segregation-and-public-policy New_York_University\n",
      "Transformative Participation for Democratic Practice https://wagner.nyu.edu/education/courses/transformative-participation-for-democratic-practice New_York_University\n",
      "Communicating Public Policy in the Digital Era https://wagner.nyu.edu/education/courses/communicating-public-policy-digital-era New_York_University\n",
      "Community Organizing (EMPA) https://wagner.nyu.edu/education/courses/community-organizing-empa New_York_University\n",
      "Capstone: Advanced Lab in Social Innovation I https://wagner.nyu.edu/education/courses/capstone-advanced-lab-social-innovation-i New_York_University\n",
      "Capstone: Advanced Lab in Social Innovation II https://wagner.nyu.edu/education/courses/capstone-advanced-lab-social-innovation-ii New_York_University\n",
      "Human Resources: Leading Talent Development (EMPA) https://wagner.nyu.edu/education/courses/human-resources-leading-talent-development-1 New_York_University\n",
      "Designing Data Collection for Program Evaluation, Policy, and Management https://wagner.nyu.edu/education/courses/designing-data-collection-for-program-evaluation-policy-and-management New_York_University\n"
     ]
    },
    {
     "name": "stdout",
     "output_type": "stream",
     "text": [
      "Using Large Data Sets in Policy Research https://wagner.nyu.edu/education/courses/using-large-data-sets-policy-research New_York_University\n",
      "Introduction to Database Design, Management, and Security https://wagner.nyu.edu/education/courses/introduction-database-design-management-and-security New_York_University\n",
      "Big Data Analytics for Public Policy https://wagner.nyu.edu/education/courses/big-data-analytics-for-public-policy New_York_University\n",
      "Geographic Information Systems https://wagner.nyu.edu/education/courses/geographic-information-systems New_York_University\n",
      "Science, Technology, and Innovation Policy https://wagner.nyu.edu/education/courses/science-technology-and-innovation-policy New_York_University\n",
      "Constructing National Development Strategies https://wagner.nyu.edu/education/courses/constructing-national-development-strategies New_York_University\n",
      "The Realities of Managing Complex Health Systems https://wagner.nyu.edu/education/courses/realities-managing-complex-health-systems New_York_University\n",
      "Current Debates in US National Food Politics/Policy https://wagner.nyu.edu/education/courses/current-debates-us-national-food-politicspolicy New_York_University\n",
      "Leading Values-Based Culture in Nonprofit Organizations https://wagner.nyu.edu/education/courses/leading-values-based-culture-nonprofit-organizations New_York_University\n",
      "Leading Values-Based Culture in Nonprofit Organizations (EMPA) https://wagner.nyu.edu/education/courses/leading-values-based-culture-nonprofit-organizations-empa New_York_University\n",
      "Financing Urban Government https://wagner.nyu.edu/education/courses/financing-urban-government-0 New_York_University\n",
      "What Really Matters? Leadership with No Regrets https://wagner.nyu.edu/education/courses/what-really-matters-leadership-no-regrets New_York_University\n",
      "Elections in Action https://wagner.nyu.edu/education/courses/elections-action New_York_University\n",
      "Gender, Race, and Reproductive Justice in the U.S. https://wagner.nyu.edu/education/courses/gender-race-and-reproductive-justice-us New_York_University\n",
      "Communication Skills for Public Service https://wagner.nyu.edu/education/courses/communication-skills-for-public-service New_York_University\n",
      "Managing for Environmental Sustainability https://wagner.nyu.edu/education/courses/managing-for-environmental-sustainability New_York_University\n",
      "Managed Care: Impact on Healthcare Decision Making https://wagner.nyu.edu/education/courses/managed-care-impact-healthcare-decision-making New_York_University\n",
      "R Coding for Public Policy https://wagner.nyu.edu/education/courses/r-coding-for-public-policy New_York_University\n",
      "Python Coding for Public Policy https://wagner.nyu.edu/education/courses/python-coding-for-public-policy New_York_University\n",
      "US Climate Policy, Politics, and Change https://wagner.nyu.edu/education/courses/us-climate-policy-politics-and-change New_York_University\n",
      "Public Policy in an Era of Disruption https://wagner.nyu.edu/education/courses/public-policy-era-disruption New_York_University\n",
      "The Intersection of Operations, Policy, and Leadership (EMPA) https://wagner.nyu.edu/education/courses/intersection-operations-policy-and-leadership-empa New_York_University\n",
      "Environmental Economics https://wagner.nyu.edu/education/courses/environmental-economics New_York_University\n",
      "Urban Research Seminar https://wagner.nyu.edu/education/courses/urban-research-seminar New_York_University\n",
      "Management Consulting for Public Service Organizations https://wagner.nyu.edu/education/courses/management-consulting-for-public-service-organizations New_York_University\n",
      "Urban Plan Practicum https://wagner.nyu.edu/education/courses/urban-plan-practicum New_York_University\n",
      "The Practice of Adaptive Leadership https://wagner.nyu.edu/education/courses/practice-adaptive-leadership New_York_University\n",
      "Strategic Communications for Advocacy https://wagner.nyu.edu/education/courses/strategic-communications-for-advocacy New_York_University\n",
      "Project Management https://wagner.nyu.edu/education/courses/project-management-1 New_York_University\n",
      "Poverty, Inequality, and Policy (EMPA) https://wagner.nyu.edu/education/courses/poverty-inequality-and-policy-empa New_York_University\n",
      "Design Thinking in Urban Planning Workshop https://wagner.nyu.edu/education/courses/design-thinking-urban-planning-workshop New_York_University\n",
      "Topics in Urban Design https://wagner.nyu.edu/education/courses/topics-urban-design New_York_University\n",
      "Transportation Policy and Behavior https://wagner.nyu.edu/education/courses/transportation-policy-and-behavior-0 New_York_University\n",
      "Introduction to Structured Finance: Strategies for Municipal, Health and Corporate Finance https://wagner.nyu.edu/education/courses/introduction-structured-finance-strategies-for-municipal-health-and-corporate New_York_University\n",
      "Corporate Finance and Public Policy https://wagner.nyu.edu/education/courses/corporate-finance-and-public-policy New_York_University\n",
      "Environmental Finance and Social Impact https://wagner.nyu.edu/education/courses/environmental-finance-and-social-impact New_York_University\n",
      "NYU Impact Investment Fund I https://wagner.nyu.edu/education/courses/nyu-impact-investment-fund-i New_York_University\n",
      "NYU Impact Investment Fund II https://wagner.nyu.edu/education/courses/nyu-impact-investment-fund-ii New_York_University\n",
      "Financial Management for Health Care Orgs - I: Financial Management and Budgeting https://wagner.nyu.edu/education/courses/financial-management-for-health-care-orgs-i-financial-management-and-budgeting New_York_University\n",
      "Financial Management for Health Care Orgs - II: Capital Financing and Advanced Issues https://wagner.nyu.edu/education/courses/financial-management-for-health-care-orgs-ii-capital-financing-and-advanced New_York_University\n",
      "Debt Financing and Management for Public Organizations https://wagner.nyu.edu/education/courses/debt-financing-and-management-for-public-organizations New_York_University\n",
      "Topics in Municipal Finance https://wagner.nyu.edu/education/courses/topics-municipal-finance New_York_University\n",
      "Introduction to Data Analytics for Public Policy, Administration, and Management https://wagner.nyu.edu/education/courses/introduction-data-analytics-for-public-policy-administration-and-management New_York_University\n",
      "Leveraging Nonprofit Leadership for Organizational Success https://wagner.nyu.edu/education/courses/leveraging-nonprofit-leadership-for-organizational-success New_York_University\n",
      "Topics in Urban Studies: City Leadership https://wagner.nyu.edu/education/courses/topics-urban-studies-city-leadership New_York_University\n",
      "Introduction to Health Policy and Management https://wagner.nyu.edu/education/courses/introduction-health-policy-and-management New_York_University\n",
      "Estimating Impacts in Policy Research https://wagner.nyu.edu/education/courses/estimating-impacts-policy-research New_York_University\n",
      "Multiple Regression and Introduction to Econometrics https://wagner.nyu.edu/education/courses/multiple-regression-and-introduction-econometrics New_York_University\n",
      "Topics in Housing and Community Development https://wagner.nyu.edu/education/courses/topics-housing-and-community-development New_York_University\n",
      "The Economics of Education: Policy and Finance https://wagner.nyu.edu/education/courses/economics-education-policy-and-finance New_York_University\n",
      "Capstone: Advanced Projects in Urban Planning I https://wagner.nyu.edu/education/courses/capstone-advanced-projects-urban-planning-i New_York_University\n",
      "Capstone: Advanced Projects in Urban Planning II https://wagner.nyu.edu/education/courses/capstone-advanced-projects-urban-planning-ii New_York_University\n",
      "Capstone: Advanced Projects in International Policy and Management I https://wagner.nyu.edu/education/courses/capstone-advanced-projects-international-policy-and-management-i New_York_University\n",
      "Capstone: Advanced Projects in International Policy and Management II https://wagner.nyu.edu/education/courses/capstone-advanced-projects-international-policy-and-management-ii New_York_University\n",
      "Social Impact Investment https://wagner.nyu.edu/education/courses/social-impact-investment New_York_University\n",
      "Health Economics: Topics in Domestic Health Policy https://wagner.nyu.edu/education/courses/health-economics-topics-domestic-health-policy New_York_University\n",
      "Globalization and Global Governance https://wagner.nyu.edu/education/courses/globalization-and-global-governance New_York_University\n"
     ]
    },
    {
     "name": "stdout",
     "output_type": "stream",
     "text": [
      "Leading on Disability in Public Service https://wagner.nyu.edu/education/courses/leading-disability-public-service New_York_University\n",
      "Policy Advocacy Evaluation: Designing Rigorous and Useful Evaluations https://wagner.nyu.edu/education/courses/policy-advocacy-evaluation-designing-rigorous-and-useful-evaluations New_York_University\n",
      "Environmental Infrastructure for Sustainable Cities https://wagner.nyu.edu/education/courses/environmental-infrastructure-for-sustainable-cities New_York_University\n",
      "EMPA Seminar: Strategic Leadership for Public Service Organizations https://wagner.nyu.edu/education/courses/empa-seminar-strategic-leadership-for-public-service-organizations New_York_University\n",
      "EMPA Seminar: Leadership Confronted https://wagner.nyu.edu/education/courses/empa-seminar-leadership-confronted New_York_University\n",
      "Financial Decision Making and Management https://wagner.nyu.edu/education/courses/financial-decision-making-and-management New_York_University\n",
      "Global Public Policy Analysis https://wagner.nyu.edu/education/courses/global-public-policy-analysis New_York_University\n",
      "Institutions, Governance, and Public Sector Reform https://wagner.nyu.edu/education/courses/institutions-governance-and-public-sector-reform New_York_University\n",
      "Introduction to Health Policy and Management for Nurse Leaders https://wagner.nyu.edu/education/courses/introduction-health-policy-and-management-for-nurse-leaders New_York_University\n",
      "Continuous Quality Improvement for Healthcare Leaders https://wagner.nyu.edu/education/courses/continuous-quality-improvement-for-healthcare-leaders New_York_University\n",
      "Financial Management for Public, Nonprofit, and Health Organizations https://wagner.nyu.edu/education/courses/financial-management-for-public-nonprofit-and-health-organizations New_York_University\n",
      "Health Services Management https://wagner.nyu.edu/education/courses/health-services-management New_York_University\n",
      "Methods and Microeconomics Intensive https://wagner.nyu.edu/education/courses/methods-and-microeconomics-intensive New_York_University\n",
      "Introduction to Public Policy https://wagner.nyu.edu/education/courses/introduction-public-policy New_York_University\n",
      "Quantitative Methods for Policy Analysis https://wagner.nyu.edu/education/courses/quantitative-methods-for-policy-analysis New_York_University\n",
      "Communication Skills for Policy Analysts https://wagner.nyu.edu/education/courses/communication-skills-for-policy-analysts New_York_University\n",
      "Public Economics and Finance https://wagner.nyu.edu/education/courses/public-economics-and-finance New_York_University\n",
      "The Practice of Work: Individual, Interpersonal and Organizational Effectiveness https://wagner.nyu.edu/education/courses/practice-work-individual-interpersonal-and-organizational-effectiveness New_York_University\n",
      "Policy Analysis Studio https://wagner.nyu.edu/education/courses/policy-analysis-studio New_York_University\n",
      "Applied Data Analysis https://wagner.nyu.edu/education/courses/applied-data-analysis New_York_University\n",
      "Policy Implementaion https://wagner.nyu.edu/education/courses/policy-implementaion New_York_University\n",
      "Managing Organizational Change https://wagner.nyu.edu/education/courses/managing-organizational-change New_York_University\n",
      "Evidence-Based Decision Making for Management and Policy (EMPA) https://wagner.nyu.edu/education/courses/evidence-based-decision-making-for-management-and-policy-empa New_York_University\n",
      "Evidence-Based Decision Making for Management and Policy https://wagner.nyu.edu/education/courses/evidence-based-decision-making-for-management-and-policy New_York_University\n",
      "Program Analysis and Evaluation https://wagner.nyu.edu/education/courses/program-analysis-and-evaluation New_York_University\n",
      "Financial Management I https://wagner.nyu.edu/education/courses/financial-management-i New_York_University\n",
      "Leading Service Delivery https://wagner.nyu.edu/education/courses/leading-service-delivery New_York_University\n",
      "Law for the Education Policymaker https://wagner.nyu.edu/education/courses/law-for-education-policymaker New_York_University\n",
      "Data Visualization and Storytelling https://wagner.nyu.edu/education/courses/data-visualization-and-storytelling New_York_University\n",
      "Performance Measurement & Management for Public, Nonprofit, & Healthcare Organizations (EMPA) https://wagner.nyu.edu/education/courses/performance-measurement-management-for-public-nonprofit-healthcare-organizations New_York_University\n",
      "Performance Measurement and Management for Public, Nonprofit, and Health Care Organizations https://wagner.nyu.edu/education/courses/performance-measurement-and-management-for-public-nonprofit-and-health-care New_York_University\n",
      "Lean Approaches to Social Innovation https://wagner.nyu.edu/education/courses/lean-approaches-social-innovation New_York_University\n",
      "Conflict Management and Negotiation https://wagner.nyu.edu/education/courses/conflict-management-and-negotiation New_York_University\n",
      "Continuous Quality Improvement https://wagner.nyu.edu/education/courses/continuous-quality-improvement New_York_University\n",
      "Intelligent Cities: Technology Policy and Planning https://wagner.nyu.edu/education/courses/intelligent-cities-technology-policy-and-planning New_York_University\n",
      "Water Sourcing and Climate Change https://wagner.nyu.edu/education/courses/water-sourcing-and-climate-change New_York_University\n",
      "Environmental Planning: Communities, Fairness, and Beyond https://wagner.nyu.edu/education/courses/environmental-planning-communities-fairness-and-beyond New_York_University\n",
      "Current Issues in Health Policy https://wagner.nyu.edu/education/courses/current-issues-health-policy New_York_University\n",
      "Race, Identity, and Inclusion in Organizations https://wagner.nyu.edu/education/courses/race-identity-and-inclusion-organizations-2 New_York_University\n",
      "Race, Identity, and Inclusion in Organizations https://wagner.nyu.edu/education/courses/race-identity-and-inclusion-organizations New_York_University\n",
      "The Intersection of Finance and Social Justice https://wagner.nyu.edu/education/courses/intersection-finance-and-social-justice New_York_University\n",
      "Land Use Law https://wagner.nyu.edu/education/courses/land-use-law New_York_University\n",
      "Decentralized Development Planning and Policy Reform in Developing Countries https://wagner.nyu.edu/education/courses/decentralized-development-planning-and-policy-reform-developing-countries New_York_University\n",
      "Social Entrepreneurship and Innovation by Design https://wagner.nyu.edu/education/courses/social-entrepreneurship-and-innovation-design New_York_University\n",
      "Understanding Social Enterprise https://wagner.nyu.edu/education/courses/understanding-social-enterprise New_York_University\n",
      "Fundamentals of Accounting https://wagner.nyu.edu/education/courses/fundamentals-accounting New_York_University\n",
      "Managing Financial and Social Returns of the Social Enterprise https://wagner.nyu.edu/education/courses/managing-financial-and-social-returns-social-enterprise New_York_University\n",
      "Advanced Financial and Impact Modeling for Nonprofit and Social Enterprises https://wagner.nyu.edu/education/courses/advanced-financial-and-impact-modeling-for-nonprofit-and-social-enterprises New_York_University\n",
      "Public/Private Finance: Emerging Models and New Partnerships https://wagner.nyu.edu/education/courses/publicprivate-finance-emerging-models-and-new-partnerships New_York_University\n",
      "Labor Management Cooperation https://wagner.nyu.edu/education/courses/labor-management-cooperation New_York_University\n",
      "The Intersection of Operations, Policy, and Leadership https://wagner.nyu.edu/education/courses/the-intersection-of-operations-and-policy New_York_University\n",
      "Financial Management for Global Nonprofit Organizations https://wagner.nyu.edu/education/courses/financial-management-for-global-nonprofit-organizations New_York_University\n",
      "Public Management https://wagner.nyu.edu/education/courses/public-management New_York_University\n",
      "Ethical Issues in Healthcare Management https://wagner.nyu.edu/education/courses/ethical-issues-healthcare-management New_York_University\n",
      "Investment Management for Public and Nonprofit Organizations https://wagner.nyu.edu/education/courses/investment-management-for-public-and-nonprofit-organizations New_York_University\n",
      "Urban Research Seminar II https://wagner.nyu.edu/education/courses/urban-research-seminar-ii New_York_University\n",
      "Communications and Branding for Nonprofits https://wagner.nyu.edu/education/courses/communications-and-branding-for-nonprofits New_York_University\n"
     ]
    }
   ],
   "source": [
    "lis=['Course','URL','University']\n",
    "info=[]\n",
    "info.append(lis)\n",
    "\n",
    "from selenium import webdriver\n",
    "import csv\n",
    "\n",
    "chrome_options = webdriver.ChromeOptions()\n",
    "chrome_options.add_argument('--no-sandbox')\n",
    "driver = webdriver.Chrome(\"C:\\\\Users\\MOHAN KUMAR SAH\\Documents\\My Work\\PakkaIndia\\chromedriver\",chrome_options=chrome_options)\n",
    "\n",
    "for i in range(12):\n",
    "    driver.get('https://wagner.nyu.edu/education/courses/search?search_api_fulltext=&field_course_semesters_offered=All&page='+str(i))\n",
    "    data1=driver.find_elements_by_css_selector('div.views-field.views-field-title')\n",
    "    for j in range(len(data1)):\n",
    "        c=data1[j].find_element_by_tag_name('a').text\n",
    "        url=data1[j].find_element_by_tag_name('a').get_attribute('href')\n",
    "        uni=\"New_York_University\"\n",
    "        \n",
    "        info.append([c,url,uni])\n",
    "        print(c,url,uni)"
   ]
  },
  {
   "cell_type": "code",
   "execution_count": 30,
   "metadata": {},
   "outputs": [
    {
     "data": {
      "text/plain": [
       "288"
      ]
     },
     "execution_count": 30,
     "metadata": {},
     "output_type": "execute_result"
    }
   ],
   "source": [
    "len(info)"
   ]
  },
  {
   "cell_type": "code",
   "execution_count": 31,
   "metadata": {},
   "outputs": [],
   "source": [
    "with open('New_York_University.csv','w',encoding=\"utf-8\",newline=\"\") as file:\n",
    "    write=csv.writer(file)\n",
    "    for row in info:\n",
    "        write.writerow(row)"
   ]
  },
  {
   "cell_type": "code",
   "execution_count": null,
   "metadata": {},
   "outputs": [],
   "source": []
  }
 ],
 "metadata": {
  "kernelspec": {
   "display_name": "Python 3",
   "language": "python",
   "name": "python3"
  },
  "language_info": {
   "codemirror_mode": {
    "name": "ipython",
    "version": 3
   },
   "file_extension": ".py",
   "mimetype": "text/x-python",
   "name": "python",
   "nbconvert_exporter": "python",
   "pygments_lexer": "ipython3",
   "version": "3.6.5"
  }
 },
 "nbformat": 4,
 "nbformat_minor": 2
}
