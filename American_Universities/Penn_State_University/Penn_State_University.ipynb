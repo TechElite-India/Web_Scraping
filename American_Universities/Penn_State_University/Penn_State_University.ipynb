{
 "cells": [
  {
   "cell_type": "code",
   "execution_count": 1,
   "metadata": {},
   "outputs": [
    {
     "name": "stderr",
     "output_type": "stream",
     "text": [
      "C:\\ProgramData\\Anaconda3\\lib\\site-packages\\ipykernel_launcher.py:6: DeprecationWarning: use options instead of chrome_options\n",
      "  \n"
     ]
    }
   ],
   "source": [
    "from selenium import webdriver\n",
    "import csv\n",
    "\n",
    "chrome_options = webdriver.ChromeOptions()\n",
    "chrome_options.add_argument('--no-sandbox')\n",
    "driver = webdriver.Chrome(\"C:\\\\Users\\MOHAN KUMAR SAH\\Documents\\My Work\\PakkaIndia\\chromedriver\",chrome_options=chrome_options)"
   ]
  },
  {
   "cell_type": "code",
   "execution_count": 10,
   "metadata": {},
   "outputs": [],
   "source": [
    "driver.get('https://bulletins.psu.edu/undergraduate/colleges/')"
   ]
  },
  {
   "cell_type": "code",
   "execution_count": 11,
   "metadata": {},
   "outputs": [
    {
     "data": {
      "text/plain": [
       "1"
      ]
     },
     "execution_count": 11,
     "metadata": {},
     "output_type": "execute_result"
    }
   ],
   "source": [
    "data1=driver.find_elements_by_id('/undergraduate/colleges/')\n",
    "len(data1)"
   ]
  },
  {
   "cell_type": "code",
   "execution_count": 12,
   "metadata": {},
   "outputs": [
    {
     "data": {
      "text/plain": [
       "20"
      ]
     },
     "execution_count": 12,
     "metadata": {},
     "output_type": "execute_result"
    }
   ],
   "source": [
    "data2=data1[0].find_elements_by_tag_name('a')\n",
    "len(data2)"
   ]
  },
  {
   "cell_type": "code",
   "execution_count": 13,
   "metadata": {},
   "outputs": [
    {
     "data": {
      "text/plain": [
       "'Agricultural Sciences'"
      ]
     },
     "execution_count": 13,
     "metadata": {},
     "output_type": "execute_result"
    }
   ],
   "source": [
    "data2[0].text"
   ]
  },
  {
   "cell_type": "code",
   "execution_count": 14,
   "metadata": {},
   "outputs": [
    {
     "data": {
      "text/plain": [
       "'https://bulletins.psu.edu/undergraduate/colleges/agricultural-sciences/'"
      ]
     },
     "execution_count": 14,
     "metadata": {},
     "output_type": "execute_result"
    }
   ],
   "source": [
    "data2[0].get_attribute('href')"
   ]
  },
  {
   "cell_type": "code",
   "execution_count": 44,
   "metadata": {},
   "outputs": [],
   "source": [
    "driver.get('https://bulletins.psu.edu/undergraduate/colleges/agricultural-sciences/')"
   ]
  },
  {
   "cell_type": "code",
   "execution_count": 45,
   "metadata": {},
   "outputs": [
    {
     "data": {
      "text/plain": [
       "4"
      ]
     },
     "execution_count": 45,
     "metadata": {},
     "output_type": "execute_result"
    }
   ],
   "source": [
    "data3=driver.find_elements_by_css_selector('div.sitemap_visual')\n",
    "len(data3)"
   ]
  },
  {
   "cell_type": "code",
   "execution_count": 46,
   "metadata": {},
   "outputs": [
    {
     "data": {
      "text/plain": [
       "16"
      ]
     },
     "execution_count": 46,
     "metadata": {},
     "output_type": "execute_result"
    }
   ],
   "source": [
    "data4=data3[0].find_elements_by_tag_name('a')\n",
    "len(data4)"
   ]
  },
  {
   "cell_type": "code",
   "execution_count": 50,
   "metadata": {},
   "outputs": [
    {
     "data": {
      "text/plain": [
       "''"
      ]
     },
     "execution_count": 50,
     "metadata": {},
     "output_type": "execute_result"
    }
   ],
   "source": [
    "data4[0].text      #not working"
   ]
  },
  {
   "cell_type": "code",
   "execution_count": 47,
   "metadata": {},
   "outputs": [
    {
     "data": {
      "text/plain": [
       "'https://bulletins.psu.edu/undergraduate/colleges/agricultural-sciences/agribusiness-management-bs/'"
      ]
     },
     "execution_count": 47,
     "metadata": {},
     "output_type": "execute_result"
    }
   ],
   "source": [
    "data4[0].get_attribute('href')"
   ]
  },
  {
   "cell_type": "code",
   "execution_count": 48,
   "metadata": {},
   "outputs": [
    {
     "data": {
      "text/plain": [
       "16"
      ]
     },
     "execution_count": 48,
     "metadata": {},
     "output_type": "execute_result"
    }
   ],
   "source": [
    "data5=data3[0].find_elements_by_class_name('title')\n",
    "len(data5)"
   ]
  },
  {
   "cell_type": "code",
   "execution_count": 49,
   "metadata": {},
   "outputs": [
    {
     "data": {
      "text/plain": [
       "''"
      ]
     },
     "execution_count": 49,
     "metadata": {},
     "output_type": "execute_result"
    }
   ],
   "source": [
    "data5[0].text      # not working"
   ]
  },
  {
   "cell_type": "code",
   "execution_count": 41,
   "metadata": {},
   "outputs": [],
   "source": [
    "driver.get('https://bulletins.psu.edu/undergraduate/colleges/agricultural-sciences/agribusiness-management-bs/')"
   ]
  },
  {
   "cell_type": "code",
   "execution_count": 42,
   "metadata": {},
   "outputs": [
    {
     "data": {
      "text/plain": [
       "1"
      ]
     },
     "execution_count": 42,
     "metadata": {},
     "output_type": "execute_result"
    }
   ],
   "source": [
    "data6=driver.find_elements_by_class_name('page-title')\n",
    "len(data6)"
   ]
  },
  {
   "cell_type": "code",
   "execution_count": 43,
   "metadata": {},
   "outputs": [
    {
     "data": {
      "text/plain": [
       "'AGRIBUSINESS MANAGEMENT, B.S.'"
      ]
     },
     "execution_count": 43,
     "metadata": {},
     "output_type": "execute_result"
    }
   ],
   "source": [
    "data6[0].text"
   ]
  },
  {
   "cell_type": "markdown",
   "metadata": {},
   "source": [
    "# Full Code"
   ]
  },
  {
   "cell_type": "code",
   "execution_count": 58,
   "metadata": {},
   "outputs": [
    {
     "name": "stderr",
     "output_type": "stream",
     "text": [
      "C:\\ProgramData\\Anaconda3\\lib\\site-packages\\ipykernel_launcher.py:6: DeprecationWarning: use options instead of chrome_options\n",
      "  \n"
     ]
    },
    {
     "name": "stdout",
     "output_type": "stream",
     "text": [
      "AGRIBUSINESS MANAGEMENT, B.S. https://bulletins.psu.edu/undergraduate/colleges/agricultural-sciences/agribusiness-management-bs/\n",
      "AGRICULTURAL AND EXTENSION EDUCATION, B.S. https://bulletins.psu.edu/undergraduate/colleges/agricultural-sciences/agricultural-extension-education-bs/\n",
      "AGRICULTURAL SCIENCE, B.S. https://bulletins.psu.edu/undergraduate/colleges/agricultural-sciences/agricultural-science-bs/\n",
      "ANIMAL SCIENCE, B.S. https://bulletins.psu.edu/undergraduate/colleges/agricultural-sciences/animal-science-bs/\n",
      "BIORENEWABLE SYSTEMS, B.S. https://bulletins.psu.edu/undergraduate/colleges/agricultural-sciences/biorenewable-systems-bs/\n",
      "COMMUNITY, ENVIRONMENT, AND DEVELOPMENT, B.S. https://bulletins.psu.edu/undergraduate/colleges/agricultural-sciences/community-environment-development-bs/\n",
      "ENVIRONMENTAL RESOURCE MANAGEMENT, B.S. https://bulletins.psu.edu/undergraduate/colleges/agricultural-sciences/environmental-resource-management-bs/\n",
      "FOOD SCIENCE, B.S. https://bulletins.psu.edu/undergraduate/colleges/agricultural-sciences/food-science-bs/\n",
      "FOREST ECOSYSTEM MANAGEMENT, B.S. https://bulletins.psu.edu/undergraduate/colleges/agricultural-sciences/forest-ecosystem-management-bs/\n",
      "IMMUNOLOGY AND INFECTIOUS DISEASE, B.S. https://bulletins.psu.edu/undergraduate/colleges/agricultural-sciences/immunology-infectious-disease-bs/\n",
      "LANDSCAPE CONTRACTING, B.S. https://bulletins.psu.edu/undergraduate/colleges/agricultural-sciences/landscape-contracting-bs/\n",
      "PLANT SCIENCES, B.S. https://bulletins.psu.edu/undergraduate/colleges/agricultural-sciences/plant-sciences-bs/\n",
      "TOXICOLOGY, B.S. https://bulletins.psu.edu/undergraduate/colleges/agricultural-sciences/toxicology-bs/\n",
      "TURFGRASS SCIENCE, B.S. https://bulletins.psu.edu/undergraduate/colleges/agricultural-sciences/turfgrass-science-bs/\n",
      "VETERINARY AND BIOMEDICAL SCIENCES, B.S. https://bulletins.psu.edu/undergraduate/colleges/agricultural-sciences/veterinary-biomedical-sciences-bs/\n",
      "WILDLIFE AND FISHERIES SCIENCE, B.S. https://bulletins.psu.edu/undergraduate/colleges/agricultural-sciences/wildlife-fisheries-science-bs/\n",
      "FOREST TECHNOLOGY, A.S. https://bulletins.psu.edu/undergraduate/colleges/agricultural-sciences/forest-technology-as/\n",
      "TURFGRASS SCIENCE AND MANAGEMENT, A.S. https://bulletins.psu.edu/undergraduate/colleges/agricultural-sciences/turfgrass-science-management-as/\n",
      "WILDLIFE TECHNOLOGY, A.S. https://bulletins.psu.edu/undergraduate/colleges/agricultural-sciences/wildlife-technology-as/\n",
      "AGRIBUSINESS MANAGEMENT, MINOR https://bulletins.psu.edu/undergraduate/colleges/agricultural-sciences/agribusiness-management-minor/\n",
      "AGRICULTURAL COMMUNICATIONS, MINOR https://bulletins.psu.edu/undergraduate/colleges/agricultural-sciences/agricultural-communications-minor/\n",
      "AGRICULTURAL SYSTEMS MANAGEMENT, MINOR https://bulletins.psu.edu/undergraduate/colleges/agricultural-sciences/agricultural-systems-management-minor/\n",
      "AGRONOMY, MINOR https://bulletins.psu.edu/undergraduate/colleges/agricultural-sciences/agronomy-minor/\n",
      "ANIMAL SCIENCE, MINOR https://bulletins.psu.edu/undergraduate/colleges/agricultural-sciences/animal-science-minor/\n",
      "ARBORICULTURE, MINOR https://bulletins.psu.edu/undergraduate/colleges/agricultural-sciences/arboriculture-minor/\n",
      "ENTOMOLOGY, MINOR https://bulletins.psu.edu/undergraduate/colleges/agricultural-sciences/entomology-minor/\n",
      "ENVIRONMENTAL AND RENEWABLE RESOURCE ECONOMICS, MINOR https://bulletins.psu.edu/undergraduate/colleges/agricultural-sciences/environmental-renewable-resource-economics-minor/\n",
      "ENVIRONMENTAL RESOURCE MANAGEMENT, MINOR https://bulletins.psu.edu/undergraduate/colleges/agricultural-sciences/environmental-resource-management-minor/\n",
      "ENVIRONMENTAL SOIL SCIENCE, MINOR https://bulletins.psu.edu/undergraduate/colleges/agricultural-sciences/environmental-soil-science-minor/\n",
      "EQUINE SCIENCE, MINOR https://bulletins.psu.edu/undergraduate/colleges/agricultural-sciences/equine-science-minor/\n",
      "FOREST ECOSYSTEMS, MINOR https://bulletins.psu.edu/undergraduate/colleges/agricultural-sciences/forest-ecosystems-minor/\n",
      "HORTICULTURE, MINOR https://bulletins.psu.edu/undergraduate/colleges/agricultural-sciences/horticulture-minor/\n",
      "INTERNATIONAL AGRICULTURE, MINOR https://bulletins.psu.edu/undergraduate/colleges/agricultural-sciences/international-agriculture-minor/\n",
      "LEADERSHIP DEVELOPMENT, MINOR https://bulletins.psu.edu/undergraduate/colleges/agricultural-sciences/leadership-development-minor/\n",
      "MUSHROOM SCIENCE AND TECHNOLOGY, MINOR https://bulletins.psu.edu/undergraduate/colleges/agricultural-sciences/mushroom-science-technology-minor/\n",
      "OFF-ROAD EQUIPMENT, MINOR https://bulletins.psu.edu/undergraduate/colleges/agricultural-sciences/off-road-equipment-minor/\n",
      "PLANT PATHOLOGY, MINOR https://bulletins.psu.edu/undergraduate/colleges/agricultural-sciences/plant-pathology-minor/\n",
      "POULTRY AND AVIAN SCIENCE, MINOR https://bulletins.psu.edu/undergraduate/colleges/agricultural-sciences/poultry-avian-science-minor/\n",
      "WILDLIFE AND FISHERIES SCIENCE, MINOR https://bulletins.psu.edu/undergraduate/colleges/agricultural-sciences/wildlife-fisheries-science-minor/\n",
      "AGRICULTURAL STEWARDSHIP AND CONSERVATION, CERTIFICATE https://bulletins.psu.edu/undergraduate/colleges/agricultural-sciences/agricultural-stewardship-conservation-certificate/\n",
      "TURFGRASS MANAGEMENT, ADVANCED, CERTIFICATE https://bulletins.psu.edu/undergraduate/colleges/agricultural-sciences/turfgrass-management-advanced-certificate/\n",
      "TURFGRASS MANAGEMENT, BASIC, CERTIFICATE https://bulletins.psu.edu/undergraduate/colleges/agricultural-sciences/turfgrass-management-certificate/\n",
      "ACTING, BFA https://bulletins.psu.edu/undergraduate/colleges/arts-architecture/acting-bfa/\n",
      "ARCHITECTURE, B.ARCH. https://bulletins.psu.edu/undergraduate/colleges/arts-architecture/architecture-barch/\n",
      "ARCHITECTURE, B.S. https://bulletins.psu.edu/undergraduate/colleges/arts-architecture/architecture-bs/\n",
      "ART EDUCATION, B.S. https://bulletins.psu.edu/undergraduate/colleges/arts-architecture/art-education-bs/\n",
      "ART HISTORY, B.A. https://bulletins.psu.edu/undergraduate/colleges/arts-architecture/art-history-ba/\n",
      "ART, B.A. (ARTS AND ARCHITECTURE) https://bulletins.psu.edu/undergraduate/colleges/arts-architecture/art-ba/\n",
      "ART, B.F.A. https://bulletins.psu.edu/undergraduate/colleges/arts-architecture/art-bfa/\n",
      "DANCE, B.S. https://bulletins.psu.edu/undergraduate/colleges/arts-architecture/dance-bs/\n",
      "DIGITAL MULTIMEDIA DESIGN, B.DES. https://bulletins.psu.edu/undergraduate/colleges/arts-architecture/digital-multimedia-design-bdes/\n",
      "GRAPHIC DESIGN, B.DES. https://bulletins.psu.edu/undergraduate/colleges/arts-architecture/graphic-design-bdes/\n",
      "INTEGRATIVE ARTS, B.A. (ARTS AND ARCHITECTURE) https://bulletins.psu.edu/undergraduate/colleges/arts-architecture/integrative-arts-ba/\n",
      "INTERDISCIPLINARY DIGITAL STUDIO, B.DES. https://bulletins.psu.edu/undergraduate/colleges/arts-architecture/interdisciplinary-digital-studio-bdes/\n",
      "LANDSCAPE ARCHITECTURE, B.L.A. https://bulletins.psu.edu/undergraduate/colleges/arts-architecture/landscape-architecture-bla/\n",
      "MUSIC EDUCATION, B.M.E. https://bulletins.psu.edu/undergraduate/colleges/arts-architecture/music-education-bme/\n",
      "MUSIC, B.A. https://bulletins.psu.edu/undergraduate/colleges/arts-architecture/music-ba/\n",
      "MUSIC, B.M. https://bulletins.psu.edu/undergraduate/colleges/arts-architecture/music-bm/\n",
      "MUSICAL ARTS, B.M.A. https://bulletins.psu.edu/undergraduate/colleges/arts-architecture/musical-arts-bma/\n",
      "MUSICAL THEATRE, B.F.A. https://bulletins.psu.edu/undergraduate/colleges/arts-architecture/musical-theatre-bfa/\n",
      "PROFESSIONAL PHOTOGRAPHY, B.DES. https://bulletins.psu.edu/undergraduate/colleges/arts-architecture/professional-photography-bdes/\n",
      "THEATRE, B.A. (ARTS AND ARCHITECTURE) https://bulletins.psu.edu/undergraduate/colleges/arts-architecture/theatre-ba/\n",
      "THEATRE, B.F.A. https://bulletins.psu.edu/undergraduate/colleges/arts-architecture/theatre-bfa/\n",
      "ARCHITECTURAL HISTORY, MINOR https://bulletins.psu.edu/undergraduate/colleges/arts-architecture/architectural-history-minor/\n",
      "ARCHITECTURE STUDIES, MINOR https://bulletins.psu.edu/undergraduate/colleges/arts-architecture/architecture-studies-minor/\n",
      "ART HISTORY, MINOR https://bulletins.psu.edu/undergraduate/colleges/arts-architecture/art-history-minor/\n",
      "ART, MINOR https://bulletins.psu.edu/undergraduate/colleges/arts-architecture/art-minor/\n"
     ]
    },
    {
     "name": "stdout",
     "output_type": "stream",
     "text": [
      "GRAPHIC DESIGN, MINOR https://bulletins.psu.edu/undergraduate/colleges/arts-architecture/graphic-design-minor/\n",
      "INTERNATIONAL ARTS, MINOR https://bulletins.psu.edu/undergraduate/colleges/arts-architecture/international-arts-minor/\n",
      "LANDSCAPE ARCHITECTURE, MINOR https://bulletins.psu.edu/undergraduate/colleges/arts-architecture/landscape-architecture-minor/\n",
      "MUSIC PERFORMANCE, MINOR https://bulletins.psu.edu/undergraduate/colleges/arts-architecture/music-performance-minor/\n",
      "MUSIC STUDIES, MINOR https://bulletins.psu.edu/undergraduate/colleges/arts-architecture/music-studies-minor/\n",
      "MUSIC TECHNOLOGY, MINOR https://bulletins.psu.edu/undergraduate/colleges/arts-architecture/music-technology-minor/\n",
      "PHOTOGRAPHY, MINOR https://bulletins.psu.edu/undergraduate/colleges/arts-architecture/photography-minor/\n",
      "THEATRE, MINOR https://bulletins.psu.edu/undergraduate/colleges/arts-architecture/theatre-minor/\n",
      "DIGITAL ARTS, CERTIFICATE https://bulletins.psu.edu/undergraduate/colleges/arts-architecture/digital-arts-certificate/\n",
      "ADVERTISING/PUBLIC RELATIONS, B.A. https://bulletins.psu.edu/undergraduate/colleges/bellisario-communications/advertising-public-relations-ba/\n",
      "DIGITAL JOURNALISM AND MEDIA, B.A. https://bulletins.psu.edu/undergraduate/colleges/bellisario-communications/digital-journalism-media-ba/\n",
      "FILM-VIDEO, B.A. https://bulletins.psu.edu/undergraduate/colleges/bellisario-communications/film-video-ba/\n",
      "JOURNALISM, B.A. https://bulletins.psu.edu/undergraduate/colleges/bellisario-communications/journalism-ba/\n",
      "MEDIA STUDIES, B.A. https://bulletins.psu.edu/undergraduate/colleges/bellisario-communications/media-studies-ba/\n",
      "STRATEGIC COMMUNICATIONS, B.A. https://bulletins.psu.edu/undergraduate/colleges/bellisario-communications/strategic-communications-ba/\n",
      "TELECOMMUNICATIONS, B.A. https://bulletins.psu.edu/undergraduate/colleges/bellisario-communications/telecommunications-ba/\n",
      "DIGITAL MEDIA TRENDS AND ANALYTICS, MINOR https://bulletins.psu.edu/undergraduate/colleges/bellisario-communications/digital-media-trends-analytics-minor/\n",
      "FILM STUDIES, MINOR https://bulletins.psu.edu/undergraduate/colleges/bellisario-communications/film-studies-minor/\n",
      "INFORMATION SCIENCES AND TECHNOLOGY FOR TELECOMMUNICATIONS, MINOR https://bulletins.psu.edu/undergraduate/colleges/bellisario-communications/information-sciences-technology-telecommunications-minor/\n",
      "MEDIA STUDIES, MINOR https://bulletins.psu.edu/undergraduate/colleges/bellisario-communications/media-studies-minor/\n",
      "SPORTS JOURNALISM, CERTIFICATE https://bulletins.psu.edu/undergraduate/colleges/bellisario-communications/sports-journalism-certificate/\n",
      "EARTH SCIENCE AND POLICY, B.S. https://bulletins.psu.edu/undergraduate/colleges/earth-mineral-sciences/earth-science-policy-bs/\n",
      "EARTH SCIENCES, B.S. https://bulletins.psu.edu/undergraduate/colleges/earth-mineral-sciences/earth-sciences-bs/\n",
      "ENERGY AND SUSTAINABILITY POLICY, B.A. https://bulletins.psu.edu/undergraduate/colleges/earth-mineral-sciences/energy-sustainability-policy-ba/\n",
      "ENERGY AND SUSTAINABILITY POLICY, B.S. https://bulletins.psu.edu/undergraduate/colleges/earth-mineral-sciences/energy-sustainability-policy-bs/\n",
      "ENERGY BUSINESS AND FINANCE, B.S. https://bulletins.psu.edu/undergraduate/colleges/earth-mineral-sciences/energy-business-finance-bs/\n",
      "ENERGY ENGINEERING, B.S. https://bulletins.psu.edu/undergraduate/colleges/earth-mineral-sciences/energy-engineering-bs/\n",
      "ENVIRONMENTAL SYSTEMS ENGINEERING, B.S. https://bulletins.psu.edu/undergraduate/colleges/earth-mineral-sciences/environmental-systems-engineering-bs/\n",
      "GEOBIOLOGY, B.S. https://bulletins.psu.edu/undergraduate/colleges/earth-mineral-sciences/geobiology-bs/\n",
      "GEOGRAPHY, B.A. https://bulletins.psu.edu/undergraduate/colleges/earth-mineral-sciences/geography-ba/\n",
      "GEOGRAPHY, B.S. https://bulletins.psu.edu/undergraduate/colleges/earth-mineral-sciences/geography-bs/\n",
      "GEOSCIENCES, B.A. https://bulletins.psu.edu/undergraduate/colleges/earth-mineral-sciences/geosciences-ba/\n",
      "GEOSCIENCES, B.S. https://bulletins.psu.edu/undergraduate/colleges/earth-mineral-sciences/geosciences-bs/\n",
      "LIBERAL ARTS AND EARTH AND MINERAL SCIENCES CONCURRENT DEGREE; LIBERAL ARTS AND ENGINEERING CONCURRENT DEGREE (EARTH AND MINERAL SCIENCES) https://bulletins.psu.edu/undergraduate/colleges/earth-mineral-sciences/liberal-arts-earth-mineral-sciences-ba-bs/\n",
      "MATERIALS SCIENCE AND ENGINEERING, B.S. https://bulletins.psu.edu/undergraduate/colleges/earth-mineral-sciences/materials-science-engineering-bs/\n",
      "METEOROLOGY AND ATMOSPHERIC SCIENCE, B.S. https://bulletins.psu.edu/undergraduate/colleges/earth-mineral-sciences/meteorology-atmospheric-science-bs/\n",
      "MINING ENGINEERING, B.S. https://bulletins.psu.edu/undergraduate/colleges/earth-mineral-sciences/mining-engineering-bs/\n",
      "PETROLEUM AND NATURAL GAS ENGINEERING, B.S. https://bulletins.psu.edu/undergraduate/colleges/earth-mineral-sciences/petroleum-natural-gas-engineering-bs/\n",
      "CLIMATOLOGY, MINOR https://bulletins.psu.edu/undergraduate/colleges/earth-mineral-sciences/climatology-minor/\n",
      "EARTH AND SUSTAINABILITY, MINOR https://bulletins.psu.edu/undergraduate/colleges/earth-mineral-sciences/earth-sustainability-minor/\n",
      "EARTH SYSTEMS, MINOR https://bulletins.psu.edu/undergraduate/colleges/earth-mineral-sciences/earth-systems-minor/\n",
      "ELECTROCHEMICAL ENGINEERING, MINOR https://bulletins.psu.edu/undergraduate/colleges/earth-mineral-sciences/electrochemical-engineering-minor/\n",
      "ELECTRONIC AND PHOTONIC MATERIALS, MINOR https://bulletins.psu.edu/undergraduate/colleges/earth-mineral-sciences/electronic-photonic-materials-minor/\n",
      "ENERGY BUSINESS AND FINANCE, MINOR https://bulletins.psu.edu/undergraduate/colleges/earth-mineral-sciences/energy-business-finance-minor/\n",
      "ENERGY ENGINEERING, MINOR https://bulletins.psu.edu/undergraduate/colleges/earth-mineral-sciences/energy-engineering-minor/\n",
      "ENVIRONMENTAL SYSTEMS ENGINEERING, MINOR https://bulletins.psu.edu/undergraduate/colleges/earth-mineral-sciences/environmental-systems-engineering-minor/\n",
      "GEOGRAPHIC INFORMATION SCIENCE, MINOR https://bulletins.psu.edu/undergraduate/colleges/earth-mineral-sciences/geographic-information-science-minor/\n",
      "GEOGRAPHY, MINOR https://bulletins.psu.edu/undergraduate/colleges/earth-mineral-sciences/geography-minor/\n",
      "GEOPHYSICS, MINOR https://bulletins.psu.edu/undergraduate/colleges/earth-mineral-sciences/geophysics-minor/\n",
      "GEOSCIENCES, MINOR https://bulletins.psu.edu/undergraduate/colleges/earth-mineral-sciences/geosciences-minor/\n",
      "INFORMATION SCIENCES AND TECHNOLOGY FOR EARTH AND MINERAL SCIENCES, MINOR https://bulletins.psu.edu/undergraduate/colleges/earth-mineral-sciences/information-sciences-technology-earth-mineral-sciences-minor/\n",
      "METEOROLOGY, MINOR https://bulletins.psu.edu/undergraduate/colleges/earth-mineral-sciences/meteorology-minor/\n",
      "MINING ENGINEERING, MINOR https://bulletins.psu.edu/undergraduate/colleges/earth-mineral-sciences/mining-engineering-minor/\n",
      "PETROLEUM AND NATURAL GAS ENGINEERING, MINOR https://bulletins.psu.edu/undergraduate/colleges/earth-mineral-sciences/petroleum-natural-gas-engineering-minor/\n",
      "POLYMER SCIENCE, MINOR https://bulletins.psu.edu/undergraduate/colleges/earth-mineral-sciences/polymer-science-minor/\n",
      "WATERSHEDS AND WATER RESOURCES, MINOR https://bulletins.psu.edu/undergraduate/colleges/earth-mineral-sciences/watersheds-water-resources-minor/\n",
      "EARTH SUSTAINABILITY, CERTIFICATE https://bulletins.psu.edu/undergraduate/colleges/earth-mineral-sciences/earth-sustainability-certificate/\n",
      "ENVIRONMENT AND SOCIETY GEOGRAPHY, CERTIFICATE https://bulletins.psu.edu/undergraduate/colleges/earth-mineral-sciences/environment-society-geography-certificate/\n",
      "GEOGRAPHIC INFORMATION SCIENCE, CERTIFICATE https://bulletins.psu.edu/undergraduate/colleges/earth-mineral-sciences/geographic-information-science-certificate/\n",
      "GEOSPATIAL BIG DATA ANALYTICS, CERTIFICATE https://bulletins.psu.edu/undergraduate/colleges/earth-mineral-sciences/geospatial-big-data-analytics-certificate/\n",
      "HUMAN GEOGRAPHY, CERTIFICATE https://bulletins.psu.edu/undergraduate/colleges/earth-mineral-sciences/human-geography-certificate/\n",
      "JUSTICE, ETHICS, DIVERSITY IN SPACE, CERTIFICATE https://bulletins.psu.edu/undergraduate/colleges/earth-mineral-sciences/justice-ethics-diversity-space-certificate/\n"
     ]
    },
    {
     "name": "stdout",
     "output_type": "stream",
     "text": [
      "LANDSCAPE ECOLOGY, CERTIFICATE https://bulletins.psu.edu/undergraduate/colleges/earth-mineral-sciences/landscape-ecology-certificate/\n",
      "PHYSICAL GEOGRAPHY, CERTIFICATE https://bulletins.psu.edu/undergraduate/colleges/earth-mineral-sciences/physical-geography-certificate/\n",
      "WEATHER FORECASTING, CERTIFICATE https://bulletins.psu.edu/undergraduate/colleges/earth-mineral-sciences/weather-forecasting-certificate/\n",
      "ASTRONOMY AND ASTROPHYSICS, B.S. https://bulletins.psu.edu/undergraduate/colleges/eberly-science/astronomy-astrophysics-bs/\n",
      "BIOCHEMISTRY AND MOLECULAR BIOLOGY, B.S. (SCIENCE) https://bulletins.psu.edu/undergraduate/colleges/eberly-science/biochemistry-molecular-biology-bs/\n",
      "BIOLOGY, B.S. (SCIENCE) https://bulletins.psu.edu/undergraduate/colleges/eberly-science/biology-bs/\n",
      "BIOTECHNOLOGY, B.S. https://bulletins.psu.edu/undergraduate/colleges/eberly-science/biotechnology-bs/\n",
      "CHEMISTRY, B.S. (SCIENCE) https://bulletins.psu.edu/undergraduate/colleges/eberly-science/chemistry-bs/\n",
      "DATA SCIENCES, B.S. (SCIENCE) https://bulletins.psu.edu/undergraduate/colleges/eberly-science/data-sciences-bs/\n",
      "FORENSIC SCIENCE, B.S. https://bulletins.psu.edu/undergraduate/colleges/eberly-science/forensic-science-bs/\n",
      "MATHEMATICS, B.A. (SCIENCE) https://bulletins.psu.edu/undergraduate/colleges/eberly-science/mathematics-ba/\n",
      "MATHEMATICS, B.S. (SCIENCE) https://bulletins.psu.edu/undergraduate/colleges/eberly-science/mathematics-bs/\n",
      "MICROBIOLOGY, B.S. https://bulletins.psu.edu/undergraduate/colleges/eberly-science/microbiology-bs/\n",
      "PHYSICS, B.S. (SCIENCE) https://bulletins.psu.edu/undergraduate/colleges/eberly-science/physics-bs/\n",
      "PLANETARY SCIENCE AND ASTRONOMY MAJOR https://bulletins.psu.edu/undergraduate/colleges/eberly-science/planetary-science-and-astronomy-major/\n",
      "PREMEDICAL-MEDICAL, B.S. https://bulletins.psu.edu/undergraduate/colleges/eberly-science/premedical-medical-bs/\n",
      "PREMEDICINE, B.S. https://bulletins.psu.edu/undergraduate/colleges/eberly-science/premedicine-bs/\n",
      "SCIENCE, B.S. (SCIENCE) https://bulletins.psu.edu/undergraduate/colleges/eberly-science/science-bs/\n",
      "STATISTICS, B.S. https://bulletins.psu.edu/undergraduate/colleges/eberly-science/statistics-bs/\n",
      "ASTRONOMY AND ASTROPHYSICS, MINOR https://bulletins.psu.edu/undergraduate/colleges/eberly-science/astronomy-astrophysics-minor/\n",
      "BIOCHEMISTRY AND MOLECULAR BIOLOGY, MINOR https://bulletins.psu.edu/undergraduate/colleges/eberly-science/biochemistry-molecular-biology-minor/\n",
      "BIOLOGY, MINOR (SCIENCE) https://bulletins.psu.edu/undergraduate/colleges/eberly-science/biology-minor/\n",
      "CHEMISTRY, MINOR https://bulletins.psu.edu/undergraduate/colleges/eberly-science/chemistry-minor/\n",
      "INFORMATION SCIENCES AND TECHNOLOGY FOR MATHEMATICS, MINOR https://bulletins.psu.edu/undergraduate/colleges/eberly-science/information-sciences-technology-mathematics-minor/\n",
      "MARINE SCIENCES, MINOR https://bulletins.psu.edu/undergraduate/colleges/eberly-science/marine-sciences-minor/\n",
      "MATHEMATICS, MINOR (SCIENCE) https://bulletins.psu.edu/undergraduate/colleges/eberly-science/mathematics-minor/\n",
      "MICROBIOLOGY, MINOR https://bulletins.psu.edu/undergraduate/colleges/eberly-science/microbiology-minor/\n",
      "NATURAL SCIENCE, MINOR https://bulletins.psu.edu/undergraduate/colleges/eberly-science/natural-science-minor/\n",
      "PHYSICS, MINOR https://bulletins.psu.edu/undergraduate/colleges/eberly-science/physics-minor/\n",
      "PLANETARY SCIENCE AND ASTRONOMY, MINOR https://bulletins.psu.edu/undergraduate/colleges/eberly-science/planetary-science-astronomy-minor/\n",
      "STATISTICS, MINOR (SCIENCE) https://bulletins.psu.edu/undergraduate/colleges/eberly-science/statistics-minor/\n",
      "INTERNATIONAL SCIENCE, CERTIFICATE https://bulletins.psu.edu/undergraduate/colleges/eberly-science/international-science-certificate/\n",
      "SCIENCE RESEARCH DISTINCTION, CERTIFICATE https://bulletins.psu.edu/undergraduate/colleges/eberly-science/science-research-distinction-certificate/\n",
      "EDUCATION AND PUBLIC POLICY, B.S. https://bulletins.psu.edu/undergraduate/colleges/education/education-public-policy-bs/\n",
      "ELEMENTARY AND EARLY CHILDHOOD EDUCATION, B.S. https://bulletins.psu.edu/undergraduate/colleges/education/elementary-early-childhood-education-bs/\n",
      "ELEMENTARY AND KINDERGARTEN EDUCATION, B.S. (EDUCATION) https://bulletins.psu.edu/undergraduate/colleges/education/elementary-kindergarten-education-bs/\n",
      "MIDDLE LEVEL EDUCATION, B.S. https://bulletins.psu.edu/undergraduate/colleges/education/middle-level-education-bs/\n",
      "REHABILITATION AND HUMAN SERVICES, B.S. (EDUCATION) https://bulletins.psu.edu/undergraduate/colleges/education/rehabilitation-human-services-bs/\n",
      "SECONDARY EDUCATION, B.S. (EDUCATION) https://bulletins.psu.edu/undergraduate/colleges/education/secondary-education-bs/\n",
      "SPECIAL EDUCATION, B.S. https://bulletins.psu.edu/undergraduate/colleges/education/special-education-bs/\n",
      "WORKFORCE EDUCATION AND DEVELOPMENT, B.S. https://bulletins.psu.edu/undergraduate/colleges/education/workforce-education-development-bs/\n",
      "WORLD LANGUAGES (K-12) EDUCATION, B.S. https://bulletins.psu.edu/undergraduate/colleges/education/world-languages-k-12-education-bs/\n",
      "WORKFORCE EDUCATION AND DEVELOPMENT, A.S. https://bulletins.psu.edu/undergraduate/colleges/education/workforce-education-development-as/\n",
      "EARLY DEVELOPMENT AND EDUCATION, MINOR https://bulletins.psu.edu/undergraduate/colleges/education/early-development-education-minor/\n",
      "EDUCATION POLICY STUDIES, MINOR https://bulletins.psu.edu/undergraduate/colleges/education/education-policy-studies-minor/\n",
      "REHABILITATION AND HUMAN SERVICES, MINOR https://bulletins.psu.edu/undergraduate/colleges/education/rehabilitation-human-services-minor/\n",
      "SPECIAL EDUCATION, MINOR https://bulletins.psu.edu/undergraduate/colleges/education/special-education-minor/\n",
      "ADVANCED INSTRUCTOR DEVELOPMENT FOR PROFESSIONALS, CERTIFICATE https://bulletins.psu.edu/undergraduate/colleges/education/advanced-instructor-development-professionals-certificate/\n",
      "INSTRUCTOR DEVELOPMENT FOR PROFESSIONALS, CERTIFICATE https://bulletins.psu.edu/undergraduate/colleges/education/instructor-development-professionals-certificate/\n",
      "OPERATIONAL EXCELLENCE FOR PROFESSIONALS, CERTIFICATE https://bulletins.psu.edu/undergraduate/colleges/education/operational-excellence-professionals-certificate/\n",
      "SUPERVISORY LEADERSHIP FOR PROFESSIONALS, CERTIFICATE https://bulletins.psu.edu/undergraduate/colleges/education/supervisory-leadership-professionals-certificate/\n",
      "AEROSPACE ENGINEERING, B.S. https://bulletins.psu.edu/undergraduate/colleges/engineering/aerospace-engineering-bs/\n",
      "ARCHITECTURAL ENGINEERING, B.A.E. https://bulletins.psu.edu/undergraduate/colleges/engineering/architectural-engineering-bae/\n",
      "BIOLOGICAL ENGINEERING, B.S. https://bulletins.psu.edu/undergraduate/colleges/engineering/biological-engineering-bs/\n",
      "BIOMEDICAL ENGINEERING, B.S. https://bulletins.psu.edu/undergraduate/colleges/engineering/biomedical-engineering-bs/\n",
      "CHEMICAL ENGINEERING, B.S. https://bulletins.psu.edu/undergraduate/colleges/engineering/chemical-engineering-bs/\n",
      "CIVIL ENGINEERING, B.S. (ENGINEERING) https://bulletins.psu.edu/undergraduate/colleges/engineering/civil-engineering-bs/\n",
      "COMPUTER ENGINEERING, B.S. (ENGINEERING) https://bulletins.psu.edu/undergraduate/colleges/engineering/computer-engineering-bs/\n",
      "COMPUTER SCIENCE, B.S. (ENGINEERING) https://bulletins.psu.edu/undergraduate/colleges/engineering/computer-science-bs/\n",
      "DATA SCIENCES, B.S. (ENGINEERING) https://bulletins.psu.edu/undergraduate/colleges/engineering/data-sciences-bs/\n",
      "ELECTRICAL ENGINEERING, B.S. (ENGINEERING) https://bulletins.psu.edu/undergraduate/colleges/engineering/electrical-engineering-bs/\n",
      "ELECTRO-MECHANICAL ENGINEERING TECHNOLOGY, B.S. https://bulletins.psu.edu/undergraduate/colleges/engineering/electro-mechanical-engineering-technology-bs/\n",
      "ENGINEERING SCIENCE, B.S. https://bulletins.psu.edu/undergraduate/colleges/engineering/engineering-science-bs/\n",
      "ENGINEERING, B.S. https://bulletins.psu.edu/undergraduate/colleges/engineering/engineering-bs/\n",
      "INDUSTRIAL ENGINEERING, B.S. (ENGINEERING) https://bulletins.psu.edu/undergraduate/colleges/engineering/industrial-engineering-bs/\n",
      "LIBERAL ARTS AND EARTH AND MINERAL SCIENCES CONCURRENT DEGREE; LIBERAL ARTS AND ENGINEERING CONCURRENT DEGREE (ENGINEERING) https://bulletins.psu.edu/undergraduate/colleges/engineering/liberal-arts-earth-mineral-sciences-ba-bs/\n"
     ]
    },
    {
     "name": "stdout",
     "output_type": "stream",
     "text": [
      "MECHANICAL ENGINEERING, B.S. (ENGINEERING) https://bulletins.psu.edu/undergraduate/colleges/engineering/mechanical-engineering-bs/\n",
      "NUCLEAR ENGINEERING, B.S. https://bulletins.psu.edu/undergraduate/colleges/engineering/nuclear-engineering-bs/\n",
      "SURVEYING ENGINEERING, B.S. https://bulletins.psu.edu/undergraduate/colleges/engineering/surveying-engineering-bs/\n",
      "BIOMEDICAL ENGINEERING TECHNOLOGY, A.ENGT. https://bulletins.psu.edu/undergraduate/colleges/engineering/biomedical-engineering-technology-aet/\n",
      "ELECTRICAL ENGINEERING TECHNOLOGY, A.ENGT. https://bulletins.psu.edu/undergraduate/colleges/engineering/electrical-engineering-technology-aengt/\n",
      "MECHANICAL ENGINEERING TECHNOLOGY, A.ENGT. https://bulletins.psu.edu/undergraduate/colleges/engineering/mechanical-engineering-technology-aengt/\n",
      "SURVEYING ENGINEERING TECHNOLOGY, A.ENGT. https://bulletins.psu.edu/undergraduate/colleges/engineering/surveying-engineering-technology-aengt/\n",
      "BIOLOGICAL ENGINEERING, MINOR https://bulletins.psu.edu/undergraduate/colleges/engineering/biological-engineering-minor/\n",
      "BIOMEDICAL ENGINEERING, MINOR https://bulletins.psu.edu/undergraduate/colleges/engineering/biomedical-engineering-minor/\n",
      "CYBERSECURITY COMPUTATIONAL FOUNDATIONS, MINOR https://bulletins.psu.edu/undergraduate/colleges/engineering/cybersecurity-computational-foundations-minor/\n",
      "ENGINEERING LEADERSHIP DEVELOPMENT, MINOR https://bulletins.psu.edu/undergraduate/colleges/engineering/engineering-leadership-development-minor/\n",
      "ENGINEERING MECHANICS, MINOR https://bulletins.psu.edu/undergraduate/colleges/engineering/engineering-mechanics-minor/\n",
      "ENVIRONMENTAL ENGINEERING, MINOR https://bulletins.psu.edu/undergraduate/colleges/engineering/environmental-engineering-minor/\n",
      "INFORMATION SCIENCES AND TECHNOLOGY FOR AEROSPACE ENGINEERING, MINOR https://bulletins.psu.edu/undergraduate/colleges/engineering/information-sciences-technology-aerospace-engineering-minor/\n",
      "INFORMATION SCIENCES AND TECHNOLOGY FOR INDUSTRIAL ENGINEERING, MINOR https://bulletins.psu.edu/undergraduate/colleges/engineering/information-sciences-technology-industrial-engineering-minor/\n",
      "INTERNATIONAL ENGINEERING, MINOR https://bulletins.psu.edu/undergraduate/colleges/engineering/international-engineering-minor/\n",
      "NANOTECHNOLOGY, MINOR https://bulletins.psu.edu/undergraduate/colleges/engineering/nanotechnology-minor/\n",
      "PRODUCT REALIZATION, MINOR https://bulletins.psu.edu/undergraduate/colleges/engineering/product-realization-minor/\n",
      "RESIDENTIAL CONSTRUCTION, MINOR https://bulletins.psu.edu/undergraduate/colleges/engineering/residential-construction-minor/\n",
      "SERVICE ENTERPRISE ENGINEERING, MINOR https://bulletins.psu.edu/undergraduate/colleges/engineering/service-enterprise-engineering-minor/\n",
      "SIX SIGMA, MINOR https://bulletins.psu.edu/undergraduate/colleges/engineering/six-sigma-minor/\n",
      "ENGINEERING AND COMMUNITY ENGAGEMENT, CERTIFICATE https://bulletins.psu.edu/undergraduate/colleges/engineering/engineering-community-engagement-certificate/\n",
      "ENGINEERING DESIGN, CERTIFICATE https://bulletins.psu.edu/undergraduate/colleges/engineering/engineering-design-certificate/\n",
      "HOUSING, CERTIFICATE https://bulletins.psu.edu/undergraduate/colleges/engineering/housing-certificate/\n",
      "INTERNATIONAL ENGINEERING, CERTIFICATE https://bulletins.psu.edu/undergraduate/colleges/engineering/international-engineering-certificate/\n",
      "NANOTECHNOLOGY, CERTIFICATE https://bulletins.psu.edu/undergraduate/colleges/engineering/nanotechnology-certificate/\n",
      "SPACE SYSTEMS ENGINEERING, CERTIFICATE https://bulletins.psu.edu/undergraduate/colleges/engineering/space-systems-engineering-certificate/\n",
      "ATHLETIC TRAINING, B.S. https://bulletins.psu.edu/undergraduate/colleges/health-human-development/athletic-training-bs/\n",
      "BIOBEHAVIORAL HEALTH, B.S. (HEALTH AND HUMAN DEVELOPMENT) https://bulletins.psu.edu/undergraduate/colleges/health-human-development/biobehavioral-health-bs/\n",
      "COMMUNICATION SCIENCES AND DISORDERS, B.S. https://bulletins.psu.edu/undergraduate/colleges/health-human-development/communication-sciences-disorders-bs/\n",
      "HEALTH POLICY AND ADMINISTRATION, B.S. (HEALTH AND HUMAN DEVELOPMENT) https://bulletins.psu.edu/undergraduate/colleges/health-human-development/health-policy-administration-bs/\n",
      "HOSPITALITY MANAGEMENT, B.S. (HEALTH AND HUMAN DEVELOPMENT) https://bulletins.psu.edu/undergraduate/colleges/health-human-development/hospitality-management-bs/\n",
      "HUMAN DEVELOPMENT AND FAMILY STUDIES, B.S. (HEALTH AND HUMAN DEVELOPMENT) https://bulletins.psu.edu/undergraduate/colleges/health-human-development/human-development-family-studies-bs/\n",
      "KINESIOLOGY, B.S. (HEALTH AND HUMAN DEVELOPMENT) https://bulletins.psu.edu/undergraduate/colleges/health-human-development/kinesiology-bs/\n",
      "NUTRITIONAL SCIENCES, B.S. https://bulletins.psu.edu/undergraduate/colleges/health-human-development/nutritional-sciences-bs/\n",
      "RECREATION, PARK, AND TOURISM MANAGEMENT, B.S. https://bulletins.psu.edu/undergraduate/colleges/health-human-development/recreation-park-tourism-management-bs/\n",
      "HUMAN DEVELOPMENT AND FAMILY STUDIES, A.S. (HEALTH AND HUMAN DEVELOPMENT) https://bulletins.psu.edu/undergraduate/colleges/health-human-development/human-development-family-studies-as/\n",
      "DEAFNESS AND HEARING STUDIES, MINOR https://bulletins.psu.edu/undergraduate/colleges/health-human-development/deafness-hearing-studies-minor/\n",
      "DIVERSITY AND INCLUSION IN HEALTH AND HUMAN DEVELOPMENT, MINOR https://bulletins.psu.edu/undergraduate/colleges/health-human-development/diversity-inclusion-health-human-development/\n",
      "GLOBAL HEALTH, MINOR https://bulletins.psu.edu/undergraduate/colleges/health-human-development/global-health-minor/\n",
      "HEALTH POLICY AND ADMINISTRATION, MINOR https://bulletins.psu.edu/undergraduate/colleges/health-human-development/health-policy-administration-minor/\n",
      "HUMAN DEVELOPMENT AND FAMILY STUDIES, MINOR https://bulletins.psu.edu/undergraduate/colleges/health-human-development/human-development-family-studies-minor/\n",
      "INFORMATION SCIENCES AND TECHNOLOGY IN HEALTH POLICY AND ADMINISTRATION, MINOR https://bulletins.psu.edu/undergraduate/colleges/health-human-development/information-sciences-technology-health-policy-administration-minor/\n",
      "KINESIOLOGY, MINOR https://bulletins.psu.edu/undergraduate/colleges/health-human-development/kinesiology-minor/\n",
      "NUTRITIONAL SCIENCES, MINOR https://bulletins.psu.edu/undergraduate/colleges/health-human-development/nutritional-sciences-minor/\n",
      "RECREATION, PARK, AND TOURISM MANAGEMENT, MINOR https://bulletins.psu.edu/undergraduate/colleges/health-human-development/recreation-park-tourism-management-minor/\n",
      "ADULT DEVELOPMENT AND AGING SERVICES, CERTIFICATE https://bulletins.psu.edu/undergraduate/colleges/health-human-development/adult-development-aging-services-certificate/\n",
      "CHILDREN, YOUTH AND FAMILY SERVICES, CERTIFICATE https://bulletins.psu.edu/undergraduate/colleges/health-human-development/children-youth-family-services-certificate/\n",
      "MEETING AND EVENT MANAGEMENT, CERTIFICATE https://bulletins.psu.edu/undergraduate/colleges/health-human-development/meeting-event-management-certificate/\n",
      "CYBERSECURITY ANALYTICS AND OPERATIONS, B.S. https://bulletins.psu.edu/undergraduate/colleges/information-sciences-technology/cybersecurity-analytics-operations-bs/\n",
      "DATA SCIENCES, B.S. (INFORMATION SCIENCES AND TECHNOLOGY) https://bulletins.psu.edu/undergraduate/colleges/information-sciences-technology/data-sciences-bs/\n",
      "INFORMATION SCIENCES AND TECHNOLOGY, B.A. https://bulletins.psu.edu/undergraduate/colleges/information-sciences-technology/information-sciences-technology-ba/\n",
      "INFORMATION SCIENCES AND TECHNOLOGY, B.S. (INFORMATION SCIENCES AND TECHNOLOGY) https://bulletins.psu.edu/undergraduate/colleges/information-sciences-technology/information-sciences-technology-bs/\n",
      "SECURITY AND RISK ANALYSIS, B.S. (INFORMATION SCIENCES AND TECHNOLOGY) https://bulletins.psu.edu/undergraduate/colleges/information-sciences-technology/security-risk-analysis-bs/\n",
      "INFORMATION SCIENCES AND TECHNOLOGY, A.S. (INFORMATION SCIENCES AND TECHNOLOGY) https://bulletins.psu.edu/undergraduate/colleges/information-sciences-technology/information-sciences-technology-as/\n",
      "INFORMATION SCIENCES AND TECHNOLOGY, MINOR https://bulletins.psu.edu/undergraduate/colleges/information-sciences-technology/information-sciences-technology-minor/\n"
     ]
    },
    {
     "name": "stdout",
     "output_type": "stream",
     "text": [
      "SECURITY AND RISK ANALYSIS, MINOR https://bulletins.psu.edu/undergraduate/colleges/information-sciences-technology/security-risk-analysis-minor/\n",
      "ENTERPRISE ARCHITECTURE, CERTIFICATE https://bulletins.psu.edu/undergraduate/colleges/information-sciences-technology/enterprise-architecture-certificate/\n",
      "INFORMATION SCIENCES AND TECHNOLOGY, CERTIFICATE https://bulletins.psu.edu/undergraduate/colleges/information-sciences-technology/information-sciences-technology-certificate/\n",
      "NATIONAL SECURITY AGENCY, CERTIFICATE https://bulletins.psu.edu/undergraduate/colleges/information-sciences-technology/national-security-agency-certificate/\n",
      "SECURITY AND RISK ANALYSIS, CERTIFICATE https://bulletins.psu.edu/undergraduate/colleges/information-sciences-technology/security-risk-analysis-certificate/\n",
      "BACHELOR OF PHILOSOPHY DEGREE https://bulletins.psu.edu/undergraduate/colleges/intercollege/bachelor-philosophy-degree/\n",
      "BUSINESS, B.S. (INTERCOLLEGE) https://bulletins.psu.edu/undergraduate/colleges/intercollege/business-bs/\n",
      "ASTROBIOLOGY, MINOR https://bulletins.psu.edu/undergraduate/colleges/intercollege/astrobiology-minor/\n",
      "BIOETHICS AND MEDICAL HUMANITIES, MINOR https://bulletins.psu.edu/undergraduate/colleges/intercollege/bioethics-medical-humanities-minor/\n",
      "CHILD MALTREATMENT AND ADVOCACY STUDIES, MINOR https://bulletins.psu.edu/undergraduate/colleges/intercollege/child-maltreatment-advocacy-studies-minor/\n",
      "CIVIC AND COMMUNITY ENGAGEMENT, MINOR https://bulletins.psu.edu/undergraduate/colleges/intercollege/civic-community-engagement-minor/\n",
      "DISABILITY STUDIES, MINOR https://bulletins.psu.edu/undergraduate/colleges/intercollege/disability-studies-minor/\n",
      "ENTREPRENEURSHIP AND INNOVATION, MINOR https://bulletins.psu.edu/undergraduate/colleges/intercollege/entrepreneurship-innovation-minor/\n",
      "ENVIRONMENTAL INQUIRY, MINOR https://bulletins.psu.edu/undergraduate/colleges/intercollege/environmental-inquiry-minor/\n",
      "GERONTOLOGY, MINOR https://bulletins.psu.edu/undergraduate/colleges/intercollege/gerontology-minor/\n",
      "MILITARY STUDIES, MINOR https://bulletins.psu.edu/undergraduate/colleges/intercollege/military-studies-minor/\n",
      "NEUROSCIENCE, MINOR https://bulletins.psu.edu/undergraduate/colleges/intercollege/neuroscience-minor/\n",
      "SCIENCE, TECHNOLOGY, AND SOCIETY, MINOR https://bulletins.psu.edu/undergraduate/colleges/intercollege/science-technology-society-minor/\n",
      "SUSTAINABILITY LEADERSHIP, MINOR https://bulletins.psu.edu/undergraduate/colleges/intercollege/sustainability-leadership-minor/\n",
      "PRESIDENTIAL LEADERSHIP ACADEMY, CERTIFICATE https://bulletins.psu.edu/undergraduate/colleges/intercollege/presidential-leadership-academy-certificate/\n",
      "AFRICAN AMERICAN STUDIES, B.A. https://bulletins.psu.edu/undergraduate/colleges/liberal-arts/african-american-studies-ba/\n",
      "AFRICAN AND AFRICAN AMERICAN STUDIES, B.A. https://bulletins.psu.edu/undergraduate/colleges/liberal-arts/african-african-american-studies-ba/\n",
      "AFRICAN AND AFRICAN AMERICAN STUDIES, B.S. https://bulletins.psu.edu/undergraduate/colleges/liberal-arts/african-african-american-studies-bs/\n",
      "AFRICAN STUDIES, B.A. https://bulletins.psu.edu/undergraduate/colleges/liberal-arts/african-studies-ba/\n",
      "ANTHROPOLOGICAL SCIENCE, B.S. https://bulletins.psu.edu/undergraduate/colleges/liberal-arts/anthropological-science-bs/\n",
      "ANTHROPOLOGY, B.A. https://bulletins.psu.edu/undergraduate/colleges/liberal-arts/anthropology-ba/\n",
      "ARCHAEOLOGICAL SCIENCE, B.S. https://bulletins.psu.edu/undergraduate/colleges/liberal-arts/archaeological-science-bs/\n",
      "ASIAN STUDIES, B.A. https://bulletins.psu.edu/undergraduate/colleges/liberal-arts/asian-studies-ba/\n",
      "BIOLOGICAL ANTHROPOLOGY, B.S. https://bulletins.psu.edu/undergraduate/colleges/liberal-arts/biological-anthropology-bs/\n",
      "CHINESE, B.A. https://bulletins.psu.edu/undergraduate/colleges/liberal-arts/chinese-ba/\n",
      "CLASSICS AND ANCIENT MEDITERRANEAN STUDIES, B.A. https://bulletins.psu.edu/undergraduate/colleges/liberal-arts/classics-ancient-mediterranean-studies-ba/\n",
      "COMMUNICATION ARTS AND SCIENCES, B.A. (LIBERAL ARTS) https://bulletins.psu.edu/undergraduate/colleges/liberal-arts/communication-arts-sciences-ba/\n",
      "COMMUNICATION ARTS AND SCIENCES, B.S. https://bulletins.psu.edu/undergraduate/colleges/liberal-arts/communication-arts-sciences-bs/\n",
      "COMPARATIVE LITERATURE, B.A. https://bulletins.psu.edu/undergraduate/colleges/liberal-arts/comparative-literature-ba/\n",
      "CRIMINOLOGY, B.A. https://bulletins.psu.edu/undergraduate/colleges/liberal-arts/criminology-ba/\n",
      "CRIMINOLOGY, B.S. https://bulletins.psu.edu/undergraduate/colleges/liberal-arts/criminology-bs/\n",
      "ECONOMICS, B.A. (LIBERAL ARTS) https://bulletins.psu.edu/undergraduate/colleges/liberal-arts/economics-ba/\n",
      "ECONOMICS, B.S. https://bulletins.psu.edu/undergraduate/colleges/liberal-arts/economics-bs/\n",
      "ENGLISH, B.A. (LIBERAL ARTS) https://bulletins.psu.edu/undergraduate/colleges/liberal-arts/english-ba/\n",
      "FRENCH AND FRANCOPHONE STUDIES, B.A. https://bulletins.psu.edu/undergraduate/colleges/liberal-arts/french-francophone-studies-ba/\n",
      "FRENCH AND FRANCOPHONE STUDIES, B.S. https://bulletins.psu.edu/undergraduate/colleges/liberal-arts/french-francophone-studies-bs/\n",
      "GERMAN, B.A. https://bulletins.psu.edu/undergraduate/colleges/liberal-arts/german-ba/\n",
      "GERMAN, B.S. https://bulletins.psu.edu/undergraduate/colleges/liberal-arts/german-bs/\n",
      "GLOBAL AND INTERNATIONAL STUDIES MAJOR https://bulletins.psu.edu/undergraduate/colleges/liberal-arts/global-international-studies-major/\n",
      "GLOBAL AND INTERNATIONAL STUDIES, B.A. https://bulletins.psu.edu/undergraduate/colleges/liberal-arts/global-international-studies-ba/\n",
      "GLOBAL AND INTERNATIONAL STUDIES, B.S. https://bulletins.psu.edu/undergraduate/colleges/liberal-arts/global-international-studies-bs/\n",
      "HISTORY, B.A. (LIBERAL ARTS) https://bulletins.psu.edu/undergraduate/colleges/liberal-arts/history-ba/\n",
      "INTEGRATED SOCIAL SCIENCES, B.S. https://bulletins.psu.edu/undergraduate/colleges/liberal-arts/integrated-social-sciences-bs/\n",
      "INTERNATIONAL POLITICS, B.A. https://bulletins.psu.edu/undergraduate/colleges/liberal-arts/international-politics-ba/\n",
      "ITALIAN, B.A. https://bulletins.psu.edu/undergraduate/colleges/liberal-arts/italian-ba/\n",
      "ITALIAN, B.S. https://bulletins.psu.edu/undergraduate/colleges/liberal-arts/italian-bs/\n",
      "JAPANESE, B.A. https://bulletins.psu.edu/undergraduate/colleges/liberal-arts/japanese-ba/\n",
      "JEWISH STUDIES, B.A. https://bulletins.psu.edu/undergraduate/colleges/liberal-arts/jewish-studies-ba/\n",
      "LABOR AND EMPLOYMENT RELATIONS, B.A. https://bulletins.psu.edu/undergraduate/colleges/liberal-arts/labor-employment-relations-ba/\n",
      "LABOR AND EMPLOYMENT RELATIONS, B.S. https://bulletins.psu.edu/undergraduate/colleges/liberal-arts/labor-employment-relations-bs/\n",
      "LATIN AMERICAN STUDIES, B.A. https://bulletins.psu.edu/undergraduate/colleges/liberal-arts/latin-american-studies-ba/\n",
      "LAW AND SOCIETY, B.A. https://bulletins.psu.edu/undergraduate/colleges/liberal-arts/law-society-ba/\n",
      "LETTERS, ARTS, AND SCIENCES, B.A. (LIBERAL ARTS) https://bulletins.psu.edu/undergraduate/colleges/liberal-arts/letters-arts-sciences-ba/\n",
      "LIBERAL ARTS AND EARTH AND MINERAL SCIENCES CONCURRENT DEGREE; LIBERAL ARTS AND ENGINEERING CONCURRENT DEGREE (LIBERAL ARTS) https://bulletins.psu.edu/undergraduate/colleges/liberal-arts/liberal-arts-earth-mineral-sciences-ba-bs/\n",
      "MEDIEVAL STUDIES, B.A. https://bulletins.psu.edu/undergraduate/colleges/liberal-arts/medieval-studies-ba/\n",
      "ORGANIZATIONAL AND PROFESSIONAL COMMUNICATION, B.A. https://bulletins.psu.edu/undergraduate/colleges/liberal-arts/organizational-professional-communication-ba/\n",
      "ORGANIZATIONAL AND PROFESSIONAL COMMUNICATION, B.S. https://bulletins.psu.edu/undergraduate/colleges/liberal-arts/organizational-professional-communication-bs/\n",
      "ORGANIZATIONAL LEADERSHIP, B.A. https://bulletins.psu.edu/undergraduate/colleges/liberal-arts/organizational-leadership-ba/\n",
      "ORGANIZATIONAL LEADERSHIP, B.S. https://bulletins.psu.edu/undergraduate/colleges/liberal-arts/organizational-leadership-bs/\n",
      "PHILOSOPHY, B.A. https://bulletins.psu.edu/undergraduate/colleges/liberal-arts/philosophy-ba/\n",
      "POLITICAL SCIENCE, B.A. (LIBERAL ARTS) https://bulletins.psu.edu/undergraduate/colleges/liberal-arts/political-science-ba/\n",
      "POLITICAL SCIENCE, B.S. https://bulletins.psu.edu/undergraduate/colleges/liberal-arts/political-science-bs/\n"
     ]
    },
    {
     "name": "stdout",
     "output_type": "stream",
     "text": [
      "PSYCHOLOGY, B.A. (LIBERAL ARTS) https://bulletins.psu.edu/undergraduate/colleges/liberal-arts/psychology-ba/\n",
      "PSYCHOLOGY, B.S. (LIBERAL ARTS) https://bulletins.psu.edu/undergraduate/colleges/liberal-arts/psychology-bs/\n",
      "RUSSIAN TRANSLATION, B.S. https://bulletins.psu.edu/undergraduate/colleges/liberal-arts/russian-translation-bs/\n",
      "RUSSIAN, B.A. https://bulletins.psu.edu/undergraduate/colleges/liberal-arts/russian-ba/\n",
      "SOCIAL DATA ANALYTICS, B.S. https://bulletins.psu.edu/undergraduate/colleges/liberal-arts/social-data-analytics-bs/\n",
      "SOCIOLOGY, B.A. https://bulletins.psu.edu/undergraduate/colleges/liberal-arts/sociology-ba/\n",
      "SOCIOLOGY, B.S. (LIBERAL ARTS) https://bulletins.psu.edu/undergraduate/colleges/liberal-arts/sociology-bs/\n",
      "SPANISH, B.A. https://bulletins.psu.edu/undergraduate/colleges/liberal-arts/spanish-ba/\n",
      "SPANISH, B.S. https://bulletins.psu.edu/undergraduate/colleges/liberal-arts/spanish-bs/\n",
      "WOMEN'S STUDIES, B.A. https://bulletins.psu.edu/undergraduate/colleges/liberal-arts/womens-studies-ba/\n",
      "WOMEN'S STUDIES, B.S. https://bulletins.psu.edu/undergraduate/colleges/liberal-arts/womens-studies-bs/\n",
      "LABOR AND EMPLOYMENT RELATIONS, A.S. https://bulletins.psu.edu/undergraduate/colleges/liberal-arts/labor-employment-relations-as/\n",
      "LETTERS, ARTS, AND SCIENCES, A.A. (LIBERAL ARTS) https://bulletins.psu.edu/undergraduate/colleges/liberal-arts/letters-arts-sciences-aa/\n",
      "AFRICAN AMERICAN STUDIES, MINOR https://bulletins.psu.edu/undergraduate/colleges/liberal-arts/african-american-studies-minor/\n",
      "AFRICAN STUDIES, MINOR https://bulletins.psu.edu/undergraduate/colleges/liberal-arts/african-studies-minor/\n",
      "ANTHROPOLOGY, MINOR https://bulletins.psu.edu/undergraduate/colleges/liberal-arts/anthropology-minor/\n",
      "ARABIC LANGUAGE, MINOR https://bulletins.psu.edu/undergraduate/colleges/liberal-arts/arabic-language-minor/\n",
      "ASIAN STUDIES, MINOR https://bulletins.psu.edu/undergraduate/colleges/liberal-arts/asian-studies-minor/\n",
      "BLACK DIASPORA STUDIES, MINOR https://bulletins.psu.edu/undergraduate/colleges/liberal-arts/black-diaspora-studies-minor/\n",
      "BUSINESS AND THE LIBERAL ARTS, MINOR https://bulletins.psu.edu/undergraduate/colleges/liberal-arts/business-liberal-arts-minor/\n",
      "CHINESE LANGUAGE, MINOR https://bulletins.psu.edu/undergraduate/colleges/liberal-arts/chinese-language-minor/\n",
      "CLASSICS AND ANCIENT MEDITERRANEAN STUDIES, MINOR https://bulletins.psu.edu/undergraduate/colleges/liberal-arts/classics-ancient-mediterranean-studies-minor/\n",
      "COMMUNICATION ARTS AND SCIENCES, MINOR https://bulletins.psu.edu/undergraduate/colleges/liberal-arts/communication-arts-sciences-minor/\n",
      "CREATIVE WRITING, MINOR https://bulletins.psu.edu/undergraduate/colleges/liberal-arts/creative-writing-minor/\n",
      "DISPUTE MANAGEMENT AND RESOLUTION, MINOR https://bulletins.psu.edu/undergraduate/colleges/liberal-arts/dispute-management-resolution-minor/\n",
      "ECONOMICS, MINOR https://bulletins.psu.edu/undergraduate/colleges/liberal-arts/economics-minor/\n",
      "ENGLISH, MINOR (LIBERAL ARTS) https://bulletins.psu.edu/undergraduate/colleges/liberal-arts/english-minor/\n",
      "ETHICS, MINOR https://bulletins.psu.edu/undergraduate/colleges/liberal-arts/ethics-minor/\n",
      "FRENCH AND FRANCOPHONE STUDIES, MINOR https://bulletins.psu.edu/undergraduate/colleges/liberal-arts/french-francophone-studies-minor/\n",
      "GERMAN, MINOR https://bulletins.psu.edu/undergraduate/colleges/liberal-arts/german-minor/\n",
      "GLOBAL AND INTERNATIONAL STUDIES, MINOR https://bulletins.psu.edu/undergraduate/colleges/liberal-arts/global-international-studies-minor/\n",
      "GLOBAL SECURITY, MINOR https://bulletins.psu.edu/undergraduate/colleges/liberal-arts/global-security-minor/\n",
      "GREEK, MINOR https://bulletins.psu.edu/undergraduate/colleges/liberal-arts/greek-minor/\n",
      "HEBREW, MINOR https://bulletins.psu.edu/undergraduate/colleges/liberal-arts/hebrew-minor/\n",
      "HISTORY, MINOR (LIBERAL ARTS) https://bulletins.psu.edu/undergraduate/colleges/liberal-arts/history-minor/\n",
      "INFORMATION SCIENCES AND TECHNOLOGY FOR COMMUNICATION ARTS AND SCIENCES, MINOR https://bulletins.psu.edu/undergraduate/colleges/liberal-arts/information-sciences-technology-communication-arts-sciences-minor/\n",
      "INFORMATION SCIENCES AND TECHNOLOGY FOR LABOR STUDIES AND EMPLOYMENT RELATIONS, MINOR https://bulletins.psu.edu/undergraduate/colleges/liberal-arts/information-sciences-technology-labor-studies-employment-relations-minor/\n",
      "INFORMATION SYSTEMS AND STATISTICAL ANALYSIS, MINOR https://bulletins.psu.edu/undergraduate/colleges/liberal-arts/information-systems-statistical-analysis-minor/\n",
      "ITALIAN, MINOR https://bulletins.psu.edu/undergraduate/colleges/liberal-arts/italian-minor/\n",
      "JAPANESE LANGUAGE, MINOR https://bulletins.psu.edu/undergraduate/colleges/liberal-arts/japanese-language-minor/\n",
      "JEWISH STUDIES, MINOR https://bulletins.psu.edu/undergraduate/colleges/liberal-arts/jewish-studies-minor/\n",
      "KOREAN LANGUAGE, MINOR https://bulletins.psu.edu/undergraduate/colleges/liberal-arts/korean-language-minor/\n",
      "LABOR STUDIES AND EMPLOYMENT RELATIONS, MINOR https://bulletins.psu.edu/undergraduate/colleges/liberal-arts/labor-studies-employment-relations-minor/\n",
      "LATIN AMERICAN STUDIES, MINOR https://bulletins.psu.edu/undergraduate/colleges/liberal-arts/latin-american-studies-minor/\n",
      "LATIN, MINOR https://bulletins.psu.edu/undergraduate/colleges/liberal-arts/latin-minor/\n",
      "LATINA AND LATINO STUDIES, MINOR https://bulletins.psu.edu/undergraduate/colleges/liberal-arts/latina-latino-studies-minor/\n",
      "LINGUISTICS, MINOR https://bulletins.psu.edu/undergraduate/colleges/liberal-arts/linguistics-minor/\n",
      "MEDIEVAL STUDIES, MINOR https://bulletins.psu.edu/undergraduate/colleges/liberal-arts/medieval-studies-minor/\n",
      "MIDDLE EAST STUDIES, MINOR https://bulletins.psu.edu/undergraduate/colleges/liberal-arts/middle-east-studies-minor/\n",
      "ORGANIZATIONAL LEADERSHIP, MINOR https://bulletins.psu.edu/undergraduate/colleges/liberal-arts/organizational-leadership-minor/\n",
      "PENNSYLVANIA STUDIES, MINOR https://bulletins.psu.edu/undergraduate/colleges/liberal-arts/pennsylvania-studies-minor/\n",
      "PHILOSOPHY, MINOR https://bulletins.psu.edu/undergraduate/colleges/liberal-arts/philosophy-minor/\n",
      "POLITICAL SCIENCE, MINOR https://bulletins.psu.edu/undergraduate/colleges/liberal-arts/political-science-minor/\n",
      "PORTUGUESE, MINOR https://bulletins.psu.edu/undergraduate/colleges/liberal-arts/portuguese-minor/\n",
      "PSYCHOLOGY, MINOR https://bulletins.psu.edu/undergraduate/colleges/liberal-arts/psychology-minor/\n",
      "RELIGIOUS STUDIES, MINOR https://bulletins.psu.edu/undergraduate/colleges/liberal-arts/religious-studies-minor/\n",
      "RHETORIC, MINOR https://bulletins.psu.edu/undergraduate/colleges/liberal-arts/rhetoric-minor/\n",
      "RUSSIAN AREA STUDIES, MINOR https://bulletins.psu.edu/undergraduate/colleges/liberal-arts/russian-area-studies-minor/\n",
      "RUSSIAN TRANSLATION, MINOR https://bulletins.psu.edu/undergraduate/colleges/liberal-arts/russian-translation-minor/\n",
      "RUSSIAN, MINOR https://bulletins.psu.edu/undergraduate/colleges/liberal-arts/russian-minor/\n",
      "SEXUALITY AND GENDER STUDIES, MINOR https://bulletins.psu.edu/undergraduate/colleges/liberal-arts/sexuality-gender-studies-minor/\n",
      "SOCIOLOGY, MINOR https://bulletins.psu.edu/undergraduate/colleges/liberal-arts/sociology-minor/\n",
      "SPANISH, MINOR https://bulletins.psu.edu/undergraduate/colleges/liberal-arts/spanish-minor/\n",
      "TEACHING ENGLISH TO SPEAKERS OF OTHER LANGUAGES, MINOR https://bulletins.psu.edu/undergraduate/colleges/liberal-arts/teaching-english-speakers-other-languages-minor/\n",
      "TECHNICAL WRITING, MINOR https://bulletins.psu.edu/undergraduate/colleges/liberal-arts/technical-writing-minor/\n",
      "WOMEN'S STUDIES, MINOR https://bulletins.psu.edu/undergraduate/colleges/liberal-arts/womens-studies-minor/\n",
      "WORLD LITERATURE, MINOR https://bulletins.psu.edu/undergraduate/colleges/liberal-arts/world-literature-minor/\n",
      "DIVERSITY STUDIES, CERTIFICATE (LIBERAL ARTS) https://bulletins.psu.edu/undergraduate/colleges/liberal-arts/diversity-studies-certificate/\n",
      "FUNDRAISING AND ADVANCEMENT, CERTIFICATE https://bulletins.psu.edu/undergraduate/colleges/liberal-arts/fundraising-advancement-certificate/\n",
      "HOLOCAUST AND GENOCIDE STUDIES, CERTIFICATE https://bulletins.psu.edu/undergraduate/colleges/liberal-arts/holocaust-genocide-studies-certificate/\n",
      "LABOR STUDIES AND EMPLOYMENT RELATIONS, CERTIFICATE https://bulletins.psu.edu/undergraduate/colleges/liberal-arts/labor-studies-employment-relations-certificate/\n"
     ]
    },
    {
     "name": "stdout",
     "output_type": "stream",
     "text": [
      "ORGANIZATIONAL COMMUNICATION, CERTIFICATE https://bulletins.psu.edu/undergraduate/colleges/liberal-arts/organizational-communication-certificate/\n",
      "NURSING, B.S.N. https://bulletins.psu.edu/undergraduate/colleges/nursing/nursing-bsn/\n",
      "NURSING, R.N. TO B.S. https://bulletins.psu.edu/undergraduate/colleges/nursing/nursing-rn-to-bs/\n",
      "NURSING FORENSICS, CERTIFICATE https://bulletins.psu.edu/undergraduate/colleges/nursing/nursing-forensics-certificate/\n",
      "NURSING INFORMATICS, CERTIFICATE https://bulletins.psu.edu/undergraduate/colleges/nursing/nursing-informatics-certificate/\n",
      "NURSING MANAGEMENT, CERTIFICATE https://bulletins.psu.edu/undergraduate/colleges/nursing/nursing-management-certificate/\n",
      "ACCOUNTING, B.S. (ABINGTON) https://bulletins.psu.edu/undergraduate/colleges/abington/accounting-bs/\n",
      "AMERICAN STUDIES, B.A. (ABINGTON) https://bulletins.psu.edu/undergraduate/colleges/abington/american-studies-ba/\n",
      "ART, B.A. (ABINGTON) https://bulletins.psu.edu/undergraduate/colleges/abington/art-ba/\n",
      "BIOLOGY, B.S. (ABINGTON) https://bulletins.psu.edu/undergraduate/colleges/abington/biology-bs/\n",
      "BUSINESS, B.S. (ABINGTON) https://bulletins.psu.edu/undergraduate/colleges/abington/business-bs/\n",
      "CORPORATE COMMUNICATION, B.A. (ABINGTON) https://bulletins.psu.edu/undergraduate/colleges/abington/corporate-communication-ba/\n",
      "CRIMINAL JUSTICE, B.A. (ABINGTON) https://bulletins.psu.edu/undergraduate/colleges/abington/criminal-justice-ba/\n",
      "CRIMINAL JUSTICE, B.S. (ABINGTON) https://bulletins.psu.edu/undergraduate/colleges/abington/criminal-justice-bs/\n",
      "ENGLISH, B.A. (ABINGTON) https://bulletins.psu.edu/undergraduate/colleges/abington/english-ba/\n",
      "FINANCE, B.S. (ABINGTON) https://bulletins.psu.edu/undergraduate/colleges/abington/finance-bs/\n",
      "HISTORY, B.A. (ABINGTON) https://bulletins.psu.edu/undergraduate/colleges/abington/history-ba/\n",
      "INFORMATION SCIENCES AND TECHNOLOGY, B.S. (ABINGTON) https://bulletins.psu.edu/undergraduate/colleges/abington/information-sciences-technology-bs/\n",
      "INTEGRATIVE ARTS, B.A. (ABINGTON) https://bulletins.psu.edu/undergraduate/colleges/abington/integrative-arts-ba/\n",
      "LETTERS, ARTS, AND SCIENCES, B.A. (ABINGTON) https://bulletins.psu.edu/undergraduate/colleges/abington/letters-arts-sciences-ba/\n",
      "PSYCHOLOGICAL AND SOCIAL SCIENCES, B.A. https://bulletins.psu.edu/undergraduate/colleges/abington/psychological-social-sciences-ba/\n",
      "PSYCHOLOGICAL AND SOCIAL SCIENCES, B.S. https://bulletins.psu.edu/undergraduate/colleges/abington/psychological-social-sciences-bs/\n",
      "REHABILITATION AND HUMAN SERVICES, B.S. (ABINGTON) https://bulletins.psu.edu/undergraduate/colleges/abington/rehabilitation-human-services-bs/\n",
      "SCIENCE, B.S. (ABINGTON) https://bulletins.psu.edu/undergraduate/colleges/abington/science-bs/\n",
      "BUSINESS ADMINISTRATION, A.S. (ABINGTON) https://bulletins.psu.edu/undergraduate/colleges/abington/business-administration-as/\n",
      "LETTERS, ARTS, AND SCIENCES, A.A. (ABINGTON) https://bulletins.psu.edu/undergraduate/colleges/abington/letters-arts-sciences-aa/\n",
      ".NET PROGRAMMING, CERTIFICATE https://bulletins.psu.edu/undergraduate/colleges/abington/net-programming-certificate/\n",
      "HEALTH SCIENCE PROFESSIONS I, CERTIFICATE https://bulletins.psu.edu/undergraduate/colleges/abington/health-science-professions-i-certificate/\n",
      "PRE-MEDICAL/HEALTHCARE, CERTIFICATE https://bulletins.psu.edu/undergraduate/colleges/abington/pre-medical-healthcare-certificate/\n",
      "PROJECT MANAGEMENT, CERTIFICATE https://bulletins.psu.edu/undergraduate/colleges/abington/project-management-certificate/\n",
      "TECHNICAL AND BUSINESS WRITING, CERTIFICATE https://bulletins.psu.edu/undergraduate/colleges/abington/technical-business-writing-certificate/\n",
      "ACCOUNTING, B.S. (ALTOONA) https://bulletins.psu.edu/undergraduate/colleges/altoona/accounting-bs/\n",
      "BIOLOGY, B.S. (ALTOONA) https://bulletins.psu.edu/undergraduate/colleges/altoona/biology-bs/\n",
      "BUSINESS, B.S. (ALTOONA) https://bulletins.psu.edu/undergraduate/colleges/altoona/business-bs/\n",
      "COMMUNICATIONS, B.A. (ALTOONA) https://bulletins.psu.edu/undergraduate/colleges/altoona/communications-ba/\n",
      "CRIMINAL JUSTICE, B.A. (ALTOONA) https://bulletins.psu.edu/undergraduate/colleges/altoona/criminal-justice-ba/\n",
      "CRIMINAL JUSTICE, B.S. (ALTOONA) https://bulletins.psu.edu/undergraduate/colleges/altoona/criminal-justice-bs/\n",
      "ELEMENTARY AND KINDERGARTEN EDUCATION, B.S. (ALTOONA) https://bulletins.psu.edu/undergraduate/colleges/altoona/elementary-kindergarten-education-bs/\n",
      "ENGLISH, B.A. (ALTOONA) https://bulletins.psu.edu/undergraduate/colleges/altoona/english-ba/\n",
      "ENVIRONMENTAL STUDIES, B.A. https://bulletins.psu.edu/undergraduate/colleges/altoona/environmental-studies-ba/\n",
      "ENVIRONMENTAL STUDIES, B.S. https://bulletins.psu.edu/undergraduate/colleges/altoona/environmental-studies-bs/\n",
      "HISTORY, B.A. (ALTOONA) https://bulletins.psu.edu/undergraduate/colleges/altoona/history-ba/\n",
      "HUMAN DEVELOPMENT AND FAMILY STUDIES, B.S. (ALTOONA) https://bulletins.psu.edu/undergraduate/colleges/altoona/human-development-family-studies-bs/\n",
      "INTEGRATIVE ARTS, B.A. (ALTOONA) https://bulletins.psu.edu/undergraduate/colleges/altoona/integrative-arts-ba/\n",
      "KINESIOLOGY, B.S. (ALTOONA) https://bulletins.psu.edu/undergraduate/colleges/altoona/kinesiology-bs/\n",
      "LETTERS, ARTS, AND SCIENCES, B.A. (ALTOONA) https://bulletins.psu.edu/undergraduate/colleges/altoona/letters-arts-sciences-ba/\n",
      "MATHEMATICS, B.A. (ALTOONA) https://bulletins.psu.edu/undergraduate/colleges/altoona/mathematics-ba/\n",
      "MATHEMATICS, B.S. (ALTOONA) https://bulletins.psu.edu/undergraduate/colleges/altoona/mathematics-bs/\n",
      "POLITICAL SCIENCE, B.A. (ALTOONA) https://bulletins.psu.edu/undergraduate/colleges/altoona/political-science-ba/\n",
      "PSYCHOLOGY, B.A. (ALTOONA) https://bulletins.psu.edu/undergraduate/colleges/altoona/psychology-ba/\n",
      "PSYCHOLOGY, B.S. (ALTOONA) https://bulletins.psu.edu/undergraduate/colleges/altoona/psychology-bs/\n",
      "RAIL TRANSPORTATION ENGINEERING, B.S. https://bulletins.psu.edu/undergraduate/colleges/altoona/rail-transportation-engineering-bs/\n",
      "SCIENCE, B.S. (ALTOONA) https://bulletins.psu.edu/undergraduate/colleges/altoona/science-bs/\n",
      "SECURITY AND RISK ANALYSIS, B.S. (ALTOONA) https://bulletins.psu.edu/undergraduate/colleges/altoona/security-risk-analysis-bs/\n",
      "VISUAL ART STUDIES, B.A. https://bulletins.psu.edu/undergraduate/colleges/altoona/visual-art-studies-ba/\n",
      "BUSINESS ADMINISTRATION, A.S. (ALTOONA) https://bulletins.psu.edu/undergraduate/colleges/altoona/business-administration-as/\n",
      "CRIMINAL JUSTICE, A.S. (ALTOONA) https://bulletins.psu.edu/undergraduate/colleges/altoona/criminal-justice-as/\n",
      "HUMAN DEVELOPMENT AND FAMILY STUDIES, A.S. (ALTOONA) https://bulletins.psu.edu/undergraduate/colleges/altoona/human-development-family-studies-as/\n",
      "LETTERS, ARTS, AND SCIENCES, A.A. (ALTOONA) https://bulletins.psu.edu/undergraduate/colleges/altoona/letters-arts-sciences-aa/\n",
      "SCIENCE, A.S. https://bulletins.psu.edu/undergraduate/colleges/altoona/science-as/\n",
      "COMMUNICATIONS, MINOR (ALTOONA) https://bulletins.psu.edu/undergraduate/colleges/altoona/communications-minor/\n",
      "CRIMINAL JUSTICE, MINOR https://bulletins.psu.edu/undergraduate/colleges/altoona/criminal-justice-minor/\n",
      "DANCE STUDIES, MINOR https://bulletins.psu.edu/undergraduate/colleges/altoona/dance-studies-minor/\n",
      "ENTREPRENEURSHIP, MINOR https://bulletins.psu.edu/undergraduate/colleges/altoona/entrepreneurship-minor/\n",
      "ENVIRONMENTAL STUDIES, MINOR https://bulletins.psu.edu/undergraduate/colleges/altoona/environmental-studies-minor/\n",
      "GLOBAL LANGUAGE AND CULTURE, MINOR https://bulletins.psu.edu/undergraduate/colleges/altoona/global-language-culture-minor/\n",
      "MATHEMATICS APPLICATIONS, MINOR https://bulletins.psu.edu/undergraduate/colleges/altoona/mathematics-applications-minor/\n",
      "AUTOCAD, CERTIFICATE https://bulletins.psu.edu/undergraduate/colleges/altoona/autocad-certificate/\n",
      "INFORMATION SYSTEMS AUDITING, CERTIFICATE https://bulletins.psu.edu/undergraduate/colleges/altoona/information-systems-auditing-certificate/\n",
      "INFORMATION SYSTEMS SECURITY, CERTIFICATE https://bulletins.psu.edu/undergraduate/colleges/altoona/information-systems-security-certificate/\n",
      "ACCOUNTING, B.S. (BERKS) https://bulletins.psu.edu/undergraduate/colleges/berks/accounting-bs/\n",
      "APPLIED PSYCHOLOGY, B.A. https://bulletins.psu.edu/undergraduate/colleges/berks/applied-psychology-ba/\n"
     ]
    },
    {
     "name": "stdout",
     "output_type": "stream",
     "text": [
      "BIOCHEMISTRY AND MOLECULAR BIOLOGY, B.S. (BERKS) https://bulletins.psu.edu/undergraduate/colleges/berks/biochemistry-molecular-biology-bs/\n",
      "BIOLOGY, B.S. (BERKS) https://bulletins.psu.edu/undergraduate/colleges/berks/biology-bs/\n",
      "BUSINESS, B.S. (BERKS) https://bulletins.psu.edu/undergraduate/colleges/berks/business-bs/\n",
      "COMMUNICATION ARTS AND SCIENCES, B.A. (BERKS) https://bulletins.psu.edu/undergraduate/colleges/berks/communication-arts-sciences-ba/\n",
      "CRIMINAL JUSTICE, B.A. (BERKS) https://bulletins.psu.edu/undergraduate/colleges/berks/criminal-justice-ba/\n",
      "CRIMINAL JUSTICE, B.S. (BERKS) https://bulletins.psu.edu/undergraduate/colleges/berks/criminal-justice-bs/\n",
      "ELEMENTARY AND KINDERGARTEN EDUCATION, B.S. (BERKS) https://bulletins.psu.edu/undergraduate/colleges/berks/elementary-kindergarten-education-bs/\n",
      "GLOBAL STUDIES, B.A. https://bulletins.psu.edu/undergraduate/colleges/berks/global-studies-ba/\n",
      "HOSPITALITY MANAGEMENT, B.S. (BERKS) https://bulletins.psu.edu/undergraduate/colleges/berks/hospitality-management-bs/\n",
      "INFORMATION SCIENCES AND TECHNOLOGY, B.S. (BERKS) https://bulletins.psu.edu/undergraduate/colleges/berks/information-sciences-technology-bs/\n",
      "KINESIOLOGY, B.S. (BERKS) https://bulletins.psu.edu/undergraduate/colleges/berks/kinesiology-bs/\n",
      "MECHANICAL ENGINEERING, B.S. (BERKS) https://bulletins.psu.edu/undergraduate/colleges/berks/mechanical-engineering-bs/\n",
      "PROFESSIONAL WRITING, B.A. https://bulletins.psu.edu/undergraduate/colleges/berks/professional-writing-ba/\n",
      "REHABILITATION AND HUMAN SERVICES, B.S. (BERKS) https://bulletins.psu.edu/undergraduate/colleges/berks/rehabilitation-human-services-bs/\n",
      "SCIENCE, B.S. (BERKS) https://bulletins.psu.edu/undergraduate/colleges/berks/science-bs/\n",
      "SECURITY AND RISK ANALYSIS, B.S. (BERKS) https://bulletins.psu.edu/undergraduate/colleges/berks/security-risk-analysis-bs/\n",
      "THEATRE, B.A. (BERKS) https://bulletins.psu.edu/undergraduate/colleges/berks/theatre-ba/\n",
      "BUSINESS ADMINISTRATION, A.S. (BERKS) https://bulletins.psu.edu/undergraduate/colleges/berks/business-administration-as/\n",
      "INFORMATION SCIENCES AND TECHNOLOGY, A.S. (BERKS) https://bulletins.psu.edu/undergraduate/colleges/berks/information-sciences-technology-as/\n",
      "LETTERS, ARTS, AND SCIENCES, A.A. (BERKS) https://bulletins.psu.edu/undergraduate/colleges/berks/letters-arts-sciences-aa/\n",
      "OCCUPATIONAL THERAPY, A.S. (BERKS) https://bulletins.psu.edu/undergraduate/colleges/berks/occupational-therapy-as/\n",
      "GLOBAL STUDIES, MINOR https://bulletins.psu.edu/undergraduate/colleges/berks/global-studies-minor/\n",
      "PROFESSIONAL WRITING, MINOR https://bulletins.psu.edu/undergraduate/colleges/berks/professional-writing-minor/\n",
      "FOUNDATIONS OF EMPLOYMENT RELATIONS AND LEADERSHIP, CERTIFICATE https://bulletins.psu.edu/undergraduate/colleges/berks/foundations-employment-relations-leadership-certificate/\n",
      "ACCOUNTING, B.S. (BEHREND) https://bulletins.psu.edu/undergraduate/colleges/behrend/accounting-bs/\n",
      "ARTS ADMINISTRATION, B.A. (BEHREND) https://bulletins.psu.edu/undergraduate/colleges/behrend/arts-administration-ba/\n",
      "BIOLOGY, B.S. (BEHREND) https://bulletins.psu.edu/undergraduate/colleges/behrend/biology-bs/\n",
      "BUSINESS ECONOMICS, B.S. https://bulletins.psu.edu/undergraduate/colleges/behrend/business-economics-bs/\n",
      "CHEMISTRY, B.S. (BEHREND) https://bulletins.psu.edu/undergraduate/colleges/behrend/chemistry-bs/\n",
      "COMMUNICATION, B.A. https://bulletins.psu.edu/undergraduate/colleges/behrend/communication-ba/\n",
      "COMPUTER ENGINEERING, B.S. (BEHREND) https://bulletins.psu.edu/undergraduate/colleges/behrend/computer-engineering-bs/\n",
      "COMPUTER SCIENCE, B.S. (BEHREND) https://bulletins.psu.edu/undergraduate/colleges/behrend/computer-science-bs/\n",
      "CREATIVE WRITING, B.F.A. https://bulletins.psu.edu/undergraduate/colleges/behrend/creative-writing-bfa/\n",
      "DIGITAL MEDIA, ARTS, AND TECHNOLOGY, B.A. https://bulletins.psu.edu/undergraduate/colleges/behrend/digital-media-arts-technology-ba/\n",
      "ECONOMICS, B.A. (BEHREND) https://bulletins.psu.edu/undergraduate/colleges/behrend/economics-ba/\n",
      "ELECTRICAL AND COMPUTER ENGINEERING TECHNOLOGY, B.S. https://bulletins.psu.edu/undergraduate/colleges/behrend/electrical-computer-engineering-technology-bs/\n",
      "ELECTRICAL ENGINEERING, B.S. (BEHREND) https://bulletins.psu.edu/undergraduate/colleges/behrend/electrical-engineering-bs/\n",
      "ENGLISH, B.A. (BEHREND) https://bulletins.psu.edu/undergraduate/colleges/behrend/english-ba/\n",
      "ENVIRONMENTAL SCIENCE, B.S. https://bulletins.psu.edu/undergraduate/colleges/behrend/environmental-science-bs/\n",
      "FINANCE, B.S. (BEHREND) https://bulletins.psu.edu/undergraduate/colleges/behrend/finance-bs/\n",
      "GENERAL ARTS AND SCIENCES, B.A. https://bulletins.psu.edu/undergraduate/colleges/behrend/general-arts-sciences-ba/\n",
      "HISTORY, B.A. (BEHREND) https://bulletins.psu.edu/undergraduate/colleges/behrend/history-ba/\n",
      "INDUSTRIAL ENGINEERING, B.S. (BEHREND) https://bulletins.psu.edu/undergraduate/colleges/behrend/industrial-engineering-bs/\n",
      "INTERDISCIPLINARY BUSINESS WITH ENGINEERING STUDIES, B.S. https://bulletins.psu.edu/undergraduate/colleges/behrend/interdisciplinary-business-engineering-studies-bs/\n",
      "INTERNATIONAL BUSINESS, B.S. https://bulletins.psu.edu/undergraduate/colleges/behrend/international-business-bs/\n",
      "MANAGEMENT INFORMATION SYSTEMS, B.S. (BEHREND) https://bulletins.psu.edu/undergraduate/colleges/behrend/management-information-systems-bs/\n",
      "MARKETING, B.S. (BEHREND) https://bulletins.psu.edu/undergraduate/colleges/behrend/marketing-bs/\n",
      "MATHEMATICS, B.S. (BEHREND) https://bulletins.psu.edu/undergraduate/colleges/behrend/mathematics-bs/\n",
      "MECHANICAL ENGINEERING TECHNOLOGY, B.S. (BEHREND) https://bulletins.psu.edu/undergraduate/colleges/behrend/mechanical-engineering-technology-bs/\n",
      "MECHANICAL ENGINEERING, B.S. (BEHREND) https://bulletins.psu.edu/undergraduate/colleges/behrend/mechanical-engineering-bs/\n",
      "PHYSICS, B.S. (BEHREND) https://bulletins.psu.edu/undergraduate/colleges/behrend/physics-bs/\n",
      "PLASTICS ENGINEERING TECHNOLOGY, B.S. https://bulletins.psu.edu/undergraduate/colleges/behrend/plastics-engineering-technology-bs/\n",
      "POLITICAL SCIENCE, B.A. (BEHREND) https://bulletins.psu.edu/undergraduate/colleges/behrend/political-science-ba/\n",
      "PROJECT AND SUPPLY CHAIN MANAGEMENT, B.S. (BEHREND) https://bulletins.psu.edu/undergraduate/colleges/behrend/project-supply-chain-management-bs/\n",
      "PSYCHOLOGY, B.A. (BEHREND) https://bulletins.psu.edu/undergraduate/colleges/behrend/psychology-ba/\n",
      "PSYCHOLOGY, B.S. (BEHREND) https://bulletins.psu.edu/undergraduate/colleges/behrend/psychology-bs/\n",
      "SCIENCE, B.S. (BEHREND) https://bulletins.psu.edu/undergraduate/colleges/behrend/science-bs/\n",
      "SECONDARY EDUCATION, B.S. (BEHREND) https://bulletins.psu.edu/undergraduate/colleges/behrend/secondary-education-bs/\n",
      "SOFTWARE ENGINEERING, B.S. https://bulletins.psu.edu/undergraduate/colleges/behrend/software-engineering-bs/\n",
      "GENERAL BUSINESS, A.S. https://bulletins.psu.edu/undergraduate/colleges/behrend/general-business-as/\n",
      "LETTERS, ARTS, AND SCIENCES, A.A. (BEHREND) https://bulletins.psu.edu/undergraduate/colleges/behrend/letters-arts-sciences-aa/\n",
      "ACCOUNTING, MINOR https://bulletins.psu.edu/undergraduate/colleges/behrend/accounting-minor/\n",
      "APPLIED ECONOMICS, MINOR https://bulletins.psu.edu/undergraduate/colleges/behrend/applied-economics-minor/\n",
      "BIOLOGY, MINOR (BEHREND) https://bulletins.psu.edu/undergraduate/colleges/behrend/biology-minor/\n",
      "COMMUNICATION ARTS AND MASS MEDIA, MINOR https://bulletins.psu.edu/undergraduate/colleges/behrend/communication-arts-mass-media-minor/\n",
      "COMPUTER ENGINEERING, MINOR https://bulletins.psu.edu/undergraduate/colleges/behrend/computer-engineering-minor/\n",
      "COMPUTER SCIENCE, MINOR (BEHREND) https://bulletins.psu.edu/undergraduate/colleges/behrend/computer-science-minor/\n",
      "CRIME, LAW, AND PSYCHOLOGY, MINOR https://bulletins.psu.edu/undergraduate/colleges/behrend/crime-law-psychology-minor/\n",
      "ENGLISH, MINOR (BEHREND) https://bulletins.psu.edu/undergraduate/colleges/behrend/english-minor/\n",
      "FINANCE, MINOR https://bulletins.psu.edu/undergraduate/colleges/behrend/finance-minor/\n",
      "GAME DEVELOPMENT, MINOR https://bulletins.psu.edu/undergraduate/colleges/behrend/game-development-minor/\n",
      "HISTORY, MINOR (BEHREND) https://bulletins.psu.edu/undergraduate/colleges/behrend/history-minor/\n",
      "MANAGEMENT INFORMATION SYSTEMS, MINOR https://bulletins.psu.edu/undergraduate/colleges/behrend/management-information-systems-minor/\n"
     ]
    },
    {
     "name": "stdout",
     "output_type": "stream",
     "text": [
      "MANAGEMENT, MINOR https://bulletins.psu.edu/undergraduate/colleges/behrend/management-minor/\n",
      "MARKETING, MINOR https://bulletins.psu.edu/undergraduate/colleges/behrend/marketing-minor/\n",
      "MATHEMATICS, MINOR (BEHREND) https://bulletins.psu.edu/undergraduate/colleges/behrend/mathematics-minor/\n",
      "OPERATIONS AND SUPPLY CHAIN MANAGEMENT, MINOR https://bulletins.psu.edu/undergraduate/colleges/behrend/operations-supply-chain-management-minor/\n",
      "POLITICS AND GOVERNMENT, MINOR https://bulletins.psu.edu/undergraduate/colleges/behrend/politics-government-minor/\n",
      "PROJECT AND SUPPLY CHAIN MANAGEMENT, MINOR https://bulletins.psu.edu/undergraduate/colleges/behrend/project-supply-chain-management-minor/\n",
      "PSYCHOLOGICAL SCIENCE, MINOR https://bulletins.psu.edu/undergraduate/colleges/behrend/psychological-science-minor/\n",
      "STATISTICS, MINOR (BEHREND) https://bulletins.psu.edu/undergraduate/colleges/behrend/statistics-minor/\n",
      "TECHNICAL SALES, MINOR https://bulletins.psu.edu/undergraduate/colleges/behrend/technical-sales-minor/\n",
      "TRANSNATIONAL PERSPECTIVES, MINOR https://bulletins.psu.edu/undergraduate/colleges/behrend/transnational-perspectives-minor/\n",
      "ACTUARIAL MATHEMATICS AND STATISTICS, CERTIFICATE https://bulletins.psu.edu/undergraduate/colleges/behrend/actuarial-mathematics-statistics-certificate/\n",
      "ADVERTISING, CERTIFICATE https://bulletins.psu.edu/undergraduate/colleges/behrend/advertising-certificate/\n",
      "BEHAVIORAL HEALTH AND COUNSELING PSYCHOLOGY, CERTIFICATE https://bulletins.psu.edu/undergraduate/colleges/behrend/behavioral-health-counseling-psychology-certificate/\n",
      "CHILD DEVELOPMENT, CERTIFICATE https://bulletins.psu.edu/undergraduate/colleges/behrend/child-development-certificate/\n",
      "CRIME, PSYCHOLOGY, AND PUBLIC POLICY, CERTIFICATE https://bulletins.psu.edu/undergraduate/colleges/behrend/crime-psychology-public-policy-certificate/\n",
      "ENTERPRISE RESOURCE PLANNING WITH ORACLE, CERTIFICATE https://bulletins.psu.edu/undergraduate/colleges/behrend/enterprise-resource-planning-oracle-certificate/\n",
      "ENTERPRISE RESOURCE PLANNING WITH SAP, CERTIFICATE https://bulletins.psu.edu/undergraduate/colleges/behrend/erp-with-sap-certificate/\n",
      "FINANCIAL CONTROLLERSHIP, CERTIFICATE https://bulletins.psu.edu/undergraduate/colleges/behrend/financial-controllership-certificate/\n",
      "FINANCIAL PLANNING, CERTIFICATE https://bulletins.psu.edu/undergraduate/colleges/behrend/financial-planning-certificate/\n",
      "FINANCIAL RISK MANAGEMENT, CERTIFICATE https://bulletins.psu.edu/undergraduate/colleges/behrend/financial-risk-management-certificate/\n",
      "FINANCIAL SERVICES SALES, CERTIFICATE https://bulletins.psu.edu/undergraduate/colleges/behrend/financial-services-sales-certificate/\n",
      "GERMAN STUDIES, CERTIFICATE https://bulletins.psu.edu/undergraduate/colleges/behrend/german-studies-certificate/\n",
      "GLOBAL AWARENESS, CERTIFICATE https://bulletins.psu.edu/undergraduate/colleges/behrend/global-awareness-certificate/\n",
      "HUMAN FACTORS, CERTIFICATE https://bulletins.psu.edu/undergraduate/colleges/behrend/human-factors-certificate/\n",
      "LEGAL STUDIES, CERTIFICATE https://bulletins.psu.edu/undergraduate/colleges/behrend/legal-studies-certificate/\n",
      "MEDICAL PLASTICS, CERTIFICATE https://bulletins.psu.edu/undergraduate/colleges/behrend/medical-plastics-certificate/\n",
      "ORACLE EBUSINESS SUITE, CERTIFICATE https://bulletins.psu.edu/undergraduate/colleges/behrend/oracle-ebusiness-suite-certificate/\n",
      "PLASTICS PROCESSING, CERTIFICATE https://bulletins.psu.edu/undergraduate/colleges/behrend/plastics-processing-certificate/\n",
      "PREMEDICAL SCIENCES, CERTIFICATE https://bulletins.psu.edu/undergraduate/colleges/behrend/premedical-sciences-certificate/\n",
      "PUBLIC RELATIONS, CERTIFICATE https://bulletins.psu.edu/undergraduate/colleges/behrend/public-relations-certificate/\n",
      "SYSTEMS, APPLICATIONS, AND PRODUCTS IN DATA PROCESSING, CERTIFICATE https://bulletins.psu.edu/undergraduate/colleges/behrend/systems-applications-products-data-processing-certificate/\n",
      "TRAUMA STUDIES, CERTIFICATE https://bulletins.psu.edu/undergraduate/colleges/behrend/trauma-studies-certificate/\n",
      "ACCOUNTING, B.S. (CAPITAL) https://bulletins.psu.edu/undergraduate/colleges/capital/accounting-bs/\n",
      "AMERICAN STUDIES, B.A. (CAPITAL) https://bulletins.psu.edu/undergraduate/colleges/capital/american-studies-ba/\n",
      "BIOLOGY, B.S. (CAPITAL) https://bulletins.psu.edu/undergraduate/colleges/capital/biology-bs/\n",
      "CIVIL ENGINEERING, B.S. (CAPITAL) https://bulletins.psu.edu/undergraduate/colleges/capital/civil-engineering-bs/\n",
      "COMMUNICATIONS, B.A. (CAPITAL) https://bulletins.psu.edu/undergraduate/colleges/capital/communications-ba/\n",
      "COMPUTER SCIENCE, B.S. (CAPITAL) https://bulletins.psu.edu/undergraduate/colleges/capital/computer-science-bs/\n",
      "CRIMINAL JUSTICE, B.S. (CAPITAL) https://bulletins.psu.edu/undergraduate/colleges/capital/criminal-justice-bs/\n",
      "ELECTRICAL ENGINEERING TECHNOLOGY, B.S. https://bulletins.psu.edu/undergraduate/colleges/capital/electrical-engineering-technology-bs/\n",
      "ELECTRICAL ENGINEERING, B.S. (CAPITAL) https://bulletins.psu.edu/undergraduate/colleges/capital/electrical-engineering-bs/\n",
      "ELEMENTARY EDUCATION, B.EL.ED. https://bulletins.psu.edu/undergraduate/colleges/capital/elementary-education-beled/\n",
      "ENGLISH, B.HUM. https://bulletins.psu.edu/undergraduate/colleges/capital/english-bhum/\n",
      "FINANCE, B.S. (CAPITAL) https://bulletins.psu.edu/undergraduate/colleges/capital/finance-bs/\n",
      "HEALTH POLICY AND ADMINISTRATION, B.S. (CAPITAL) https://bulletins.psu.edu/undergraduate/colleges/capital/health-policy-administration-bs/\n",
      "HUMAN DEVELOPMENT AND FAMILY STUDIES, B.S. (CAPITAL) https://bulletins.psu.edu/undergraduate/colleges/capital/human-development-family-studies-bs/\n",
      "HUMANITIES, B.A. https://bulletins.psu.edu/undergraduate/colleges/capital/humanities-ba/\n",
      "INFORMATION SCIENCES AND TECHNOLOGY, B.S. (CAPITAL) https://bulletins.psu.edu/undergraduate/colleges/capital/information-sciences-technology-bs/\n",
      "INFORMATION SYSTEMS, B.S. https://bulletins.psu.edu/undergraduate/colleges/capital/information-systems-bs/\n",
      "KINESIOLOGY, B.S. (CAPITAL) https://bulletins.psu.edu/undergraduate/colleges/capital/kinesiology-bs/\n",
      "MANAGEMENT, B.S. (CAPITAL) https://bulletins.psu.edu/undergraduate/colleges/capital/management-bs/\n",
      "MARKETING, B.S. (CAPITAL) https://bulletins.psu.edu/undergraduate/colleges/capital/marketing-bs/\n",
      "MATHEMATICAL SCIENCES, B.S. https://bulletins.psu.edu/undergraduate/colleges/capital/mathematical-sciences-bs/\n",
      "MECHANICAL ENGINEERING TECHNOLOGY, B.S. (CAPITAL) https://bulletins.psu.edu/undergraduate/colleges/capital/mechanical-engineering-technology-bs/\n",
      "MECHANICAL ENGINEERING, B.S. (CAPITAL) https://bulletins.psu.edu/undergraduate/colleges/capital/mechanical-engineering-bs/\n",
      "POLITICAL SCIENCE, B.A. (CAPITAL) https://bulletins.psu.edu/undergraduate/colleges/capital/political-science-ba/\n",
      "PROJECT AND SUPPLY CHAIN MANAGEMENT, B.S. (CAPITAL) https://bulletins.psu.edu/undergraduate/colleges/capital/project-supply-chain-management-bs/\n",
      "PSYCHOLOGY, B.S. (CAPITAL) https://bulletins.psu.edu/undergraduate/colleges/capital/psychology-bs/\n",
      "PUBLIC POLICY, B.S. https://bulletins.psu.edu/undergraduate/colleges/capital/public-policy-bs/\n",
      "SCIENCE, B.S. (CAPITAL) https://bulletins.psu.edu/undergraduate/colleges/capital/science-bs/\n",
      "SECONDARY EDUCATION SOCIAL STUDIES, B.SOSC. https://bulletins.psu.edu/undergraduate/colleges/capital/secondary-education-social-studies-bsosc/\n",
      "SECURITY AND RISK ANALYSIS, B.S. (CAPITAL) https://bulletins.psu.edu/undergraduate/colleges/capital/security-risk-analysis-bs/\n",
      "SOCIOLOGY, B.S. (CAPITAL) https://bulletins.psu.edu/undergraduate/colleges/capital/sociology-bs/\n",
      "STRUCTURAL DESIGN AND CONSTRUCTION ENGINEERING TECHNOLOGY, B.S. https://bulletins.psu.edu/undergraduate/colleges/capital/structural-design-construction-engineering-technology-bs/\n",
      "BUSINESS ADMINISTRATION, A.S. (CAPITAL) https://bulletins.psu.edu/undergraduate/colleges/capital/business-administration-as/\n",
      "CRIMINAL JUSTICE, A.S. (CAPITAL) https://bulletins.psu.edu/undergraduate/colleges/capital/criminal-justice-as/\n",
      "LETTERS, ARTS, AND SCIENCES, A.A. (CAPITAL) https://bulletins.psu.edu/undergraduate/colleges/capital/letters-arts-sciences-aa/\n",
      "AMERICAN STUDIES, MINOR https://bulletins.psu.edu/undergraduate/colleges/capital/american-studies-minor/\n",
      "BUSINESS ADMINISTRATION, MINOR https://bulletins.psu.edu/undergraduate/colleges/capital/business-administration-minor/\n"
     ]
    },
    {
     "name": "stdout",
     "output_type": "stream",
     "text": [
      "COMMUNICATIONS, MINOR (CAPITAL) https://bulletins.psu.edu/undergraduate/colleges/capital/communications-minor/\n",
      "COMPUTER SCIENCE, MINOR (CAPITAL) https://bulletins.psu.edu/undergraduate/colleges/capital/computer-science-minor/\n",
      "HOMELAND SECURITY, MINOR https://bulletins.psu.edu/undergraduate/colleges/capital/homeland-security-minor/\n",
      "HUMAN RESOURCE MANAGEMENT, MINOR https://bulletins.psu.edu/undergraduate/colleges/capital/human-resource-management-minor/\n",
      "INFORMATION SCIENCES AND TECHNOLOGY FOR ACCOUNTING, MINOR https://bulletins.psu.edu/undergraduate/colleges/capital/information-sciences-technology-accounting-minor/\n",
      "INFORMATION SCIENCES AND TECHNOLOGY/FINANCE, MINOR https://bulletins.psu.edu/undergraduate/colleges/capital/information-sciences-technology-finance-minor/\n",
      "INTERNATIONAL BUSINESS ADMINISTRATION, MINOR https://bulletins.psu.edu/undergraduate/colleges/capital/international-business-administration-minor/\n",
      "MATERIALS SCIENCE AND ENGINEERING, MINOR https://bulletins.psu.edu/undergraduate/colleges/capital/materials-science-engineering-minor/\n",
      "MECHATRONICS TECHNOLOGY, MINOR https://bulletins.psu.edu/undergraduate/colleges/capital/mechatronics-technology-minor/\n",
      "MECHATRONICS, MINOR https://bulletins.psu.edu/undergraduate/colleges/capital/mechatronics-minor/\n",
      "WRITING, MINOR https://bulletins.psu.edu/undergraduate/colleges/capital/writing-minor/\n",
      "ACCOUNTING, B.S. (BUSINESS) https://bulletins.psu.edu/undergraduate/colleges/smeal-business/accounting-bs/\n",
      "CORPORATE INNOVATION AND ENTREPRENEURSHIP, B.S. https://bulletins.psu.edu/undergraduate/colleges/smeal-business/corporate-innovation-entrepreneurship-bs/\n",
      "FINANCE, B.S. (BUSINESS) https://bulletins.psu.edu/undergraduate/colleges/smeal-business/finance-bs/\n",
      "MANAGEMENT INFORMATION SYSTEMS, B.S. (BUSINESS) https://bulletins.psu.edu/undergraduate/colleges/smeal-business/management-information-systems-bs/\n",
      "MANAGEMENT, B.S. (BUSINESS) https://bulletins.psu.edu/undergraduate/colleges/smeal-business/management-bs/\n",
      "MARKETING, B.S. (BUSINESS) https://bulletins.psu.edu/undergraduate/colleges/smeal-business/marketing-bs/\n",
      "RISK MANAGEMENT, B.S. https://bulletins.psu.edu/undergraduate/colleges/smeal-business/risk-management-bs/\n",
      "SUPPLY CHAIN AND INFORMATION SYSTEMS, B.S. https://bulletins.psu.edu/undergraduate/colleges/smeal-business/supply-chain-information-systems-bs/\n",
      "INFORMATION SYSTEMS MANAGEMENT, MINOR https://bulletins.psu.edu/undergraduate/colleges/smeal-business/information-systems-management-minor/\n",
      "INTERNATIONAL BUSINESS, MINOR https://bulletins.psu.edu/undergraduate/colleges/smeal-business/international-business-minor/\n",
      "LEGAL ENVIRONMENT OF BUSINESS, MINOR https://bulletins.psu.edu/undergraduate/colleges/smeal-business/legal-environment-business-minor/\n",
      "SUPPLY CHAIN AND INFORMATION SCIENCES AND TECHNOLOGY, MINOR https://bulletins.psu.edu/undergraduate/colleges/smeal-business/supply-chain-information-sciences-technology-minor/\n",
      "SUPPLY CHAIN AND INFORMATION SYSTEMS, MINOR https://bulletins.psu.edu/undergraduate/colleges/smeal-business/supply-chain-information-systems-minor/\n",
      "CORPORATE CONTROL AND ANALYSIS, CERTIFICATE https://bulletins.psu.edu/undergraduate/colleges/smeal-business/corporate-control-analysis-certificate/\n",
      "REAL ESTATE ANALYSIS AND DEVELOPMENT, CERTIFICATE https://bulletins.psu.edu/undergraduate/colleges/smeal-business/real-estate-analysis-development-certificate/\n",
      "SMEAL COLLEGE BUSINESS FUNDAMENTALS, CERTIFICATE https://bulletins.psu.edu/undergraduate/colleges/smeal-business/smeal-college-business-fundamentals-certificate/\n",
      "ADMINISTRATION OF JUSTICE, B.A. https://bulletins.psu.edu/undergraduate/colleges/university-college/administration-justice-ba/\n",
      "ADMINISTRATION OF JUSTICE, B.S. https://bulletins.psu.edu/undergraduate/colleges/university-college/administration-justice-bs/\n",
      "AMERICAN STUDIES, B.A. (UNIVERSITY COLLEGE) https://bulletins.psu.edu/undergraduate/colleges/university-college/american-studies-ba/\n",
      "ARTS ADMINISTRATION, B.A. (UNIVERSITY COLLEGE) https://bulletins.psu.edu/undergraduate/colleges/university-college/arts-administration-ba/\n",
      "BIOBEHAVIORAL HEALTH, B.S. (UNIVERSITY COLLEGE) https://bulletins.psu.edu/undergraduate/colleges/university-college/biobehavioral-health-bs/\n",
      "BIOLOGY, B.S. (UNIVERSITY COLLEGE) https://bulletins.psu.edu/undergraduate/colleges/university-college/biology-bs/\n",
      "BUSINESS, B.S. (UNIVERSITY COLLEGE) https://bulletins.psu.edu/undergraduate/colleges/university-college/business-bs/\n",
      "COMMUNICATION ARTS AND SCIENCES, B.A. (UNIVERSITY COLLEGE) https://bulletins.psu.edu/undergraduate/colleges/university-college/communication-arts-sciences-ba/\n",
      "COMMUNICATIONS, B.A. (UNIVERSITY COLLEGE) https://bulletins.psu.edu/undergraduate/colleges/university-college/communications-ba/\n",
      "CORPORATE COMMUNICATION, B.A. (UNIVERSITY COLLEGE) https://bulletins.psu.edu/undergraduate/colleges/university-college/corporate-communication-ba/\n",
      "ENGLISH, B.A. (UNIVERSITY COLLEGE) https://bulletins.psu.edu/undergraduate/colleges/university-college/english-ba/\n",
      "HEALTH POLICY AND ADMINISTRATION, B.S. (UNIVERSITY COLLEGE) https://bulletins.psu.edu/undergraduate/colleges/university-college/health-policy-administration-bs/\n",
      "HUMAN DEVELOPMENT AND FAMILY STUDIES, B.S. (UNIVERSITY COLLEGE) https://bulletins.psu.edu/undergraduate/colleges/university-college/human-development-family-studies-bs/\n",
      "INFORMATION SCIENCES AND TECHNOLOGY, B.S. (UNIVERSITY COLLEGE) https://bulletins.psu.edu/undergraduate/colleges/university-college/information-sciences-technology-bs/\n",
      "LETTERS, ARTS, AND SCIENCES, B.A. (UNIVERSITY COLLEGE) https://bulletins.psu.edu/undergraduate/colleges/university-college/letters-arts-sciences-ba/\n",
      "PROJECT AND SUPPLY CHAIN MANAGEMENT, B.S. (UNIVERSITY COLLEGE) https://bulletins.psu.edu/undergraduate/colleges/university-college/project-supply-chain-management-bs/\n",
      "PSYCHOLOGY, B.A. (UNIVERSITY COLLEGE) https://bulletins.psu.edu/undergraduate/colleges/university-college/psychology-ba/\n",
      "PSYCHOLOGY, B.S. (UNIVERSITY COLLEGE) https://bulletins.psu.edu/undergraduate/colleges/university-college/psychology-bs/\n",
      "REHABILITATION AND HUMAN SERVICES, B.S. (UNIVERSITY COLLEGE) https://bulletins.psu.edu/undergraduate/colleges/university-college/rehabilitation-human-services-bs/\n",
      "SCIENCE, B.S. (UNIVERSITY COLLEGE) https://bulletins.psu.edu/undergraduate/colleges/university-college/science-bs/\n",
      "BUSINESS ADMINISTRATION, A.S. (UNIVERSITY COLLEGE) https://bulletins.psu.edu/undergraduate/colleges/university-college/business-administration-as/\n",
      "CRIMINAL JUSTICE, A.S. (UNIVERSITY COLLEGE) https://bulletins.psu.edu/undergraduate/colleges/university-college/criminal-justice-as/\n",
      "HUMAN DEVELOPMENT AND FAMILY STUDIES, A.S. (UNIVERSITY COLLEGE) https://bulletins.psu.edu/undergraduate/colleges/university-college/human-development-family-studies-as/\n",
      "INFORMATION SCIENCES AND TECHNOLOGY, A.S. (UNIVERSITY COLLEGE) https://bulletins.psu.edu/undergraduate/colleges/university-college/information-sciences-technology-as/\n",
      "LETTERS, ARTS, AND SCIENCES, A.A. (UNIVERSITY COLLEGE) https://bulletins.psu.edu/undergraduate/colleges/university-college/letters-arts-sciences-aa/\n",
      "MEDICAL LABORATORY TECHNOLOGY, A.S. https://bulletins.psu.edu/undergraduate/colleges/university-college/medical-laboratory-technology-as/\n",
      "MINING TECHNOLOGY, A.S. https://bulletins.psu.edu/undergraduate/colleges/university-college/mining-technology-as/\n",
      "OCCUPATIONAL THERAPY, A.S. (UNIVERSITY COLLEGE) https://bulletins.psu.edu/undergraduate/colleges/university-college/occupational-therapy-as/\n",
      "PHYSICAL THERAPIST ASSISTANT, A.S. https://bulletins.psu.edu/undergraduate/colleges/university-college/physical-therapist-assistant-as/\n",
      "RADIOLOGICAL SCIENCES, A.S. https://bulletins.psu.edu/undergraduate/colleges/university-college/radiological-sciences-as/\n",
      "BUSINESS, MINOR https://bulletins.psu.edu/undergraduate/colleges/university-college/business-minor/\n",
      "CORPORATE COMMUNICATION, MINOR https://bulletins.psu.edu/undergraduate/colleges/university-college/corporate-communication-minor/\n",
      "NATURAL RESOURCES, MINOR https://bulletins.psu.edu/undergraduate/colleges/university-college/natural-resources-minor/\n",
      "PEACE AND CONFLICT STUDIES, MINOR https://bulletins.psu.edu/undergraduate/colleges/university-college/peace-conflict-studies-minor/\n"
     ]
    },
    {
     "name": "stdout",
     "output_type": "stream",
     "text": [
      "AFRICANA STUDIES, CERTIFICATE https://bulletins.psu.edu/undergraduate/colleges/university-college/africana-studies-certificate/\n",
      "CHEMICAL DEPENDENCY PREVENTION AND COUNSELING, CERTIFICATE https://bulletins.psu.edu/undergraduate/colleges/university-college/chemical-dependency-prevention-counseling-certificate/\n",
      "DIVERSITY STUDIES, CERTIFICATE (UNIVERSITY COLLEGE) https://bulletins.psu.edu/undergraduate/colleges/university-college/diversity-studies-certificate/\n",
      "FINANCIAL ACCOUNTING, CERTIFICATE https://bulletins.psu.edu/undergraduate/colleges/university-college/financial-accounting-certificate/\n",
      "FOUNDATIONS OF BUSINESS, CERTIFICATE https://bulletins.psu.edu/undergraduate/colleges/university-college/foundations-business-certificate/\n",
      "HEALTHCARE INFORMATICS, CERTIFICATE https://bulletins.psu.edu/undergraduate/colleges/university-college/healthcare-informatics-certificate/\n",
      "INTERMEDIATE BUSINESS, CERTIFICATE https://bulletins.psu.edu/undergraduate/colleges/university-college/intermediate-business-certificate/\n",
      "INTERNATIONAL STUDIES, CERTIFICATE https://bulletins.psu.edu/undergraduate/colleges/university-college/international-studies-certificate/\n",
      "INTRODUCTION TO BUSINESS MANAGEMENT, CERTIFICATE https://bulletins.psu.edu/undergraduate/colleges/university-college/introduction-business-management-certificate/\n",
      "INTRODUCTION TO CORPORATE COMMUNICATION, CERTIFICATE https://bulletins.psu.edu/undergraduate/colleges/university-college/introduction-corporate-communication-certificate/\n",
      "INTRODUCTION TO REHABILITATION AND HUMAN SERVICES, CERTIFICATE https://bulletins.psu.edu/undergraduate/colleges/university-college/introduction-to-rehabilitation-human-services-certificate/\n",
      "MANUFACTURING ENGINEERING TECHNOLOGY I, CERTIFICATE https://bulletins.psu.edu/undergraduate/colleges/university-college/manufacturing-engineering-technology-i-certificate/\n",
      "MEDICAL SCIENCES, CERTIFICATE https://bulletins.psu.edu/undergraduate/colleges/university-college/medical-sciences-certificate/\n",
      "MINING TECHNOLOGY, CERTIFICATE https://bulletins.psu.edu/undergraduate/colleges/university-college/mining-technology-certificate/\n",
      "SPATIAL ANALYSIS AND ENGINEERING DESIGN PRINCIPLES, CERTIFICATE https://bulletins.psu.edu/undergraduate/colleges/university-college/spatial-analysis-engineering-design-principles-certificate/\n",
      "SPORTS ADMINISTRATION, CERTIFICATE https://bulletins.psu.edu/undergraduate/colleges/university-college/sports-administration-certificate/\n",
      "SUPPLY CHAIN MANAGEMENT, CERTIFICATE https://bulletins.psu.edu/undergraduate/colleges/university-college/supply-chain-management-certificate/\n",
      "YOUTH DEVELOPMENT AND SOCIAL JUSTICE, CERTIFICATE https://bulletins.psu.edu/undergraduate/colleges/university-college/youth-development-social-justice-certificate/\n"
     ]
    }
   ],
   "source": [
    "from selenium import webdriver\n",
    "import csv\n",
    "\n",
    "chrome_options = webdriver.ChromeOptions()\n",
    "chrome_options.add_argument('--no-sandbox')\n",
    "driver = webdriver.Chrome(\"C:\\\\Users\\MOHAN KUMAR SAH\\Documents\\My Work\\PakkaIndia\\chromedriver\",chrome_options=chrome_options)\n",
    "\n",
    "lis=['Course','University','URL']\n",
    "info=[]\n",
    "info.append(lis)\n",
    "\n",
    "driver.get('https://bulletins.psu.edu/undergraduate/colleges/')\n",
    "data1=driver.find_elements_by_id('/undergraduate/colleges/')\n",
    "data2=data1[0].find_elements_by_tag_name('a')\n",
    "l1=len(data2)\n",
    "for i in range(l1):\n",
    "    data1=driver.find_elements_by_id('/undergraduate/colleges/')\n",
    "    data2=data1[0].find_elements_by_tag_name('a')\n",
    "    \n",
    "    data2[i].click()\n",
    "    data3=driver.find_elements_by_css_selector('div.sitemap_visual')\n",
    "    l2=len(data3)\n",
    "    for j in range(l2):\n",
    "        data3=driver.find_elements_by_css_selector('div.sitemap_visual')\n",
    "        data4=data3[j].find_elements_by_tag_name('a')\n",
    "        l3=len(data4)\n",
    "        for k in range(l3):\n",
    "            data3=driver.find_elements_by_css_selector('div.sitemap_visual')\n",
    "            data4=data3[j].find_elements_by_tag_name('a')\n",
    "            url=data4[k].get_attribute('href')\n",
    "            \n",
    "            #data4[k].click()\n",
    "            driver.get(url)\n",
    "            data6=driver.find_elements_by_class_name('page-title')\n",
    "            c=data6[0].text\n",
    "            \n",
    "            info.append([c,'Penn State University',url])\n",
    "            print(c,url)\n",
    "            \n",
    "            driver.back()\n",
    "            \n",
    "    driver.back()\n",
    "    \n",
    "driver.quit()"
   ]
  },
  {
   "cell_type": "code",
   "execution_count": 59,
   "metadata": {},
   "outputs": [
    {
     "data": {
      "text/plain": [
       "683"
      ]
     },
     "execution_count": 59,
     "metadata": {},
     "output_type": "execute_result"
    }
   ],
   "source": [
    "len(info)"
   ]
  },
  {
   "cell_type": "code",
   "execution_count": 60,
   "metadata": {},
   "outputs": [],
   "source": [
    "with open('Penn_State_University.csv','w',encoding=\"utf-8\",newline=\"\") as file:\n",
    "    write=csv.writer(file)\n",
    "    for row in info:\n",
    "        write.writerow(row)"
   ]
  },
  {
   "cell_type": "code",
   "execution_count": null,
   "metadata": {},
   "outputs": [],
   "source": []
  }
 ],
 "metadata": {
  "kernelspec": {
   "display_name": "Python 3",
   "language": "python",
   "name": "python3"
  },
  "language_info": {
   "codemirror_mode": {
    "name": "ipython",
    "version": 3
   },
   "file_extension": ".py",
   "mimetype": "text/x-python",
   "name": "python",
   "nbconvert_exporter": "python",
   "pygments_lexer": "ipython3",
   "version": "3.6.5"
  }
 },
 "nbformat": 4,
 "nbformat_minor": 2
}
