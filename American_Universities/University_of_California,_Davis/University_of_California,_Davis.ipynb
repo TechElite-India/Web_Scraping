{
 "cells": [
  {
   "cell_type": "code",
   "execution_count": 44,
   "metadata": {},
   "outputs": [
    {
     "name": "stderr",
     "output_type": "stream",
     "text": [
      "C:\\ProgramData\\Anaconda3\\lib\\site-packages\\ipykernel_launcher.py:6: DeprecationWarning: use options instead of chrome_options\n",
      "  \n"
     ]
    }
   ],
   "source": [
    "from selenium import webdriver\n",
    "import csv\n",
    "\n",
    "chrome_options = webdriver.ChromeOptions()\n",
    "chrome_options.add_argument('--no-sandbox')\n",
    "driver = webdriver.Chrome(\"C:\\\\Users\\MOHAN KUMAR SAH\\Documents\\My Work\\PakkaIndia\\chromedriver\",chrome_options=chrome_options)"
   ]
  },
  {
   "cell_type": "code",
   "execution_count": 45,
   "metadata": {},
   "outputs": [],
   "source": [
    "driver.get('https://ucdavis.pubs.curricunet.com/Catalog/departments-programs-degrees')"
   ]
  },
  {
   "cell_type": "code",
   "execution_count": 46,
   "metadata": {},
   "outputs": [
    {
     "data": {
      "text/plain": [
       "[<selenium.webdriver.remote.webelement.WebElement (session=\"07f8a1042bf506a2302ca1351eacedf0\", element=\"0.9419993608374098-1\")>]"
      ]
     },
     "execution_count": 46,
     "metadata": {},
     "output_type": "execute_result"
    }
   ],
   "source": [
    "data1=driver.find_elements_by_id('bodytop')\n",
    "data1"
   ]
  },
  {
   "cell_type": "code",
   "execution_count": 47,
   "metadata": {},
   "outputs": [
    {
     "data": {
      "text/plain": [
       "[<selenium.webdriver.remote.webelement.WebElement (session=\"07f8a1042bf506a2302ca1351eacedf0\", element=\"0.9419993608374098-2\")>,\n",
       " <selenium.webdriver.remote.webelement.WebElement (session=\"07f8a1042bf506a2302ca1351eacedf0\", element=\"0.9419993608374098-3\")>,\n",
       " <selenium.webdriver.remote.webelement.WebElement (session=\"07f8a1042bf506a2302ca1351eacedf0\", element=\"0.9419993608374098-4\")>,\n",
       " <selenium.webdriver.remote.webelement.WebElement (session=\"07f8a1042bf506a2302ca1351eacedf0\", element=\"0.9419993608374098-5\")>,\n",
       " <selenium.webdriver.remote.webelement.WebElement (session=\"07f8a1042bf506a2302ca1351eacedf0\", element=\"0.9419993608374098-6\")>,\n",
       " <selenium.webdriver.remote.webelement.WebElement (session=\"07f8a1042bf506a2302ca1351eacedf0\", element=\"0.9419993608374098-7\")>,\n",
       " <selenium.webdriver.remote.webelement.WebElement (session=\"07f8a1042bf506a2302ca1351eacedf0\", element=\"0.9419993608374098-8\")>,\n",
       " <selenium.webdriver.remote.webelement.WebElement (session=\"07f8a1042bf506a2302ca1351eacedf0\", element=\"0.9419993608374098-9\")>,\n",
       " <selenium.webdriver.remote.webelement.WebElement (session=\"07f8a1042bf506a2302ca1351eacedf0\", element=\"0.9419993608374098-10\")>,\n",
       " <selenium.webdriver.remote.webelement.WebElement (session=\"07f8a1042bf506a2302ca1351eacedf0\", element=\"0.9419993608374098-11\")>,\n",
       " <selenium.webdriver.remote.webelement.WebElement (session=\"07f8a1042bf506a2302ca1351eacedf0\", element=\"0.9419993608374098-12\")>,\n",
       " <selenium.webdriver.remote.webelement.WebElement (session=\"07f8a1042bf506a2302ca1351eacedf0\", element=\"0.9419993608374098-13\")>,\n",
       " <selenium.webdriver.remote.webelement.WebElement (session=\"07f8a1042bf506a2302ca1351eacedf0\", element=\"0.9419993608374098-14\")>,\n",
       " <selenium.webdriver.remote.webelement.WebElement (session=\"07f8a1042bf506a2302ca1351eacedf0\", element=\"0.9419993608374098-15\")>,\n",
       " <selenium.webdriver.remote.webelement.WebElement (session=\"07f8a1042bf506a2302ca1351eacedf0\", element=\"0.9419993608374098-16\")>,\n",
       " <selenium.webdriver.remote.webelement.WebElement (session=\"07f8a1042bf506a2302ca1351eacedf0\", element=\"0.9419993608374098-17\")>,\n",
       " <selenium.webdriver.remote.webelement.WebElement (session=\"07f8a1042bf506a2302ca1351eacedf0\", element=\"0.9419993608374098-18\")>,\n",
       " <selenium.webdriver.remote.webelement.WebElement (session=\"07f8a1042bf506a2302ca1351eacedf0\", element=\"0.9419993608374098-19\")>,\n",
       " <selenium.webdriver.remote.webelement.WebElement (session=\"07f8a1042bf506a2302ca1351eacedf0\", element=\"0.9419993608374098-20\")>,\n",
       " <selenium.webdriver.remote.webelement.WebElement (session=\"07f8a1042bf506a2302ca1351eacedf0\", element=\"0.9419993608374098-21\")>,\n",
       " <selenium.webdriver.remote.webelement.WebElement (session=\"07f8a1042bf506a2302ca1351eacedf0\", element=\"0.9419993608374098-22\")>,\n",
       " <selenium.webdriver.remote.webelement.WebElement (session=\"07f8a1042bf506a2302ca1351eacedf0\", element=\"0.9419993608374098-23\")>,\n",
       " <selenium.webdriver.remote.webelement.WebElement (session=\"07f8a1042bf506a2302ca1351eacedf0\", element=\"0.9419993608374098-24\")>,\n",
       " <selenium.webdriver.remote.webelement.WebElement (session=\"07f8a1042bf506a2302ca1351eacedf0\", element=\"0.9419993608374098-25\")>]"
      ]
     },
     "execution_count": 47,
     "metadata": {},
     "output_type": "execute_result"
    }
   ],
   "source": [
    "data2=driver.find_elements_by_tag_name('ul')\n",
    "data2"
   ]
  },
  {
   "cell_type": "code",
   "execution_count": 48,
   "metadata": {},
   "outputs": [
    {
     "data": {
      "text/plain": [
       "24"
      ]
     },
     "execution_count": 48,
     "metadata": {},
     "output_type": "execute_result"
    }
   ],
   "source": [
    "len(data2)"
   ]
  },
  {
   "cell_type": "code",
   "execution_count": 49,
   "metadata": {},
   "outputs": [
    {
     "data": {
      "text/plain": [
       "[<selenium.webdriver.remote.webelement.WebElement (session=\"07f8a1042bf506a2302ca1351eacedf0\", element=\"0.9419993608374098-26\")>,\n",
       " <selenium.webdriver.remote.webelement.WebElement (session=\"07f8a1042bf506a2302ca1351eacedf0\", element=\"0.9419993608374098-27\")>,\n",
       " <selenium.webdriver.remote.webelement.WebElement (session=\"07f8a1042bf506a2302ca1351eacedf0\", element=\"0.9419993608374098-28\")>,\n",
       " <selenium.webdriver.remote.webelement.WebElement (session=\"07f8a1042bf506a2302ca1351eacedf0\", element=\"0.9419993608374098-29\")>,\n",
       " <selenium.webdriver.remote.webelement.WebElement (session=\"07f8a1042bf506a2302ca1351eacedf0\", element=\"0.9419993608374098-30\")>,\n",
       " <selenium.webdriver.remote.webelement.WebElement (session=\"07f8a1042bf506a2302ca1351eacedf0\", element=\"0.9419993608374098-31\")>,\n",
       " <selenium.webdriver.remote.webelement.WebElement (session=\"07f8a1042bf506a2302ca1351eacedf0\", element=\"0.9419993608374098-32\")>,\n",
       " <selenium.webdriver.remote.webelement.WebElement (session=\"07f8a1042bf506a2302ca1351eacedf0\", element=\"0.9419993608374098-33\")>,\n",
       " <selenium.webdriver.remote.webelement.WebElement (session=\"07f8a1042bf506a2302ca1351eacedf0\", element=\"0.9419993608374098-34\")>,\n",
       " <selenium.webdriver.remote.webelement.WebElement (session=\"07f8a1042bf506a2302ca1351eacedf0\", element=\"0.9419993608374098-35\")>,\n",
       " <selenium.webdriver.remote.webelement.WebElement (session=\"07f8a1042bf506a2302ca1351eacedf0\", element=\"0.9419993608374098-36\")>,\n",
       " <selenium.webdriver.remote.webelement.WebElement (session=\"07f8a1042bf506a2302ca1351eacedf0\", element=\"0.9419993608374098-37\")>,\n",
       " <selenium.webdriver.remote.webelement.WebElement (session=\"07f8a1042bf506a2302ca1351eacedf0\", element=\"0.9419993608374098-38\")>,\n",
       " <selenium.webdriver.remote.webelement.WebElement (session=\"07f8a1042bf506a2302ca1351eacedf0\", element=\"0.9419993608374098-39\")>,\n",
       " <selenium.webdriver.remote.webelement.WebElement (session=\"07f8a1042bf506a2302ca1351eacedf0\", element=\"0.9419993608374098-40\")>,\n",
       " <selenium.webdriver.remote.webelement.WebElement (session=\"07f8a1042bf506a2302ca1351eacedf0\", element=\"0.9419993608374098-41\")>,\n",
       " <selenium.webdriver.remote.webelement.WebElement (session=\"07f8a1042bf506a2302ca1351eacedf0\", element=\"0.9419993608374098-42\")>,\n",
       " <selenium.webdriver.remote.webelement.WebElement (session=\"07f8a1042bf506a2302ca1351eacedf0\", element=\"0.9419993608374098-43\")>,\n",
       " <selenium.webdriver.remote.webelement.WebElement (session=\"07f8a1042bf506a2302ca1351eacedf0\", element=\"0.9419993608374098-44\")>,\n",
       " <selenium.webdriver.remote.webelement.WebElement (session=\"07f8a1042bf506a2302ca1351eacedf0\", element=\"0.9419993608374098-45\")>,\n",
       " <selenium.webdriver.remote.webelement.WebElement (session=\"07f8a1042bf506a2302ca1351eacedf0\", element=\"0.9419993608374098-46\")>,\n",
       " <selenium.webdriver.remote.webelement.WebElement (session=\"07f8a1042bf506a2302ca1351eacedf0\", element=\"0.9419993608374098-47\")>,\n",
       " <selenium.webdriver.remote.webelement.WebElement (session=\"07f8a1042bf506a2302ca1351eacedf0\", element=\"0.9419993608374098-48\")>,\n",
       " <selenium.webdriver.remote.webelement.WebElement (session=\"07f8a1042bf506a2302ca1351eacedf0\", element=\"0.9419993608374098-49\")>,\n",
       " <selenium.webdriver.remote.webelement.WebElement (session=\"07f8a1042bf506a2302ca1351eacedf0\", element=\"0.9419993608374098-50\")>,\n",
       " <selenium.webdriver.remote.webelement.WebElement (session=\"07f8a1042bf506a2302ca1351eacedf0\", element=\"0.9419993608374098-51\")>,\n",
       " <selenium.webdriver.remote.webelement.WebElement (session=\"07f8a1042bf506a2302ca1351eacedf0\", element=\"0.9419993608374098-52\")>,\n",
       " <selenium.webdriver.remote.webelement.WebElement (session=\"07f8a1042bf506a2302ca1351eacedf0\", element=\"0.9419993608374098-53\")>,\n",
       " <selenium.webdriver.remote.webelement.WebElement (session=\"07f8a1042bf506a2302ca1351eacedf0\", element=\"0.9419993608374098-54\")>,\n",
       " <selenium.webdriver.remote.webelement.WebElement (session=\"07f8a1042bf506a2302ca1351eacedf0\", element=\"0.9419993608374098-55\")>,\n",
       " <selenium.webdriver.remote.webelement.WebElement (session=\"07f8a1042bf506a2302ca1351eacedf0\", element=\"0.9419993608374098-56\")>,\n",
       " <selenium.webdriver.remote.webelement.WebElement (session=\"07f8a1042bf506a2302ca1351eacedf0\", element=\"0.9419993608374098-57\")>]"
      ]
     },
     "execution_count": 49,
     "metadata": {},
     "output_type": "execute_result"
    }
   ],
   "source": [
    "data3=data2[2].find_elements_by_tag_name('li')\n",
    "data3"
   ]
  },
  {
   "cell_type": "code",
   "execution_count": 50,
   "metadata": {},
   "outputs": [
    {
     "data": {
      "text/plain": [
       "'https://ucdavis.pubs.curricunet.com/Catalog/accounting'"
      ]
     },
     "execution_count": 50,
     "metadata": {},
     "output_type": "execute_result"
    }
   ],
   "source": [
    "data3[0].find_element_by_tag_name('a').get_attribute('href')"
   ]
  },
  {
   "cell_type": "code",
   "execution_count": 52,
   "metadata": {},
   "outputs": [
    {
     "data": {
      "text/plain": [
       "'Accounting Minor; Graduate School of Management'"
      ]
     },
     "execution_count": 52,
     "metadata": {},
     "output_type": "execute_result"
    }
   ],
   "source": [
    "data3[0].text"
   ]
  },
  {
   "cell_type": "markdown",
   "metadata": {},
   "source": [
    "# Full Code"
   ]
  },
  {
   "cell_type": "code",
   "execution_count": 17,
   "metadata": {},
   "outputs": [
    {
     "name": "stdout",
     "output_type": "stream",
     "text": [
      "Accounting Minor; Graduate School of Management https://ucdavis.pubs.curricunet.com/Catalog/accounting\n",
      "Aerospace Science & Engineering; Engineering https://ucdavis.pubs.curricunet.com/Catalog/eae\n",
      "African American & African Studies https://ucdavis.pubs.curricunet.com/Catalog/aas\n",
      "Aging & Adult Development Minor; Human Ecology https://ucdavis.pubs.curricunet.com/Catalog/aging-adult-development\n",
      "Agricultural & Environmental Chemistry (Graduate Group) https://ucdavis.pubs.curricunet.com/Catalog/agc\n",
      "Agricultural & Environmental Education https://ucdavis.pubs.curricunet.com/Catalog/aed\n",
      "Agricultural & Resource Economics https://ucdavis.pubs.curricunet.com/Catalog/are\n",
      "Agricultural Pest Management Minor; Entomology & Nematology https://ucdavis.pubs.curricunet.com/Catalog/agricultural-pest-management\n",
      "Agricultural Systems & Environment Minor; Plant Sciences https://ucdavis.pubs.curricunet.com/Catalog/agricultural-systems-environment\n",
      "American Studies https://ucdavis.pubs.curricunet.com/Catalog/ams\n",
      "Animal Behavior (Graduate Group) https://ucdavis.pubs.curricunet.com/Catalog/anb\n",
      "Animal Biology https://ucdavis.pubs.curricunet.com/Catalog/abi\n",
      "Animal Biology (Graduate Group) https://ucdavis.pubs.curricunet.com/Catalog/abg\n",
      "Animal Genetics https://ucdavis.pubs.curricunet.com/Catalog/ang\n",
      "Animal Science https://ucdavis.pubs.curricunet.com/Catalog/ans\n",
      "Animal Science & Management https://ucdavis.pubs.curricunet.com/Catalog/animal-science-management\n",
      "Anthropology https://ucdavis.pubs.curricunet.com/Catalog/ant\n",
      "Applied Biological Systems Technology https://ucdavis.pubs.curricunet.com/Catalog/abt\n",
      "Applied Computing & Information Systems Minor; Plant Sciences https://ucdavis.pubs.curricunet.com/Catalog/applied-computing-information-systems\n",
      "Applied Mathematics (Graduate Group) https://ucdavis.pubs.curricunet.com/Catalog/applied-mathematics-graduate-group\n",
      "Applied Mathematics; Mathematics https://ucdavis.pubs.curricunet.com/Catalog/applied-mathematics\n",
      "Applied Physics; Physics https://ucdavis.pubs.curricunet.com/Catalog/applied-physics\n",
      "Applied Science Engineering; Engineering https://ucdavis.pubs.curricunet.com/Catalog/ead\n",
      "Arab Studies Minor; Middle East/South Asia Studies https://ucdavis.pubs.curricunet.com/Catalog/arab-studies-minor\n",
      "Arabic Minor; Classics https://ucdavis.pubs.curricunet.com/Catalog/arabic-minor\n",
      "Art History https://ucdavis.pubs.curricunet.com/Catalog/ahi\n",
      "Art Studio https://ucdavis.pubs.curricunet.com/Catalog/art\n",
      "Asian American Studies https://ucdavis.pubs.curricunet.com/Catalog/asa\n",
      "Atmospheric Science https://ucdavis.pubs.curricunet.com/Catalog/atm\n",
      "Atmospheric Science (Graduate Group) https://ucdavis.pubs.curricunet.com/Catalog/atm-graduate-group\n",
      "Avian Sciences https://ucdavis.pubs.curricunet.com/Catalog/avs\n",
      "Avian Sciences (Graduate Group) https://ucdavis.pubs.curricunet.com/Catalog/avs-graduate-group\n",
      "Biochemical Engineering; Engineering https://ucdavis.pubs.curricunet.com/Catalog/biochemical-engineering\n",
      "Biochemistry & Molecular Biology; Molecular & Cellular Biology https://ucdavis.pubs.curricunet.com/Catalog/biochemistry-molecular-biology\n",
      "Biochemistry, Molecular, Cellular & Developmental Biology (Graduate Group) https://ucdavis.pubs.curricunet.com/Catalog/bmcdb\n",
      "Biological & Agricultural Engineering; Agricultural & Environmental Sciences, Engineering https://ucdavis.pubs.curricunet.com/Catalog/biological-agricultural-engineering\n",
      "Biological Sciences https://ucdavis.pubs.curricunet.com/Catalog/bis\n",
      "Biological Systems Engineering; Agricultural & Environmental Sciences, Engineering https://ucdavis.pubs.curricunet.com/Catalog/ebs\n",
      "Biomedical Engineering; Engineering https://ucdavis.pubs.curricunet.com/Catalog/bim\n",
      "Biomedical Engineering (Graduate Group) https://ucdavis.pubs.curricunet.com/Catalog/biomedical-engineering-graduate-group\n",
      "Biophysics (Graduate Group) https://ucdavis.pubs.curricunet.com/Catalog/bph\n",
      "Biostatistics (Graduate Group) https://ucdavis.pubs.curricunet.com/Catalog/bst\n",
      "Biotechnology https://ucdavis.pubs.curricunet.com/Catalog/bit\n",
      "Bodega Marine Laboratory Program https://ucdavis.pubs.curricunet.com/Catalog/bml\n",
      "Business Analytics; Graduate School of Management https://ucdavis.pubs.curricunet.com/Catalog/business-analytics\n",
      "Capital Area North Doctorate in Education Leadership (CANDEL) Education (Graduate Group) https://ucdavis.pubs.curricunet.com/Catalog/candel\n",
      "Cell Biology; Molecular & Cellular Biology https://ucdavis.pubs.curricunet.com/Catalog/cell-biology\n",
      "Chemical Engineering; Engineering https://ucdavis.pubs.curricunet.com/Catalog/ech\n",
      "Chemical Physics; Chemistry https://ucdavis.pubs.curricunet.com/Catalog/chemical-physics\n",
      "Chemistry https://ucdavis.pubs.curricunet.com/Catalog/che\n",
      "Chicana/Chicano Studies https://ucdavis.pubs.curricunet.com/Catalog/chi\n",
      "Child Development (Graduate Group) https://ucdavis.pubs.curricunet.com/Catalog/child-development\n",
      "Chinese; East Asian Languages & Cultures https://ucdavis.pubs.curricunet.com/Catalog/chn\n",
      "Cinema & Digital Media https://ucdavis.pubs.curricunet.com/Catalog/cinema-digital-media\n",
      "Civil & Environmental Engineering; Engineering https://ucdavis.pubs.curricunet.com/Catalog/eci\n",
      "Civil Engineering; Engineering https://ucdavis.pubs.curricunet.com/Catalog/civil-engineering\n",
      "Classical Civilization; Classics https://ucdavis.pubs.curricunet.com/Catalog/classical-civilization\n",
      "Classics https://ucdavis.pubs.curricunet.com/Catalog/cla\n",
      "Climate Science & Policy Minor; Environmental Science & Policy https://ucdavis.pubs.curricunet.com/Catalog/climate-science-policy\n",
      "Clinical Nutrition https://ucdavis.pubs.curricunet.com/Catalog/clinical-nutrition\n",
      "Clinical Research (Graduate Group) https://ucdavis.pubs.curricunet.com/Catalog/clinical-research-graduate-group\n",
      "Coaching Principles & Methods Minor; Physical Education https://ucdavis.pubs.curricunet.com/Catalog/coaching-principles-methods\n",
      "Cognitive Science https://ucdavis.pubs.curricunet.com/Catalog/cognitive-science\n",
      "Communication https://ucdavis.pubs.curricunet.com/Catalog/cmn\n",
      "Community & Regional Development https://ucdavis.pubs.curricunet.com/Catalog/crd\n",
      "Community Development (Graduate Group) https://ucdavis.pubs.curricunet.com/Catalog/community-development-graduate-group\n",
      "Community Development Minor; Human Ecology https://ucdavis.pubs.curricunet.com/Catalog/community-development\n",
      "Community Nutrition Minor; Nutrition https://ucdavis.pubs.curricunet.com/Catalog/community-nutrition\n",
      "Comparative Literature https://ucdavis.pubs.curricunet.com/Catalog/com\n",
      "Computational Biology Minor; Computer Science Engineering https://ucdavis.pubs.curricunet.com/Catalog/computational-biology\n",
      "Computer Engineering; Electrical & Computer Engineering https://ucdavis.pubs.curricunet.com/Catalog/computer-engineering\n",
      "Computer Science (Graduate Group) https://ucdavis.pubs.curricunet.com/Catalog/computer-science-graduate-group\n",
      "Computer Science; Letters & Science https://ucdavis.pubs.curricunet.com/Catalog/computer-science\n",
      "Computer Science & Engineering; Engineering https://ucdavis.pubs.curricunet.com/Catalog/ecs\n",
      "Construction Engineering & Management Minor; Civil & Environmental Engineering https://ucdavis.pubs.curricunet.com/Catalog/construction-engineering-management\n",
      "Consumer Science https://ucdavis.pubs.curricunet.com/Catalog/cns\n",
      "Contemporary Leadership Minor; Science & Society https://ucdavis.pubs.curricunet.com/Catalog/contemporary-leadership\n",
      "Critical Theory https://ucdavis.pubs.curricunet.com/Catalog/cri\n",
      "Cultural Studies (Graduate Group) https://ucdavis.pubs.curricunet.com/Catalog/cst\n",
      "Design https://ucdavis.pubs.curricunet.com/Catalog/des\n",
      "Dramatic Art https://ucdavis.pubs.curricunet.com/Catalog/dramatic-art\n",
      "Earth & Planetary Sciences https://ucdavis.pubs.curricunet.com/Catalog/earth-planetary-sciences\n",
      "Earth & Planetary Sciences Teaching Credential https://ucdavis.pubs.curricunet.com/Catalog/earth-planetary-sciences-teaching-credential\n",
      "East Asian Languages & Cultures https://ucdavis.pubs.curricunet.com/Catalog/east-asian-languages-cultures\n",
      "East Asian Studies https://ucdavis.pubs.curricunet.com/Catalog/eas\n",
      "Ecological Management & Restoration https://ucdavis.pubs.curricunet.com/Catalog/ecological-management-restoration\n",
      "Ecology (Graduate Group) https://ucdavis.pubs.curricunet.com/Catalog/ecl\n",
      "Economics https://ucdavis.pubs.curricunet.com/Catalog/ecn\n",
      "Education Minor https://ucdavis.pubs.curricunet.com/Catalog/edu\n",
      "Education (Graduate Group) https://ucdavis.pubs.curricunet.com/Catalog/education-graduate-group\n",
      "Electrical & Computer Engineering; Electrical & Computer Engineering https://ucdavis.pubs.curricunet.com/Catalog/eec\n",
      "Electrical Engineering; Electrical & Computer Engineering https://ucdavis.pubs.curricunet.com/Catalog/electrical-engineering\n"
     ]
    },
    {
     "name": "stdout",
     "output_type": "stream",
     "text": [
      "Energy Efficiency Minor; Biological & Agricultural Engineering https://ucdavis.pubs.curricunet.com/Catalog/energy-efficiency\n",
      "Energy Policy Minor; Biological & Agricultural Engineering https://ucdavis.pubs.curricunet.com/Catalog/energy-policy\n",
      "Energy Science & Technology Minor; Biological & Agricultural Engineering https://ucdavis.pubs.curricunet.com/Catalog/energy-science-technology\n",
      "Energy Systems (Graduate Group) https://ucdavis.pubs.curricunet.com/Catalog/energy-systems-graduate-group\n",
      "Engineering https://ucdavis.pubs.curricunet.com/Catalog/eng\n",
      "English https://ucdavis.pubs.curricunet.com/Catalog/enl\n",
      "Entomology https://ucdavis.pubs.curricunet.com/Catalog/ent\n",
      "Environmental Engineering https://ucdavis.pubs.curricunet.com/Catalog/environmental-engineering\n",
      "Environmental Geology Minor; Geology https://ucdavis.pubs.curricunet.com/Catalog/environmental-geology\n",
      "Environmental Horticulture & Urban Forestry https://ucdavis.pubs.curricunet.com/Catalog/environmental-horticulture-urban-forestry\n",
      "Environmental Horticulture Minor; Plant Sciences https://ucdavis.pubs.curricunet.com/Catalog/enh\n",
      "Environmental Policy & Management https://ucdavis.pubs.curricunet.com/Catalog/epm\n",
      "Environmental Policy Analysis & Planning https://ucdavis.pubs.curricunet.com/Catalog/environmental-policy-analysis-planning\n",
      "Environmental Science & Management https://ucdavis.pubs.curricunet.com/Catalog/esm\n",
      "Environmental Science & Policy https://ucdavis.pubs.curricunet.com/Catalog/esp\n",
      "Environmental Toxicology https://ucdavis.pubs.curricunet.com/Catalog/etx\n",
      "Epidemiology (Graduate Group) https://ucdavis.pubs.curricunet.com/Catalog/epi\n",
      "Evolution & Ecology https://ucdavis.pubs.curricunet.com/Catalog/eve\n",
      "Exercise Biology Minor; Neurobiology, Physiology, & Behavior https://ucdavis.pubs.curricunet.com/Catalog/exb\n",
      "Family Nurse Practitioner Program; Nursing https://ucdavis.pubs.curricunet.com/Catalog/family-nurse-practitioner-program\n",
      "Feminist Theory & Research https://ucdavis.pubs.curricunet.com/Catalog/feminist-theory-research\n",
      "Fiber & Polymer Science https://ucdavis.pubs.curricunet.com/Catalog/fps\n",
      "Film Studies https://ucdavis.pubs.curricunet.com/Catalog/fms\n",
      "First-Year Seminar Program https://ucdavis.pubs.curricunet.com/Catalog/frs\n",
      "Food Science https://ucdavis.pubs.curricunet.com/Catalog/food-science\n",
      "Food Science (Graduate Group) https://ucdavis.pubs.curricunet.com/Catalog/food-science-graduate-group\n",
      "Food Science & Technology https://ucdavis.pubs.curricunet.com/Catalog/fst\n",
      "Food Service Management Minor; Nutrition https://ucdavis.pubs.curricunet.com/Catalog/food-service-management\n",
      "Food Service Management; Nutrition https://ucdavis.pubs.curricunet.com/Catalog/fsm\n",
      "Forensic Entomology Minor; Entomology & Nematology https://ucdavis.pubs.curricunet.com/Catalog/forensic-entomology\n",
      "Forensic Science (Graduate Group) https://ucdavis.pubs.curricunet.com/Catalog/for\n",
      "French https://ucdavis.pubs.curricunet.com/Catalog/fre\n",
      "Fungal Biology & Ecology Minor; Plant Pathology https://ucdavis.pubs.curricunet.com/Catalog/fungal-biology-ecology\n",
      "Gender, Sexuality & Women's Studies https://ucdavis.pubs.curricunet.com/Catalog/gender-sexuality-womens-studies\n",
      "General Linguistics Minor; Linguistics https://ucdavis.pubs.curricunet.com/Catalog/general-linguistics\n",
      "Genetics & Genomics; Molecular & Cellular Biology https://ucdavis.pubs.curricunet.com/Catalog/genetics-genomics\n",
      "Geographic Information Systems Minor; Biological & Agricultural Engineering https://ucdavis.pubs.curricunet.com/Catalog/geographic-information-systems\n",
      "Geographic Studies Minor; Environmental Design https://ucdavis.pubs.curricunet.com/Catalog/geographic-studies\n",
      "Geography (Graduate Group) https://ucdavis.pubs.curricunet.com/Catalog/geo\n",
      "Geology https://ucdavis.pubs.curricunet.com/Catalog/gel\n",
      "Geophysics Minor; Earth & Planetary Sciences https://ucdavis.pubs.curricunet.com/Catalog/geophysics\n",
      "German https://ucdavis.pubs.curricunet.com/Catalog/ger\n",
      "Global & International Studies Minor; Humanities https://ucdavis.pubs.curricunet.com/Catalog/global-international-studies\n",
      "Global Disease Biology https://ucdavis.pubs.curricunet.com/Catalog/gdb\n",
      "Greek Minor; Classics https://ucdavis.pubs.curricunet.com/Catalog/greek\n",
      "Health Informatics (Graduate Group) https://ucdavis.pubs.curricunet.com/Catalog/mhi\n",
      "History https://ucdavis.pubs.curricunet.com/Catalog/his\n",
      "History & Philosophy of Science Minor; Science & Technology Studies https://ucdavis.pubs.curricunet.com/Catalog/history-philosophy-science\n",
      "Horticulture & Agronomy (Graduate Group) https://ucdavis.pubs.curricunet.com/Catalog/horticulture-agronomy-graduate-group\n",
      "Human Development https://ucdavis.pubs.curricunet.com/Catalog/hde\n",
      "Human Development (Graduate Group) https://ucdavis.pubs.curricunet.com/Catalog/human-development-graduate-group\n",
      "Human Ecology https://ucdavis.pubs.curricunet.com/Catalog/human-ecology\n",
      "Human Physiology Minor; Neurobiology, Physiology, & Behavior https://ucdavis.pubs.curricunet.com/Catalog/human-physiology\n",
      "Human Rights Studies https://ucdavis.pubs.curricunet.com/Catalog/hmr\n",
      "Humanities https://ucdavis.pubs.curricunet.com/Catalog/hum\n",
      "Hydrologic Sciences (Graduate Group) https://ucdavis.pubs.curricunet.com/Catalog/hydrologic-sciences-graduate-group\n",
      "Hydrology https://ucdavis.pubs.curricunet.com/Catalog/hyd\n",
      "Immunology https://ucdavis.pubs.curricunet.com/Catalog/imm\n",
      "Independent Study Program https://ucdavis.pubs.curricunet.com/Catalog/independent-study-program\n",
      "India & South Asia Studies Minor; Middle East/South Asia Studies https://ucdavis.pubs.curricunet.com/Catalog/india-south-asia-studies\n",
      "Individual Major https://ucdavis.pubs.curricunet.com/Catalog/individual-major\n",
      "Insect Biology Minor; Entomology & Nematology https://ucdavis.pubs.curricunet.com/Catalog/insect-biology\n",
      "Insect Ecology & Evolution Minor; Entomology & Nematology https://ucdavis.pubs.curricunet.com/Catalog/insect-ecology-evolution\n",
      "Integrated Teaching Credential (Graduate Group) https://ucdavis.pubs.curricunet.com/Catalog/integrated-teaching-credential-graduate-group\n",
      "Integrative Genetics & Genomics (Graduate Group) https://ucdavis.pubs.curricunet.com/Catalog/ggg\n",
      "Integrative Pathobiology (Graduate Group) https://ucdavis.pubs.curricunet.com/Catalog/integrative-pathobiology\n",
      "International Agricultural Development https://ucdavis.pubs.curricunet.com/Catalog/iad\n",
      "International Agricultural Development (Graduate Group) https://ucdavis.pubs.curricunet.com/Catalog/international-agricultural-development-graduate-group\n",
      "International Commercial Law (Graduate Group) https://ucdavis.pubs.curricunet.com/Catalog/icl\n",
      "International & Community Nutrition https://ucdavis.pubs.curricunet.com/Catalog/international-community-nutrition\n",
      "International Relations https://ucdavis.pubs.curricunet.com/Catalog/ire\n",
      "International Science Studies Minor; Land, Air & Water Resources https://ucdavis.pubs.curricunet.com/Catalog/international-science-studies\n",
      "Internship Program https://ucdavis.pubs.curricunet.com/Catalog/internship-program\n",
      "Iran & Persian Studies Minor; Middle East/South Asia Studies https://ucdavis.pubs.curricunet.com/Catalog/iran-persian-studies\n",
      "Italian https://ucdavis.pubs.curricunet.com/Catalog/ita\n",
      "Japanese; East Asian Languages & Cultures https://ucdavis.pubs.curricunet.com/Catalog/jpn\n",
      "Jewish Studies Minor; Jewish Studies https://ucdavis.pubs.curricunet.com/Catalog/jst\n",
      "Land, Air, & Water Resources https://ucdavis.pubs.curricunet.com/Catalog/lawr\n",
      "Landscape Architecture https://ucdavis.pubs.curricunet.com/Catalog/lda\n",
      "Landscape Restoration Minor; Plant Sciences https://ucdavis.pubs.curricunet.com/Catalog/landscape-restoration\n",
      "Latin Minor; Classics https://ucdavis.pubs.curricunet.com/Catalog/lat\n",
      "Latin American & Hemispheric Studies Minor https://ucdavis.pubs.curricunet.com/Catalog/latin-american-hemispheric\n",
      "Law, School of https://ucdavis.pubs.curricunet.com/Catalog/law\n",
      "Linguistics https://ucdavis.pubs.curricunet.com/Catalog/lin\n",
      "Linguistics (Graduate Group) https://ucdavis.pubs.curricunet.com/Catalog/linguistics-graduate-group\n",
      "Linguistics for Language Teachers Minor; Linguistics https://ucdavis.pubs.curricunet.com/Catalog/lin-language-teachers\n",
      "Luso-Brazilian Studies Minor; Spanish https://ucdavis.pubs.curricunet.com/Catalog/luso-brazilian-studies\n",
      "Management, Graduate School of https://ucdavis.pubs.curricunet.com/Catalog/management\n",
      "Managerial Economics https://ucdavis.pubs.curricunet.com/Catalog/managerial-economics\n",
      "Marine & Coastal Science https://ucdavis.pubs.curricunet.com/Catalog/marine-coastal-science\n"
     ]
    },
    {
     "name": "stdout",
     "output_type": "stream",
     "text": [
      "Master of Health Services; Nursing https://ucdavis.pubs.curricunet.com/Catalog/master-health-services\n",
      "Master of Preventive Veterinary Medicine https://ucdavis.pubs.curricunet.com/Catalog/master-preventive-veterinary-medicine\n",
      "Master of Professional Accountancy https://ucdavis.pubs.curricunet.com/Catalog/master-professional-accountancy\n",
      "Master's Entry Program in Nursing; Nursing https://ucdavis.pubs.curricunet.com/Catalog/masters-entry-program-nursing\n",
      "Materials Science & Engineering; Engineering https://ucdavis.pubs.curricunet.com/Catalog/ems\n",
      "Maternal & Child Nutrition; Nutrition https://ucdavis.pubs.curricunet.com/Catalog/maternal-child-nutrition\n",
      "Mathematical Analytics & Operations Research; Mathematics https://ucdavis.pubs.curricunet.com/Catalog/mathematical-analytics-operations-research\n",
      "Mathematical & Physical Sciences https://ucdavis.pubs.curricunet.com/Catalog/mps\n",
      "Mathematical & Scientific Computation; Mathematics https://ucdavis.pubs.curricunet.com/Catalog/mathematical-scientific-computation\n",
      "Mathematics https://ucdavis.pubs.curricunet.com/Catalog/mat\n",
      "Mechanical & Aerospace Engineering; Engineering https://ucdavis.pubs.curricunet.com/Catalog/mae\n",
      "Mechanical Engineering; Engineering https://ucdavis.pubs.curricunet.com/Catalog/eme\n",
      "Medical-Veterinary Entomology Minor; Entomology & Nematology https://ucdavis.pubs.curricunet.com/Catalog/medical-veterinary-entomology\n",
      "Medicine, School of https://ucdavis.pubs.curricunet.com/Catalog/som\n",
      "Medieval & Early Modern Studies; Medieval Studies https://ucdavis.pubs.curricunet.com/Catalog/mst\n",
      "Microbiology (Graduate Group) https://ucdavis.pubs.curricunet.com/Catalog/mib\n",
      "Microbiology & Molecular Genetics https://ucdavis.pubs.curricunet.com/Catalog/mic\n",
      "Middle East/South Asia Studies https://ucdavis.pubs.curricunet.com/Catalog/msa\n",
      "Military Science https://ucdavis.pubs.curricunet.com/Catalog/msc\n",
      "Molecular, Cellular, & Integrative Physiology (Graduate Group) https://ucdavis.pubs.curricunet.com/Catalog/mcp\n",
      "Music https://ucdavis.pubs.curricunet.com/Catalog/mus\n",
      "Native American Studies https://ucdavis.pubs.curricunet.com/Catalog/nas\n",
      "Natural Sciences; Earth & Planetary Sciences https://ucdavis.pubs.curricunet.com/Catalog/natural-sciences\n",
      "Nematology Minor; Entomology & Nematology https://ucdavis.pubs.curricunet.com/Catalog/nem\n",
      "Neurobiology, Physiology, & Behavior https://ucdavis.pubs.curricunet.com/Catalog/npb\n",
      "Neuroscience (Graduate Group) https://ucdavis.pubs.curricunet.com/Catalog/nsc\n",
      "Neuroscience Minor; Neurobiology, Physiology, & Behavior https://ucdavis.pubs.curricunet.com/Catalog/neuroscience\n",
      "Nursing Science & Health-Care Leadership; Nursing https://ucdavis.pubs.curricunet.com/Catalog/nursing-science-health-care-leadership\n",
      "Nutrition & Food Minor; Nutrition https://ucdavis.pubs.curricunet.com/Catalog/nutrition-food\n",
      "Nutrition Science https://ucdavis.pubs.curricunet.com/Catalog/nutrition-science\n",
      "Nutritional Biology (Graduate Group) https://ucdavis.pubs.curricunet.com/Catalog/nub\n",
      "Oceanography Minor; Earth & Planetary Sciences https://ucdavis.pubs.curricunet.com/Catalog/oceanography\n",
      "Performance Studies (Graduate Group) https://ucdavis.pubs.curricunet.com/Catalog/pfs\n",
      "Pharmaceutical Chemistry; Chemistry https://ucdavis.pubs.curricunet.com/Catalog/pharmaceutical-chemistry\n",
      "Pharmacology & Toxicology (Graduate Group) https://ucdavis.pubs.curricunet.com/Catalog/ptx\n",
      "Philosophy https://ucdavis.pubs.curricunet.com/Catalog/phi\n",
      "Physical Education https://ucdavis.pubs.curricunet.com/Catalog/phe\n",
      "Physics https://ucdavis.pubs.curricunet.com/Catalog/phy\n",
      "Plant Biology https://ucdavis.pubs.curricunet.com/Catalog/plb\n",
      "Plant Biology (Graduate Group) https://ucdavis.pubs.curricunet.com/Catalog/pbi\n",
      "Plant Pathology https://ucdavis.pubs.curricunet.com/Catalog/plp\n",
      "Plant Sciences https://ucdavis.pubs.curricunet.com/Catalog/pls\n",
      "Political Science https://ucdavis.pubs.curricunet.com/Catalog/pol\n",
      "Population Biology (Graduate Group) https://ucdavis.pubs.curricunet.com/Catalog/pbg\n",
      "Precision Agriculture Minor; Biological & Agricultural Engineering https://ucdavis.pubs.curricunet.com/Catalog/precision-agriculture\n",
      "Professional Writing Minor; University Writing Program https://ucdavis.pubs.curricunet.com/Catalog/professional-writing\n",
      "Psychology https://ucdavis.pubs.curricunet.com/Catalog/psc\n",
      "Public Health https://ucdavis.pubs.curricunet.com/Catalog/public-health\n",
      "Public Health Sciences https://ucdavis.pubs.curricunet.com/Catalog/sph\n",
      "Quantitative Biology & Bioinformatics Minor; Biological Sciences https://ucdavis.pubs.curricunet.com/Catalog/quantitative-biology-bioinformatics\n",
      "Religious Studies https://ucdavis.pubs.curricunet.com/Catalog/rst\n",
      "Russian https://ucdavis.pubs.curricunet.com/Catalog/rus\n",
      "Science & Society Minor; Science & Society https://ucdavis.pubs.curricunet.com/Catalog/sas\n",
      "Science & Technology Studies https://ucdavis.pubs.curricunet.com/Catalog/sts\n",
      "Science Teaching Credential https://ucdavis.pubs.curricunet.com/Catalog/science-teaching-credential\n",
      "Sexuality Studies Minor; Gender, Sexuality & Women's Studies https://ucdavis.pubs.curricunet.com/Catalog/sexuality-studies\n",
      "Social & Ethnic Relations Minor https://ucdavis.pubs.curricunet.com/Catalog/social-ethnic-relations\n",
      "Social Sciences https://ucdavis.pubs.curricunet.com/Catalog/social-sciences\n",
      "Social Theory & Comparative History https://ucdavis.pubs.curricunet.com/Catalog/social-theory-comparative-history\n",
      "Sociology https://ucdavis.pubs.curricunet.com/Catalog/soc\n",
      "Soil Science Minor; Land, Air & Water Resources https://ucdavis.pubs.curricunet.com/Catalog/ssc\n",
      "Soils & Biogeochemistry (Graduate Group) https://ucdavis.pubs.curricunet.com/Catalog/soils-biogeochemistry-graduate-group\n",
      "Spanish https://ucdavis.pubs.curricunet.com/Catalog/spa\n",
      "Statistics https://ucdavis.pubs.curricunet.com/Catalog/sta\n",
      "Statistics (Graduate Group) https://ucdavis.pubs.curricunet.com/Catalog/statistics-graduate-group\n",
      "Study of Religion (Graduate Group) https://ucdavis.pubs.curricunet.com/Catalog/sor\n",
      "Sustainability in the Built Environment Minor; Civil & Environmental Engineering https://ucdavis.pubs.curricunet.com/Catalog/sustainability-in-the-built-environment\n",
      "Sustainable Agriculture & Food Systems https://ucdavis.pubs.curricunet.com/Catalog/saf\n",
      "Sustainable Environmental Design https://ucdavis.pubs.curricunet.com/Catalog/sustainable-environmental-design\n",
      "Teaching Credential/M.A. Program; Education, School of https://ucdavis.pubs.curricunet.com/Catalog/teaching-credential\n",
      "Technocultural Studies https://ucdavis.pubs.curricunet.com/Catalog/tcs\n",
      "Technology Management Minor; Graduate School of Management https://ucdavis.pubs.curricunet.com/Catalog/technology-management\n",
      "Textiles (Graduate Group) https://ucdavis.pubs.curricunet.com/Catalog/textiles-graduate-group\n",
      "Textiles & Clothing https://ucdavis.pubs.curricunet.com/Catalog/txc\n",
      "Theatre & Dance https://ucdavis.pubs.curricunet.com/Catalog/dra\n",
      "Transportation Technology & Policy (Graduate Group) https://ucdavis.pubs.curricunet.com/Catalog/ttp\n",
      "UC Davis Study Abroad https://ucdavis.pubs.curricunet.com/Catalog/eap\n",
      "UC Washington Center https://ucdavis.pubs.curricunet.com/Catalog/washington\n",
      "University Honors Program https://ucdavis.pubs.curricunet.com/Catalog/hnr\n",
      "University Writing Program https://ucdavis.pubs.curricunet.com/Catalog/uwp\n",
      "Veterinary Medicine, School of https://ucdavis.pubs.curricunet.com/Catalog/veterinary-medicine\n",
      "Viticulture & Enology https://ucdavis.pubs.curricunet.com/Catalog/ven\n",
      "Viticulture & Enology (Graduate Group) https://ucdavis.pubs.curricunet.com/Catalog/viticulture-enology-graduate-group\n",
      "War-Peace Studies Minor; International Relations https://ucdavis.pubs.curricunet.com/Catalog/war-peace-studies\n",
      "Watershed Science Minor; Land, Air & Water Resources https://ucdavis.pubs.curricunet.com/Catalog/watershed-science\n",
      "Wildlife, Fish, & Conservation Biology https://ucdavis.pubs.curricunet.com/Catalog/wfc\n"
     ]
    }
   ],
   "source": [
    "lis=['Course','URL','University']\n",
    "info=[]\n",
    "info.append(lis)\n",
    "\n",
    "from selenium import webdriver\n",
    "import csv\n",
    "\n",
    "chrome_options = webdriver.ChromeOptions()\n",
    "chrome_options.add_argument('--no-sandbox')\n",
    "driver = webdriver.Chrome(\"C:\\\\Users\\MOHAN KUMAR SAH\\Documents\\My Work\\PakkaIndia\\chromedriver\",chrome_options=chrome_options)\n",
    "\n",
    "driver.get('https://ucdavis.pubs.curricunet.com/Catalog/departments-programs-degrees')\n",
    "\n",
    "data1=driver.find_elements_by_id('bodytop')\n",
    "data2=driver.find_elements_by_tag_name('ul')\n",
    "for i in range(2,len(data2)):\n",
    "    data3=data2[i].find_elements_by_tag_name('li')\n",
    "    for j in range(len(data3)):\n",
    "        c=data3[j].text\n",
    "        url=data3[j].find_element_by_tag_name('a').get_attribute('href')\n",
    "        \n",
    "        info.append([c,url,'University of California, Davis'])\n",
    "        print(c,url)\n",
    "        \n",
    "driver.quit()"
   ]
  },
  {
   "cell_type": "code",
   "execution_count": 18,
   "metadata": {},
   "outputs": [],
   "source": [
    "with open('University_of_California,_Davis.csv','w',encoding=\"utf-8\",newline=\"\") as file:\n",
    "    write=csv.writer(file)\n",
    "    for row in info:\n",
    "        write.writerow(row)"
   ]
  },
  {
   "cell_type": "code",
   "execution_count": null,
   "metadata": {},
   "outputs": [],
   "source": []
  }
 ],
 "metadata": {
  "kernelspec": {
   "display_name": "Python 3",
   "language": "python",
   "name": "python3"
  },
  "language_info": {
   "codemirror_mode": {
    "name": "ipython",
    "version": 3
   },
   "file_extension": ".py",
   "mimetype": "text/x-python",
   "name": "python",
   "nbconvert_exporter": "python",
   "pygments_lexer": "ipython3",
   "version": "3.6.5"
  }
 },
 "nbformat": 4,
 "nbformat_minor": 2
}
