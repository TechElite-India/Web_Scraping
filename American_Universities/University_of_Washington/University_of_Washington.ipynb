{
 "cells": [
  {
   "cell_type": "code",
   "execution_count": 1,
   "metadata": {},
   "outputs": [
    {
     "name": "stderr",
     "output_type": "stream",
     "text": [
      "C:\\ProgramData\\Anaconda3\\lib\\site-packages\\ipykernel_launcher.py:6: DeprecationWarning: use options instead of chrome_options\n",
      "  \n"
     ]
    }
   ],
   "source": [
    "from selenium import webdriver\n",
    "import csv\n",
    "\n",
    "chrome_options = webdriver.ChromeOptions()\n",
    "chrome_options.add_argument('--no-sandbox')\n",
    "driver = webdriver.Chrome(\"C:\\\\Users\\MOHAN KUMAR SAH\\Documents\\My Work\\PakkaIndia\\chromedriver\",chrome_options=chrome_options)"
   ]
  },
  {
   "cell_type": "code",
   "execution_count": 2,
   "metadata": {},
   "outputs": [],
   "source": [
    "driver.get('http://www.washington.edu/students/crscat/')"
   ]
  },
  {
   "cell_type": "code",
   "execution_count": 4,
   "metadata": {},
   "outputs": [
    {
     "data": {
      "text/plain": [
       "1"
      ]
     },
     "execution_count": 4,
     "metadata": {},
     "output_type": "execute_result"
    }
   ],
   "source": [
    "data1=driver.find_elements_by_css_selector('div.col-md-8.uw-content')\n",
    "len(data1)"
   ]
  },
  {
   "cell_type": "code",
   "execution_count": 5,
   "metadata": {},
   "outputs": [
    {
     "data": {
      "text/plain": [
       "353"
      ]
     },
     "execution_count": 5,
     "metadata": {},
     "output_type": "execute_result"
    }
   ],
   "source": [
    "data2=data1[0].find_elements_by_tag_name('a')\n",
    "len(data2)"
   ]
  },
  {
   "cell_type": "code",
   "execution_count": 8,
   "metadata": {},
   "outputs": [
    {
     "data": {
      "text/plain": [
       "'Jackson School of International Studies'"
      ]
     },
     "execution_count": 8,
     "metadata": {},
     "output_type": "execute_result"
    }
   ],
   "source": [
    "data2[8].text"
   ]
  },
  {
   "cell_type": "code",
   "execution_count": 17,
   "metadata": {},
   "outputs": [
    {
     "data": {
      "text/plain": [
       "'http://www.washington.edu/students/crscat/#JSIS'"
      ]
     },
     "execution_count": 17,
     "metadata": {},
     "output_type": "execute_result"
    }
   ],
   "source": [
    "data2[8].get_attribute('href')"
   ]
  },
  {
   "cell_type": "code",
   "execution_count": 10,
   "metadata": {},
   "outputs": [
    {
     "data": {
      "text/plain": [
       "'Honors (HONORS)'"
      ]
     },
     "execution_count": 10,
     "metadata": {},
     "output_type": "execute_result"
    }
   ],
   "source": [
    "data2[352].text"
   ]
  },
  {
   "cell_type": "code",
   "execution_count": 16,
   "metadata": {},
   "outputs": [
    {
     "data": {
      "text/plain": [
       "'http://www.washington.edu/students/crscat/hnrs.html'"
      ]
     },
     "execution_count": 16,
     "metadata": {},
     "output_type": "execute_result"
    }
   ],
   "source": [
    "data2[352].get_attribute('href')"
   ]
  },
  {
   "cell_type": "code",
   "execution_count": 13,
   "metadata": {},
   "outputs": [
    {
     "data": {
      "text/plain": [
       "43"
      ]
     },
     "execution_count": 13,
     "metadata": {},
     "output_type": "execute_result"
    }
   ],
   "source": [
    "len('http://www.washington.edu/students/crscat/#')"
   ]
  },
  {
   "cell_type": "markdown",
   "metadata": {},
   "source": [
    "# Full Code"
   ]
  },
  {
   "cell_type": "code",
   "execution_count": 19,
   "metadata": {},
   "outputs": [
    {
     "name": "stderr",
     "output_type": "stream",
     "text": [
      "C:\\ProgramData\\Anaconda3\\lib\\site-packages\\ipykernel_launcher.py:6: DeprecationWarning: use options instead of chrome_options\n",
      "  \n"
     ]
    },
    {
     "name": "stdout",
     "output_type": "stream",
     "text": [
      "Afro-American Studies (AFRAM) http://www.washington.edu/students/crscat/afamst.html\n",
      "American Ethnic Studies (AES) http://www.washington.edu/students/crscat/aes.html\n",
      "Asian-American Studies (AAS) http://www.washington.edu/students/crscat/asamst.html\n",
      "Chicano Studies (CHSTU) http://www.washington.edu/students/crscat/chist.html\n",
      "Swahili (SWA) http://www.washington.edu/students/crscat/swa.html\n",
      "Tagalog (TAGLG) http://www.washington.edu/students/crscat/taglg.html\n",
      "American Indian Studies (AIS) http://www.washington.edu/students/crscat/ais.html\n",
      "Anthropology (ANTH) http://www.washington.edu/students/crscat/anthro.html\n",
      "Archaeology (ARCHY) http://www.washington.edu/students/crscat/archeo.html\n",
      "Biological Anthropology (BIO A) http://www.washington.edu/students/crscat/bioanth.html\n",
      "Applied Mathematics (AMATH) http://www.washington.edu/students/crscat/appmath.html\n",
      "Computational Finance and Risk Management (CFRM) http://www.washington.edu/students/crscat/cfrm.html\n",
      "Arctic Studies (ARCTIC) http://www.washington.edu/students/crscat/arctic.html\n",
      "Art (ART) http://www.washington.edu/students/crscat/art.html\n",
      "Art History (ART H) http://www.washington.edu/students/crscat/arthis.html\n",
      "Design (DESIGN) http://www.washington.edu/students/crscat/design.html\n",
      "Asian Languages and Literature (ASIAN) http://www.washington.edu/students/crscat/asianll.html\n",
      "Bengali (BENG) http://www.washington.edu/students/crscat/beng.html\n",
      "Chinese (CHIN) http://www.washington.edu/students/crscat/chinese.html\n",
      "Hindi (HINDI) http://www.washington.edu/students/crscat/hindi.html\n",
      "Indian (INDN) http://www.washington.edu/students/crscat/indian.html\n",
      "Indonesian (INDO) http://www.washington.edu/students/crscat/indo.html\n",
      "Japanese (JAPAN) http://www.washington.edu/students/crscat/japanese.html\n",
      "Korean (KOREAN) http://www.washington.edu/students/crscat/korean.html\n",
      "Sanskrit (SNKRT) http://www.washington.edu/students/crscat/sanskrit.html\n",
      "Thai (THAI) http://www.washington.edu/students/crscat/thai.html\n",
      "Urdu (URDU) http://www.washington.edu/students/crscat/urdu.html\n",
      "Vietnamese (VIET) http://www.washington.edu/students/crscat/viet.html\n",
      "Astrobiology and Early Evolution (ASTBIO) http://www.washington.edu/students/crscat/astbio.html\n",
      "Astronomy (ASTR) http://www.washington.edu/students/crscat/astro.html\n",
      "Biology (BIOL) http://www.washington.edu/students/crscat/biology.html\n",
      "Botany -- See Biology (BIOL) http://www.washington.edu/students/crscat/biology.html\n",
      "Center for Statistics and Social Sciences (CS SS) http://www.washington.edu/students/crscat/cs%26ss.html\n",
      "Center for Studies in Demography and Ecology (CSDE) http://www.washington.edu/students/crscat/csde.html\n",
      "Center for the Humanities (HUM) http://www.washington.edu/students/crscat/centhum.html\n",
      "Chemistry (CHEM) http://www.washington.edu/students/crscat/chem.html\n",
      "Classical Archaeology (CL AR) http://www.washington.edu/students/crscat/clarch.html\n",
      "Classical Linguistics (CL LI) http://www.washington.edu/students/crscat/cling.html\n",
      "Classics (CLAS) http://www.washington.edu/students/crscat/clas.html\n",
      "Greek (GREEK) http://www.washington.edu/students/crscat/greek.html\n",
      "Latin (LATIN) http://www.washington.edu/students/crscat/latin.html\n",
      "Communication (COM) http://www.washington.edu/students/crscat/com.html\n",
      "Communication Leadership (COMMLD) http://www.washington.edu/students/crscat/commld.html\n",
      "Comparative History of Ideas (CHID) http://www.washington.edu/students/crscat/chid.html\n",
      "Cinema and Media Studies (CMS) http://www.washington.edu/students/crscat/cms.html\n",
      "Comparative Literature (C LIT) http://www.washington.edu/students/crscat/complit.html\n",
      "Computer Science (See Computer Science and Engineering) http://www.washington.edu/students/crscat/cse.html\n",
      "Dance (DANCE) http://www.washington.edu/students/crscat/dance.html\n",
      "Digital Arts and Experimental Media (DXARTS) http://www.washington.edu/students/crscat/dxarts.html\n",
      "Disability Studies (DIS ST) http://www.washington.edu/students/crscat/disst.html\n",
      "Drama (DRAMA) http://www.washington.edu/students/crscat/drama.html\n",
      "Economics (ECON) http://www.washington.edu/students/crscat/econ.html\n",
      "English (ENGL) http://www.washington.edu/students/crscat/engl.html\n",
      "French (FRENCH) http://www.washington.edu/students/crscat/french.html\n",
      "Italian (ITAL) http://www.washington.edu/students/crscat/italian.html\n",
      "Gender, Women, and Sexuality Studies (GWSS) http://www.washington.edu/students/crscat/gwss.html\n",
      "General Studies (GEN ST) http://www.washington.edu/students/crscat/genst.html\n",
      "Individualized Studies (INDIV) http://www.washington.edu/students/crscat/indiv.html\n",
      "Geography (GEOG) http://www.washington.edu/students/crscat/geog.html\n",
      "Germanics (GERMAN) http://www.washington.edu/students/crscat/germ.html\n",
      "Greek (Modern) -- See International Studies (Language) (JSIS C) http://www.washington.edu/students/crscat/jsisc.html\n",
      "Ancient and Medieval History (HSTAM) http://www.washington.edu/students/crscat/ancmedh.html\n",
      "Comparative and Transregional History (HSTCMP) http://www.washington.edu/students/crscat/hstcmp.html\n",
      "History of Africa and the Middle East (HSTAFM) http://www.washington.edu/students/crscat/hstafm.html\n",
      "History of Asia (HSTAS) http://www.washington.edu/students/crscat/histasia.html\n",
      "History of Latin America and the Caribbean (HSTLAC) http://www.washington.edu/students/crscat/hstlac.html\n",
      "History of Modern Europe (HSTEU) http://www.washington.edu/students/crscat/modeuro.html\n",
      "History of North America (United States and Canada) (HSTAA) http://www.washington.edu/students/crscat/histam.html\n",
      "History Seminars and Independent Studies (HSTRY) http://www.washington.edu/students/crscat/hstry.html\n",
      "History and Philosophy of Science (HPS) http://www.washington.edu/students/crscat/hps.html\n",
      "Humanities (See Center for the Humanities) http://www.washington.edu/students/crscat/centhum.html\n",
      "Integrated Science (INTSCI) http://www.washington.edu/students/crscat/intsci.html\n",
      "Integrated Social Sciences (ISS) http://www.washington.edu/students/crscat/iss.html\n",
      "Comparative Religion (RELIG) http://www.washington.edu/students/crscat/religion.html\n",
      "International Studies (Gateway/Core) (JSIS) http://www.washington.edu/students/crscat/jsis.html\n",
      "International Studies (Area Studies) (JSIS A) http://www.washington.edu/students/crscat/jsisa.html\n",
      "International Studies (Global/Thematic) (JSIS B) http://www.washington.edu/students/crscat/jsisb.html\n",
      "International Studies (Comparative Religion/Jewish Studies) (JSIS C) http://www.washington.edu/students/crscat/jsisc.html\n",
      "International Studies (JSIS D) http://www.washington.edu/students/crscat/jsisd.html\n",
      "International Studies (Language) (JSIS E) http://www.washington.edu/students/crscat/jsise.html\n",
      "Jewish Studies (JEW ST) http://www.washington.edu/students/crscat/jewst.html\n",
      "Jackson School of International Studies http://www.washington.edu/students/crscat/jewst.html\n",
      "Law, Societies, and Justice (LSJ) http://www.washington.edu/students/crscat/lsj.html\n",
      "American Sign Language (ASL) http://www.washington.edu/students/crscat/asl.html\n",
      "Linguistics (LING) http://www.washington.edu/students/crscat/ling.html\n",
      "Mathematics (MATH) http://www.washington.edu/students/crscat/math.html\n",
      "Microbiology (MICROM) -- See Microbiology under School of Medicine http://www.washington.edu/students/crscat/microbio.html\n",
      "Music (MUSIC) http://www.washington.edu/students/crscat/music.html\n",
      "Music - Applied (MUSAP) http://www.washington.edu/students/crscat/appmus.html\n",
      "Music Education (MUSED) http://www.washington.edu/students/crscat/mused.html\n",
      "Music Ensemble (MUSEN) http://www.washington.edu/students/crscat/musensem.html\n",
      "Music History (MUHST) http://www.washington.edu/students/crscat/mushist.html\n",
      "Music Performance (MUSICP) http://www.washington.edu/students/crscat/musicp.html\n",
      "Arabic (ARAB) http://www.washington.edu/students/crscat/arabic.html\n",
      "Aramaic (ARAMIC) http://www.washington.edu/students/crscat/aramic.html\n",
      "Coptic (COPTIC) http://www.washington.edu/students/crscat/coptic.html\n",
      "Egyptian (EGYPT) http://www.washington.edu/students/crscat/egypt.html\n",
      "Ge'ez (GEEZ) http://www.washington.edu/students/crscat/geez.html\n",
      "Biblical Hebrew (BIBHEB) http://www.washington.edu/students/crscat/bibheb.html\n",
      "Modern Hebrew (MODHEB) http://www.washington.edu/students/crscat/modheb.html\n",
      "Near Eastern Languages and Civilization (NEAR E) http://www.washington.edu/students/crscat/neareast.html\n",
      "Persian (PRSAN) http://www.washington.edu/students/crscat/persian.html\n"
     ]
    },
    {
     "name": "stdout",
     "output_type": "stream",
     "text": [
      "Turkic (TURKIC) http://www.washington.edu/students/crscat/turkc.html\n",
      "Chagatai (CHGTAI) http://www.washington.edu/students/crscat/chgtai.html\n",
      "Kazakh (KAZAKH) http://www.washington.edu/students/crscat/kazakh.html\n",
      "Kyrgyz (KYRGYZ) http://www.washington.edu/students/crscat/kyrgyz.html\n",
      "Uygur (UYGUR) http://www.washington.edu/students/crscat/uygur.html\n",
      "Uzbek (UZBEK) http://www.washington.edu/students/crscat/uzbek.html\n",
      "Turkish (TKISH) http://www.washington.edu/students/crscat/turkish.html\n",
      "Ugaritic (UGARIT) http://www.washington.edu/students/crscat/ugarit.html\n",
      "Neurobiology (NBIO) http://www.washington.edu/students/crscat/nbio.html\n",
      "Ethics (ETHICS) http://www.washington.edu/students/crscat/ethics.html\n",
      "Philosophy (PHIL) http://www.washington.edu/students/crscat/phil.html\n",
      "Values in Society (VALUES) http://www.washington.edu/students/crscat/values.html\n",
      "Physics (PHYS) http://www.washington.edu/students/crscat/phys.html\n",
      "Political Science (POL S) http://www.washington.edu/students/crscat/polisci.html\n",
      "Applied Child and Adolescent Psychology (PSYCAP) http://www.washington.edu/students/crscat/psycap.html\n",
      "Clinical Psychology (PSYCLN) http://www.washington.edu/students/crscat/psycln.html\n",
      "Psychology (PSYCH) http://www.washington.edu/students/crscat/psych.html\n",
      "Danish (DANISH) http://www.washington.edu/students/crscat/danish.html\n",
      "Estonian (ESTO) http://www.washington.edu/students/crscat/eston.html\n",
      "Finnish (FINN) http://www.washington.edu/students/crscat/finnish.html\n",
      "Latvian (LATV) http://www.washington.edu/students/crscat/latvian.html\n",
      "Lithuanian (LITH) http://www.washington.edu/students/crscat/lith.html\n",
      "Norwegian (NORW) http://www.washington.edu/students/crscat/norweg.html\n",
      "Scandinavian (SCAND) http://www.washington.edu/students/crscat/scand.html\n",
      "Swedish (SWED) http://www.washington.edu/students/crscat/swedish.html\n",
      "Bosnian/Croatian/Montenegrin/Serbian (BCMS) http://www.washington.edu/students/crscat/bcms.html\n",
      "Bulgarian (BULGR) http://www.washington.edu/students/crscat/bulgar.html\n",
      "Czech (CZECH) http://www.washington.edu/students/crscat/czech.html\n",
      "Polish (POLSH) http://www.washington.edu/students/crscat/polish.html\n",
      "Russian (RUSS) http://www.washington.edu/students/crscat/russian.html\n",
      "Slavic Languages and Literatures (SLAVIC) http://www.washington.edu/students/crscat/slavic.html\n",
      "Slovenian (SLVN) http://www.washington.edu/students/crscat/slvn.html\n",
      "Ukrainian (UKR) http://www.washington.edu/students/crscat/ukrain.html\n",
      "Sociology (SOC) http://www.washington.edu/students/crscat/soc.html\n",
      "Portuguese (PORT) http://www.washington.edu/students/crscat/port.html\n",
      "Spanish (SPAN) http://www.washington.edu/students/crscat/spanish.html\n",
      "Spanish Linguistics (SPLING) http://www.washington.edu/students/crscat/spanlin.html\n",
      "Speech and Hearing Sciences (SPHSC) http://www.washington.edu/students/crscat/sphsc.html\n",
      "Statistics (STAT) http://www.washington.edu/students/crscat/stat.html\n",
      "Women Studies (WOMEN) -- See Gender, Women, and Sexuality Studies (GWSS) http://www.washington.edu/students/crscat/gwss.html\n",
      "Zoology -- See Biology (BIOL) http://www.washington.edu/students/crscat/biology.html\n",
      "Architecture (ARCH) http://www.washington.edu/students/crscat/archit.html\n",
      "Built Environment (B E) http://www.washington.edu/students/crscat/be.html\n",
      "Construction Management (CM) http://www.washington.edu/students/crscat/constmgmt.html\n",
      "Landscape Architecture (L ARCH) http://www.washington.edu/students/crscat/landscape.html\n",
      "Real Estate (R E) http://www.washington.edu/students/crscat/re.html\n",
      "Community, Environment, and Planning (CEP) http://www.washington.edu/students/crscat/commenv.html\n",
      "Infrastructure Planning and Management (IPM) http://www.washington.edu/students/crscat/ipm.html\n",
      "Strategic Planning for Critical Infrastructures (SPCI) http://www.washington.edu/students/crscat/spci.html\n",
      "Urban Planning (URBDP) http://www.washington.edu/students/crscat/urbdes.html\n",
      "Accounting (ACCTG) http://www.washington.edu/students/crscat/acctg.html\n",
      "Administration (ADMIN) http://www.washington.edu/students/crscat/admin.html\n",
      "Business Administration (B A) http://www.washington.edu/students/crscat/ba.html\n",
      "Business Administration Research Methods (BA RM) http://www.washington.edu/students/crscat/barm.html\n",
      "Business Communications (B CMU) http://www.washington.edu/students/crscat/buscomm.html\n",
      "Business Economics (B ECON) http://www.washington.edu/students/crscat/busecon.html\n",
      "Entrepreneurship (ENTRE) http://www.washington.edu/students/crscat/entre.html\n",
      "Finance (FIN) http://www.washington.edu/students/crscat/finance.html\n",
      "Information Systems (I S) http://www.washington.edu/students/crscat/infosys.html\n",
      "Information Systems Master of Science (MSIS) http://www.washington.edu/students/crscat/msis.html\n",
      "International Business (I BUS) http://www.washington.edu/students/crscat/intlbus.html\n",
      "Management (MGMT) http://www.washington.edu/students/crscat/mgmt.html\n",
      "Marketing (MKTG) http://www.washington.edu/students/crscat/mktg.html\n",
      "Operations Management (OPMGT) http://www.washington.edu/students/crscat/opmgmt.html\n",
      "Quantitative Methods (QMETH) http://www.washington.edu/students/crscat/qmeth.html\n",
      "Supply Chain Management (SCM) http://www.washington.edu/students/crscat/scm.html\n",
      "Dental Clinical (DENTCL) http://www.washington.edu/students/crscat/dentcl.html\n",
      "Dental Electives (DENTEL) http://www.washington.edu/students/crscat/dentel.html\n",
      "Dental Foundations (DENTFN) http://www.washington.edu/students/crscat/dentfn.html\n",
      "Dental General Practice (DENTGP) http://www.washington.edu/students/crscat/dentgp.html\n",
      "Dental Hygiene (D HYG) http://www.washington.edu/students/crscat/denthy.html\n",
      "Dental Pre-Clinical (DENTPC) http://www.washington.edu/students/crscat/dentpc.html\n",
      "Dental Public Health Sciences (DPHS) http://www.washington.edu/students/crscat/dphs.html\n",
      "Dental Selectives (DENTSL) http://www.washington.edu/students/crscat/dentsl.html\n",
      "Dentistry (DENT) http://www.washington.edu/students/crscat/dent.html\n",
      "Oral Surgery (O S) http://www.washington.edu/students/crscat/os.html\n",
      "Pedodontics (PEDO) http://www.washington.edu/students/crscat/pedodon.html\n",
      "Endodontics (ENDO) http://www.washington.edu/students/crscat/endo.html\n",
      "Oral Biology (ORALB) http://www.washington.edu/students/crscat/oralbio.html\n",
      "Oral Health Sciences (OHS) http://www.washington.edu/students/crscat/ohs.html\n",
      "Oral Medicine (ORALM) http://www.washington.edu/students/crscat/oralm.html\n",
      "Orthodontics (ORTHO) http://www.washington.edu/students/crscat/orthod.html\n",
      "Periodontics (PERIO) http://www.washington.edu/students/crscat/perio.html\n",
      "Prosthodontics (PROS) http://www.washington.edu/students/crscat/pros.html\n",
      "Restorative Dentistry (RES D) http://www.washington.edu/students/crscat/restor.html\n",
      "Curriculum and Instruction (EDC&I) http://www.washington.edu/students/crscat/edci.html\n",
      "College of Education (EDUC) http://www.washington.edu/students/crscat/indsrf.html\n",
      "Early Childhood and Family Studies (ECFS) http://www.washington.edu/students/crscat/ecfs.html\n",
      "Education (Teacher Education Program) (EDTEP) http://www.washington.edu/students/crscat/teached.html\n",
      "Educational Leadership and Policy Studies (EDLPS) http://www.washington.edu/students/crscat/edlp.html\n",
      "Educational Psychology (EDPSY) http://www.washington.edu/students/crscat/edpsy.html\n",
      "Special Education (EDSPE) http://www.washington.edu/students/crscat/sped.html\n",
      "Aeronautics and Astronautics (A A) http://www.washington.edu/students/crscat/aa.html\n",
      "Aerospace Engineering (A E) http://www.washington.edu/students/crscat/ae.html\n",
      "Chemical Engineering (CHEM E) http://www.washington.edu/students/crscat/cheng.html\n",
      "Nanoscience and Molecular Engineering (NME) http://www.washington.edu/students/crscat/nme.html\n",
      "Civil and Environmental Engineering (CEE) http://www.washington.edu/students/crscat/cee.html\n",
      "Construction, Energy, and Sustainable Infrastructure (CESI) http://www.washington.edu/students/crscat/cesi.html\n",
      "Environmental Engineering (CEWA) http://www.washington.edu/students/crscat/cewa.html\n",
      "Structural and Geotechnical Engineering and Mechanics (CESG) http://www.washington.edu/students/crscat/cesg.html\n",
      "Transportation Engineering (CET) http://www.washington.edu/students/crscat/cet.html\n",
      "Computer Science and Engineering (CSE) http://www.washington.edu/students/crscat/cse.html\n",
      "Computer Science and Engineering -- Accelerated Masters Program (CSE M) http://www.washington.edu/students/crscat/csem.html\n",
      "Computer Science and Engineering -- Data Science (CSE D) http://www.washington.edu/students/crscat/csed.html\n",
      "Computer Science and Engineering -- Professional Masters Program (CSE P) http://www.washington.edu/students/crscat/csep.html\n",
      "Electrical Engineering (E E) http://www.washington.edu/students/crscat/ee.html\n",
      "Engineering (ENGR) http://www.washington.edu/students/crscat/engr.html\n",
      "Human Centered Design and Engineering (HCDE) http://www.washington.edu/students/crscat/hcde.html\n",
      "Industrial Engineering (IND E) http://www.washington.edu/students/crscat/inde.html\n",
      "Materials Science and Engineering (MSE) http://www.washington.edu/students/crscat/mse.html\n"
     ]
    },
    {
     "name": "stdout",
     "output_type": "stream",
     "text": [
      "Mechanical Engineering (M E) http://www.washington.edu/students/crscat/meche.html\n",
      "Aquatic and Fishery Sciences (FISH) http://www.washington.edu/students/crscat/fish.html\n",
      "Atmospheric Sciences (ATM S) http://www.washington.edu/students/crscat/atmos.html\n",
      "College of the Environment (C ENV) http://www.washington.edu/students/crscat/cenv.html\n",
      "Science Teaching (SCI T) http://www.washington.edu/students/crscat/scit.html\n",
      "Earth and Space Sciences (ESS) http://www.washington.edu/students/crscat/ess.html\n",
      "Program on the Environment (ENVIR) http://www.washington.edu/students/crscat/envst.html\n",
      "Bioresource and Science Engineering (BSE) http://www.washington.edu/students/crscat/bse.html\n",
      "Environmental Science and Resource Management (ESRM) http://www.washington.edu/students/crscat/esrm.html\n",
      "School of Environmental and Forest Sciences (SEFS) http://www.washington.edu/students/crscat/sefs.html\n",
      "Friday Harbor Labs (FHL) http://www.washington.edu/students/crscat/fhl.html\n",
      "School of Marine and Environmental Affairs (SMEA) http://www.washington.edu/students/crscat/smea.html\n",
      "Marine Biology (MARBIO) http://www.washington.edu/students/crscat/marbio.html\n",
      "Oceanography (OCEAN) http://www.washington.edu/students/crscat/ocean.html\n",
      "Quantitative Science (Q SCI) http://www.washington.edu/students/crscat/quantsci.html\n",
      "Quantitative Ecology and Resource Management (QERM) http://www.washington.edu/students/crscat/quante.html\n",
      "Quaternary Sciences (QUAT) http://www.washington.edu/students/crscat/qrc.html\n",
      "Informatics (INFO) http://www.washington.edu/students/crscat/info.html\n",
      "Information Management and Technology (IMT) http://www.washington.edu/students/crscat/imt.html\n",
      "Information Science (INSC) http://www.washington.edu/students/crscat/insc.html\n",
      "Information Technology Applications (ITA) http://www.washington.edu/students/crscat/ita.html\n",
      "Library and Information Science (LIS) http://www.washington.edu/students/crscat/lis.html\n",
      "Library Information Technoolgy in Schools (LITS) http://www.washington.edu/students/crscat/lits.html\n",
      "Biomolecular Structure and Design (BMSD) http://www.washington.edu/students/crscat/bmsd.html\n",
      "Data Science (DATA) http://www.washington.edu/students/crscat/data.html\n",
      "Graduate School (GRDSCH) http://www.washington.edu/students/crscat/grad.html\n",
      "Human-Computer Interaction Design (HCID) http://www.washington.edu/students/crscat/hcid.html\n",
      "Individual PhD (IPHD) http://www.washington.edu/students/crscat/iphd.html\n",
      "Molecular and Cellular Biology (MCB) http://www.washington.edu/students/crscat/mcb.html\n",
      "Molecular Engineering (MOLENG) http://www.washington.edu/students/crscat/moleng.html\n",
      "Museology (MUSEUM) http://www.washington.edu/students/crscat/museo.html\n",
      "Near and Middle Eastern Studies (N MES) http://www.washington.edu/students/crscat/nearmide.html\n",
      "Neurobiology and Behavior (NEUBEH) http://www.washington.edu/students/crscat/neurobio.html\n",
      "Neuroscience (NEURO) http://www.washington.edu/students/crscat/neuro.html\n",
      "Nutritional Science (NUTR) http://www.washington.edu/students/crscat/nutrit.html\n",
      "Science, Technology, and Society Studies (STSS) http://www.washington.edu/students/crscat/stss.html\n",
      "Technology Innovation (TECHIN) http://www.washington.edu/students/crscat/techin.html\n",
      "Bioengineering (BIOEN) http://www.washington.edu/students/crscat/bioeng.html\n",
      "Pharmaceutical Bioengineering (PHARBE) http://www.washington.edu/students/crscat/pharbe.html\n",
      "Global Health (G H) http://www.washington.edu/students/crscat/gh.html\n",
      "University Conjoint Courses (UCONJ) http://www.washington.edu/students/crscat/uconjoint.html\n",
      "Law (LAW) http://www.washington.edu/students/crscat/law.html\n",
      "Law A (LAW A) http://www.washington.edu/students/crscat/lawa.html\n",
      "Law B (LAW B) http://www.washington.edu/students/crscat/lawb.html\n",
      "Law C (LAW C) http://www.washington.edu/students/crscat/lawc.html\n",
      "Law E (LAW E) http://www.washington.edu/students/crscat/lawe.html\n",
      "Law (Health) (LAW H) http://www.washington.edu/students/crscat/lawh.html\n",
      "Law (Intellectual Property) (LAW P) http://www.washington.edu/students/crscat/lawp.html\n",
      "Law (Taxation) (LAW T) http://www.washington.edu/students/crscat/lawt.html\n",
      "Anesthesiology (ANEST) http://www.washington.edu/students/crscat/anest.html\n",
      "Biochemistry (BIOC) http://www.washington.edu/students/crscat/bioch.html\n",
      "Bioethics and Humanities (B H) http://www.washington.edu/students/crscat/bh.html\n",
      "Biological Structure (B STR) http://www.washington.edu/students/crscat/biostruct.html\n",
      "Biomedical Informatics and Medical Education (BIME) http://www.washington.edu/students/crscat/bime.html\n",
      "Comparative Medicine (C MED) http://www.washington.edu/students/crscat/compmed.html\n",
      "Conjoint Courses (CONJ) http://www.washington.edu/students/crscat/conj.html\n",
      "Family Medicine (FAMED) http://www.washington.edu/students/crscat/famed.html\n",
      "Genome Sciences (GENOME) http://www.washington.edu/students/crscat/genome.html\n",
      "Global Health (G H) http://www.washington.edu/students/crscat/gh.html\n",
      "Human Biology (HUBIO) http://www.washington.edu/students/crscat/humbio.html\n",
      "Immunology (IMMUN) http://www.washington.edu/students/crscat/immun.html\n",
      "Laboratory Medicine (LAB M) http://www.washington.edu/students/crscat/labmed.html\n",
      "MEDEX (MEDEX) http://www.washington.edu/students/crscat/medex.html\n",
      "Emergency Medicine (MED EM) http://www.washington.edu/students/crscat/medem.html\n",
      "Medicine (MED) http://www.washington.edu/students/crscat/medicine.html\n",
      "Medicine Elective Clerkships (MEDECK) http://www.washington.edu/students/crscat/medeck.html\n",
      "Medicine Required Clerkships (MEDRCK) http://www.washington.edu/students/crscat/medrck.html\n",
      "Medical Science (MEDSCI) http://www.washington.edu/students/crscat/medsci.html\n",
      "Microbiology (MICROM) http://www.washington.edu/students/crscat/microbio.html\n",
      "Neurological Surgery (NEUR S) http://www.washington.edu/students/crscat/neurosurg.html\n",
      "Neurology (NEURL) http://www.washington.edu/students/crscat/neurl.html\n",
      "Obstetrics and Gynecology (OB GYN) http://www.washington.edu/students/crscat/obgyn.html\n",
      "Ophthalmology (OPHTH) http://www.washington.edu/students/crscat/ophthal.html\n",
      "Orthopaedics (ORTHP) http://www.washington.edu/students/crscat/orthop.html\n",
      "Otolaryngology-Head and Neck Surgery (OTOHN) http://www.washington.edu/students/crscat/otol.html\n",
      "Pathology (PATH) http://www.washington.edu/students/crscat/patho.html\n",
      "Pediatrics (PEDS) http://www.washington.edu/students/crscat/pediat.html\n",
      "Pharmacology (PHCOL) http://www.washington.edu/students/crscat/pharma.html\n",
      "Physiology and Biophysics (P BIO) http://www.washington.edu/students/crscat/physiolbio.html\n",
      "Psychiatry and Behavioral Sciences (PBSCI) http://www.washington.edu/students/crscat/psychbehav.html\n",
      "Radiation Oncology (R ONC) http://www.washington.edu/students/crscat/radonc.html\n",
      "Radiology (RADGY) http://www.washington.edu/students/crscat/radiol.html\n",
      "Prosthetics and Orthotics (RHB PO) http://www.washington.edu/students/crscat/rhbpo.html\n",
      "Rehabilitation Medicine (REHAB) http://www.washington.edu/students/crscat/rehab.html\n",
      "Surgery (SURG) http://www.washington.edu/students/crscat/surg.html\n",
      "Urology (UROL) http://www.washington.edu/students/crscat/uro.html\n",
      "Infant and Early Childhood Mental Health (IECMH) http://www.washington.edu/students/crscat/iecmh.html\n",
      "Nursing (NSG) http://www.washington.edu/students/crscat/nsg.html\n",
      "Nursing (NURS) http://www.washington.edu/students/crscat/nursing.html\n",
      "Nursing Clinical (NCLIN) http://www.washington.edu/students/crscat/nursingcl.html\n",
      "Nursing Methods (NMETH) http://www.washington.edu/students/crscat/nursingmeth.html\n",
      "Medicinal Chemistry (MEDCH) http://www.washington.edu/students/crscat/medchem.html\n",
      "Pharmaceutics (PCEUT) http://www.washington.edu/students/crscat/pharmceu.html\n",
      "Pharmacy (PHARM) http://www.washington.edu/students/crscat/pharmacy.html\n",
      "Pharmacy Practice (PHARMP) http://www.washington.edu/students/crscat/pharmp.html\n",
      "Pharmacy Regulatory Affairs (PHRMRA) http://www.washington.edu/students/crscat/phrmra.html\n",
      "Public Affairs Executive MPA (PA EX) http://www.washington.edu/students/crscat/paex.html\n",
      "Public Policy (PUBPOL) http://www.washington.edu/students/crscat/pubpol.html\n",
      "Public Policy and Management (PPM) http://www.washington.edu/students/crscat/ppm.html\n",
      "Biostatistics (BIOST) http://www.washington.edu/students/crscat/biostat.html\n",
      "Environmental Health (ENV H) http://www.washington.edu/students/crscat/envh.html\n",
      "Epidemiology (EPI) http://www.washington.edu/students/crscat/epidem.html\n",
      "Global Health (G H) http://www.washington.edu/students/crscat/gh.html\n",
      "Health Informatics and Health Information Management (HIHIM) http://www.washington.edu/students/crscat/hihim.html\n"
     ]
    },
    {
     "name": "stdout",
     "output_type": "stream",
     "text": [
      "Health Services (HSERV) http://www.washington.edu/students/crscat/hlthsvcs.html\n",
      "Health Services Management (HSMGMT) http://www.washington.edu/students/crscat/hsmgmt.html\n",
      "Nutritional Science (NUTR) -- See Interdisciplinary Graduate Programs http://www.washington.edu/students/crscat/nutrit.html\n",
      "Pathobiology (PABIO) http://www.washington.edu/students/crscat/pathobio.html\n",
      "Public Health Genetics (PHG) http://www.washington.edu/students/crscat/phg.html\n",
      "School of Public Health (SPH) http://www.washington.edu/students/crscat/sph.html\n",
      "Aerospace Studies (A S) http://www.washington.edu/students/crscat/aerosci.html\n",
      "Military Science (M SCI) http://www.washington.edu/students/crscat/milsci.html\n",
      "Naval Science (N SCI) http://www.washington.edu/students/crscat/navsci.html\n",
      "Social Welfare BASW (SOC WF) http://www.washington.edu/students/crscat/socwlbasw.html\n",
      "Social Welfare (SOC WL) http://www.washington.edu/students/crscat/socwl.html\n",
      "Social Work (MSW) (SOC W) http://www.washington.edu/students/crscat/socwk.html\n",
      "Arctic Studies (ARCTIC) http://www.washington.edu/students/crscat/arctic.html\n",
      "Honors (HONORS) http://www.washington.edu/students/crscat/hnrs.html\n"
     ]
    }
   ],
   "source": [
    "from selenium import webdriver\n",
    "import csv\n",
    "\n",
    "chrome_options = webdriver.ChromeOptions()\n",
    "chrome_options.add_argument('--no-sandbox')\n",
    "driver = webdriver.Chrome(\"C:\\\\Users\\MOHAN KUMAR SAH\\Documents\\My Work\\PakkaIndia\\chromedriver\",chrome_options=chrome_options)\n",
    "\n",
    "lis=['Course','University','URL']\n",
    "info=[]\n",
    "info.append(lis)\n",
    "\n",
    "driver.get('http://www.washington.edu/students/crscat/')\n",
    "data1=driver.find_elements_by_css_selector('div.col-md-8.uw-content')\n",
    "data2=data1[0].find_elements_by_tag_name('a')\n",
    "for i in range(8,353):\n",
    "    c=data2[i].text\n",
    "    url=data2[i].get_attribute('href')\n",
    "    if(url[42]!='#'):\n",
    "        info.append([c,'University of Washington',url])\n",
    "        print(c,url)\n",
    "        \n",
    "driver.quit()"
   ]
  },
  {
   "cell_type": "code",
   "execution_count": 20,
   "metadata": {},
   "outputs": [
    {
     "data": {
      "text/plain": [
       "331"
      ]
     },
     "execution_count": 20,
     "metadata": {},
     "output_type": "execute_result"
    }
   ],
   "source": [
    "len(info)"
   ]
  },
  {
   "cell_type": "code",
   "execution_count": 22,
   "metadata": {},
   "outputs": [],
   "source": [
    "with open('University_of_Washington.csv','w',encoding=\"utf-8\",newline=\"\") as file:\n",
    "    write=csv.writer(file)\n",
    "    for row in info:\n",
    "        write.writerow(row)"
   ]
  },
  {
   "cell_type": "code",
   "execution_count": null,
   "metadata": {},
   "outputs": [],
   "source": []
  }
 ],
 "metadata": {
  "kernelspec": {
   "display_name": "Python 3",
   "language": "python",
   "name": "python3"
  },
  "language_info": {
   "codemirror_mode": {
    "name": "ipython",
    "version": 3
   },
   "file_extension": ".py",
   "mimetype": "text/x-python",
   "name": "python",
   "nbconvert_exporter": "python",
   "pygments_lexer": "ipython3",
   "version": "3.6.5"
  }
 },
 "nbformat": 4,
 "nbformat_minor": 2
}
