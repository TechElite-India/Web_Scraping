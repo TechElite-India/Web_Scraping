{
 "cells": [
  {
   "cell_type": "code",
   "execution_count": 1,
   "metadata": {},
   "outputs": [
    {
     "name": "stderr",
     "output_type": "stream",
     "text": [
      "C:\\ProgramData\\Anaconda3\\lib\\site-packages\\ipykernel_launcher.py:6: DeprecationWarning: use options instead of chrome_options\n",
      "  \n"
     ]
    }
   ],
   "source": [
    "from selenium import webdriver\n",
    "import csv\n",
    "\n",
    "chrome_options = webdriver.ChromeOptions()\n",
    "chrome_options.add_argument('--no-sandbox')\n",
    "driver = webdriver.Chrome(\"C:\\\\Users\\MOHAN KUMAR SAH\\Documents\\My Work\\PakkaIndia\\chromedriver\",chrome_options=chrome_options)"
   ]
  },
  {
   "cell_type": "code",
   "execution_count": 2,
   "metadata": {},
   "outputs": [],
   "source": [
    "driver.get('https://catalog.registrar.ucla.edu/ucla-catalog18-19-271.html')"
   ]
  },
  {
   "cell_type": "code",
   "execution_count": 7,
   "metadata": {},
   "outputs": [
    {
     "data": {
      "text/plain": [
       "[<selenium.webdriver.remote.webelement.WebElement (session=\"52bcf14b6f3c1637b0217865ed3fcd7e\", element=\"0.30952199326552154-1\")>,\n",
       " <selenium.webdriver.remote.webelement.WebElement (session=\"52bcf14b6f3c1637b0217865ed3fcd7e\", element=\"0.30952199326552154-2\")>,\n",
       " <selenium.webdriver.remote.webelement.WebElement (session=\"52bcf14b6f3c1637b0217865ed3fcd7e\", element=\"0.30952199326552154-3\")>,\n",
       " <selenium.webdriver.remote.webelement.WebElement (session=\"52bcf14b6f3c1637b0217865ed3fcd7e\", element=\"0.30952199326552154-4\")>,\n",
       " <selenium.webdriver.remote.webelement.WebElement (session=\"52bcf14b6f3c1637b0217865ed3fcd7e\", element=\"0.30952199326552154-5\")>,\n",
       " <selenium.webdriver.remote.webelement.WebElement (session=\"52bcf14b6f3c1637b0217865ed3fcd7e\", element=\"0.30952199326552154-6\")>,\n",
       " <selenium.webdriver.remote.webelement.WebElement (session=\"52bcf14b6f3c1637b0217865ed3fcd7e\", element=\"0.30952199326552154-7\")>,\n",
       " <selenium.webdriver.remote.webelement.WebElement (session=\"52bcf14b6f3c1637b0217865ed3fcd7e\", element=\"0.30952199326552154-8\")>,\n",
       " <selenium.webdriver.remote.webelement.WebElement (session=\"52bcf14b6f3c1637b0217865ed3fcd7e\", element=\"0.30952199326552154-9\")>,\n",
       " <selenium.webdriver.remote.webelement.WebElement (session=\"52bcf14b6f3c1637b0217865ed3fcd7e\", element=\"0.30952199326552154-10\")>,\n",
       " <selenium.webdriver.remote.webelement.WebElement (session=\"52bcf14b6f3c1637b0217865ed3fcd7e\", element=\"0.30952199326552154-11\")>,\n",
       " <selenium.webdriver.remote.webelement.WebElement (session=\"52bcf14b6f3c1637b0217865ed3fcd7e\", element=\"0.30952199326552154-12\")>,\n",
       " <selenium.webdriver.remote.webelement.WebElement (session=\"52bcf14b6f3c1637b0217865ed3fcd7e\", element=\"0.30952199326552154-13\")>,\n",
       " <selenium.webdriver.remote.webelement.WebElement (session=\"52bcf14b6f3c1637b0217865ed3fcd7e\", element=\"0.30952199326552154-14\")>,\n",
       " <selenium.webdriver.remote.webelement.WebElement (session=\"52bcf14b6f3c1637b0217865ed3fcd7e\", element=\"0.30952199326552154-15\")>,\n",
       " <selenium.webdriver.remote.webelement.WebElement (session=\"52bcf14b6f3c1637b0217865ed3fcd7e\", element=\"0.30952199326552154-16\")>,\n",
       " <selenium.webdriver.remote.webelement.WebElement (session=\"52bcf14b6f3c1637b0217865ed3fcd7e\", element=\"0.30952199326552154-17\")>,\n",
       " <selenium.webdriver.remote.webelement.WebElement (session=\"52bcf14b6f3c1637b0217865ed3fcd7e\", element=\"0.30952199326552154-18\")>,\n",
       " <selenium.webdriver.remote.webelement.WebElement (session=\"52bcf14b6f3c1637b0217865ed3fcd7e\", element=\"0.30952199326552154-19\")>,\n",
       " <selenium.webdriver.remote.webelement.WebElement (session=\"52bcf14b6f3c1637b0217865ed3fcd7e\", element=\"0.30952199326552154-20\")>,\n",
       " <selenium.webdriver.remote.webelement.WebElement (session=\"52bcf14b6f3c1637b0217865ed3fcd7e\", element=\"0.30952199326552154-21\")>,\n",
       " <selenium.webdriver.remote.webelement.WebElement (session=\"52bcf14b6f3c1637b0217865ed3fcd7e\", element=\"0.30952199326552154-22\")>,\n",
       " <selenium.webdriver.remote.webelement.WebElement (session=\"52bcf14b6f3c1637b0217865ed3fcd7e\", element=\"0.30952199326552154-23\")>,\n",
       " <selenium.webdriver.remote.webelement.WebElement (session=\"52bcf14b6f3c1637b0217865ed3fcd7e\", element=\"0.30952199326552154-24\")>,\n",
       " <selenium.webdriver.remote.webelement.WebElement (session=\"52bcf14b6f3c1637b0217865ed3fcd7e\", element=\"0.30952199326552154-25\")>,\n",
       " <selenium.webdriver.remote.webelement.WebElement (session=\"52bcf14b6f3c1637b0217865ed3fcd7e\", element=\"0.30952199326552154-26\")>,\n",
       " <selenium.webdriver.remote.webelement.WebElement (session=\"52bcf14b6f3c1637b0217865ed3fcd7e\", element=\"0.30952199326552154-27\")>,\n",
       " <selenium.webdriver.remote.webelement.WebElement (session=\"52bcf14b6f3c1637b0217865ed3fcd7e\", element=\"0.30952199326552154-28\")>,\n",
       " <selenium.webdriver.remote.webelement.WebElement (session=\"52bcf14b6f3c1637b0217865ed3fcd7e\", element=\"0.30952199326552154-29\")>,\n",
       " <selenium.webdriver.remote.webelement.WebElement (session=\"52bcf14b6f3c1637b0217865ed3fcd7e\", element=\"0.30952199326552154-30\")>,\n",
       " <selenium.webdriver.remote.webelement.WebElement (session=\"52bcf14b6f3c1637b0217865ed3fcd7e\", element=\"0.30952199326552154-31\")>,\n",
       " <selenium.webdriver.remote.webelement.WebElement (session=\"52bcf14b6f3c1637b0217865ed3fcd7e\", element=\"0.30952199326552154-32\")>,\n",
       " <selenium.webdriver.remote.webelement.WebElement (session=\"52bcf14b6f3c1637b0217865ed3fcd7e\", element=\"0.30952199326552154-33\")>,\n",
       " <selenium.webdriver.remote.webelement.WebElement (session=\"52bcf14b6f3c1637b0217865ed3fcd7e\", element=\"0.30952199326552154-34\")>,\n",
       " <selenium.webdriver.remote.webelement.WebElement (session=\"52bcf14b6f3c1637b0217865ed3fcd7e\", element=\"0.30952199326552154-35\")>,\n",
       " <selenium.webdriver.remote.webelement.WebElement (session=\"52bcf14b6f3c1637b0217865ed3fcd7e\", element=\"0.30952199326552154-36\")>,\n",
       " <selenium.webdriver.remote.webelement.WebElement (session=\"52bcf14b6f3c1637b0217865ed3fcd7e\", element=\"0.30952199326552154-37\")>,\n",
       " <selenium.webdriver.remote.webelement.WebElement (session=\"52bcf14b6f3c1637b0217865ed3fcd7e\", element=\"0.30952199326552154-38\")>,\n",
       " <selenium.webdriver.remote.webelement.WebElement (session=\"52bcf14b6f3c1637b0217865ed3fcd7e\", element=\"0.30952199326552154-39\")>,\n",
       " <selenium.webdriver.remote.webelement.WebElement (session=\"52bcf14b6f3c1637b0217865ed3fcd7e\", element=\"0.30952199326552154-40\")>,\n",
       " <selenium.webdriver.remote.webelement.WebElement (session=\"52bcf14b6f3c1637b0217865ed3fcd7e\", element=\"0.30952199326552154-41\")>,\n",
       " <selenium.webdriver.remote.webelement.WebElement (session=\"52bcf14b6f3c1637b0217865ed3fcd7e\", element=\"0.30952199326552154-42\")>,\n",
       " <selenium.webdriver.remote.webelement.WebElement (session=\"52bcf14b6f3c1637b0217865ed3fcd7e\", element=\"0.30952199326552154-43\")>,\n",
       " <selenium.webdriver.remote.webelement.WebElement (session=\"52bcf14b6f3c1637b0217865ed3fcd7e\", element=\"0.30952199326552154-44\")>,\n",
       " <selenium.webdriver.remote.webelement.WebElement (session=\"52bcf14b6f3c1637b0217865ed3fcd7e\", element=\"0.30952199326552154-45\")>,\n",
       " <selenium.webdriver.remote.webelement.WebElement (session=\"52bcf14b6f3c1637b0217865ed3fcd7e\", element=\"0.30952199326552154-46\")>,\n",
       " <selenium.webdriver.remote.webelement.WebElement (session=\"52bcf14b6f3c1637b0217865ed3fcd7e\", element=\"0.30952199326552154-47\")>,\n",
       " <selenium.webdriver.remote.webelement.WebElement (session=\"52bcf14b6f3c1637b0217865ed3fcd7e\", element=\"0.30952199326552154-48\")>,\n",
       " <selenium.webdriver.remote.webelement.WebElement (session=\"52bcf14b6f3c1637b0217865ed3fcd7e\", element=\"0.30952199326552154-49\")>,\n",
       " <selenium.webdriver.remote.webelement.WebElement (session=\"52bcf14b6f3c1637b0217865ed3fcd7e\", element=\"0.30952199326552154-50\")>,\n",
       " <selenium.webdriver.remote.webelement.WebElement (session=\"52bcf14b6f3c1637b0217865ed3fcd7e\", element=\"0.30952199326552154-51\")>,\n",
       " <selenium.webdriver.remote.webelement.WebElement (session=\"52bcf14b6f3c1637b0217865ed3fcd7e\", element=\"0.30952199326552154-52\")>,\n",
       " <selenium.webdriver.remote.webelement.WebElement (session=\"52bcf14b6f3c1637b0217865ed3fcd7e\", element=\"0.30952199326552154-53\")>,\n",
       " <selenium.webdriver.remote.webelement.WebElement (session=\"52bcf14b6f3c1637b0217865ed3fcd7e\", element=\"0.30952199326552154-54\")>,\n",
       " <selenium.webdriver.remote.webelement.WebElement (session=\"52bcf14b6f3c1637b0217865ed3fcd7e\", element=\"0.30952199326552154-55\")>,\n",
       " <selenium.webdriver.remote.webelement.WebElement (session=\"52bcf14b6f3c1637b0217865ed3fcd7e\", element=\"0.30952199326552154-56\")>,\n",
       " <selenium.webdriver.remote.webelement.WebElement (session=\"52bcf14b6f3c1637b0217865ed3fcd7e\", element=\"0.30952199326552154-57\")>,\n",
       " <selenium.webdriver.remote.webelement.WebElement (session=\"52bcf14b6f3c1637b0217865ed3fcd7e\", element=\"0.30952199326552154-58\")>,\n",
       " <selenium.webdriver.remote.webelement.WebElement (session=\"52bcf14b6f3c1637b0217865ed3fcd7e\", element=\"0.30952199326552154-59\")>,\n",
       " <selenium.webdriver.remote.webelement.WebElement (session=\"52bcf14b6f3c1637b0217865ed3fcd7e\", element=\"0.30952199326552154-60\")>,\n",
       " <selenium.webdriver.remote.webelement.WebElement (session=\"52bcf14b6f3c1637b0217865ed3fcd7e\", element=\"0.30952199326552154-61\")>,\n",
       " <selenium.webdriver.remote.webelement.WebElement (session=\"52bcf14b6f3c1637b0217865ed3fcd7e\", element=\"0.30952199326552154-62\")>,\n",
       " <selenium.webdriver.remote.webelement.WebElement (session=\"52bcf14b6f3c1637b0217865ed3fcd7e\", element=\"0.30952199326552154-63\")>,\n",
       " <selenium.webdriver.remote.webelement.WebElement (session=\"52bcf14b6f3c1637b0217865ed3fcd7e\", element=\"0.30952199326552154-64\")>,\n",
       " <selenium.webdriver.remote.webelement.WebElement (session=\"52bcf14b6f3c1637b0217865ed3fcd7e\", element=\"0.30952199326552154-65\")>,\n",
       " <selenium.webdriver.remote.webelement.WebElement (session=\"52bcf14b6f3c1637b0217865ed3fcd7e\", element=\"0.30952199326552154-66\")>,\n",
       " <selenium.webdriver.remote.webelement.WebElement (session=\"52bcf14b6f3c1637b0217865ed3fcd7e\", element=\"0.30952199326552154-67\")>,\n",
       " <selenium.webdriver.remote.webelement.WebElement (session=\"52bcf14b6f3c1637b0217865ed3fcd7e\", element=\"0.30952199326552154-68\")>,\n",
       " <selenium.webdriver.remote.webelement.WebElement (session=\"52bcf14b6f3c1637b0217865ed3fcd7e\", element=\"0.30952199326552154-69\")>,\n",
       " <selenium.webdriver.remote.webelement.WebElement (session=\"52bcf14b6f3c1637b0217865ed3fcd7e\", element=\"0.30952199326552154-70\")>,\n",
       " <selenium.webdriver.remote.webelement.WebElement (session=\"52bcf14b6f3c1637b0217865ed3fcd7e\", element=\"0.30952199326552154-71\")>,\n",
       " <selenium.webdriver.remote.webelement.WebElement (session=\"52bcf14b6f3c1637b0217865ed3fcd7e\", element=\"0.30952199326552154-72\")>,\n",
       " <selenium.webdriver.remote.webelement.WebElement (session=\"52bcf14b6f3c1637b0217865ed3fcd7e\", element=\"0.30952199326552154-73\")>,\n",
       " <selenium.webdriver.remote.webelement.WebElement (session=\"52bcf14b6f3c1637b0217865ed3fcd7e\", element=\"0.30952199326552154-74\")>,\n",
       " <selenium.webdriver.remote.webelement.WebElement (session=\"52bcf14b6f3c1637b0217865ed3fcd7e\", element=\"0.30952199326552154-75\")>,\n",
       " <selenium.webdriver.remote.webelement.WebElement (session=\"52bcf14b6f3c1637b0217865ed3fcd7e\", element=\"0.30952199326552154-76\")>,\n",
       " <selenium.webdriver.remote.webelement.WebElement (session=\"52bcf14b6f3c1637b0217865ed3fcd7e\", element=\"0.30952199326552154-77\")>,\n",
       " <selenium.webdriver.remote.webelement.WebElement (session=\"52bcf14b6f3c1637b0217865ed3fcd7e\", element=\"0.30952199326552154-78\")>,\n",
       " <selenium.webdriver.remote.webelement.WebElement (session=\"52bcf14b6f3c1637b0217865ed3fcd7e\", element=\"0.30952199326552154-79\")>,\n",
       " <selenium.webdriver.remote.webelement.WebElement (session=\"52bcf14b6f3c1637b0217865ed3fcd7e\", element=\"0.30952199326552154-80\")>,\n",
       " <selenium.webdriver.remote.webelement.WebElement (session=\"52bcf14b6f3c1637b0217865ed3fcd7e\", element=\"0.30952199326552154-81\")>,\n",
       " <selenium.webdriver.remote.webelement.WebElement (session=\"52bcf14b6f3c1637b0217865ed3fcd7e\", element=\"0.30952199326552154-82\")>,\n",
       " <selenium.webdriver.remote.webelement.WebElement (session=\"52bcf14b6f3c1637b0217865ed3fcd7e\", element=\"0.30952199326552154-83\")>,\n",
       " <selenium.webdriver.remote.webelement.WebElement (session=\"52bcf14b6f3c1637b0217865ed3fcd7e\", element=\"0.30952199326552154-84\")>,\n",
       " <selenium.webdriver.remote.webelement.WebElement (session=\"52bcf14b6f3c1637b0217865ed3fcd7e\", element=\"0.30952199326552154-85\")>,\n",
       " <selenium.webdriver.remote.webelement.WebElement (session=\"52bcf14b6f3c1637b0217865ed3fcd7e\", element=\"0.30952199326552154-86\")>,\n",
       " <selenium.webdriver.remote.webelement.WebElement (session=\"52bcf14b6f3c1637b0217865ed3fcd7e\", element=\"0.30952199326552154-87\")>,\n",
       " <selenium.webdriver.remote.webelement.WebElement (session=\"52bcf14b6f3c1637b0217865ed3fcd7e\", element=\"0.30952199326552154-88\")>,\n",
       " <selenium.webdriver.remote.webelement.WebElement (session=\"52bcf14b6f3c1637b0217865ed3fcd7e\", element=\"0.30952199326552154-89\")>,\n",
       " <selenium.webdriver.remote.webelement.WebElement (session=\"52bcf14b6f3c1637b0217865ed3fcd7e\", element=\"0.30952199326552154-90\")>,\n",
       " <selenium.webdriver.remote.webelement.WebElement (session=\"52bcf14b6f3c1637b0217865ed3fcd7e\", element=\"0.30952199326552154-91\")>,\n",
       " <selenium.webdriver.remote.webelement.WebElement (session=\"52bcf14b6f3c1637b0217865ed3fcd7e\", element=\"0.30952199326552154-92\")>,\n",
       " <selenium.webdriver.remote.webelement.WebElement (session=\"52bcf14b6f3c1637b0217865ed3fcd7e\", element=\"0.30952199326552154-93\")>,\n",
       " <selenium.webdriver.remote.webelement.WebElement (session=\"52bcf14b6f3c1637b0217865ed3fcd7e\", element=\"0.30952199326552154-94\")>,\n",
       " <selenium.webdriver.remote.webelement.WebElement (session=\"52bcf14b6f3c1637b0217865ed3fcd7e\", element=\"0.30952199326552154-95\")>,\n",
       " <selenium.webdriver.remote.webelement.WebElement (session=\"52bcf14b6f3c1637b0217865ed3fcd7e\", element=\"0.30952199326552154-96\")>,\n",
       " <selenium.webdriver.remote.webelement.WebElement (session=\"52bcf14b6f3c1637b0217865ed3fcd7e\", element=\"0.30952199326552154-97\")>,\n",
       " <selenium.webdriver.remote.webelement.WebElement (session=\"52bcf14b6f3c1637b0217865ed3fcd7e\", element=\"0.30952199326552154-98\")>,\n",
       " <selenium.webdriver.remote.webelement.WebElement (session=\"52bcf14b6f3c1637b0217865ed3fcd7e\", element=\"0.30952199326552154-99\")>,\n",
       " <selenium.webdriver.remote.webelement.WebElement (session=\"52bcf14b6f3c1637b0217865ed3fcd7e\", element=\"0.30952199326552154-100\")>,\n",
       " <selenium.webdriver.remote.webelement.WebElement (session=\"52bcf14b6f3c1637b0217865ed3fcd7e\", element=\"0.30952199326552154-101\")>,\n",
       " <selenium.webdriver.remote.webelement.WebElement (session=\"52bcf14b6f3c1637b0217865ed3fcd7e\", element=\"0.30952199326552154-102\")>,\n",
       " <selenium.webdriver.remote.webelement.WebElement (session=\"52bcf14b6f3c1637b0217865ed3fcd7e\", element=\"0.30952199326552154-103\")>,\n",
       " <selenium.webdriver.remote.webelement.WebElement (session=\"52bcf14b6f3c1637b0217865ed3fcd7e\", element=\"0.30952199326552154-104\")>,\n",
       " <selenium.webdriver.remote.webelement.WebElement (session=\"52bcf14b6f3c1637b0217865ed3fcd7e\", element=\"0.30952199326552154-105\")>,\n",
       " <selenium.webdriver.remote.webelement.WebElement (session=\"52bcf14b6f3c1637b0217865ed3fcd7e\", element=\"0.30952199326552154-106\")>,\n",
       " <selenium.webdriver.remote.webelement.WebElement (session=\"52bcf14b6f3c1637b0217865ed3fcd7e\", element=\"0.30952199326552154-107\")>,\n",
       " <selenium.webdriver.remote.webelement.WebElement (session=\"52bcf14b6f3c1637b0217865ed3fcd7e\", element=\"0.30952199326552154-108\")>,\n",
       " <selenium.webdriver.remote.webelement.WebElement (session=\"52bcf14b6f3c1637b0217865ed3fcd7e\", element=\"0.30952199326552154-109\")>,\n",
       " <selenium.webdriver.remote.webelement.WebElement (session=\"52bcf14b6f3c1637b0217865ed3fcd7e\", element=\"0.30952199326552154-110\")>,\n",
       " <selenium.webdriver.remote.webelement.WebElement (session=\"52bcf14b6f3c1637b0217865ed3fcd7e\", element=\"0.30952199326552154-111\")>,\n",
       " <selenium.webdriver.remote.webelement.WebElement (session=\"52bcf14b6f3c1637b0217865ed3fcd7e\", element=\"0.30952199326552154-112\")>,\n",
       " <selenium.webdriver.remote.webelement.WebElement (session=\"52bcf14b6f3c1637b0217865ed3fcd7e\", element=\"0.30952199326552154-113\")>,\n",
       " <selenium.webdriver.remote.webelement.WebElement (session=\"52bcf14b6f3c1637b0217865ed3fcd7e\", element=\"0.30952199326552154-114\")>,\n",
       " <selenium.webdriver.remote.webelement.WebElement (session=\"52bcf14b6f3c1637b0217865ed3fcd7e\", element=\"0.30952199326552154-115\")>,\n",
       " <selenium.webdriver.remote.webelement.WebElement (session=\"52bcf14b6f3c1637b0217865ed3fcd7e\", element=\"0.30952199326552154-116\")>,\n",
       " <selenium.webdriver.remote.webelement.WebElement (session=\"52bcf14b6f3c1637b0217865ed3fcd7e\", element=\"0.30952199326552154-117\")>,\n",
       " <selenium.webdriver.remote.webelement.WebElement (session=\"52bcf14b6f3c1637b0217865ed3fcd7e\", element=\"0.30952199326552154-118\")>,\n",
       " <selenium.webdriver.remote.webelement.WebElement (session=\"52bcf14b6f3c1637b0217865ed3fcd7e\", element=\"0.30952199326552154-119\")>,\n",
       " <selenium.webdriver.remote.webelement.WebElement (session=\"52bcf14b6f3c1637b0217865ed3fcd7e\", element=\"0.30952199326552154-120\")>,\n",
       " <selenium.webdriver.remote.webelement.WebElement (session=\"52bcf14b6f3c1637b0217865ed3fcd7e\", element=\"0.30952199326552154-121\")>,\n",
       " <selenium.webdriver.remote.webelement.WebElement (session=\"52bcf14b6f3c1637b0217865ed3fcd7e\", element=\"0.30952199326552154-122\")>,\n",
       " <selenium.webdriver.remote.webelement.WebElement (session=\"52bcf14b6f3c1637b0217865ed3fcd7e\", element=\"0.30952199326552154-123\")>,\n",
       " <selenium.webdriver.remote.webelement.WebElement (session=\"52bcf14b6f3c1637b0217865ed3fcd7e\", element=\"0.30952199326552154-124\")>,\n",
       " <selenium.webdriver.remote.webelement.WebElement (session=\"52bcf14b6f3c1637b0217865ed3fcd7e\", element=\"0.30952199326552154-125\")>,\n",
       " <selenium.webdriver.remote.webelement.WebElement (session=\"52bcf14b6f3c1637b0217865ed3fcd7e\", element=\"0.30952199326552154-126\")>,\n",
       " <selenium.webdriver.remote.webelement.WebElement (session=\"52bcf14b6f3c1637b0217865ed3fcd7e\", element=\"0.30952199326552154-127\")>,\n",
       " <selenium.webdriver.remote.webelement.WebElement (session=\"52bcf14b6f3c1637b0217865ed3fcd7e\", element=\"0.30952199326552154-128\")>,\n",
       " <selenium.webdriver.remote.webelement.WebElement (session=\"52bcf14b6f3c1637b0217865ed3fcd7e\", element=\"0.30952199326552154-129\")>,\n",
       " <selenium.webdriver.remote.webelement.WebElement (session=\"52bcf14b6f3c1637b0217865ed3fcd7e\", element=\"0.30952199326552154-130\")>,\n",
       " <selenium.webdriver.remote.webelement.WebElement (session=\"52bcf14b6f3c1637b0217865ed3fcd7e\", element=\"0.30952199326552154-131\")>,\n",
       " <selenium.webdriver.remote.webelement.WebElement (session=\"52bcf14b6f3c1637b0217865ed3fcd7e\", element=\"0.30952199326552154-132\")>,\n",
       " <selenium.webdriver.remote.webelement.WebElement (session=\"52bcf14b6f3c1637b0217865ed3fcd7e\", element=\"0.30952199326552154-133\")>,\n",
       " <selenium.webdriver.remote.webelement.WebElement (session=\"52bcf14b6f3c1637b0217865ed3fcd7e\", element=\"0.30952199326552154-134\")>,\n",
       " <selenium.webdriver.remote.webelement.WebElement (session=\"52bcf14b6f3c1637b0217865ed3fcd7e\", element=\"0.30952199326552154-135\")>,\n",
       " <selenium.webdriver.remote.webelement.WebElement (session=\"52bcf14b6f3c1637b0217865ed3fcd7e\", element=\"0.30952199326552154-136\")>,\n",
       " <selenium.webdriver.remote.webelement.WebElement (session=\"52bcf14b6f3c1637b0217865ed3fcd7e\", element=\"0.30952199326552154-137\")>,\n",
       " <selenium.webdriver.remote.webelement.WebElement (session=\"52bcf14b6f3c1637b0217865ed3fcd7e\", element=\"0.30952199326552154-138\")>,\n",
       " <selenium.webdriver.remote.webelement.WebElement (session=\"52bcf14b6f3c1637b0217865ed3fcd7e\", element=\"0.30952199326552154-139\")>,\n",
       " <selenium.webdriver.remote.webelement.WebElement (session=\"52bcf14b6f3c1637b0217865ed3fcd7e\", element=\"0.30952199326552154-140\")>,\n",
       " <selenium.webdriver.remote.webelement.WebElement (session=\"52bcf14b6f3c1637b0217865ed3fcd7e\", element=\"0.30952199326552154-141\")>,\n",
       " <selenium.webdriver.remote.webelement.WebElement (session=\"52bcf14b6f3c1637b0217865ed3fcd7e\", element=\"0.30952199326552154-142\")>,\n",
       " <selenium.webdriver.remote.webelement.WebElement (session=\"52bcf14b6f3c1637b0217865ed3fcd7e\", element=\"0.30952199326552154-143\")>,\n",
       " <selenium.webdriver.remote.webelement.WebElement (session=\"52bcf14b6f3c1637b0217865ed3fcd7e\", element=\"0.30952199326552154-144\")>,\n",
       " <selenium.webdriver.remote.webelement.WebElement (session=\"52bcf14b6f3c1637b0217865ed3fcd7e\", element=\"0.30952199326552154-145\")>,\n",
       " <selenium.webdriver.remote.webelement.WebElement (session=\"52bcf14b6f3c1637b0217865ed3fcd7e\", element=\"0.30952199326552154-146\")>,\n",
       " <selenium.webdriver.remote.webelement.WebElement (session=\"52bcf14b6f3c1637b0217865ed3fcd7e\", element=\"0.30952199326552154-147\")>,\n",
       " <selenium.webdriver.remote.webelement.WebElement (session=\"52bcf14b6f3c1637b0217865ed3fcd7e\", element=\"0.30952199326552154-148\")>,\n",
       " <selenium.webdriver.remote.webelement.WebElement (session=\"52bcf14b6f3c1637b0217865ed3fcd7e\", element=\"0.30952199326552154-149\")>]"
      ]
     },
     "execution_count": 7,
     "metadata": {},
     "output_type": "execute_result"
    }
   ],
   "source": [
    "data1=driver.find_elements_by_class_name('main')\n",
    "data1"
   ]
  },
  {
   "cell_type": "code",
   "execution_count": 8,
   "metadata": {},
   "outputs": [
    {
     "data": {
      "text/plain": [
       "149"
      ]
     },
     "execution_count": 8,
     "metadata": {},
     "output_type": "execute_result"
    }
   ],
   "source": [
    "len(data1)"
   ]
  },
  {
   "cell_type": "code",
   "execution_count": 6,
   "metadata": {},
   "outputs": [
    {
     "data": {
      "text/plain": [
       "'Aerospace Studies – Air Force ROTC'"
      ]
     },
     "execution_count": 6,
     "metadata": {},
     "output_type": "execute_result"
    }
   ],
   "source": [
    "data1[2].text"
   ]
  },
  {
   "cell_type": "code",
   "execution_count": 10,
   "metadata": {},
   "outputs": [
    {
     "data": {
      "text/plain": [
       "'https://catalog.registrar.ucla.edu/ucla-catalog18-19-273.html'"
      ]
     },
     "execution_count": 10,
     "metadata": {},
     "output_type": "execute_result"
    }
   ],
   "source": [
    "data1[2].get_attribute('href')"
   ]
  },
  {
   "cell_type": "code",
   "execution_count": 9,
   "metadata": {},
   "outputs": [
    {
     "data": {
      "text/plain": [
       "'Writing Programs'"
      ]
     },
     "execution_count": 9,
     "metadata": {},
     "output_type": "execute_result"
    }
   ],
   "source": [
    "data1[148].text"
   ]
  },
  {
   "cell_type": "markdown",
   "metadata": {},
   "source": [
    "# Full code"
   ]
  },
  {
   "cell_type": "code",
   "execution_count": 12,
   "metadata": {},
   "outputs": [
    {
     "name": "stderr",
     "output_type": "stream",
     "text": [
      "C:\\ProgramData\\Anaconda3\\lib\\site-packages\\ipykernel_launcher.py:10: DeprecationWarning: use options instead of chrome_options\n",
      "  # Remove the CWD from sys.path while we load stuff.\n"
     ]
    },
    {
     "name": "stdout",
     "output_type": "stream",
     "text": [
      "Aerospace Studies – Air Force ROTC https://catalog.registrar.ucla.edu/ucla-catalog18-19-273.html\n",
      "African American Studies https://catalog.registrar.ucla.edu/ucla-catalog18-19-278.html\n",
      "African Studies https://catalog.registrar.ucla.edu/ucla-catalog18-19-287.html\n",
      "American Indian Studies https://catalog.registrar.ucla.edu/ucla-catalog18-19-292.html\n",
      "Anesthesiology and Perioperative Medicine https://catalog.registrar.ucla.edu/ucla-catalog18-19-301.html\n",
      "Anthropology https://catalog.registrar.ucla.edu/ucla-catalog18-19-304.html\n",
      "Applied Linguistics https://catalog.registrar.ucla.edu/ucla-catalog18-19-315.html\n",
      "Archaeology https://catalog.registrar.ucla.edu/ucla-catalog18-19-321.html\n",
      "Architecture and Urban Design https://catalog.registrar.ucla.edu/ucla-catalog18-19-328.html\n",
      "Art https://catalog.registrar.ucla.edu/ucla-catalog18-19-336.html\n",
      "Art History https://catalog.registrar.ucla.edu/ucla-catalog18-19-344.html\n",
      "Arts and Architecture https://catalog.registrar.ucla.edu/ucla-catalog18-19-353.html\n",
      "Asian American Studies https://catalog.registrar.ucla.edu/ucla-catalog18-19-356.html\n",
      "Asian Languages and Cultures https://catalog.registrar.ucla.edu/ucla-catalog18-19-365.html\n",
      "Atmospheric and Oceanic Sciences https://catalog.registrar.ucla.edu/ucla-catalog18-19-399.html\n",
      "Bioengineering https://catalog.registrar.ucla.edu/ucla-catalog18-19-410.html\n",
      "Bioinformatics https://catalog.registrar.ucla.edu/ucla-catalog18-19-418.html\n",
      "Biological Chemistry https://catalog.registrar.ucla.edu/ucla-catalog18-19-423.html\n",
      "Biomathematics https://catalog.registrar.ucla.edu/ucla-catalog18-19-429.html\n",
      "Biomedical Research https://catalog.registrar.ucla.edu/ucla-catalog18-19-435.html\n",
      "Biostatistics https://catalog.registrar.ucla.edu/ucla-catalog18-19-440.html\n",
      "Chemical and Biomolecular Engineering https://catalog.registrar.ucla.edu/ucla-catalog18-19-446.html\n",
      "Chemistry and Biochemistry https://catalog.registrar.ucla.edu/ucla-catalog18-19-454.html\n",
      "César E. Chávez Department of Chicana and Chicano Studies https://catalog.registrar.ucla.edu/ucla-catalog18-19-466.html\n",
      "Civic Engagement https://catalog.registrar.ucla.edu/ucla-catalog18-19-475.html\n",
      "Civil and Environmental Engineering https://catalog.registrar.ucla.edu/ucla-catalog18-19-481.html\n",
      "Classics https://catalog.registrar.ucla.edu/ucla-catalog18-19-490.html\n",
      "Cluster Program https://catalog.registrar.ucla.edu/ucla-catalog18-19-511.html\n",
      "Communication https://catalog.registrar.ucla.edu/ucla-catalog18-19-516.html\n",
      "Community Health Sciences https://catalog.registrar.ucla.edu/ucla-catalog18-19-522.html\n",
      "Comparative Literature https://catalog.registrar.ucla.edu/ucla-catalog18-19-529.html\n",
      "Computational and Systems Biology https://catalog.registrar.ucla.edu/ucla-catalog18-19-538.html\n",
      "Computer Science https://catalog.registrar.ucla.edu/ucla-catalog18-19-547.html\n",
      "Conservation of Archaeological and\n",
      "Ethnographic Materials https://catalog.registrar.ucla.edu/ucla-catalog18-19-560.html\n",
      "Dentistry https://catalog.registrar.ucla.edu/ucla-catalog18-19-566.html\n",
      "Design | Media Arts https://catalog.registrar.ucla.edu/ucla-catalog18-19-569.html\n",
      "Digital Humanities https://catalog.registrar.ucla.edu/ucla-catalog18-19-577.html\n",
      "Disability Studies https://catalog.registrar.ucla.edu/ucla-catalog18-19-584.html\n",
      "Earth, Planetary, and Space Sciences https://catalog.registrar.ucla.edu/ucla-catalog18-19-589.html\n",
      "East Asian Studies https://catalog.registrar.ucla.edu/ucla-catalog18-19-605.html\n",
      "Ecology and Evolutionary Biology https://catalog.registrar.ucla.edu/ucla-catalog18-19-610.html\n",
      "Economics https://catalog.registrar.ucla.edu/ucla-catalog18-19-623.html\n",
      "Education https://catalog.registrar.ucla.edu/ucla-catalog18-19-633.html\n",
      "Electrical and Computer Engineering https://catalog.registrar.ucla.edu/ucla-catalog18-19-641.html\n",
      "Emergency Medicine https://catalog.registrar.ucla.edu/ucla-catalog18-19-650.html\n",
      "Engineering Schoolwide Programs https://catalog.registrar.ucla.edu/ucla-catalog18-19-652.html\n",
      "English https://catalog.registrar.ucla.edu/ucla-catalog18-19-657.html\n",
      "Entrepreneurship https://catalog.registrar.ucla.edu/ucla-catalog18-19-669.html\n",
      "Environment and Sustainability, Institute of the https://catalog.registrar.ucla.edu/ucla-catalog18-19-673.html\n",
      "Environmental Health Sciences https://catalog.registrar.ucla.edu/ucla-catalog18-19-682.html\n",
      "Epidemiology https://catalog.registrar.ucla.edu/ucla-catalog18-19-689.html\n",
      "Ethnomusicology https://catalog.registrar.ucla.edu/ucla-catalog18-19-695.html\n",
      "Family Medicine https://catalog.registrar.ucla.edu/ucla-catalog18-19-703.html\n",
      "Film, Television, and Digital Media https://catalog.registrar.ucla.edu/ucla-catalog18-19-706.html\n",
      "Food Studies https://catalog.registrar.ucla.edu/ucla-catalog18-19-715.html\n",
      "Foreign Literature in Translation https://catalog.registrar.ucla.edu/ucla-catalog18-19-721.html\n",
      "French and Francophone Studies https://catalog.registrar.ucla.edu/ucla-catalog18-19-722.html\n",
      "Gender Studies https://catalog.registrar.ucla.edu/ucla-catalog18-19-733.html\n",
      "Geography https://catalog.registrar.ucla.edu/ucla-catalog18-19-742.html\n",
      "Germanic Languages https://catalog.registrar.ucla.edu/ucla-catalog18-19-755.html\n",
      "Gerontology https://catalog.registrar.ucla.edu/ucla-catalog18-19-768.html\n",
      "Global Health https://catalog.registrar.ucla.edu/ucla-catalog18-19-773.html\n",
      "Global Jazz Studies https://catalog.registrar.ucla.edu/ucla-catalog18-19-778.html\n",
      "Global Studies https://catalog.registrar.ucla.edu/ucla-catalog18-19-784.html\n",
      "Graduate Student Professional Development https://catalog.registrar.ucla.edu/ucla-catalog18-19-791.html\n",
      "Head and Neck Surgery https://catalog.registrar.ucla.edu/ucla-catalog18-19-792.html\n",
      "Health Policy and Management https://catalog.registrar.ucla.edu/ucla-catalog18-19-793.html\n",
      "History https://catalog.registrar.ucla.edu/ucla-catalog18-19-799.html\n",
      "Honors Collegium https://catalog.registrar.ucla.edu/ucla-catalog18-19-809.html\n",
      "Human Genetics https://catalog.registrar.ucla.edu/ucla-catalog18-19-815.html\n",
      "Individual Fields https://catalog.registrar.ucla.edu/ucla-catalog18-19-821.html\n",
      "Indo-European Studies https://catalog.registrar.ucla.edu/ucla-catalog18-19-822.html\n",
      "Information Studies https://catalog.registrar.ucla.edu/ucla-catalog18-19-829.html\n",
      "Integrative Biology and Physiology https://catalog.registrar.ucla.edu/ucla-catalog18-19-835.html\n",
      "International and Area Studies https://catalog.registrar.ucla.edu/ucla-catalog18-19-843.html\n",
      "International Development Studies https://catalog.registrar.ucla.edu/ucla-catalog18-19-860.html\n",
      "International Migration Studies https://catalog.registrar.ucla.edu/ucla-catalog18-19-865.html\n",
      "Italian https://catalog.registrar.ucla.edu/ucla-catalog18-19-870.html\n",
      "Labor and Workplace Studies https://catalog.registrar.ucla.edu/ucla-catalog18-19-881.html\n",
      "Latin American Studies https://catalog.registrar.ucla.edu/ucla-catalog18-19-887.html\n",
      "Law https://catalog.registrar.ucla.edu/ucla-catalog18-19-892.html\n",
      "Lesbian, Gay, Bisexual, Transgender, and Queer Studies https://catalog.registrar.ucla.edu/ucla-catalog18-19-897.html\n",
      "Life Sciences https://catalog.registrar.ucla.edu/ucla-catalog18-19-903.html\n",
      "Linguistics https://catalog.registrar.ucla.edu/ucla-catalog18-19-908.html\n",
      "Management https://catalog.registrar.ucla.edu/ucla-catalog18-19-932.html\n",
      "Materials Science and Engineering https://catalog.registrar.ucla.edu/ucla-catalog18-19-945.html\n",
      "Mathematics https://catalog.registrar.ucla.edu/ucla-catalog18-19-953.html\n",
      "Mathematics/Economics https://catalog.registrar.ucla.edu/ucla-catalog18-19-971.html\n",
      "Mechanical and Aerospace Engineering https://catalog.registrar.ucla.edu/ucla-catalog18-19-975.html\n",
      "Medicine https://catalog.registrar.ucla.edu/ucla-catalog18-19-985.html\n",
      "Microbiology, Immunology, and Molecular Genetics https://catalog.registrar.ucla.edu/ucla-catalog18-19-989.html\n",
      "Military Science – Army ROTC https://catalog.registrar.ucla.edu/ucla-catalog18-19-997.html\n",
      "Molecular and Medical Pharmacology https://catalog.registrar.ucla.edu/ucla-catalog18-19-1003.html\n",
      "Molecular Biology https://catalog.registrar.ucla.edu/ucla-catalog18-19-1009.html\n",
      "Molecular, Cell, and Developmental Biology https://catalog.registrar.ucla.edu/ucla-catalog18-19-1014.html\n",
      "Molecular, Cellular, and Integrative Physiology https://catalog.registrar.ucla.edu/ucla-catalog18-19-1022.html\n"
     ]
    },
    {
     "name": "stdout",
     "output_type": "stream",
     "text": [
      "Molecular Toxicology https://catalog.registrar.ucla.edu/ucla-catalog18-19-1027.html\n",
      "Music https://catalog.registrar.ucla.edu/ucla-catalog18-19-1032.html\n",
      "Music Industry https://catalog.registrar.ucla.edu/ucla-catalog18-19-1042.html\n",
      "Musicology https://catalog.registrar.ucla.edu/ucla-catalog18-19-1047.html\n",
      "Naval Science – Navy ROTC https://catalog.registrar.ucla.edu/ucla-catalog18-19-1056.html\n",
      "Near Eastern Languages and Cultures https://catalog.registrar.ucla.edu/ucla-catalog18-19-1061.html\n",
      "Neurobiology https://catalog.registrar.ucla.edu/ucla-catalog18-19-1103.html\n",
      "Neurology https://catalog.registrar.ucla.edu/ucla-catalog18-19-1109.html\n",
      "Neuroscience, Undergraduate https://catalog.registrar.ucla.edu/ucla-catalog18-19-1112.html\n",
      "Neuroscience, Graduate https://catalog.registrar.ucla.edu/ucla-catalog18-19-1119.html\n",
      "Neurosurgery https://catalog.registrar.ucla.edu/ucla-catalog18-19-1124.html\n",
      "Nursing https://catalog.registrar.ucla.edu/ucla-catalog18-19-1127.html\n",
      "Obstetrics and Gynecology https://catalog.registrar.ucla.edu/ucla-catalog18-19-1135.html\n",
      "Ophthalmology https://catalog.registrar.ucla.edu/ucla-catalog18-19-1138.html\n",
      "Oral Biology https://catalog.registrar.ucla.edu/ucla-catalog18-19-1141.html\n",
      "Orthopaedic Surgery https://catalog.registrar.ucla.edu/ucla-catalog18-19-1146.html\n",
      "Pathology and Laboratory Medicine https://catalog.registrar.ucla.edu/ucla-catalog18-19-1149.html\n",
      "Pediatrics https://catalog.registrar.ucla.edu/ucla-catalog18-19-1155.html\n",
      "Philosophy https://catalog.registrar.ucla.edu/ucla-catalog18-19-1158.html\n",
      "Physics and Astronomy https://catalog.registrar.ucla.edu/ucla-catalog18-19-1167.html\n",
      "Physics and Biology in Medicine https://catalog.registrar.ucla.edu/ucla-catalog18-19-1182.html\n",
      "Physiology https://catalog.registrar.ucla.edu/ucla-catalog18-19-1187.html\n",
      "Political Science https://catalog.registrar.ucla.edu/ucla-catalog18-19-1190.html\n",
      "Psychiatry and Biobehavioral Sciences https://catalog.registrar.ucla.edu/ucla-catalog18-19-1198.html\n",
      "Psychology https://catalog.registrar.ucla.edu/ucla-catalog18-19-1203.html\n",
      "Public Affairs https://catalog.registrar.ucla.edu/ucla-catalog18-19-1216.html\n",
      "Public Affairs Schoolwide Programs https://catalog.registrar.ucla.edu/ucla-catalog18-19-1220.html\n",
      "Public Health https://catalog.registrar.ucla.edu/ucla-catalog18-19-1225.html\n",
      "Public Health Schoolwide Programs https://catalog.registrar.ucla.edu/ucla-catalog18-19-1229.html\n",
      "Public Policy https://catalog.registrar.ucla.edu/ucla-catalog18-19-1233.html\n",
      "Radiation Oncology https://catalog.registrar.ucla.edu/ucla-catalog18-19-1240.html\n",
      "Radiological Sciences https://catalog.registrar.ucla.edu/ucla-catalog18-19-1243.html\n",
      "Religion, Study of https://catalog.registrar.ucla.edu/ucla-catalog18-19-1245.html\n",
      "Scandinavian Section https://catalog.registrar.ucla.edu/ucla-catalog18-19-1252.html\n",
      "Science Education https://catalog.registrar.ucla.edu/ucla-catalog18-19-1263.html\n",
      "Slavic, East European, and Eurasian Languages and Cultures https://catalog.registrar.ucla.edu/ucla-catalog18-19-1268.html\n",
      "Social Science https://catalog.registrar.ucla.edu/ucla-catalog18-19-1295.html\n",
      "Social Thought https://catalog.registrar.ucla.edu/ucla-catalog18-19-1300.html\n",
      "Social Welfare https://catalog.registrar.ucla.edu/ucla-catalog18-19-1305.html\n",
      "Society and Genetics, Institute for https://catalog.registrar.ucla.edu/ucla-catalog18-19-1311.html\n",
      "Sociology https://catalog.registrar.ucla.edu/ucla-catalog18-19-1320.html\n",
      "Spanish and Portuguese https://catalog.registrar.ucla.edu/ucla-catalog18-19-1328.html\n",
      "Statistics https://catalog.registrar.ucla.edu/ucla-catalog18-19-1349.html\n",
      "Surgery https://catalog.registrar.ucla.edu/ucla-catalog18-19-1358.html\n",
      "Theater https://catalog.registrar.ucla.edu/ucla-catalog18-19-1361.html\n",
      "University Studies https://catalog.registrar.ucla.edu/ucla-catalog18-19-1370.html\n",
      "Urban Planning https://catalog.registrar.ucla.edu/ucla-catalog18-19-1374.html\n",
      "Urology https://catalog.registrar.ucla.edu/ucla-catalog18-19-1381.html\n",
      "Visual and Performing Arts Education https://catalog.registrar.ucla.edu/ucla-catalog18-19-1384.html\n",
      "World Arts and Cultures/Dance https://catalog.registrar.ucla.edu/ucla-catalog18-19-1389.html\n",
      "Writing Programs https://catalog.registrar.ucla.edu/ucla-catalog18-19-1401.html\n"
     ]
    }
   ],
   "source": [
    "lis=['Course','URL','University']\n",
    "info=[]\n",
    "info.append(lis)\n",
    "\n",
    "from selenium import webdriver\n",
    "import csv\n",
    "\n",
    "chrome_options = webdriver.ChromeOptions()\n",
    "chrome_options.add_argument('--no-sandbox')\n",
    "driver = webdriver.Chrome(\"C:\\\\Users\\MOHAN KUMAR SAH\\Documents\\My Work\\PakkaIndia\\chromedriver\",chrome_options=chrome_options)\n",
    "\n",
    "driver.get('https://catalog.registrar.ucla.edu/ucla-catalog18-19-271.html')\n",
    "data1=driver.find_elements_by_class_name('main')\n",
    "for i in range(2,len(data1)):\n",
    "    c=data1[i].text\n",
    "    url=data1[i].get_attribute('href')\n",
    "    \n",
    "    info.append([c,url,'University of California, Los Angeles'])\n",
    "    print(c,url)"
   ]
  },
  {
   "cell_type": "code",
   "execution_count": 13,
   "metadata": {},
   "outputs": [
    {
     "data": {
      "text/plain": [
       "148"
      ]
     },
     "execution_count": 13,
     "metadata": {},
     "output_type": "execute_result"
    }
   ],
   "source": [
    "len(info)"
   ]
  },
  {
   "cell_type": "code",
   "execution_count": 15,
   "metadata": {},
   "outputs": [],
   "source": [
    "with open('University_of_California,_Los_Angeles.csv','w',encoding=\"utf-8\",newline=\"\") as file:\n",
    "    write=csv.writer(file)\n",
    "    for row in info:\n",
    "        write.writerow(row)"
   ]
  },
  {
   "cell_type": "code",
   "execution_count": null,
   "metadata": {},
   "outputs": [],
   "source": []
  }
 ],
 "metadata": {
  "kernelspec": {
   "display_name": "Python 3",
   "language": "python",
   "name": "python3"
  },
  "language_info": {
   "codemirror_mode": {
    "name": "ipython",
    "version": 3
   },
   "file_extension": ".py",
   "mimetype": "text/x-python",
   "name": "python",
   "nbconvert_exporter": "python",
   "pygments_lexer": "ipython3",
   "version": "3.6.5"
  }
 },
 "nbformat": 4,
 "nbformat_minor": 2
}
