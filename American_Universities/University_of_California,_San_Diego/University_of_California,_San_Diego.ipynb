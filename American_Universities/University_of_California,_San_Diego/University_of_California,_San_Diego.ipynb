{
 "cells": [
  {
   "cell_type": "code",
   "execution_count": 1,
   "metadata": {},
   "outputs": [
    {
     "name": "stderr",
     "output_type": "stream",
     "text": [
      "C:\\ProgramData\\Anaconda3\\lib\\site-packages\\ipykernel_launcher.py:6: DeprecationWarning: use options instead of chrome_options\n",
      "  \n"
     ]
    }
   ],
   "source": [
    "from selenium import webdriver\n",
    "import csv\n",
    "\n",
    "chrome_options = webdriver.ChromeOptions()\n",
    "chrome_options.add_argument('--no-sandbox')\n",
    "driver = webdriver.Chrome(\"C:\\\\Users\\MOHAN KUMAR SAH\\Documents\\My Work\\PakkaIndia\\chromedriver\",chrome_options=chrome_options)"
   ]
  },
  {
   "cell_type": "code",
   "execution_count": 19,
   "metadata": {},
   "outputs": [],
   "source": [
    "driver.get('http://courses.ucsd.edu/?_ga=2.7698610.181608129.1546936478-1160598076.1546770556')"
   ]
  },
  {
   "cell_type": "code",
   "execution_count": 20,
   "metadata": {},
   "outputs": [
    {
     "data": {
      "text/plain": [
       "3"
      ]
     },
     "execution_count": 20,
     "metadata": {},
     "output_type": "execute_result"
    }
   ],
   "source": [
    "data1=driver.find_elements_by_class_name('alpha')\n",
    "len(data1)"
   ]
  },
  {
   "cell_type": "code",
   "execution_count": 21,
   "metadata": {},
   "outputs": [
    {
     "data": {
      "text/plain": [
       "21"
      ]
     },
     "execution_count": 21,
     "metadata": {},
     "output_type": "execute_result"
    }
   ],
   "source": [
    "data2=data1[0].find_elements_by_tag_name('a')\n",
    "len(data2)"
   ]
  },
  {
   "cell_type": "code",
   "execution_count": 22,
   "metadata": {},
   "outputs": [
    {
     "data": {
      "text/plain": [
       "'http://courses.ucsd.edu/?u_letter=A'"
      ]
     },
     "execution_count": 22,
     "metadata": {},
     "output_type": "execute_result"
    }
   ],
   "source": [
    "data2[0].get_attribute('href')"
   ]
  },
  {
   "cell_type": "code",
   "execution_count": 23,
   "metadata": {},
   "outputs": [],
   "source": [
    "driver.get('http://courses.ucsd.edu/?u_letter=A')"
   ]
  },
  {
   "cell_type": "code",
   "execution_count": 10,
   "metadata": {},
   "outputs": [
    {
     "data": {
      "text/plain": [
       "1"
      ]
     },
     "execution_count": 10,
     "metadata": {},
     "output_type": "execute_result"
    }
   ],
   "source": [
    "data3=driver.find_elements_by_id('subjects_DataList')\n",
    "len(data3)"
   ]
  },
  {
   "cell_type": "code",
   "execution_count": 11,
   "metadata": {},
   "outputs": [
    {
     "data": {
      "text/plain": [
       "9"
      ]
     },
     "execution_count": 11,
     "metadata": {},
     "output_type": "execute_result"
    }
   ],
   "source": [
    "data4=data3[0].find_elements_by_tag_name('a')\n",
    "len(data4)"
   ]
  },
  {
   "cell_type": "code",
   "execution_count": 12,
   "metadata": {},
   "outputs": [
    {
     "data": {
      "text/plain": [
       "'http://courses.ucsd.edu/courseList.aspx?name=AESE'"
      ]
     },
     "execution_count": 12,
     "metadata": {},
     "output_type": "execute_result"
    }
   ],
   "source": [
    "data4[0].get_attribute('href')"
   ]
  },
  {
   "cell_type": "code",
   "execution_count": 26,
   "metadata": {},
   "outputs": [],
   "source": [
    "data4[0].text"
   ]
  },
  {
   "cell_type": "markdown",
   "metadata": {},
   "source": [
    "# Full Code"
   ]
  },
  {
   "cell_type": "code",
   "execution_count": 29,
   "metadata": {},
   "outputs": [
    {
     "name": "stderr",
     "output_type": "stream",
     "text": [
      "C:\\ProgramData\\Anaconda3\\lib\\site-packages\\ipykernel_launcher.py:6: DeprecationWarning: use options instead of chrome_options\n",
      "  \n"
     ]
    },
    {
     "name": "stdout",
     "output_type": "stream",
     "text": [
      "AESE - ArchitectureBsdEntrpSystmsEngr http://courses.ucsd.edu/courseList.aspx?name=AESE\n",
      "AIP - Academic Internship Program http://courses.ucsd.edu/courseList.aspx?name=AIP\n",
      "ANAR - Anthropological Archaeology http://courses.ucsd.edu/courseList.aspx?name=ANAR\n",
      "ANBI - Anthro/Biological Anthropology http://courses.ucsd.edu/courseList.aspx?name=ANBI\n",
      "ANES - Anesthesiology http://courses.ucsd.edu/courseList.aspx?name=ANES\n",
      "ANSC - Anthropology/Sociocultural http://courses.ucsd.edu/courseList.aspx?name=ANSC\n",
      "ANTH - Anthropology http://courses.ucsd.edu/courseList.aspx?name=ANTH\n",
      "AUD - Audiology http://courses.ucsd.edu/courseList.aspx?name=AUD\n",
      "AWP - Analytical Writing Program http://courses.ucsd.edu/courseList.aspx?name=AWP\n",
      "BENG - Bioengineering http://courses.ucsd.edu/courseList.aspx?name=BENG\n",
      "BGGN - Biology/Grad/General http://courses.ucsd.edu/courseList.aspx?name=BGGN\n",
      "BGRD - Biology/Grad/Research Discussn http://courses.ucsd.edu/courseList.aspx?name=BGRD\n",
      "BGSE - Biology/Grad/Seminar http://courses.ucsd.edu/courseList.aspx?name=BGSE\n",
      "BIBC - Biology/Biochemistry http://courses.ucsd.edu/courseList.aspx?name=BIBC\n",
      "BICD - Biol/Genetics,Cellular&Develop http://courses.ucsd.edu/courseList.aspx?name=BICD\n",
      "BIEB - Biol/Ecology, Behavior, & Evol http://courses.ucsd.edu/courseList.aspx?name=BIEB\n",
      "BILD - Biology/Lower Division http://courses.ucsd.edu/courseList.aspx?name=BILD\n",
      "BIMM - Biology/Molec Biol, Microbiol http://courses.ucsd.edu/courseList.aspx?name=BIMM\n",
      "BIOM - Biomedical Sciences http://courses.ucsd.edu/courseList.aspx?name=BIOM\n",
      "BIPN - Biology/Animal Physiol&Neurosc http://courses.ucsd.edu/courseList.aspx?name=BIPN\n",
      "BISP - Biology/Special Studies http://courses.ucsd.edu/courseList.aspx?name=BISP\n",
      "BNFO - Bioinformatics http://courses.ucsd.edu/courseList.aspx?name=BNFO\n",
      "CAT - Culture, Art, & Technology http://courses.ucsd.edu/courseList.aspx?name=CAT\n",
      "CENG - Chemical Engineering http://courses.ucsd.edu/courseList.aspx?name=CENG\n",
      "CGS - Critical Gender Studies http://courses.ucsd.edu/courseList.aspx?name=CGS\n",
      "CHEM - Chemistry and Biochemistry http://courses.ucsd.edu/courseList.aspx?name=CHEM\n",
      "CHIN - Chinese Studies http://courses.ucsd.edu/courseList.aspx?name=CHIN\n",
      "CLAS - Classical Studies http://courses.ucsd.edu/courseList.aspx?name=CLAS\n",
      "CLIN - Clinical Psychology http://courses.ucsd.edu/courseList.aspx?name=CLIN\n",
      "CLRE - Clinical Research http://courses.ucsd.edu/courseList.aspx?name=CLRE\n",
      "CMM - Cellular & Molecular Medicine http://courses.ucsd.edu/courseList.aspx?name=CMM\n",
      "COGR - Communication/Graduate http://courses.ucsd.edu/courseList.aspx?name=COGR\n",
      "COGS - Cognitive Science http://courses.ucsd.edu/courseList.aspx?name=COGS\n",
      "COMM - Communication http://courses.ucsd.edu/courseList.aspx?name=COMM\n",
      "CSE - Computer Science & Engineering http://courses.ucsd.edu/courseList.aspx?name=CSE\n",
      "DDPM - Drug Development & Product Mgt http://courses.ucsd.edu/courseList.aspx?name=DDPM\n",
      "DERM - Dermatology http://courses.ucsd.edu/courseList.aspx?name=DERM\n",
      "DOC - Dimensions of Culture http://courses.ucsd.edu/courseList.aspx?name=DOC\n",
      "DSC - Data Science http://courses.ucsd.edu/courseList.aspx?name=DSC\n",
      "DSE - Data Science and Engineering http://courses.ucsd.edu/courseList.aspx?name=DSE\n",
      "DSGN - Design http://courses.ucsd.edu/courseList.aspx?name=DSGN\n",
      "ECE - Electrical & Computer Engineer http://courses.ucsd.edu/courseList.aspx?name=ECE\n",
      "ECON - Economics http://courses.ucsd.edu/courseList.aspx?name=ECON\n",
      "EDS - Education Studies http://courses.ucsd.edu/courseList.aspx?name=EDS\n",
      "EMED - Emergency Medicine http://courses.ucsd.edu/courseList.aspx?name=EMED\n",
      "ENG - Engineering http://courses.ucsd.edu/courseList.aspx?name=ENG\n",
      "ENVR - Environmental Studies http://courses.ucsd.edu/courseList.aspx?name=ENVR\n",
      "ERC - Eleanor Roosevelt College http://courses.ucsd.edu/courseList.aspx?name=ERC\n",
      "ESYS - Environmental Systems http://courses.ucsd.edu/courseList.aspx?name=ESYS\n",
      "ETHN - Ethnic Studies http://courses.ucsd.edu/courseList.aspx?name=ETHN\n",
      "EXPR - Exchange Programs http://courses.ucsd.edu/courseList.aspx?name=EXPR\n",
      "FILM - Film Studies http://courses.ucsd.edu/courseList.aspx?name=FILM\n",
      "FMPH - Family Med & Public Health http://courses.ucsd.edu/courseList.aspx?name=FMPH\n",
      "FPM - Family and Preventive Medicine http://courses.ucsd.edu/courseList.aspx?name=FPM\n",
      "GLBH - Global Health http://courses.ucsd.edu/courseList.aspx?name=GLBH\n",
      "GPCO - GPS/Core http://courses.ucsd.edu/courseList.aspx?name=GPCO\n",
      "GPEC - GPS/Economics http://courses.ucsd.edu/courseList.aspx?name=GPEC\n",
      "GPGN - GPS/General http://courses.ucsd.edu/courseList.aspx?name=GPGN\n",
      "GPIM - GPS/International Management http://courses.ucsd.edu/courseList.aspx?name=GPIM\n",
      "GPLA - GPS/Language http://courses.ucsd.edu/courseList.aspx?name=GPLA\n",
      "GPPS - GPS/Political Science http://courses.ucsd.edu/courseList.aspx?name=GPPS\n",
      "HDP - Human Development Program http://courses.ucsd.edu/courseList.aspx?name=HDP\n",
      "HIAF - History of Africa http://courses.ucsd.edu/courseList.aspx?name=HIAF\n",
      "HIEA - History of East Asia http://courses.ucsd.edu/courseList.aspx?name=HIEA\n",
      "HIEU - History of Europe http://courses.ucsd.edu/courseList.aspx?name=HIEU\n",
      "HIGR - History, Graduate http://courses.ucsd.edu/courseList.aspx?name=HIGR\n",
      "HILA - History of Latin America http://courses.ucsd.edu/courseList.aspx?name=HILA\n",
      "HILD - History, Lower Division http://courses.ucsd.edu/courseList.aspx?name=HILD\n",
      "HINE - History of the Near East http://courses.ucsd.edu/courseList.aspx?name=HINE\n",
      "HISC - History of Science http://courses.ucsd.edu/courseList.aspx?name=HISC\n",
      "HITO - History Topics http://courses.ucsd.edu/courseList.aspx?name=HITO\n",
      "HIUS - History of the United States http://courses.ucsd.edu/courseList.aspx?name=HIUS\n",
      "HLAW - Health Law http://courses.ucsd.edu/courseList.aspx?name=HLAW\n",
      "HMNR - Human Rights http://courses.ucsd.edu/courseList.aspx?name=HMNR\n",
      "HUM - Humanities http://courses.ucsd.edu/courseList.aspx?name=HUM\n",
      "INTL - International Studies http://courses.ucsd.edu/courseList.aspx?name=INTL\n",
      "JAPN - Japanese Studies http://courses.ucsd.edu/courseList.aspx?name=JAPN\n",
      "JUDA - Judaic Studies http://courses.ucsd.edu/courseList.aspx?name=JUDA\n",
      "LATI - Latin American Studies http://courses.ucsd.edu/courseList.aspx?name=LATI\n",
      "LHCO - Leadership/Health Care Organiz http://courses.ucsd.edu/courseList.aspx?name=LHCO\n",
      "LIAB - Linguistics/Arabic http://courses.ucsd.edu/courseList.aspx?name=LIAB\n",
      "LIDS - Linguistics/Directed Stdy-Lang http://courses.ucsd.edu/courseList.aspx?name=LIDS\n",
      "LIFR - Linguistics/French http://courses.ucsd.edu/courseList.aspx?name=LIFR\n",
      "LIGM - Linguistics/German http://courses.ucsd.edu/courseList.aspx?name=LIGM\n",
      "LIGN - Linguistics/General http://courses.ucsd.edu/courseList.aspx?name=LIGN\n",
      "LIHL - Linguistics/Heritage Languages http://courses.ucsd.edu/courseList.aspx?name=LIHL\n",
      "LIIT - Linguistics/Italian http://courses.ucsd.edu/courseList.aspx?name=LIIT\n",
      "LIPO - Linguistics/Portuguese http://courses.ucsd.edu/courseList.aspx?name=LIPO\n",
      "LISL - Linguistics/Amer Sign Language http://courses.ucsd.edu/courseList.aspx?name=LISL\n",
      "LISP - Linguistics/Spanish http://courses.ucsd.edu/courseList.aspx?name=LISP\n",
      "LTCH - Literature/Chinese http://courses.ucsd.edu/courseList.aspx?name=LTCH\n",
      "LTCO - Literature/Comparative http://courses.ucsd.edu/courseList.aspx?name=LTCO\n",
      "LTCS - Literature/Cultural Studies http://courses.ucsd.edu/courseList.aspx?name=LTCS\n",
      "LTEA - Literatures/East Asian http://courses.ucsd.edu/courseList.aspx?name=LTEA\n",
      "LTEN - Literatures in English http://courses.ucsd.edu/courseList.aspx?name=LTEN\n",
      "LTEU - Literature/European & Eurasian http://courses.ucsd.edu/courseList.aspx?name=LTEU\n",
      "LTFR - Literature/French http://courses.ucsd.edu/courseList.aspx?name=LTFR\n",
      "LTGK - Literature/Greek http://courses.ucsd.edu/courseList.aspx?name=LTGK\n",
      "LTGM - Literature/German http://courses.ucsd.edu/courseList.aspx?name=LTGM\n",
      "LTIT - Literature/Italian http://courses.ucsd.edu/courseList.aspx?name=LTIT\n",
      "LTKO - Literature/Korean http://courses.ucsd.edu/courseList.aspx?name=LTKO\n",
      "LTLA - Literature/Latin http://courses.ucsd.edu/courseList.aspx?name=LTLA\n",
      "LTRU - Literature/Russian http://courses.ucsd.edu/courseList.aspx?name=LTRU\n",
      "LTSP - Literature/Spanish http://courses.ucsd.edu/courseList.aspx?name=LTSP\n",
      "LTTH - Literature/Theory http://courses.ucsd.edu/courseList.aspx?name=LTTH\n",
      "LTWL - Literatures of the World http://courses.ucsd.edu/courseList.aspx?name=LTWL\n",
      "LTWR - Literature/Writing http://courses.ucsd.edu/courseList.aspx?name=LTWR\n"
     ]
    },
    {
     "name": "stdout",
     "output_type": "stream",
     "text": [
      "MAE - Mechanical & Aerospace Engin http://courses.ucsd.edu/courseList.aspx?name=MAE\n",
      "MATH - Mathematics http://courses.ucsd.edu/courseList.aspx?name=MATH\n",
      "MATS - Materials Sci & Engineering http://courses.ucsd.edu/courseList.aspx?name=MATS\n",
      "MBC - MarineBiodiversity&Conservatn http://courses.ucsd.edu/courseList.aspx?name=MBC\n",
      "MCWP - Muir College Writing Program http://courses.ucsd.edu/courseList.aspx?name=MCWP\n",
      "MDE - Medical Device Engineering http://courses.ucsd.edu/courseList.aspx?name=MDE\n",
      "MED - Medicine http://courses.ucsd.edu/courseList.aspx?name=MED\n",
      "MGT - Rady School of Management http://courses.ucsd.edu/courseList.aspx?name=MGT\n",
      "MGTA - RadySchMgt Business Analytics http://courses.ucsd.edu/courseList.aspx?name=MGTA\n",
      "MGTF - Rady Sch of Management Finance http://courses.ucsd.edu/courseList.aspx?name=MGTF\n",
      "MMW - Making of the Modern World http://courses.ucsd.edu/courseList.aspx?name=MMW\n",
      "MSED - Mathematics & Science Educ http://courses.ucsd.edu/courseList.aspx?name=MSED\n",
      "MUIR - Muir College http://courses.ucsd.edu/courseList.aspx?name=MUIR\n",
      "MUS - Music http://courses.ucsd.edu/courseList.aspx?name=MUS\n",
      "NANO - NanoEngineering http://courses.ucsd.edu/courseList.aspx?name=NANO\n",
      "NEU - Neurosciences http://courses.ucsd.edu/courseList.aspx?name=NEU\n",
      "NEUG - Neurosciences/Graduate http://courses.ucsd.edu/courseList.aspx?name=NEUG\n",
      "OPTH - Ophthalmology http://courses.ucsd.edu/courseList.aspx?name=OPTH\n",
      "ORTH - Orthopaedics http://courses.ucsd.edu/courseList.aspx?name=ORTH\n",
      "PATH - Pathology http://courses.ucsd.edu/courseList.aspx?name=PATH\n",
      "PEDS - Pediatrics http://courses.ucsd.edu/courseList.aspx?name=PEDS\n",
      "PHAR - Pharmacology http://courses.ucsd.edu/courseList.aspx?name=PHAR\n",
      "PHIL - Philosophy http://courses.ucsd.edu/courseList.aspx?name=PHIL\n",
      "PHYS - Physics http://courses.ucsd.edu/courseList.aspx?name=PHYS\n",
      "POLI - Political Science http://courses.ucsd.edu/courseList.aspx?name=POLI\n",
      "PSY - Psychiatry http://courses.ucsd.edu/courseList.aspx?name=PSY\n",
      "PSYC - Psychology http://courses.ucsd.edu/courseList.aspx?name=PSYC\n",
      "RAD - Radiology http://courses.ucsd.edu/courseList.aspx?name=RAD\n",
      "RELI - Religion, Study of http://courses.ucsd.edu/courseList.aspx?name=RELI\n",
      "REV - Revelle College http://courses.ucsd.edu/courseList.aspx?name=REV\n",
      "RMAS - Radiation Med & Applied Sci http://courses.ucsd.edu/courseList.aspx?name=RMAS\n",
      "RMED - Reproductive Medicine http://courses.ucsd.edu/courseList.aspx?name=RMED\n",
      "SE - Structural Engineering http://courses.ucsd.edu/courseList.aspx?name=SE\n",
      "SIO - Scripps Inst of Oceanography http://courses.ucsd.edu/courseList.aspx?name=SIO\n",
      "SIOB - Scripps Inst of Oceanogr/OBP http://courses.ucsd.edu/courseList.aspx?name=SIOB\n",
      "SIOC - Scripps Inst of Oceanogr/COAP http://courses.ucsd.edu/courseList.aspx?name=SIOC\n",
      "SIOG - Scripps Inst of Oceanogr/GEO http://courses.ucsd.edu/courseList.aspx?name=SIOG\n",
      "SOCE - Soc/Ind Research & Honors Prog http://courses.ucsd.edu/courseList.aspx?name=SOCE\n",
      "SOCG - Soc/Graduate http://courses.ucsd.edu/courseList.aspx?name=SOCG\n",
      "SOCI - Sociology http://courses.ucsd.edu/courseList.aspx?name=SOCI\n",
      "SOMC - School of Medicine Core Crses http://courses.ucsd.edu/courseList.aspx?name=SOMC\n",
      "SOMI - Sch of Med Interdisciplinary http://courses.ucsd.edu/courseList.aspx?name=SOMI\n",
      "SPPS - Pharmacy http://courses.ucsd.edu/courseList.aspx?name=SPPS\n",
      "SURG - Surgery http://courses.ucsd.edu/courseList.aspx?name=SURG\n",
      "TDAC - Theatre / Acting http://courses.ucsd.edu/courseList.aspx?name=TDAC\n",
      "TDDE - Theatre / Design http://courses.ucsd.edu/courseList.aspx?name=TDDE\n",
      "TDDM - Dance/Dance Making http://courses.ucsd.edu/courseList.aspx?name=TDDM\n",
      "TDDR - Theatre / Directing&Stage Mgmt http://courses.ucsd.edu/courseList.aspx?name=TDDR\n",
      "TDGE - Theatre / General http://courses.ucsd.edu/courseList.aspx?name=TDGE\n",
      "TDGR - Theatre / Graduate http://courses.ucsd.edu/courseList.aspx?name=TDGR\n",
      "TDHD - Dance/History http://courses.ucsd.edu/courseList.aspx?name=TDHD\n",
      "TDHT - Theatre / History & Theory http://courses.ucsd.edu/courseList.aspx?name=TDHT\n",
      "TDMV - Dance/Movement http://courses.ucsd.edu/courseList.aspx?name=TDMV\n",
      "TDPF - Dance/Performance http://courses.ucsd.edu/courseList.aspx?name=TDPF\n",
      "TDPR - Theatre Dance/Practicum http://courses.ucsd.edu/courseList.aspx?name=TDPR\n",
      "TDPW - Theatre / Playwriting http://courses.ucsd.edu/courseList.aspx?name=TDPW\n",
      "TDTR - Dance/Theory http://courses.ucsd.edu/courseList.aspx?name=TDTR\n",
      "TMC - Thurgood Marshall College http://courses.ucsd.edu/courseList.aspx?name=TMC\n",
      "TWS - Third World Studies http://courses.ucsd.edu/courseList.aspx?name=TWS\n",
      "UROL - Urology http://courses.ucsd.edu/courseList.aspx?name=UROL\n",
      "USP - Urban Studies & Planning http://courses.ucsd.edu/courseList.aspx?name=USP\n",
      "VIS - Visual Arts http://courses.ucsd.edu/courseList.aspx?name=VIS\n",
      "WARR - Warren College http://courses.ucsd.edu/courseList.aspx?name=WARR\n",
      "WCWP - Warren College Writing Program http://courses.ucsd.edu/courseList.aspx?name=WCWP\n",
      "WES - Wireless Embedded Systems http://courses.ucsd.edu/courseList.aspx?name=WES\n"
     ]
    }
   ],
   "source": [
    "from selenium import webdriver\n",
    "import csv\n",
    "\n",
    "chrome_options = webdriver.ChromeOptions()\n",
    "chrome_options.add_argument('--no-sandbox')\n",
    "driver = webdriver.Chrome(\"C:\\\\Users\\MOHAN KUMAR SAH\\Documents\\My Work\\PakkaIndia\\chromedriver\",chrome_options=chrome_options)\n",
    "\n",
    "lis=['Course','University','URL']\n",
    "info=[]\n",
    "info.append(lis)\n",
    "\n",
    "driver.get('http://courses.ucsd.edu/?_ga=2.7698610.181608129.1546936478-1160598076.1546770556')\n",
    "data1=driver.find_elements_by_class_name('alpha')\n",
    "data2=data1[0].find_elements_by_tag_name('a')\n",
    "l=len(data2)\n",
    "for i in range(l):\n",
    "    data1=driver.find_elements_by_class_name('alpha')\n",
    "    data2=data1[0].find_elements_by_tag_name('a')\n",
    "    \n",
    "    data2[i].click()\n",
    "    #driver.get(data2[i].get_attribute('href'))\n",
    "    \n",
    "    data3=driver.find_elements_by_id('subjects_DataList')\n",
    "    data4=data3[0].find_elements_by_tag_name('a')\n",
    "    for j in range(len(data4)):\n",
    "        c=data4[j].text\n",
    "        url=data4[j].get_attribute('href')\n",
    "        info.append([c,'University of California, San Diego',url])\n",
    "        print(c,url)\n",
    "        \n",
    "    driver.back()\n",
    "    #driver.get('http://courses.ucsd.edu/?_ga=2.7698610.181608129.1546936478-1160598076.1546770556')\n",
    "    \n",
    "driver.quit()"
   ]
  },
  {
   "cell_type": "code",
   "execution_count": 30,
   "metadata": {},
   "outputs": [
    {
     "data": {
      "text/plain": [
       "173"
      ]
     },
     "execution_count": 30,
     "metadata": {},
     "output_type": "execute_result"
    }
   ],
   "source": [
    "len(info)"
   ]
  },
  {
   "cell_type": "code",
   "execution_count": 32,
   "metadata": {},
   "outputs": [],
   "source": [
    "with open('University_of_California,_San_Diego.csv','w',encoding=\"utf-8\",newline=\"\") as file:\n",
    "    write=csv.writer(file)\n",
    "    for row in info:\n",
    "        write.writerow(row)"
   ]
  },
  {
   "cell_type": "code",
   "execution_count": null,
   "metadata": {},
   "outputs": [],
   "source": []
  }
 ],
 "metadata": {
  "kernelspec": {
   "display_name": "Python 3",
   "language": "python",
   "name": "python3"
  },
  "language_info": {
   "codemirror_mode": {
    "name": "ipython",
    "version": 3
   },
   "file_extension": ".py",
   "mimetype": "text/x-python",
   "name": "python",
   "nbconvert_exporter": "python",
   "pygments_lexer": "ipython3",
   "version": "3.6.5"
  }
 },
 "nbformat": 4,
 "nbformat_minor": 2
}
