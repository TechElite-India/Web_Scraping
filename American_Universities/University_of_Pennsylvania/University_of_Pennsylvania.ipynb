{
 "cells": [
  {
   "cell_type": "code",
   "execution_count": 1,
   "metadata": {},
   "outputs": [
    {
     "name": "stderr",
     "output_type": "stream",
     "text": [
      "C:\\ProgramData\\Anaconda3\\lib\\site-packages\\ipykernel_launcher.py:6: DeprecationWarning: use options instead of chrome_options\n",
      "  \n"
     ]
    }
   ],
   "source": [
    "from selenium import webdriver\n",
    "import csv\n",
    "\n",
    "chrome_options = webdriver.ChromeOptions()\n",
    "chrome_options.add_argument('--no-sandbox')\n",
    "driver = webdriver.Chrome(\"C:\\\\Users\\MOHAN KUMAR SAH\\Documents\\My Work\\PakkaIndia\\chromedriver\",chrome_options=chrome_options)"
   ]
  },
  {
   "cell_type": "code",
   "execution_count": 2,
   "metadata": {},
   "outputs": [],
   "source": [
    "driver.get('https://catalog.upenn.edu/courses/')"
   ]
  },
  {
   "cell_type": "code",
   "execution_count": 6,
   "metadata": {},
   "outputs": [
    {
     "data": {
      "text/plain": [
       "[<selenium.webdriver.remote.webelement.WebElement (session=\"8f53b9ed926687c5103c14c46d895791\", element=\"0.45732338603147893-216\")>]"
      ]
     },
     "execution_count": 6,
     "metadata": {},
     "output_type": "execute_result"
    }
   ],
   "source": [
    "data1=driver.find_elements_by_id('textcontainer')\n",
    "data1"
   ]
  },
  {
   "cell_type": "code",
   "execution_count": 8,
   "metadata": {},
   "outputs": [
    {
     "data": {
      "text/plain": [
       "[<selenium.webdriver.remote.webelement.WebElement (session=\"8f53b9ed926687c5103c14c46d895791\", element=\"0.45732338603147893-217\")>,\n",
       " <selenium.webdriver.remote.webelement.WebElement (session=\"8f53b9ed926687c5103c14c46d895791\", element=\"0.45732338603147893-218\")>,\n",
       " <selenium.webdriver.remote.webelement.WebElement (session=\"8f53b9ed926687c5103c14c46d895791\", element=\"0.45732338603147893-219\")>,\n",
       " <selenium.webdriver.remote.webelement.WebElement (session=\"8f53b9ed926687c5103c14c46d895791\", element=\"0.45732338603147893-220\")>,\n",
       " <selenium.webdriver.remote.webelement.WebElement (session=\"8f53b9ed926687c5103c14c46d895791\", element=\"0.45732338603147893-221\")>,\n",
       " <selenium.webdriver.remote.webelement.WebElement (session=\"8f53b9ed926687c5103c14c46d895791\", element=\"0.45732338603147893-222\")>,\n",
       " <selenium.webdriver.remote.webelement.WebElement (session=\"8f53b9ed926687c5103c14c46d895791\", element=\"0.45732338603147893-223\")>,\n",
       " <selenium.webdriver.remote.webelement.WebElement (session=\"8f53b9ed926687c5103c14c46d895791\", element=\"0.45732338603147893-224\")>,\n",
       " <selenium.webdriver.remote.webelement.WebElement (session=\"8f53b9ed926687c5103c14c46d895791\", element=\"0.45732338603147893-225\")>,\n",
       " <selenium.webdriver.remote.webelement.WebElement (session=\"8f53b9ed926687c5103c14c46d895791\", element=\"0.45732338603147893-226\")>,\n",
       " <selenium.webdriver.remote.webelement.WebElement (session=\"8f53b9ed926687c5103c14c46d895791\", element=\"0.45732338603147893-227\")>,\n",
       " <selenium.webdriver.remote.webelement.WebElement (session=\"8f53b9ed926687c5103c14c46d895791\", element=\"0.45732338603147893-228\")>,\n",
       " <selenium.webdriver.remote.webelement.WebElement (session=\"8f53b9ed926687c5103c14c46d895791\", element=\"0.45732338603147893-229\")>,\n",
       " <selenium.webdriver.remote.webelement.WebElement (session=\"8f53b9ed926687c5103c14c46d895791\", element=\"0.45732338603147893-230\")>,\n",
       " <selenium.webdriver.remote.webelement.WebElement (session=\"8f53b9ed926687c5103c14c46d895791\", element=\"0.45732338603147893-231\")>,\n",
       " <selenium.webdriver.remote.webelement.WebElement (session=\"8f53b9ed926687c5103c14c46d895791\", element=\"0.45732338603147893-232\")>,\n",
       " <selenium.webdriver.remote.webelement.WebElement (session=\"8f53b9ed926687c5103c14c46d895791\", element=\"0.45732338603147893-233\")>,\n",
       " <selenium.webdriver.remote.webelement.WebElement (session=\"8f53b9ed926687c5103c14c46d895791\", element=\"0.45732338603147893-234\")>,\n",
       " <selenium.webdriver.remote.webelement.WebElement (session=\"8f53b9ed926687c5103c14c46d895791\", element=\"0.45732338603147893-235\")>,\n",
       " <selenium.webdriver.remote.webelement.WebElement (session=\"8f53b9ed926687c5103c14c46d895791\", element=\"0.45732338603147893-236\")>,\n",
       " <selenium.webdriver.remote.webelement.WebElement (session=\"8f53b9ed926687c5103c14c46d895791\", element=\"0.45732338603147893-237\")>,\n",
       " <selenium.webdriver.remote.webelement.WebElement (session=\"8f53b9ed926687c5103c14c46d895791\", element=\"0.45732338603147893-238\")>,\n",
       " <selenium.webdriver.remote.webelement.WebElement (session=\"8f53b9ed926687c5103c14c46d895791\", element=\"0.45732338603147893-239\")>,\n",
       " <selenium.webdriver.remote.webelement.WebElement (session=\"8f53b9ed926687c5103c14c46d895791\", element=\"0.45732338603147893-240\")>,\n",
       " <selenium.webdriver.remote.webelement.WebElement (session=\"8f53b9ed926687c5103c14c46d895791\", element=\"0.45732338603147893-241\")>,\n",
       " <selenium.webdriver.remote.webelement.WebElement (session=\"8f53b9ed926687c5103c14c46d895791\", element=\"0.45732338603147893-242\")>,\n",
       " <selenium.webdriver.remote.webelement.WebElement (session=\"8f53b9ed926687c5103c14c46d895791\", element=\"0.45732338603147893-243\")>,\n",
       " <selenium.webdriver.remote.webelement.WebElement (session=\"8f53b9ed926687c5103c14c46d895791\", element=\"0.45732338603147893-244\")>,\n",
       " <selenium.webdriver.remote.webelement.WebElement (session=\"8f53b9ed926687c5103c14c46d895791\", element=\"0.45732338603147893-245\")>,\n",
       " <selenium.webdriver.remote.webelement.WebElement (session=\"8f53b9ed926687c5103c14c46d895791\", element=\"0.45732338603147893-246\")>,\n",
       " <selenium.webdriver.remote.webelement.WebElement (session=\"8f53b9ed926687c5103c14c46d895791\", element=\"0.45732338603147893-247\")>,\n",
       " <selenium.webdriver.remote.webelement.WebElement (session=\"8f53b9ed926687c5103c14c46d895791\", element=\"0.45732338603147893-248\")>,\n",
       " <selenium.webdriver.remote.webelement.WebElement (session=\"8f53b9ed926687c5103c14c46d895791\", element=\"0.45732338603147893-249\")>,\n",
       " <selenium.webdriver.remote.webelement.WebElement (session=\"8f53b9ed926687c5103c14c46d895791\", element=\"0.45732338603147893-250\")>,\n",
       " <selenium.webdriver.remote.webelement.WebElement (session=\"8f53b9ed926687c5103c14c46d895791\", element=\"0.45732338603147893-251\")>,\n",
       " <selenium.webdriver.remote.webelement.WebElement (session=\"8f53b9ed926687c5103c14c46d895791\", element=\"0.45732338603147893-252\")>,\n",
       " <selenium.webdriver.remote.webelement.WebElement (session=\"8f53b9ed926687c5103c14c46d895791\", element=\"0.45732338603147893-253\")>,\n",
       " <selenium.webdriver.remote.webelement.WebElement (session=\"8f53b9ed926687c5103c14c46d895791\", element=\"0.45732338603147893-254\")>,\n",
       " <selenium.webdriver.remote.webelement.WebElement (session=\"8f53b9ed926687c5103c14c46d895791\", element=\"0.45732338603147893-255\")>,\n",
       " <selenium.webdriver.remote.webelement.WebElement (session=\"8f53b9ed926687c5103c14c46d895791\", element=\"0.45732338603147893-256\")>,\n",
       " <selenium.webdriver.remote.webelement.WebElement (session=\"8f53b9ed926687c5103c14c46d895791\", element=\"0.45732338603147893-257\")>,\n",
       " <selenium.webdriver.remote.webelement.WebElement (session=\"8f53b9ed926687c5103c14c46d895791\", element=\"0.45732338603147893-258\")>,\n",
       " <selenium.webdriver.remote.webelement.WebElement (session=\"8f53b9ed926687c5103c14c46d895791\", element=\"0.45732338603147893-259\")>,\n",
       " <selenium.webdriver.remote.webelement.WebElement (session=\"8f53b9ed926687c5103c14c46d895791\", element=\"0.45732338603147893-260\")>,\n",
       " <selenium.webdriver.remote.webelement.WebElement (session=\"8f53b9ed926687c5103c14c46d895791\", element=\"0.45732338603147893-261\")>,\n",
       " <selenium.webdriver.remote.webelement.WebElement (session=\"8f53b9ed926687c5103c14c46d895791\", element=\"0.45732338603147893-262\")>,\n",
       " <selenium.webdriver.remote.webelement.WebElement (session=\"8f53b9ed926687c5103c14c46d895791\", element=\"0.45732338603147893-263\")>,\n",
       " <selenium.webdriver.remote.webelement.WebElement (session=\"8f53b9ed926687c5103c14c46d895791\", element=\"0.45732338603147893-264\")>,\n",
       " <selenium.webdriver.remote.webelement.WebElement (session=\"8f53b9ed926687c5103c14c46d895791\", element=\"0.45732338603147893-265\")>,\n",
       " <selenium.webdriver.remote.webelement.WebElement (session=\"8f53b9ed926687c5103c14c46d895791\", element=\"0.45732338603147893-266\")>,\n",
       " <selenium.webdriver.remote.webelement.WebElement (session=\"8f53b9ed926687c5103c14c46d895791\", element=\"0.45732338603147893-267\")>,\n",
       " <selenium.webdriver.remote.webelement.WebElement (session=\"8f53b9ed926687c5103c14c46d895791\", element=\"0.45732338603147893-268\")>,\n",
       " <selenium.webdriver.remote.webelement.WebElement (session=\"8f53b9ed926687c5103c14c46d895791\", element=\"0.45732338603147893-269\")>,\n",
       " <selenium.webdriver.remote.webelement.WebElement (session=\"8f53b9ed926687c5103c14c46d895791\", element=\"0.45732338603147893-270\")>,\n",
       " <selenium.webdriver.remote.webelement.WebElement (session=\"8f53b9ed926687c5103c14c46d895791\", element=\"0.45732338603147893-271\")>,\n",
       " <selenium.webdriver.remote.webelement.WebElement (session=\"8f53b9ed926687c5103c14c46d895791\", element=\"0.45732338603147893-272\")>,\n",
       " <selenium.webdriver.remote.webelement.WebElement (session=\"8f53b9ed926687c5103c14c46d895791\", element=\"0.45732338603147893-273\")>,\n",
       " <selenium.webdriver.remote.webelement.WebElement (session=\"8f53b9ed926687c5103c14c46d895791\", element=\"0.45732338603147893-274\")>,\n",
       " <selenium.webdriver.remote.webelement.WebElement (session=\"8f53b9ed926687c5103c14c46d895791\", element=\"0.45732338603147893-275\")>,\n",
       " <selenium.webdriver.remote.webelement.WebElement (session=\"8f53b9ed926687c5103c14c46d895791\", element=\"0.45732338603147893-276\")>,\n",
       " <selenium.webdriver.remote.webelement.WebElement (session=\"8f53b9ed926687c5103c14c46d895791\", element=\"0.45732338603147893-277\")>,\n",
       " <selenium.webdriver.remote.webelement.WebElement (session=\"8f53b9ed926687c5103c14c46d895791\", element=\"0.45732338603147893-278\")>,\n",
       " <selenium.webdriver.remote.webelement.WebElement (session=\"8f53b9ed926687c5103c14c46d895791\", element=\"0.45732338603147893-279\")>,\n",
       " <selenium.webdriver.remote.webelement.WebElement (session=\"8f53b9ed926687c5103c14c46d895791\", element=\"0.45732338603147893-280\")>,\n",
       " <selenium.webdriver.remote.webelement.WebElement (session=\"8f53b9ed926687c5103c14c46d895791\", element=\"0.45732338603147893-281\")>,\n",
       " <selenium.webdriver.remote.webelement.WebElement (session=\"8f53b9ed926687c5103c14c46d895791\", element=\"0.45732338603147893-282\")>,\n",
       " <selenium.webdriver.remote.webelement.WebElement (session=\"8f53b9ed926687c5103c14c46d895791\", element=\"0.45732338603147893-283\")>,\n",
       " <selenium.webdriver.remote.webelement.WebElement (session=\"8f53b9ed926687c5103c14c46d895791\", element=\"0.45732338603147893-284\")>,\n",
       " <selenium.webdriver.remote.webelement.WebElement (session=\"8f53b9ed926687c5103c14c46d895791\", element=\"0.45732338603147893-285\")>,\n",
       " <selenium.webdriver.remote.webelement.WebElement (session=\"8f53b9ed926687c5103c14c46d895791\", element=\"0.45732338603147893-286\")>,\n",
       " <selenium.webdriver.remote.webelement.WebElement (session=\"8f53b9ed926687c5103c14c46d895791\", element=\"0.45732338603147893-287\")>,\n",
       " <selenium.webdriver.remote.webelement.WebElement (session=\"8f53b9ed926687c5103c14c46d895791\", element=\"0.45732338603147893-288\")>,\n",
       " <selenium.webdriver.remote.webelement.WebElement (session=\"8f53b9ed926687c5103c14c46d895791\", element=\"0.45732338603147893-289\")>,\n",
       " <selenium.webdriver.remote.webelement.WebElement (session=\"8f53b9ed926687c5103c14c46d895791\", element=\"0.45732338603147893-290\")>,\n",
       " <selenium.webdriver.remote.webelement.WebElement (session=\"8f53b9ed926687c5103c14c46d895791\", element=\"0.45732338603147893-291\")>,\n",
       " <selenium.webdriver.remote.webelement.WebElement (session=\"8f53b9ed926687c5103c14c46d895791\", element=\"0.45732338603147893-292\")>,\n",
       " <selenium.webdriver.remote.webelement.WebElement (session=\"8f53b9ed926687c5103c14c46d895791\", element=\"0.45732338603147893-293\")>,\n",
       " <selenium.webdriver.remote.webelement.WebElement (session=\"8f53b9ed926687c5103c14c46d895791\", element=\"0.45732338603147893-294\")>,\n",
       " <selenium.webdriver.remote.webelement.WebElement (session=\"8f53b9ed926687c5103c14c46d895791\", element=\"0.45732338603147893-295\")>,\n",
       " <selenium.webdriver.remote.webelement.WebElement (session=\"8f53b9ed926687c5103c14c46d895791\", element=\"0.45732338603147893-296\")>,\n",
       " <selenium.webdriver.remote.webelement.WebElement (session=\"8f53b9ed926687c5103c14c46d895791\", element=\"0.45732338603147893-297\")>,\n",
       " <selenium.webdriver.remote.webelement.WebElement (session=\"8f53b9ed926687c5103c14c46d895791\", element=\"0.45732338603147893-298\")>,\n",
       " <selenium.webdriver.remote.webelement.WebElement (session=\"8f53b9ed926687c5103c14c46d895791\", element=\"0.45732338603147893-299\")>,\n",
       " <selenium.webdriver.remote.webelement.WebElement (session=\"8f53b9ed926687c5103c14c46d895791\", element=\"0.45732338603147893-300\")>,\n",
       " <selenium.webdriver.remote.webelement.WebElement (session=\"8f53b9ed926687c5103c14c46d895791\", element=\"0.45732338603147893-301\")>,\n",
       " <selenium.webdriver.remote.webelement.WebElement (session=\"8f53b9ed926687c5103c14c46d895791\", element=\"0.45732338603147893-302\")>,\n",
       " <selenium.webdriver.remote.webelement.WebElement (session=\"8f53b9ed926687c5103c14c46d895791\", element=\"0.45732338603147893-303\")>,\n",
       " <selenium.webdriver.remote.webelement.WebElement (session=\"8f53b9ed926687c5103c14c46d895791\", element=\"0.45732338603147893-304\")>,\n",
       " <selenium.webdriver.remote.webelement.WebElement (session=\"8f53b9ed926687c5103c14c46d895791\", element=\"0.45732338603147893-305\")>,\n",
       " <selenium.webdriver.remote.webelement.WebElement (session=\"8f53b9ed926687c5103c14c46d895791\", element=\"0.45732338603147893-306\")>,\n",
       " <selenium.webdriver.remote.webelement.WebElement (session=\"8f53b9ed926687c5103c14c46d895791\", element=\"0.45732338603147893-307\")>,\n",
       " <selenium.webdriver.remote.webelement.WebElement (session=\"8f53b9ed926687c5103c14c46d895791\", element=\"0.45732338603147893-308\")>,\n",
       " <selenium.webdriver.remote.webelement.WebElement (session=\"8f53b9ed926687c5103c14c46d895791\", element=\"0.45732338603147893-309\")>,\n",
       " <selenium.webdriver.remote.webelement.WebElement (session=\"8f53b9ed926687c5103c14c46d895791\", element=\"0.45732338603147893-310\")>,\n",
       " <selenium.webdriver.remote.webelement.WebElement (session=\"8f53b9ed926687c5103c14c46d895791\", element=\"0.45732338603147893-311\")>,\n",
       " <selenium.webdriver.remote.webelement.WebElement (session=\"8f53b9ed926687c5103c14c46d895791\", element=\"0.45732338603147893-312\")>,\n",
       " <selenium.webdriver.remote.webelement.WebElement (session=\"8f53b9ed926687c5103c14c46d895791\", element=\"0.45732338603147893-313\")>,\n",
       " <selenium.webdriver.remote.webelement.WebElement (session=\"8f53b9ed926687c5103c14c46d895791\", element=\"0.45732338603147893-314\")>,\n",
       " <selenium.webdriver.remote.webelement.WebElement (session=\"8f53b9ed926687c5103c14c46d895791\", element=\"0.45732338603147893-315\")>,\n",
       " <selenium.webdriver.remote.webelement.WebElement (session=\"8f53b9ed926687c5103c14c46d895791\", element=\"0.45732338603147893-316\")>,\n",
       " <selenium.webdriver.remote.webelement.WebElement (session=\"8f53b9ed926687c5103c14c46d895791\", element=\"0.45732338603147893-317\")>,\n",
       " <selenium.webdriver.remote.webelement.WebElement (session=\"8f53b9ed926687c5103c14c46d895791\", element=\"0.45732338603147893-318\")>,\n",
       " <selenium.webdriver.remote.webelement.WebElement (session=\"8f53b9ed926687c5103c14c46d895791\", element=\"0.45732338603147893-319\")>,\n",
       " <selenium.webdriver.remote.webelement.WebElement (session=\"8f53b9ed926687c5103c14c46d895791\", element=\"0.45732338603147893-320\")>,\n",
       " <selenium.webdriver.remote.webelement.WebElement (session=\"8f53b9ed926687c5103c14c46d895791\", element=\"0.45732338603147893-321\")>,\n",
       " <selenium.webdriver.remote.webelement.WebElement (session=\"8f53b9ed926687c5103c14c46d895791\", element=\"0.45732338603147893-322\")>,\n",
       " <selenium.webdriver.remote.webelement.WebElement (session=\"8f53b9ed926687c5103c14c46d895791\", element=\"0.45732338603147893-323\")>,\n",
       " <selenium.webdriver.remote.webelement.WebElement (session=\"8f53b9ed926687c5103c14c46d895791\", element=\"0.45732338603147893-324\")>,\n",
       " <selenium.webdriver.remote.webelement.WebElement (session=\"8f53b9ed926687c5103c14c46d895791\", element=\"0.45732338603147893-325\")>,\n",
       " <selenium.webdriver.remote.webelement.WebElement (session=\"8f53b9ed926687c5103c14c46d895791\", element=\"0.45732338603147893-326\")>,\n",
       " <selenium.webdriver.remote.webelement.WebElement (session=\"8f53b9ed926687c5103c14c46d895791\", element=\"0.45732338603147893-327\")>,\n",
       " <selenium.webdriver.remote.webelement.WebElement (session=\"8f53b9ed926687c5103c14c46d895791\", element=\"0.45732338603147893-328\")>,\n",
       " <selenium.webdriver.remote.webelement.WebElement (session=\"8f53b9ed926687c5103c14c46d895791\", element=\"0.45732338603147893-329\")>,\n",
       " <selenium.webdriver.remote.webelement.WebElement (session=\"8f53b9ed926687c5103c14c46d895791\", element=\"0.45732338603147893-330\")>,\n",
       " <selenium.webdriver.remote.webelement.WebElement (session=\"8f53b9ed926687c5103c14c46d895791\", element=\"0.45732338603147893-331\")>,\n",
       " <selenium.webdriver.remote.webelement.WebElement (session=\"8f53b9ed926687c5103c14c46d895791\", element=\"0.45732338603147893-332\")>,\n",
       " <selenium.webdriver.remote.webelement.WebElement (session=\"8f53b9ed926687c5103c14c46d895791\", element=\"0.45732338603147893-333\")>,\n",
       " <selenium.webdriver.remote.webelement.WebElement (session=\"8f53b9ed926687c5103c14c46d895791\", element=\"0.45732338603147893-334\")>,\n",
       " <selenium.webdriver.remote.webelement.WebElement (session=\"8f53b9ed926687c5103c14c46d895791\", element=\"0.45732338603147893-335\")>,\n",
       " <selenium.webdriver.remote.webelement.WebElement (session=\"8f53b9ed926687c5103c14c46d895791\", element=\"0.45732338603147893-336\")>,\n",
       " <selenium.webdriver.remote.webelement.WebElement (session=\"8f53b9ed926687c5103c14c46d895791\", element=\"0.45732338603147893-337\")>,\n",
       " <selenium.webdriver.remote.webelement.WebElement (session=\"8f53b9ed926687c5103c14c46d895791\", element=\"0.45732338603147893-338\")>,\n",
       " <selenium.webdriver.remote.webelement.WebElement (session=\"8f53b9ed926687c5103c14c46d895791\", element=\"0.45732338603147893-339\")>,\n",
       " <selenium.webdriver.remote.webelement.WebElement (session=\"8f53b9ed926687c5103c14c46d895791\", element=\"0.45732338603147893-340\")>,\n",
       " <selenium.webdriver.remote.webelement.WebElement (session=\"8f53b9ed926687c5103c14c46d895791\", element=\"0.45732338603147893-341\")>,\n",
       " <selenium.webdriver.remote.webelement.WebElement (session=\"8f53b9ed926687c5103c14c46d895791\", element=\"0.45732338603147893-342\")>,\n",
       " <selenium.webdriver.remote.webelement.WebElement (session=\"8f53b9ed926687c5103c14c46d895791\", element=\"0.45732338603147893-343\")>,\n",
       " <selenium.webdriver.remote.webelement.WebElement (session=\"8f53b9ed926687c5103c14c46d895791\", element=\"0.45732338603147893-344\")>,\n",
       " <selenium.webdriver.remote.webelement.WebElement (session=\"8f53b9ed926687c5103c14c46d895791\", element=\"0.45732338603147893-345\")>,\n",
       " <selenium.webdriver.remote.webelement.WebElement (session=\"8f53b9ed926687c5103c14c46d895791\", element=\"0.45732338603147893-346\")>,\n",
       " <selenium.webdriver.remote.webelement.WebElement (session=\"8f53b9ed926687c5103c14c46d895791\", element=\"0.45732338603147893-347\")>,\n",
       " <selenium.webdriver.remote.webelement.WebElement (session=\"8f53b9ed926687c5103c14c46d895791\", element=\"0.45732338603147893-348\")>,\n",
       " <selenium.webdriver.remote.webelement.WebElement (session=\"8f53b9ed926687c5103c14c46d895791\", element=\"0.45732338603147893-349\")>,\n",
       " <selenium.webdriver.remote.webelement.WebElement (session=\"8f53b9ed926687c5103c14c46d895791\", element=\"0.45732338603147893-350\")>,\n",
       " <selenium.webdriver.remote.webelement.WebElement (session=\"8f53b9ed926687c5103c14c46d895791\", element=\"0.45732338603147893-351\")>,\n",
       " <selenium.webdriver.remote.webelement.WebElement (session=\"8f53b9ed926687c5103c14c46d895791\", element=\"0.45732338603147893-352\")>,\n",
       " <selenium.webdriver.remote.webelement.WebElement (session=\"8f53b9ed926687c5103c14c46d895791\", element=\"0.45732338603147893-353\")>,\n",
       " <selenium.webdriver.remote.webelement.WebElement (session=\"8f53b9ed926687c5103c14c46d895791\", element=\"0.45732338603147893-354\")>,\n",
       " <selenium.webdriver.remote.webelement.WebElement (session=\"8f53b9ed926687c5103c14c46d895791\", element=\"0.45732338603147893-355\")>,\n",
       " <selenium.webdriver.remote.webelement.WebElement (session=\"8f53b9ed926687c5103c14c46d895791\", element=\"0.45732338603147893-356\")>,\n",
       " <selenium.webdriver.remote.webelement.WebElement (session=\"8f53b9ed926687c5103c14c46d895791\", element=\"0.45732338603147893-357\")>,\n",
       " <selenium.webdriver.remote.webelement.WebElement (session=\"8f53b9ed926687c5103c14c46d895791\", element=\"0.45732338603147893-358\")>,\n",
       " <selenium.webdriver.remote.webelement.WebElement (session=\"8f53b9ed926687c5103c14c46d895791\", element=\"0.45732338603147893-359\")>,\n",
       " <selenium.webdriver.remote.webelement.WebElement (session=\"8f53b9ed926687c5103c14c46d895791\", element=\"0.45732338603147893-360\")>,\n",
       " <selenium.webdriver.remote.webelement.WebElement (session=\"8f53b9ed926687c5103c14c46d895791\", element=\"0.45732338603147893-361\")>,\n",
       " <selenium.webdriver.remote.webelement.WebElement (session=\"8f53b9ed926687c5103c14c46d895791\", element=\"0.45732338603147893-362\")>,\n",
       " <selenium.webdriver.remote.webelement.WebElement (session=\"8f53b9ed926687c5103c14c46d895791\", element=\"0.45732338603147893-363\")>,\n",
       " <selenium.webdriver.remote.webelement.WebElement (session=\"8f53b9ed926687c5103c14c46d895791\", element=\"0.45732338603147893-364\")>,\n",
       " <selenium.webdriver.remote.webelement.WebElement (session=\"8f53b9ed926687c5103c14c46d895791\", element=\"0.45732338603147893-365\")>,\n",
       " <selenium.webdriver.remote.webelement.WebElement (session=\"8f53b9ed926687c5103c14c46d895791\", element=\"0.45732338603147893-366\")>,\n",
       " <selenium.webdriver.remote.webelement.WebElement (session=\"8f53b9ed926687c5103c14c46d895791\", element=\"0.45732338603147893-367\")>,\n",
       " <selenium.webdriver.remote.webelement.WebElement (session=\"8f53b9ed926687c5103c14c46d895791\", element=\"0.45732338603147893-368\")>,\n",
       " <selenium.webdriver.remote.webelement.WebElement (session=\"8f53b9ed926687c5103c14c46d895791\", element=\"0.45732338603147893-369\")>,\n",
       " <selenium.webdriver.remote.webelement.WebElement (session=\"8f53b9ed926687c5103c14c46d895791\", element=\"0.45732338603147893-370\")>,\n",
       " <selenium.webdriver.remote.webelement.WebElement (session=\"8f53b9ed926687c5103c14c46d895791\", element=\"0.45732338603147893-371\")>,\n",
       " <selenium.webdriver.remote.webelement.WebElement (session=\"8f53b9ed926687c5103c14c46d895791\", element=\"0.45732338603147893-372\")>,\n",
       " <selenium.webdriver.remote.webelement.WebElement (session=\"8f53b9ed926687c5103c14c46d895791\", element=\"0.45732338603147893-373\")>,\n",
       " <selenium.webdriver.remote.webelement.WebElement (session=\"8f53b9ed926687c5103c14c46d895791\", element=\"0.45732338603147893-374\")>,\n",
       " <selenium.webdriver.remote.webelement.WebElement (session=\"8f53b9ed926687c5103c14c46d895791\", element=\"0.45732338603147893-375\")>,\n",
       " <selenium.webdriver.remote.webelement.WebElement (session=\"8f53b9ed926687c5103c14c46d895791\", element=\"0.45732338603147893-376\")>,\n",
       " <selenium.webdriver.remote.webelement.WebElement (session=\"8f53b9ed926687c5103c14c46d895791\", element=\"0.45732338603147893-377\")>,\n",
       " <selenium.webdriver.remote.webelement.WebElement (session=\"8f53b9ed926687c5103c14c46d895791\", element=\"0.45732338603147893-378\")>,\n",
       " <selenium.webdriver.remote.webelement.WebElement (session=\"8f53b9ed926687c5103c14c46d895791\", element=\"0.45732338603147893-379\")>,\n",
       " <selenium.webdriver.remote.webelement.WebElement (session=\"8f53b9ed926687c5103c14c46d895791\", element=\"0.45732338603147893-380\")>,\n",
       " <selenium.webdriver.remote.webelement.WebElement (session=\"8f53b9ed926687c5103c14c46d895791\", element=\"0.45732338603147893-381\")>,\n",
       " <selenium.webdriver.remote.webelement.WebElement (session=\"8f53b9ed926687c5103c14c46d895791\", element=\"0.45732338603147893-382\")>,\n",
       " <selenium.webdriver.remote.webelement.WebElement (session=\"8f53b9ed926687c5103c14c46d895791\", element=\"0.45732338603147893-383\")>,\n",
       " <selenium.webdriver.remote.webelement.WebElement (session=\"8f53b9ed926687c5103c14c46d895791\", element=\"0.45732338603147893-384\")>,\n",
       " <selenium.webdriver.remote.webelement.WebElement (session=\"8f53b9ed926687c5103c14c46d895791\", element=\"0.45732338603147893-385\")>,\n",
       " <selenium.webdriver.remote.webelement.WebElement (session=\"8f53b9ed926687c5103c14c46d895791\", element=\"0.45732338603147893-386\")>,\n",
       " <selenium.webdriver.remote.webelement.WebElement (session=\"8f53b9ed926687c5103c14c46d895791\", element=\"0.45732338603147893-387\")>,\n",
       " <selenium.webdriver.remote.webelement.WebElement (session=\"8f53b9ed926687c5103c14c46d895791\", element=\"0.45732338603147893-388\")>,\n",
       " <selenium.webdriver.remote.webelement.WebElement (session=\"8f53b9ed926687c5103c14c46d895791\", element=\"0.45732338603147893-389\")>,\n",
       " <selenium.webdriver.remote.webelement.WebElement (session=\"8f53b9ed926687c5103c14c46d895791\", element=\"0.45732338603147893-390\")>,\n",
       " <selenium.webdriver.remote.webelement.WebElement (session=\"8f53b9ed926687c5103c14c46d895791\", element=\"0.45732338603147893-391\")>,\n",
       " <selenium.webdriver.remote.webelement.WebElement (session=\"8f53b9ed926687c5103c14c46d895791\", element=\"0.45732338603147893-392\")>,\n",
       " <selenium.webdriver.remote.webelement.WebElement (session=\"8f53b9ed926687c5103c14c46d895791\", element=\"0.45732338603147893-393\")>,\n",
       " <selenium.webdriver.remote.webelement.WebElement (session=\"8f53b9ed926687c5103c14c46d895791\", element=\"0.45732338603147893-394\")>,\n",
       " <selenium.webdriver.remote.webelement.WebElement (session=\"8f53b9ed926687c5103c14c46d895791\", element=\"0.45732338603147893-395\")>,\n",
       " <selenium.webdriver.remote.webelement.WebElement (session=\"8f53b9ed926687c5103c14c46d895791\", element=\"0.45732338603147893-396\")>,\n",
       " <selenium.webdriver.remote.webelement.WebElement (session=\"8f53b9ed926687c5103c14c46d895791\", element=\"0.45732338603147893-397\")>,\n",
       " <selenium.webdriver.remote.webelement.WebElement (session=\"8f53b9ed926687c5103c14c46d895791\", element=\"0.45732338603147893-398\")>,\n",
       " <selenium.webdriver.remote.webelement.WebElement (session=\"8f53b9ed926687c5103c14c46d895791\", element=\"0.45732338603147893-399\")>,\n",
       " <selenium.webdriver.remote.webelement.WebElement (session=\"8f53b9ed926687c5103c14c46d895791\", element=\"0.45732338603147893-400\")>,\n",
       " <selenium.webdriver.remote.webelement.WebElement (session=\"8f53b9ed926687c5103c14c46d895791\", element=\"0.45732338603147893-401\")>,\n",
       " <selenium.webdriver.remote.webelement.WebElement (session=\"8f53b9ed926687c5103c14c46d895791\", element=\"0.45732338603147893-402\")>,\n",
       " <selenium.webdriver.remote.webelement.WebElement (session=\"8f53b9ed926687c5103c14c46d895791\", element=\"0.45732338603147893-403\")>,\n",
       " <selenium.webdriver.remote.webelement.WebElement (session=\"8f53b9ed926687c5103c14c46d895791\", element=\"0.45732338603147893-404\")>,\n",
       " <selenium.webdriver.remote.webelement.WebElement (session=\"8f53b9ed926687c5103c14c46d895791\", element=\"0.45732338603147893-405\")>]"
      ]
     },
     "execution_count": 8,
     "metadata": {},
     "output_type": "execute_result"
    }
   ],
   "source": [
    "data2=data1[0].find_elements_by_tag_name('a')\n",
    "data2"
   ]
  },
  {
   "cell_type": "code",
   "execution_count": 13,
   "metadata": {},
   "outputs": [
    {
     "data": {
      "text/plain": [
       "189"
      ]
     },
     "execution_count": 13,
     "metadata": {},
     "output_type": "execute_result"
    }
   ],
   "source": [
    "len(data2)"
   ]
  },
  {
   "cell_type": "code",
   "execution_count": 14,
   "metadata": {},
   "outputs": [
    {
     "data": {
      "text/plain": [
       "'Accounting (ACCT)'"
      ]
     },
     "execution_count": 14,
     "metadata": {},
     "output_type": "execute_result"
    }
   ],
   "source": [
    "data2[27].text"
   ]
  },
  {
   "cell_type": "code",
   "execution_count": 16,
   "metadata": {},
   "outputs": [
    {
     "data": {
      "text/plain": [
       "'https://catalog.upenn.edu/courses/acct/'"
      ]
     },
     "execution_count": 16,
     "metadata": {},
     "output_type": "execute_result"
    }
   ],
   "source": [
    "data2[27].get_attribute('href')"
   ]
  },
  {
   "cell_type": "code",
   "execution_count": 15,
   "metadata": {},
   "outputs": [
    {
     "data": {
      "text/plain": [
       "'Yiddish (YDSH)'"
      ]
     },
     "execution_count": 15,
     "metadata": {},
     "output_type": "execute_result"
    }
   ],
   "source": [
    "data2[188].text"
   ]
  },
  {
   "cell_type": "code",
   "execution_count": 18,
   "metadata": {},
   "outputs": [
    {
     "data": {
      "text/plain": [
       "'https://catalog.upenn.edu/courses/ydsh/'"
      ]
     },
     "execution_count": 18,
     "metadata": {},
     "output_type": "execute_result"
    }
   ],
   "source": [
    "data2[188].get_attribute('href')"
   ]
  },
  {
   "cell_type": "markdown",
   "metadata": {},
   "source": [
    "# Full Code"
   ]
  },
  {
   "cell_type": "code",
   "execution_count": 19,
   "metadata": {},
   "outputs": [
    {
     "name": "stdout",
     "output_type": "stream",
     "text": [
      "Accounting (ACCT) https://catalog.upenn.edu/courses/acct/\n",
      "African Studies Program (AFST) https://catalog.upenn.edu/courses/afst/\n",
      "Africana Studies (AFRC) https://catalog.upenn.edu/courses/afrc/\n",
      "Anatomy (ANAT) https://catalog.upenn.edu/courses/anat/\n",
      "Ancient History (ANCH) https://catalog.upenn.edu/courses/anch/\n",
      "Ancient Near East Languages (ANEL) https://catalog.upenn.edu/courses/anel/\n",
      "Anthropology (ANTH) https://catalog.upenn.edu/courses/anth/\n",
      "Applied Math & Computational Science (AMCS) https://catalog.upenn.edu/courses/amcs/\n",
      "Arabic (ARAB) https://catalog.upenn.edu/courses/arab/\n",
      "Architecture (ARCH) https://catalog.upenn.edu/courses/arch/\n",
      "Art & Archaeology of Mediterranean World (AAMW) https://catalog.upenn.edu/courses/aamw/\n",
      "Art History (ARTH) https://catalog.upenn.edu/courses/arth/\n",
      "Asian American Studies (ASAM) https://catalog.upenn.edu/courses/asam/\n",
      "Asian Languages (ALAN) https://catalog.upenn.edu/courses/alan/\n",
      "Astronomy (ASTR) https://catalog.upenn.edu/courses/astr/\n",
      "Behavioral & Decision Sciences (BDS) https://catalog.upenn.edu/courses/bds/\n",
      "Bengali (BENG) https://catalog.upenn.edu/courses/beng/\n",
      "Biochemistry & Molecular Biophysics (BMB) https://catalog.upenn.edu/courses/bmb/\n",
      "Biochemistry (BCHE) https://catalog.upenn.edu/courses/bche/\n",
      "Bioengineering (BE) https://catalog.upenn.edu/courses/be/\n",
      "Bioethics (BIOE) https://catalog.upenn.edu/courses/bioe/\n",
      "Biological Basis of Behavior (BIBB) https://catalog.upenn.edu/courses/bibb/\n",
      "Biology (BIOL) https://catalog.upenn.edu/courses/biol/\n",
      "Biomedical Graduate Studies (BIOM) https://catalog.upenn.edu/courses/biom/\n",
      "Biomedical Informatics (BMIN) https://catalog.upenn.edu/courses/bmin/\n",
      "Biostatistics (BSTA) https://catalog.upenn.edu/courses/bsta/\n",
      "Biotechnology (BIOT) https://catalog.upenn.edu/courses/biot/\n",
      "Business Economics & Public Policy (BEPP) https://catalog.upenn.edu/courses/bepp/\n",
      "Cell and Molecular Biology (CAMB) https://catalog.upenn.edu/courses/camb/\n",
      "Chemical & Biomolecular Engineering (CBE) https://catalog.upenn.edu/courses/cbe/\n",
      "Chemistry (CHEM) https://catalog.upenn.edu/courses/chem/\n",
      "Chinese (CHIN) https://catalog.upenn.edu/courses/chin/\n",
      "Cinema and Media Studies (CIMS) https://catalog.upenn.edu/courses/cims/\n",
      "City and Regional Planning (CPLN) https://catalog.upenn.edu/courses/cpln/\n",
      "Classical Studies (CLST) https://catalog.upenn.edu/courses/clst/\n",
      "Cognitive Science (COGS) https://catalog.upenn.edu/courses/cogs/\n",
      "College (COLL) https://catalog.upenn.edu/courses/coll/\n",
      "Communications (COMM) https://catalog.upenn.edu/courses/comm/\n",
      "Comparative Literature (COML) https://catalog.upenn.edu/courses/coml/\n",
      "Computer and Information Science (CIS) https://catalog.upenn.edu/courses/cis/\n",
      "Computer and Information Technology (CIT) https://catalog.upenn.edu/courses/cit/\n",
      "Creative Writing (CRWR) https://catalog.upenn.edu/courses/crwr/\n",
      "Criminology (CRIM) https://catalog.upenn.edu/courses/crim/\n",
      "Demography (DEMG) https://catalog.upenn.edu/courses/demg/\n",
      "Dutch (DTCH) https://catalog.upenn.edu/courses/dtch/\n",
      "East Asian Languages & Civilization (EALC) https://catalog.upenn.edu/courses/ealc/\n",
      "East European (EEUR) https://catalog.upenn.edu/courses/eeur/\n",
      "Economics (ECON) https://catalog.upenn.edu/courses/econ/\n",
      "Education (EDUC) https://catalog.upenn.edu/courses/educ/\n",
      "Electrical & Systems Engineering (ESE) https://catalog.upenn.edu/courses/ese/\n",
      "Energy Management and Policy (ENMG) https://catalog.upenn.edu/courses/enmg/\n",
      "Engineering & Applied Science (EAS) https://catalog.upenn.edu/courses/eas/\n",
      "Engineering (ENGR) https://catalog.upenn.edu/courses/engr/\n",
      "Engineering Mathematics (ENM) https://catalog.upenn.edu/courses/enm/\n",
      "English (ENGL) https://catalog.upenn.edu/courses/engl/\n",
      "Environmental Studies (ENVS) https://catalog.upenn.edu/courses/envs/\n",
      "Epidemiology (EPID) https://catalog.upenn.edu/courses/epid/\n",
      "Finance (FNCE) https://catalog.upenn.edu/courses/fnce/\n",
      "Fine Arts (FNAR) https://catalog.upenn.edu/courses/fnar/\n",
      "Folklore (FOLK) https://catalog.upenn.edu/courses/folk/\n",
      "French (FREN) https://catalog.upenn.edu/courses/fren/\n",
      "Gender, Sexuality & Women's Studies (GSWS) https://catalog.upenn.edu/courses/gsws/\n",
      "Genomics & Comp. Biology (GCB) https://catalog.upenn.edu/courses/gcb/\n",
      "Geology (GEOL) https://catalog.upenn.edu/courses/geol/\n",
      "Germanic Languages (GRMN) https://catalog.upenn.edu/courses/grmn/\n",
      "Government Administration (GAFL) https://catalog.upenn.edu/courses/gafl/\n",
      "Graduate Arts & Sciences (GAS) https://catalog.upenn.edu/courses/gas/\n",
      "Greek (GREK) https://catalog.upenn.edu/courses/grek/\n",
      "Gujarati (GUJR) https://catalog.upenn.edu/courses/gujr/\n",
      "Health & Societies (HSOC) https://catalog.upenn.edu/courses/hsoc/\n",
      "Health Care Innovation (HCIN) https://catalog.upenn.edu/courses/hcin/\n",
      "Health Care Management (HCMG) https://catalog.upenn.edu/courses/hcmg/\n",
      "Health Policy Research (HPR) https://catalog.upenn.edu/courses/hpr/\n",
      "Hebrew (HEBR) https://catalog.upenn.edu/courses/hebr/\n",
      "Hindi (HIND) https://catalog.upenn.edu/courses/hind/\n",
      "Historic Preservation (HSPV) https://catalog.upenn.edu/courses/hspv/\n",
      "History & Sociology of Science (HSSC) https://catalog.upenn.edu/courses/hssc/\n",
      "History (HIST) https://catalog.upenn.edu/courses/hist/\n",
      "Immunology (IMUN) https://catalog.upenn.edu/courses/imun/\n",
      "Integrated Product Design (IPD) https://catalog.upenn.edu/courses/ipd/\n",
      "Integrated Studies (INTG) https://catalog.upenn.edu/courses/intg/\n",
      "International MPA (IMPA) https://catalog.upenn.edu/courses/impa/\n",
      "International Relations (INTR) https://catalog.upenn.edu/courses/intr/\n",
      "Italian (ITAL) https://catalog.upenn.edu/courses/ital/\n",
      "Japanese (JPAN) https://catalog.upenn.edu/courses/jpan/\n",
      "Jewish Studies Program (JWST) https://catalog.upenn.edu/courses/jwst/\n",
      "Korean (KORN) https://catalog.upenn.edu/courses/korn/\n",
      "Landscape Architecture & Regional Planning (LARP) https://catalog.upenn.edu/courses/larp/\n",
      "Latin (LATN) https://catalog.upenn.edu/courses/latn/\n",
      "Latin American & Latino Studies (LALS) https://catalog.upenn.edu/courses/lals/\n",
      "Leadership and Communication (LEAD) https://catalog.upenn.edu/courses/lead/\n",
      "Legal Studies & Business Ethics (LGST) https://catalog.upenn.edu/courses/lgst/\n",
      "Linguistics (LING) https://catalog.upenn.edu/courses/ling/\n",
      "Logic, Information and Computation (LGIC) https://catalog.upenn.edu/courses/lgic/\n",
      "Malayalam (MLYM) https://catalog.upenn.edu/courses/mlym/\n",
      "Management (MGMT) https://catalog.upenn.edu/courses/mgmt/\n",
      "Management of Economics (MGEC) https://catalog.upenn.edu/courses/mgec/\n",
      "Marketing (MKTG) https://catalog.upenn.edu/courses/mktg/\n",
      "Master of Chemical Sciences (MCS) https://catalog.upenn.edu/courses/mcs/\n",
      "Master of Science in Social Policy (MSSP) https://catalog.upenn.edu/courses/mssp/\n",
      "Master of Science in Translational Research (MTR) https://catalog.upenn.edu/courses/mtr/\n",
      "Master of Urban Spatial Analytics (MUSA) https://catalog.upenn.edu/courses/musa/\n",
      "Materials Science and Engineering (MSE) https://catalog.upenn.edu/courses/mse/\n",
      "Mathematics (MATH) https://catalog.upenn.edu/courses/math/\n",
      "Mechanical Engineering and Applied Mechanics (MEAM) https://catalog.upenn.edu/courses/meam/\n",
      "Military Science (MSCI) https://catalog.upenn.edu/courses/msci/\n",
      "Music (MUSC) https://catalog.upenn.edu/courses/musc/\n",
      "Nanotechnology (NANO) https://catalog.upenn.edu/courses/nano/\n",
      "Naval Science (NSCI) https://catalog.upenn.edu/courses/nsci/\n",
      "Near Eastern Languages & Civilization (NELC) https://catalog.upenn.edu/courses/nelc/\n",
      "Network and Social Systems Engineering (NETS) https://catalog.upenn.edu/courses/nets/\n",
      "Neuroscience (NGG) https://catalog.upenn.edu/courses/ngg/\n",
      "Nonprofit Leadership (NPLD) https://catalog.upenn.edu/courses/npld/\n",
      "Nursing (NURS) https://catalog.upenn.edu/courses/nurs/\n",
      "Operations, Information and Decisions (OIDD) https://catalog.upenn.edu/courses/oidd/\n",
      "Organizational Anthropolgy (ORGC) https://catalog.upenn.edu/courses/orgc/\n",
      "Organizational Dynamics (DYNM) https://catalog.upenn.edu/courses/dynm/\n",
      "Persian (PERS) https://catalog.upenn.edu/courses/pers/\n",
      "Pharmacology (PHRM) https://catalog.upenn.edu/courses/phrm/\n",
      "Philosophy (PHIL) https://catalog.upenn.edu/courses/phil/\n",
      "Philosophy, Politics, Economics (PPE) https://catalog.upenn.edu/courses/ppe/\n",
      "Physics (PHYS) https://catalog.upenn.edu/courses/phys/\n",
      "Political Science (PSCI) https://catalog.upenn.edu/courses/psci/\n",
      "Portuguese (PRTG) https://catalog.upenn.edu/courses/prtg/\n",
      "Professional Writing (PROW) https://catalog.upenn.edu/courses/prow/\n"
     ]
    },
    {
     "name": "stdout",
     "output_type": "stream",
     "text": [
      "Psychology (PSYC) https://catalog.upenn.edu/courses/psyc/\n",
      "Public Health Studies (PUBH) https://catalog.upenn.edu/courses/pubh/\n",
      "Punjabi (PUNJ) https://catalog.upenn.edu/courses/punj/\n",
      "Quechua (QUEC) https://catalog.upenn.edu/courses/quec/\n",
      "Real Estate (REAL) https://catalog.upenn.edu/courses/real/\n",
      "Regulation (REG) https://catalog.upenn.edu/courses/reg/\n",
      "Religious Studies (RELS) https://catalog.upenn.edu/courses/rels/\n",
      "Robotics (ROBO) https://catalog.upenn.edu/courses/robo/\n",
      "Romance Languages (ROML) https://catalog.upenn.edu/courses/roml/\n",
      "Russian (RUSS) https://catalog.upenn.edu/courses/russ/\n",
      "Sanskrit (SKRT) https://catalog.upenn.edu/courses/skrt/\n",
      "Scandinavian (SCND) https://catalog.upenn.edu/courses/scnd/\n",
      "Science, Technology & Society (STSC) https://catalog.upenn.edu/courses/stsc/\n",
      "Scientific Computing (SCMP) https://catalog.upenn.edu/courses/scmp/\n",
      "Slavic (SLAV) https://catalog.upenn.edu/courses/slav/\n",
      "Social Work (SWRK) https://catalog.upenn.edu/courses/swrk/\n",
      "Sociology (SOCI) https://catalog.upenn.edu/courses/soci/\n",
      "South Asia Studies (SAST) https://catalog.upenn.edu/courses/sast/\n",
      "Spanish (SPAN) https://catalog.upenn.edu/courses/span/\n",
      "Statistics (STAT) https://catalog.upenn.edu/courses/stat/\n",
      "Tamil (TAML) https://catalog.upenn.edu/courses/taml/\n",
      "Telugu (TELU) https://catalog.upenn.edu/courses/telu/\n",
      "Theatre Arts (THAR) https://catalog.upenn.edu/courses/thar/\n",
      "Turkish (TURK) https://catalog.upenn.edu/courses/turk/\n",
      "Urban Studies (URBS) https://catalog.upenn.edu/courses/urbs/\n",
      "Urdu (URDU) https://catalog.upenn.edu/courses/urdu/\n",
      "Veterinary & Biomedical Sciences (VBMS) https://catalog.upenn.edu/courses/vbms/\n",
      "Veterinary Clinical Studies - Medicine Courses (VMED) https://catalog.upenn.edu/courses/vmed/\n",
      "Veterinary Clinical Studies - New Bolton Center (VCSN) https://catalog.upenn.edu/courses/vcsn/\n",
      "Veterinary Clinical Studies - Surgery Courses (VSUR) https://catalog.upenn.edu/courses/vsur/\n",
      "Veterinary Clinical Studies and Advanced Medicine - Philadelphia (VCSP) https://catalog.upenn.edu/courses/vcsp/\n",
      "Veterinary Independent Study & Research (VISR) https://catalog.upenn.edu/courses/visr/\n",
      "Veterinary Pathobiology (VPTH) https://catalog.upenn.edu/courses/vpth/\n",
      "Viper (VIPR) https://catalog.upenn.edu/courses/vipr/\n",
      "Visual Studies (VLST) https://catalog.upenn.edu/courses/vlst/\n",
      "Wharton Undergraduate (WH) https://catalog.upenn.edu/courses/wh/\n",
      "Yiddish (YDSH) https://catalog.upenn.edu/courses/ydsh/\n"
     ]
    }
   ],
   "source": [
    "lis=['Course','URL','University']\n",
    "info=[]\n",
    "info.append(lis)\n",
    "\n",
    "from selenium import webdriver\n",
    "import csv\n",
    "\n",
    "chrome_options = webdriver.ChromeOptions()\n",
    "chrome_options.add_argument('--no-sandbox')\n",
    "driver = webdriver.Chrome(\"C:\\\\Users\\MOHAN KUMAR SAH\\Documents\\My Work\\PakkaIndia\\chromedriver\",chrome_options=chrome_options)\n",
    "\n",
    "driver.get('https://catalog.upenn.edu/courses/')\n",
    "data1=driver.find_elements_by_id('textcontainer')\n",
    "data2=data1[0].find_elements_by_tag_name('a')\n",
    "for i in range(27,len(data2)):\n",
    "    c=data2[i].text\n",
    "    url=data2[i].get_attribute('href')\n",
    "    \n",
    "    info.append([c,url,'University_of_Pennsylvania'])\n",
    "    print(c,url)"
   ]
  },
  {
   "cell_type": "code",
   "execution_count": 20,
   "metadata": {},
   "outputs": [],
   "source": [
    "with open('University_of_Pennsylvania.csv','w',encoding=\"utf-8\",newline=\"\") as file:\n",
    "    write=csv.writer(file)\n",
    "    for row in info:\n",
    "        write.writerow(row)"
   ]
  },
  {
   "cell_type": "code",
   "execution_count": null,
   "metadata": {},
   "outputs": [],
   "source": []
  }
 ],
 "metadata": {
  "kernelspec": {
   "display_name": "Python 3",
   "language": "python",
   "name": "python3"
  },
  "language_info": {
   "codemirror_mode": {
    "name": "ipython",
    "version": 3
   },
   "file_extension": ".py",
   "mimetype": "text/x-python",
   "name": "python",
   "nbconvert_exporter": "python",
   "pygments_lexer": "ipython3",
   "version": "3.6.5"
  }
 },
 "nbformat": 4,
 "nbformat_minor": 2
}
