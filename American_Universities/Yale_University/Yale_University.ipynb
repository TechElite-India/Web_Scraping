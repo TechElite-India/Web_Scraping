{
 "cells": [
  {
   "cell_type": "code",
   "execution_count": 1,
   "metadata": {},
   "outputs": [
    {
     "name": "stderr",
     "output_type": "stream",
     "text": [
      "C:\\ProgramData\\Anaconda3\\lib\\site-packages\\ipykernel_launcher.py:6: DeprecationWarning: use options instead of chrome_options\n",
      "  \n"
     ]
    }
   ],
   "source": [
    "from selenium import webdriver\n",
    "import csv\n",
    "\n",
    "chrome_options = webdriver.ChromeOptions()\n",
    "chrome_options.add_argument('--no-sandbox')\n",
    "driver = webdriver.Chrome(\"C:\\\\Users\\MOHAN KUMAR SAH\\Documents\\My Work\\PakkaIndia\\chromedriver\",chrome_options=chrome_options)"
   ]
  },
  {
   "cell_type": "code",
   "execution_count": 2,
   "metadata": {},
   "outputs": [],
   "source": [
    "driver.get('http://catalog.yale.edu/ycps/subjects-of-instruction/')"
   ]
  },
  {
   "cell_type": "code",
   "execution_count": 3,
   "metadata": {},
   "outputs": [
    {
     "data": {
      "text/plain": [
       "1"
      ]
     },
     "execution_count": 3,
     "metadata": {},
     "output_type": "execute_result"
    }
   ],
   "source": [
    "data1=driver.find_elements_by_id('textcontainer')\n",
    "len(data1)"
   ]
  },
  {
   "cell_type": "code",
   "execution_count": 4,
   "metadata": {},
   "outputs": [
    {
     "data": {
      "text/plain": [
       "24"
      ]
     },
     "execution_count": 4,
     "metadata": {},
     "output_type": "execute_result"
    }
   ],
   "source": [
    "data2=data1[0].find_elements_by_tag_name('ul')\n",
    "len(data2)"
   ]
  },
  {
   "cell_type": "code",
   "execution_count": 21,
   "metadata": {},
   "outputs": [
    {
     "data": {
      "text/plain": [
       "15"
      ]
     },
     "execution_count": 21,
     "metadata": {},
     "output_type": "execute_result"
    }
   ],
   "source": [
    "data3=data2[2].find_elements_by_tag_name('li')\n",
    "len(data3)"
   ]
  },
  {
   "cell_type": "code",
   "execution_count": 22,
   "metadata": {},
   "outputs": [
    {
     "data": {
      "text/plain": [
       "'Accounting'"
      ]
     },
     "execution_count": 22,
     "metadata": {},
     "output_type": "execute_result"
    }
   ],
   "source": [
    "data3[0].text"
   ]
  },
  {
   "cell_type": "code",
   "execution_count": 23,
   "metadata": {},
   "outputs": [
    {
     "data": {
      "text/plain": [
       "'http://catalog.yale.edu/ycps/subjects-of-instruction/accounting'"
      ]
     },
     "execution_count": 23,
     "metadata": {},
     "output_type": "execute_result"
    }
   ],
   "source": [
    "data3[0].find_element_by_tag_name('a').get_attribute('href')"
   ]
  },
  {
   "cell_type": "markdown",
   "metadata": {},
   "source": [
    "# Full Code"
   ]
  },
  {
   "cell_type": "code",
   "execution_count": 25,
   "metadata": {},
   "outputs": [
    {
     "name": "stderr",
     "output_type": "stream",
     "text": [
      "C:\\ProgramData\\Anaconda3\\lib\\site-packages\\ipykernel_launcher.py:6: DeprecationWarning: use options instead of chrome_options\n",
      "  \n"
     ]
    },
    {
     "name": "stdout",
     "output_type": "stream",
     "text": [
      "Accounting http://catalog.yale.edu/ycps/subjects-of-instruction/accounting\n",
      "Aerospace Studies http://catalog.yale.edu/ycps/subjects-of-instruction/aerospace-studies\n",
      "African American Studies http://catalog.yale.edu/ycps/subjects-of-instruction/african-american-studies\n",
      "African Studies http://catalog.yale.edu/ycps/subjects-of-instruction/african-studies\n",
      "Akkadian (See under Near Eastern Languages and Civilizations) http://catalog.yale.edu/ycps/subjects-of-instruction/near-eastern-languages-civilizations\n",
      "American Sign Language (see under Linguistics) http://catalog.yale.edu/ycps/subjects-of-instruction/linguistics/#text\n",
      "American Studies http://catalog.yale.edu/ycps/subjects-of-instruction/american-studies\n",
      "Anthropology http://catalog.yale.edu/ycps/subjects-of-instruction/anthropology\n",
      "Applied Mathematics http://catalog.yale.edu/ycps/subjects-of-instruction/applied-mathematics\n",
      "Applied Physics http://catalog.yale.edu/ycps/subjects-of-instruction/applied-physics\n",
      "Arabic (See under Near Eastern Languages and Civilizations) http://catalog.yale.edu/ycps/subjects-of-instruction/near-eastern-languages-civilizations\n",
      "Archaeological Studies http://catalog.yale.edu/ycps/subjects-of-instruction/archaeological-studies\n",
      "Architecture http://catalog.yale.edu/ycps/subjects-of-instruction/architecture\n",
      "Art http://catalog.yale.edu/ycps/subjects-of-instruction/art\n",
      "Astronomy http://catalog.yale.edu/ycps/subjects-of-instruction/astronomy\n",
      "Bengali (See under South Asian Studies) http://catalog.yale.edu/ycps/subjects-of-instruction/south-asian-studies\n",
      "Biology http://catalog.yale.edu/ycps/subjects-of-instruction/biology\n",
      "Biomedical Engineering http://catalog.yale.edu/ycps/subjects-of-instruction/biomedical-engineering\n",
      "Bosnian-Serbian-Croatian (See under Slavic Languages and Literatures) http://catalog.yale.edu/ycps/subjects-of-instruction/slavic-languages-literatures\n",
      "British Studies http://catalog.yale.edu/ycps/subjects-of-instruction/british-studies\n",
      "Chemical Engineering http://catalog.yale.edu/ycps/subjects-of-instruction/chemical-engineering\n",
      "Chemistry http://catalog.yale.edu/ycps/subjects-of-instruction/chemistry\n",
      "Child Study Center http://catalog.yale.edu/ycps/subjects-of-instruction/child-study-center\n",
      "Chinese (See under East Asian Languages and Literatures) http://catalog.yale.edu/ycps/subjects-of-instruction/east-asian-languages-literatures\n",
      "Classics http://catalog.yale.edu/ycps/subjects-of-instruction/classics\n",
      "Cognitive Science http://catalog.yale.edu/ycps/subjects-of-instruction/cognitive-science\n",
      "College Seminars http://catalog.yale.edu/ycps/subjects-of-instruction/college-seminars\n",
      "Computer Science http://catalog.yale.edu/ycps/subjects-of-instruction/computer-science\n",
      "Computer Science and Mathematics http://catalog.yale.edu/ycps/subjects-of-instruction/computer-science-mathematics\n",
      "Computer Science and Psychology http://catalog.yale.edu/ycps/subjects-of-instruction/computer-science-psychology\n",
      "Computing and the Arts http://catalog.yale.edu/ycps/subjects-of-instruction/computing-arts\n",
      "Czech (See under Slavic Languages and Literatures) http://catalog.yale.edu/ycps/subjects-of-instruction/slavic-languages-literatures\n",
      "Dance Studies (see under Theater Studies) https://theaterstudies.yale.edu/dance-studies-yale\n",
      "DeVane Lecture Course http://catalog.yale.edu/ycps/subjects-of-instruction/devane-lecture-course\n",
      "Directed Studies http://catalog.yale.edu/ycps/subjects-of-instruction/directed-studies\n",
      "Drama (See under Theater Studies) http://catalog.yale.edu/ycps/subjects-of-instruction/theater-studies\n",
      "Dutch (See under German Studies) http://catalog.yale.edu/ycps/subjects-of-instruction/german-studies/\n",
      "East Asian Languages and Literatures http://catalog.yale.edu/ycps/subjects-of-instruction/east-asian-languages-literatures\n",
      "East Asian Studies http://catalog.yale.edu/ycps/subjects-of-instruction/east-asian-studies\n",
      "Ecology and Evolutionary Biology http://catalog.yale.edu/ycps/subjects-of-instruction/ecology-evolutionary-biology\n",
      "Economics http://catalog.yale.edu/ycps/subjects-of-instruction/economics\n",
      "Economics and Mathematics http://catalog.yale.edu/ycps/subjects-of-instruction/economics-mathematics\n",
      "Education Studies http://catalog.yale.edu/ycps/subjects-of-instruction/education-studies\n",
      "Egyptian (See under Near Eastern Languages and Civilizations) http://catalog.yale.edu/ycps/subjects-of-instruction/near-eastern-languages-civilizations\n",
      "Electrical Engineering http://catalog.yale.edu/ycps/subjects-of-instruction/electrical-engineering\n",
      "Electrical Engineering and Computer Science http://catalog.yale.edu/ycps/subjects-of-instruction/electrical-engineering-computer-science\n",
      "Energy Studies http://catalog.yale.edu/ycps/subjects-of-instruction/energy-studies/\n",
      "Engineering http://catalog.yale.edu/ycps/subjects-of-instruction/engineering\n",
      "Engineering and Applied Science http://catalog.yale.edu/ycps/subjects-of-instruction/engineering-applied-science\n",
      "English Language and Literature http://catalog.yale.edu/ycps/subjects-of-instruction/english-language-literature\n",
      "Environment http://catalog.yale.edu/ycps/subjects-of-instruction/environment\n",
      "Environmental Engineering http://catalog.yale.edu/ycps/subjects-of-instruction/environmental-engineering\n",
      "Environmental Studies http://catalog.yale.edu/ycps/subjects-of-instruction/environmental-studies\n",
      "Ethics, Politics, and Economics http://catalog.yale.edu/ycps/subjects-of-instruction/ethics-politics-economics\n",
      "Ethnicity, Race, and Migration http://catalog.yale.edu/ycps/subjects-of-instruction/ethnicity-race-migration\n",
      "Film and Media Studies http://catalog.yale.edu/ycps/subjects-of-instruction/film-studies\n",
      "Finnish (See under Slavic Languages and Literatures) http://catalog.yale.edu/ycps/subjects-of-instruction/slavic-languages-literatures\n",
      "First-Year Seminar program http://catalog.yale.edu/ycps/subjects-of-instruction/freshman-seminar-program\n",
      "Forestry and Environmental Studies http://catalog.yale.edu/ycps/subjects-of-instruction/forestry-environmental-studies\n",
      "French http://catalog.yale.edu/ycps/subjects-of-instruction/french\n",
      "Gay and Lesbian Studies (See under Women's, Gender, and Sexuality Studies) http://catalog.yale.edu/ycps/subjects-of-instruction/womens-gender-sexuality-studies\n",
      "Gender Studies (See under Women's, Gender, and Sexuality Studies) http://catalog.yale.edu/ycps/subjects-of-instruction/womens-gender-sexuality-studies\n",
      "Geology and Geophysics http://catalog.yale.edu/ycps/subjects-of-instruction/geology-geophysics\n",
      "German Studies http://catalog.yale.edu/ycps/subjects-of-instruction/german-studies\n",
      "Global Affairs http://catalog.yale.edu/ycps/subjects-of-instruction/global-affairs\n",
      "Global Health Studies http://catalog.yale.edu/ycps/subjects-of-instruction/global-health-studies\n",
      "Greek, Ancient (See under Classics) http://catalog.yale.edu/ycps/subjects-of-instruction/classics\n",
      "Greek, Modern (See under Hellenic Studies) http://catalog.yale.edu/ycps/subjects-of-instruction/hellenic-studies\n",
      "Hebrew (See under Near Eastern Languages and Civilizations) http://catalog.yale.edu/ycps/subjects-of-instruction/near-eastern-languages-civilizations\n",
      "Hellenic Studies http://catalog.yale.edu/ycps/subjects-of-instruction/hellenic-studies\n",
      "Hindi (See under South Asian Studies) http://catalog.yale.edu/ycps/subjects-of-instruction/south-asian-studies\n",
      "History http://catalog.yale.edu/ycps/subjects-of-instruction/history\n",
      "History of Art http://catalog.yale.edu/ycps/subjects-of-instruction/history-of-art\n",
      "History of Science, Medicine, and Public Health http://catalog.yale.edu/ycps/subjects-of-instruction/history-of-science-medicine-public-health\n",
      "Human Rights Studies http://catalog.yale.edu/ycps/subjects-of-instruction/human-rights/\n",
      "Humanities http://catalog.yale.edu/ycps/subjects-of-instruction/humanities\n",
      "Indonesian (See under Southeast Asia Studies) http://catalog.yale.edu/ycps/subjects-of-instruction/southeast-asia-studies\n",
      "isiZulu (See under African Studies) http://catalog.yale.edu/ycps/subjects-of-instruction/african-studies\n",
      "Italian http://catalog.yale.edu/ycps/subjects-of-instruction/italian\n",
      "Japanese (See under East Asian Languages and Literatures) http://catalog.yale.edu/ycps/subjects-of-instruction/east-asian-languages-literatures\n",
      "Judaic Studies http://catalog.yale.edu/ycps/subjects-of-instruction/judaic-studies\n"
     ]
    },
    {
     "name": "stdout",
     "output_type": "stream",
     "text": [
      "Khmer (See under Southeast Asia Studies) http://catalog.yale.edu/ycps/subjects-of-instruction/southeast-asia-studies\n",
      "Kiswahili (See under African Studies) http://catalog.yale.edu/ycps/subjects-of-instruction/african-studies\n",
      "Korean (See under East Asian Languages and Literatures) http://catalog.yale.edu/ycps/subjects-of-instruction/east-asian-languages-literatures\n",
      "Latin (See under Classics) http://catalog.yale.edu/ycps/subjects-of-instruction/classics\n",
      "Latin American Studies http://catalog.yale.edu/ycps/subjects-of-instruction/latin-american-studies\n",
      "Linguistics http://catalog.yale.edu/ycps/subjects-of-instruction/linguistics\n",
      "Literature http://catalog.yale.edu/ycps/subjects-of-instruction/literature\n",
      "Mathematics http://catalog.yale.edu/ycps/subjects-of-instruction/mathematics\n",
      "Mathematics and Philosophy http://catalog.yale.edu/ycps/subjects-of-instruction/mathematics-philosophy\n",
      "Mathematics and Physics http://catalog.yale.edu/ycps/subjects-of-instruction/mathematics-physics\n",
      "Mechanical Engineering http://catalog.yale.edu/ycps/subjects-of-instruction/mechanical-engineering\n",
      "Modern Middle East Studies http://catalog.yale.edu/ycps/subjects-of-instruction/modern-middle-east-studies\n",
      "Molecular Biophysics and Biochemistry http://catalog.yale.edu/ycps/subjects-of-instruction/molecular-biophysics-biochemistry\n",
      "Molecular, Cellular, and Developmental Biology http://catalog.yale.edu/ycps/subjects-of-instruction/molecular-cellular-developmental-biology\n",
      "Music http://catalog.yale.edu/ycps/subjects-of-instruction/music\n",
      "Naval Science http://catalog.yale.edu/ycps/subjects-of-instruction/naval-science\n",
      "Near Eastern Languages and Civilizations http://catalog.yale.edu/ycps/subjects-of-instruction/near-eastern-languages-civilizations\n",
      "Neuroscience http://catalog.yale.edu/ycps/subjects-of-instruction/neuroscience\n",
      "Persian (See under Near Eastern Languages and Civilizations) http://catalog.yale.edu/ycps/subjects-of-instruction/near-eastern-languages-civilizations\n",
      "Philosophy http://catalog.yale.edu/ycps/subjects-of-instruction/philosophy\n",
      "Physics http://catalog.yale.edu/ycps/subjects-of-instruction/physics\n",
      "Physics and Geosciences http://catalog.yale.edu/ycps/subjects-of-instruction/physics-geosciences/\n",
      "Physics and Philosophy http://catalog.yale.edu/ycps/subjects-of-instruction/physics-philosophy\n",
      "Polish (See under Slavic Languages and Literatures) http://catalog.yale.edu/ycps/subjects-of-instruction/slavic-languages-literatures\n",
      "Political Science http://catalog.yale.edu/ycps/subjects-of-instruction/political-science\n",
      "Portuguese http://catalog.yale.edu/ycps/subjects-of-instruction/portuguese\n",
      "Psychology http://catalog.yale.edu/ycps/subjects-of-instruction/psychology\n",
      "Public Health http://catalog.yale.edu/ycps/subjects-of-instruction/public-health\n",
      "Punjabi (See under South Asian Studies) http://catalog.yale.edu/ycps/subjects-of-instruction/south-asian-studies\n",
      "Religious Studies http://catalog.yale.edu/ycps/subjects-of-instruction/religious-studies\n",
      "Romanian (See under Slavic Languages and Literatures) http://catalog.yale.edu/ycps/subjects-of-instruction/slavic-languages-literatures\n",
      "ROTC, U.S. Air Force (See under Aerospace Studies) http://catalog.yale.edu/ycps/subjects-of-instruction/aerospace-studies\n",
      "ROTC, U.S. Navy and Marines (See under Naval Science) http://catalog.yale.edu/ycps/subjects-of-instruction/naval-science\n",
      "Russian (See under Slavic Languages and Literatures) http://catalog.yale.edu/ycps/subjects-of-instruction/slavic-languages-literatures\n",
      "Russian and East European Studies http://catalog.yale.edu/ycps/subjects-of-instruction/russian-east-european-studies\n",
      "Sanskrit (See under South Asian Studies) http://catalog.yale.edu/ycps/subjects-of-instruction/south-asian-studies\n",
      "Science http://catalog.yale.edu/ycps/subjects-of-instruction/science/\n",
      "Sinhala (See under South Asian Studies) http://catalog.yale.edu/ycps/subjects-of-instruction/south-asian-studies\n",
      "Slavic Languages and Literatures http://catalog.yale.edu/ycps/subjects-of-instruction/slavic-languages-literatures\n",
      "Sociology http://catalog.yale.edu/ycps/subjects-of-instruction/sociology\n",
      "South Asian Studies http://catalog.yale.edu/ycps/subjects-of-instruction/south-asian-studies\n",
      "Southeast Asia Studies http://catalog.yale.edu/ycps/subjects-of-instruction/southeast-asia-studies\n",
      "Spanish http://catalog.yale.edu/ycps/subjects-of-instruction/spanish\n",
      "Special Divisional Majors http://catalog.yale.edu/ycps/subjects-of-instruction/special-divisional-majors\n",
      "Statistics and Data Science http://catalog.yale.edu/ycps/subjects-of-instruction/statistics\n",
      "Study of the City http://catalog.yale.edu/ycps/subjects-of-instruction/study-of-city\n",
      "Tamil (See under South Asian Studies) http://catalog.yale.edu/ycps/subjects-of-instruction/south-asian-studies\n",
      "Theater Studies http://catalog.yale.edu/ycps/subjects-of-instruction/theater-studies\n",
      "Tibetan (See under South Asian Studies) http://catalog.yale.edu/ycps/subjects-of-instruction/south-asian-studies\n",
      "Turkish (See under Near Eastern Languages and Civilizations) http://catalog.yale.edu/ycps/subjects-of-instruction/near-eastern-languages-civilizations\n",
      "Ukrainian (See under Slavic Languages and Literatures) http://catalog.yale.edu/ycps/subjects-of-instruction/urban-studies\n",
      "Urban Studies http://catalog.yale.edu/ycps/subjects-of-instruction/urban-studies\n",
      "Vietnamese (See under Southeast Asia Studies) http://catalog.yale.edu/ycps/subjects-of-instruction/southeast-asia-studies\n",
      "Wolof (See under African Studies) http://catalog.yale.edu/ycps/subjects-of-instruction/womens-gender-sexuality-studies\n",
      "Women's, Gender, and Sexuality Studies http://catalog.yale.edu/ycps/subjects-of-instruction/womens-gender-sexuality-studies\n",
      "Yorùbá (See under African Studies) http://catalog.yale.edu/ycps/subjects-of-instruction/african-studies\n"
     ]
    }
   ],
   "source": [
    "from selenium import webdriver\n",
    "import csv\n",
    "\n",
    "chrome_options = webdriver.ChromeOptions()\n",
    "chrome_options.add_argument('--no-sandbox')\n",
    "driver = webdriver.Chrome(\"C:\\\\Users\\MOHAN KUMAR SAH\\Documents\\My Work\\PakkaIndia\\chromedriver\",chrome_options=chrome_options)\n",
    "\n",
    "\n",
    "lis=['Course','University','URL']\n",
    "info=[]\n",
    "info.append(lis)\n",
    "\n",
    "driver.get('http://catalog.yale.edu/ycps/subjects-of-instruction/')\n",
    "data1=driver.find_elements_by_id('textcontainer')\n",
    "data2=data1[0].find_elements_by_tag_name('ul')\n",
    "for i in range(2,len(data2)):\n",
    "    data3=data2[i].find_elements_by_tag_name('li')\n",
    "    for j in range(len(data3)):\n",
    "        c=data3[j].text\n",
    "        url=data3[j].find_element_by_tag_name('a').get_attribute('href')\n",
    "        \n",
    "        info.append([c,'Yale University',url])\n",
    "        print(c,url)\n",
    "        \n",
    "driver.quit()"
   ]
  },
  {
   "cell_type": "code",
   "execution_count": 26,
   "metadata": {},
   "outputs": [
    {
     "data": {
      "text/plain": [
       "138"
      ]
     },
     "execution_count": 26,
     "metadata": {},
     "output_type": "execute_result"
    }
   ],
   "source": [
    "len(info)"
   ]
  },
  {
   "cell_type": "code",
   "execution_count": 27,
   "metadata": {},
   "outputs": [],
   "source": [
    "with open('Yale_University.csv','w',encoding=\"utf-8\",newline=\"\") as file:\n",
    "    write=csv.writer(file)\n",
    "    for row in info:\n",
    "        write.writerow(row)"
   ]
  },
  {
   "cell_type": "code",
   "execution_count": null,
   "metadata": {},
   "outputs": [],
   "source": []
  }
 ],
 "metadata": {
  "kernelspec": {
   "display_name": "Python 3",
   "language": "python",
   "name": "python3"
  },
  "language_info": {
   "codemirror_mode": {
    "name": "ipython",
    "version": 3
   },
   "file_extension": ".py",
   "mimetype": "text/x-python",
   "name": "python",
   "nbconvert_exporter": "python",
   "pygments_lexer": "ipython3",
   "version": "3.6.5"
  }
 },
 "nbformat": 4,
 "nbformat_minor": 2
}
