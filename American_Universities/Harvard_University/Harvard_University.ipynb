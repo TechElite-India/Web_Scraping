{
 "cells": [
  {
   "cell_type": "code",
   "execution_count": 1,
   "metadata": {},
   "outputs": [
    {
     "name": "stderr",
     "output_type": "stream",
     "text": [
      "C:\\ProgramData\\Anaconda3\\lib\\site-packages\\ipykernel_launcher.py:6: DeprecationWarning: use options instead of chrome_options\n",
      "  \n"
     ]
    }
   ],
   "source": [
    "from selenium import webdriver\n",
    "import csv\n",
    "\n",
    "chrome_options = webdriver.ChromeOptions()\n",
    "chrome_options.add_argument('--no-sandbox')\n",
    "driver = webdriver.Chrome(\"C:\\\\Users\\MOHAN KUMAR SAH\\Documents\\My Work\\PakkaIndia\\chromedriver\",chrome_options=chrome_options)"
   ]
  },
  {
   "cell_type": "code",
   "execution_count": 2,
   "metadata": {},
   "outputs": [],
   "source": [
    "driver.get('https://college.harvard.edu/academics/fields-study/concentrations')"
   ]
  },
  {
   "cell_type": "code",
   "execution_count": 3,
   "metadata": {},
   "outputs": [
    {
     "data": {
      "text/plain": [
       "6"
      ]
     },
     "execution_count": 3,
     "metadata": {},
     "output_type": "execute_result"
    }
   ],
   "source": [
    "data1=driver.find_elements_by_css_selector('div.field-item.even')\n",
    "len(data1)"
   ]
  },
  {
   "cell_type": "code",
   "execution_count": 7,
   "metadata": {},
   "outputs": [
    {
     "data": {
      "text/plain": [
       "51"
      ]
     },
     "execution_count": 7,
     "metadata": {},
     "output_type": "execute_result"
    }
   ],
   "source": [
    "data2=data1[2].find_elements_by_tag_name('a')\n",
    "len(data2)"
   ]
  },
  {
   "cell_type": "code",
   "execution_count": 8,
   "metadata": {},
   "outputs": [
    {
     "data": {
      "text/plain": [
       "'African and African American Studies'"
      ]
     },
     "execution_count": 8,
     "metadata": {},
     "output_type": "execute_result"
    }
   ],
   "source": [
    "data2[0].text"
   ]
  },
  {
   "cell_type": "code",
   "execution_count": 9,
   "metadata": {},
   "outputs": [
    {
     "data": {
      "text/plain": [
       "'https://projects.iq.harvard.edu/student-handbook/book/african-and-african-american-studies'"
      ]
     },
     "execution_count": 9,
     "metadata": {},
     "output_type": "execute_result"
    }
   ],
   "source": [
    "data2[0].get_attribute('href')"
   ]
  },
  {
   "cell_type": "markdown",
   "metadata": {},
   "source": [
    "# Full Code"
   ]
  },
  {
   "cell_type": "code",
   "execution_count": 13,
   "metadata": {},
   "outputs": [
    {
     "name": "stderr",
     "output_type": "stream",
     "text": [
      "C:\\ProgramData\\Anaconda3\\lib\\site-packages\\ipykernel_launcher.py:6: DeprecationWarning: use options instead of chrome_options\n",
      "  \n"
     ]
    },
    {
     "name": "stdout",
     "output_type": "stream",
     "text": [
      "African and African American Studies https://projects.iq.harvard.edu/student-handbook/book/african-and-african-american-studies\n",
      "Anthropology https://projects.iq.harvard.edu/student-handbook/book/anthropology\n",
      "Applied Mathematics https://projects.iq.harvard.edu/student-handbook/book/applied-mathematics\n",
      "Astrophysics https://projects.iq.harvard.edu/student-handbook/book/astrophysics\n",
      " https://projects.iq.harvard.edu/student-handbook/book/biomedical-engineering\n",
      "Biomedical Engineering http://handbook.fas.harvard.edu/book/biomedical-engineering\n",
      "Chemical and Physical Biology https://projects.iq.harvard.edu/student-handbook/book/chemical-and-physical-biology\n",
      "Chemistry https://projects.iq.harvard.edu/student-handbook/book/chemistry\n",
      "Chemistry and Physics https://projects.iq.harvard.edu/student-handbook/book/chemistry-and-physics\n",
      "Classics https://projects.iq.harvard.edu/student-handbook/book/classics\n",
      "Comparative Literature https://projects.iq.harvard.edu/student-handbook/book/comparative-literature\n",
      "Computer Science https://projects.iq.harvard.edu/student-handbook/book/computer-science\n",
      "Earth and Planetary Sciences https://projects.iq.harvard.edu/student-handbook/book/earth-and-planetary-sciences\n",
      "East Asian Studies https://projects.iq.harvard.edu/student-handbook/book/east-asian-studies\n",
      "Economics https://projects.iq.harvard.edu/student-handbook/book/economics\n",
      "Electrical Engineering https://projects.iq.harvard.edu/student-handbook/book/electrical-engineering\n",
      "Engineering Sciences https://projects.iq.harvard.edu/student-handbook/book/engineering-sciences\n",
      "English https://projects.iq.harvard.edu/student-handbook/book/english\n",
      "Environmental Science and Engineering https://www.seas.harvard.edu/programs/engineering/environmental-science-and-engineering\n",
      "Environmental Science and Public Policy https://projects.iq.harvard.edu/student-handbook/book/environmental-science-and-public-policy\n",
      "Folklore and Mythology https://projects.iq.harvard.edu/student-handbook/book/folklore-and-mythology\n",
      "Germanic Languages and Literatures https://projects.iq.harvard.edu/student-handbook/book/germanic-languages-and-literatures\n",
      "Government https://projects.iq.harvard.edu/student-handbook/book/government\n",
      "History https://projects.iq.harvard.edu/student-handbook/book/history\n",
      "History and Literature https://projects.iq.harvard.edu/student-handbook/book/history-and-literature\n",
      "History and Science https://projects.iq.harvard.edu/student-handbook/book/history-and-science\n",
      "History of Art and Architecture https://projects.iq.harvard.edu/student-handbook/book/history-art-and-architecture\n",
      "Human Developmental and Regenerative Biology https://projects.iq.harvard.edu/student-handbook/book/human-developmental-and-regenerative-biology\n",
      "Human Evolutionary Biology https://projects.iq.harvard.edu/student-handbook/book/human-evolutionary-biology\n",
      "Integrative Biology https://projects.iq.harvard.edu/student-handbook/book/integrative-biology\n",
      "Linguistics https://projects.iq.harvard.edu/student-handbook/book/linguistics\n",
      "Mathematics https://projects.iq.harvard.edu/student-handbook/book/mathematics\n",
      "Mechanical Engineering https://projects.iq.harvard.edu/student-handbook/book/mechanical-engineering\n",
      "Molecular and Cellular Biology https://projects.iq.harvard.edu/student-handbook/book/molecular-and-cellular-biology\n",
      "Music https://projects.iq.harvard.edu/student-handbook/book/music\n",
      "Near Eastern Languages and Civilizations https://projects.iq.harvard.edu/student-handbook/book/near-eastern-languages-and-civilizations\n",
      "Neurobiology https://projects.iq.harvard.edu/student-handbook/book/neurobiology\n",
      "Philosophy https://projects.iq.harvard.edu/student-handbook/book/philosophy\n",
      "Physics https://projects.iq.harvard.edu/student-handbook/book/physics\n",
      "Psychology https://projects.iq.harvard.edu/student-handbook/book/psychology\n",
      "Religion, Comparative Study of https://projects.iq.harvard.edu/student-handbook/book/religion-comparative-study\n",
      "Romance Languages and Literatures https://projects.iq.harvard.edu/student-handbook/book/romance-languages-and-literatures\n",
      "Slavic Languages and Literatures https://projects.iq.harvard.edu/student-handbook/book/slavic-languages-and-literatures\n",
      "Social Studies https://projects.iq.harvard.edu/student-handbook/book/social-studies\n",
      "Sociology https://projects.iq.harvard.edu/student-handbook/book/sociology\n",
      "South Asian Studies https://projects.iq.harvard.edu/student-handbook/book/south-asian-studies\n",
      "Special Concentrations https://projects.iq.harvard.edu/student-handbook/book/special-concentrations\n",
      "Statistics https://projects.iq.harvard.edu/student-handbook/book/statistics\n",
      "Theater, Dance, and Media https://projects.iq.harvard.edu/student-handbook/book/theater-dance-and-media\n",
      "Visual and Environmental Studies https://projects.iq.harvard.edu/student-handbook/book/visual-and-environmental-studies\n",
      "Women, Gender, and Sexuality, Studies of https://projects.iq.harvard.edu/student-handbook/book/women-gender-and-sexuality-studies\n"
     ]
    }
   ],
   "source": [
    "from selenium import webdriver\n",
    "import csv\n",
    "\n",
    "chrome_options = webdriver.ChromeOptions()\n",
    "chrome_options.add_argument('--no-sandbox')\n",
    "driver = webdriver.Chrome(\"C:\\\\Users\\MOHAN KUMAR SAH\\Documents\\My Work\\PakkaIndia\\chromedriver\",chrome_options=chrome_options)\n",
    "\n",
    "lis=['Course','URL','University']\n",
    "info=[]\n",
    "info.append(lis)\n",
    "\n",
    "driver.get('https://college.harvard.edu/academics/fields-study/concentrations')\n",
    "data1=driver.find_elements_by_css_selector('div.field-item.even')\n",
    "data2=data1[2].find_elements_by_tag_name('a')\n",
    "for j in range(len(data2)):\n",
    "    c=data2[j].text\n",
    "    url=data2[j].get_attribute('href')\n",
    "        \n",
    "    info.append([c,url,'Harvard University'])\n",
    "    print(c,url)\n",
    "        \n",
    "driver.quit()"
   ]
  },
  {
   "cell_type": "code",
   "execution_count": 14,
   "metadata": {},
   "outputs": [
    {
     "data": {
      "text/plain": [
       "52"
      ]
     },
     "execution_count": 14,
     "metadata": {},
     "output_type": "execute_result"
    }
   ],
   "source": [
    "len(info)"
   ]
  },
  {
   "cell_type": "code",
   "execution_count": 15,
   "metadata": {},
   "outputs": [],
   "source": [
    "with open('Harvard_University.csv','w',encoding=\"utf-8\",newline=\"\") as file:\n",
    "    write=csv.writer(file)\n",
    "    for row in info:\n",
    "        write.writerow(row)"
   ]
  },
  {
   "cell_type": "code",
   "execution_count": null,
   "metadata": {},
   "outputs": [],
   "source": []
  }
 ],
 "metadata": {
  "kernelspec": {
   "display_name": "Python 3",
   "language": "python",
   "name": "python3"
  },
  "language_info": {
   "codemirror_mode": {
    "name": "ipython",
    "version": 3
   },
   "file_extension": ".py",
   "mimetype": "text/x-python",
   "name": "python",
   "nbconvert_exporter": "python",
   "pygments_lexer": "ipython3",
   "version": "3.6.5"
  }
 },
 "nbformat": 4,
 "nbformat_minor": 2
}
