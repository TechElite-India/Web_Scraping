{
 "cells": [
  {
   "cell_type": "code",
   "execution_count": 1,
   "metadata": {},
   "outputs": [
    {
     "name": "stderr",
     "output_type": "stream",
     "text": [
      "C:\\ProgramData\\Anaconda3\\lib\\site-packages\\ipykernel_launcher.py:6: DeprecationWarning: use options instead of chrome_options\n",
      "  \n"
     ]
    }
   ],
   "source": [
    "from selenium import webdriver\n",
    "import csv\n",
    "\n",
    "chrome_options = webdriver.ChromeOptions()\n",
    "chrome_options.add_argument('--no-sandbox')\n",
    "driver = webdriver.Chrome(\"C:\\\\Users\\MOHAN KUMAR SAH\\Documents\\My Work\\PakkaIndia\\chromedriver\",chrome_options=chrome_options)"
   ]
  },
  {
   "cell_type": "code",
   "execution_count": 2,
   "metadata": {},
   "outputs": [],
   "source": [
    "driver.get('http://catalogue.usc.edu/content.php?catoid=8&navoid=2389')"
   ]
  },
  {
   "cell_type": "code",
   "execution_count": 3,
   "metadata": {},
   "outputs": [
    {
     "data": {
      "text/plain": [
       "1"
      ]
     },
     "execution_count": 3,
     "metadata": {},
     "output_type": "execute_result"
    }
   ],
   "source": [
    "data1=driver.find_elements_by_id('coursetype')\n",
    "len(data1)"
   ]
  },
  {
   "cell_type": "code",
   "execution_count": 4,
   "metadata": {},
   "outputs": [
    {
     "data": {
      "text/plain": [
       "234"
      ]
     },
     "execution_count": 4,
     "metadata": {},
     "output_type": "execute_result"
    }
   ],
   "source": [
    "data2=data1[0].find_elements_by_tag_name('option')\n",
    "len(data2)"
   ]
  },
  {
   "cell_type": "code",
   "execution_count": 6,
   "metadata": {},
   "outputs": [
    {
     "data": {
      "text/plain": [
       "'Arts, Technology and the Business of Innovation'"
      ]
     },
     "execution_count": 6,
     "metadata": {},
     "output_type": "execute_result"
    }
   ],
   "source": [
    "data2[1].text"
   ]
  },
  {
   "cell_type": "code",
   "execution_count": 7,
   "metadata": {},
   "outputs": [
    {
     "data": {
      "text/plain": [
       "'1776'"
      ]
     },
     "execution_count": 7,
     "metadata": {},
     "output_type": "execute_result"
    }
   ],
   "source": [
    "data2[1].get_attribute('value')"
   ]
  },
  {
   "cell_type": "code",
   "execution_count": 8,
   "metadata": {},
   "outputs": [
    {
     "data": {
      "text/plain": [
       "'http://catalogue.usc.edu/content.php?filter%5B27%5D=-1&filter%5B29%5D=&filter%5Bcourse_type%5D=1776&filter%5Bkeyword%5D=&filter%5B32%5D=1&filter%5Bcpage%5D=1&cur_cat_oid=8&expand=&navoid=2389&search_database=Filter#acalog_template_course_filter'"
      ]
     },
     "execution_count": 8,
     "metadata": {},
     "output_type": "execute_result"
    }
   ],
   "source": [
    "'http://catalogue.usc.edu/content.php?filter%5B27%5D=-1&filter%5B29%5D=&filter%5Bcourse_type%5D='+str(data2[1].get_attribute('value'))+'&filter%5Bkeyword%5D=&filter%5B32%5D=1&filter%5Bcpage%5D=1&cur_cat_oid=8&expand=&navoid=2389&search_database=Filter#acalog_template_course_filter'"
   ]
  },
  {
   "cell_type": "markdown",
   "metadata": {},
   "source": [
    "# Full Code"
   ]
  },
  {
   "cell_type": "code",
   "execution_count": 10,
   "metadata": {},
   "outputs": [
    {
     "name": "stderr",
     "output_type": "stream",
     "text": [
      "C:\\ProgramData\\Anaconda3\\lib\\site-packages\\ipykernel_launcher.py:6: DeprecationWarning: use options instead of chrome_options\n",
      "  \n"
     ]
    },
    {
     "name": "stdout",
     "output_type": "stream",
     "text": [
      "Arts, Technology and the Business of Innovation http://catalogue.usc.edu/content.php?filter%5B27%5D=-1&filter%5B29%5D=&filter%5Bcourse_type%5D=1776&filter%5Bkeyword%5D=&filter%5B32%5D=1&filter%5Bcpage%5D=1&cur_cat_oid=8&expand=&navoid=2389&search_database=Filter#acalog_template_course_filter\n",
      "Accounting http://catalogue.usc.edu/content.php?filter%5B27%5D=-1&filter%5B29%5D=&filter%5Bcourse_type%5D=1777&filter%5Bkeyword%5D=&filter%5B32%5D=1&filter%5Bcpage%5D=1&cur_cat_oid=8&expand=&navoid=2389&search_database=Filter#acalog_template_course_filter\n",
      "Academic Medicine http://catalogue.usc.edu/content.php?filter%5B27%5D=-1&filter%5B29%5D=&filter%5Bcourse_type%5D=1778&filter%5Bkeyword%5D=&filter%5B32%5D=1&filter%5Bcpage%5D=1&cur_cat_oid=8&expand=&navoid=2389&search_database=Filter#acalog_template_course_filter\n",
      "Advanced Dental Education Conjoint Program http://catalogue.usc.edu/content.php?filter%5B27%5D=-1&filter%5B29%5D=&filter%5Bcourse_type%5D=1779&filter%5Bkeyword%5D=&filter%5B32%5D=1&filter%5Bcpage%5D=1&cur_cat_oid=8&expand=&navoid=2389&search_database=Filter#acalog_template_course_filter\n",
      "Aerospace Studies http://catalogue.usc.edu/content.php?filter%5B27%5D=-1&filter%5B29%5D=&filter%5Bcourse_type%5D=1780&filter%5Bkeyword%5D=&filter%5B32%5D=1&filter%5Bcpage%5D=1&cur_cat_oid=8&expand=&navoid=2389&search_database=Filter#acalog_template_course_filter\n",
      "Art History http://catalogue.usc.edu/content.php?filter%5B27%5D=-1&filter%5B29%5D=&filter%5Bcourse_type%5D=1781&filter%5Bkeyword%5D=&filter%5B32%5D=1&filter%5Bcpage%5D=1&cur_cat_oid=8&expand=&navoid=2389&search_database=Filter#acalog_template_course_filter\n",
      "American Language Institute http://catalogue.usc.edu/content.php?filter%5B27%5D=-1&filter%5B29%5D=&filter%5Bcourse_type%5D=1782&filter%5Bkeyword%5D=&filter%5B32%5D=1&filter%5Bcpage%5D=1&cur_cat_oid=8&expand=&navoid=2389&search_database=Filter#acalog_template_course_filter\n",
      "Aerospace and Mechanical Engineering http://catalogue.usc.edu/content.php?filter%5B27%5D=-1&filter%5B29%5D=&filter%5Bcourse_type%5D=1783&filter%5Bkeyword%5D=&filter%5B32%5D=1&filter%5Bcpage%5D=1&cur_cat_oid=8&expand=&navoid=2389&search_database=Filter#acalog_template_course_filter\n",
      "Anesthesia and Medicine http://catalogue.usc.edu/content.php?filter%5B27%5D=-1&filter%5B29%5D=&filter%5Bcourse_type%5D=1784&filter%5Bkeyword%5D=&filter%5B32%5D=1&filter%5Bcpage%5D=1&cur_cat_oid=8&expand=&navoid=2389&search_database=Filter#acalog_template_course_filter\n",
      "American Studies and Ethnicity http://catalogue.usc.edu/content.php?filter%5B27%5D=-1&filter%5B29%5D=&filter%5Bcourse_type%5D=1785&filter%5Bkeyword%5D=&filter%5B32%5D=1&filter%5Bcpage%5D=1&cur_cat_oid=8&expand=&navoid=2389&search_database=Filter#acalog_template_course_filter\n",
      "Anatomy http://catalogue.usc.edu/content.php?filter%5B27%5D=-1&filter%5B29%5D=&filter%5Bcourse_type%5D=1786&filter%5Bkeyword%5D=&filter%5B32%5D=1&filter%5Bcpage%5D=1&cur_cat_oid=8&expand=&navoid=2389&search_database=Filter#acalog_template_course_filter\n",
      "Anesthesiology http://catalogue.usc.edu/content.php?filter%5B27%5D=-1&filter%5B29%5D=&filter%5Bcourse_type%5D=1787&filter%5Bkeyword%5D=&filter%5B32%5D=1&filter%5Bcpage%5D=1&cur_cat_oid=8&expand=&navoid=2389&search_database=Filter#acalog_template_course_filter\n",
      "Anthropology http://catalogue.usc.edu/content.php?filter%5B27%5D=-1&filter%5B29%5D=&filter%5Bcourse_type%5D=1998&filter%5Bkeyword%5D=&filter%5B32%5D=1&filter%5Bcpage%5D=1&cur_cat_oid=8&expand=&navoid=2389&search_database=Filter#acalog_template_course_filter\n",
      "Arabic http://catalogue.usc.edu/content.php?filter%5B27%5D=-1&filter%5B29%5D=&filter%5Bcourse_type%5D=1788&filter%5Bkeyword%5D=&filter%5B32%5D=1&filter%5Bcpage%5D=1&cur_cat_oid=8&expand=&navoid=2389&search_database=Filter#acalog_template_course_filter\n",
      "Archaeology http://catalogue.usc.edu/content.php?filter%5B27%5D=-1&filter%5B29%5D=&filter%5Bcourse_type%5D=2013&filter%5Bkeyword%5D=&filter%5B32%5D=1&filter%5Bcpage%5D=1&cur_cat_oid=8&expand=&navoid=2389&search_database=Filter#acalog_template_course_filter\n",
      "Architecture http://catalogue.usc.edu/content.php?filter%5B27%5D=-1&filter%5B29%5D=&filter%5Bcourse_type%5D=1789&filter%5Bkeyword%5D=&filter%5B32%5D=1&filter%5Bcpage%5D=1&cur_cat_oid=8&expand=&navoid=2389&search_database=Filter#acalog_template_course_filter\n",
      "Art http://catalogue.usc.edu/content.php?filter%5B27%5D=-1&filter%5B29%5D=&filter%5Bcourse_type%5D=1790&filter%5Bkeyword%5D=&filter%5B32%5D=1&filter%5Bcpage%5D=1&cur_cat_oid=8&expand=&navoid=2389&search_database=Filter#acalog_template_course_filter\n",
      "Arts and Letters http://catalogue.usc.edu/content.php?filter%5B27%5D=-1&filter%5B29%5D=&filter%5Bcourse_type%5D=1791&filter%5Bkeyword%5D=&filter%5B32%5D=1&filter%5Bcpage%5D=1&cur_cat_oid=8&expand=&navoid=2389&search_database=Filter#acalog_template_course_filter\n",
      "Arts Leadership http://catalogue.usc.edu/content.php?filter%5B27%5D=-1&filter%5B29%5D=&filter%5Bcourse_type%5D=1792&filter%5Bkeyword%5D=&filter%5B32%5D=1&filter%5Bcpage%5D=1&cur_cat_oid=8&expand=&navoid=2389&search_database=Filter#acalog_template_course_filter\n",
      "Communication and Journalism http://catalogue.usc.edu/content.php?filter%5B27%5D=-1&filter%5B29%5D=&filter%5Bcourse_type%5D=1793&filter%5Bkeyword%5D=&filter%5B32%5D=1&filter%5Bcpage%5D=1&cur_cat_oid=8&expand=&navoid=2389&search_database=Filter#acalog_template_course_filter\n",
      "Astronautics and Space Technology http://catalogue.usc.edu/content.php?filter%5B27%5D=-1&filter%5B29%5D=&filter%5Bcourse_type%5D=1794&filter%5Bkeyword%5D=&filter%5B32%5D=1&filter%5Bcpage%5D=1&cur_cat_oid=8&expand=&navoid=2389&search_database=Filter#acalog_template_course_filter\n",
      "Astronomy http://catalogue.usc.edu/content.php?filter%5B27%5D=-1&filter%5B29%5D=&filter%5Bcourse_type%5D=1795&filter%5Bkeyword%5D=&filter%5B32%5D=1&filter%5Bcpage%5D=1&cur_cat_oid=8&expand=&navoid=2389&search_database=Filter#acalog_template_course_filter\n",
      "Business Entrepreneurship http://catalogue.usc.edu/content.php?filter%5B27%5D=-1&filter%5B29%5D=&filter%5Bcourse_type%5D=1796&filter%5Bkeyword%5D=&filter%5B32%5D=1&filter%5Bcpage%5D=1&cur_cat_oid=8&expand=&navoid=2389&search_database=Filter#acalog_template_course_filter\n",
      "Biochemistry http://catalogue.usc.edu/content.php?filter%5B27%5D=-1&filter%5B29%5D=&filter%5Bcourse_type%5D=1797&filter%5Bkeyword%5D=&filter%5B32%5D=1&filter%5Bcpage%5D=1&cur_cat_oid=8&expand=&navoid=2389&search_database=Filter#acalog_template_course_filter\n",
      "Biological Sciences http://catalogue.usc.edu/content.php?filter%5B27%5D=-1&filter%5B29%5D=&filter%5Bcourse_type%5D=1798&filter%5Bkeyword%5D=&filter%5B32%5D=1&filter%5Bcpage%5D=1&cur_cat_oid=8&expand=&navoid=2389&search_database=Filter#acalog_template_course_filter\n",
      "Biokinesiology http://catalogue.usc.edu/content.php?filter%5B27%5D=-1&filter%5B29%5D=&filter%5Bcourse_type%5D=1799&filter%5Bkeyword%5D=&filter%5B32%5D=1&filter%5Bcpage%5D=1&cur_cat_oid=8&expand=&navoid=2389&search_database=Filter#acalog_template_course_filter\n",
      "Biopharmaceutical Marketing http://catalogue.usc.edu/content.php?filter%5B27%5D=-1&filter%5B29%5D=&filter%5Bcourse_type%5D=2544&filter%5Bkeyword%5D=&filter%5B32%5D=1&filter%5Bcpage%5D=1&cur_cat_oid=8&expand=&navoid=2389&search_database=Filter#acalog_template_course_filter\n",
      "Biomaterials and Digital Dentistry http://catalogue.usc.edu/content.php?filter%5B27%5D=-1&filter%5B29%5D=&filter%5Bcourse_type%5D=2542&filter%5Bkeyword%5D=&filter%5B32%5D=1&filter%5Bcpage%5D=1&cur_cat_oid=8&expand=&navoid=2389&search_database=Filter#acalog_template_course_filter\n",
      "Biomedical Engineering http://catalogue.usc.edu/content.php?filter%5B27%5D=-1&filter%5B29%5D=&filter%5Bcourse_type%5D=1800&filter%5Bkeyword%5D=&filter%5B32%5D=1&filter%5Bcpage%5D=1&cur_cat_oid=8&expand=&navoid=2389&search_database=Filter#acalog_template_course_filter\n",
      "Business Administration http://catalogue.usc.edu/content.php?filter%5B27%5D=-1&filter%5B29%5D=&filter%5Bcourse_type%5D=1801&filter%5Bkeyword%5D=&filter%5B32%5D=1&filter%5Bcpage%5D=1&cur_cat_oid=8&expand=&navoid=2389&search_database=Filter#acalog_template_course_filter\n",
      "Business Communication http://catalogue.usc.edu/content.php?filter%5B27%5D=-1&filter%5B29%5D=&filter%5Bcourse_type%5D=1802&filter%5Bkeyword%5D=&filter%5B32%5D=1&filter%5Bcpage%5D=1&cur_cat_oid=8&expand=&navoid=2389&search_database=Filter#acalog_template_course_filter\n",
      "Cancer Biology and Genomics http://catalogue.usc.edu/content.php?filter%5B27%5D=-1&filter%5B29%5D=&filter%5Bcourse_type%5D=1803&filter%5Bkeyword%5D=&filter%5B32%5D=1&filter%5Bcpage%5D=1&cur_cat_oid=8&expand=&navoid=2389&search_database=Filter#acalog_template_course_filter\n",
      "Craniofacial Biology http://catalogue.usc.edu/content.php?filter%5B27%5D=-1&filter%5B29%5D=&filter%5Bcourse_type%5D=1804&filter%5Bkeyword%5D=&filter%5B32%5D=1&filter%5Bcpage%5D=1&cur_cat_oid=8&expand=&navoid=2389&search_database=Filter#acalog_template_course_filter\n",
      "Civil Engineering http://catalogue.usc.edu/content.php?filter%5B27%5D=-1&filter%5B29%5D=&filter%5Bcourse_type%5D=1805&filter%5Bkeyword%5D=&filter%5B32%5D=1&filter%5Bcpage%5D=1&cur_cat_oid=8&expand=&navoid=2389&search_database=Filter#acalog_template_course_filter\n",
      "Chemical Engineering http://catalogue.usc.edu/content.php?filter%5B27%5D=-1&filter%5B29%5D=&filter%5Bcourse_type%5D=1806&filter%5Bkeyword%5D=&filter%5B32%5D=1&filter%5Bcpage%5D=1&cur_cat_oid=8&expand=&navoid=2389&search_database=Filter#acalog_template_course_filter\n",
      "Chemistry http://catalogue.usc.edu/content.php?filter%5B27%5D=-1&filter%5B29%5D=&filter%5Bcourse_type%5D=1807&filter%5Bkeyword%5D=&filter%5B32%5D=1&filter%5Bcpage%5D=1&cur_cat_oid=8&expand=&navoid=2389&search_database=Filter#acalog_template_course_filter\n"
     ]
    },
    {
     "name": "stdout",
     "output_type": "stream",
     "text": [
      "Classics http://catalogue.usc.edu/content.php?filter%5B27%5D=-1&filter%5B29%5D=&filter%5Bcourse_type%5D=1808&filter%5Bkeyword%5D=&filter%5B32%5D=1&filter%5Bcpage%5D=1&cur_cat_oid=8&expand=&navoid=2389&search_database=Filter#acalog_template_course_filter\n",
      "Community Dentistry http://catalogue.usc.edu/content.php?filter%5B27%5D=-1&filter%5B29%5D=&filter%5Bcourse_type%5D=1809&filter%5Bkeyword%5D=&filter%5B32%5D=1&filter%5Bcpage%5D=1&cur_cat_oid=8&expand=&navoid=2389&search_database=Filter#acalog_template_course_filter\n",
      "Community Oral Health http://catalogue.usc.edu/content.php?filter%5B27%5D=-1&filter%5B29%5D=&filter%5Bcourse_type%5D=2549&filter%5Bkeyword%5D=&filter%5B32%5D=1&filter%5Bcpage%5D=1&cur_cat_oid=8&expand=&navoid=2389&search_database=Filter#acalog_template_course_filter\n",
      "Communication Management http://catalogue.usc.edu/content.php?filter%5B27%5D=-1&filter%5B29%5D=&filter%5Bcourse_type%5D=1810&filter%5Bkeyword%5D=&filter%5B32%5D=1&filter%5Bcpage%5D=1&cur_cat_oid=8&expand=&navoid=2389&search_database=Filter#acalog_template_course_filter\n",
      "Motion Picture Producing http://catalogue.usc.edu/content.php?filter%5B27%5D=-1&filter%5B29%5D=&filter%5Bcourse_type%5D=1811&filter%5Bkeyword%5D=&filter%5B32%5D=1&filter%5Bcpage%5D=1&cur_cat_oid=8&expand=&navoid=2389&search_database=Filter#acalog_template_course_filter\n",
      "Cinematic Arts http://catalogue.usc.edu/content.php?filter%5B27%5D=-1&filter%5B29%5D=&filter%5Bcourse_type%5D=1812&filter%5Bkeyword%5D=&filter%5B32%5D=1&filter%5Bcpage%5D=1&cur_cat_oid=8&expand=&navoid=2389&search_database=Filter#acalog_template_course_filter\n",
      "Comparative Literature http://catalogue.usc.edu/content.php?filter%5B27%5D=-1&filter%5B29%5D=&filter%5Bcourse_type%5D=1813&filter%5Bkeyword%5D=&filter%5B32%5D=1&filter%5Bcpage%5D=1&cur_cat_oid=8&expand=&navoid=2389&search_database=Filter#acalog_template_course_filter\n",
      "Communication http://catalogue.usc.edu/content.php?filter%5B27%5D=-1&filter%5B29%5D=&filter%5Bcourse_type%5D=1814&filter%5Bkeyword%5D=&filter%5B32%5D=1&filter%5Bcpage%5D=1&cur_cat_oid=8&expand=&navoid=2389&search_database=Filter#acalog_template_course_filter\n",
      "Thematic Option http://catalogue.usc.edu/content.php?filter%5B27%5D=-1&filter%5B29%5D=&filter%5Bcourse_type%5D=1815&filter%5Bkeyword%5D=&filter%5B32%5D=1&filter%5Bcpage%5D=1&cur_cat_oid=8&expand=&navoid=2389&search_database=Filter#acalog_template_course_filter\n",
      "School of Art and Design (Critical Studies) http://catalogue.usc.edu/content.php?filter%5B27%5D=-1&filter%5B29%5D=&filter%5Bcourse_type%5D=1816&filter%5Bkeyword%5D=&filter%5B32%5D=1&filter%5Bcpage%5D=1&cur_cat_oid=8&expand=&navoid=2389&search_database=Filter#acalog_template_course_filter\n",
      "Computer Science http://catalogue.usc.edu/content.php?filter%5B27%5D=-1&filter%5B29%5D=&filter%5Bcourse_type%5D=1817&filter%5Bkeyword%5D=&filter%5B32%5D=1&filter%5Bcpage%5D=1&cur_cat_oid=8&expand=&navoid=2389&search_database=Filter#acalog_template_course_filter\n",
      "Comparative Studies in Literature and Culture http://catalogue.usc.edu/content.php?filter%5B27%5D=-1&filter%5B29%5D=&filter%5Bcourse_type%5D=1818&filter%5Bkeyword%5D=&filter%5B32%5D=1&filter%5Bcpage%5D=1&cur_cat_oid=8&expand=&navoid=2389&search_database=Filter#acalog_template_course_filter\n",
      "Animation http://catalogue.usc.edu/content.php?filter%5B27%5D=-1&filter%5B29%5D=&filter%5Bcourse_type%5D=1819&filter%5Bkeyword%5D=&filter%5B32%5D=1&filter%5Bcpage%5D=1&cur_cat_oid=8&expand=&navoid=2389&search_database=Filter#acalog_template_course_filter\n",
      "Cinema and Media Studies http://catalogue.usc.edu/content.php?filter%5B27%5D=-1&filter%5B29%5D=&filter%5Bcourse_type%5D=1820&filter%5Bkeyword%5D=&filter%5B32%5D=1&filter%5Bcpage%5D=1&cur_cat_oid=8&expand=&navoid=2389&search_database=Filter#acalog_template_course_filter\n",
      "Interactive Media http://catalogue.usc.edu/content.php?filter%5B27%5D=-1&filter%5B29%5D=&filter%5Bcourse_type%5D=1821&filter%5Bkeyword%5D=&filter%5B32%5D=1&filter%5Bcpage%5D=1&cur_cat_oid=8&expand=&navoid=2389&search_database=Filter#acalog_template_course_filter\n",
      "Production http://catalogue.usc.edu/content.php?filter%5B27%5D=-1&filter%5B29%5D=&filter%5Bcourse_type%5D=1822&filter%5Bkeyword%5D=&filter%5B32%5D=1&filter%5Bcpage%5D=1&cur_cat_oid=8&expand=&navoid=2389&search_database=Filter#acalog_template_course_filter\n",
      "Curriculum, Teaching and Special Education http://catalogue.usc.edu/content.php?filter%5B27%5D=-1&filter%5B29%5D=&filter%5Bcourse_type%5D=1823&filter%5Bkeyword%5D=&filter%5B32%5D=1&filter%5Bcpage%5D=1&cur_cat_oid=8&expand=&navoid=2389&search_database=Filter#acalog_template_course_filter\n",
      "Writing http://catalogue.usc.edu/content.php?filter%5B27%5D=-1&filter%5B29%5D=&filter%5Bcourse_type%5D=1824&filter%5Bkeyword%5D=&filter%5B32%5D=1&filter%5Bcpage%5D=1&cur_cat_oid=8&expand=&navoid=2389&search_database=Filter#acalog_template_course_filter\n",
      "Clinical and Experimental Therapeutics http://catalogue.usc.edu/content.php?filter%5B27%5D=-1&filter%5B29%5D=&filter%5Bcourse_type%5D=1825&filter%5Bkeyword%5D=&filter%5B32%5D=1&filter%5Bcpage%5D=1&cur_cat_oid=8&expand=&navoid=2389&search_database=Filter#acalog_template_course_filter\n",
      "Dance http://catalogue.usc.edu/content.php?filter%5B27%5D=-1&filter%5B29%5D=&filter%5Bcourse_type%5D=1826&filter%5Bkeyword%5D=&filter%5B32%5D=1&filter%5Bcpage%5D=1&cur_cat_oid=8&expand=&navoid=2389&search_database=Filter#acalog_template_course_filter\n",
      "Dental Biochemistry http://catalogue.usc.edu/content.php?filter%5B27%5D=-1&filter%5B29%5D=&filter%5Bcourse_type%5D=1827&filter%5Bkeyword%5D=&filter%5B32%5D=1&filter%5Bcpage%5D=1&cur_cat_oid=8&expand=&navoid=2389&search_database=Filter#acalog_template_course_filter\n",
      "Dentistry http://catalogue.usc.edu/content.php?filter%5B27%5D=-1&filter%5B29%5D=&filter%5Bcourse_type%5D=1828&filter%5Bkeyword%5D=&filter%5B32%5D=1&filter%5Bcpage%5D=1&cur_cat_oid=8&expand=&navoid=2389&search_database=Filter#acalog_template_course_filter\n",
      "Dental Histology http://catalogue.usc.edu/content.php?filter%5B27%5D=-1&filter%5B29%5D=&filter%5Bcourse_type%5D=1829&filter%5Bkeyword%5D=&filter%5B32%5D=1&filter%5Bcpage%5D=1&cur_cat_oid=8&expand=&navoid=2389&search_database=Filter#acalog_template_course_filter\n",
      "Dental Hygiene http://catalogue.usc.edu/content.php?filter%5B27%5D=-1&filter%5B29%5D=&filter%5Bcourse_type%5D=1830&filter%5Bkeyword%5D=&filter%5B32%5D=1&filter%5Bcpage%5D=1&cur_cat_oid=8&expand=&navoid=2389&search_database=Filter#acalog_template_course_filter\n",
      "Oral Diagnosis and Radiology http://catalogue.usc.edu/content.php?filter%5B27%5D=-1&filter%5B29%5D=&filter%5Bcourse_type%5D=1831&filter%5Bkeyword%5D=&filter%5B32%5D=1&filter%5Bcpage%5D=1&cur_cat_oid=8&expand=&navoid=2389&search_database=Filter#acalog_template_course_filter\n",
      "Dental Materials http://catalogue.usc.edu/content.php?filter%5B27%5D=-1&filter%5B29%5D=&filter%5Bcourse_type%5D=1832&filter%5Bkeyword%5D=&filter%5B32%5D=1&filter%5Bcpage%5D=1&cur_cat_oid=8&expand=&navoid=2389&search_database=Filter#acalog_template_course_filter\n",
      "Dental Problem Based Learning http://catalogue.usc.edu/content.php?filter%5B27%5D=-1&filter%5B29%5D=&filter%5Bcourse_type%5D=1833&filter%5Bkeyword%5D=&filter%5B32%5D=1&filter%5Bcpage%5D=1&cur_cat_oid=8&expand=&navoid=2389&search_database=Filter#acalog_template_course_filter\n",
      "Pharmacology http://catalogue.usc.edu/content.php?filter%5B27%5D=-1&filter%5B29%5D=&filter%5Bcourse_type%5D=1834&filter%5Bkeyword%5D=&filter%5B32%5D=1&filter%5Bcpage%5D=1&cur_cat_oid=8&expand=&navoid=2389&search_database=Filter#acalog_template_course_filter\n",
      "Digital Social Media http://catalogue.usc.edu/content.php?filter%5B27%5D=-1&filter%5B29%5D=&filter%5Bcourse_type%5D=1835&filter%5Bkeyword%5D=&filter%5B32%5D=1&filter%5Bcpage%5D=1&cur_cat_oid=8&expand=&navoid=2389&search_database=Filter#acalog_template_course_filter\n",
      "Data Sciences and Operations http://catalogue.usc.edu/content.php?filter%5B27%5D=-1&filter%5B29%5D=&filter%5Bcourse_type%5D=1836&filter%5Bkeyword%5D=&filter%5B32%5D=1&filter%5Bcpage%5D=1&cur_cat_oid=8&expand=&navoid=2389&search_database=Filter#acalog_template_course_filter\n",
      "Development, Stem Cells and Regenerative Medicine http://catalogue.usc.edu/content.php?filter%5B27%5D=-1&filter%5B29%5D=&filter%5Bcourse_type%5D=1837&filter%5Bkeyword%5D=&filter%5B32%5D=1&filter%5Bcpage%5D=1&cur_cat_oid=8&expand=&navoid=2389&search_database=Filter#acalog_template_course_filter\n",
      "East Asian Languages and Cultures http://catalogue.usc.edu/content.php?filter%5B27%5D=-1&filter%5B29%5D=&filter%5Bcourse_type%5D=1838&filter%5Bkeyword%5D=&filter%5B32%5D=1&filter%5Bcpage%5D=1&cur_cat_oid=8&expand=&navoid=2389&search_database=Filter#acalog_template_course_filter\n",
      "East Asian Studies http://catalogue.usc.edu/content.php?filter%5B27%5D=-1&filter%5B29%5D=&filter%5Bcourse_type%5D=1839&filter%5Bkeyword%5D=&filter%5B32%5D=1&filter%5Bcpage%5D=1&cur_cat_oid=8&expand=&navoid=2389&search_database=Filter#acalog_template_course_filter\n",
      "Economics http://catalogue.usc.edu/content.php?filter%5B27%5D=-1&filter%5B29%5D=&filter%5Bcourse_type%5D=1840&filter%5Bkeyword%5D=&filter%5B32%5D=1&filter%5Bcpage%5D=1&cur_cat_oid=8&expand=&navoid=2389&search_database=Filter#acalog_template_course_filter\n",
      "Education Counseling http://catalogue.usc.edu/content.php?filter%5B27%5D=-1&filter%5B29%5D=&filter%5Bcourse_type%5D=1841&filter%5Bkeyword%5D=&filter%5B32%5D=1&filter%5Bcpage%5D=1&cur_cat_oid=8&expand=&navoid=2389&search_database=Filter#acalog_template_course_filter\n",
      "Higher and Postsecondary Education http://catalogue.usc.edu/content.php?filter%5B27%5D=-1&filter%5B29%5D=&filter%5Bcourse_type%5D=1842&filter%5Bkeyword%5D=&filter%5B32%5D=1&filter%5Bcpage%5D=1&cur_cat_oid=8&expand=&navoid=2389&search_database=Filter#acalog_template_course_filter\n"
     ]
    },
    {
     "name": "stdout",
     "output_type": "stream",
     "text": [
      "Educational Policy, Planning and Administration http://catalogue.usc.edu/content.php?filter%5B27%5D=-1&filter%5B29%5D=&filter%5Bcourse_type%5D=1843&filter%5Bkeyword%5D=&filter%5B32%5D=1&filter%5Bcpage%5D=1&cur_cat_oid=8&expand=&navoid=2389&search_database=Filter#acalog_template_course_filter\n",
      "Educational Psychology and Technology http://catalogue.usc.edu/content.php?filter%5B27%5D=-1&filter%5B29%5D=&filter%5Bcourse_type%5D=1844&filter%5Bkeyword%5D=&filter%5B32%5D=1&filter%5Bcpage%5D=1&cur_cat_oid=8&expand=&navoid=2389&search_database=Filter#acalog_template_course_filter\n",
      "Education http://catalogue.usc.edu/content.php?filter%5B27%5D=-1&filter%5B29%5D=&filter%5Bcourse_type%5D=1845&filter%5Bkeyword%5D=&filter%5B32%5D=1&filter%5Bcpage%5D=1&cur_cat_oid=8&expand=&navoid=2389&search_database=Filter#acalog_template_course_filter\n",
      "Education Expanded http://catalogue.usc.edu/content.php?filter%5B27%5D=-1&filter%5B29%5D=&filter%5Bcourse_type%5D=2548&filter%5Bkeyword%5D=&filter%5B32%5D=1&filter%5Bcpage%5D=1&cur_cat_oid=8&expand=&navoid=2389&search_database=Filter#acalog_template_course_filter\n",
      "Electrical Engineering http://catalogue.usc.edu/content.php?filter%5B27%5D=-1&filter%5B29%5D=&filter%5Bcourse_type%5D=1846&filter%5Bkeyword%5D=&filter%5B32%5D=1&filter%5Bcpage%5D=1&cur_cat_oid=8&expand=&navoid=2389&search_database=Filter#acalog_template_course_filter\n",
      "Endodontics http://catalogue.usc.edu/content.php?filter%5B27%5D=-1&filter%5B29%5D=&filter%5Bcourse_type%5D=1847&filter%5Bkeyword%5D=&filter%5B32%5D=1&filter%5Bcpage%5D=1&cur_cat_oid=8&expand=&navoid=2389&search_database=Filter#acalog_template_course_filter\n",
      "Environmental Engineering http://catalogue.usc.edu/content.php?filter%5B27%5D=-1&filter%5B29%5D=&filter%5Bcourse_type%5D=1848&filter%5Bkeyword%5D=&filter%5B32%5D=1&filter%5Bcpage%5D=1&cur_cat_oid=8&expand=&navoid=2389&search_database=Filter#acalog_template_course_filter\n",
      "English http://catalogue.usc.edu/content.php?filter%5B27%5D=-1&filter%5B29%5D=&filter%5Bcourse_type%5D=1849&filter%5Bkeyword%5D=&filter%5B32%5D=1&filter%5Bcpage%5D=1&cur_cat_oid=8&expand=&navoid=2389&search_database=Filter#acalog_template_course_filter\n",
      "Engineering http://catalogue.usc.edu/content.php?filter%5B27%5D=-1&filter%5B29%5D=&filter%5Bcourse_type%5D=1850&filter%5Bkeyword%5D=&filter%5B32%5D=1&filter%5Bcpage%5D=1&cur_cat_oid=8&expand=&navoid=2389&search_database=Filter#acalog_template_course_filter\n",
      "Environmental Studies http://catalogue.usc.edu/content.php?filter%5B27%5D=-1&filter%5B29%5D=&filter%5Bcourse_type%5D=1851&filter%5Bkeyword%5D=&filter%5B32%5D=1&filter%5Bcpage%5D=1&cur_cat_oid=8&expand=&navoid=2389&search_database=Filter#acalog_template_course_filter\n",
      "Design http://catalogue.usc.edu/content.php?filter%5B27%5D=-1&filter%5B29%5D=&filter%5Bcourse_type%5D=1856&filter%5Bkeyword%5D=&filter%5B32%5D=1&filter%5Bcpage%5D=1&cur_cat_oid=8&expand=&navoid=2389&search_database=Filter#acalog_template_course_filter\n",
      "Finance and Business Economics http://catalogue.usc.edu/content.php?filter%5B27%5D=-1&filter%5B29%5D=&filter%5Bcourse_type%5D=1863&filter%5Bkeyword%5D=&filter%5B32%5D=1&filter%5Bcpage%5D=1&cur_cat_oid=8&expand=&navoid=2389&search_database=Filter#acalog_template_course_filter\n",
      "Food Industry Management http://catalogue.usc.edu/content.php?filter%5B27%5D=-1&filter%5B29%5D=&filter%5Bcourse_type%5D=1864&filter%5Bkeyword%5D=&filter%5B32%5D=1&filter%5Bcpage%5D=1&cur_cat_oid=8&expand=&navoid=2389&search_database=Filter#acalog_template_course_filter\n",
      "Fixed Prosthodontics http://catalogue.usc.edu/content.php?filter%5B27%5D=-1&filter%5B29%5D=&filter%5Bcourse_type%5D=1865&filter%5Bkeyword%5D=&filter%5B32%5D=1&filter%5Bcpage%5D=1&cur_cat_oid=8&expand=&navoid=2389&search_database=Filter#acalog_template_course_filter\n",
      "French http://catalogue.usc.edu/content.php?filter%5B27%5D=-1&filter%5B29%5D=&filter%5Bcourse_type%5D=1866&filter%5Bkeyword%5D=&filter%5B32%5D=1&filter%5Bcpage%5D=1&cur_cat_oid=8&expand=&navoid=2389&search_database=Filter#acalog_template_course_filter\n",
      "Freshman Seminars http://catalogue.usc.edu/content.php?filter%5B27%5D=-1&filter%5B29%5D=&filter%5Bcourse_type%5D=1867&filter%5Bkeyword%5D=&filter%5B32%5D=1&filter%5Bcpage%5D=1&cur_cat_oid=8&expand=&navoid=2389&search_database=Filter#acalog_template_course_filter\n",
      "Geriatric Dentistry http://catalogue.usc.edu/content.php?filter%5B27%5D=-1&filter%5B29%5D=&filter%5Bcourse_type%5D=1868&filter%5Bkeyword%5D=&filter%5B32%5D=1&filter%5Bcpage%5D=1&cur_cat_oid=8&expand=&navoid=2389&search_database=Filter#acalog_template_course_filter\n",
      "Geography http://catalogue.usc.edu/content.php?filter%5B27%5D=-1&filter%5B29%5D=&filter%5Bcourse_type%5D=1869&filter%5Bkeyword%5D=&filter%5B32%5D=1&filter%5Bcpage%5D=1&cur_cat_oid=8&expand=&navoid=2389&search_database=Filter#acalog_template_course_filter\n",
      "Earth Sciences http://catalogue.usc.edu/content.php?filter%5B27%5D=-1&filter%5B29%5D=&filter%5Bcourse_type%5D=1870&filter%5Bkeyword%5D=&filter%5B32%5D=1&filter%5Bcpage%5D=1&cur_cat_oid=8&expand=&navoid=2389&search_database=Filter#acalog_template_course_filter\n",
      "German http://catalogue.usc.edu/content.php?filter%5B27%5D=-1&filter%5B29%5D=&filter%5Bcourse_type%5D=1871&filter%5Bkeyword%5D=&filter%5B32%5D=1&filter%5Bcpage%5D=1&cur_cat_oid=8&expand=&navoid=2389&search_database=Filter#acalog_template_course_filter\n",
      "Gerontology http://catalogue.usc.edu/content.php?filter%5B27%5D=-1&filter%5B29%5D=&filter%5Bcourse_type%5D=1872&filter%5Bkeyword%5D=&filter%5B32%5D=1&filter%5Bcpage%5D=1&cur_cat_oid=8&expand=&navoid=2389&search_database=Filter#acalog_template_course_filter\n",
      "General Education Seminar http://catalogue.usc.edu/content.php?filter%5B27%5D=-1&filter%5B29%5D=&filter%5Bcourse_type%5D=1873&filter%5Bkeyword%5D=&filter%5B32%5D=1&filter%5Bcpage%5D=1&cur_cat_oid=8&expand=&navoid=2389&search_database=Filter#acalog_template_course_filter\n",
      "General Practice Residency http://catalogue.usc.edu/content.php?filter%5B27%5D=-1&filter%5B29%5D=&filter%5Bcourse_type%5D=1997&filter%5Bkeyword%5D=&filter%5B32%5D=1&filter%5Bcpage%5D=1&cur_cat_oid=8&expand=&navoid=2389&search_database=Filter#acalog_template_course_filter\n",
      "Global Policy, Planning and Development http://catalogue.usc.edu/content.php?filter%5B27%5D=-1&filter%5B29%5D=&filter%5Bcourse_type%5D=1874&filter%5Bkeyword%5D=&filter%5B32%5D=1&filter%5Bcpage%5D=1&cur_cat_oid=8&expand=&navoid=2389&search_database=Filter#acalog_template_course_filter\n",
      "Greek http://catalogue.usc.edu/content.php?filter%5B27%5D=-1&filter%5B29%5D=&filter%5Bcourse_type%5D=1875&filter%5Bkeyword%5D=&filter%5B32%5D=1&filter%5Bcpage%5D=1&cur_cat_oid=8&expand=&navoid=2389&search_database=Filter#acalog_template_course_filter\n",
      "Graduate Studies http://catalogue.usc.edu/content.php?filter%5B27%5D=-1&filter%5B29%5D=&filter%5Bcourse_type%5D=1876&filter%5Bkeyword%5D=&filter%5B32%5D=1&filter%5Bcpage%5D=1&cur_cat_oid=8&expand=&navoid=2389&search_database=Filter#acalog_template_course_filter\n",
      "Graduate School of Business Administration http://catalogue.usc.edu/content.php?filter%5B27%5D=-1&filter%5B29%5D=&filter%5Bcourse_type%5D=1877&filter%5Bkeyword%5D=&filter%5B32%5D=1&filter%5Bcpage%5D=1&cur_cat_oid=8&expand=&navoid=2389&search_database=Filter#acalog_template_course_filter\n",
      "Geriatric and Special Patient Dentistry http://catalogue.usc.edu/content.php?filter%5B27%5D=-1&filter%5B29%5D=&filter%5Bcourse_type%5D=1878&filter%5Bkeyword%5D=&filter%5B32%5D=1&filter%5Bcpage%5D=1&cur_cat_oid=8&expand=&navoid=2389&search_database=Filter#acalog_template_course_filter\n",
      "Human Behavior http://catalogue.usc.edu/content.php?filter%5B27%5D=-1&filter%5B29%5D=&filter%5Bcourse_type%5D=1879&filter%5Bkeyword%5D=&filter%5B32%5D=1&filter%5Bcpage%5D=1&cur_cat_oid=8&expand=&navoid=2389&search_database=Filter#acalog_template_course_filter\n",
      "Human Biology http://catalogue.usc.edu/content.php?filter%5B27%5D=-1&filter%5B29%5D=&filter%5Bcourse_type%5D=1880&filter%5Bkeyword%5D=&filter%5B32%5D=1&filter%5Bcpage%5D=1&cur_cat_oid=8&expand=&navoid=2389&search_database=Filter#acalog_template_course_filter\n",
      "Health Care Decision Analysis http://catalogue.usc.edu/content.php?filter%5B27%5D=-1&filter%5B29%5D=&filter%5Bcourse_type%5D=1881&filter%5Bkeyword%5D=&filter%5B32%5D=1&filter%5Bcpage%5D=1&cur_cat_oid=8&expand=&navoid=2389&search_database=Filter#acalog_template_course_filter\n",
      "Hebrew http://catalogue.usc.edu/content.php?filter%5B27%5D=-1&filter%5B29%5D=&filter%5Bcourse_type%5D=1882&filter%5Bkeyword%5D=&filter%5B32%5D=1&filter%5Bcpage%5D=1&cur_cat_oid=8&expand=&navoid=2389&search_database=Filter#acalog_template_course_filter\n",
      "History http://catalogue.usc.edu/content.php?filter%5B27%5D=-1&filter%5B29%5D=&filter%5Bcourse_type%5D=1883&filter%5Bkeyword%5D=&filter%5B32%5D=1&filter%5Bcpage%5D=1&cur_cat_oid=8&expand=&navoid=2389&search_database=Filter#acalog_template_course_filter\n",
      "Health Care Management http://catalogue.usc.edu/content.php?filter%5B27%5D=-1&filter%5B29%5D=&filter%5Bcourse_type%5D=1884&filter%5Bkeyword%5D=&filter%5B32%5D=1&filter%5Bcpage%5D=1&cur_cat_oid=8&expand=&navoid=2389&search_database=Filter#acalog_template_course_filter\n",
      "Health Promotion and Disease Prevention Studies http://catalogue.usc.edu/content.php?filter%5B27%5D=-1&filter%5B29%5D=&filter%5Bcourse_type%5D=1885&filter%5Bkeyword%5D=&filter%5B32%5D=1&filter%5Bcpage%5D=1&cur_cat_oid=8&expand=&navoid=2389&search_database=Filter#acalog_template_course_filter\n",
      "Human Resource Management http://catalogue.usc.edu/content.php?filter%5B27%5D=-1&filter%5B29%5D=&filter%5Bcourse_type%5D=2008&filter%5Bkeyword%5D=&filter%5B32%5D=1&filter%5Bcpage%5D=1&cur_cat_oid=8&expand=&navoid=2389&search_database=Filter#acalog_template_course_filter\n"
     ]
    },
    {
     "name": "stdout",
     "output_type": "stream",
     "text": [
      "Integrated Design, Business and Technology http://catalogue.usc.edu/content.php?filter%5B27%5D=-1&filter%5B29%5D=&filter%5Bcourse_type%5D=1886&filter%5Bkeyword%5D=&filter%5B32%5D=1&filter%5Bcpage%5D=1&cur_cat_oid=8&expand=&navoid=2389&search_database=Filter#acalog_template_course_filter\n",
      "Media Arts and Practice http://catalogue.usc.edu/content.php?filter%5B27%5D=-1&filter%5B29%5D=&filter%5Bcourse_type%5D=1887&filter%5Bkeyword%5D=&filter%5B32%5D=1&filter%5Bcpage%5D=1&cur_cat_oid=8&expand=&navoid=2389&search_database=Filter#acalog_template_course_filter\n",
      "Interdisciplinary — Developmental Dentistry http://catalogue.usc.edu/content.php?filter%5B27%5D=-1&filter%5B29%5D=&filter%5Bcourse_type%5D=1888&filter%5Bkeyword%5D=&filter%5B32%5D=1&filter%5Bcpage%5D=1&cur_cat_oid=8&expand=&navoid=2389&search_database=Filter#acalog_template_course_filter\n",
      "Interdisciplinary Major Program http://catalogue.usc.edu/content.php?filter%5B27%5D=-1&filter%5B29%5D=&filter%5Bcourse_type%5D=1889&filter%5Bkeyword%5D=&filter%5B32%5D=1&filter%5Bcpage%5D=1&cur_cat_oid=8&expand=&navoid=2389&search_database=Filter#acalog_template_course_filter\n",
      "Informatics http://catalogue.usc.edu/content.php?filter%5B27%5D=-1&filter%5B29%5D=&filter%5Bcourse_type%5D=1890&filter%5Bkeyword%5D=&filter%5B32%5D=1&filter%5Bcpage%5D=1&cur_cat_oid=8&expand=&navoid=2389&search_database=Filter#acalog_template_course_filter\n",
      "Interdisciplinary — Basic Science http://catalogue.usc.edu/content.php?filter%5B27%5D=-1&filter%5B29%5D=&filter%5Bcourse_type%5D=1891&filter%5Bkeyword%5D=&filter%5B32%5D=1&filter%5Bcpage%5D=1&cur_cat_oid=8&expand=&navoid=2389&search_database=Filter#acalog_template_course_filter\n",
      "Interdepartmental Medicine http://catalogue.usc.edu/content.php?filter%5B27%5D=-1&filter%5B29%5D=&filter%5Bcourse_type%5D=1892&filter%5Bkeyword%5D=&filter%5B32%5D=1&filter%5Bcpage%5D=1&cur_cat_oid=8&expand=&navoid=2389&search_database=Filter#acalog_template_course_filter\n",
      "Interdisciplinary — Practice Dynamics http://catalogue.usc.edu/content.php?filter%5B27%5D=-1&filter%5B29%5D=&filter%5Bcourse_type%5D=1893&filter%5Bkeyword%5D=&filter%5B32%5D=1&filter%5Bcpage%5D=1&cur_cat_oid=8&expand=&navoid=2389&search_database=Filter#acalog_template_course_filter\n",
      "Interdisciplinary — Restorative Dentistry http://catalogue.usc.edu/content.php?filter%5B27%5D=-1&filter%5B29%5D=&filter%5Bcourse_type%5D=1894&filter%5Bkeyword%5D=&filter%5B32%5D=1&filter%5Bcpage%5D=1&cur_cat_oid=8&expand=&navoid=2389&search_database=Filter#acalog_template_course_filter\n",
      "Interdisciplinary — Surgical Sciences http://catalogue.usc.edu/content.php?filter%5B27%5D=-1&filter%5B29%5D=&filter%5Bcourse_type%5D=1895&filter%5Bkeyword%5D=&filter%5B32%5D=1&filter%5Bcpage%5D=1&cur_cat_oid=8&expand=&navoid=2389&search_database=Filter#acalog_template_course_filter\n",
      "Interdisciplinary — Diagnostic Sciences http://catalogue.usc.edu/content.php?filter%5B27%5D=-1&filter%5B29%5D=&filter%5Bcourse_type%5D=1896&filter%5Bkeyword%5D=&filter%5B32%5D=1&filter%5Bcpage%5D=1&cur_cat_oid=8&expand=&navoid=2389&search_database=Filter#acalog_template_course_filter\n",
      "International Relations http://catalogue.usc.edu/content.php?filter%5B27%5D=-1&filter%5B29%5D=&filter%5Bcourse_type%5D=1897&filter%5Bkeyword%5D=&filter%5B32%5D=1&filter%5Bcpage%5D=1&cur_cat_oid=8&expand=&navoid=2389&search_database=Filter#acalog_template_course_filter\n",
      "Persian http://catalogue.usc.edu/content.php?filter%5B27%5D=-1&filter%5B29%5D=&filter%5Bcourse_type%5D=1898&filter%5Bkeyword%5D=&filter%5B32%5D=1&filter%5Bcpage%5D=1&cur_cat_oid=8&expand=&navoid=2389&search_database=Filter#acalog_template_course_filter\n",
      "Industrial and Systems Engineering http://catalogue.usc.edu/content.php?filter%5B27%5D=-1&filter%5B29%5D=&filter%5Bcourse_type%5D=1899&filter%5Bkeyword%5D=&filter%5B32%5D=1&filter%5Bcpage%5D=1&cur_cat_oid=8&expand=&navoid=2389&search_database=Filter#acalog_template_course_filter\n",
      "Italian http://catalogue.usc.edu/content.php?filter%5B27%5D=-1&filter%5B29%5D=&filter%5Bcourse_type%5D=1900&filter%5Bkeyword%5D=&filter%5B32%5D=1&filter%5Bcpage%5D=1&cur_cat_oid=8&expand=&navoid=2389&search_database=Filter#acalog_template_course_filter\n",
      "Information Technology Program http://catalogue.usc.edu/content.php?filter%5B27%5D=-1&filter%5B29%5D=&filter%5Bcourse_type%5D=1901&filter%5Bkeyword%5D=&filter%5B32%5D=1&filter%5Bcpage%5D=1&cur_cat_oid=8&expand=&navoid=2389&search_database=Filter#acalog_template_course_filter\n",
      "Journalism http://catalogue.usc.edu/content.php?filter%5B27%5D=-1&filter%5B29%5D=&filter%5Bcourse_type%5D=1902&filter%5Bkeyword%5D=&filter%5B32%5D=1&filter%5Bcpage%5D=1&cur_cat_oid=8&expand=&navoid=2389&search_database=Filter#acalog_template_course_filter\n",
      "Judaic Studies http://catalogue.usc.edu/content.php?filter%5B27%5D=-1&filter%5B29%5D=&filter%5Bcourse_type%5D=1903&filter%5Bkeyword%5D=&filter%5B32%5D=1&filter%5Bcpage%5D=1&cur_cat_oid=8&expand=&navoid=2389&search_database=Filter#acalog_template_course_filter\n",
      "Latin http://catalogue.usc.edu/content.php?filter%5B27%5D=-1&filter%5B29%5D=&filter%5Bcourse_type%5D=1904&filter%5Bkeyword%5D=&filter%5B32%5D=1&filter%5Bcpage%5D=1&cur_cat_oid=8&expand=&navoid=2389&search_database=Filter#acalog_template_course_filter\n",
      "Law http://catalogue.usc.edu/content.php?filter%5B27%5D=-1&filter%5B29%5D=&filter%5Bcourse_type%5D=1905&filter%5Bkeyword%5D=&filter%5B32%5D=1&filter%5Bcpage%5D=1&cur_cat_oid=8&expand=&navoid=2389&search_database=Filter#acalog_template_course_filter\n",
      "Liberal Studies http://catalogue.usc.edu/content.php?filter%5B27%5D=-1&filter%5B29%5D=&filter%5Bcourse_type%5D=1906&filter%5Bkeyword%5D=&filter%5B32%5D=1&filter%5Bcpage%5D=1&cur_cat_oid=8&expand=&navoid=2389&search_database=Filter#acalog_template_course_filter\n",
      "Library and Information Management http://catalogue.usc.edu/content.php?filter%5B27%5D=-1&filter%5B29%5D=&filter%5Bcourse_type%5D=1907&filter%5Bkeyword%5D=&filter%5B32%5D=1&filter%5Bcpage%5D=1&cur_cat_oid=8&expand=&navoid=2389&search_database=Filter#acalog_template_course_filter\n",
      "Linguistics http://catalogue.usc.edu/content.php?filter%5B27%5D=-1&filter%5B29%5D=&filter%5Bcourse_type%5D=1908&filter%5Bkeyword%5D=&filter%5B32%5D=1&filter%5Bcpage%5D=1&cur_cat_oid=8&expand=&navoid=2389&search_database=Filter#acalog_template_course_filter\n",
      "Materials Science http://catalogue.usc.edu/content.php?filter%5B27%5D=-1&filter%5B29%5D=&filter%5Bcourse_type%5D=1909&filter%5Bkeyword%5D=&filter%5B32%5D=1&filter%5Bcpage%5D=1&cur_cat_oid=8&expand=&navoid=2389&search_database=Filter#acalog_template_course_filter\n",
      "Mathematics http://catalogue.usc.edu/content.php?filter%5B27%5D=-1&filter%5B29%5D=&filter%5Bcourse_type%5D=1910&filter%5Bkeyword%5D=&filter%5B32%5D=1&filter%5Bcpage%5D=1&cur_cat_oid=8&expand=&navoid=2389&search_database=Filter#acalog_template_course_filter\n",
      "Microbiology and Immunology http://catalogue.usc.edu/content.php?filter%5B27%5D=-1&filter%5B29%5D=&filter%5Bcourse_type%5D=1911&filter%5Bkeyword%5D=&filter%5B32%5D=1&filter%5Bcpage%5D=1&cur_cat_oid=8&expand=&navoid=2389&search_database=Filter#acalog_template_course_filter\n",
      "Medical Biophysics http://catalogue.usc.edu/content.php?filter%5B27%5D=-1&filter%5B29%5D=&filter%5Bcourse_type%5D=2007&filter%5Bkeyword%5D=&filter%5B32%5D=1&filter%5Bcpage%5D=1&cur_cat_oid=8&expand=&navoid=2389&search_database=Filter#acalog_template_course_filter\n",
      "Multidisciplinary Activities http://catalogue.usc.edu/content.php?filter%5B27%5D=-1&filter%5B29%5D=&filter%5Bcourse_type%5D=1912&filter%5Bkeyword%5D=&filter%5B32%5D=1&filter%5Bcpage%5D=1&cur_cat_oid=8&expand=&navoid=2389&search_database=Filter#acalog_template_course_filter\n",
      "Middle East Studies http://catalogue.usc.edu/content.php?filter%5B27%5D=-1&filter%5B29%5D=&filter%5Bcourse_type%5D=1913&filter%5Bkeyword%5D=&filter%5B32%5D=1&filter%5Bcpage%5D=1&cur_cat_oid=8&expand=&navoid=2389&search_database=Filter#acalog_template_course_filter\n",
      "Medical Biology http://catalogue.usc.edu/content.php?filter%5B27%5D=-1&filter%5B29%5D=&filter%5Bcourse_type%5D=1914&filter%5Bkeyword%5D=&filter%5B32%5D=1&filter%5Bcpage%5D=1&cur_cat_oid=8&expand=&navoid=2389&search_database=Filter#acalog_template_course_filter\n",
      "Medical Sciences (200–400) http://catalogue.usc.edu/content.php?filter%5B27%5D=-1&filter%5B29%5D=&filter%5Bcourse_type%5D=1915&filter%5Bkeyword%5D=&filter%5B32%5D=1&filter%5Bcpage%5D=1&cur_cat_oid=8&expand=&navoid=2389&search_database=Filter#acalog_template_course_filter\n",
      "Medical Sciences (500) http://catalogue.usc.edu/content.php?filter%5B27%5D=-1&filter%5B29%5D=&filter%5Bcourse_type%5D=1916&filter%5Bkeyword%5D=&filter%5B32%5D=1&filter%5Bcpage%5D=1&cur_cat_oid=8&expand=&navoid=2389&search_database=Filter#acalog_template_course_filter\n",
      "Molecular Microbiology and Immunology http://catalogue.usc.edu/content.php?filter%5B27%5D=-1&filter%5B29%5D=&filter%5Bcourse_type%5D=1917&filter%5Bkeyword%5D=&filter%5B32%5D=1&filter%5Bcpage%5D=1&cur_cat_oid=8&expand=&navoid=2389&search_database=Filter#acalog_template_course_filter\n",
      "Marketing http://catalogue.usc.edu/content.php?filter%5B27%5D=-1&filter%5B29%5D=&filter%5Bcourse_type%5D=1918&filter%5Bkeyword%5D=&filter%5B32%5D=1&filter%5Bcpage%5D=1&cur_cat_oid=8&expand=&navoid=2389&search_database=Filter#acalog_template_course_filter\n",
      "Management and Organization http://catalogue.usc.edu/content.php?filter%5B27%5D=-1&filter%5B29%5D=&filter%5Bcourse_type%5D=1919&filter%5Bkeyword%5D=&filter%5B32%5D=1&filter%5Bcpage%5D=1&cur_cat_oid=8&expand=&navoid=2389&search_database=Filter#acalog_template_course_filter\n",
      "Performance (Early Music) http://catalogue.usc.edu/content.php?filter%5B27%5D=-1&filter%5B29%5D=&filter%5Bcourse_type%5D=1920&filter%5Bkeyword%5D=&filter%5B32%5D=1&filter%5Bcpage%5D=1&cur_cat_oid=8&expand=&navoid=2389&search_database=Filter#acalog_template_course_filter\n",
      "Performance (Guitar) http://catalogue.usc.edu/content.php?filter%5B27%5D=-1&filter%5B29%5D=&filter%5Bcourse_type%5D=1921&filter%5Bkeyword%5D=&filter%5B32%5D=1&filter%5Bcpage%5D=1&cur_cat_oid=8&expand=&navoid=2389&search_database=Filter#acalog_template_course_filter\n",
      "Medical Physiology http://catalogue.usc.edu/content.php?filter%5B27%5D=-1&filter%5B29%5D=&filter%5Bcourse_type%5D=1922&filter%5Bkeyword%5D=&filter%5B32%5D=1&filter%5Bcpage%5D=1&cur_cat_oid=8&expand=&navoid=2389&search_database=Filter#acalog_template_course_filter\n"
     ]
    },
    {
     "name": "stdout",
     "output_type": "stream",
     "text": [
      "Performance (Keyboard Studies) http://catalogue.usc.edu/content.php?filter%5B27%5D=-1&filter%5B29%5D=&filter%5Bcourse_type%5D=1923&filter%5Bkeyword%5D=&filter%5B32%5D=1&filter%5Bcpage%5D=1&cur_cat_oid=8&expand=&navoid=2389&search_database=Filter#acalog_template_course_filter\n",
      "Performance (Popular Music) http://catalogue.usc.edu/content.php?filter%5B27%5D=-1&filter%5B29%5D=&filter%5Bcourse_type%5D=1924&filter%5Bkeyword%5D=&filter%5B32%5D=1&filter%5Bcpage%5D=1&cur_cat_oid=8&expand=&navoid=2389&search_database=Filter#acalog_template_course_filter\n",
      "Performance (Strings) http://catalogue.usc.edu/content.php?filter%5B27%5D=-1&filter%5B29%5D=&filter%5Bcourse_type%5D=1925&filter%5Bkeyword%5D=&filter%5B32%5D=1&filter%5Bcpage%5D=1&cur_cat_oid=8&expand=&navoid=2389&search_database=Filter#acalog_template_course_filter\n",
      "Molecular Pharmacology and Toxicology http://catalogue.usc.edu/content.php?filter%5B27%5D=-1&filter%5B29%5D=&filter%5Bcourse_type%5D=1926&filter%5Bkeyword%5D=&filter%5B32%5D=1&filter%5Bcpage%5D=1&cur_cat_oid=8&expand=&navoid=2389&search_database=Filter#acalog_template_course_filter\n",
      "Performance (Vocal Arts) http://catalogue.usc.edu/content.php?filter%5B27%5D=-1&filter%5B29%5D=&filter%5Bcourse_type%5D=1927&filter%5Bkeyword%5D=&filter%5B32%5D=1&filter%5Bcpage%5D=1&cur_cat_oid=8&expand=&navoid=2389&search_database=Filter#acalog_template_course_filter\n",
      "Performance (Wind and Percussion) http://catalogue.usc.edu/content.php?filter%5B27%5D=-1&filter%5B29%5D=&filter%5Bcourse_type%5D=1929&filter%5Bkeyword%5D=&filter%5B32%5D=1&filter%5Bcpage%5D=1&cur_cat_oid=8&expand=&navoid=2389&search_database=Filter#acalog_template_course_filter\n",
      "Military Science http://catalogue.usc.edu/content.php?filter%5B27%5D=-1&filter%5B29%5D=&filter%5Bcourse_type%5D=1930&filter%5Bkeyword%5D=&filter%5B32%5D=1&filter%5Bcpage%5D=1&cur_cat_oid=8&expand=&navoid=2389&search_database=Filter#acalog_template_course_filter\n",
      "Sacred Music http://catalogue.usc.edu/content.php?filter%5B27%5D=-1&filter%5B29%5D=&filter%5Bcourse_type%5D=1931&filter%5Bkeyword%5D=&filter%5B32%5D=1&filter%5Bcpage%5D=1&cur_cat_oid=8&expand=&navoid=2389&search_database=Filter#acalog_template_course_filter\n",
      "Molecular Structure and Signaling http://catalogue.usc.edu/content.php?filter%5B27%5D=-1&filter%5B29%5D=&filter%5Bcourse_type%5D=1932&filter%5Bkeyword%5D=&filter%5B32%5D=1&filter%5Bcpage%5D=1&cur_cat_oid=8&expand=&navoid=2389&search_database=Filter#acalog_template_course_filter\n",
      "Music Technology http://catalogue.usc.edu/content.php?filter%5B27%5D=-1&filter%5B29%5D=&filter%5Bcourse_type%5D=1933&filter%5Bkeyword%5D=&filter%5B32%5D=1&filter%5Bcpage%5D=1&cur_cat_oid=8&expand=&navoid=2389&search_database=Filter#acalog_template_course_filter\n",
      "Cell and Neurobiology http://catalogue.usc.edu/content.php?filter%5B27%5D=-1&filter%5B29%5D=&filter%5Bcourse_type%5D=1996&filter%5Bkeyword%5D=&filter%5B32%5D=1&filter%5Bcpage%5D=1&cur_cat_oid=8&expand=&navoid=2389&search_database=Filter#acalog_template_course_filter\n",
      "Conducting http://catalogue.usc.edu/content.php?filter%5B27%5D=-1&filter%5B29%5D=&filter%5Bcourse_type%5D=1934&filter%5Bkeyword%5D=&filter%5B32%5D=1&filter%5Bcpage%5D=1&cur_cat_oid=8&expand=&navoid=2389&search_database=Filter#acalog_template_course_filter\n",
      "Choral Music http://catalogue.usc.edu/content.php?filter%5B27%5D=-1&filter%5B29%5D=&filter%5Bcourse_type%5D=1935&filter%5Bkeyword%5D=&filter%5B32%5D=1&filter%5Bcpage%5D=1&cur_cat_oid=8&expand=&navoid=2389&search_database=Filter#acalog_template_course_filter\n",
      "Composition http://catalogue.usc.edu/content.php?filter%5B27%5D=-1&filter%5B29%5D=&filter%5Bcourse_type%5D=1936&filter%5Bkeyword%5D=&filter%5B32%5D=1&filter%5Bcpage%5D=1&cur_cat_oid=8&expand=&navoid=2389&search_database=Filter#acalog_template_course_filter\n",
      "Music Teaching and Learning http://catalogue.usc.edu/content.php?filter%5B27%5D=-1&filter%5B29%5D=&filter%5Bcourse_type%5D=1937&filter%5Bkeyword%5D=&filter%5B32%5D=1&filter%5Bcpage%5D=1&cur_cat_oid=8&expand=&navoid=2389&search_database=Filter#acalog_template_course_filter\n",
      "Music Ensemble http://catalogue.usc.edu/content.php?filter%5B27%5D=-1&filter%5B29%5D=&filter%5Bcourse_type%5D=1938&filter%5Bkeyword%5D=&filter%5B32%5D=1&filter%5Bcpage%5D=1&cur_cat_oid=8&expand=&navoid=2389&search_database=Filter#acalog_template_course_filter\n",
      "Music History and Literature http://catalogue.usc.edu/content.php?filter%5B27%5D=-1&filter%5B29%5D=&filter%5Bcourse_type%5D=1939&filter%5Bkeyword%5D=&filter%5B32%5D=1&filter%5Bcpage%5D=1&cur_cat_oid=8&expand=&navoid=2389&search_database=Filter#acalog_template_course_filter\n",
      "Music Industry http://catalogue.usc.edu/content.php?filter%5B27%5D=-1&filter%5B29%5D=&filter%5Bcourse_type%5D=1940&filter%5Bkeyword%5D=&filter%5B32%5D=1&filter%5Bcpage%5D=1&cur_cat_oid=8&expand=&navoid=2389&search_database=Filter#acalog_template_course_filter\n",
      "Jazz Studies http://catalogue.usc.edu/content.php?filter%5B27%5D=-1&filter%5B29%5D=&filter%5Bcourse_type%5D=1941&filter%5Bkeyword%5D=&filter%5B32%5D=1&filter%5Bcpage%5D=1&cur_cat_oid=8&expand=&navoid=2389&search_database=Filter#acalog_template_course_filter\n",
      "School of Music http://catalogue.usc.edu/content.php?filter%5B27%5D=-1&filter%5B29%5D=&filter%5Bcourse_type%5D=1942&filter%5Bkeyword%5D=&filter%5B32%5D=1&filter%5Bcpage%5D=1&cur_cat_oid=8&expand=&navoid=2389&search_database=Filter#acalog_template_course_filter\n",
      "Nautical Science http://catalogue.usc.edu/content.php?filter%5B27%5D=-1&filter%5B29%5D=&filter%5Bcourse_type%5D=1943&filter%5Bkeyword%5D=&filter%5B32%5D=1&filter%5Bcpage%5D=1&cur_cat_oid=8&expand=&navoid=2389&search_database=Filter#acalog_template_course_filter\n",
      "Neuroscience (Undergraduate) http://catalogue.usc.edu/content.php?filter%5B27%5D=-1&filter%5B29%5D=&filter%5Bcourse_type%5D=1944&filter%5Bkeyword%5D=&filter%5B32%5D=1&filter%5Bcpage%5D=1&cur_cat_oid=8&expand=&navoid=2389&search_database=Filter#acalog_template_course_filter\n",
      "Neuroimaging and Informatics http://catalogue.usc.edu/content.php?filter%5B27%5D=-1&filter%5B29%5D=&filter%5Bcourse_type%5D=1945&filter%5Bkeyword%5D=&filter%5B32%5D=1&filter%5Bcpage%5D=1&cur_cat_oid=8&expand=&navoid=2389&search_database=Filter#acalog_template_course_filter\n",
      "Naval Science http://catalogue.usc.edu/content.php?filter%5B27%5D=-1&filter%5B29%5D=&filter%5Bcourse_type%5D=1946&filter%5Bkeyword%5D=&filter%5B32%5D=1&filter%5Bcpage%5D=1&cur_cat_oid=8&expand=&navoid=2389&search_database=Filter#acalog_template_course_filter\n",
      "Neuroscience (Graduate) http://catalogue.usc.edu/content.php?filter%5B27%5D=-1&filter%5B29%5D=&filter%5Bcourse_type%5D=1947&filter%5Bkeyword%5D=&filter%5B32%5D=1&filter%5Bcpage%5D=1&cur_cat_oid=8&expand=&navoid=2389&search_database=Filter#acalog_template_course_filter\n",
      "Nursing http://catalogue.usc.edu/content.php?filter%5B27%5D=-1&filter%5B29%5D=&filter%5Bcourse_type%5D=2002&filter%5Bkeyword%5D=&filter%5B32%5D=1&filter%5Bcpage%5D=1&cur_cat_oid=8&expand=&navoid=2389&search_database=Filter#acalog_template_course_filter\n",
      "Occlusion http://catalogue.usc.edu/content.php?filter%5B27%5D=-1&filter%5B29%5D=&filter%5Bcourse_type%5D=1948&filter%5Bkeyword%5D=&filter%5B32%5D=1&filter%5Bcpage%5D=1&cur_cat_oid=8&expand=&navoid=2389&search_database=Filter#acalog_template_course_filter\n",
      "Orofacial Pain Oral Medicine http://catalogue.usc.edu/content.php?filter%5B27%5D=-1&filter%5B29%5D=&filter%5Bcourse_type%5D=1949&filter%5Bkeyword%5D=&filter%5B32%5D=1&filter%5Bcpage%5D=1&cur_cat_oid=8&expand=&navoid=2389&search_database=Filter#acalog_template_course_filter\n",
      "Orofacial Pain http://catalogue.usc.edu/content.php?filter%5B27%5D=-1&filter%5B29%5D=&filter%5Bcourse_type%5D=2010&filter%5Bkeyword%5D=&filter%5B32%5D=1&filter%5Bcpage%5D=1&cur_cat_oid=8&expand=&navoid=2389&search_database=Filter#acalog_template_course_filter\n",
      "Oral Medicine Oral Diagnosis http://catalogue.usc.edu/content.php?filter%5B27%5D=-1&filter%5B29%5D=&filter%5Bcourse_type%5D=1950&filter%5Bkeyword%5D=&filter%5B32%5D=1&filter%5Bcpage%5D=1&cur_cat_oid=8&expand=&navoid=2389&search_database=Filter#acalog_template_course_filter\n",
      "Operative Dentistry http://catalogue.usc.edu/content.php?filter%5B27%5D=-1&filter%5B29%5D=&filter%5Bcourse_type%5D=1951&filter%5Bkeyword%5D=&filter%5B32%5D=1&filter%5Bcpage%5D=1&cur_cat_oid=8&expand=&navoid=2389&search_database=Filter#acalog_template_course_filter\n",
      "Oral Pathology and Radiology http://catalogue.usc.edu/content.php?filter%5B27%5D=-1&filter%5B29%5D=&filter%5Bcourse_type%5D=2011&filter%5Bkeyword%5D=&filter%5B32%5D=1&filter%5Bcpage%5D=1&cur_cat_oid=8&expand=&navoid=2389&search_database=Filter#acalog_template_course_filter\n",
      "Orthodontics http://catalogue.usc.edu/content.php?filter%5B27%5D=-1&filter%5B29%5D=&filter%5Bcourse_type%5D=1952&filter%5Bkeyword%5D=&filter%5B32%5D=1&filter%5Bcpage%5D=1&cur_cat_oid=8&expand=&navoid=2389&search_database=Filter#acalog_template_course_filter\n",
      "Ocean Sciences http://catalogue.usc.edu/content.php?filter%5B27%5D=-1&filter%5B29%5D=&filter%5Bcourse_type%5D=1953&filter%5Bkeyword%5D=&filter%5B32%5D=1&filter%5Bcpage%5D=1&cur_cat_oid=8&expand=&navoid=2389&search_database=Filter#acalog_template_course_filter\n",
      "Occupational Science and Occupational Therapy http://catalogue.usc.edu/content.php?filter%5B27%5D=-1&filter%5B29%5D=&filter%5Bcourse_type%5D=1954&filter%5Bkeyword%5D=&filter%5B32%5D=1&filter%5Bcpage%5D=1&cur_cat_oid=8&expand=&navoid=2389&search_database=Filter#acalog_template_course_filter\n",
      "Pain Medicine http://catalogue.usc.edu/content.php?filter%5B27%5D=-1&filter%5B29%5D=&filter%5Bcourse_type%5D=2012&filter%5Bkeyword%5D=&filter%5B32%5D=1&filter%5Bcpage%5D=1&cur_cat_oid=8&expand=&navoid=2389&search_database=Filter#acalog_template_course_filter\n"
     ]
    },
    {
     "name": "stdout",
     "output_type": "stream",
     "text": [
      "Pathology (Herman Ostrow School of Dentistry) http://catalogue.usc.edu/content.php?filter%5B27%5D=-1&filter%5B29%5D=&filter%5Bcourse_type%5D=2000&filter%5Bkeyword%5D=&filter%5B32%5D=1&filter%5Bcpage%5D=1&cur_cat_oid=8&expand=&navoid=2389&search_database=Filter#acalog_template_course_filter\n",
      "Pathology (Keck School of Medicine) http://catalogue.usc.edu/content.php?filter%5B27%5D=-1&filter%5B29%5D=&filter%5Bcourse_type%5D=1999&filter%5Bkeyword%5D=&filter%5B32%5D=1&filter%5Bcpage%5D=1&cur_cat_oid=8&expand=&navoid=2389&search_database=Filter#acalog_template_course_filter\n",
      "Primary Care Physician Assistant http://catalogue.usc.edu/content.php?filter%5B27%5D=-1&filter%5B29%5D=&filter%5Bcourse_type%5D=1956&filter%5Bkeyword%5D=&filter%5B32%5D=1&filter%5Bcpage%5D=1&cur_cat_oid=8&expand=&navoid=2389&search_database=Filter#acalog_template_course_filter\n",
      "Pediatric Dentistry http://catalogue.usc.edu/content.php?filter%5B27%5D=-1&filter%5B29%5D=&filter%5Bcourse_type%5D=1957&filter%5Bkeyword%5D=&filter%5B32%5D=1&filter%5Bcpage%5D=1&cur_cat_oid=8&expand=&navoid=2389&search_database=Filter#acalog_template_course_filter\n",
      "Periodontics http://catalogue.usc.edu/content.php?filter%5B27%5D=-1&filter%5B29%5D=&filter%5Bcourse_type%5D=1958&filter%5Bkeyword%5D=&filter%5B32%5D=1&filter%5Bcpage%5D=1&cur_cat_oid=8&expand=&navoid=2389&search_database=Filter#acalog_template_course_filter\n",
      "Physiology and Biophysics http://catalogue.usc.edu/content.php?filter%5B27%5D=-1&filter%5B29%5D=&filter%5Bcourse_type%5D=1959&filter%5Bkeyword%5D=&filter%5B32%5D=1&filter%5Bcpage%5D=1&cur_cat_oid=8&expand=&navoid=2389&search_database=Filter#acalog_template_course_filter\n",
      "Physical Education http://catalogue.usc.edu/content.php?filter%5B27%5D=-1&filter%5B29%5D=&filter%5Bcourse_type%5D=1960&filter%5Bkeyword%5D=&filter%5B32%5D=1&filter%5Bcpage%5D=1&cur_cat_oid=8&expand=&navoid=2389&search_database=Filter#acalog_template_course_filter\n",
      "Philosophy http://catalogue.usc.edu/content.php?filter%5B27%5D=-1&filter%5B29%5D=&filter%5Bcourse_type%5D=1961&filter%5Bkeyword%5D=&filter%5B32%5D=1&filter%5Bcpage%5D=1&cur_cat_oid=8&expand=&navoid=2389&search_database=Filter#acalog_template_course_filter\n",
      "Pharmacy http://catalogue.usc.edu/content.php?filter%5B27%5D=-1&filter%5B29%5D=&filter%5Bcourse_type%5D=1962&filter%5Bkeyword%5D=&filter%5B32%5D=1&filter%5Bcpage%5D=1&cur_cat_oid=8&expand=&navoid=2389&search_database=Filter#acalog_template_course_filter\n",
      "Pharmaceutical and Translational Sciences http://catalogue.usc.edu/content.php?filter%5B27%5D=-1&filter%5B29%5D=&filter%5Bcourse_type%5D=2006&filter%5Bkeyword%5D=&filter%5B32%5D=1&filter%5Bcpage%5D=1&cur_cat_oid=8&expand=&navoid=2389&search_database=Filter#acalog_template_course_filter\n",
      "Physics http://catalogue.usc.edu/content.php?filter%5B27%5D=-1&filter%5B29%5D=&filter%5Bcourse_type%5D=1963&filter%5Bkeyword%5D=&filter%5B32%5D=1&filter%5Bcpage%5D=1&cur_cat_oid=8&expand=&navoid=2389&search_database=Filter#acalog_template_course_filter\n",
      "Project Management http://catalogue.usc.edu/content.php?filter%5B27%5D=-1&filter%5B29%5D=&filter%5Bcourse_type%5D=2545&filter%5Bkeyword%5D=&filter%5B32%5D=1&filter%5Bcpage%5D=1&cur_cat_oid=8&expand=&navoid=2389&search_database=Filter#acalog_template_course_filter\n",
      "Urban and Regional Planning http://catalogue.usc.edu/content.php?filter%5B27%5D=-1&filter%5B29%5D=&filter%5Bcourse_type%5D=1964&filter%5Bkeyword%5D=&filter%5B32%5D=1&filter%5Bcpage%5D=1&cur_cat_oid=8&expand=&navoid=2389&search_database=Filter#acalog_template_course_filter\n",
      "Preventive Medicine http://catalogue.usc.edu/content.php?filter%5B27%5D=-1&filter%5B29%5D=&filter%5Bcourse_type%5D=1965&filter%5Bkeyword%5D=&filter%5B32%5D=1&filter%5Bcpage%5D=1&cur_cat_oid=8&expand=&navoid=2389&search_database=Filter#acalog_template_course_filter\n",
      "Pharmaceutical Economics and Policy http://catalogue.usc.edu/content.php?filter%5B27%5D=-1&filter%5B29%5D=&filter%5Bcourse_type%5D=1966&filter%5Bkeyword%5D=&filter%5B32%5D=1&filter%5Bcpage%5D=1&cur_cat_oid=8&expand=&navoid=2389&search_database=Filter#acalog_template_course_filter\n",
      "Political Science and International Relations http://catalogue.usc.edu/content.php?filter%5B27%5D=-1&filter%5B29%5D=&filter%5Bcourse_type%5D=1967&filter%5Bkeyword%5D=&filter%5B32%5D=1&filter%5Bcpage%5D=1&cur_cat_oid=8&expand=&navoid=2389&search_database=Filter#acalog_template_course_filter\n",
      "Portuguese http://catalogue.usc.edu/content.php?filter%5B27%5D=-1&filter%5B29%5D=&filter%5Bcourse_type%5D=1968&filter%5Bkeyword%5D=&filter%5B32%5D=1&filter%5Bcpage%5D=1&cur_cat_oid=8&expand=&navoid=2389&search_database=Filter#acalog_template_course_filter\n",
      "Political Science http://catalogue.usc.edu/content.php?filter%5B27%5D=-1&filter%5B29%5D=&filter%5Bcourse_type%5D=1969&filter%5Bkeyword%5D=&filter%5B32%5D=1&filter%5Bcpage%5D=1&cur_cat_oid=8&expand=&navoid=2389&search_database=Filter#acalog_template_course_filter\n",
      "Policy, Planning, and Development http://catalogue.usc.edu/content.php?filter%5B27%5D=-1&filter%5B29%5D=&filter%5Bcourse_type%5D=1970&filter%5Bkeyword%5D=&filter%5B32%5D=1&filter%5Bcpage%5D=1&cur_cat_oid=8&expand=&navoid=2389&search_database=Filter#acalog_template_course_filter\n",
      "Policy, Planning, and Development — Expanded http://catalogue.usc.edu/content.php?filter%5B27%5D=-1&filter%5B29%5D=&filter%5Bcourse_type%5D=1971&filter%5Bkeyword%5D=&filter%5B32%5D=1&filter%5Bcpage%5D=1&cur_cat_oid=8&expand=&navoid=2389&search_database=Filter#acalog_template_course_filter\n",
      "Public Relations http://catalogue.usc.edu/content.php?filter%5B27%5D=-1&filter%5B29%5D=&filter%5Bcourse_type%5D=2001&filter%5Bkeyword%5D=&filter%5B32%5D=1&filter%5Bcpage%5D=1&cur_cat_oid=8&expand=&navoid=2389&search_database=Filter#acalog_template_course_filter\n",
      "Pharmaceutical Sciences http://catalogue.usc.edu/content.php?filter%5B27%5D=-1&filter%5B29%5D=&filter%5Bcourse_type%5D=1972&filter%5Bkeyword%5D=&filter%5B32%5D=1&filter%5Bcpage%5D=1&cur_cat_oid=8&expand=&navoid=2389&search_database=Filter#acalog_template_course_filter\n",
      "Psychology http://catalogue.usc.edu/content.php?filter%5B27%5D=-1&filter%5B29%5D=&filter%5Bcourse_type%5D=1973&filter%5Bkeyword%5D=&filter%5B32%5D=1&filter%5Bcpage%5D=1&cur_cat_oid=8&expand=&navoid=2389&search_database=Filter#acalog_template_course_filter\n",
      "Physical Therapy http://catalogue.usc.edu/content.php?filter%5B27%5D=-1&filter%5B29%5D=&filter%5Bcourse_type%5D=1974&filter%5Bkeyword%5D=&filter%5B32%5D=1&filter%5Bcpage%5D=1&cur_cat_oid=8&expand=&navoid=2389&search_database=Filter#acalog_template_course_filter\n",
      "Petroleum Engineering http://catalogue.usc.edu/content.php?filter%5B27%5D=-1&filter%5B29%5D=&filter%5Bcourse_type%5D=1975&filter%5Bkeyword%5D=&filter%5B32%5D=1&filter%5Bcpage%5D=1&cur_cat_oid=8&expand=&navoid=2389&search_database=Filter#acalog_template_course_filter\n",
      "Public Administration http://catalogue.usc.edu/content.php?filter%5B27%5D=-1&filter%5B29%5D=&filter%5Bcourse_type%5D=1976&filter%5Bkeyword%5D=&filter%5B32%5D=1&filter%5Bcpage%5D=1&cur_cat_oid=8&expand=&navoid=2389&search_database=Filter#acalog_template_course_filter\n",
      "Public Diplomacy http://catalogue.usc.edu/content.php?filter%5B27%5D=-1&filter%5B29%5D=&filter%5Bcourse_type%5D=1977&filter%5Bkeyword%5D=&filter%5B32%5D=1&filter%5Bcpage%5D=1&cur_cat_oid=8&expand=&navoid=2389&search_database=Filter#acalog_template_course_filter\n",
      "Quantitative Biology http://catalogue.usc.edu/content.php?filter%5B27%5D=-1&filter%5B29%5D=&filter%5Bcourse_type%5D=2014&filter%5Bkeyword%5D=&filter%5B32%5D=1&filter%5Bcpage%5D=1&cur_cat_oid=8&expand=&navoid=2389&search_database=Filter#acalog_template_course_filter\n",
      "Real Estate Development http://catalogue.usc.edu/content.php?filter%5B27%5D=-1&filter%5B29%5D=&filter%5Bcourse_type%5D=1978&filter%5Bkeyword%5D=&filter%5B32%5D=1&filter%5Bcpage%5D=1&cur_cat_oid=8&expand=&navoid=2389&search_database=Filter#acalog_template_course_filter\n",
      "Religion http://catalogue.usc.edu/content.php?filter%5B27%5D=-1&filter%5B29%5D=&filter%5Bcourse_type%5D=1979&filter%5Bkeyword%5D=&filter%5B32%5D=1&filter%5Bcpage%5D=1&cur_cat_oid=8&expand=&navoid=2389&search_database=Filter#acalog_template_course_filter\n",
      "Restorative Dentistry http://catalogue.usc.edu/content.php?filter%5B27%5D=-1&filter%5B29%5D=&filter%5Bcourse_type%5D=1980&filter%5Bkeyword%5D=&filter%5B32%5D=1&filter%5Bcpage%5D=1&cur_cat_oid=8&expand=&navoid=2389&search_database=Filter#acalog_template_course_filter\n",
      "Removable Prosthodontics http://catalogue.usc.edu/content.php?filter%5B27%5D=-1&filter%5B29%5D=&filter%5Bcourse_type%5D=1981&filter%5Bkeyword%5D=&filter%5B32%5D=1&filter%5Bcpage%5D=1&cur_cat_oid=8&expand=&navoid=2389&search_database=Filter#acalog_template_course_filter\n",
      "Regulatory Science http://catalogue.usc.edu/content.php?filter%5B27%5D=-1&filter%5B29%5D=&filter%5Bcourse_type%5D=1982&filter%5Bkeyword%5D=&filter%5B32%5D=1&filter%5Bcpage%5D=1&cur_cat_oid=8&expand=&navoid=2389&search_database=Filter#acalog_template_course_filter\n",
      "Pharmaceutical and Regulatory Science http://catalogue.usc.edu/content.php?filter%5B27%5D=-1&filter%5B29%5D=&filter%5Bcourse_type%5D=2003&filter%5Bkeyword%5D=&filter%5B32%5D=1&filter%5Bcpage%5D=1&cur_cat_oid=8&expand=&navoid=2389&search_database=Filter#acalog_template_course_filter\n",
      "Systems Architecting and Engineering http://catalogue.usc.edu/content.php?filter%5B27%5D=-1&filter%5B29%5D=&filter%5Bcourse_type%5D=1983&filter%5Bkeyword%5D=&filter%5B32%5D=1&filter%5Bcpage%5D=1&cur_cat_oid=8&expand=&navoid=2389&search_database=Filter#acalog_template_course_filter\n"
     ]
    },
    {
     "name": "stdout",
     "output_type": "stream",
     "text": [
      "Screen Scoring http://catalogue.usc.edu/content.php?filter%5B27%5D=-1&filter%5B29%5D=&filter%5Bcourse_type%5D=2005&filter%5Bkeyword%5D=&filter%5B32%5D=1&filter%5Bcpage%5D=1&cur_cat_oid=8&expand=&navoid=2389&search_database=Filter#acalog_template_course_filter\n",
      "Stem Cell Biology and Regenerative Medicine http://catalogue.usc.edu/content.php?filter%5B27%5D=-1&filter%5B29%5D=&filter%5Bcourse_type%5D=1984&filter%5Bkeyword%5D=&filter%5B32%5D=1&filter%5Bcpage%5D=1&cur_cat_oid=8&expand=&navoid=2389&search_database=Filter#acalog_template_course_filter\n",
      "Slavic Languages and Literatures http://catalogue.usc.edu/content.php?filter%5B27%5D=-1&filter%5B29%5D=&filter%5Bcourse_type%5D=1985&filter%5Bkeyword%5D=&filter%5B32%5D=1&filter%5Bcpage%5D=1&cur_cat_oid=8&expand=&navoid=2389&search_database=Filter#acalog_template_course_filter\n",
      "Sociology http://catalogue.usc.edu/content.php?filter%5B27%5D=-1&filter%5B29%5D=&filter%5Bcourse_type%5D=1986&filter%5Bkeyword%5D=&filter%5B32%5D=1&filter%5Bcpage%5D=1&cur_cat_oid=8&expand=&navoid=2389&search_database=Filter#acalog_template_course_filter\n",
      "Social Work http://catalogue.usc.edu/content.php?filter%5B27%5D=-1&filter%5B29%5D=&filter%5Bcourse_type%5D=1987&filter%5Bkeyword%5D=&filter%5B32%5D=1&filter%5Bcpage%5D=1&cur_cat_oid=8&expand=&navoid=2389&search_database=Filter#acalog_template_course_filter\n",
      "Spanish http://catalogue.usc.edu/content.php?filter%5B27%5D=-1&filter%5B29%5D=&filter%5Bcourse_type%5D=1988&filter%5Bkeyword%5D=&filter%5B32%5D=1&filter%5Bcpage%5D=1&cur_cat_oid=8&expand=&navoid=2389&search_database=Filter#acalog_template_course_filter\n",
      "Spatial Sciences Institute http://catalogue.usc.edu/content.php?filter%5B27%5D=-1&filter%5B29%5D=&filter%5Bcourse_type%5D=1989&filter%5Bkeyword%5D=&filter%5B32%5D=1&filter%5Bcpage%5D=1&cur_cat_oid=8&expand=&navoid=2389&search_database=Filter#acalog_template_course_filter\n",
      "Sophomore Seminars http://catalogue.usc.edu/content.php?filter%5B27%5D=-1&filter%5B29%5D=&filter%5Bcourse_type%5D=1990&filter%5Bkeyword%5D=&filter%5B32%5D=1&filter%5Bcpage%5D=1&cur_cat_oid=8&expand=&navoid=2389&search_database=Filter#acalog_template_course_filter\n",
      "Oral Surgery http://catalogue.usc.edu/content.php?filter%5B27%5D=-1&filter%5B29%5D=&filter%5Bcourse_type%5D=1991&filter%5Bkeyword%5D=&filter%5B32%5D=1&filter%5Bcpage%5D=1&cur_cat_oid=8&expand=&navoid=2389&search_database=Filter#acalog_template_course_filter\n",
      "Gender Studies http://catalogue.usc.edu/content.php?filter%5B27%5D=-1&filter%5B29%5D=&filter%5Bcourse_type%5D=1992&filter%5Bkeyword%5D=&filter%5B32%5D=1&filter%5Bcpage%5D=1&cur_cat_oid=8&expand=&navoid=2389&search_database=Filter#acalog_template_course_filter\n",
      "Dramatic Arts http://catalogue.usc.edu/content.php?filter%5B27%5D=-1&filter%5B29%5D=&filter%5Bcourse_type%5D=1993&filter%5Bkeyword%5D=&filter%5B32%5D=1&filter%5Bcpage%5D=1&cur_cat_oid=8&expand=&navoid=2389&search_database=Filter#acalog_template_course_filter\n",
      "Translational Genomics http://catalogue.usc.edu/content.php?filter%5B27%5D=-1&filter%5B29%5D=&filter%5Bcourse_type%5D=2009&filter%5Bkeyword%5D=&filter%5B32%5D=1&filter%5Bcpage%5D=1&cur_cat_oid=8&expand=&navoid=2389&search_database=Filter#acalog_template_course_filter\n",
      "University of Southern California http://catalogue.usc.edu/content.php?filter%5B27%5D=-1&filter%5B29%5D=&filter%5Bcourse_type%5D=1994&filter%5Bkeyword%5D=&filter%5B32%5D=1&filter%5Bcpage%5D=1&cur_cat_oid=8&expand=&navoid=2389&search_database=Filter#acalog_template_course_filter\n",
      "Visual Studies http://catalogue.usc.edu/content.php?filter%5B27%5D=-1&filter%5B29%5D=&filter%5Bcourse_type%5D=2004&filter%5Bkeyword%5D=&filter%5B32%5D=1&filter%5Bcpage%5D=1&cur_cat_oid=8&expand=&navoid=2389&search_database=Filter#acalog_template_course_filter\n",
      "Writing Program http://catalogue.usc.edu/content.php?filter%5B27%5D=-1&filter%5B29%5D=&filter%5Bcourse_type%5D=1995&filter%5Bkeyword%5D=&filter%5B32%5D=1&filter%5Bcpage%5D=1&cur_cat_oid=8&expand=&navoid=2389&search_database=Filter#acalog_template_course_filter\n",
      "Criminal Justice http://catalogue.usc.edu/content.php?filter%5B27%5D=-1&filter%5B29%5D=&filter%5Bcourse_type%5D=2807&filter%5Bkeyword%5D=&filter%5B32%5D=1&filter%5Bcpage%5D=1&cur_cat_oid=8&expand=&navoid=2389&search_database=Filter#acalog_template_course_filter\n"
     ]
    }
   ],
   "source": [
    "from selenium import webdriver\n",
    "import csv\n",
    "\n",
    "chrome_options = webdriver.ChromeOptions()\n",
    "chrome_options.add_argument('--no-sandbox')\n",
    "driver = webdriver.Chrome(\"C:\\\\Users\\MOHAN KUMAR SAH\\Documents\\My Work\\PakkaIndia\\chromedriver\",chrome_options=chrome_options)\n",
    "\n",
    "lis=['Course','University','URL']\n",
    "info=[]\n",
    "info.append(lis)\n",
    "\n",
    "driver.get('http://catalogue.usc.edu/content.php?catoid=8&navoid=2389')\n",
    "data1=driver.find_elements_by_id('coursetype')\n",
    "data2=data1[0].find_elements_by_tag_name('option')\n",
    "for i in range(1,len(data2)):\n",
    "    c=data2[i].text\n",
    "    url='http://catalogue.usc.edu/content.php?filter%5B27%5D=-1&filter%5B29%5D=&filter%5Bcourse_type%5D='+str(data2[i].get_attribute('value'))+'&filter%5Bkeyword%5D=&filter%5B32%5D=1&filter%5Bcpage%5D=1&cur_cat_oid=8&expand=&navoid=2389&search_database=Filter#acalog_template_course_filter'\n",
    "    \n",
    "    info.append([c,'University of Southern California',url])\n",
    "    print(c,url)\n",
    "    \n",
    "driver.quit()"
   ]
  },
  {
   "cell_type": "code",
   "execution_count": 11,
   "metadata": {},
   "outputs": [
    {
     "data": {
      "text/plain": [
       "234"
      ]
     },
     "execution_count": 11,
     "metadata": {},
     "output_type": "execute_result"
    }
   ],
   "source": [
    "len(info)"
   ]
  },
  {
   "cell_type": "code",
   "execution_count": 12,
   "metadata": {},
   "outputs": [],
   "source": [
    "with open('University_of_Southern_California.csv','w',encoding=\"utf-8\",newline=\"\") as file:\n",
    "    write=csv.writer(file)\n",
    "    for row in info:\n",
    "        write.writerow(row)"
   ]
  },
  {
   "cell_type": "code",
   "execution_count": null,
   "metadata": {},
   "outputs": [],
   "source": []
  }
 ],
 "metadata": {
  "kernelspec": {
   "display_name": "Python 3",
   "language": "python",
   "name": "python3"
  },
  "language_info": {
   "codemirror_mode": {
    "name": "ipython",
    "version": 3
   },
   "file_extension": ".py",
   "mimetype": "text/x-python",
   "name": "python",
   "nbconvert_exporter": "python",
   "pygments_lexer": "ipython3",
   "version": "3.6.5"
  }
 },
 "nbformat": 4,
 "nbformat_minor": 2
}
