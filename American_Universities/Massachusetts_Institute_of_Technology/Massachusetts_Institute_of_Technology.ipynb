{
 "cells": [
  {
   "cell_type": "code",
   "execution_count": 63,
   "metadata": {},
   "outputs": [
    {
     "name": "stderr",
     "output_type": "stream",
     "text": [
      "C:\\ProgramData\\Anaconda3\\lib\\site-packages\\ipykernel_launcher.py:6: DeprecationWarning: use options instead of chrome_options\n",
      "  \n"
     ]
    }
   ],
   "source": [
    "from selenium import webdriver\n",
    "import csv\n",
    "\n",
    "chrome_options = webdriver.ChromeOptions()\n",
    "chrome_options.add_argument('--no-sandbox')\n",
    "driver = webdriver.Chrome(\"C:\\\\Users\\MOHAN KUMAR SAH\\Documents\\My Work\\PakkaIndia\\chromedriver\",chrome_options=chrome_options)\n",
    "\n",
    "driver.get('http://catalog.mit.edu/degree-charts/')"
   ]
  },
  {
   "cell_type": "code",
   "execution_count": 64,
   "metadata": {},
   "outputs": [
    {
     "data": {
      "text/plain": [
       "[<selenium.webdriver.remote.webelement.WebElement (session=\"b390f4a2b3a537ee425909b935cdf095\", element=\"0.20133735640687878-1\")>]"
      ]
     },
     "execution_count": 64,
     "metadata": {},
     "output_type": "execute_result"
    }
   ],
   "source": [
    "data1=driver.find_elements_by_id('/degree-charts/')\n",
    "data1"
   ]
  },
  {
   "cell_type": "code",
   "execution_count": 65,
   "metadata": {},
   "outputs": [
    {
     "data": {
      "text/plain": [
       "66"
      ]
     },
     "execution_count": 65,
     "metadata": {},
     "output_type": "execute_result"
    }
   ],
   "source": [
    "data2=data1[0].find_elements_by_tag_name('li')\n",
    "len(data2)"
   ]
  },
  {
   "cell_type": "code",
   "execution_count": 80,
   "metadata": {},
   "outputs": [
    {
     "data": {
      "text/plain": [
       "[]"
      ]
     },
     "execution_count": 80,
     "metadata": {},
     "output_type": "execute_result"
    }
   ],
   "source": [
    "data3=data2[0].find_elements_by_tag_name('a')\n",
    "data3"
   ]
  },
  {
   "cell_type": "code",
   "execution_count": 81,
   "metadata": {},
   "outputs": [
    {
     "data": {
      "text/plain": [
       "[<selenium.webdriver.remote.webelement.WebElement (session=\"b390f4a2b3a537ee425909b935cdf095\", element=\"0.20133735640687878-68\")>]"
      ]
     },
     "execution_count": 81,
     "metadata": {},
     "output_type": "execute_result"
    }
   ],
   "source": [
    "data3=data2[1].find_elements_by_tag_name('a')\n",
    "data3"
   ]
  },
  {
   "cell_type": "code",
   "execution_count": 82,
   "metadata": {},
   "outputs": [
    {
     "data": {
      "text/plain": [
       "'http://catalog.mit.edu/degree-charts/architecture-course-4/'"
      ]
     },
     "execution_count": 82,
     "metadata": {},
     "output_type": "execute_result"
    }
   ],
   "source": [
    "data3[0].get_attribute('href')"
   ]
  },
  {
   "cell_type": "code",
   "execution_count": 83,
   "metadata": {},
   "outputs": [
    {
     "data": {
      "text/plain": [
       "''"
      ]
     },
     "execution_count": 83,
     "metadata": {},
     "output_type": "execute_result"
    }
   ],
   "source": [
    "data3[0].text"
   ]
  },
  {
   "cell_type": "code",
   "execution_count": 84,
   "metadata": {},
   "outputs": [],
   "source": [
    "driver.get('http://catalog.mit.edu/degree-charts/architecture-course-4/')"
   ]
  },
  {
   "cell_type": "code",
   "execution_count": 85,
   "metadata": {},
   "outputs": [
    {
     "data": {
      "text/plain": [
       "'Architecture (Course 4)'"
      ]
     },
     "execution_count": 85,
     "metadata": {},
     "output_type": "execute_result"
    }
   ],
   "source": [
    "data4=driver.find_elements_by_class_name('page-title')\n",
    "data4[0].text"
   ]
  },
  {
   "cell_type": "markdown",
   "metadata": {},
   "source": [
    "# Full Code"
   ]
  },
  {
   "cell_type": "code",
   "execution_count": 92,
   "metadata": {},
   "outputs": [
    {
     "name": "stderr",
     "output_type": "stream",
     "text": [
      "C:\\ProgramData\\Anaconda3\\lib\\site-packages\\ipykernel_launcher.py:10: DeprecationWarning: use options instead of chrome_options\n",
      "  # Remove the CWD from sys.path while we load stuff.\n"
     ]
    },
    {
     "name": "stdout",
     "output_type": "stream",
     "text": [
      "Architecture (Course 4) http://catalog.mit.edu/degree-charts/architecture-course-4/\n",
      "Art and Design (Course 4-B) http://catalog.mit.edu/degree-charts/architecture-course-4-b/\n",
      "Planning (Course 11) http://catalog.mit.edu/degree-charts/planning-course-11/\n",
      "Aerospace Engineering (Course 16) http://catalog.mit.edu/degree-charts/aerospace-engineering-course-16/\n",
      "Archaeology and Materials (Course 3-C) http://catalog.mit.edu/degree-charts/archaeology-materials-course-3-c/\n",
      "Biological Engineering (Course 20) http://catalog.mit.edu/degree-charts/biological-engineering-course-20/\n",
      "Chemical-Biological Engineering (Course 10-B) http://catalog.mit.edu/degree-charts/chemical-biological-engineering-course-10-b/\n",
      "Chemical Engineering (Course 10) http://catalog.mit.edu/degree-charts/chemical-engineering-course-10/\n",
      "Chemical Engineering (Course 10-C) http://catalog.mit.edu/degree-charts/chemical-engineering-course-10-c/\n",
      "Computer Science and Engineering (Course 6-3) http://catalog.mit.edu/degree-charts/computer-science-engineering-course-6-3/\n",
      "Electrical Engineering and Computer Science (Course 6-2) http://catalog.mit.edu/degree-charts/electrical-engineering-computer-science-course-6-2/\n",
      "Electrical Engineering and Computer Science (Course 6-P) http://catalog.mit.edu/degree-charts/master-electrical-engineering-computer-science-course-6-p/\n",
      "Electrical Science and Engineering (Course 6-1) http://catalog.mit.edu/degree-charts/electrical-science-engineering-course-6-1/\n",
      "Engineering as Recommended by the Department of Aeronautics and Astronautics (Course 16-ENG) http://catalog.mit.edu/degree-charts/engineering-aeronautics-astronautics-course-16-eng/\n",
      "Engineering as Recommended by the Department of Chemical Engineering (Course 10-ENG) http://catalog.mit.edu/degree-charts/engineering-chemical-engineering-course-10-eng/\n",
      "Engineering as Recommended by the Department of Mechanical Engineering (Course 2-A) http://catalog.mit.edu/degree-charts/mechanical-engineering-course-2-a/\n",
      "General Engineering (Course 1-ENG) http://catalog.mit.edu/degree-charts/engineering-civil-environmental-engineering-course-1-eng/\n",
      "Materials Science and Engineering (Course 3) http://catalog.mit.edu/degree-charts/materials-science-engineering-course-3/\n",
      "Bachelor of Science as Recommended by the Department of Materials Science and Engineering (Course 3-A) http://catalog.mit.edu/degree-charts/materials-science-engineering-course-3-a/\n",
      "Mechanical and Ocean Engineering (Course 2-OE) http://catalog.mit.edu/degree-charts/mechanical-ocean-engineering-course-2-oe/\n",
      "Mechanical Engineering (Course 2) http://catalog.mit.edu/degree-charts/mechanical-engineering-course-2/\n",
      "Nuclear Science and Engineering (Course 22) http://catalog.mit.edu/degree-charts/nuclear-science-engineering-course-22/\n",
      "Anthropology (Course 21A) http://catalog.mit.edu/degree-charts/anthropology-course-21a/\n",
      "Comparative Media Studies (CMS) http://catalog.mit.edu/degree-charts/comparative-media-studies-cms/\n",
      "Economics (Course 14-1) http://catalog.mit.edu/degree-charts/economics-course-14/\n",
      "Global Studies and Languages (Course 21G) http://catalog.mit.edu/degree-charts/global-studies-languages-course-21g/\n",
      "History (Course 21H) http://catalog.mit.edu/degree-charts/history-course-21h/\n",
      "Humanities (Course 21) http://catalog.mit.edu/degree-charts/humanities-course-21/\n",
      "Humanities and Engineering (Course 21E) http://catalog.mit.edu/degree-charts/humanities-engineering-course-21e/\n",
      "Humanities and Science (Course 21S) http://catalog.mit.edu/degree-charts/humanities-science-course-21s/\n",
      "Linguistics and Philosophy (Course 24-2) http://catalog.mit.edu/degree-charts/linguistics-philosophy-course-24-2/\n",
      "Literature (Course 21L) http://catalog.mit.edu/degree-charts/literature-course-21l/\n",
      "Mathematical Economics (Course 14-2) http://catalog.mit.edu/degree-charts/mathematical-economics-course-14-2/\n",
      "Music (Course 21M-1) http://catalog.mit.edu/degree-charts/music-course-21m/\n",
      "Philosophy (Course 24-1) http://catalog.mit.edu/degree-charts/philosophy-course-24-1/\n",
      "Political Science (Course 17) http://catalog.mit.edu/degree-charts/political-science-course-17/\n",
      "Science, Technology, and Society/Second Major (STS) http://catalog.mit.edu/degree-charts/science-technology-society-sts/\n",
      "Theater Arts (Course 21M-2) http://catalog.mit.edu/degree-charts/theater-arts-course-21m-2/\n",
      "Writing (Course 21W) http://catalog.mit.edu/degree-charts/writing-course-21w/\n",
      "Business Analytics (Course 15-2) http://catalog.mit.edu/degree-charts/business-analytics-course-15-2/\n",
      "Finance (Course 15-3) http://catalog.mit.edu/degree-charts/finance-course-15-3/\n",
      "Management (Course 15-1) http://catalog.mit.edu/degree-charts/management-course-15-1/\n",
      "Biology (Course 7) http://catalog.mit.edu/degree-charts/biology-course-7/\n",
      "Biology (Course 7-A) http://catalog.mit.edu/degree-charts/biology-course-7-a/\n",
      "Brain and Cognitive Sciences (Course 9) http://catalog.mit.edu/degree-charts/brain-cognitive-sciences-course-9/\n",
      "Chemistry (Course 5) http://catalog.mit.edu/degree-charts/chemistry-course-5/\n",
      "Earth, Atmospheric, and Planetary Sciences (Course 12) http://catalog.mit.edu/degree-charts/earth-atmospheric-planetary-sciences-course-12/\n",
      "Mathematics (Course 18) http://catalog.mit.edu/degree-charts/mathematics-course-18/\n",
      "Mathematics with Computer Science (Course 18-C) http://catalog.mit.edu/degree-charts/mathematics-computer-science-course-18-c/\n",
      "Physics (Course 8) http://catalog.mit.edu/degree-charts/physics-course-8/\n",
      "Chemistry and Biology (Course 5-7) http://catalog.mit.edu/degree-charts/chemistry-biology-course-5-7/\n",
      "Computer Science and Molecular Biology (Course 6-7) http://catalog.mit.edu/degree-charts/computer-science-molecular-biology-course-6-7/\n",
      "Computer Science, Economics, and Data Science (Course 6-14) http://catalog.mit.edu/degree-charts/computer-science-economics-data-science-course-6-14/\n",
      "Urban Science and Planning with Computer Science (Course 11-6) http://catalog.mit.edu/degree-charts/urban-science-planning-computer-science-11-6/\n",
      "Computer Science and Molecular Biology (Course 6-7P) http://catalog.mit.edu/degree-charts/master-computer-science-molecular-biology-course-6-7p/\n",
      "Interdisciplinary Doctor of Philosophy in Statistics http://catalog.mit.edu/degree-charts/interdisciplinary-doctoral-statistics/\n",
      "Master's Degrees in Supply Chain Management http://catalog.mit.edu/degree-charts/master-supply-chain-management/\n",
      "Master of Science in Technology and Policy http://catalog.mit.edu/degree-charts/master-technology-policy/\n",
      "Master of Science in Transportation (MST) http://catalog.mit.edu/degree-charts/master-transportation/\n"
     ]
    }
   ],
   "source": [
    "lis=['Course','URL','University']\n",
    "info=[]\n",
    "info.append(lis)\n",
    "\n",
    "from selenium import webdriver\n",
    "import csv\n",
    "\n",
    "chrome_options = webdriver.ChromeOptions()\n",
    "chrome_options.add_argument('--no-sandbox')\n",
    "driver = webdriver.Chrome(\"C:\\\\Users\\MOHAN KUMAR SAH\\Documents\\My Work\\PakkaIndia\\chromedriver\",chrome_options=chrome_options)\n",
    "\n",
    "driver.get('http://catalog.mit.edu/degree-charts/')\n",
    "data1=driver.find_elements_by_id('/degree-charts/')\n",
    "data2=data1[0].find_elements_by_tag_name('li')\n",
    "l=len(data2)\n",
    "for i in range(l):\n",
    "    data1=driver.find_elements_by_id('/degree-charts/')\n",
    "    data2=data1[0].find_elements_by_tag_name('li')\n",
    "    data3=data2[i].find_elements_by_tag_name('a')\n",
    "    if(len(data3)!=0):\n",
    "        url=data3[0].get_attribute('href')\n",
    "        \n",
    "        driver.get(url)\n",
    "        data4=driver.find_elements_by_class_name('page-title')\n",
    "        c=data4[0].text\n",
    "        \n",
    "        info.append([c,url,'Massachusetts Institute of Technology'])\n",
    "        print(c,url)\n",
    "        \n",
    "        driver.back()\n",
    "driver.quit()"
   ]
  },
  {
   "cell_type": "code",
   "execution_count": 93,
   "metadata": {},
   "outputs": [
    {
     "data": {
      "text/plain": [
       "60"
      ]
     },
     "execution_count": 93,
     "metadata": {},
     "output_type": "execute_result"
    }
   ],
   "source": [
    "len(info)"
   ]
  },
  {
   "cell_type": "code",
   "execution_count": 94,
   "metadata": {},
   "outputs": [],
   "source": [
    "with open('Massachusetts_Institute_of_Technology.csv','w',encoding=\"utf-8\",newline=\"\") as file:\n",
    "    write=csv.writer(file)\n",
    "    for row in info:\n",
    "        write.writerow(row)"
   ]
  },
  {
   "cell_type": "code",
   "execution_count": null,
   "metadata": {},
   "outputs": [],
   "source": []
  }
 ],
 "metadata": {
  "kernelspec": {
   "display_name": "Python 3",
   "language": "python",
   "name": "python3"
  },
  "language_info": {
   "codemirror_mode": {
    "name": "ipython",
    "version": 3
   },
   "file_extension": ".py",
   "mimetype": "text/x-python",
   "name": "python",
   "nbconvert_exporter": "python",
   "pygments_lexer": "ipython3",
   "version": "3.6.5"
  }
 },
 "nbformat": 4,
 "nbformat_minor": 2
}
