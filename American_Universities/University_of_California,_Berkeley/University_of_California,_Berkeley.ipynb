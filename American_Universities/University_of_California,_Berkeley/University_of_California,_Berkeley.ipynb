{
 "cells": [
  {
   "cell_type": "code",
   "execution_count": 2,
   "metadata": {},
   "outputs": [
    {
     "name": "stderr",
     "output_type": "stream",
     "text": [
      "C:\\ProgramData\\Anaconda3\\lib\\site-packages\\ipykernel_launcher.py:10: DeprecationWarning: use options instead of chrome_options\n",
      "  # Remove the CWD from sys.path while we load stuff.\n"
     ]
    }
   ],
   "source": [
    "from selenium import webdriver\n",
    "import csv\n",
    "\n",
    "chrome_options = webdriver.ChromeOptions()\n",
    "chrome_options.add_argument('--no-sandbox')\n",
    "driver = webdriver.Chrome(\"C:\\\\Users\\MOHAN KUMAR SAH\\Documents\\My Work\\PakkaIndia\\chromedriver\",chrome_options=chrome_options)"
   ]
  },
  {
   "cell_type": "code",
   "execution_count": 3,
   "metadata": {},
   "outputs": [],
   "source": [
    "driver.get('http://guide.berkeley.edu/courses/')"
   ]
  },
  {
   "cell_type": "code",
   "execution_count": 4,
   "metadata": {},
   "outputs": [
    {
     "data": {
      "text/plain": [
       "[<selenium.webdriver.remote.webelement.WebElement (session=\"3941170fc2806a052be29c0b826c7775\", element=\"0.19016006869152324-1\")>]"
      ]
     },
     "execution_count": 4,
     "metadata": {},
     "output_type": "execute_result"
    }
   ],
   "source": [
    "data1=driver.find_elements_by_id('atozindex')\n",
    "data1"
   ]
  },
  {
   "cell_type": "code",
   "execution_count": 7,
   "metadata": {},
   "outputs": [
    {
     "data": {
      "text/plain": [
       "[<selenium.webdriver.remote.webelement.WebElement (session=\"3941170fc2806a052be29c0b826c7775\", element=\"0.19016006869152324-208\")>,\n",
       " <selenium.webdriver.remote.webelement.WebElement (session=\"3941170fc2806a052be29c0b826c7775\", element=\"0.19016006869152324-209\")>,\n",
       " <selenium.webdriver.remote.webelement.WebElement (session=\"3941170fc2806a052be29c0b826c7775\", element=\"0.19016006869152324-210\")>,\n",
       " <selenium.webdriver.remote.webelement.WebElement (session=\"3941170fc2806a052be29c0b826c7775\", element=\"0.19016006869152324-211\")>,\n",
       " <selenium.webdriver.remote.webelement.WebElement (session=\"3941170fc2806a052be29c0b826c7775\", element=\"0.19016006869152324-212\")>,\n",
       " <selenium.webdriver.remote.webelement.WebElement (session=\"3941170fc2806a052be29c0b826c7775\", element=\"0.19016006869152324-213\")>,\n",
       " <selenium.webdriver.remote.webelement.WebElement (session=\"3941170fc2806a052be29c0b826c7775\", element=\"0.19016006869152324-214\")>,\n",
       " <selenium.webdriver.remote.webelement.WebElement (session=\"3941170fc2806a052be29c0b826c7775\", element=\"0.19016006869152324-215\")>,\n",
       " <selenium.webdriver.remote.webelement.WebElement (session=\"3941170fc2806a052be29c0b826c7775\", element=\"0.19016006869152324-216\")>,\n",
       " <selenium.webdriver.remote.webelement.WebElement (session=\"3941170fc2806a052be29c0b826c7775\", element=\"0.19016006869152324-217\")>,\n",
       " <selenium.webdriver.remote.webelement.WebElement (session=\"3941170fc2806a052be29c0b826c7775\", element=\"0.19016006869152324-218\")>,\n",
       " <selenium.webdriver.remote.webelement.WebElement (session=\"3941170fc2806a052be29c0b826c7775\", element=\"0.19016006869152324-219\")>,\n",
       " <selenium.webdriver.remote.webelement.WebElement (session=\"3941170fc2806a052be29c0b826c7775\", element=\"0.19016006869152324-220\")>,\n",
       " <selenium.webdriver.remote.webelement.WebElement (session=\"3941170fc2806a052be29c0b826c7775\", element=\"0.19016006869152324-221\")>,\n",
       " <selenium.webdriver.remote.webelement.WebElement (session=\"3941170fc2806a052be29c0b826c7775\", element=\"0.19016006869152324-222\")>,\n",
       " <selenium.webdriver.remote.webelement.WebElement (session=\"3941170fc2806a052be29c0b826c7775\", element=\"0.19016006869152324-223\")>,\n",
       " <selenium.webdriver.remote.webelement.WebElement (session=\"3941170fc2806a052be29c0b826c7775\", element=\"0.19016006869152324-224\")>,\n",
       " <selenium.webdriver.remote.webelement.WebElement (session=\"3941170fc2806a052be29c0b826c7775\", element=\"0.19016006869152324-225\")>,\n",
       " <selenium.webdriver.remote.webelement.WebElement (session=\"3941170fc2806a052be29c0b826c7775\", element=\"0.19016006869152324-226\")>,\n",
       " <selenium.webdriver.remote.webelement.WebElement (session=\"3941170fc2806a052be29c0b826c7775\", element=\"0.19016006869152324-227\")>,\n",
       " <selenium.webdriver.remote.webelement.WebElement (session=\"3941170fc2806a052be29c0b826c7775\", element=\"0.19016006869152324-228\")>,\n",
       " <selenium.webdriver.remote.webelement.WebElement (session=\"3941170fc2806a052be29c0b826c7775\", element=\"0.19016006869152324-229\")>,\n",
       " <selenium.webdriver.remote.webelement.WebElement (session=\"3941170fc2806a052be29c0b826c7775\", element=\"0.19016006869152324-230\")>,\n",
       " <selenium.webdriver.remote.webelement.WebElement (session=\"3941170fc2806a052be29c0b826c7775\", element=\"0.19016006869152324-231\")>,\n",
       " <selenium.webdriver.remote.webelement.WebElement (session=\"3941170fc2806a052be29c0b826c7775\", element=\"0.19016006869152324-232\")>,\n",
       " <selenium.webdriver.remote.webelement.WebElement (session=\"3941170fc2806a052be29c0b826c7775\", element=\"0.19016006869152324-233\")>,\n",
       " <selenium.webdriver.remote.webelement.WebElement (session=\"3941170fc2806a052be29c0b826c7775\", element=\"0.19016006869152324-234\")>,\n",
       " <selenium.webdriver.remote.webelement.WebElement (session=\"3941170fc2806a052be29c0b826c7775\", element=\"0.19016006869152324-235\")>,\n",
       " <selenium.webdriver.remote.webelement.WebElement (session=\"3941170fc2806a052be29c0b826c7775\", element=\"0.19016006869152324-236\")>,\n",
       " <selenium.webdriver.remote.webelement.WebElement (session=\"3941170fc2806a052be29c0b826c7775\", element=\"0.19016006869152324-237\")>,\n",
       " <selenium.webdriver.remote.webelement.WebElement (session=\"3941170fc2806a052be29c0b826c7775\", element=\"0.19016006869152324-238\")>,\n",
       " <selenium.webdriver.remote.webelement.WebElement (session=\"3941170fc2806a052be29c0b826c7775\", element=\"0.19016006869152324-239\")>,\n",
       " <selenium.webdriver.remote.webelement.WebElement (session=\"3941170fc2806a052be29c0b826c7775\", element=\"0.19016006869152324-240\")>,\n",
       " <selenium.webdriver.remote.webelement.WebElement (session=\"3941170fc2806a052be29c0b826c7775\", element=\"0.19016006869152324-241\")>,\n",
       " <selenium.webdriver.remote.webelement.WebElement (session=\"3941170fc2806a052be29c0b826c7775\", element=\"0.19016006869152324-242\")>,\n",
       " <selenium.webdriver.remote.webelement.WebElement (session=\"3941170fc2806a052be29c0b826c7775\", element=\"0.19016006869152324-243\")>,\n",
       " <selenium.webdriver.remote.webelement.WebElement (session=\"3941170fc2806a052be29c0b826c7775\", element=\"0.19016006869152324-244\")>,\n",
       " <selenium.webdriver.remote.webelement.WebElement (session=\"3941170fc2806a052be29c0b826c7775\", element=\"0.19016006869152324-245\")>,\n",
       " <selenium.webdriver.remote.webelement.WebElement (session=\"3941170fc2806a052be29c0b826c7775\", element=\"0.19016006869152324-246\")>,\n",
       " <selenium.webdriver.remote.webelement.WebElement (session=\"3941170fc2806a052be29c0b826c7775\", element=\"0.19016006869152324-247\")>,\n",
       " <selenium.webdriver.remote.webelement.WebElement (session=\"3941170fc2806a052be29c0b826c7775\", element=\"0.19016006869152324-248\")>,\n",
       " <selenium.webdriver.remote.webelement.WebElement (session=\"3941170fc2806a052be29c0b826c7775\", element=\"0.19016006869152324-249\")>,\n",
       " <selenium.webdriver.remote.webelement.WebElement (session=\"3941170fc2806a052be29c0b826c7775\", element=\"0.19016006869152324-250\")>,\n",
       " <selenium.webdriver.remote.webelement.WebElement (session=\"3941170fc2806a052be29c0b826c7775\", element=\"0.19016006869152324-251\")>,\n",
       " <selenium.webdriver.remote.webelement.WebElement (session=\"3941170fc2806a052be29c0b826c7775\", element=\"0.19016006869152324-252\")>,\n",
       " <selenium.webdriver.remote.webelement.WebElement (session=\"3941170fc2806a052be29c0b826c7775\", element=\"0.19016006869152324-253\")>,\n",
       " <selenium.webdriver.remote.webelement.WebElement (session=\"3941170fc2806a052be29c0b826c7775\", element=\"0.19016006869152324-254\")>,\n",
       " <selenium.webdriver.remote.webelement.WebElement (session=\"3941170fc2806a052be29c0b826c7775\", element=\"0.19016006869152324-255\")>,\n",
       " <selenium.webdriver.remote.webelement.WebElement (session=\"3941170fc2806a052be29c0b826c7775\", element=\"0.19016006869152324-256\")>,\n",
       " <selenium.webdriver.remote.webelement.WebElement (session=\"3941170fc2806a052be29c0b826c7775\", element=\"0.19016006869152324-257\")>,\n",
       " <selenium.webdriver.remote.webelement.WebElement (session=\"3941170fc2806a052be29c0b826c7775\", element=\"0.19016006869152324-258\")>,\n",
       " <selenium.webdriver.remote.webelement.WebElement (session=\"3941170fc2806a052be29c0b826c7775\", element=\"0.19016006869152324-259\")>,\n",
       " <selenium.webdriver.remote.webelement.WebElement (session=\"3941170fc2806a052be29c0b826c7775\", element=\"0.19016006869152324-260\")>,\n",
       " <selenium.webdriver.remote.webelement.WebElement (session=\"3941170fc2806a052be29c0b826c7775\", element=\"0.19016006869152324-261\")>,\n",
       " <selenium.webdriver.remote.webelement.WebElement (session=\"3941170fc2806a052be29c0b826c7775\", element=\"0.19016006869152324-262\")>,\n",
       " <selenium.webdriver.remote.webelement.WebElement (session=\"3941170fc2806a052be29c0b826c7775\", element=\"0.19016006869152324-263\")>,\n",
       " <selenium.webdriver.remote.webelement.WebElement (session=\"3941170fc2806a052be29c0b826c7775\", element=\"0.19016006869152324-264\")>,\n",
       " <selenium.webdriver.remote.webelement.WebElement (session=\"3941170fc2806a052be29c0b826c7775\", element=\"0.19016006869152324-265\")>,\n",
       " <selenium.webdriver.remote.webelement.WebElement (session=\"3941170fc2806a052be29c0b826c7775\", element=\"0.19016006869152324-266\")>,\n",
       " <selenium.webdriver.remote.webelement.WebElement (session=\"3941170fc2806a052be29c0b826c7775\", element=\"0.19016006869152324-267\")>,\n",
       " <selenium.webdriver.remote.webelement.WebElement (session=\"3941170fc2806a052be29c0b826c7775\", element=\"0.19016006869152324-268\")>,\n",
       " <selenium.webdriver.remote.webelement.WebElement (session=\"3941170fc2806a052be29c0b826c7775\", element=\"0.19016006869152324-269\")>,\n",
       " <selenium.webdriver.remote.webelement.WebElement (session=\"3941170fc2806a052be29c0b826c7775\", element=\"0.19016006869152324-270\")>,\n",
       " <selenium.webdriver.remote.webelement.WebElement (session=\"3941170fc2806a052be29c0b826c7775\", element=\"0.19016006869152324-271\")>,\n",
       " <selenium.webdriver.remote.webelement.WebElement (session=\"3941170fc2806a052be29c0b826c7775\", element=\"0.19016006869152324-272\")>,\n",
       " <selenium.webdriver.remote.webelement.WebElement (session=\"3941170fc2806a052be29c0b826c7775\", element=\"0.19016006869152324-273\")>,\n",
       " <selenium.webdriver.remote.webelement.WebElement (session=\"3941170fc2806a052be29c0b826c7775\", element=\"0.19016006869152324-274\")>,\n",
       " <selenium.webdriver.remote.webelement.WebElement (session=\"3941170fc2806a052be29c0b826c7775\", element=\"0.19016006869152324-275\")>,\n",
       " <selenium.webdriver.remote.webelement.WebElement (session=\"3941170fc2806a052be29c0b826c7775\", element=\"0.19016006869152324-276\")>,\n",
       " <selenium.webdriver.remote.webelement.WebElement (session=\"3941170fc2806a052be29c0b826c7775\", element=\"0.19016006869152324-277\")>,\n",
       " <selenium.webdriver.remote.webelement.WebElement (session=\"3941170fc2806a052be29c0b826c7775\", element=\"0.19016006869152324-278\")>,\n",
       " <selenium.webdriver.remote.webelement.WebElement (session=\"3941170fc2806a052be29c0b826c7775\", element=\"0.19016006869152324-279\")>,\n",
       " <selenium.webdriver.remote.webelement.WebElement (session=\"3941170fc2806a052be29c0b826c7775\", element=\"0.19016006869152324-280\")>,\n",
       " <selenium.webdriver.remote.webelement.WebElement (session=\"3941170fc2806a052be29c0b826c7775\", element=\"0.19016006869152324-281\")>,\n",
       " <selenium.webdriver.remote.webelement.WebElement (session=\"3941170fc2806a052be29c0b826c7775\", element=\"0.19016006869152324-282\")>,\n",
       " <selenium.webdriver.remote.webelement.WebElement (session=\"3941170fc2806a052be29c0b826c7775\", element=\"0.19016006869152324-283\")>,\n",
       " <selenium.webdriver.remote.webelement.WebElement (session=\"3941170fc2806a052be29c0b826c7775\", element=\"0.19016006869152324-284\")>,\n",
       " <selenium.webdriver.remote.webelement.WebElement (session=\"3941170fc2806a052be29c0b826c7775\", element=\"0.19016006869152324-285\")>,\n",
       " <selenium.webdriver.remote.webelement.WebElement (session=\"3941170fc2806a052be29c0b826c7775\", element=\"0.19016006869152324-286\")>,\n",
       " <selenium.webdriver.remote.webelement.WebElement (session=\"3941170fc2806a052be29c0b826c7775\", element=\"0.19016006869152324-287\")>,\n",
       " <selenium.webdriver.remote.webelement.WebElement (session=\"3941170fc2806a052be29c0b826c7775\", element=\"0.19016006869152324-288\")>,\n",
       " <selenium.webdriver.remote.webelement.WebElement (session=\"3941170fc2806a052be29c0b826c7775\", element=\"0.19016006869152324-289\")>,\n",
       " <selenium.webdriver.remote.webelement.WebElement (session=\"3941170fc2806a052be29c0b826c7775\", element=\"0.19016006869152324-290\")>,\n",
       " <selenium.webdriver.remote.webelement.WebElement (session=\"3941170fc2806a052be29c0b826c7775\", element=\"0.19016006869152324-291\")>,\n",
       " <selenium.webdriver.remote.webelement.WebElement (session=\"3941170fc2806a052be29c0b826c7775\", element=\"0.19016006869152324-292\")>,\n",
       " <selenium.webdriver.remote.webelement.WebElement (session=\"3941170fc2806a052be29c0b826c7775\", element=\"0.19016006869152324-293\")>,\n",
       " <selenium.webdriver.remote.webelement.WebElement (session=\"3941170fc2806a052be29c0b826c7775\", element=\"0.19016006869152324-294\")>,\n",
       " <selenium.webdriver.remote.webelement.WebElement (session=\"3941170fc2806a052be29c0b826c7775\", element=\"0.19016006869152324-295\")>,\n",
       " <selenium.webdriver.remote.webelement.WebElement (session=\"3941170fc2806a052be29c0b826c7775\", element=\"0.19016006869152324-296\")>,\n",
       " <selenium.webdriver.remote.webelement.WebElement (session=\"3941170fc2806a052be29c0b826c7775\", element=\"0.19016006869152324-297\")>,\n",
       " <selenium.webdriver.remote.webelement.WebElement (session=\"3941170fc2806a052be29c0b826c7775\", element=\"0.19016006869152324-298\")>,\n",
       " <selenium.webdriver.remote.webelement.WebElement (session=\"3941170fc2806a052be29c0b826c7775\", element=\"0.19016006869152324-299\")>,\n",
       " <selenium.webdriver.remote.webelement.WebElement (session=\"3941170fc2806a052be29c0b826c7775\", element=\"0.19016006869152324-300\")>,\n",
       " <selenium.webdriver.remote.webelement.WebElement (session=\"3941170fc2806a052be29c0b826c7775\", element=\"0.19016006869152324-301\")>,\n",
       " <selenium.webdriver.remote.webelement.WebElement (session=\"3941170fc2806a052be29c0b826c7775\", element=\"0.19016006869152324-302\")>,\n",
       " <selenium.webdriver.remote.webelement.WebElement (session=\"3941170fc2806a052be29c0b826c7775\", element=\"0.19016006869152324-303\")>,\n",
       " <selenium.webdriver.remote.webelement.WebElement (session=\"3941170fc2806a052be29c0b826c7775\", element=\"0.19016006869152324-304\")>,\n",
       " <selenium.webdriver.remote.webelement.WebElement (session=\"3941170fc2806a052be29c0b826c7775\", element=\"0.19016006869152324-305\")>,\n",
       " <selenium.webdriver.remote.webelement.WebElement (session=\"3941170fc2806a052be29c0b826c7775\", element=\"0.19016006869152324-306\")>,\n",
       " <selenium.webdriver.remote.webelement.WebElement (session=\"3941170fc2806a052be29c0b826c7775\", element=\"0.19016006869152324-307\")>,\n",
       " <selenium.webdriver.remote.webelement.WebElement (session=\"3941170fc2806a052be29c0b826c7775\", element=\"0.19016006869152324-308\")>,\n",
       " <selenium.webdriver.remote.webelement.WebElement (session=\"3941170fc2806a052be29c0b826c7775\", element=\"0.19016006869152324-309\")>,\n",
       " <selenium.webdriver.remote.webelement.WebElement (session=\"3941170fc2806a052be29c0b826c7775\", element=\"0.19016006869152324-310\")>,\n",
       " <selenium.webdriver.remote.webelement.WebElement (session=\"3941170fc2806a052be29c0b826c7775\", element=\"0.19016006869152324-311\")>,\n",
       " <selenium.webdriver.remote.webelement.WebElement (session=\"3941170fc2806a052be29c0b826c7775\", element=\"0.19016006869152324-312\")>,\n",
       " <selenium.webdriver.remote.webelement.WebElement (session=\"3941170fc2806a052be29c0b826c7775\", element=\"0.19016006869152324-313\")>,\n",
       " <selenium.webdriver.remote.webelement.WebElement (session=\"3941170fc2806a052be29c0b826c7775\", element=\"0.19016006869152324-314\")>,\n",
       " <selenium.webdriver.remote.webelement.WebElement (session=\"3941170fc2806a052be29c0b826c7775\", element=\"0.19016006869152324-315\")>,\n",
       " <selenium.webdriver.remote.webelement.WebElement (session=\"3941170fc2806a052be29c0b826c7775\", element=\"0.19016006869152324-316\")>,\n",
       " <selenium.webdriver.remote.webelement.WebElement (session=\"3941170fc2806a052be29c0b826c7775\", element=\"0.19016006869152324-317\")>,\n",
       " <selenium.webdriver.remote.webelement.WebElement (session=\"3941170fc2806a052be29c0b826c7775\", element=\"0.19016006869152324-318\")>,\n",
       " <selenium.webdriver.remote.webelement.WebElement (session=\"3941170fc2806a052be29c0b826c7775\", element=\"0.19016006869152324-319\")>,\n",
       " <selenium.webdriver.remote.webelement.WebElement (session=\"3941170fc2806a052be29c0b826c7775\", element=\"0.19016006869152324-320\")>,\n",
       " <selenium.webdriver.remote.webelement.WebElement (session=\"3941170fc2806a052be29c0b826c7775\", element=\"0.19016006869152324-321\")>,\n",
       " <selenium.webdriver.remote.webelement.WebElement (session=\"3941170fc2806a052be29c0b826c7775\", element=\"0.19016006869152324-322\")>,\n",
       " <selenium.webdriver.remote.webelement.WebElement (session=\"3941170fc2806a052be29c0b826c7775\", element=\"0.19016006869152324-323\")>,\n",
       " <selenium.webdriver.remote.webelement.WebElement (session=\"3941170fc2806a052be29c0b826c7775\", element=\"0.19016006869152324-324\")>,\n",
       " <selenium.webdriver.remote.webelement.WebElement (session=\"3941170fc2806a052be29c0b826c7775\", element=\"0.19016006869152324-325\")>,\n",
       " <selenium.webdriver.remote.webelement.WebElement (session=\"3941170fc2806a052be29c0b826c7775\", element=\"0.19016006869152324-326\")>,\n",
       " <selenium.webdriver.remote.webelement.WebElement (session=\"3941170fc2806a052be29c0b826c7775\", element=\"0.19016006869152324-327\")>,\n",
       " <selenium.webdriver.remote.webelement.WebElement (session=\"3941170fc2806a052be29c0b826c7775\", element=\"0.19016006869152324-328\")>,\n",
       " <selenium.webdriver.remote.webelement.WebElement (session=\"3941170fc2806a052be29c0b826c7775\", element=\"0.19016006869152324-329\")>,\n",
       " <selenium.webdriver.remote.webelement.WebElement (session=\"3941170fc2806a052be29c0b826c7775\", element=\"0.19016006869152324-330\")>,\n",
       " <selenium.webdriver.remote.webelement.WebElement (session=\"3941170fc2806a052be29c0b826c7775\", element=\"0.19016006869152324-331\")>,\n",
       " <selenium.webdriver.remote.webelement.WebElement (session=\"3941170fc2806a052be29c0b826c7775\", element=\"0.19016006869152324-332\")>,\n",
       " <selenium.webdriver.remote.webelement.WebElement (session=\"3941170fc2806a052be29c0b826c7775\", element=\"0.19016006869152324-333\")>,\n",
       " <selenium.webdriver.remote.webelement.WebElement (session=\"3941170fc2806a052be29c0b826c7775\", element=\"0.19016006869152324-334\")>,\n",
       " <selenium.webdriver.remote.webelement.WebElement (session=\"3941170fc2806a052be29c0b826c7775\", element=\"0.19016006869152324-335\")>,\n",
       " <selenium.webdriver.remote.webelement.WebElement (session=\"3941170fc2806a052be29c0b826c7775\", element=\"0.19016006869152324-336\")>,\n",
       " <selenium.webdriver.remote.webelement.WebElement (session=\"3941170fc2806a052be29c0b826c7775\", element=\"0.19016006869152324-337\")>,\n",
       " <selenium.webdriver.remote.webelement.WebElement (session=\"3941170fc2806a052be29c0b826c7775\", element=\"0.19016006869152324-338\")>,\n",
       " <selenium.webdriver.remote.webelement.WebElement (session=\"3941170fc2806a052be29c0b826c7775\", element=\"0.19016006869152324-339\")>,\n",
       " <selenium.webdriver.remote.webelement.WebElement (session=\"3941170fc2806a052be29c0b826c7775\", element=\"0.19016006869152324-340\")>,\n",
       " <selenium.webdriver.remote.webelement.WebElement (session=\"3941170fc2806a052be29c0b826c7775\", element=\"0.19016006869152324-341\")>,\n",
       " <selenium.webdriver.remote.webelement.WebElement (session=\"3941170fc2806a052be29c0b826c7775\", element=\"0.19016006869152324-342\")>,\n",
       " <selenium.webdriver.remote.webelement.WebElement (session=\"3941170fc2806a052be29c0b826c7775\", element=\"0.19016006869152324-343\")>,\n",
       " <selenium.webdriver.remote.webelement.WebElement (session=\"3941170fc2806a052be29c0b826c7775\", element=\"0.19016006869152324-344\")>,\n",
       " <selenium.webdriver.remote.webelement.WebElement (session=\"3941170fc2806a052be29c0b826c7775\", element=\"0.19016006869152324-345\")>,\n",
       " <selenium.webdriver.remote.webelement.WebElement (session=\"3941170fc2806a052be29c0b826c7775\", element=\"0.19016006869152324-346\")>,\n",
       " <selenium.webdriver.remote.webelement.WebElement (session=\"3941170fc2806a052be29c0b826c7775\", element=\"0.19016006869152324-347\")>,\n",
       " <selenium.webdriver.remote.webelement.WebElement (session=\"3941170fc2806a052be29c0b826c7775\", element=\"0.19016006869152324-348\")>,\n",
       " <selenium.webdriver.remote.webelement.WebElement (session=\"3941170fc2806a052be29c0b826c7775\", element=\"0.19016006869152324-349\")>,\n",
       " <selenium.webdriver.remote.webelement.WebElement (session=\"3941170fc2806a052be29c0b826c7775\", element=\"0.19016006869152324-350\")>,\n",
       " <selenium.webdriver.remote.webelement.WebElement (session=\"3941170fc2806a052be29c0b826c7775\", element=\"0.19016006869152324-351\")>,\n",
       " <selenium.webdriver.remote.webelement.WebElement (session=\"3941170fc2806a052be29c0b826c7775\", element=\"0.19016006869152324-352\")>,\n",
       " <selenium.webdriver.remote.webelement.WebElement (session=\"3941170fc2806a052be29c0b826c7775\", element=\"0.19016006869152324-353\")>,\n",
       " <selenium.webdriver.remote.webelement.WebElement (session=\"3941170fc2806a052be29c0b826c7775\", element=\"0.19016006869152324-354\")>,\n",
       " <selenium.webdriver.remote.webelement.WebElement (session=\"3941170fc2806a052be29c0b826c7775\", element=\"0.19016006869152324-355\")>,\n",
       " <selenium.webdriver.remote.webelement.WebElement (session=\"3941170fc2806a052be29c0b826c7775\", element=\"0.19016006869152324-356\")>,\n",
       " <selenium.webdriver.remote.webelement.WebElement (session=\"3941170fc2806a052be29c0b826c7775\", element=\"0.19016006869152324-357\")>,\n",
       " <selenium.webdriver.remote.webelement.WebElement (session=\"3941170fc2806a052be29c0b826c7775\", element=\"0.19016006869152324-358\")>,\n",
       " <selenium.webdriver.remote.webelement.WebElement (session=\"3941170fc2806a052be29c0b826c7775\", element=\"0.19016006869152324-359\")>,\n",
       " <selenium.webdriver.remote.webelement.WebElement (session=\"3941170fc2806a052be29c0b826c7775\", element=\"0.19016006869152324-360\")>,\n",
       " <selenium.webdriver.remote.webelement.WebElement (session=\"3941170fc2806a052be29c0b826c7775\", element=\"0.19016006869152324-361\")>,\n",
       " <selenium.webdriver.remote.webelement.WebElement (session=\"3941170fc2806a052be29c0b826c7775\", element=\"0.19016006869152324-362\")>,\n",
       " <selenium.webdriver.remote.webelement.WebElement (session=\"3941170fc2806a052be29c0b826c7775\", element=\"0.19016006869152324-363\")>,\n",
       " <selenium.webdriver.remote.webelement.WebElement (session=\"3941170fc2806a052be29c0b826c7775\", element=\"0.19016006869152324-364\")>,\n",
       " <selenium.webdriver.remote.webelement.WebElement (session=\"3941170fc2806a052be29c0b826c7775\", element=\"0.19016006869152324-365\")>,\n",
       " <selenium.webdriver.remote.webelement.WebElement (session=\"3941170fc2806a052be29c0b826c7775\", element=\"0.19016006869152324-366\")>,\n",
       " <selenium.webdriver.remote.webelement.WebElement (session=\"3941170fc2806a052be29c0b826c7775\", element=\"0.19016006869152324-367\")>,\n",
       " <selenium.webdriver.remote.webelement.WebElement (session=\"3941170fc2806a052be29c0b826c7775\", element=\"0.19016006869152324-368\")>,\n",
       " <selenium.webdriver.remote.webelement.WebElement (session=\"3941170fc2806a052be29c0b826c7775\", element=\"0.19016006869152324-369\")>,\n",
       " <selenium.webdriver.remote.webelement.WebElement (session=\"3941170fc2806a052be29c0b826c7775\", element=\"0.19016006869152324-370\")>,\n",
       " <selenium.webdriver.remote.webelement.WebElement (session=\"3941170fc2806a052be29c0b826c7775\", element=\"0.19016006869152324-371\")>,\n",
       " <selenium.webdriver.remote.webelement.WebElement (session=\"3941170fc2806a052be29c0b826c7775\", element=\"0.19016006869152324-372\")>,\n",
       " <selenium.webdriver.remote.webelement.WebElement (session=\"3941170fc2806a052be29c0b826c7775\", element=\"0.19016006869152324-373\")>,\n",
       " <selenium.webdriver.remote.webelement.WebElement (session=\"3941170fc2806a052be29c0b826c7775\", element=\"0.19016006869152324-374\")>,\n",
       " <selenium.webdriver.remote.webelement.WebElement (session=\"3941170fc2806a052be29c0b826c7775\", element=\"0.19016006869152324-375\")>,\n",
       " <selenium.webdriver.remote.webelement.WebElement (session=\"3941170fc2806a052be29c0b826c7775\", element=\"0.19016006869152324-376\")>,\n",
       " <selenium.webdriver.remote.webelement.WebElement (session=\"3941170fc2806a052be29c0b826c7775\", element=\"0.19016006869152324-377\")>,\n",
       " <selenium.webdriver.remote.webelement.WebElement (session=\"3941170fc2806a052be29c0b826c7775\", element=\"0.19016006869152324-378\")>,\n",
       " <selenium.webdriver.remote.webelement.WebElement (session=\"3941170fc2806a052be29c0b826c7775\", element=\"0.19016006869152324-379\")>,\n",
       " <selenium.webdriver.remote.webelement.WebElement (session=\"3941170fc2806a052be29c0b826c7775\", element=\"0.19016006869152324-380\")>,\n",
       " <selenium.webdriver.remote.webelement.WebElement (session=\"3941170fc2806a052be29c0b826c7775\", element=\"0.19016006869152324-381\")>,\n",
       " <selenium.webdriver.remote.webelement.WebElement (session=\"3941170fc2806a052be29c0b826c7775\", element=\"0.19016006869152324-382\")>,\n",
       " <selenium.webdriver.remote.webelement.WebElement (session=\"3941170fc2806a052be29c0b826c7775\", element=\"0.19016006869152324-383\")>,\n",
       " <selenium.webdriver.remote.webelement.WebElement (session=\"3941170fc2806a052be29c0b826c7775\", element=\"0.19016006869152324-384\")>,\n",
       " <selenium.webdriver.remote.webelement.WebElement (session=\"3941170fc2806a052be29c0b826c7775\", element=\"0.19016006869152324-385\")>,\n",
       " <selenium.webdriver.remote.webelement.WebElement (session=\"3941170fc2806a052be29c0b826c7775\", element=\"0.19016006869152324-386\")>,\n",
       " <selenium.webdriver.remote.webelement.WebElement (session=\"3941170fc2806a052be29c0b826c7775\", element=\"0.19016006869152324-387\")>,\n",
       " <selenium.webdriver.remote.webelement.WebElement (session=\"3941170fc2806a052be29c0b826c7775\", element=\"0.19016006869152324-388\")>,\n",
       " <selenium.webdriver.remote.webelement.WebElement (session=\"3941170fc2806a052be29c0b826c7775\", element=\"0.19016006869152324-389\")>,\n",
       " <selenium.webdriver.remote.webelement.WebElement (session=\"3941170fc2806a052be29c0b826c7775\", element=\"0.19016006869152324-390\")>,\n",
       " <selenium.webdriver.remote.webelement.WebElement (session=\"3941170fc2806a052be29c0b826c7775\", element=\"0.19016006869152324-391\")>]"
      ]
     },
     "execution_count": 7,
     "metadata": {},
     "output_type": "execute_result"
    }
   ],
   "source": [
    "data2=data1[0].find_elements_by_tag_name('li')\n",
    "data2"
   ]
  },
  {
   "cell_type": "code",
   "execution_count": 9,
   "metadata": {},
   "outputs": [
    {
     "data": {
      "text/plain": [
       "184"
      ]
     },
     "execution_count": 9,
     "metadata": {},
     "output_type": "execute_result"
    }
   ],
   "source": [
    "len(data2)"
   ]
  },
  {
   "cell_type": "code",
   "execution_count": 11,
   "metadata": {},
   "outputs": [
    {
     "data": {
      "text/plain": [
       "'Aerospace Studies (AEROSPC)'"
      ]
     },
     "execution_count": 11,
     "metadata": {},
     "output_type": "execute_result"
    }
   ],
   "source": [
    "data2[0].text"
   ]
  },
  {
   "cell_type": "code",
   "execution_count": 13,
   "metadata": {},
   "outputs": [
    {
     "data": {
      "text/plain": [
       "'http://guide.berkeley.edu/courses/aerospc/'"
      ]
     },
     "execution_count": 13,
     "metadata": {},
     "output_type": "execute_result"
    }
   ],
   "source": [
    "data2[0].find_element_by_tag_name('a').get_attribute('href')"
   ]
  },
  {
   "cell_type": "markdown",
   "metadata": {},
   "source": [
    "# Full Code"
   ]
  },
  {
   "cell_type": "code",
   "execution_count": 14,
   "metadata": {},
   "outputs": [
    {
     "name": "stderr",
     "output_type": "stream",
     "text": [
      "C:\\ProgramData\\Anaconda3\\lib\\site-packages\\ipykernel_launcher.py:10: DeprecationWarning: use options instead of chrome_options\n",
      "  # Remove the CWD from sys.path while we load stuff.\n"
     ]
    },
    {
     "name": "stdout",
     "output_type": "stream",
     "text": [
      "Aerospace Studies (AEROSPC) http://guide.berkeley.edu/courses/aerospc/\n",
      "African American Studies (AFRICAM) http://guide.berkeley.edu/courses/africam/\n",
      "Agricultural and Resource Economics (A,RESEC) http://guide.berkeley.edu/courses/a,resec/\n",
      "American Studies (AMERSTD) http://guide.berkeley.edu/courses/amerstd/\n",
      "Ancient History and Mediterranean Archaeology (AHMA) http://guide.berkeley.edu/courses/ahma/\n",
      "Anthropology (ANTHRO) http://guide.berkeley.edu/courses/anthro/\n",
      "Applied Science and Technology (AST) http://guide.berkeley.edu/courses/ast/\n",
      "Arabic (ARABIC) http://guide.berkeley.edu/courses/arabic/\n",
      "Architecture (ARCH) http://guide.berkeley.edu/courses/arch/\n",
      "Armenian (ARMENI) http://guide.berkeley.edu/courses/armeni/\n",
      "Art, History of (HISTART) http://guide.berkeley.edu/courses/histart/\n",
      "Art Practice (ART) http://guide.berkeley.edu/courses/art/\n",
      "Arts and Humanities (HUM) http://guide.berkeley.edu/courses/hum/\n",
      "Asian American Studies (ASAMST) http://guide.berkeley.edu/courses/asamst/\n",
      "Asian Studies (ASIANST) http://guide.berkeley.edu/courses/asianst/\n",
      "Astronomy (ASTRON) http://guide.berkeley.edu/courses/astron/\n",
      "Bengali (BANGLA) http://guide.berkeley.edu/courses/bangla/\n",
      "Bibliography (BIBLIOG) http://guide.berkeley.edu/courses/bibliog/\n",
      "Bioengineering (BIO ENG) http://guide.berkeley.edu/courses/bio_eng/\n",
      "Biology (BIOLOGY) http://guide.berkeley.edu/courses/biology/\n",
      "Biophysics (BIOPHY) http://guide.berkeley.edu/courses/biophy/\n",
      "Bosnian, Croatian, Serbian (BOSCRSR) http://guide.berkeley.edu/courses/boscrsr/\n",
      "Buddhist Studies (BUDDSTD) http://guide.berkeley.edu/courses/buddstd/\n",
      "Bulgarian (BULGARI) http://guide.berkeley.edu/courses/bulgari/\n",
      "Burmese (BURMESE) http://guide.berkeley.edu/courses/burmese/\n",
      "Business Administration, Evening/Weekend Masters (EWMBA) http://guide.berkeley.edu/courses/ewmba/\n",
      "Business Administration, Executive Master (XMBA) http://guide.berkeley.edu/courses/xmba/\n",
      "Business Administration, Master (MBA) http://guide.berkeley.edu/courses/mba/\n",
      "Business Administration, PhD (PHDBA) http://guide.berkeley.edu/courses/phdba/\n",
      "Business Administration, Undergraduate (UGBA) http://guide.berkeley.edu/courses/ugba/\n",
      "Catalan (CATALAN) http://guide.berkeley.edu/courses/catalan/\n",
      "Celtic Studies (CELTIC) http://guide.berkeley.edu/courses/celtic/\n",
      "Chemical & Biomolecular Engineering (CHM ENG) http://guide.berkeley.edu/courses/chm_eng/\n",
      "Chemistry (CHEM) http://guide.berkeley.edu/courses/chem/\n",
      "Chicano Studies (CHICANO) http://guide.berkeley.edu/courses/chicano/\n",
      "Chinese (CHINESE) http://guide.berkeley.edu/courses/chinese/\n",
      "City and Regional Planning (CY PLAN) http://guide.berkeley.edu/courses/cy_plan/\n",
      "Civil and Environmental Engineering (CIV ENG) http://guide.berkeley.edu/courses/civ_eng/\n",
      "Classics (CLASSIC) http://guide.berkeley.edu/courses/classic/\n",
      "Cognitive Science (COG SCI) http://guide.berkeley.edu/courses/cog_sci/\n",
      "College Writing Programs (COLWRIT) http://guide.berkeley.edu/courses/colwrit/\n",
      "Comparative Biochemistry (COMPBIO) http://guide.berkeley.edu/courses/compbio/\n",
      "Comparative Literature (COM LIT) http://guide.berkeley.edu/courses/com_lit/\n",
      "Computational Biology (CMPBIO) http://guide.berkeley.edu/courses/cmpbio/\n",
      "Computer Science (COMPSCI) http://guide.berkeley.edu/courses/compsci/\n",
      "Creative Writing (CRWRIT) http://guide.berkeley.edu/courses/crwrit/\n",
      "Critical Theory Graduate Group (CRIT TH) http://guide.berkeley.edu/courses/crit_th/\n",
      "Cuneiform (CUNEIF) http://guide.berkeley.edu/courses/cuneif/\n",
      "Czech (CZECH) http://guide.berkeley.edu/courses/czech/\n",
      "Danish (DANISH) http://guide.berkeley.edu/courses/danish/\n",
      "Data Science (DATASCI) http://guide.berkeley.edu/courses/datasci/\n",
      "Demography (DEMOG) http://guide.berkeley.edu/courses/demog/\n",
      "Design Innovation (DES INV) http://guide.berkeley.edu/courses/des_inv/\n",
      "Development Engineering (DEV ENG) http://guide.berkeley.edu/courses/dev_eng/\n",
      "Development Practice (DEVP) http://guide.berkeley.edu/courses/devp/\n",
      "Development Studies (DEV STD) http://guide.berkeley.edu/courses/dev_std/\n",
      "Dutch (DUTCH) http://guide.berkeley.edu/courses/dutch/\n",
      "Earth and Planetary Science (EPS) http://guide.berkeley.edu/courses/eps/\n",
      "East Asian Languages and Cultures (EA LANG) http://guide.berkeley.edu/courses/ea_lang/\n",
      "Economics (ECON) http://guide.berkeley.edu/courses/econ/\n",
      "Education (EDUC) http://guide.berkeley.edu/courses/educ/\n",
      "Egyptian (EGYPT) http://guide.berkeley.edu/courses/egypt/\n",
      "Electrical Engineering and Computer Sciences (EECS) http://guide.berkeley.edu/courses/eecs/\n",
      "Electrical Engineering (EL ENG) http://guide.berkeley.edu/courses/el_eng/\n",
      "Energy and Resources Group (ENE,RES) http://guide.berkeley.edu/courses/ene,res/\n",
      "Engineering (ENGIN) http://guide.berkeley.edu/courses/engin/\n",
      "English (ENGLISH) http://guide.berkeley.edu/courses/english/\n",
      "Environmental Design (ENV DES) http://guide.berkeley.edu/courses/env_des/\n",
      "Environmental Economics and Policy (ENVECON) http://guide.berkeley.edu/courses/envecon/\n",
      "Environmental Science, Policy, and Management (ESPM) http://guide.berkeley.edu/courses/espm/\n",
      "Environmental Sciences (ENV SCI) http://guide.berkeley.edu/courses/env_sci/\n",
      "Ethnic Studies (ETH STD) http://guide.berkeley.edu/courses/eth_std/\n",
      "European Studies (EUST) http://guide.berkeley.edu/courses/eust/\n",
      "Filipino (FILIPN) http://guide.berkeley.edu/courses/filipn/\n",
      "Film and Media (FILM) http://guide.berkeley.edu/courses/film/\n",
      "Financial Engineering (MFE) http://guide.berkeley.edu/courses/mfe/\n",
      "Finnish (FINNISH) http://guide.berkeley.edu/courses/finnish/\n",
      "Folklore (FOLKLOR) http://guide.berkeley.edu/courses/folklor/\n",
      "French (FRENCH) http://guide.berkeley.edu/courses/french/\n",
      "Gender and Women's Studies (GWS) http://guide.berkeley.edu/courses/gws/\n",
      "Geography (GEOG) http://guide.berkeley.edu/courses/geog/\n",
      "German (GERMAN) http://guide.berkeley.edu/courses/german/\n",
      "Global Metropolitan Studies (GMS) http://guide.berkeley.edu/courses/gms/\n",
      "Global Poverty and Practice (GPP) http://guide.berkeley.edu/courses/gpp/\n",
      "Global Studies (GLOBAL) http://guide.berkeley.edu/courses/global/\n",
      "Graduate Student Professional Development Program (GSPDP) http://guide.berkeley.edu/courses/gspdp/\n",
      "Greek (GREEK) http://guide.berkeley.edu/courses/greek/\n",
      "Health and Medical Sciences (HMEDSCI) http://guide.berkeley.edu/courses/hmedsci/\n",
      "Hebrew (HEBREW) http://guide.berkeley.edu/courses/hebrew/\n",
      "Hindi (HINDI) http://guide.berkeley.edu/courses/hindi/\n",
      "History (HISTORY) http://guide.berkeley.edu/courses/history/\n",
      "Hungarian (HUNGARI) http://guide.berkeley.edu/courses/hungari/\n",
      "Icelandic (ICELAND) http://guide.berkeley.edu/courses/iceland/\n",
      "Indigenous Languages of Americas (ILA) http://guide.berkeley.edu/courses/ila/\n",
      "Indonesian (INDONES) http://guide.berkeley.edu/courses/indones/\n",
      "Industrial Engineering and Operations Research (IND ENG) http://guide.berkeley.edu/courses/ind_eng/\n",
      "Information and Cybersecurity (CYBER) http://guide.berkeley.edu/courses/cyber/\n",
      "Information (INFO) http://guide.berkeley.edu/courses/info/\n",
      "Integrative Biology (INTEGBI) http://guide.berkeley.edu/courses/integbi/\n",
      "Interdisciplinary Studies Field Major (ISF) http://guide.berkeley.edu/courses/isf/\n",
      "International and Area Studies (IAS) http://guide.berkeley.edu/courses/ias/\n",
      "Iranian (IRANIAN) http://guide.berkeley.edu/courses/iranian/\n",
      "Italian Studies (ITALIAN) http://guide.berkeley.edu/courses/italian/\n",
      "Japanese (JAPAN) http://guide.berkeley.edu/courses/japan/\n",
      "Jewish Studies (JEWISH) http://guide.berkeley.edu/courses/jewish/\n",
      "Journalism (JOURN) http://guide.berkeley.edu/courses/journ/\n",
      "Khmer (KHMER) http://guide.berkeley.edu/courses/khmer/\n",
      "Korean (KOREAN) http://guide.berkeley.edu/courses/korean/\n",
      "Landscape Architecture (LD ARCH) http://guide.berkeley.edu/courses/ld_arch/\n",
      "Language Proficiency Program (LAN PRO) http://guide.berkeley.edu/courses/lan_pro/\n",
      "Latin American Studies (LATAMST) http://guide.berkeley.edu/courses/latamst/\n",
      "Latin (LATIN) http://guide.berkeley.edu/courses/latin/\n",
      "Legal Studies (LEGALST) http://guide.berkeley.edu/courses/legalst/\n",
      "Lesbian Gay Bisexual Transgender Studies (LGBT) http://guide.berkeley.edu/courses/lgbt/\n",
      "Letters and Science (L&S) http://guide.berkeley.edu/courses/l_s/\n",
      "Library and Information Studies (LINFOST) http://guide.berkeley.edu/courses/linfost/\n",
      "Linguistics (LINGUIS) http://guide.berkeley.edu/courses/linguis/\n",
      "Materials Science and Engineering (MAT SCI) http://guide.berkeley.edu/courses/mat_sci/\n",
      "Mathematics (MATH) http://guide.berkeley.edu/courses/math/\n",
      "Mechanical Engineering (MEC ENG) http://guide.berkeley.edu/courses/mec_eng/\n",
      "Media Studies (MEDIAST) http://guide.berkeley.edu/courses/mediast/\n",
      "Medieval Studies (MED ST) http://guide.berkeley.edu/courses/med_st/\n"
     ]
    },
    {
     "name": "stdout",
     "output_type": "stream",
     "text": [
      "Middle Eastern Studies (M E STU) http://guide.berkeley.edu/courses/m_e_stu/\n",
      "Military Affairs (MIL AFF) http://guide.berkeley.edu/courses/mil_aff/\n",
      "Military Science (MIL SCI) http://guide.berkeley.edu/courses/mil_sci/\n",
      "Molecular and Cell Biology (MCELLBI) http://guide.berkeley.edu/courses/mcellbi/\n",
      "Mongolian (MONGOLN) http://guide.berkeley.edu/courses/mongoln/\n",
      "Music (MUSIC) http://guide.berkeley.edu/courses/music/\n",
      "Nanoscale Science and Engineering (NSE) http://guide.berkeley.edu/courses/nse/\n",
      "Native American Studies (NATAMST) http://guide.berkeley.edu/courses/natamst/\n",
      "Natural Resources (NAT RES) http://guide.berkeley.edu/courses/nat_res/\n",
      "Naval Science (NAV SCI) http://guide.berkeley.edu/courses/nav_sci/\n",
      "Near Eastern Studies (NE STUD) http://guide.berkeley.edu/courses/ne_stud/\n",
      "Neuroscience (NEUROSC) http://guide.berkeley.edu/courses/neurosc/\n",
      "New Media (NWMEDIA) http://guide.berkeley.edu/courses/nwmedia/\n",
      "Norwegian (NORWEGN) http://guide.berkeley.edu/courses/norwegn/\n",
      "Nuclear Engineering (NUC ENG) http://guide.berkeley.edu/courses/nuc_eng/\n",
      "Nutritional Sciences and Toxicology (NUSCTX) http://guide.berkeley.edu/courses/nusctx/\n",
      "Optometry (OPTOM) http://guide.berkeley.edu/courses/optom/\n",
      "Peace and Conflict Studies (PACS) http://guide.berkeley.edu/courses/pacs/\n",
      "Persian (PERSIAN) http://guide.berkeley.edu/courses/persian/\n",
      "Philosophy (PHILOS) http://guide.berkeley.edu/courses/philos/\n",
      "Physical Education (PHYS ED) http://guide.berkeley.edu/courses/phys_ed/\n",
      "Physics (PHYSICS) http://guide.berkeley.edu/courses/physics/\n",
      "Plant and Microbial Biology (PLANTBI) http://guide.berkeley.edu/courses/plantbi/\n",
      "Polish (POLISH) http://guide.berkeley.edu/courses/polish/\n",
      "Political Economy (POLECON) http://guide.berkeley.edu/courses/polecon/\n",
      "Political Science (POL SCI) http://guide.berkeley.edu/courses/pol_sci/\n",
      "Portuguese (PORTUG) http://guide.berkeley.edu/courses/portug/\n",
      "Psychology (PSYCH) http://guide.berkeley.edu/courses/psych/\n",
      "Public Affairs (PUB AFF) http://guide.berkeley.edu/courses/pubaff/\n",
      "Public Health (PB HLTH) http://guide.berkeley.edu/courses/pb_hlth/\n",
      "Public Policy (PUB POL) http://guide.berkeley.edu/courses/pub_pol/\n",
      "Punjabi (PUNJABI) http://guide.berkeley.edu/courses/punjabi/\n",
      "Real Estate Development and Design (RDEV) http://guide.berkeley.edu/courses/rdev/\n",
      "Rhetoric (RHETOR) http://guide.berkeley.edu/courses/rhetor/\n",
      "Russian (RUSSIAN) http://guide.berkeley.edu/courses/russian/\n",
      "Sanskrit (SANSKR) http://guide.berkeley.edu/courses/sanskr/\n",
      "Scandinavian (SCANDIN) http://guide.berkeley.edu/courses/scandin/\n",
      "Science and Mathematics Education (SCMATHE) http://guide.berkeley.edu/courses/scmathe/\n",
      "Science and Technology Studies (STS) http://guide.berkeley.edu/courses/sts/\n",
      "Semitics (SEMITIC) http://guide.berkeley.edu/courses/semitic/\n",
      "Slavic Languages and Literatures (SLAVIC) http://guide.berkeley.edu/courses/slavic/\n",
      "Social Welfare (SOC WEL) http://guide.berkeley.edu/courses/soc_wel/\n",
      "Sociology (SOCIOL) http://guide.berkeley.edu/courses/sociol/\n",
      "South and Southeast Asian Studies (SSEASN) http://guide.berkeley.edu/courses/sseasn/\n",
      "South Asian Studies (SASIAN) http://guide.berkeley.edu/courses/sasian/\n",
      "Southeast Asian (SEASIAN) http://guide.berkeley.edu/courses/seasian/\n",
      "Spanish (SPANISH) http://guide.berkeley.edu/courses/spanish/\n",
      "Special Education (EDUCSPE) http://guide.berkeley.edu/courses/educspe/\n",
      "Statistics (STAT) http://guide.berkeley.edu/courses/stat/\n",
      "Swedish (SWEDISH) http://guide.berkeley.edu/courses/swedish/\n",
      "Tamil (TAMIL) http://guide.berkeley.edu/courses/tamil/\n",
      "Telugu (TELUGU) http://guide.berkeley.edu/courses/telugu/\n",
      "Thai (THAI) http://guide.berkeley.edu/courses/thai/\n",
      "Theater, Dance, and Performance Studies (THEATER) http://guide.berkeley.edu/courses/theater/\n",
      "Tibetan (TIBETAN) http://guide.berkeley.edu/courses/tibetan/\n",
      "Turkish (TURKISH) http://guide.berkeley.edu/courses/turkish/\n",
      "Undergraduate Interdisciplinary Studies (UGIS) http://guide.berkeley.edu/courses/ugis/\n",
      "Urdu (URDU) http://guide.berkeley.edu/courses/urdu/\n",
      "Vietnamese (VIETNMS) http://guide.berkeley.edu/courses/vietnms/\n",
      "Vision Science (VIS SCI) http://guide.berkeley.edu/courses/vis_sci/\n",
      "Visual Studies (VIS STD) http://guide.berkeley.edu/courses/vis_std/\n",
      "Yiddish (YIDDISH) http://guide.berkeley.edu/courses/yiddish/\n"
     ]
    }
   ],
   "source": [
    "lis=['Course','URL','University']\n",
    "info=[]\n",
    "info.append(lis)\n",
    "\n",
    "from selenium import webdriver\n",
    "import csv\n",
    "\n",
    "chrome_options = webdriver.ChromeOptions()\n",
    "chrome_options.add_argument('--no-sandbox')\n",
    "driver = webdriver.Chrome(\"C:\\\\Users\\MOHAN KUMAR SAH\\Documents\\My Work\\PakkaIndia\\chromedriver\",chrome_options=chrome_options)\n",
    "\n",
    "driver.get('http://guide.berkeley.edu/courses/')\n",
    "data1=driver.find_elements_by_id('atozindex')\n",
    "data2=data1[0].find_elements_by_tag_name('li')\n",
    "for i in range(len(data2)):\n",
    "    c=data2[i].text\n",
    "    url=data2[i].find_element_by_tag_name('a').get_attribute('href')\n",
    "    \n",
    "    info.append([c,url,'University of California, Berkeley'])\n",
    "    print(c,url)\n",
    "    \n",
    "driver.quit()"
   ]
  },
  {
   "cell_type": "code",
   "execution_count": 15,
   "metadata": {},
   "outputs": [
    {
     "data": {
      "text/plain": [
       "185"
      ]
     },
     "execution_count": 15,
     "metadata": {},
     "output_type": "execute_result"
    }
   ],
   "source": [
    "len(info)"
   ]
  },
  {
   "cell_type": "code",
   "execution_count": 16,
   "metadata": {},
   "outputs": [],
   "source": [
    "with open('University_of_California,_Berkeley.csv','w',encoding=\"utf-8\",newline=\"\") as file:\n",
    "    write=csv.writer(file)\n",
    "    for row in info:\n",
    "        write.writerow(row)"
   ]
  },
  {
   "cell_type": "code",
   "execution_count": null,
   "metadata": {},
   "outputs": [],
   "source": []
  }
 ],
 "metadata": {
  "kernelspec": {
   "display_name": "Python 3",
   "language": "python",
   "name": "python3"
  },
  "language_info": {
   "codemirror_mode": {
    "name": "ipython",
    "version": 3
   },
   "file_extension": ".py",
   "mimetype": "text/x-python",
   "name": "python",
   "nbconvert_exporter": "python",
   "pygments_lexer": "ipython3",
   "version": "3.6.5"
  }
 },
 "nbformat": 4,
 "nbformat_minor": 2
}
