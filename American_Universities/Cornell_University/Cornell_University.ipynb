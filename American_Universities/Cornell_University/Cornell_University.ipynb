{
 "cells": [
  {
   "cell_type": "code",
   "execution_count": 1,
   "metadata": {},
   "outputs": [
    {
     "name": "stderr",
     "output_type": "stream",
     "text": [
      "C:\\ProgramData\\Anaconda3\\lib\\site-packages\\ipykernel_launcher.py:6: DeprecationWarning: use options instead of chrome_options\n",
      "  \n"
     ]
    }
   ],
   "source": [
    "from selenium import webdriver\n",
    "import csv\n",
    "\n",
    "chrome_options = webdriver.ChromeOptions()\n",
    "chrome_options.add_argument('--no-sandbox')\n",
    "driver = webdriver.Chrome(\"C:\\\\Users\\MOHAN KUMAR SAH\\Documents\\My Work\\PakkaIndia\\chromedriver\",chrome_options=chrome_options)"
   ]
  },
  {
   "cell_type": "code",
   "execution_count": 2,
   "metadata": {},
   "outputs": [],
   "source": [
    "driver.get('http://courses.cornell.edu/content.php?catoid=33&navoid=8510')"
   ]
  },
  {
   "cell_type": "code",
   "execution_count": 5,
   "metadata": {},
   "outputs": [
    {
     "data": {
      "text/plain": [
       "[<selenium.webdriver.remote.webelement.WebElement (session=\"b02d28dbdf1d4b27a526eab6a9f23802\", element=\"0.44260383180249785-17\")>,\n",
       " <selenium.webdriver.remote.webelement.WebElement (session=\"b02d28dbdf1d4b27a526eab6a9f23802\", element=\"0.44260383180249785-18\")>,\n",
       " <selenium.webdriver.remote.webelement.WebElement (session=\"b02d28dbdf1d4b27a526eab6a9f23802\", element=\"0.44260383180249785-19\")>,\n",
       " <selenium.webdriver.remote.webelement.WebElement (session=\"b02d28dbdf1d4b27a526eab6a9f23802\", element=\"0.44260383180249785-20\")>,\n",
       " <selenium.webdriver.remote.webelement.WebElement (session=\"b02d28dbdf1d4b27a526eab6a9f23802\", element=\"0.44260383180249785-21\")>,\n",
       " <selenium.webdriver.remote.webelement.WebElement (session=\"b02d28dbdf1d4b27a526eab6a9f23802\", element=\"0.44260383180249785-22\")>,\n",
       " <selenium.webdriver.remote.webelement.WebElement (session=\"b02d28dbdf1d4b27a526eab6a9f23802\", element=\"0.44260383180249785-23\")>,\n",
       " <selenium.webdriver.remote.webelement.WebElement (session=\"b02d28dbdf1d4b27a526eab6a9f23802\", element=\"0.44260383180249785-24\")>,\n",
       " <selenium.webdriver.remote.webelement.WebElement (session=\"b02d28dbdf1d4b27a526eab6a9f23802\", element=\"0.44260383180249785-25\")>,\n",
       " <selenium.webdriver.remote.webelement.WebElement (session=\"b02d28dbdf1d4b27a526eab6a9f23802\", element=\"0.44260383180249785-26\")>,\n",
       " <selenium.webdriver.remote.webelement.WebElement (session=\"b02d28dbdf1d4b27a526eab6a9f23802\", element=\"0.44260383180249785-27\")>,\n",
       " <selenium.webdriver.remote.webelement.WebElement (session=\"b02d28dbdf1d4b27a526eab6a9f23802\", element=\"0.44260383180249785-28\")>,\n",
       " <selenium.webdriver.remote.webelement.WebElement (session=\"b02d28dbdf1d4b27a526eab6a9f23802\", element=\"0.44260383180249785-29\")>,\n",
       " <selenium.webdriver.remote.webelement.WebElement (session=\"b02d28dbdf1d4b27a526eab6a9f23802\", element=\"0.44260383180249785-30\")>,\n",
       " <selenium.webdriver.remote.webelement.WebElement (session=\"b02d28dbdf1d4b27a526eab6a9f23802\", element=\"0.44260383180249785-31\")>,\n",
       " <selenium.webdriver.remote.webelement.WebElement (session=\"b02d28dbdf1d4b27a526eab6a9f23802\", element=\"0.44260383180249785-32\")>]"
      ]
     },
     "execution_count": 5,
     "metadata": {},
     "output_type": "execute_result"
    }
   ],
   "source": [
    "data1=driver.find_elements_by_tag_name('table')\n",
    "data1"
   ]
  },
  {
   "cell_type": "code",
   "execution_count": 6,
   "metadata": {},
   "outputs": [
    {
     "data": {
      "text/plain": [
       "16"
      ]
     },
     "execution_count": 6,
     "metadata": {},
     "output_type": "execute_result"
    }
   ],
   "source": [
    "len(data1)"
   ]
  },
  {
   "cell_type": "code",
   "execution_count": 43,
   "metadata": {},
   "outputs": [
    {
     "data": {
      "text/plain": [
       "37"
      ]
     },
     "execution_count": 43,
     "metadata": {},
     "output_type": "execute_result"
    }
   ],
   "source": [
    "data2=data1[8].find_elements_by_tag_name('a')\n",
    "len(data2)"
   ]
  },
  {
   "cell_type": "code",
   "execution_count": 44,
   "metadata": {},
   "outputs": [
    {
     "data": {
      "text/plain": [
       "'Asian American Studies Program'"
      ]
     },
     "execution_count": 44,
     "metadata": {},
     "output_type": "execute_result"
    }
   ],
   "source": [
    "data2[0].text"
   ]
  },
  {
   "cell_type": "code",
   "execution_count": 28,
   "metadata": {},
   "outputs": [
    {
     "data": {
      "text/plain": [
       "'http://courses.cornell.edu/preview_program.php?catoid=33&poid=16206'"
      ]
     },
     "execution_count": 28,
     "metadata": {},
     "output_type": "execute_result"
    }
   ],
   "source": [
    "data2[0].get_attribute('href')"
   ]
  },
  {
   "cell_type": "markdown",
   "metadata": {},
   "source": [
    "# Full Code"
   ]
  },
  {
   "cell_type": "code",
   "execution_count": 45,
   "metadata": {},
   "outputs": [
    {
     "name": "stderr",
     "output_type": "stream",
     "text": [
      "C:\\ProgramData\\Anaconda3\\lib\\site-packages\\ipykernel_launcher.py:6: DeprecationWarning: use options instead of chrome_options\n",
      "  \n"
     ]
    },
    {
     "name": "stdout",
     "output_type": "stream",
     "text": [
      "Asian American Studies Program http://courses.cornell.edu/preview_program.php?catoid=33&poid=15979\n",
      "Applied Economics and Management http://courses.cornell.edu/preview_program.php?catoid=33&poid=15971\n",
      "Applied and Engineering Physics http://courses.cornell.edu/preview_program.php?catoid=33&poid=15969\n",
      "Agricultural Sciences http://courses.cornell.edu/preview_program.php?catoid=33&poid=15957\n",
      "American Indian and Indigenous Studies http://courses.cornell.edu/preview_program.php?catoid=33&poid=15959\n",
      "Aerospace Studies http://courses.cornell.edu/preview_program.php?catoid=33&poid=15953\n",
      "Akkadian http://courses.cornell.edu/content.php?catoid=33&navoid=8483\n",
      "Agricultural and Life Sciences http://courses.cornell.edu/preview_program.php?catoid=33&poid=15957\n",
      "American Studies http://courses.cornell.edu/preview_program.php?catoid=33&poid=15961\n",
      "Animal Science http://courses.cornell.edu/preview_program.php?catoid=33&poid=15965\n",
      "Anthropology http://courses.cornell.edu/preview_program.php?catoid=33&poid=15967\n",
      "Arabic http://courses.cornell.edu/content.php?catoid=33&navoid=8483\n",
      "Architecture http://courses.cornell.edu/preview_program.php?catoid=33&poid=15975\n",
      "Archaeology http://courses.cornell.edu/preview_program.php?catoid=33&poid=15973\n",
      "Art http://courses.cornell.edu/preview_program.php?catoid=33&poid=15977\n",
      "History of Art http://courses.cornell.edu/preview_program.php?catoid=33&poid=16095\n",
      "Asian Studies http://courses.cornell.edu/preview_program.php?catoid=33&poid=15981\n",
      "Africana Studies and Research Center http://courses.cornell.edu/preview_program.php?catoid=33&poid=15955\n",
      "Astronomy http://courses.cornell.edu/preview_program.php?catoid=33&poid=15983\n",
      "Bosnian, Croatian, Serbian http://courses.cornell.edu/content.php?catoid=33&navoid=8483\n",
      "Biological and Environmental Engineering http://courses.cornell.edu/preview_program.php?catoid=33&poid=15988\n",
      "Bengali http://courses.cornell.edu/content.php?catoid=33&navoid=8483\n",
      "Animal Physiology and Anatomy http://courses.cornell.edu/preview_program.php?catoid=33&poid=16244\n",
      "Ecology and Evolutionary Biology http://courses.cornell.edu/preview_program.php?catoid=33&poid=16060\n",
      "Biology: General Courses http://courses.cornell.edu/preview_program.php?catoid=33&poid=16001\n",
      "Molecular and Cell Biology http://courses.cornell.edu/preview_program.php?catoid=33&poid=16252\n",
      "Microbiology http://courses.cornell.edu/preview_program.php?catoid=33&poid=16155\n",
      "Biomedical Science http://courses.cornell.edu/preview_program.php?catoid=33&poid=16005\n",
      "Neurobiology and Behavior http://courses.cornell.edu/preview_program.php?catoid=33&poid=16169\n",
      "Plant Biology http://courses.cornell.edu/preview_program.php?catoid=33&poid=16188\n",
      "Shoals Marine Laboratory (SML) http://courses.cornell.edu/preview_program.php?catoid=33&poid=16217\n",
      "Biomedical Engineering http://courses.cornell.edu/preview_program.php?catoid=33&poid=16002\n",
      "Baker Program in Real Estate http://courses.cornell.edu/preview_program.php?catoid=33&poid=16196\n",
      "Biology & Society http://courses.cornell.edu/preview_program.php?catoid=33&poid=15998\n",
      "Biometry and Statistics http://courses.cornell.edu/preview_program.php?catoid=33&poid=16006\n",
      "Burmese http://courses.cornell.edu/content.php?catoid=33&navoid=8483\n",
      "China and Asia-Pacific Studies http://courses.cornell.edu/preview_program.php?catoid=33&poid=16016\n",
      "Civil and Environmental Engineering http://courses.cornell.edu/preview_program.php?catoid=33&poid=16020\n",
      "Chemistry and Chemical Biology http://courses.cornell.edu/preview_program.php?catoid=33&poid=16014\n",
      "Chemical and Biomolecular Engineering http://courses.cornell.edu/preview_program.php?catoid=33&poid=16011\n",
      "Chinese http://courses.cornell.edu/content.php?catoid=33&navoid=8483#core_60998\n",
      "Chinese Literature http://courses.cornell.edu/preview_program.php?catoid=33&poid=15982#CHLIT\n",
      "Classics http://courses.cornell.edu/preview_program.php?catoid=33&poid=16023\n",
      "Cognitive Science http://courses.cornell.edu/preview_program.php?catoid=33&poid=16025\n",
      "College Scholar Program http://courses.cornell.edu/preview_program.php?catoid=33&poid=16029\n",
      "Comparative Literature http://courses.cornell.edu/preview_program.php?catoid=33&poid=16033\n",
      "Communication http://courses.cornell.edu/preview_program.php?catoid=33&poid=16031\n",
      "City and Regional Planning http://courses.cornell.edu/preview_program.php?catoid=33&poid=16018\n",
      "Computer Science http://courses.cornell.edu/preview_program.php?catoid=33&poid=16035\n",
      "Czech http://courses.cornell.edu/content.php?catoid=33&navoid=8483\n",
      "Design and Environmental Analysis http://courses.cornell.edu/preview_program.php?catoid=33&poid=16050\n",
      "Development Sociology http://courses.cornell.edu/preview_program.php?catoid=33&poid=16052\n",
      "Dutch http://courses.cornell.edu/content.php?catoid=33&navoid=8483\n",
      "Earth and Atmospheric Sciences http://courses.cornell.edu/preview_program.php?catoid=33&poid=16055\n",
      "Electrical and Computer Engineering http://courses.cornell.edu/preview_program.php?catoid=33&poid=16066\n",
      "Economics http://courses.cornell.edu/preview_program.php?catoid=33&poid=16062\n",
      "Education http://courses.cornell.edu/preview_program.php?catoid=33&poid=16064\n",
      "English Language Support Office http://courses.cornell.edu/preview_program.php?catoid=33&poid=16126\n",
      "English http://courses.cornell.edu/preview_program.php?catoid=33&poid=16074\n",
      "Engineering Communications http://courses.cornell.edu/preview_program.php?catoid=33&poid=16069\n",
      "Engineering Distribution http://courses.cornell.edu/preview_program.php?catoid=33&poid=16069\n",
      "Engineering General Interest http://courses.cornell.edu/preview_program.php?catoid=33&poid=16069\n",
      "Engineering Introduction http://courses.cornell.edu/preview_program.php?catoid=33&poid=16069\n",
      "Engineering Management http://courses.cornell.edu/preview_program.php?catoid=33&poid=16071\n",
      "Entomology http://courses.cornell.edu/preview_program.php?catoid=33&poid=16076\n",
      "Engineering Physics http://courses.cornell.edu/preview_program.php?catoid=33&poid=15969\n",
      "Environmental and Sustainability Sciences http://courses.cornell.edu/preview_program.php?catoid=33&poid=16293\n",
      "Food Science http://courses.cornell.edu/preview_program.php?catoid=33&poid=16085\n",
      "Feminist, Gender, & Sexuality Studies http://courses.cornell.edu/preview_program.php?catoid=33&poid=16081\n",
      "Fine Arts http://courses.cornell.edu/preview_program.php?catoid=33&poid=15977\n",
      "French http://courses.cornell.edu/content.php?catoid=33&navoid=8483\n",
      "Fiber Science & Apparel Design http://courses.cornell.edu/preview_program.php?catoid=33&poid=16289\n",
      "German Studies http://courses.cornell.edu/preview_program.php?catoid=33&poid=16089\n",
      "Government http://courses.cornell.edu/preview_program.php?catoid=33&poid=16091\n",
      "Graduate School http://courses.cornell.edu/preview_entity.php?catoid=33&ent_oid=8397\n",
      "Greek http://courses.cornell.edu/content.php?catoid=33&navoid=8483\n",
      "Hotel Administration http://courses.cornell.edu/content.php?catoid=33&navoid=8434\n",
      "Human Development http://courses.cornell.edu/preview_program.php?catoid=33&poid=16102\n",
      "Human Ecology http://courses.cornell.edu/preview_program.php?catoid=33&poid=16105\n",
      "Hebrew http://courses.cornell.edu/content.php?catoid=33&navoid=8483\n",
      "Hieroglyphic Egyptian http://courses.cornell.edu/content.php?catoid=33&navoid=8483\n",
      "Hindi http://courses.cornell.edu/content.php?catoid=33&navoid=8483\n",
      "History http://courses.cornell.edu/preview_program.php?catoid=33&poid=16094\n",
      "Hungarian http://courses.cornell.edu/content.php?catoid=33&navoid=8483\n",
      "International Agriculture and Rural Development http://courses.cornell.edu/preview_program.php?catoid=33&poid=16121\n",
      "Human Resource Studies http://courses.cornell.edu/preview_program.php?catoid=33&poid=16106\n",
      "International and Comparative Labor http://courses.cornell.edu/preview_program.php?catoid=33&poid=16123\n",
      "Industrial and Labor Relations Interdepartmental http://courses.cornell.edu/preview_program.php?catoid=33&poid=16118\n",
      "Labor Economics http://courses.cornell.edu/preview_program.php?catoid=33&poid=16128\n",
      "Labor Relations, Law, and History http://courses.cornell.edu/preview_program.php?catoid=33&poid=16130\n",
      "Organizational Behavior http://courses.cornell.edu/preview_program.php?catoid=33&poid=16181\n",
      "Social Statistics http://courses.cornell.edu/preview_program.php?catoid=33&poid=16221\n",
      "Indonesian http://courses.cornell.edu/content.php?catoid=33&navoid=8483\n",
      "Information Science http://courses.cornell.edu/preview_program.php?catoid=33&poid=16112\n",
      "Italian http://courses.cornell.edu/content.php?catoid=33&navoid=8483\n",
      "Japanese http://courses.cornell.edu/content.php?catoid=33&navoid=8483\n"
     ]
    },
    {
     "name": "stdout",
     "output_type": "stream",
     "text": [
      "Judeo-Arabic http://courses.cornell.edu/content.php?catoid=33&navoid=8483\n",
      "Literature in Japanese http://courses.cornell.edu/preview_program.php?catoid=33&poid=15982#core_61005\n",
      "Jewish Studies http://courses.cornell.edu/preview_program.php?catoid=33&poid=16197\n",
      "Kannada http://courses.cornell.edu/content.php?catoid=33&navoid=8483\n",
      "Khmer (Cambodian) http://courses.cornell.edu/content.php?catoid=33&navoid=8483\n",
      "Korean http://courses.cornell.edu/content.php?catoid=33&navoid=8483#core_61007\n",
      "Korean Literature http://courses.cornell.edu/preview_program.php?catoid=33&poid=15982#core_61008\n",
      "Landscape Architecture http://courses.cornell.edu/preview_program.php?catoid=33&poid=16132\n",
      "Latin American Studies http://courses.cornell.edu/preview_program.php?catoid=33&poid=16134\n",
      "Latin http://courses.cornell.edu/content.php?catoid=33&navoid=8483\n",
      "Law http://courses.cornell.edu/preview_entity.php?catoid=33&ent_oid=8423\n",
      "Lesbian, Gay, Bisexual & Transgender Studies http://courses.cornell.edu/preview_program.php?catoid=33&poid=16140\n",
      "Linguistics http://courses.cornell.edu/preview_program.php?catoid=33&poid=16142\n",
      "Latina/o Studies Program http://courses.cornell.edu/preview_program.php?catoid=33&poid=16136\n",
      "Mechanical and Aerospace Engineering http://courses.cornell.edu/preview_program.php?catoid=33&poid=16219\n",
      "Mathematics http://courses.cornell.edu/preview_program.php?catoid=33&poid=16149\n",
      "Medieval Studies http://courses.cornell.edu/preview_program.php?catoid=33&poid=16153\n",
      "Military Science http://courses.cornell.edu/preview_program.php?catoid=33&poid=16157\n",
      "Materials Science and Engineering http://courses.cornell.edu/preview_program.php?catoid=33&poid=16146\n",
      "Modern Greek http://courses.cornell.edu/preview_program.php?catoid=33&poid=16463\n",
      "Music http://courses.cornell.edu/preview_program.php?catoid=33&poid=16161\n",
      "Naval Science http://courses.cornell.edu/preview_program.php?catoid=33&poid=16165\n",
      "Business Administration http://courses.cornell.edu/preview_entity.php?catoid=33&ent_oid=8418\n",
      "Executive Boardroom Electives http://courses.cornell.edu/preview_entity.php?catoid=33&ent_oid=8418\n",
      "Business Administration Electives EMBA http://courses.cornell.edu/preview_entity.php?catoid=33&ent_oid=8418\n",
      "Business Administration - Cornell Tech http://courses.cornell.edu/preview_program.php?catoid=33&poid=16287\n",
      "Graduate School of Management Common Core http://courses.cornell.edu/preview_entity.php?catoid=33&ent_oid=8418\n",
      "Executive Boardroom Common Core http://courses.cornell.edu/preview_entity.php?catoid=33&ent_oid=8418\n",
      "EMBA Common Core http://courses.cornell.edu/preview_entity.php?catoid=33&ent_oid=8418\n",
      "Common Core - Cornell Tech http://courses.cornell.edu/preview_program.php?catoid=33&poid=16287\n",
      "Nepali http://courses.cornell.edu/content.php?catoid=33&navoid=8483\n",
      "Near Eastern Studies http://courses.cornell.edu/preview_program.php?catoid=33&poid=16167\n",
      "Graduate School of Management, Research and Advanced Studies http://courses.cornell.edu/preview_entity.php?catoid=33&ent_oid=8418\n",
      "Graduate School of Management, Doctoral Seminars http://courses.cornell.edu/preview_entity.php?catoid=33&ent_oid=8418\n",
      "Nutritional Science http://courses.cornell.edu/content.php?catoid=33&navoid=8446\n",
      "Nuclear Science and Engineering http://courses.cornell.edu/preview_program.php?catoid=33&poid=16172\n",
      "Natural Resources http://courses.cornell.edu/preview_program.php?catoid=33&poid=16163\n",
      "Operations Research and Information Engineering http://courses.cornell.edu/preview_program.php?catoid=33&poid=16178\n",
      "Public Administration http://courses.cornell.edu/preview_program.php?catoid=33&poid=16043\n",
      "Pali http://courses.cornell.edu/content.php?catoid=33&navoid=8483\n",
      "Policy Analysis and Management http://courses.cornell.edu/preview_program.php?catoid=33&poid=16194\n",
      "Physical Education http://courses.cornell.edu/preview_program.php?catoid=33&poid=15985\n",
      "Persian/Farsi http://courses.cornell.edu/content.php?catoid=33&navoid=8483\n",
      "Philosophy http://courses.cornell.edu/preview_program.php?catoid=33&poid=16183\n",
      "Physics http://courses.cornell.edu/preview_program.php?catoid=33&poid=16185\n",
      "Plant Biology http://courses.cornell.edu/preview_program.php?catoid=33&poid=16296\n",
      "Plant Breeding http://courses.cornell.edu/preview_program.php?catoid=33&poid=16189\n",
      "Horticulture http://courses.cornell.edu/preview_program.php?catoid=33&poid=16098\n",
      "Plant Pathology http://courses.cornell.edu/preview_program.php?catoid=33&poid=16191\n",
      "Plant Science http://courses.cornell.edu/preview_program.php?catoid=33&poid=16193\n",
      "Soil and Crop Sciences http://courses.cornell.edu/preview_program.php?catoid=33&poid=16048\n",
      "Performing and Media Arts http://courses.cornell.edu/preview_program.php?catoid=33&poid=16280\n",
      "Polish http://courses.cornell.edu/content.php?catoid=33&navoid=8483\n",
      "Portuguese http://courses.cornell.edu/content.php?catoid=33&navoid=8483\n",
      "Psychology http://courses.cornell.edu/preview_program.php?catoid=33&poid=16200\n",
      "Religious Studies http://courses.cornell.edu/preview_program.php?catoid=33&poid=16202\n",
      "Romanian http://courses.cornell.edu/content.php?catoid=33&navoid=8483\n",
      "Romance Studies http://courses.cornell.edu/preview_program.php?catoid=33&poid=16206\n",
      "Russian http://courses.cornell.edu/content.php?catoid=33&navoid=8483\n",
      "Literature in Russian http://courses.cornell.edu/preview_program.php?catoid=33&poid=16034#core_62988\n",
      "Sanskrit http://courses.cornell.edu/content.php?catoid=33&navoid=8483\n",
      "Sea Education Association http://courses.cornell.edu/preview_program.php?catoid=33&poid=16214\n",
      "Society for the Humanities http://courses.cornell.edu/preview_program.php?catoid=33&poid=16223\n",
      "Sinhala http://courses.cornell.edu/content.php?catoid=33&navoid=8483\n",
      "Literature in Sanskrit http://courses.cornell.edu/preview_program.php?catoid=33&poid=15982#core_61014\n",
      "Sociology http://courses.cornell.edu/preview_program.php?catoid=33&poid=16225\n",
      "Spanish http://courses.cornell.edu/content.php?catoid=33&navoid=8483\n",
      "Science & Technology Studies http://courses.cornell.edu/preview_program.php?catoid=33&poid=16209\n",
      "Statistical Science http://courses.cornell.edu/preview_program.php?catoid=33&poid=16231\n",
      "Sumerian http://courses.cornell.edu/content.php?catoid=33&navoid=8483\n",
      "Swahili http://courses.cornell.edu/content.php?catoid=33&navoid=8483\n",
      "Systems Engineering, M.Eng. http://courses.cornell.edu/preview_program.php?catoid=33&poid=16275\n",
      "Tagalog http://courses.cornell.edu/content.php?catoid=33&navoid=8483\n",
      "Thai http://courses.cornell.edu/content.php?catoid=33&navoid=8483\n",
      "Tibetan http://courses.cornell.edu/content.php?catoid=33&navoid=8483\n",
      "Toxicology http://courses.cornell.edu/preview_program.php?catoid=33&poid=16078\n",
      "Turkish http://courses.cornell.edu/content.php?catoid=33&navoid=8483\n",
      "Ugaritic http://courses.cornell.edu/content.php?catoid=33&navoid=8483\n",
      "Ukrainian http://courses.cornell.edu/content.php?catoid=33&navoid=8483\n",
      "Urdu http://courses.cornell.edu/content.php?catoid=33&navoid=8483\n",
      "Veterinary Clinical Sciences http://courses.cornell.edu/preview_program.php?catoid=33&poid=16238#clinicalsciences\n",
      "Veterinary Microbiology and Immunology http://courses.cornell.edu/preview_program.php?catoid=33&poid=16238#microbiologyandimmunology\n",
      "Veterinary Molecular Medicine http://courses.cornell.edu/preview_program.php?catoid=33&poid=16238#molecularmedicine\n",
      "Viticulture and Enology http://courses.cornell.edu/preview_program.php?catoid=33&poid=16241\n",
      "Vietnamese http://courses.cornell.edu/content.php?catoid=33&navoid=8483\n",
      "Visual Studies http://courses.cornell.edu/preview_program.php?catoid=33&poid=16239\n",
      "Veterinary Biomedical Science http://courses.cornell.edu/preview_program.php?catoid=33&poid=16238#biomedicalsciences\n",
      "Literature in Vietnamese http://courses.cornell.edu/preview_program.php?catoid=33&poid=15982#core_61020\n",
      "Veterinary Medicine Interdisciplinary http://courses.cornell.edu/preview_program.php?catoid=33&poid=16238\n",
      "Veterinary Population Medicine and Diagnostic Sciences http://courses.cornell.edu/preview_program.php?catoid=33&poid=16238#populationmedicineanddiagnosticsciences\n",
      "Wolof http://courses.cornell.edu/content.php?catoid=33&navoid=8483\n",
      "Writing Program http://courses.cornell.edu/preview_program.php?catoid=33&poid=16126\n",
      "Yoruba http://courses.cornell.edu/content.php?catoid=33&navoid=8483\n",
      "Zulu http://courses.cornell.edu/content.php?catoid=33&navoid=8483\n"
     ]
    }
   ],
   "source": [
    "from selenium import webdriver\n",
    "import csv\n",
    "\n",
    "chrome_options = webdriver.ChromeOptions()\n",
    "chrome_options.add_argument('--no-sandbox')\n",
    "driver = webdriver.Chrome(\"C:\\\\Users\\MOHAN KUMAR SAH\\Documents\\My Work\\PakkaIndia\\chromedriver\",chrome_options=chrome_options)\n",
    "\n",
    "lis=['Course','URL','University']\n",
    "info=[]\n",
    "info.append(lis)\n",
    "\n",
    "driver.get('http://courses.cornell.edu/content.php?catoid=33&navoid=8510')\n",
    "data1=driver.find_elements_by_tag_name('table')\n",
    "for i in range(8,14):\n",
    "    data2=data1[i].find_elements_by_tag_name('a')\n",
    "    if(len(data2)!=0):\n",
    "        for j in range(len(data2)):\n",
    "            c=data2[j].text\n",
    "            url=data2[j].get_attribute('href')\n",
    "            \n",
    "            info.append([c,url,'Cornell University'])\n",
    "            print(c,url)\n",
    "            \n",
    "driver.quit()"
   ]
  },
  {
   "cell_type": "code",
   "execution_count": 46,
   "metadata": {},
   "outputs": [
    {
     "data": {
      "text/plain": [
       "191"
      ]
     },
     "execution_count": 46,
     "metadata": {},
     "output_type": "execute_result"
    }
   ],
   "source": [
    "len(info)"
   ]
  },
  {
   "cell_type": "code",
   "execution_count": 47,
   "metadata": {},
   "outputs": [],
   "source": [
    "with open('Cornell_University.csv','w',encoding=\"utf-8\",newline=\"\") as file:\n",
    "    write=csv.writer(file)\n",
    "    for row in info:\n",
    "        write.writerow(row)"
   ]
  },
  {
   "cell_type": "code",
   "execution_count": null,
   "metadata": {},
   "outputs": [],
   "source": []
  }
 ],
 "metadata": {
  "kernelspec": {
   "display_name": "Python 3",
   "language": "python",
   "name": "python3"
  },
  "language_info": {
   "codemirror_mode": {
    "name": "ipython",
    "version": 3
   },
   "file_extension": ".py",
   "mimetype": "text/x-python",
   "name": "python",
   "nbconvert_exporter": "python",
   "pygments_lexer": "ipython3",
   "version": "3.6.5"
  }
 },
 "nbformat": 4,
 "nbformat_minor": 2
}
