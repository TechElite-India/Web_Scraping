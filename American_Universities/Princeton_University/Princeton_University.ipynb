{
 "cells": [
  {
   "cell_type": "code",
   "execution_count": 1,
   "metadata": {},
   "outputs": [
    {
     "name": "stderr",
     "output_type": "stream",
     "text": [
      "C:\\ProgramData\\Anaconda3\\lib\\site-packages\\ipykernel_launcher.py:6: DeprecationWarning: use options instead of chrome_options\n",
      "  \n"
     ]
    }
   ],
   "source": [
    "from selenium import webdriver\n",
    "import csv\n",
    "\n",
    "chrome_options = webdriver.ChromeOptions()\n",
    "chrome_options.add_argument('--no-sandbox')\n",
    "driver = webdriver.Chrome(\"C:\\\\Users\\MOHAN KUMAR SAH\\Documents\\My Work\\PakkaIndia\\chromedriver\",chrome_options=chrome_options)"
   ]
  },
  {
   "cell_type": "code",
   "execution_count": 33,
   "metadata": {},
   "outputs": [],
   "source": [
    "driver.get('https://www.princeton.edu/academics/areas-of-study')"
   ]
  },
  {
   "cell_type": "code",
   "execution_count": 35,
   "metadata": {},
   "outputs": [
    {
     "data": {
      "text/plain": [
       "99"
      ]
     },
     "execution_count": 35,
     "metadata": {},
     "output_type": "execute_result"
    }
   ],
   "source": [
    "data=driver.find_elements_by_css_selector('div.body.columns.small-12.large-6')\n",
    "len(data)"
   ]
  },
  {
   "cell_type": "code",
   "execution_count": 42,
   "metadata": {},
   "outputs": [
    {
     "data": {
      "text/plain": [
       "1"
      ]
     },
     "execution_count": 42,
     "metadata": {},
     "output_type": "execute_result"
    }
   ],
   "source": [
    "data1=data[0].find_elements_by_class_name('button')\n",
    "len(data1)"
   ]
  },
  {
   "cell_type": "code",
   "execution_count": 43,
   "metadata": {},
   "outputs": [
    {
     "data": {
      "text/plain": [
       "'https://www.princeton.edu/academics/area-of-study/african-american-studies'"
      ]
     },
     "execution_count": 43,
     "metadata": {},
     "output_type": "execute_result"
    }
   ],
   "source": [
    "data1[0].get_attribute('href')"
   ]
  },
  {
   "cell_type": "code",
   "execution_count": 8,
   "metadata": {},
   "outputs": [
    {
     "data": {
      "text/plain": [
       "99"
      ]
     },
     "execution_count": 8,
     "metadata": {},
     "output_type": "execute_result"
    }
   ],
   "source": [
    "data2=driver.find_elements_by_class_name('accordion-title')\n",
    "len(data2)"
   ]
  },
  {
   "cell_type": "code",
   "execution_count": 17,
   "metadata": {},
   "outputs": [
    {
     "data": {
      "text/plain": [
       "'African American Studies'"
      ]
     },
     "execution_count": 17,
     "metadata": {},
     "output_type": "execute_result"
    }
   ],
   "source": [
    "data2[0].text"
   ]
  },
  {
   "cell_type": "markdown",
   "metadata": {},
   "source": [
    "# Fill Code"
   ]
  },
  {
   "cell_type": "code",
   "execution_count": 48,
   "metadata": {},
   "outputs": [
    {
     "name": "stderr",
     "output_type": "stream",
     "text": [
      "C:\\ProgramData\\Anaconda3\\lib\\site-packages\\ipykernel_launcher.py:10: DeprecationWarning: use options instead of chrome_options\n",
      "  # Remove the CWD from sys.path while we load stuff.\n"
     ]
    },
    {
     "name": "stdout",
     "output_type": "stream",
     "text": [
      "African American Studies https://www.princeton.edu/academics/area-of-study/african-american-studies\n",
      "African Studies https://www.princeton.edu/academics/area-of-study/african-studies\n",
      "American Studies https://www.princeton.edu/academics/area-of-study/american-studies\n",
      "Anthropology https://www.princeton.edu/academics/area-of-study/anthropology\n",
      "Applied and Computational Mathematics https://www.princeton.edu/academics/area-of-study/applied-and-computational-mathematics\n",
      "Architecture https://www.princeton.edu/academics/area-of-study/architecture\n",
      "Art and Archaeology https://www.princeton.edu/academics/area-of-study/art-and-archaeology\n",
      "Asian American Studies https://www.princeton.edu/academics/area-of-study/asian-american-studies\n",
      "Astrophysical Sciences https://www.princeton.edu/academics/area-of-study/astrophysical-sciences\n",
      "Atmospheric and Oceanic Sciences https://www.princeton.edu/academics/area-of-study/atmospheric-and-oceanic-sciences\n",
      "Chemical and Biological Engineering https://www.princeton.edu/academics/area-of-study/chemical-and-biological-engineering\n",
      "Chemistry https://www.princeton.edu/academics/area-of-study/chemistry\n",
      "Civil and Environmental Engineering https://www.princeton.edu/academics/area-of-study/civil-and-environmental-engineering\n",
      "Classics https://www.princeton.edu/academics/area-of-study/classics\n",
      "Cognitive Science https://www.princeton.edu/academics/area-of-study/cognitive-science\n",
      "Comparative Literature https://www.princeton.edu/academics/area-of-study/comparative-literature\n",
      "Computer Science https://www.princeton.edu/academics/area-of-study/computer-science\n",
      "Contemporary European Politics and Society https://www.princeton.edu/academics/area-of-study/contemporary-european-politics-and-society\n",
      "Creative Writing https://www.princeton.edu/academics/area-of-study/creative-writing\n",
      "Dance https://www.princeton.edu/academics/area-of-study/dance\n",
      "East Asian Studies https://www.princeton.edu/academics/area-of-study/east-asian-studies\n",
      "Ecology and Evolutionary Biology https://www.princeton.edu/academics/area-of-study/ecology-and-evolutionary-biology\n",
      "Economics https://www.princeton.edu/academics/area-of-study/economics\n",
      "Electrical Engineering https://www.princeton.edu/academics/area-of-study/electrical-engineering\n",
      "English https://www.princeton.edu/academics/area-of-study/english\n",
      "Entrepreneurship https://www.princeton.edu/academics/area-of-study/entrepreneurship\n",
      "Environmental Studies https://www.princeton.edu/academics/area-of-study/environmental-studies\n",
      "European Cultural Studies https://www.princeton.edu/academics/area-of-study/european-cultural-studies\n",
      "Finance https://www.princeton.edu/academics/area-of-study/finance\n",
      "French and Italian https://www.princeton.edu/academics/area-of-study/french-and-italian\n",
      "Gender and Sexuality Studies https://www.princeton.edu/academics/area-of-study/gender-and-sexuality-studies\n",
      "Geosciences https://www.princeton.edu/academics/area-of-study/geosciences\n",
      "German https://www.princeton.edu/academics/area-of-study/german\n",
      "Global Health and Health Policy https://www.princeton.edu/academics/area-of-study/global-health-and-health-policy\n",
      "Hellenic Studies https://www.princeton.edu/academics/area-of-study/hellenic-studies\n",
      "History https://www.princeton.edu/academics/area-of-study/history\n",
      "History of Science https://www.princeton.edu/academics/area-of-study/history-of-science\n",
      "Humanistic Studies https://www.princeton.edu/academics/area-of-study/humanistic-studies\n",
      "Journalism https://www.princeton.edu/academics/area-of-study/journalism\n",
      "Judaic Studies https://www.princeton.edu/academics/area-of-study/judaic-studies\n",
      "Latin American Studies https://www.princeton.edu/academics/area-of-study/latin-american-studies\n",
      "Latino Studies https://www.princeton.edu/academics/area-of-study/latino-studies\n",
      "Linguistics https://www.princeton.edu/academics/area-of-study/linguistics\n",
      "Materials Science and Engineering https://www.princeton.edu/academics/area-of-study/materials-science-and-engineering\n",
      "Mathematics https://www.princeton.edu/academics/area-of-study/mathematics\n",
      "Mechanical and Aerospace Engineering https://www.princeton.edu/academics/area-of-study/mechanical-and-aerospace-engineering\n",
      "Media and Modernity https://www.princeton.edu/academics/area-of-study/media-and-modernity\n",
      "Medieval Studies https://www.princeton.edu/academics/area-of-study/medieval-studies\n",
      "Molecular Biology https://www.princeton.edu/academics/area-of-study/molecular-biology\n",
      "Music https://www.princeton.edu/academics/area-of-study/music\n",
      "Music Theater https://www.princeton.edu/academics/area-of-study/music-theater\n",
      "Near Eastern Studies https://www.princeton.edu/academics/area-of-study/near-eastern-studies\n",
      "Neuroscience https://www.princeton.edu/academics/area-of-study/neuroscience\n",
      "Operations Research and Financial Engineering https://www.princeton.edu/academics/area-of-study/operations-research-and-financial-engineering\n",
      "Philosophy https://www.princeton.edu/academics/area-of-study/philosophy\n",
      "Physics https://www.princeton.edu/academics/area-of-study/physics\n",
      "Politics https://www.princeton.edu/academics/area-of-study/politics\n",
      "Population Studies https://www.princeton.edu/academics/area-of-study/population-studies\n",
      "Psychology https://www.princeton.edu/academics/area-of-study/psychology\n",
      "Public Policy (Woodrow Wilson School) https://www.princeton.edu/academics/area-of-study/public-policy-%28woodrow-wilson-school%29\n",
      "Quantitative and Computational Biology https://www.princeton.edu/academics/area-of-study/quantitative-and-computational-biology\n",
      "Religion https://www.princeton.edu/academics/area-of-study/religion\n",
      "Russian, East European and Eurasian Studies https://www.princeton.edu/academics/area-of-study/russian%2C-east-european-and-eurasian-studies\n",
      "Slavic Languages and Literatures https://www.princeton.edu/academics/area-of-study/slavic-languages-and-literatures\n",
      "Sociology https://www.princeton.edu/academics/area-of-study/sociology\n",
      "South Asian Studies https://www.princeton.edu/academics/area-of-study/south-asian-studies\n",
      "Spanish and Portuguese https://www.princeton.edu/academics/area-of-study/spanish-and-portuguese\n",
      "Statistics and Machine Learning https://www.princeton.edu/academics/area-of-study/statistics-and-machine-learning\n",
      "Teacher Preparation https://www.princeton.edu/academics/area-of-study/teacher-preparation\n",
      "Theater https://www.princeton.edu/academics/area-of-study/theater\n",
      "Translation and Intercultural Communication https://www.princeton.edu/academics/area-of-study/translation-and-intercultural-communication\n",
      "Urban Studies https://www.princeton.edu/academics/area-of-study/urban-studies\n",
      "Visual Arts https://www.princeton.edu/academics/area-of-study/visual-arts\n"
     ]
    }
   ],
   "source": [
    "lis=['Course','URL','University']\n",
    "info=[]\n",
    "info.append(lis)\n",
    "\n",
    "from selenium import webdriver\n",
    "import csv\n",
    "\n",
    "chrome_options = webdriver.ChromeOptions()\n",
    "chrome_options.add_argument('--no-sandbox')\n",
    "driver = webdriver.Chrome(\"C:\\\\Users\\MOHAN KUMAR SAH\\Documents\\My Work\\PakkaIndia\\chromedriver\",chrome_options=chrome_options)\n",
    "\n",
    "driver.get('https://www.princeton.edu/academics/areas-of-study')\n",
    "data=driver.find_elements_by_css_selector('div.body.columns.small-12.large-6')\n",
    "data2=driver.find_elements_by_class_name('accordion-title')\n",
    "for i in range(99):\n",
    "    data1=data[i].find_elements_by_class_name('button')\n",
    "    if(len(data1)!=0):\n",
    "        url=data1[0].get_attribute('href')\n",
    "        c=data2[i].text\n",
    "        \n",
    "        info.append([c,url,'Princeton University'])\n",
    "        print(c,url)\n",
    "\n",
    "driver.quit()"
   ]
  },
  {
   "cell_type": "code",
   "execution_count": 49,
   "metadata": {},
   "outputs": [
    {
     "data": {
      "text/plain": [
       "74"
      ]
     },
     "execution_count": 49,
     "metadata": {},
     "output_type": "execute_result"
    }
   ],
   "source": [
    "len(info)"
   ]
  },
  {
   "cell_type": "code",
   "execution_count": 51,
   "metadata": {},
   "outputs": [],
   "source": [
    "with open('Princeton_University.csv','w',encoding=\"utf-8\",newline=\"\") as file:\n",
    "    write=csv.writer(file)\n",
    "    for row in info:\n",
    "        write.writerow(row)"
   ]
  },
  {
   "cell_type": "code",
   "execution_count": null,
   "metadata": {},
   "outputs": [],
   "source": []
  }
 ],
 "metadata": {
  "kernelspec": {
   "display_name": "Python 3",
   "language": "python",
   "name": "python3"
  },
  "language_info": {
   "codemirror_mode": {
    "name": "ipython",
    "version": 3
   },
   "file_extension": ".py",
   "mimetype": "text/x-python",
   "name": "python",
   "nbconvert_exporter": "python",
   "pygments_lexer": "ipython3",
   "version": "3.6.5"
  }
 },
 "nbformat": 4,
 "nbformat_minor": 2
}
