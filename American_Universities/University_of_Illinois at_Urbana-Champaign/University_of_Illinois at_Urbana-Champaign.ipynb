{
 "cells": [
  {
   "cell_type": "code",
   "execution_count": 1,
   "metadata": {},
   "outputs": [
    {
     "name": "stderr",
     "output_type": "stream",
     "text": [
      "C:\\ProgramData\\Anaconda3\\lib\\site-packages\\ipykernel_launcher.py:6: DeprecationWarning: use options instead of chrome_options\n",
      "  \n"
     ]
    }
   ],
   "source": [
    "from selenium import webdriver\n",
    "import csv\n",
    "\n",
    "chrome_options = webdriver.ChromeOptions()\n",
    "chrome_options.add_argument('--no-sandbox')\n",
    "driver = webdriver.Chrome(\"C:\\\\Users\\MOHAN KUMAR SAH\\Documents\\My Work\\PakkaIndia\\chromedriver\",chrome_options=chrome_options)"
   ]
  },
  {
   "cell_type": "code",
   "execution_count": 2,
   "metadata": {},
   "outputs": [],
   "source": [
    "driver.get('http://catalog.illinois.edu/courses-of-instruction/')"
   ]
  },
  {
   "cell_type": "code",
   "execution_count": 3,
   "metadata": {},
   "outputs": [
    {
     "data": {
      "text/plain": [
       "[<selenium.webdriver.remote.webelement.WebElement (session=\"6aa442fa637458dfd20f98bf7e590266\", element=\"0.9817236968918186-1\")>]"
      ]
     },
     "execution_count": 3,
     "metadata": {},
     "output_type": "execute_result"
    }
   ],
   "source": [
    "data1=driver.find_elements_by_id('atozindex')\n",
    "data1"
   ]
  },
  {
   "cell_type": "code",
   "execution_count": 4,
   "metadata": {},
   "outputs": [
    {
     "data": {
      "text/plain": [
       "23"
      ]
     },
     "execution_count": 4,
     "metadata": {},
     "output_type": "execute_result"
    }
   ],
   "source": [
    "data2=data1[0].find_elements_by_tag_name('ul')\n",
    "len(data2)"
   ]
  },
  {
   "cell_type": "code",
   "execution_count": 5,
   "metadata": {},
   "outputs": [
    {
     "data": {
      "text/plain": [
       "28"
      ]
     },
     "execution_count": 5,
     "metadata": {},
     "output_type": "execute_result"
    }
   ],
   "source": [
    "data3=data2[0].find_elements_by_tag_name('a')\n",
    "len(data3)"
   ]
  },
  {
   "cell_type": "code",
   "execution_count": 6,
   "metadata": {},
   "outputs": [
    {
     "data": {
      "text/plain": [
       "'Accountancy (ACCY)'"
      ]
     },
     "execution_count": 6,
     "metadata": {},
     "output_type": "execute_result"
    }
   ],
   "source": [
    "data3[0].text"
   ]
  },
  {
   "cell_type": "code",
   "execution_count": 7,
   "metadata": {},
   "outputs": [
    {
     "data": {
      "text/plain": [
       "'http://catalog.illinois.edu/courses-of-instruction/accy/'"
      ]
     },
     "execution_count": 7,
     "metadata": {},
     "output_type": "execute_result"
    }
   ],
   "source": [
    "data3[0].get_attribute('href')"
   ]
  },
  {
   "cell_type": "markdown",
   "metadata": {},
   "source": [
    "# Full Code"
   ]
  },
  {
   "cell_type": "code",
   "execution_count": 10,
   "metadata": {},
   "outputs": [
    {
     "name": "stderr",
     "output_type": "stream",
     "text": [
      "C:\\ProgramData\\Anaconda3\\lib\\site-packages\\ipykernel_launcher.py:6: DeprecationWarning: use options instead of chrome_options\n",
      "  \n"
     ]
    },
    {
     "name": "stdout",
     "output_type": "stream",
     "text": [
      "Accountancy (ACCY) http://catalog.illinois.edu/courses-of-instruction/accy/\n",
      "Actuarial Science & Risk Management (ASRM) http://catalog.illinois.edu/courses-of-instruction/asrm/\n",
      "Advertising (ADV) http://catalog.illinois.edu/courses-of-instruction/adv/\n",
      "Aerospace Engineering (AE) http://catalog.illinois.edu/courses-of-instruction/ae/\n",
      "African American Studies (AFRO) http://catalog.illinois.edu/courses-of-instruction/afro/\n",
      "African Studies (AFST) http://catalog.illinois.edu/courses-of-instruction/afst/\n",
      "Agr & Consumer Economics (ACE) http://catalog.illinois.edu/courses-of-instruction/ace/\n",
      "Agr, Consumer, & Env Sciences (ACES) http://catalog.illinois.edu/courses-of-instruction/aces/\n",
      "Agricultural and Biological Eng (ABE) http://catalog.illinois.edu/courses-of-instruction/abe/\n",
      "Agricultural Communications (AGCM) http://catalog.illinois.edu/courses-of-instruction/agcm/\n",
      "Agricultural Education (AGED) http://catalog.illinois.edu/courses-of-instruction/aged/\n",
      "Air Force Aerospace Studies (AFAS) http://catalog.illinois.edu/courses-of-instruction/afas/\n",
      "American Indian Studies (AIS) http://catalog.illinois.edu/courses-of-instruction/ais/\n",
      "Animal Sciences (ANSC) http://catalog.illinois.edu/courses-of-instruction/ansc/\n",
      "Anthropology (ANTH) http://catalog.illinois.edu/courses-of-instruction/anth/\n",
      "Applied Health Sci Courses (AHS) http://catalog.illinois.edu/courses-of-instruction/ahs/\n",
      "Arabic (ARAB) http://catalog.illinois.edu/courses-of-instruction/arab/\n",
      "Architecture (ARCH) http://catalog.illinois.edu/courses-of-instruction/arch/\n",
      "Art (ART) http://catalog.illinois.edu/courses-of-instruction/art/\n",
      "Art--Design (ARTD) http://catalog.illinois.edu/courses-of-instruction/artd/\n",
      "Art--Education (ARTE) http://catalog.illinois.edu/courses-of-instruction/arte/\n",
      "Art--Foundation (ARTF) http://catalog.illinois.edu/courses-of-instruction/artf/\n",
      "Art--History (ARTH) http://catalog.illinois.edu/courses-of-instruction/arth/\n",
      "Art--Studio (ARTS) http://catalog.illinois.edu/courses-of-instruction/arts/\n",
      "Asian American Studies (AAS) http://catalog.illinois.edu/courses-of-instruction/aas/\n",
      "Asian Studies (ASST) http://catalog.illinois.edu/courses-of-instruction/asst/\n",
      "Astronomy (ASTR) http://catalog.illinois.edu/courses-of-instruction/astr/\n",
      "Atmospheric Sciences (ATMS) http://catalog.illinois.edu/courses-of-instruction/atms/\n",
      "Bamana (BMNA) http://catalog.illinois.edu/courses-of-instruction/bmna/\n",
      "Basque (BASQ) http://catalog.illinois.edu/courses-of-instruction/basq/\n",
      "Biochemistry (BIOC) http://catalog.illinois.edu/courses-of-instruction/bioc/\n",
      "Bioengineering (BIOE) http://catalog.illinois.edu/courses-of-instruction/bioe/\n",
      "Biology (BIOL) http://catalog.illinois.edu/courses-of-instruction/biol/\n",
      "Biomedical Sciences and Engineering (BSE) http://catalog.illinois.edu/courses-of-instruction/bse/\n",
      "Biophysics (BIOP) http://catalog.illinois.edu/courses-of-instruction/biop/\n",
      "Bosnian-Croatian-Serbian (BCS) http://catalog.illinois.edu/courses-of-instruction/bcs/\n",
      "Brain and Cognitive Science (BCOG) http://catalog.illinois.edu/courses-of-instruction/bcog/\n",
      "Bulgarian (BULG) http://catalog.illinois.edu/courses-of-instruction/bulg/\n",
      "Business Administration (BADM) http://catalog.illinois.edu/courses-of-instruction/badm/\n",
      "Business and Technical Writing (BTW) http://catalog.illinois.edu/courses-of-instruction/btw/\n",
      "Business (BUS) http://catalog.illinois.edu/courses-of-instruction/bus/\n",
      "Campus Honors Program (CHP) http://catalog.illinois.edu/courses-of-instruction/chp/\n",
      "Catalan (CATL) http://catalog.illinois.edu/courses-of-instruction/catl/\n",
      "Cell and Developmental Biology (CDB) http://catalog.illinois.edu/courses-of-instruction/cdb/\n",
      "Center for Advanced Study (CAS) http://catalog.illinois.edu/courses-of-instruction/cas/\n",
      "Chemical and Biomolecular Engr (CHBE) http://catalog.illinois.edu/courses-of-instruction/chbe/\n",
      "Chemistry (CHEM) http://catalog.illinois.edu/courses-of-instruction/chem/\n",
      "Chinese (CHIN) http://catalog.illinois.edu/courses-of-instruction/chin/\n",
      "Civil and Environ Engineering (CEE) http://catalog.illinois.edu/courses-of-instruction/cee/\n",
      "Classical Civilization (CLCV) http://catalog.illinois.edu/courses-of-instruction/clcv/\n",
      "Clinical Sciences and Engineering (CLE) http://catalog.illinois.edu/courses-of-instruction/cle/\n",
      "Committee on Inst Cooperation (CIC) http://catalog.illinois.edu/courses-of-instruction/cic/\n",
      "Communication (CMN) http://catalog.illinois.edu/courses-of-instruction/cmn/\n",
      "Community Health (CHLH) http://catalog.illinois.edu/courses-of-instruction/chlh/\n",
      "Comparative Biosciences (CB) http://catalog.illinois.edu/courses-of-instruction/cb/\n",
      "Comparative & World Literature (CWL) http://catalog.illinois.edu/courses-of-instruction/cwl/\n",
      "Computational Science and Engr (CSE) http://catalog.illinois.edu/courses-of-instruction/cse/\n",
      "Computer Science (CS) http://catalog.illinois.edu/courses-of-instruction/cs/\n",
      "Creative Writing (CW) http://catalog.illinois.edu/courses-of-instruction/cw/\n",
      "Crop Sciences (CPSC) http://catalog.illinois.edu/courses-of-instruction/cpsc/\n",
      "Curriculum and Instruction (CI) http://catalog.illinois.edu/courses-of-instruction/ci/\n",
      "Czech (CZCH) http://catalog.illinois.edu/courses-of-instruction/czch/\n",
      "Dance (DANC) http://catalog.illinois.edu/courses-of-instruction/danc/\n",
      "Earth, Society, & Environment (ESE) http://catalog.illinois.edu/courses-of-instruction/ese/\n",
      "E. Asian Languages & Cultures (EALC) http://catalog.illinois.edu/courses-of-instruction/ealc/\n",
      "Economics (ECON) http://catalog.illinois.edu/courses-of-instruction/econ/\n",
      "Ed Policy, Org & Ldership (EPOL) http://catalog.illinois.edu/courses-of-instruction/epol/\n",
      "Educational Policy Studies (EPS) http://catalog.illinois.edu/courses-of-instruction/eps/\n",
      "Educational Practice (EDPR) http://catalog.illinois.edu/courses-of-instruction/edpr/\n",
      "Educational Psychology (EPSY) http://catalog.illinois.edu/courses-of-instruction/epsy/\n",
      "Education (EDUC) http://catalog.illinois.edu/courses-of-instruction/educ/\n",
      "Educ Organization & Leadership (EOL) http://catalog.illinois.edu/courses-of-instruction/eol/\n",
      "Electrical and Computer Engr (ECE) http://catalog.illinois.edu/courses-of-instruction/ece/\n",
      "Engineering (ENG) http://catalog.illinois.edu/courses-of-instruction/eng/\n",
      "Engineering Honors (ENGH) http://catalog.illinois.edu/courses-of-instruction/engh/\n",
      "English as an Intl Language (EIL) http://catalog.illinois.edu/courses-of-instruction/eil/\n",
      "English as a Second Language (ESL) http://catalog.illinois.edu/courses-of-instruction/esl/\n",
      "English (ENGL) http://catalog.illinois.edu/courses-of-instruction/engl/\n",
      "Entomology (ENT) http://catalog.illinois.edu/courses-of-instruction/ent/\n",
      "Environmental Studies (ENVS) http://catalog.illinois.edu/courses-of-instruction/envs/\n",
      "Environmental Sustainability (ENSU) http://catalog.illinois.edu/courses-of-instruction/ensu/\n",
      "European Union Studies (EURO) http://catalog.illinois.edu/courses-of-instruction/euro/\n",
      "Finance (FIN) http://catalog.illinois.edu/courses-of-instruction/fin/\n",
      "Fine and Applied Arts (FAA) http://catalog.illinois.edu/courses-of-instruction/faa/\n",
      "Food Science & Human Nutrition (FSHN) http://catalog.illinois.edu/courses-of-instruction/fshn/\n",
      "Foreign Language Teacher Education (FLTE) http://catalog.illinois.edu/courses-of-instruction/flte/\n",
      "French (FR) http://catalog.illinois.edu/courses-of-instruction/fr/\n",
      "Gender and Women's Studies (GWS) http://catalog.illinois.edu/courses-of-instruction/gws/\n",
      "General Engineering (GE) -- Changed to Systems Engineering and Design (SE) http://catalog.illinois.edu/courses-of-instruction/ge/\n",
      "General Studies (GS) http://catalog.illinois.edu/courses-of-instruction/gs/\n",
      "Geography (GEOG) http://catalog.illinois.edu/courses-of-instruction/geog/\n",
      "Geology (GEOL) http://catalog.illinois.edu/courses-of-instruction/geol/\n",
      "German (GER) http://catalog.illinois.edu/courses-of-instruction/ger/\n",
      "Germanic (GMC) http://catalog.illinois.edu/courses-of-instruction/gmc/\n",
      "Global Studies (GLBL) http://catalog.illinois.edu/courses-of-instruction/glbl/\n",
      "Graduate College (GC) http://catalog.illinois.edu/courses-of-instruction/gc/\n",
      "Grand Challenge Learning (GCL) http://catalog.illinois.edu/courses-of-instruction/gcl/\n",
      "Greek (GRK) http://catalog.illinois.edu/courses-of-instruction/grk/\n",
      "Hebrew, Modern and Classical (HEBR) http://catalog.illinois.edu/courses-of-instruction/hebr/\n",
      "Hindi (HNDI) http://catalog.illinois.edu/courses-of-instruction/hndi/\n",
      "History (HIST) http://catalog.illinois.edu/courses-of-instruction/hist/\n",
      "Horticulture (HORT) http://catalog.illinois.edu/courses-of-instruction/hort/\n",
      "Human Dev and Family Studies (HDFS) http://catalog.illinois.edu/courses-of-instruction/hdfs/\n",
      "Human Dimensions of Env Sys (HDES) http://catalog.illinois.edu/courses-of-instruction/hdes/\n",
      "Humanities Courses (HUM) http://catalog.illinois.edu/courses-of-instruction/hum/\n",
      "Human Resource Development (HRD) http://catalog.illinois.edu/courses-of-instruction/hrd/\n"
     ]
    },
    {
     "name": "stdout",
     "output_type": "stream",
     "text": [
      "Human Resource Education (HRE) http://catalog.illinois.edu/courses-of-instruction/hre/\n",
      "I-Health (IHLT) http://catalog.illinois.edu/courses-of-instruction/ihlt/\n",
      "Industrial Engineering (IE) http://catalog.illinois.edu/courses-of-instruction/ie/\n",
      "Informatics (INFO) http://catalog.illinois.edu/courses-of-instruction/info/\n",
      "Information Sciences (IS) http://catalog.illinois.edu/courses-of-instruction/is/\n",
      "Integrative Biology (IB) http://catalog.illinois.edu/courses-of-instruction/ib/\n",
      "Italian (ITAL) http://catalog.illinois.edu/courses-of-instruction/ital/\n",
      "Japanese (JAPN) http://catalog.illinois.edu/courses-of-instruction/japn/\n",
      "Jewish Studies (JS) http://catalog.illinois.edu/courses-of-instruction/js/\n",
      "Journalism (JOUR) http://catalog.illinois.edu/courses-of-instruction/jour/\n",
      "Kinesiology (KIN) http://catalog.illinois.edu/courses-of-instruction/kin/\n",
      "Korean (KOR) http://catalog.illinois.edu/courses-of-instruction/kor/\n",
      "Labor and Employment Relations (LER) http://catalog.illinois.edu/courses-of-instruction/ler/\n",
      "Landscape Architecture (LA) http://catalog.illinois.edu/courses-of-instruction/la/\n",
      "Latina/Latino Studies (LLS) http://catalog.illinois.edu/courses-of-instruction/lls/\n",
      "Latin American & Caribbean St (LAST) http://catalog.illinois.edu/courses-of-instruction/last/\n",
      "Latin (LAT) http://catalog.illinois.edu/courses-of-instruction/lat/\n",
      "Law (LAW) http://catalog.illinois.edu/courses-of-instruction/law/\n",
      "Liberal Arts and Sciences (LAS) http://catalog.illinois.edu/courses-of-instruction/las/\n",
      "Library & Information Science (LIS) -- Changed to Information Sciences (IS) http://catalog.illinois.edu/courses-of-instruction/lis/\n",
      "Lingala (LGLA) http://catalog.illinois.edu/courses-of-instruction/lgla/\n",
      "Linguistics (LING) http://catalog.illinois.edu/courses-of-instruction/ling/\n",
      "LiteraturesCulturesLinguistics (SLCL) http://catalog.illinois.edu/courses-of-instruction/slcl/\n",
      "Materials Science & Engr (MSE) http://catalog.illinois.edu/courses-of-instruction/mse/\n",
      "Mathematics (MATH) http://catalog.illinois.edu/courses-of-instruction/math/\n",
      "MBA Program (MBA) http://catalog.illinois.edu/courses-of-instruction/mba/\n",
      "Mechanical Engineering (ME) http://catalog.illinois.edu/courses-of-instruction/me/\n",
      "Media and Cinema Studies (MACS) http://catalog.illinois.edu/courses-of-instruction/macs/\n",
      "Media (MDIA) http://catalog.illinois.edu/courses-of-instruction/mdia/\n",
      "Medical Scholars Program (MSP) http://catalog.illinois.edu/courses-of-instruction/msp/\n",
      "Medieval Studies (MDVL) http://catalog.illinois.edu/courses-of-instruction/mdvl/\n",
      "Microbiology (MICR) http://catalog.illinois.edu/courses-of-instruction/micr/\n",
      "Military Science (MILS) http://catalog.illinois.edu/courses-of-instruction/mils/\n",
      "Modern Greek (GRKM) http://catalog.illinois.edu/courses-of-instruction/grkm/\n",
      "Molecular and Cell Biology (MCB) http://catalog.illinois.edu/courses-of-instruction/mcb/\n",
      "Moleculr & Integrative Physiol (MIP) http://catalog.illinois.edu/courses-of-instruction/mip/\n",
      "Museum Studies (MUSE) http://catalog.illinois.edu/courses-of-instruction/muse/\n",
      "Music (MUS) http://catalog.illinois.edu/courses-of-instruction/mus/\n",
      "Natural Resources & Environ Sc (NRES) http://catalog.illinois.edu/courses-of-instruction/nres/\n",
      "Naval Science (NS) http://catalog.illinois.edu/courses-of-instruction/ns/\n",
      "Neuroscience (NEUR) http://catalog.illinois.edu/courses-of-instruction/neur/\n",
      "Nuclear, Plasma, Radiolg Engr (NPRE) http://catalog.illinois.edu/courses-of-instruction/npre/\n",
      "Nutritional Sciences (NUTR) http://catalog.illinois.edu/courses-of-instruction/nutr/\n",
      "Pathobiology (PATH) http://catalog.illinois.edu/courses-of-instruction/path/\n",
      "Persian (PERS) http://catalog.illinois.edu/courses-of-instruction/pers/\n",
      "Philosophy (PHIL) http://catalog.illinois.edu/courses-of-instruction/phil/\n",
      "Physics (PHYS) http://catalog.illinois.edu/courses-of-instruction/phys/\n",
      "Plant Biology (PBIO) http://catalog.illinois.edu/courses-of-instruction/pbio/\n",
      "Plant Pathology (PLPA) http://catalog.illinois.edu/courses-of-instruction/plpa/\n",
      "Polish (POL) http://catalog.illinois.edu/courses-of-instruction/pol/\n",
      "Political Science (PS) http://catalog.illinois.edu/courses-of-instruction/ps/\n",
      "Portuguese (PORT) http://catalog.illinois.edu/courses-of-instruction/port/\n",
      "Professional Science Master (PSM) http://catalog.illinois.edu/courses-of-instruction/psm/\n",
      "Psychology (PSYC) http://catalog.illinois.edu/courses-of-instruction/psyc/\n",
      "Recreation, Sport, and Tourism (RST) http://catalog.illinois.edu/courses-of-instruction/rst/\n",
      "Rehabilitation Counseling (REHB) http://catalog.illinois.edu/courses-of-instruction/rehb/\n",
      "Religion (REL) http://catalog.illinois.edu/courses-of-instruction/REL/\n",
      "Religious Studies (RLST) -- Changed to Religion (REL) http://catalog.illinois.edu/courses-of-instruction/rlst/\n",
      "Rhetoric and Composition (RHET) http://catalog.illinois.edu/courses-of-instruction/rhet/\n",
      "Romance Linguistics (RMLG) http://catalog.illinois.edu/courses-of-instruction/rmlg/\n",
      "Rural Sociology (RSOC) http://catalog.illinois.edu/courses-of-instruction/rsoc/\n",
      "Russian, East European and Eurasian Studies (REES) http://catalog.illinois.edu/courses-of-instruction/rees/\n",
      "Russian (RUSS) http://catalog.illinois.edu/courses-of-instruction/russ/\n",
      "Sanskrit (SNSK) http://catalog.illinois.edu/courses-of-instruction/snsk/\n",
      "S. Asian & Middle Eastern (SAME) http://catalog.illinois.edu/courses-of-instruction/same/\n",
      "Scandinavian (SCAN) http://catalog.illinois.edu/courses-of-instruction/scan/\n",
      "Second Language Studies (SLS) http://catalog.illinois.edu/courses-of-instruction/sls/\n",
      "Slavic (SLAV) http://catalog.illinois.edu/courses-of-instruction/slav/\n",
      "Social Work (SOCW) http://catalog.illinois.edu/courses-of-instruction/socw/\n",
      "Sociology (SOC) http://catalog.illinois.edu/courses-of-instruction/soc/\n",
      "Spanish (SPAN) http://catalog.illinois.edu/courses-of-instruction/span/\n",
      "Special Education (SPED) http://catalog.illinois.edu/courses-of-instruction/sped/\n",
      "Speech and Hearing Science (SHS) http://catalog.illinois.edu/courses-of-instruction/shs/\n",
      "Statistics (STAT) http://catalog.illinois.edu/courses-of-instruction/stat/\n",
      "Strategic Brand Communication (SBC) http://catalog.illinois.edu/courses-of-instruction/sbc/\n",
      "Swahili (SWAH) http://catalog.illinois.edu/courses-of-instruction/swah/\n",
      "Systems Engineering and Design (SE) http://catalog.illinois.edu/courses-of-instruction/se/\n",
      "Technical Systems Management (TSM) http://catalog.illinois.edu/courses-of-instruction/tsm/\n",
      "Technology and Management (TMGT) http://catalog.illinois.edu/courses-of-instruction/tmgt/\n",
      "Technology Entrepreneurship (TE) http://catalog.illinois.edu/courses-of-instruction/te/\n",
      "Theatre (THEA) http://catalog.illinois.edu/courses-of-instruction/thea/\n",
      "Theoretical and Appl Mechanics (TAM) http://catalog.illinois.edu/courses-of-instruction/tam/\n",
      "Translation Studies (TRST) http://catalog.illinois.edu/courses-of-instruction/trst/\n",
      "Turkish (TURK) http://catalog.illinois.edu/courses-of-instruction/turk/\n",
      "Ukrainian (UKR) http://catalog.illinois.edu/courses-of-instruction/ukr/\n",
      "Urban and Regional Planning (UP) http://catalog.illinois.edu/courses-of-instruction/up/\n",
      "Veterinary Clinical Medicine (VCM) http://catalog.illinois.edu/courses-of-instruction/vcm/\n",
      "Veterinary Medicine Courses (VM) http://catalog.illinois.edu/courses-of-instruction/vm/\n",
      "Wolof (WLOF) http://catalog.illinois.edu/courses-of-instruction/wlof/\n",
      "Women and Gender in Global Perspectives (WGGP) http://catalog.illinois.edu/courses-of-instruction/wggp/\n",
      "Writing Studies (WRIT) http://catalog.illinois.edu/courses-of-instruction/writ/\n",
      "Yiddish (YDSH) http://catalog.illinois.edu/courses-of-instruction/ydsh/\n",
      "Zulu (ZULU) http://catalog.illinois.edu/courses-of-instruction/zulu/\n"
     ]
    }
   ],
   "source": [
    "from selenium import webdriver\n",
    "import csv\n",
    "\n",
    "chrome_options = webdriver.ChromeOptions()\n",
    "chrome_options.add_argument('--no-sandbox')\n",
    "driver = webdriver.Chrome(\"C:\\\\Users\\MOHAN KUMAR SAH\\Documents\\My Work\\PakkaIndia\\chromedriver\",chrome_options=chrome_options)\n",
    "\n",
    "lis=['Course','University','URL']\n",
    "info=[]\n",
    "info.append(lis)\n",
    "\n",
    "driver.get('http://catalog.illinois.edu/courses-of-instruction/')\n",
    "data1=driver.find_elements_by_id('atozindex')\n",
    "data2=data1[0].find_elements_by_tag_name('ul')\n",
    "for i in range(len(data2)):\n",
    "    data3=data2[i].find_elements_by_tag_name('a')\n",
    "    for j in range(len(data3)):\n",
    "        c=data3[j].text\n",
    "        url=data3[j].get_attribute('href')\n",
    "        \n",
    "        info.append([c,'University of Illinois at Urbana-Champaign',url])\n",
    "        print(c,url)\n",
    "        \n",
    "driver.quit()"
   ]
  },
  {
   "cell_type": "code",
   "execution_count": 9,
   "metadata": {},
   "outputs": [
    {
     "data": {
      "text/plain": [
       "200"
      ]
     },
     "execution_count": 9,
     "metadata": {},
     "output_type": "execute_result"
    }
   ],
   "source": [
    "len(info)"
   ]
  },
  {
   "cell_type": "code",
   "execution_count": 11,
   "metadata": {},
   "outputs": [],
   "source": [
    "with open('University_of_Illinois at_Urbana-Champaign.csv','w',encoding=\"utf-8\",newline=\"\") as file:\n",
    "    write=csv.writer(file)\n",
    "    for row in info:\n",
    "        write.writerow(row)"
   ]
  },
  {
   "cell_type": "code",
   "execution_count": null,
   "metadata": {},
   "outputs": [],
   "source": []
  }
 ],
 "metadata": {
  "kernelspec": {
   "display_name": "Python 3",
   "language": "python",
   "name": "python3"
  },
  "language_info": {
   "codemirror_mode": {
    "name": "ipython",
    "version": 3
   },
   "file_extension": ".py",
   "mimetype": "text/x-python",
   "name": "python",
   "nbconvert_exporter": "python",
   "pygments_lexer": "ipython3",
   "version": "3.6.5"
  }
 },
 "nbformat": 4,
 "nbformat_minor": 2
}
