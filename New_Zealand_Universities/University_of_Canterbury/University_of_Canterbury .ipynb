{
 "cells": [
  {
   "cell_type": "code",
   "execution_count": 10,
   "metadata": {},
   "outputs": [
    {
     "data": {
      "text/plain": [
       "[['Professional Master of Engineering Geology',\n",
       "  'https://www.studyinnewzealand.govt.nz/study-options/course/details?courseid=56518876&institutionid=142318&course=Professional-Master-of-Engineering-Geology'],\n",
       " ['Professional Master of Geospatial Science and Technology',\n",
       "  'https://www.studyinnewzealand.govt.nz/study-options/course/details?courseid=57307208&institutionid=142318&course=Professional-Master-of-Geospatial-Science-and-Technology'],\n",
       " ['STAR Programme',\n",
       "  'https://www.studyinnewzealand.govt.nz/study-options/course/details?courseid=57065748&institutionid=142318&course=STAR-Programme']]"
      ]
     },
     "execution_count": 10,
     "metadata": {},
     "output_type": "execute_result"
    }
   ],
   "source": [
    "import requests\n",
    "import bs4\n",
    "import csv\n",
    "\n",
    "list=[]\n",
    "#lis_h=['Course_Name','Link']\n",
    "#list.append(lis_h)\n",
    "\n",
    "for j in range(32):\n",
    "    res1=requests.get('https://www.studyinnewzealand.govt.nz/study-options/course/provider-results?institutionid=142318&pageno='+str(j)) \n",
    "    soup1=bs4.BeautifulSoup(res1.text,'lxml')\n",
    "    s1=soup1.select('h3')\n",
    "    for i in range(len(s1)):\n",
    "        if(s1[i].get('class')==['crs_tit', 'univ_tit']):\n",
    "            list.append([s1[i].a.text,s1[i].a.get('href')])\n",
    "            \n",
    "list"
   ]
  },
  {
   "cell_type": "code",
   "execution_count": 11,
   "metadata": {},
   "outputs": [
    {
     "data": {
      "text/plain": [
       "3"
      ]
     },
     "execution_count": 11,
     "metadata": {},
     "output_type": "execute_result"
    }
   ],
   "source": [
    "len(list)"
   ]
  },
  {
   "cell_type": "code",
   "execution_count": 13,
   "metadata": {},
   "outputs": [],
   "source": [
    "with open('University_of_Canterbury .csv','w',newline=\"\") as file:\n",
    "    write=csv.writer(file)\n",
    "    for row in list:\n",
    "        write.writerow(row)"
   ]
  },
  {
   "cell_type": "code",
   "execution_count": null,
   "metadata": {},
   "outputs": [],
   "source": []
  }
 ],
 "metadata": {
  "kernelspec": {
   "display_name": "Python 3",
   "language": "python",
   "name": "python3"
  },
  "language_info": {
   "codemirror_mode": {
    "name": "ipython",
    "version": 3
   },
   "file_extension": ".py",
   "mimetype": "text/x-python",
   "name": "python",
   "nbconvert_exporter": "python",
   "pygments_lexer": "ipython3",
   "version": "3.6.5"
  }
 },
 "nbformat": 4,
 "nbformat_minor": 2
}
